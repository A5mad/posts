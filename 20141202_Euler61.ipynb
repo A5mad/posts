{
 "metadata": {
  "name": "",
  "signature": "sha256:edd877980750ff9839944fd281ad369a383334137ffaae0808fdff0926198711"
 },
 "nbformat": 3,
 "nbformat_minor": 0,
 "worksheets": [
  {
   "cells": [
    {
     "cell_type": "markdown",
     "metadata": {},
     "source": [
      "We first define the numbers we will use in this notebook:"
     ]
    },
    {
     "cell_type": "code",
     "collapsed": false,
     "input": [
      "def triangular(n):\n",
      "    return n * (n + 1) / 2\n",
      "\n",
      "def square(n):\n",
      "    return n * n\n",
      "\n",
      "def pentagonal(n):\n",
      "    return n * (3 * n - 1) / 2\n",
      "\n",
      "def hexagonal(n):\n",
      "    return n * (2 * n - 1)\n",
      "\n",
      "def heptagonal(n):\n",
      "    return n * (5 * n - 3) / 2\n",
      "\n",
      "def octagonal(n):\n",
      "    return n * (3 * n - 2)"
     ],
     "language": "python",
     "metadata": {},
     "outputs": [],
     "prompt_number": 153
    },
    {
     "cell_type": "code",
     "collapsed": false,
     "input": [
      "from IPython.html.widgets import interact"
     ],
     "language": "python",
     "metadata": {},
     "outputs": [],
     "prompt_number": 154
    },
    {
     "cell_type": "code",
     "collapsed": false,
     "input": [
      "funcs = [triangular, square, pentagonal, hexagonal, heptagonal, octagonal]\n",
      "labels = list(map(lambda f: f.__name__, funcs))"
     ],
     "language": "python",
     "metadata": {},
     "outputs": [],
     "prompt_number": 155
    },
    {
     "cell_type": "code",
     "collapsed": false,
     "input": [
      "labels"
     ],
     "language": "python",
     "metadata": {},
     "outputs": [
      {
       "metadata": {},
       "output_type": "pyout",
       "prompt_number": 156,
       "text": [
        "['triangular', 'square', 'pentagonal', 'hexagonal', 'heptagonal', 'octagonal']"
       ]
      }
     ],
     "prompt_number": 156
    },
    {
     "cell_type": "code",
     "collapsed": false,
     "input": [
      "def eval_func(func_name, n):\n",
      "    func = funcs[labels.index(func_name)]\n",
      "    print(func(n))\n",
      "\n",
      "interact(eval_func, \n",
      "         func_name=labels,\n",
      "         n=(1, 10))"
     ],
     "language": "python",
     "metadata": {},
     "outputs": [
      {
       "output_type": "stream",
       "stream": "stdout",
       "text": [
        "65\n"
       ]
      }
     ],
     "prompt_number": 157
    },
    {
     "cell_type": "markdown",
     "metadata": {},
     "source": [
      "We can also represent the various numbers as geometric figures using the roots of unity."
     ]
    },
    {
     "cell_type": "code",
     "collapsed": false,
     "input": [
      "%matplotlib inline"
     ],
     "language": "python",
     "metadata": {},
     "outputs": [],
     "prompt_number": 29
    },
    {
     "cell_type": "code",
     "collapsed": false,
     "input": [
      "from pylab import linspace, exp, pi, plot, append, axis, xlim, ylim, figure"
     ],
     "language": "python",
     "metadata": {},
     "outputs": [],
     "prompt_number": 55
    },
    {
     "cell_type": "code",
     "collapsed": false,
     "input": [
      "def compute_unity_roots(n, r=1.0):\n",
      "    thetas = linspace(0, 2 * pi, n, endpoint=False) - (pi / 2 - pi / n)\n",
      "    roots = r * exp(1j * thetas)\n",
      "    return roots"
     ],
     "language": "python",
     "metadata": {},
     "outputs": [],
     "prompt_number": 70
    },
    {
     "cell_type": "code",
     "collapsed": false,
     "input": [
      "compute_unity_roots(3)"
     ],
     "language": "python",
     "metadata": {},
     "outputs": [
      {
       "metadata": {},
       "output_type": "pyout",
       "prompt_number": 71,
       "text": [
        "array([  8.66025404e-01-0.5j,   2.83276945e-16+1.j ,  -8.66025404e-01-0.5j])"
       ]
      }
     ],
     "prompt_number": 71
    },
    {
     "cell_type": "code",
     "collapsed": false,
     "input": [
      "z = compute_unity_roots(3)\n",
      "z = append(z, z[0])\n",
      "plot(z.real, z.imag, '-o')\n",
      "axis('equal')"
     ],
     "language": "python",
     "metadata": {},
     "outputs": [
      {
       "metadata": {},
       "output_type": "pyout",
       "prompt_number": 72,
       "text": [
        "(-1.0, 1.0, -0.60000000000000009, 1.2)"
       ]
      },
      {
       "metadata": {},
       "output_type": "display_data",
       "png": "[encoded data removed]",
       "text": [
        "<matplotlib.figure.Figure at 0x10adf91d0>"
       ]
      }
     ],
     "prompt_number": 72
    },
    {
     "cell_type": "code",
     "collapsed": false,
     "input": [
      "def plot_unity_roots(n):\n",
      "    z = compute_unity_roots(n)\n",
      "    z = append(z, z[0])\n",
      "    plot(z.real, z.imag, '-o')\n",
      "    xlim(-1.1, 1.1)\n",
      "    ylim(-1.1, 1.1)"
     ],
     "language": "python",
     "metadata": {},
     "outputs": [],
     "prompt_number": 73
    },
    {
     "cell_type": "code",
     "collapsed": false,
     "input": [
      "interact(plot_unity_roots,\n",
      "         n=(1, 20))"
     ],
     "language": "python",
     "metadata": {},
     "outputs": [
      {
       "metadata": {},
       "output_type": "display_data",
       "png": "[encoded data removed]",
       "text": [
        "<matplotlib.figure.Figure at 0x10b3c9c18>"
       ]
      }
     ],
     "prompt_number": 74
    },
    {
     "cell_type": "markdown",
     "metadata": {},
     "source": [
      "We can now move on to a superposition of polygons:"
     ]
    },
    {
     "cell_type": "code",
     "collapsed": false,
     "input": [
      "def plot_unity_roots_until(n, order):\n",
      "    for o in range(1, order + 1):\n",
      "        z = compute_unity_roots(n, r=o)\n",
      "        if o == 1:\n",
      "            reference_z = z[-1]\n",
      "        else:\n",
      "            z -= (z[-1] - reference_z)\n",
      "        z = append(z, z[0])\n",
      "        \n",
      "        plot(z.real, z.imag, '-o')\n",
      "        axis('equal')\n",
      "        axis('off')"
     ],
     "language": "python",
     "metadata": {},
     "outputs": [],
     "prompt_number": 145
    },
    {
     "cell_type": "code",
     "collapsed": false,
     "input": [
      "plot_unity_roots_until(4, 3)"
     ],
     "language": "python",
     "metadata": {},
     "outputs": [
      {
       "metadata": {},
       "output_type": "display_data",
       "png": "[encoded data removed]",
       "text": [
        "<matplotlib.figure.Figure at 0x10adef0f0>"
       ]
      }
     ],
     "prompt_number": 146
    },
    {
     "cell_type": "code",
     "collapsed": false,
     "input": [
      "interact(plot_unity_roots_until,\n",
      "         n=(1, 20),\n",
      "         order=(1, 20))"
     ],
     "language": "python",
     "metadata": {},
     "outputs": [
      {
       "metadata": {},
       "output_type": "display_data",
       "png": "[encoded data removed]",
       "text": [
        "<matplotlib.figure.Figure at 0x10a93f400>"
       ]
      }
     ],
     "prompt_number": 149
    },
    {
     "cell_type": "code",
     "collapsed": false,
     "input": [
      "pentagonal(3)"
     ],
     "language": "python",
     "metadata": {},
     "outputs": [
      {
       "metadata": {},
       "output_type": "pyout",
       "prompt_number": 152,
       "text": [
        "12.0"
       ]
      }
     ],
     "prompt_number": 152
    },
    {
     "cell_type": "markdown",
     "metadata": {},
     "source": [
      "D\u00e9finition de la fonction."
     ]
    },
    {
     "cell_type": "code",
     "collapsed": false,
     "input": [
      "from collections import Counter\n",
      "def CountOccurencesInText(word,text):\n",
      "    \"\"\"Number of occurences of word (case insensitive) in text\"\"\"\n",
      "    \n",
      "    c = Counter(text.upper().replace(',', ' ')\\\n",
      "                            .replace('.', ' ')\\\n",
      "                            .replace('!', ' ')\\\n",
      "                            .replace('?', ' ')\\\n",
      "                            .replace('\\n', ' ')\\\n",
      "                            .split(sep=' '))\n",
      "    \n",
      "    return c[word.upper()]"
     ],
     "language": "python",
     "metadata": {},
     "outputs": [],
     "prompt_number": 192
    },
    {
     "cell_type": "code",
     "collapsed": false,
     "input": [
      "CountOccurencesInText(\"python\",text)"
     ],
     "language": "python",
     "metadata": {},
     "outputs": [
      {
       "metadata": {},
       "output_type": "pyout",
       "prompt_number": 193,
       "text": [
        "3"
       ]
      }
     ],
     "prompt_number": 193
    },
    {
     "cell_type": "code",
     "collapsed": false,
     "input": [
      "text=\"\"\"Georges is my name and I like python. Oh ! your name is georges? And you like Python!\n",
      "Yes is is true, I like PYTHON\n",
      "and my name is GEORGES\"\"\"\n",
      "# test with a little text.\n",
      "assert( 3 == CountOccurencesInText(\"Georges\",text) )\n",
      "assert( 3 == CountOccurencesInText(\"GEORGES\",text) )\n",
      "assert( 3 == CountOccurencesInText(\"georges\",text) )\n",
      "assert( 0 == CountOccurencesInText(\"george\",text) )\n",
      "assert( 3 == CountOccurencesInText(\"python\",text) )\n",
      "assert( 3 == CountOccurencesInText(\"PYTHON\",text) )\n",
      "assert( 2 == CountOccurencesInText(\"I\",text) )\n",
      "assert( 0 == CountOccurencesInText(\"n\",text) )\n",
      "assert( 1 == CountOccurencesInText(\"true\",text) )    "
     ],
     "language": "python",
     "metadata": {},
     "outputs": [],
     "prompt_number": 194
    },
    {
     "cell_type": "code",
     "collapsed": false,
     "input": [
      "# regard ' as text:\n",
      "assert ( 0 == CountOccurencesInText ( \"maley\", \"John O'maley is my friend\" ) )\n",
      "# Test it but with a BIG length file. (we once had a memory error with this...)\n",
      "text = \"\"\"The quick brown fox jump over the lazy dog.The quick brown fox jump over the lazy dog.\"\"\" * 500\n",
      "text += \"\"\"The quick brown fox jump over the lazy dog.The quick brown Georges jump over the lazy dog.\"\"\"\n",
      "text += \"\"\"esrf sqfdg sfdglkj sdflgh sdflgjdsqrgl \"\"\" * 4000\n",
      "text += \"\"\"The quick brown fox jump over the lazy dog.The quick brown fox jump over the lazy python.\"\"\" \n",
      "text += \"\"\"The quick brown fox jump over the lazy dog.The quick brown fox jump over the lazy dog.\"\"\" * 500\n",
      "text += \"\"\"The quick brown fox jump over the lazy dog.The quick brown Georges jump over the lazy dog.\"\"\"\n",
      "text += \"\"\"esrf sqfdg sfdglkj sdflgh sdflgjdsqrgl \"\"\" * 4000\n",
      "text += \"\"\"The quick brown fox jump over the lazy dog.The quick brown fox jump over the lazy python.\"\"\" \n",
      "text += \"\"\"The quick brown fox jump over the lazy dog.The quick brown fox jump over the lazy dog.\"\"\" * 500\n",
      "text += \"\"\"The quick brown fox jump over the lazy dog.The quick brown Georges jump over the lazy dog.\"\"\"\n",
      "text += \"\"\"esrf sqfdg sfdglkj sdflgh sdflgjdsqrgl \"\"\" * 4000\n",
      "text += \"\"\"The quick brown fox jump over the lazy dog.The quick brown fox jump over the lazy python.\"\"\" \n",
      "text += \"\"\"The quick brown fox jump over the true lazy dog.The quick brown fox jump over the lazy dog.\"\"\"\n",
      "text += \"\"\"The quick brown fox jump over the lazy dog.The quick brown fox jump over the lazy dog.\"\"\" * 500\n",
      "text += \"\"\" I vsfgsdfg sfdg sdfg sdgh sgh I sfdgsdf\"\"\"\n",
      "text += \"\"\"The quick brown fox jump over the lazy dog.The quick brown fox jump over the lazy dog.\"\"\" * 500\n",
      "assert( 3 == CountOccurencesInText(\"Georges\",text) )\n",
      "assert( 3 == CountOccurencesInText(\"GEORGES\",text) )\n",
      "assert( 3 == CountOccurencesInText(\"georges\",text) )\n",
      "assert( 0 == CountOccurencesInText(\"george\",text) )\n",
      "assert( 3 == CountOccurencesInText(\"python\",text) )\n",
      "assert( 3 == CountOccurencesInText(\"PYTHON\",text) )\n",
      "assert( 2 == CountOccurencesInText(\"I\",text) )\n",
      "assert( 0 == CountOccurencesInText(\"n\",text) )\n",
      "assert( 1 == CountOccurencesInText(\"true\",text) )"
     ],
     "language": "python",
     "metadata": {},
     "outputs": [],
     "prompt_number": 195
    },
    {
     "cell_type": "markdown",
     "metadata": {},
     "source": [
      "Troisi\u00e8me batch"
     ]
    },
    {
     "cell_type": "code",
     "collapsed": false,
     "input": [
      "assert( 0 == CountOccurencesInText(\"reflexion mirror\",\n",
      " \"I am a senior citizen and I live in the Fun-Plex 'Reflexion Mirror' in Sopchoppy, Florida\") )\n",
      "assert( 1 == CountOccurencesInText(\"'reflexion mirror'\",\n",
      " \"I am a senior citizen and I live in the Fun-Plex 'Reflexion Mirror' in Sopchoppy, Florida\") )\n",
      "assert( 1 == CountOccurencesInText(\"reflexion mirror\",\n",
      " \"I am a senior citizen and I live in the Fun-Plex (Reflexion Mirror) in Sopchoppy, Florida\") )\n",
      "assert( 1 == CountOccurencesInText(\"reflexion mirror\",\n",
      " \"Reflexion Mirror\\\" in Sopchoppy, Florida\") )\n",
      "assert( 1 == CountOccurencesInText(\"reflexion mirror\",\n",
      " u\"I am a senior citizen and I live in the Fun-Plex \u00abReflexion Mirror\u00bb in Sopchoppy, Florida\") )\n",
      "assert( 1 == CountOccurencesInText(\"reflexion mirror\",\n",
      " u\"I am a senior citizen and I live in the Fun-Plex \\u201cReflexion Mirror\\u201d in Sopchoppy, Florida\") )\n",
      "assert( 1 == CountOccurencesInText(\"legitimate\",\n",
      " u\"who is approved by OILS is completely legitimate: their employees are of legal working age\") )\n",
      "assert( 0 == CountOccurencesInText(\"legitimate their\",\n",
      " u\"who is approved by OILS is completely legitimate: their employees are of legal working age\") )\n",
      "assert( 1 == CountOccurencesInText(\"get back to me\",\n",
      " u\"I hope you will consider this proposal, and get back to me as soon as possible\") )\n",
      "assert( 1 == CountOccurencesInText(\"skin-care\",\n",
      " u\"enable Delavigne and its subsidiaries to create a skin-care monopoly\") )\n",
      "assert( 1 == CountOccurencesInText(\"skin-care monopoly\",\n",
      " u\"enable Delavigne and its subsidiaries to create a skin-care monopoly\") )\n",
      "assert( 0 == CountOccurencesInText(\"skin-care monopoly in the US\",\n",
      " u\"enable Delavigne and its subsidiaries to create a skin-care monopoly\") )\n",
      "assert( 1 == CountOccurencesInText(\"get back to me\",\n",
      " u\"When you know:get back to me\") )\n",
      "assert( 1 == CountOccurencesInText(\"don't be left\" , \"\"\"emergency alarm warning.\n",
      "Don't be left unprotected. Order your SSSS3000 today!\"\"\" ) )\n",
      "assert( 1 == CountOccurencesInText(\"don\" , \"\"\"emergency alarm warning.\n",
      "Don't be left unprotected. Order your don SSSS3000 today!\"\"\" ) )\n",
      "assert( 1 == CountOccurencesInText(\"take that as a 'yes'\",\n",
      " \"Do I have to take that as a 'yes'?\") )\n",
      "assert( 1 == CountOccurencesInText(\"don't take that as a 'yes'\",\n",
      " \"I don't take that as a 'yes'?\") )        \n",
      "assert( 1 == CountOccurencesInText(\"take that as a 'yes'\",\n",
      " \"I don't take that as a 'yes'?\") )\n",
      "assert( 1 == CountOccurencesInText(\"don't\",\n",
      " \"I don't take that as a 'yes'?\") )\n",
      "assert( 1 == CountOccurencesInText(\"attaching my c.v. to this e-mail\",\n",
      " \"I am attaching my c.v. to this e-mail.\" ))\n",
      "assert ( 1 == CountOccurencesInText ( \"Linguist\", \"'''Linguist Specialist Found Dead on Laboratory Floor'''\" ))\n",
      "assert ( 1 == CountOccurencesInText ( \"Linguist Specialist\", \"'''Linguist Specialist Found Dead on Laboratory Floor'''\" ))\n",
      "assert ( 1 == CountOccurencesInText ( \"Laboratory Floor\", \"'''Linguist Specialist Found Dead on Laboratory Floor'''\" ))\n",
      "assert ( 1 == CountOccurencesInText ( \"Floor\", \"'''Linguist Specialist Found Dead on Laboratory Floor'''\" ))\n",
      "assert ( 1 == CountOccurencesInText ( \"Floor\", \"''Linguist Specialist Found Dead on Laboratory Floor''\" ))        \n",
      "assert ( 1 == CountOccurencesInText ( \"Floor\", \"__Linguist Specialist Found Dead on Laboratory Floor__\" ))\n",
      "assert ( 1 == CountOccurencesInText ( \"Floor\", \"'''''Linguist Specialist Found Dead on Laboratory Floor'''''\" ))\n",
      "assert ( 1 == CountOccurencesInText ( \"Linguist\", \"'''Linguist Specialist Found Dead on Laboratory Floor'''\" ))\n",
      "assert ( 1 == CountOccurencesInText ( \"Linguist\", \"''Linguist Specialist Found Dead on Laboratory Floor''\" ))        \n",
      "assert ( 1 == CountOccurencesInText ( \"Linguist\", \"__Linguist Specialist Found Dead on Laboratory Floor__\" ))\n",
      "assert ( 1 == CountOccurencesInText ( \"Linguist\", \"'''''Linguist Specialist Found Dead on Laboratory Floor'''''\" ))\n",
      "assert ( 1 == CountOccurencesInText ( \"Floor\", \"\"\"Look: ''Linguist Specialist Found Dead on Laboratory Floor'' is the headline today.\"\"\"))\n"
     ],
     "language": "python",
     "metadata": {},
     "outputs": [
      {
       "ename": "AssertionError",
       "evalue": "",
       "output_type": "pyerr",
       "traceback": [
        "\u001b[0;31m---------------------------------------------------------------------------\u001b[0m\n\u001b[0;31mAssertionError\u001b[0m                            Traceback (most recent call last)",
        "\u001b[0;32m<ipython-input-199-9b1d26a5a20d>\u001b[0m in \u001b[0;36m<module>\u001b[0;34m()\u001b[0m\n\u001b[1;32m      2\u001b[0m  \"I am a senior citizen and I live in the Fun-Plex 'Reflexion Mirror' in Sopchoppy, Florida\") )\n\u001b[1;32m      3\u001b[0m assert( 1 == CountOccurencesInText(\"'reflexion mirror'\",\n\u001b[0;32m----> 4\u001b[0;31m  \"I am a senior citizen and I live in the Fun-Plex 'Reflexion Mirror' in Sopchoppy, Florida\") )\n\u001b[0m\u001b[1;32m      5\u001b[0m assert( 1 == CountOccurencesInText(\"reflexion mirror\",\n\u001b[1;32m      6\u001b[0m  \"I am a senior citizen and I live in the Fun-Plex (Reflexion Mirror) in Sopchoppy, Florida\") )\n",
        "\u001b[0;31mAssertionError\u001b[0m: "
       ]
      }
     ],
     "prompt_number": 199
    },
    {
     "cell_type": "code",
     "collapsed": false,
     "input": [
      "CountOccurencesInText(\"'reflexion mirror'\", \n",
      "                      \"I am a senior citizen and I live in the Fun-Plex 'Reflexion Mirror' in Sopchoppy, Florida\")"
     ],
     "language": "python",
     "metadata": {},
     "outputs": [
      {
       "metadata": {},
       "output_type": "pyout",
       "prompt_number": 200,
       "text": [
        "0"
       ]
      }
     ],
     "prompt_number": 200
    },
    {
     "cell_type": "code",
     "collapsed": false,
     "input": [
      "\"I am a senior citizen and I live in the Fun-Plex 'Reflexion Mirror' in Sopchoppy, Florida\".upper().replace(',', ' ')\\\n",
      "                            .replace('.', ' ')\\\n",
      "                            .replace('!', ' ')\\\n",
      "                            .replace('?', ' ')\\\n",
      "                            .replace('\\n', ' ')\\\n",
      "                            .split(sep=' ')"
     ],
     "language": "python",
     "metadata": {},
     "outputs": [
      {
       "metadata": {},
       "output_type": "pyout",
       "prompt_number": 201,
       "text": [
        "['I',\n",
        " 'AM',\n",
        " 'A',\n",
        " 'SENIOR',\n",
        " 'CITIZEN',\n",
        " 'AND',\n",
        " 'I',\n",
        " 'LIVE',\n",
        " 'IN',\n",
        " 'THE',\n",
        " 'FUN-PLEX',\n",
        " \"'REFLEXION\",\n",
        " \"MIRROR'\",\n",
        " 'IN',\n",
        " 'SOPCHOPPY',\n",
        " '',\n",
        " 'FLORIDA']"
       ]
      }
     ],
     "prompt_number": 201
    },
    {
     "cell_type": "code",
     "collapsed": false,
     "input": [],
     "language": "python",
     "metadata": {},
     "outputs": []
    }
   ],
   "metadata": {}
  }
 ]
}