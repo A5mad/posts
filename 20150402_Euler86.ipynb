{
 "metadata": {
  "name": "",
  "signature": "sha256:ec08112b6d6e1b73b1ad1efc5a117ce0c1d99b1dcbe296a7a76f93de3a93ed2f"
 },
 "nbformat": 3,
 "nbformat_minor": 0,
 "worksheets": [
  {
   "cells": [
    {
     "cell_type": "markdown",
     "metadata": {},
     "source": [
      "Let's use a little geometric intuition to compute the paths from the spider to the fly."
     ]
    },
    {
     "cell_type": "code",
     "collapsed": false,
     "input": [
      "%matplotlib inline\n",
      "import matplotlib.pyplot as plt\n",
      "import matplotlib as mpl"
     ],
     "language": "python",
     "metadata": {},
     "outputs": [],
     "prompt_number": 1
    },
    {
     "cell_type": "code",
     "collapsed": false,
     "input": [
      "import numpy as np"
     ],
     "language": "python",
     "metadata": {},
     "outputs": [],
     "prompt_number": 2
    },
    {
     "cell_type": "code",
     "collapsed": false,
     "input": [
      "def draw_cuboid(a, b, c):\n",
      "    ax = plt.gca()\n",
      "    \n",
      "    # draw base rectangle\n",
      "    ax.add_artist(mpl.patches.Rectangle((0, 0), a, b, color='#DEE7FF'))\n",
      "    \n",
      "    # draw first possible path\n",
      "    ax.add_artist(mpl.patches.Rectangle((0, b), a, c, color='#CEDAFF'))\n",
      "    ax.plot([0, a], [0, b + c], '--k', lw=2)\n",
      "    ax.annotate(\"(a, b+c)\", (a/2., (b+c)/2.), rotation=np.rad2deg(0.5 * np.arctan2((b+c)/2., a/2.)))\n",
      "    \n",
      "    # draw second path\n",
      "    ax.add_artist(mpl.patches.Rectangle((a, 0), c, b, color='#BDCEFF'))\n",
      "    ax.plot([0, a + c], [0, b], '--k', lw=2)\n",
      "    ax.annotate(\"(a + c, b)\", ((a + c)/2., (b)/2.), rotation=np.rad2deg(0.5 * np.arctan2((b)/2., (a+c)/2.)))\n",
      "    \n",
      "    # draw third path\n",
      "    #ax.add_artist(mpl.patches.Rectangle((0, -c), a, c, color='#ADC2FF'))\n",
      "    #ax.add_artist(mpl.patches.Rectangle((0, -c - b), a, b, color='#E6EDFF'))\n",
      "    #ax.plot([0, a], [0, -b -c], '--k', lw=2)\n",
      "    #ax.annotate(\"(a, --b --c)\", ((a)/2., (-b-c)/2.), rotation=np.rad2deg(0.5 * np.arctan2((-b-c)/2., (a)/2.)))\n",
      "    \n",
      "    # draw correct third path\n",
      "    ax.plot([0, a], [0, b], '--k', lw=2)\n",
      "    ax.plot([a, a], [b, b + c], '--k', lw=2)\n",
      "    #ax.annotate(\"(a, --b --c)\", ((a)/2., (-b-c)/2.), rotation=np.rad2deg(0.5 * np.arctan2((-b-c)/2., (a)/2.)))\n",
      "    \n",
      "    # make plot look right\n",
      "    ax.set_xlim(0, a + c)\n",
      "    ax.set_ylim(-b -c, b + c)\n",
      "    plt.axis('equal')\n",
      "    plt.axis('off')\n",
      "    \n",
      "    "
     ],
     "language": "python",
     "metadata": {},
     "outputs": [],
     "prompt_number": 3
    },
    {
     "cell_type": "code",
     "collapsed": false,
     "input": [
      "draw_cuboid(6, 5, 3) "
     ],
     "language": "python",
     "metadata": {},
     "outputs": [
      {
       "output_type": "stream",
       "stream": "stderr",
       "text": [
        "C:\\Anaconda\\lib\\site-packages\\matplotlib\\text.py:52: UnicodeWarning: Unicode equal comparison failed to convert both arguments to Unicode - interpreting them as being unequal\n",
        "  if rotation in ('horizontal', None):\n",
        "C:\\Anaconda\\lib\\site-packages\\matplotlib\\text.py:54: UnicodeWarning: Unicode equal comparison failed to convert both arguments to Unicode - interpreting them as being unequal\n",
        "  elif rotation == 'vertical':\n"
       ]
      },
      {
       "metadata": {},
       "output_type": "display_data",
       "png": "[encoded data removed]",
       "text": [
        "<matplotlib.figure.Figure at 0xa3d6390>"
       ]
      }
     ],
     "prompt_number": 4
    },
    {
     "cell_type": "markdown",
     "metadata": {},
     "source": [
      "We can make this interactive:"
     ]
    },
    {
     "cell_type": "code",
     "collapsed": false,
     "input": [
      "from IPython.html.widgets import interact"
     ],
     "language": "python",
     "metadata": {},
     "outputs": [],
     "prompt_number": 5
    },
    {
     "cell_type": "code",
     "collapsed": false,
     "input": [
      "interact(lambda a, b, c: draw_cuboid(a, b, c),\n",
      "         a=(1, 10),\n",
      "         b=(1, 10),\n",
      "         c=(1, 10))"
     ],
     "language": "python",
     "metadata": {},
     "outputs": [
      {
       "metadata": {},
       "output_type": "pyout",
       "prompt_number": 6,
       "text": [
        "<function __main__.<lambda>>"
       ]
      },
      {
       "metadata": {},
       "output_type": "display_data",
       "png": "[encoded data removed]",
       "text": [
        "<matplotlib.figure.Figure at 0xa7ea8d0>"
       ]
      }
     ],
     "prompt_number": 6
    },
    {
     "cell_type": "markdown",
     "metadata": {},
     "source": [
      "Nice! We can compute an exact solution to the three paths:\n",
      "\n",
      "$$\n",
      "l_0 = \\sqrt{a^2 + (b + c)^2} = \\sqrt{a^2 + b^2 + c^2 + 2 bc}\n",
      "$$\n",
      "$$\n",
      "l_1 = \\sqrt{(a + c)^2 + b^2} = \\sqrt{a^2 + b^2 + c^2 + 2 ac}\n",
      "$$\n",
      "$$\n",
      "l_2 = \\sqrt{a^2 + b^2} + c\n",
      "$$"
     ]
    },
    {
     "cell_type": "markdown",
     "metadata": {},
     "source": [
      "We can compute those three paths:"
     ]
    },
    {
     "cell_type": "code",
     "collapsed": false,
     "input": [
      "import math"
     ],
     "language": "python",
     "metadata": {},
     "outputs": [],
     "prompt_number": 7
    },
    {
     "cell_type": "code",
     "collapsed": false,
     "input": [
      "def compute_paths(a, b, c):\n",
      "    l_0 = math.sqrt(a**2 + b**2 + c**2 + 2 * b * c)\n",
      "    l_1 = math.sqrt(a**2 + b**2 + c**2 + 2 * a * c)\n",
      "    l_2 = math.sqrt(a**2 + b**2) + c\n",
      "    return (l_0, l_1, l_2)"
     ],
     "language": "python",
     "metadata": {},
     "outputs": [],
     "prompt_number": 8
    },
    {
     "cell_type": "code",
     "collapsed": false,
     "input": [
      "from __future__ import print_function"
     ],
     "language": "python",
     "metadata": {},
     "outputs": [],
     "prompt_number": 9
    },
    {
     "cell_type": "code",
     "collapsed": false,
     "input": [
      "interact(lambda a, b, c: print(compute_paths(a, b, c)),\n",
      "        a=(1, 10),\n",
      "        b=(1, 10),\n",
      "        c=(1, 10)) "
     ],
     "language": "python",
     "metadata": {},
     "outputs": [
      {
       "output_type": "stream",
       "stream": "stdout",
       "text": [
        "(11.180339887498949, 11.180339887498949, 12.071067811865476)\n"
       ]
      },
      {
       "metadata": {},
       "output_type": "pyout",
       "prompt_number": 10,
       "text": [
        "<function __main__.<lambda>>"
       ]
      }
     ],
     "prompt_number": 10
    },
    {
     "cell_type": "code",
     "collapsed": false,
     "input": [
      "def is_int(x):\n",
      "    return int(x) == x"
     ],
     "language": "python",
     "metadata": {},
     "outputs": [],
     "prompt_number": 11
    },
    {
     "cell_type": "code",
     "collapsed": false,
     "input": [
      "sols = []\n",
      "for a in range(1, 100):\n",
      "    for b in range(1, a + 1):\n",
      "        for c in range(1, b + 1):\n",
      "            if is_int(min(compute_paths(a, b, c))):\n",
      "                sols.append((a, b, c, compute_paths(a, b, c)))\n",
      "len(sols)"
     ],
     "language": "python",
     "metadata": {},
     "outputs": [
      {
       "metadata": {},
       "output_type": "pyout",
       "prompt_number": 53,
       "text": [
        "1975"
       ]
      }
     ],
     "prompt_number": 53
    },
    {
     "cell_type": "code",
     "collapsed": false,
     "input": [
      "sols[:50]"
     ],
     "language": "python",
     "metadata": {},
     "outputs": [
      {
       "metadata": {},
       "output_type": "pyout",
       "prompt_number": 54,
       "text": [
        "[(3, 2, 2, (5.0, 5.385164807134504, 5.60555127546399)),\n",
        " (3, 3, 1, (5.0, 5.0, 5.242640687119285)),\n",
        " (4, 2, 1, (5.0, 5.385164807134504, 5.47213595499958)),\n",
        " (6, 4, 4, (10.0, 10.770329614269007, 11.21110255092798)),\n",
        " (6, 5, 3, (10.0, 10.295630140987, 10.810249675906654)),\n",
        " (6, 6, 2, (10.0, 10.0, 10.48528137423857)),\n",
        " (8, 3, 3, (10.0, 11.40175425099138, 11.54400374531753)),\n",
        " (8, 4, 2, (10.0, 10.770329614269007, 10.94427190999916)),\n",
        " (8, 5, 1, (10.0, 10.295630140987, 10.433981132056603)),\n",
        " (8, 8, 7, (17.0, 17.0, 18.31370849898476)),\n",
        " (9, 6, 6, (15.0, 16.15549442140351, 16.81665382639197)),\n",
        " (9, 7, 5, (15.0, 15.652475842498529, 16.40175425099138)),\n",
        " (9, 8, 4, (15.0, 15.264337522473747, 16.041594578792296)),\n",
        " (9, 9, 3, (15.0, 15.0, 15.727922061357855)),\n",
        " (12, 3, 2, (13.0, 14.317821063276353, 14.36931687685298)),\n",
        " (12, 4, 1, (13.0, 13.601470508735444, 13.649110640673518)),\n",
        " (12, 5, 4, (15.0, 16.76305461424021, 17.0)),\n",
        " (12, 6, 3, (15.0, 16.15549442140351, 16.41640786499874)),\n",
        " (12, 7, 2, (15.0, 15.652475842498529, 15.892443989449804)),\n",
        " (12, 8, 1, (15.0, 15.264337522473747, 15.422205101855956)),\n",
        " (12, 8, 8, (20.0, 21.540659228538015, 22.42220510185596)),\n",
        " (12, 9, 7, (20.0, 21.02379604162864, 22.0)),\n",
        " (12, 10, 6, (20.0, 20.591260281974, 21.620499351813308)),\n",
        " (12, 11, 5, (20.0, 20.248456731316587, 21.278820596099706)),\n",
        " (12, 12, 4, (20.0, 20.0, 20.97056274847714)),\n",
        " (15, 4, 4, (17.0, 19.4164878389476, 19.524174696260026)),\n",
        " (15, 5, 3, (17.0, 18.681541692269406, 18.811388300841898)),\n",
        " (15, 6, 2, (17.0, 18.027756377319946, 18.15549442140351)),\n",
        " (15, 7, 1, (17.0, 17.46424919657298, 17.55294535724685)),\n",
        " (15, 10, 10, (25.0, 26.92582403567252, 28.027756377319946)),\n",
        " (15, 11, 9, (25.0, 26.40075756488817, 27.601075237738275)),\n",
        " (15, 12, 8, (25.0, 25.942243542145693, 27.209372712298546)),\n",
        " (15, 13, 7, (25.0, 25.553864678361276, 26.849433241279208)),\n",
        " (15, 14, 6, (25.0, 25.238858928247925, 26.518284528683193)),\n",
        " (15, 15, 5, (25.0, 25.0, 26.213203435596427)),\n",
        " (16, 6, 6, (20.0, 22.80350850198276, 23.08800749063506)),\n",
        " (16, 7, 5, (20.0, 22.135943621178654, 22.46424919657298)),\n",
        " (16, 8, 4, (20.0, 21.540659228538015, 21.88854381999832)),\n",
        " (16, 9, 3, (20.0, 21.02379604162864, 21.35755975068582)),\n",
        " (16, 10, 2, (20.0, 20.591260281974, 20.867962264113206)),\n",
        " (16, 11, 1, (20.0, 20.248456731316587, 20.4164878389476)),\n",
        " (16, 15, 15, (34.0, 34.438350715445125, 36.93171219946131)),\n",
        " (16, 16, 14, (34.0, 34.0, 36.62741699796952)),\n",
        " (18, 12, 12, (30.0, 32.31098884280702, 33.63330765278394)),\n",
        " (18, 13, 11, (30.0, 31.78049716414141, 33.20360331117452)),\n",
        " (18, 14, 10, (30.0, 31.304951684997057, 32.80350850198276)),\n",
        " (18, 15, 9, (30.0, 30.886890422961002, 32.43074902771996)),\n",
        " (18, 16, 8, (30.0, 30.528675044947494, 32.08318915758459)),\n",
        " (18, 17, 7, (30.0, 30.23243291566195, 31.758836806279895)),\n",
        " (18, 18, 6, (30.0, 30.0, 31.45584412271571))]"
       ]
      }
     ],
     "prompt_number": 54
    },
    {
     "cell_type": "code",
     "collapsed": false,
     "input": [
      "sols[-1]"
     ],
     "language": "python",
     "metadata": {},
     "outputs": [
      {
       "metadata": {},
       "output_type": "pyout",
       "prompt_number": 55,
       "text": [
        "(99, 99, 69, (195.0, 195.0, 209.0071426749364))"
       ]
      }
     ],
     "prompt_number": 55
    },
    {
     "cell_type": "markdown",
     "metadata": {},
     "source": [
      "Le pattern est le suivant : c'est toujours la premi\u00e8re distance qui est la plus petite ! Et il y a des couples donn\u00e9s o\u00f9 $a + b = \\text{cte}$.\n",
      "\n",
      "Donc on va adopter une nouvelle strat\u00e9gie : \n",
      "\n",
      "- boucle sur a\n",
      "- boucle sur l_0\n",
      "- boucle sur b "
     ]
    },
    {
     "cell_type": "code",
     "collapsed": false,
     "input": [
      "sols = []\n",
      "for l0 in range(1, 196):\n",
      "    for a in range(1, l0):\n",
      "        s = math.sqrt(l0 * l0 - a *a)\n",
      "        if is_int(s):\n",
      "            if s % 2 == 0:\n",
      "                b = c = s / 2\n",
      "                while b <= a and c >= 1:\n",
      "                    sols.append((a, b, c, l0))\n",
      "                    b += 1\n",
      "                    c -= 1\n",
      "            if s % 2 == 1:\n",
      "                b = (s + 1) / 2\n",
      "                c = b - 1\n",
      "                while b <= a and c >= 1:\n",
      "                    sols.append((a, b, c, l0))\n",
      "                    b += 1\n",
      "                    c -= 1\n",
      "            \n",
      "len(sols)"
     ],
     "language": "python",
     "metadata": {},
     "outputs": [
      {
       "metadata": {},
       "output_type": "pyout",
       "prompt_number": 60,
       "text": [
        "4598"
       ]
      }
     ],
     "prompt_number": 60
    },
    {
     "cell_type": "code",
     "collapsed": false,
     "input": [
      "sols[:50]"
     ],
     "language": "python",
     "metadata": {},
     "outputs": [
      {
       "metadata": {},
       "output_type": "pyout",
       "prompt_number": 57,
       "text": [
        "[(3, 2.0, 2.0, 5),\n",
        " (3, 3.0, 1.0, 5),\n",
        " (4, 2.0, 1.0, 5),\n",
        " (6, 4.0, 4.0, 10),\n",
        " (6, 5.0, 3.0, 10),\n",
        " (6, 6.0, 2.0, 10),\n",
        " (8, 3.0, 3.0, 10),\n",
        " (8, 4.0, 2.0, 10),\n",
        " (8, 5.0, 1.0, 10),\n",
        " (12, 3.0, 2.0, 13),\n",
        " (12, 4.0, 1.0, 13),\n",
        " (9, 6.0, 6.0, 15),\n",
        " (9, 7.0, 5.0, 15),\n",
        " (9, 8.0, 4.0, 15),\n",
        " (9, 9.0, 3.0, 15),\n",
        " (12, 5.0, 4.0, 15),\n",
        " (12, 6.0, 3.0, 15),\n",
        " (12, 7.0, 2.0, 15),\n",
        " (12, 8.0, 1.0, 15),\n",
        " (8, 8.0, 7.0, 17),\n",
        " (15, 4.0, 4.0, 17),\n",
        " (15, 5.0, 3.0, 17),\n",
        " (15, 6.0, 2.0, 17),\n",
        " (15, 7.0, 1.0, 17),\n",
        " (12, 8.0, 8.0, 20),\n",
        " (12, 9.0, 7.0, 20),\n",
        " (12, 10.0, 6.0, 20),\n",
        " (12, 11.0, 5.0, 20),\n",
        " (12, 12.0, 4.0, 20),\n",
        " (16, 6.0, 6.0, 20),\n",
        " (16, 7.0, 5.0, 20),\n",
        " (16, 8.0, 4.0, 20),\n",
        " (16, 9.0, 3.0, 20),\n",
        " (16, 10.0, 2.0, 20),\n",
        " (16, 11.0, 1.0, 20),\n",
        " (15, 10.0, 10.0, 25),\n",
        " (15, 11.0, 9.0, 25),\n",
        " (15, 12.0, 8.0, 25),\n",
        " (15, 13.0, 7.0, 25),\n",
        " (15, 14.0, 6.0, 25),\n",
        " (15, 15.0, 5.0, 25),\n",
        " (20, 8.0, 7.0, 25),\n",
        " (20, 9.0, 6.0, 25),\n",
        " (20, 10.0, 5.0, 25),\n",
        " (20, 11.0, 4.0, 25),\n",
        " (20, 12.0, 3.0, 25),\n",
        " (20, 13.0, 2.0, 25),\n",
        " (20, 14.0, 1.0, 25),\n",
        " (24, 4.0, 3.0, 25),\n",
        " (24, 5.0, 2.0, 25)]"
       ]
      }
     ],
     "prompt_number": 57
    },
    {
     "cell_type": "code",
     "collapsed": false,
     "input": [
      "len([x for x in sols if x[0] < 100])"
     ],
     "language": "python",
     "metadata": {},
     "outputs": [
      {
       "metadata": {},
       "output_type": "pyout",
       "prompt_number": 63,
       "text": [
        "1968"
       ]
      }
     ],
     "prompt_number": 63
    },
    {
     "cell_type": "code",
     "collapsed": false,
     "input": [
      "len([x for x in sols if x[0] < 101])"
     ],
     "language": "python",
     "metadata": {},
     "outputs": [
      {
       "metadata": {},
       "output_type": "pyout",
       "prompt_number": 64,
       "text": [
        "2053"
       ]
      }
     ],
     "prompt_number": 64
    },
    {
     "cell_type": "markdown",
     "metadata": {},
     "source": [
      "Je ne sais pas pourquoi, mais il m'en manque 7 !"
     ]
    },
    {
     "cell_type": "code",
     "collapsed": false,
     "input": [
      "sols = []\n",
      "for a in range(1, 101):\n",
      "    for l0 in range(a + 1, 3 * a):\n",
      "        s = math.sqrt(l0 * l0 - a *a)\n",
      "        if is_int(s):\n",
      "            if s % 2 == 0:\n",
      "                b = c = s / 2\n",
      "                while b <= a and c >= 1:\n",
      "                    sols.append((a, b, c, l0))\n",
      "                    b += 1\n",
      "                    c -= 1\n",
      "            if s % 2 == 1:\n",
      "                b = (s + 1) / 2\n",
      "                c = b - 1\n",
      "                while b <= a and c >= 1:\n",
      "                    sols.append((a, b, c, l0))\n",
      "                    b += 1\n",
      "                    c -= 1\n",
      "            \n",
      "len(sols)"
     ],
     "language": "python",
     "metadata": {},
     "outputs": [
      {
       "metadata": {},
       "output_type": "pyout",
       "prompt_number": 107,
       "text": [
        "2060"
       ]
      }
     ],
     "prompt_number": 107
    },
    {
     "cell_type": "code",
     "collapsed": false,
     "input": [
      "sols = []\n",
      "for a in range(1, 1819):\n",
      "    for l0 in range(a + 1, 3 * a):\n",
      "        s = math.sqrt(l0 * l0 - a *a)\n",
      "        if is_int(s):\n",
      "            if s % 2 == 0:\n",
      "                b = c = s / 2\n",
      "                while b <= a and c >= 1:\n",
      "                    sols.append((a, b, c, l0))\n",
      "                    b += 1\n",
      "                    c -= 1\n",
      "            if s % 2 == 1:\n",
      "                b = (s + 1) / 2\n",
      "                c = b - 1\n",
      "                while b <= a and c >= 1:\n",
      "                    sols.append((a, b, c, l0))\n",
      "                    b += 1\n",
      "                    c -= 1\n",
      "            \n",
      "len(sols)"
     ],
     "language": "python",
     "metadata": {},
     "outputs": [
      {
       "metadata": {},
       "output_type": "pyout",
       "prompt_number": 109,
       "text": [
        "1000457"
       ]
      }
     ],
     "prompt_number": 109
    },
    {
     "cell_type": "code",
     "collapsed": false,
     "input": [
      "sols[-1]"
     ],
     "language": "python",
     "metadata": {},
     "outputs": [
      {
       "metadata": {},
       "output_type": "pyout",
       "prompt_number": 110,
       "text": [
        "(1818, 1818.0, 606.0, 3030)"
       ]
      }
     ],
     "prompt_number": 110
    },
    {
     "cell_type": "code",
     "collapsed": false,
     "input": [],
     "language": "python",
     "metadata": {},
     "outputs": []
    }
   ],
   "metadata": {}
  }
 ]
}