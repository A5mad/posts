{
 "metadata": {
  "name": "Books 2013"
 },
 "nbformat": 3,
 "nbformat_minor": 0,
 "worksheets": [
  {
   "cells": [
    {
     "cell_type": "code",
     "collapsed": false,
     "input": [
      "from IPython.display import Image"
     ],
     "language": "python",
     "metadata": {},
     "outputs": [],
     "prompt_number": 1
    },
    {
     "cell_type": "heading",
     "level": 1,
     "metadata": {},
     "source": [
      "Certaines n'avaient jamais vu la mer - Julie Otsuka"
     ]
    },
    {
     "cell_type": "code",
     "collapsed": false,
     "input": [
      "Image(url=\"http://ecx.images-amazon.com/images/I/51k%2BPUD6Z8L._.jpg\")"
     ],
     "language": "python",
     "metadata": {},
     "outputs": [
      {
       "html": [
        "<img src=\"http://ecx.images-amazon.com/images/I/51k%2BPUD6Z8L._.jpg\" />"
       ],
       "output_type": "pyout",
       "prompt_number": 2,
       "text": [
        "<IPython.core.display.Image at 0x517fb10>"
       ]
      }
     ],
     "prompt_number": 2
    },
    {
     "cell_type": "markdown",
     "metadata": {},
     "source": [
      "Date: July 2013\n",
      "\n",
      "Just finished reading this book about Japanese female immigrants to the US in the 1900-1940s. The English title is *The Buddha in the attic*. The narration style is interesting: a constant superposition of different voices from woman who find themselves in a variety of circonstances. Something constant throughout the book: a sense of lost human destinies (what were their lives useful for?). A question to the reader: are we better off now? Does the sort of racism, of non-understanding of the other culture, still exist in our societies? Would I act as the foreigners on these \"poor Japanese people\" in the wake of Pearl Harbor?"
     ]
    },
    {
     "cell_type": "heading",
     "level": 1,
     "metadata": {},
     "source": [
      "Marie-Antoinette - Stefan Zweig"
     ]
    },
    {
     "cell_type": "code",
     "collapsed": false,
     "input": [
      "Image(url=\"http://ecx.images-amazon.com/images/I/51IerGfQJQL._SY300_.jpg\")"
     ],
     "language": "python",
     "metadata": {},
     "outputs": [
      {
       "html": [
        "<img src=\"http://ecx.images-amazon.com/images/I/51IerGfQJQL._SY300_.jpg\" />"
       ],
       "output_type": "pyout",
       "prompt_number": 3,
       "text": [
        "<IPython.core.display.Image at 0x517fbd0>"
       ]
      }
     ],
     "prompt_number": 3
    },
    {
     "cell_type": "markdown",
     "metadata": {},
     "source": [
      "Date: July 2013.\n",
      "\n",
      "Very interesting book. Detailed account of Marie-Antoinette's life, from princess to guillotine. It's interesting to see that many sources used by the author are nowadays available as scanned material in the online national libraries. Also, the author has a theory of how people get inside their role through history and tries to make this view fit on Marie-Antoinette who supposedly learnt her role at the end of her life, when all was already lost for her. One thing I thought is that no matter what ideals the French revolution was about, the revolutionaries still did horrible things to other human beings."
     ]
    },
    {
     "cell_type": "heading",
     "level": 1,
     "metadata": {},
     "source": [
      "Der Verdacht -  Friedrich D\u00fcrrenmatt"
     ]
    },
    {
     "cell_type": "code",
     "collapsed": false,
     "input": [
      "Image(url=\"http://ecx.images-amazon.com/images/I/61G6oDGl-yL._SL1059_.jpg\")"
     ],
     "language": "python",
     "metadata": {},
     "outputs": [
      {
       "html": [
        "<img src=\"http://ecx.images-amazon.com/images/I/61G6oDGl-yL._SL1059_.jpg\" />"
       ],
       "output_type": "pyout",
       "prompt_number": 5,
       "text": [
        "<IPython.core.display.Image at 0x517fc50>"
       ]
      }
     ],
     "prompt_number": 5
    },
    {
     "cell_type": "markdown",
     "metadata": {},
     "source": [
      "Datum: Juli 2013 (QNDE).\n",
      "\n",
      "Ein wunderbares Buch! Der Kommiss\u00e4r B\u00e4rlach ist ein richtiger Kerl, der Vodka vertr\u00e4gt trotz seiner schwierigen Krankheit. Unb\u00e4ndig gibt ihm sein letzter Verdacht keine Ruhe, bis er selber in der Klemme steckt. Jetzt w\u00fcrde ich sehr gerne den *Richter und sein Henker* lesen."
     ]
    },
    {
     "cell_type": "heading",
     "level": 1,
     "metadata": {},
     "source": [
      "The Tipping Point - Malcolm Gladwell"
     ]
    },
    {
     "cell_type": "code",
     "collapsed": false,
     "input": [
      "Image(url='http://d1b14unh5d6w7g.cloudfront.net/0316346624.01.S001.LXXXXXXX.jpg?Expires=1375527684&Signature=ct2LlwbG2dUhaMHJljMeiTc7q9ROpCytmConuyIXBnNv2cJlspp6h85igmBJPjpOkzXDENLAcEBlA+ce1wFqHN/prnemt1G9e5reCcIdsIBn0Fegu27o4l5kn+9bNqC5aYOhad8boe8WUrpt4skmAXkTATKStmKairdyGMJ+8G4=&Key-Pair-Id=APKAIUO27P366FGALUMQ')"
     ],
     "language": "python",
     "metadata": {},
     "outputs": [
      {
       "html": [
        "<img src=\"http://d1b14unh5d6w7g.cloudfront.net/0316346624.01.S001.LXXXXXXX.jpg?Expires=1375527684&Signature=ct2LlwbG2dUhaMHJljMeiTc7q9ROpCytmConuyIXBnNv2cJlspp6h85igmBJPjpOkzXDENLAcEBlA+ce1wFqHN/prnemt1G9e5reCcIdsIBn0Fegu27o4l5kn+9bNqC5aYOhad8boe8WUrpt4skmAXkTATKStmKairdyGMJ+8G4=&Key-Pair-Id=APKAIUO27P366FGALUMQ\" />"
       ],
       "output_type": "pyout",
       "prompt_number": 3,
       "text": [
        "<IPython.core.display.Image at 0x50dce30>"
       ]
      }
     ],
     "prompt_number": 3
    },
    {
     "cell_type": "markdown",
     "metadata": {},
     "source": [
      "Date: July - August 2013 (bought during QNDE).\n",
      "\n",
      "As one reviewer on Amazon said: not very scientific. However, still an interesting read in the sense that it makes you think about some sides of your behaviour. I like the reference to the Stanford prison experiment, a sort of memento that context can make you do things you wouldn't in a normal environment. Instead of refering to people by their characters (\"generous\"), one should always remember that context can alter the sort of person you display. All in all, quite nicely done, even though it is a sort of meta-study."
     ]
    },
    {
     "cell_type": "heading",
     "level": 1,
     "metadata": {},
     "source": [
      "Ender's game - Orson Scott Card"
     ]
    },
    {
     "cell_type": "code",
     "collapsed": false,
     "input": [
      "Image(url=\"http://d1b14unh5d6w7g.cloudfront.net/0812550706.01.S001.LXXXXXXX.jpg?Expires=1375528274&Signature=OBo19oteCqSAOMYQ6+X7tBCMvPZ9tcpui2zxdhRjq636wBn5QW9guV2ga84qKOMRrDNXC/UOjiQArgmjCd1qo7O4h/mMKYVE/l5epHXM3mJQs04XED6JFkEyvS3kAYMMIN0b7TqX8OMFmnUTVAwSvTAP3OKIz1I1Zw/YbyVPnmQ=&Key-Pair-Id=APKAIUO27P366FGALUMQ\")"
     ],
     "language": "python",
     "metadata": {},
     "outputs": [
      {
       "html": [
        "<img src=\"http://d1b14unh5d6w7g.cloudfront.net/0812550706.01.S001.LXXXXXXX.jpg?Expires=1375528274&Signature=OBo19oteCqSAOMYQ6+X7tBCMvPZ9tcpui2zxdhRjq636wBn5QW9guV2ga84qKOMRrDNXC/UOjiQArgmjCd1qo7O4h/mMKYVE/l5epHXM3mJQs04XED6JFkEyvS3kAYMMIN0b7TqX8OMFmnUTVAwSvTAP3OKIz1I1Zw/YbyVPnmQ=&Key-Pair-Id=APKAIUO27P366FGALUMQ\" />"
       ],
       "output_type": "pyout",
       "prompt_number": 5,
       "text": [
        "<IPython.core.display.Image at 0x50dcf70>"
       ]
      }
     ],
     "prompt_number": 5
    },
    {
     "cell_type": "markdown",
     "metadata": {},
     "source": [
      "Date: August 2013. Mostly read on the flight back from NY to Paris."
     ]
    }
   ],
   "metadata": {}
  }
 ]
}