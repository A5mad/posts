{
 "metadata": {
  "name": ""
 },
 "nbformat": 3,
 "nbformat_minor": 0,
 "worksheets": [
  {
   "cells": [
    {
     "cell_type": "code",
     "collapsed": false,
     "input": [
      "from IPython.display import Image"
     ],
     "language": "python",
     "metadata": {},
     "outputs": [],
     "prompt_number": 1
    },
    {
     "cell_type": "heading",
     "level": 1,
     "metadata": {},
     "source": [
      "Schwarzes Eis - Sergej Lochthofen"
     ]
    },
    {
     "cell_type": "code",
     "collapsed": false,
     "input": [
      "Image(url=\"http://ecx.images-amazon.com/images/I/51gi7%2BKsbxL._SY300_.jpg\")"
     ],
     "language": "python",
     "metadata": {},
     "outputs": [
      {
       "html": [
        "<img src=\"http://ecx.images-amazon.com/images/I/51gi7%2BKsbxL._SY300_.jpg\" />"
       ],
       "output_type": "pyout",
       "prompt_number": 3,
       "text": [
        "<IPython.core.display.Image at 0xaa8766c>"
       ]
      }
     ],
     "prompt_number": 3
    },
    {
     "cell_type": "markdown",
     "metadata": {},
     "source": [
      "Wann: Januar 2013, Weihnachtsgeschenk von Papa.\n",
      "\n",
      "Ein Leben, das in Deutschland anfing, in der Sowjetunion weiterging und irgendwann in der DDR endete. Kaum nachvollziehbar wie Menschen so grausam zu einander sein k\u00f6nnen. Und doch ist diese Geschichte voll der Hoffnung, die von den Eltern auf die n\u00e4chste Generation oft \u00fcbertragen wird. "
     ]
    },
    {
     "cell_type": "heading",
     "level": 1,
     "metadata": {},
     "source": [
      "Nachtzug nach Lissabon - Pascal Mercier"
     ]
    },
    {
     "cell_type": "code",
     "collapsed": false,
     "input": [
      "Image(url=\"http://ecx.images-amazon.com/images/I/51%2BzKHl5iUL._BO2,204,203,200_PIsitb-sticker-arrow-click,TopRight,35,-76_AA300_SH20_OU08_.jpg\")zaa"
     ],
     "language": "python",
     "metadata": {},
     "outputs": [
      {
       "html": [
        "<img src=\"http://ecx.images-amazon.com/images/I/51%2BzKHl5iUL._BO2,204,203,200_PIsitb-sticker-arrow-click,TopRight,35,-76_AA300_SH20_OU08_.jpg\" />"
       ],
       "output_type": "pyout",
       "prompt_number": 11,
       "text": [
        "<IPython.core.display.Image at 0xa086f4c>"
       ]
      }
     ],
     "prompt_number": 11
    },
    {
     "cell_type": "markdown",
     "metadata": {},
     "source": [
      "Datum: M\u00e4rz 2013, im Flugzeug nach Japan fertiggelesen.\n",
      "\n",
      "Ein Abenteuer in der gegenw\u00e4rtigen Geschichte Portugals, das mir sehr gut gefallen hat. Als Brillentr\u00e4ger gefiel mir die Transformation des Mundus sowieso. "
     ]
    },
    {
     "cell_type": "heading",
     "level": 1,
     "metadata": {},
     "source": [
      "Anathem - Neal Stephenson"
     ]
    },
    {
     "cell_type": "code",
     "collapsed": false,
     "input": [
      "Image(url=\"http://ecx.images-amazon.com/images/I/51Wdmi8DUzL._BO2,204,203,200_PIsitb-sticker-arrow-click,TopRight,35,-76_AA300_SH20_OU08_.jpg\")"
     ],
     "language": "python",
     "metadata": {},
     "outputs": [
      {
       "html": [
        "<img src=\"http://ecx.images-amazon.com/images/I/51Wdmi8DUzL._BO2,204,203,200_PIsitb-sticker-arrow-click,TopRight,35,-76_AA300_SH20_OU08_.jpg\" />"
       ],
       "output_type": "pyout",
       "prompt_number": 8,
       "text": [
        "<IPython.core.display.Image at 0xa08662c>"
       ]
      }
     ],
     "prompt_number": 8
    },
    {
     "cell_type": "markdown",
     "metadata": {},
     "source": [
      "Read on Kindle May-June 2013 (after Japan trip, courtesy of Boris). \n",
      "\n",
      "Very entertaining but long at times. Lots of \"made up\" vocabulary by the author (fraas, suurs, fetch instead of car, for example). One of the comments picked up on amazon reviews is the following: why does humanity have to rely on young students that have \"learnt how to learn\" and live in an arcane medieval cloister universe to save the world from a multi-universe threat? If you compare that to NASA, it's like sending 20 year olds as astronauts into space. However, I clearly wasn't struck by this thought while reading. So, well done, Neal Stephenson... "
     ]
    },
    {
     "cell_type": "heading",
     "level": 1,
     "metadata": {},
     "source": [
      "Dragon's egg - Robert L. Forward"
     ]
    },
    {
     "cell_type": "code",
     "collapsed": false,
     "input": [
      "Image(url=\"http://ecx.images-amazon.com/images/I/51ikM9lrAXL._SY300_.jpg\")"
     ],
     "language": "python",
     "metadata": {},
     "outputs": [
      {
       "html": [
        "<img src=\"http://ecx.images-amazon.com/images/I/51ikM9lrAXL._SY300_.jpg\" />"
       ],
       "output_type": "pyout",
       "prompt_number": 9,
       "text": [
        "<IPython.core.display.Image at 0xa086bec>"
       ]
      }
     ],
     "prompt_number": 9
    },
    {
     "cell_type": "markdown",
     "metadata": {},
     "source": [
      "Read on Kinle June 2013 (courtesy of Boris also).\n",
      "\n",
      "Entertaining and quick to read. Unfortunately, the neutron star explanations with the magnetic fields didn't rely stick with me. But great imagination job for imagining the Cheela universe and showing the different steps of civilisation from prehistoric times through the major discoveries (a Cheela learns how to count) to super-gravitational theories. The author quite clearly incorporates elements of Darwinian evolution (selection, mutation) into how he lets his invented civilisation develop."
     ]
    },
    {
     "cell_type": "heading",
     "level": 1,
     "metadata": {},
     "source": [
      "Certaines n'avaient jamais vu la mer - Julie Otsuka"
     ]
    },
    {
     "cell_type": "code",
     "collapsed": false,
     "input": [
      "Image(url=\"http://ecx.images-amazon.com/images/I/51k%2BPUD6Z8L._.jpg\")"
     ],
     "language": "python",
     "metadata": {},
     "outputs": [
      {
       "html": [
        "<img src=\"http://ecx.images-amazon.com/images/I/51k%2BPUD6Z8L._.jpg\" />"
       ],
       "output_type": "pyout",
       "prompt_number": 2,
       "text": [
        "<IPython.core.display.Image at 0x517fb10>"
       ]
      }
     ],
     "prompt_number": 2
    },
    {
     "cell_type": "markdown",
     "metadata": {},
     "source": [
      "Date: July 2013\n",
      "\n",
      "Just finished reading this book about Japanese female immigrants to the US in the 1900-1940s. The English title is *The Buddha in the attic*. The narration style is interesting: a constant superposition of different voices from woman who find themselves in a variety of circonstances. Something constant throughout the book: a sense of lost human destinies (what were their lives useful for?). A question to the reader: are we better off now? Does the sort of racism, of non-understanding of the other culture, still exist in our societies? Would I act as the foreigners on these \"poor Japanese people\" in the wake of Pearl Harbor?"
     ]
    },
    {
     "cell_type": "heading",
     "level": 1,
     "metadata": {},
     "source": [
      "Marie-Antoinette - Stefan Zweig"
     ]
    },
    {
     "cell_type": "code",
     "collapsed": false,
     "input": [
      "Image(url=\"http://ecx.images-amazon.com/images/I/51IerGfQJQL._SY300_.jpg\")"
     ],
     "language": "python",
     "metadata": {},
     "outputs": [
      {
       "html": [
        "<img src=\"http://ecx.images-amazon.com/images/I/51IerGfQJQL._SY300_.jpg\" />"
       ],
       "output_type": "pyout",
       "prompt_number": 3,
       "text": [
        "<IPython.core.display.Image at 0x517fbd0>"
       ]
      }
     ],
     "prompt_number": 3
    },
    {
     "cell_type": "markdown",
     "metadata": {},
     "source": [
      "Date: July 2013.\n",
      "\n",
      "Links to some of the pamphlets written about Marie-Antoinette:\n",
      "\n",
      "- [Fureurs ut\u00e9rines de Marie-Antoinette](http://gallica.bnf.fr/ark:/12148/bpt6k42711v)\n",
      "- [Le vrai caract\u00e8re de Marie-Antoinette](http://gallica.bnf.fr/ark:/12148/bpt6k42707m)\n",
      "\n",
      "Very interesting book. Detailed account of Marie-Antoinette's life, from princess to guillotine. It's interesting to see that many sources used by the author are nowadays available as scanned material in the online national libraries. Also, the author has a theory of how people get inside their role through history and tries to make this view fit on Marie-Antoinette who supposedly learnt her role at the end of her life, when all was already lost for her. One thing I thought is that no matter what ideals the French revolution was about, the revolutionaries still did horrible things to other human beings.\n",
      "\n",
      "Marie-Antoinette's life in bullet points:\n",
      "\n",
      "- born in Austria, daughter of Empress Maria-Theresia\n",
      "- distraught as a child, education imperfect\n",
      "- was married as a young girl to the dauphin\n",
      "- first years in Versailles \n",
      "- queen at the death of Louis XV\n",
      "- rococo and Trianon\n",
      "- first child (after years of psychological war between her husband and her!)\n",
      "- bad reputation, no interest in state affairs, unlucky friendships among the aristocracy, l'affaire du collier\n",
      "- one true love: Axel duc de Fersen, but held on to her position in society (of course!!)\n",
      "- last night in Versailles: life in Paris at the Tuileries\n",
      "- alliance with Mirabeau to attempt an escape from that situation\n",
      "- flight to Varennes (1791)\n",
      "- le Temple"
     ]
    },
    {
     "cell_type": "heading",
     "level": 1,
     "metadata": {},
     "source": [
      "Der Verdacht -  Friedrich D\u00fcrrenmatt"
     ]
    },
    {
     "cell_type": "code",
     "collapsed": false,
     "input": [
      "Image(url=\"http://ecx.images-amazon.com/images/I/61G6oDGl-yL._SL1059_.jpg\")"
     ],
     "language": "python",
     "metadata": {},
     "outputs": [
      {
       "html": [
        "<img src=\"http://ecx.images-amazon.com/images/I/61G6oDGl-yL._SL1059_.jpg\" />"
       ],
       "output_type": "pyout",
       "prompt_number": 5,
       "text": [
        "<IPython.core.display.Image at 0x517fc50>"
       ]
      }
     ],
     "prompt_number": 5
    },
    {
     "cell_type": "markdown",
     "metadata": {},
     "source": [
      "Datum: Juli 2013 (QNDE).\n",
      "\n",
      "Ein wunderbares Buch! Der Kommiss\u00e4r B\u00e4rlach ist ein richtiger Kerl, der Vodka vertr\u00e4gt trotz seiner schwierigen Krankheit. Unb\u00e4ndig gibt ihm sein letzter Verdacht keine Ruhe, bis er selber in der Klemme steckt. Jetzt w\u00fcrde ich sehr gerne den *Richter und sein Henker* lesen."
     ]
    },
    {
     "cell_type": "heading",
     "level": 1,
     "metadata": {},
     "source": [
      "The Tipping Point - Malcolm Gladwell"
     ]
    },
    {
     "cell_type": "code",
     "collapsed": false,
     "input": [
      "Image(url='http://ecx.images-amazon.com/images/I/31ng4NQZ-qL._BO2,204,203,200_PIsitb-sticker-arrow-click,TopRight,35,-76_SX385_SY500_CR,0,0,385,500_SH20_OU08_.jpg')"
     ],
     "language": "python",
     "metadata": {},
     "outputs": [
      {
       "html": [
        "<img src=\"http://ecx.images-amazon.com/images/I/31ng4NQZ-qL._BO2,204,203,200_PIsitb-sticker-arrow-click,TopRight,35,-76_SX385_SY500_CR,0,0,385,500_SH20_OU08_.jpg\" />"
       ],
       "output_type": "pyout",
       "prompt_number": 6,
       "text": [
        "<IPython.core.display.Image at 0xa086d8c>"
       ]
      }
     ],
     "prompt_number": 6
    },
    {
     "cell_type": "markdown",
     "metadata": {},
     "source": [
      "Date: July - August 2013 (bought during QNDE).\n",
      "\n",
      "As one reviewer on Amazon said: not very scientific. However, still an interesting read in the sense that it makes you think about some sides of your behaviour. I like the reference to the Stanford prison experiment, a sort of memento that context can make you do things you wouldn't in a normal environment. Instead of refering to people by their characters (\"generous\"), one should always remember that context can alter the sort of person you display. \n",
      "A weakness I found out is his explanation of the New York crime backwards epidemy (disappearance). I re-read the chapter devoted to it in Freakonomics and found out that what Gladwell writes on this is wrong. Gladwell explains that crime fell because of the effect of innovative policing methods based on the \"broken window theory\". However, the Freakonomics authors explain that crime fell everywhere during the early 90s while these methods were not commonplace. So much for that argument. In fact, the chapter in Freakonomics is the document to read on the subject !\n",
      "\n",
      "- the economy doesn't really act on crime (killing someone has no economic motivation, well, only in rare cases...)\n",
      "- imprisonment accounted for 1/3 (33 %) of the crime drop\n",
      "- additional police accounted for 1/10 (10 %) of the crime drop\n",
      "- the crash of the crack market accounted for 15 % of the crime drop\n",
      "- abortion 30 %\n",
      "\n",
      "All in all, quite nicely done, even though it is a sort of meta-study that miscellaneously assembles personal theories of Gladwell to exisiting scientific results."
     ]
    },
    {
     "cell_type": "heading",
     "level": 1,
     "metadata": {},
     "source": [
      "Ender's game - Orson Scott Card"
     ]
    },
    {
     "cell_type": "code",
     "collapsed": false,
     "input": [
      "Image(url=\"http://ecx.images-amazon.com/images/I/51tSaVoWvtL._.jpg\")"
     ],
     "language": "python",
     "metadata": {},
     "outputs": [
      {
       "html": [
        "<img src=\"http://ecx.images-amazon.com/images/I/51tSaVoWvtL._.jpg\" />"
       ],
       "output_type": "pyout",
       "prompt_number": 7,
       "text": [
        "<IPython.core.display.Image at 0xa08674c>"
       ]
      }
     ],
     "prompt_number": 7
    },
    {
     "cell_type": "markdown",
     "metadata": {},
     "source": [
      "Date: August 2013. Mostly read on the flight back from NY to Paris.\n",
      "\n",
      "Very good read. Even though there is something sad and unhuman about extermining an alien race that you're unable to communicate with. And using kids to do this in the process. As in Anathem, a thought comes to mind: is it realistic to rely on children to save the day for the adult world? Why does this topic appeal to writers and readers? (because we've all been children, maybe?)"
     ]
    },
    {
     "cell_type": "code",
     "collapsed": false,
     "input": [
      "Image(url=\"http://ecx.images-amazon.com/images/I/515YqxxXiDL._.jpg\")"
     ],
     "language": "python",
     "metadata": {},
     "outputs": [
      {
       "html": [
        "<img src=\"http://ecx.images-amazon.com/images/I/515YqxxXiDL._.jpg\" />"
       ],
       "output_type": "pyout",
       "prompt_number": 10,
       "text": [
        "<IPython.core.display.Image at 0xa086e6c>"
       ]
      }
     ],
     "prompt_number": 10
    },
    {
     "cell_type": "markdown",
     "metadata": {},
     "source": [
      "Datum: August 2013. \n",
      "\n",
      "Es hat sich einfach so ergeben dass ich beide Kriminalromane noch mal an einem St\u00fcck durchgelesen habe, weil mir der Komiss\u00e4r B\u00e4rlach so gut gefallen hat. *Der Richter und sein Henker* endet wirklich mit einer erstaunlichen Weise. *Der Verdacht*, wie oben schon beschrieben, ist auch ein exzellenter Krimi. Muss ich beide weiterempfehlen! "
     ]
    },
    {
     "cell_type": "heading",
     "level": 1,
     "metadata": {},
     "source": [
      "High fidelity - Nick Hornby"
     ]
    },
    {
     "cell_type": "code",
     "collapsed": false,
     "input": [
      "Image(url=\"http://ecx.images-amazon.com/images/I/51-WVML-XaL._BO2,204,203,200_PIsitb-sticker-arrow-click,TopRight,35,-76_AA300_SH20_OU08_.jpg\")"
     ],
     "language": "python",
     "metadata": {},
     "outputs": [
      {
       "html": [
        "<img src=\"http://ecx.images-amazon.com/images/I/51-WVML-XaL._BO2,204,203,200_PIsitb-sticker-arrow-click,TopRight,35,-76_AA300_SH20_OU08_.jpg\" />"
       ],
       "output_type": "pyout",
       "prompt_number": 2,
       "text": [
        "<IPython.core.display.Image at 0xaa7fe2c>"
       ]
      }
     ],
     "prompt_number": 2
    },
    {
     "cell_type": "markdown",
     "metadata": {},
     "source": [
      "When: August 21-22 2013, recommended by H\u00e9l\u00e8ne. \n",
      "\n",
      "Incredibly good book. A lovely read at a very timely moment, just as I was feeling a little blunt at the edges coming back from the summer vacations. Story's about a bloke called Rob, record shop owner and 35, that breaks up with Laura. Going through all possible doubts, with a heartening ending. A constant theme: the top 5 lists of something, anything, records, break-ups, people. Makes you feel good about your life and about your surroundings. Makes me want to become a better person, with or without someone at my side.\n",
      "\n"
     ]
    },
    {
     "cell_type": "heading",
     "level": 1,
     "metadata": {},
     "source": [
      "L'\u00e9l\u00e9gance du h\u00e9risson - Muriel Barbery"
     ]
    },
    {
     "cell_type": "code",
     "collapsed": false,
     "input": [
      "Image(url=\"http://ecx.images-amazon.com/images/I/519Ccs%2BiaAL._SL500_SY300_.jpg\")"
     ],
     "language": "python",
     "metadata": {},
     "outputs": [
      {
       "html": [
        "<img src=\"http://ecx.images-amazon.com/images/I/519Ccs%2BiaAL._SL500_SY300_.jpg\" />"
       ],
       "output_type": "pyout",
       "prompt_number": 2,
       "text": [
        "<IPython.core.display.Image at 0x984dccc>"
       ]
      }
     ],
     "prompt_number": 2
    },
    {
     "cell_type": "markdown",
     "metadata": {},
     "source": [
      "Quand : fin ao\u00fbt, d\u00e9but septembre 2013. De la part de Lisa.\n",
      "\n",
      "J'ai aim\u00e9 l'\u00e9l\u00e9gance du h\u00e9risson. Certains th\u00e8mes ont raisonn\u00e9 en moi : le japonais, lire des livres compliqu\u00e9s, distinguer le vrai du faux, la simplicit\u00e9, parler fran\u00e7ais, \u00eatre auto-didacte, la culture. C'est un livre qui m'a pos\u00e9 beaucoup de questions. Une existence vaut-elle mieux qu'une autre ? Quel r\u00f4le la soci\u00e9t\u00e9 joue-t-elle dans la valeur que nous accordons \u00e0 notre existence ? Faut-il avoir lu des livres de philosophie (Kant, si tu m'entends...) pour s'en sortir ? Ma\u00eetrise-t-on tous les leviers d'une vie heureuse (notre enfance ?) ? Faut-il continuer \u00e0 apprendre le japonais ? Faut-il s'enfermer dans sa chambre et regarder des films japonais et s'extasier \u00e0 leur sujet ? Si Ren\u00e9e n'\u00e9tait pas concierge, mais autre chose, m\u00e8nerait-elle le m\u00eame train de vie ? Faut-il se dissimuler aux yeux des autres ? Y'a-t-il des arguments en faveur de cela ? As-t-on le droit de ne pas aimer certaines personnes et (cons\u00e9quence) de les m\u00e9priser ?\n",
      "\n",
      "Fight, flee or freeze.\n",
      "\n",
      "J'ai aim\u00e9 toutes les r\u00e9f\u00e9rences culturelles :\n",
      "\n",
      "- Guerre et Paix (Koutouzov)\n",
      "- Anna Kar\u00e9nine\n",
      "- les soeurs Munakata (d'Ozu)\n",
      "- le go\u00fbt du riz au th\u00e9 vert (Ozu)\n",
      "- Tokyo-Ga (de Wim Wenders), consacr\u00e9 \u00e0 Ozu\n",
      "- Kakuzo Okakura, auteur du *Livre du th\u00e9*\n",
      "- A la poursuite d'octobre rouge\n",
      "- Blade Runner\n",
      "- Marx, *L'id\u00e9ologie allemande*\n",
      "- Black Rain\n",
      "- Didon et En\u00e9e, de Purcell (Thy hand, lovest soul, darkness shades me)\n",
      "- Guillaume d'Ockham\n",
      "- Confutatis, du Requiem de Mozart\n",
      "- Titus et B\u00e9r\u00e9nice\n"
     ]
    },
    {
     "cell_type": "heading",
     "level": 1,
     "metadata": {},
     "source": [
      "L'esprit taupin (pr\u00e9face du livre *r\u00e9sistance des fluides*) - Henri Bouasse"
     ]
    },
    {
     "cell_type": "markdown",
     "metadata": {},
     "source": [
      "Date : septembre 2013.\n",
      "\n",
      "Ou quelques critiques qui font confondre des mod\u00e8les avec la r\u00e9alit\u00e9 du monde..."
     ]
    },
    {
     "cell_type": "code",
     "collapsed": false,
     "input": [
      "from IPython.display import HTML\n",
      "HTML(\"\"\"<div height=800>\n",
      "<object codebase=\"http://download.macromedia.com/pub/shockwave/cabs/flash/swflash.cab#version=9,0,0,0\" id=\"doc_24801706\" name=\"doc_24801706\" classid=\"clsid:d27cdb6e-ae6d-11cf-96b8-444553540000\" align=\"right\" height=\"500\" width=\"100%\">\t\t\n",
      "\t\t\t\t\t<param name=\"movie\"\tvalue=\"http://documents.scribd.com/ScribdViewer.swf?document_id=24801706&access_key=key-k7du6h12xz77i68v0t8&page=&version=1\">\n",
      "\t\t\t\t\t<param name=\"quality\" value=\"high\">\n",
      "\t\t\t\t\t<param name=\"play\" value=\"true\">\n",
      "\t\t\t\t\t<param name=\"loop\" value=\"true\">\n",
      "\t\t\t\t\t<param name=\"scale\" value=\"showall\">\n",
      "\t\t\t\t\t<param name=\"wmode\" value=\"opaque\">\n",
      "\t\t\t\t\t<param name=\"devicefont\" value=\"false\">\n",
      "\t\t\t\t\t<param name=\"bgcolor\" value=\"#ffffff\">\n",
      "\t\t\t\t\t<param name=\"menu\" value=\"true\">\n",
      "\t\t\t\t\t<param name=\"allowFullScreen\" value=\"true\">\n",
      "\t\t\t\t\t<param name=\"allowScriptAccess\" value=\"always\">\n",
      "\t\t\t\t\t<param name=\"salign\" value=\"\">\n",
      "\t\t\t\t\t<embed src=\"http://documents.scribd.com/ScribdViewer.swf?document_id=24801706&access_key=key-k7du6h12xz77i68v0t8&page=&version=1\" \n",
      "                        quality=\"high\" pluginspage=\"http://www.macromedia.com/go/getflashplayer\" play=\"true\" loop=\"true\" scale=\"showall\" \n",
      "                        wmode=\"opaque\" devicefont=\"false\" bgcolor=\"#ffffff\" name=\"doc_362147636819002_object\" menu=\"true\" allowfullscreen=\"true\" \n",
      "                        allowscriptaccess=\"always\" salign=\"\" type=\"application/x-shockwave-flash\" align=\"left\" height=100% width=\"600\"></embed>\t\n",
      "\t\t\t\t</object>\n",
      "    </div>\"\"\")"
     ],
     "language": "python",
     "metadata": {},
     "outputs": [
      {
       "html": [
        "<div height=800>\n",
        "<object codebase=\"http://download.macromedia.com/pub/shockwave/cabs/flash/swflash.cab#version=9,0,0,0\" id=\"doc_24801706\" name=\"doc_24801706\" classid=\"clsid:d27cdb6e-ae6d-11cf-96b8-444553540000\" align=\"right\" height=\"500\" width=\"100%\">\t\t\n",
        "\t\t\t\t\t<param name=\"movie\"\tvalue=\"http://documents.scribd.com/ScribdViewer.swf?document_id=24801706&access_key=key-k7du6h12xz77i68v0t8&page=&version=1\">\n",
        "\t\t\t\t\t<param name=\"quality\" value=\"high\">\n",
        "\t\t\t\t\t<param name=\"play\" value=\"true\">\n",
        "\t\t\t\t\t<param name=\"loop\" value=\"true\">\n",
        "\t\t\t\t\t<param name=\"scale\" value=\"showall\">\n",
        "\t\t\t\t\t<param name=\"wmode\" value=\"opaque\">\n",
        "\t\t\t\t\t<param name=\"devicefont\" value=\"false\">\n",
        "\t\t\t\t\t<param name=\"bgcolor\" value=\"#ffffff\">\n",
        "\t\t\t\t\t<param name=\"menu\" value=\"true\">\n",
        "\t\t\t\t\t<param name=\"allowFullScreen\" value=\"true\">\n",
        "\t\t\t\t\t<param name=\"allowScriptAccess\" value=\"always\">\n",
        "\t\t\t\t\t<param name=\"salign\" value=\"\">\n",
        "\t\t\t\t\t<embed src=\"http://documents.scribd.com/ScribdViewer.swf?document_id=24801706&access_key=key-k7du6h12xz77i68v0t8&page=&version=1\" \n",
        "                        quality=\"high\" pluginspage=\"http://www.macromedia.com/go/getflashplayer\" play=\"true\" loop=\"true\" scale=\"showall\" \n",
        "                        wmode=\"opaque\" devicefont=\"false\" bgcolor=\"#ffffff\" name=\"doc_362147636819002_object\" menu=\"true\" allowfullscreen=\"true\" \n",
        "                        allowscriptaccess=\"always\" salign=\"\" type=\"application/x-shockwave-flash\" align=\"left\" height=100% width=\"600\"></embed>\t\n",
        "\t\t\t\t</object>\n",
        "    </div>"
       ],
       "output_type": "pyout",
       "prompt_number": 10,
       "text": [
        "<IPython.core.display.HTML at 0x451a770>"
       ]
      }
     ],
     "prompt_number": 10
    },
    {
     "cell_type": "heading",
     "level": 1,
     "metadata": {},
     "source": [
      "Happy Birthday, T\u00fcrke! - Jakob Arjouni"
     ]
    },
    {
     "cell_type": "code",
     "collapsed": false,
     "input": [
      "Image(url='http://ecx.images-amazon.com/images/I/41pzCUMxthL._BO2,204,203,200_PIsitb-sticker-arrow-click,TopRight,35,-76_SX385_SY500_CR,0,0,385,500_SH20_OU03_.jpg')"
     ],
     "language": "python",
     "metadata": {},
     "outputs": [
      {
       "html": [
        "<img src=\"http://ecx.images-amazon.com/images/I/41pzCUMxthL._BO2,204,203,200_PIsitb-sticker-arrow-click,TopRight,35,-76_SX385_SY500_CR,0,0,385,500_SH20_OU03_.jpg\"/>"
       ],
       "metadata": {},
       "output_type": "pyout",
       "prompt_number": 4,
       "text": [
        "<IPython.core.display.Image at 0x9f3e36c>"
       ]
      }
     ],
     "prompt_number": 4
    },
    {
     "cell_type": "heading",
     "level": 1,
     "metadata": {},
     "source": [
      "Mehr Bier - Jakob Arjouni"
     ]
    },
    {
     "cell_type": "code",
     "collapsed": false,
     "input": [
      "Image(url='http://ecx.images-amazon.com/images/I/41RmuH6QH-L._BO2,204,203,200_PIsitb-sticker-arrow-click,TopRight,35,-76_SX385_SY500_CR,0,0,385,500_SH20_OU03_.jpg')"
     ],
     "language": "python",
     "metadata": {},
     "outputs": [
      {
       "html": [
        "<img src=\"http://ecx.images-amazon.com/images/I/41RmuH6QH-L._BO2,204,203,200_PIsitb-sticker-arrow-click,TopRight,35,-76_SX385_SY500_CR,0,0,385,500_SH20_OU03_.jpg\"/>"
       ],
       "metadata": {},
       "output_type": "pyout",
       "prompt_number": 5,
       "text": [
        "<IPython.core.display.Image at 0x9f3e80c>"
       ]
      }
     ],
     "prompt_number": 5
    },
    {
     "cell_type": "heading",
     "level": 1,
     "metadata": {},
     "source": [
      "Fouch\u00e9 - Stefan Zweig"
     ]
    },
    {
     "cell_type": "code",
     "collapsed": false,
     "input": [
      "Image(url='http://ecx.images-amazon.com/images/I/31EHSL8D6HL._AA278_PIkin4,BottomRight,-51,22_AA300_SH20_OU08_.jpg')"
     ],
     "language": "python",
     "metadata": {},
     "outputs": [
      {
       "html": [
        "<img src=\"http://ecx.images-amazon.com/images/I/31EHSL8D6HL._AA278_PIkin4,BottomRight,-51,22_AA300_SH20_OU08_.jpg\"/>"
       ],
       "metadata": {},
       "output_type": "pyout",
       "prompt_number": 2,
       "text": [
        "<IPython.core.display.Image at 0x9f4298c>"
       ]
      }
     ],
     "prompt_number": 2
    },
    {
     "cell_type": "markdown",
     "metadata": {},
     "source": [
      "Date : septembre 2013.\n",
      "\n",
      "Pr\u00eat\u00e9 par Rapha\u00eblle."
     ]
    },
    {
     "cell_type": "code",
     "collapsed": false,
     "input": [],
     "language": "python",
     "metadata": {},
     "outputs": []
    }
   ],
   "metadata": {}
  }
 ]
}