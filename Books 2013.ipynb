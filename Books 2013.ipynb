{
 "metadata": {
  "name": "Books 2013"
 },
 "nbformat": 3,
 "nbformat_minor": 0,
 "worksheets": [
  {
   "cells": [
    {
     "cell_type": "code",
     "collapsed": false,
     "input": [
      "from IPython.display import Image"
     ],
     "language": "python",
     "metadata": {},
     "outputs": [],
     "prompt_number": 1
    },
    {
     "cell_type": "heading",
     "level": 1,
     "metadata": {},
     "source": [
      "Certaines n'avaient jamais vu la mer - Julie Otsuka"
     ]
    },
    {
     "cell_type": "code",
     "collapsed": false,
     "input": [
      "Image(url=\"http://ecx.images-amazon.com/images/I/51k%2BPUD6Z8L._.jpg\")"
     ],
     "language": "python",
     "metadata": {},
     "outputs": [
      {
       "html": [
        "<img src=\"http://ecx.images-amazon.com/images/I/51k%2BPUD6Z8L._.jpg\" />"
       ],
       "output_type": "pyout",
       "prompt_number": 2,
       "text": [
        "<IPython.core.display.Image at 0xac8788c>"
       ]
      }
     ],
     "prompt_number": 2
    },
    {
     "cell_type": "markdown",
     "metadata": {},
     "source": [
      "Date: July 2013\n",
      "\n",
      "Just finished reading this book about Japanese female immigrants to the US in the 1900-1940s. The English title is *The Buddha in the attic*. The narration style is interesting: a constant superposition of different voices from woman who find themselves in a variety of circonstances. Something constant throughout the book: a sense of lost human destinies (what were their lives useful for?). A question to the reader: are we better off now? Does the sort of racism, of non-understanding of the other culture, still exist in our societies? Would I act as the foreigners on these \"poor Japanese people\" in the wake of Pearl Harbor?"
     ]
    },
    {
     "cell_type": "heading",
     "level": 1,
     "metadata": {},
     "source": [
      "Marie-Antoinette - Stefan Zweig"
     ]
    },
    {
     "cell_type": "code",
     "collapsed": false,
     "input": [
      "Image(url=\"http://ecx.images-amazon.com/images/I/51IerGfQJQL._SY300_.jpg\")"
     ],
     "language": "python",
     "metadata": {},
     "outputs": [
      {
       "html": [
        "<img src=\"http://ecx.images-amazon.com/images/I/51IerGfQJQL._SY300_.jpg\" />"
       ],
       "output_type": "pyout",
       "prompt_number": 3,
       "text": [
        "<IPython.core.display.Image at 0xac876ac>"
       ]
      }
     ],
     "prompt_number": 3
    },
    {
     "cell_type": "markdown",
     "metadata": {},
     "source": [
      "Read in progress: July 2013."
     ]
    },
    {
     "cell_type": "code",
     "collapsed": false,
     "input": [],
     "language": "python",
     "metadata": {},
     "outputs": []
    }
   ],
   "metadata": {}
  }
 ]
}