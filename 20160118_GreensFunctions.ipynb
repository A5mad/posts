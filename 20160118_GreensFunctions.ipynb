{
 "cells": [
  {
   "cell_type": "markdown",
   "metadata": {},
   "source": [
    "\"What are Green's functions?\"\n",
    "\n",
    "I've been wondering for quite some time about them, so it's now time to delve into the mathematics of Green functions. \n",
    "\n",
    "Described with simple words, [Green's functions](https://en.wikipedia.org/wiki/Green%27s_function) are elementary solutions of linear differential equations that allow one to construct a full solution of the problem using the superposition principle (also called [convolution](https://sites.google.com/site/butwhymath/m/convolution)). \n",
    "\n",
    "These functions also go by the name of impulse response (see an [excellent article by John D. Cook](http://www.johndcook.com/blog/2015/10/20/impulse-response/) for a good physical explanation).\n",
    "\n",
    "One of the things I like about this is that Green's functions are a cornerstone of many things I'm interested in: physics (the problem to be solved), Fourier transforms (that's often the way you sum solutions), and convolutions.\n",
    "\n",
    "The outline of the article is as follows:\n",
    "\n",
    "- description of our sample problem: the 1D wave equation / the harmonic oscillator\n",
    "- intuition about what a Green's function is (the impulse response)\n",
    "- summing over solutions using the convolution theorem"
   ]
  },
  {
   "cell_type": "markdown",
   "metadata": {},
   "source": [
    "TODO : \n",
    "\n",
    "choose the problem, describe it\n",
    "**1d Wave equation**\n",
    "$$\\partial_t^2 - c^2\\partial_x^2 \\Rightarrow \\frac{1}{2c}\\theta(t - |x/c|) $$\n",
    "\n",
    "**1d harmoonic oscillator**\n",
    "$$\n",
    "\\partial_t^2 + 2\\gamma\\partial_t + \\omega_0^2 \\Rightarrow \\theta(t)\\mathrm e^{-\\gamma t}\\frac{1}{\\omega}\\sin(\\omega t) with \\omega=\\sqrt{\\omega_0^2-\\gamma^2}\n",
    "$$"
   ]
  },
  {
   "cell_type": "markdown",
   "metadata": {},
   "source": [
    "# Problem description "
   ]
  },
  {
   "cell_type": "code",
   "execution_count": null,
   "metadata": {
    "collapsed": true
   },
   "outputs": [],
   "source": []
  },
  {
   "cell_type": "markdown",
   "metadata": {},
   "source": [
    "# Intuition with Green's functions - the impulse response "
   ]
  },
  {
   "cell_type": "code",
   "execution_count": null,
   "metadata": {
    "collapsed": true
   },
   "outputs": [],
   "source": []
  },
  {
   "cell_type": "markdown",
   "metadata": {},
   "source": [
    "# Summing over solutions using the convolution theorem "
   ]
  },
  {
   "cell_type": "code",
   "execution_count": null,
   "metadata": {
    "collapsed": true
   },
   "outputs": [],
   "source": []
  },
  {
   "cell_type": "markdown",
   "metadata": {},
   "source": [
    "# Conclusions "
   ]
  },
  {
   "cell_type": "code",
   "execution_count": null,
   "metadata": {
    "collapsed": true
   },
   "outputs": [],
   "source": []
  }
 ],
 "metadata": {
  "kernelspec": {
   "display_name": "Python 3",
   "language": "python",
   "name": "python3"
  },
  "language_info": {
   "codemirror_mode": {
    "name": "ipython",
    "version": 3
   },
   "file_extension": ".py",
   "mimetype": "text/x-python",
   "name": "python",
   "nbconvert_exporter": "python",
   "pygments_lexer": "ipython3",
   "version": "3.5.1"
  }
 },
 "nbformat": 4,
 "nbformat_minor": 0
}
