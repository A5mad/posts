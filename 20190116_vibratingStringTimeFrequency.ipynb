{
 "cells": [
  {
   "cell_type": "markdown",
   "metadata": {},
   "source": [
    "The objective of this notebook is to show two sides of the same problem: time domain solution of the vibrating string and also frequency domain solution."
   ]
  },
  {
   "cell_type": "markdown",
   "metadata": {},
   "source": [
    "# The vibrating string equation "
   ]
  },
  {
   "cell_type": "markdown",
   "metadata": {},
   "source": [
    "The equation of the transverse displacement of a vibrating string $y(x,t)$ is, $\\forall x \\in [0, L]$, $\\forall t \\geq 0$:\n",
    "\n",
    "$$\n",
    "m \\dfrac{\\partial^2 y}{\\partial t^2} - T \\dfrac{\\partial^2 y}{\\partial x^2} = 0\n",
    "$$"
   ]
  },
  {
   "cell_type": "markdown",
   "metadata": {},
   "source": [
    "We will solve this with so-called Dirichlet boundary conditions, meaning that the string has a zero displacement at its ends, i.e. $\\forall t \\geq 0 \\; y(0, t) = y(L, t) = 0$. Initial conditions will be as follows:\n",
    "\n",
    "- $\\forall x \\in [0, L], \\quad y(x, 0) = y_0(x)$\n",
    "- $\\forall x \\in [0, L], \\quad \\dot{y}(x, 0) = 0$"
   ]
  },
  {
   "cell_type": "markdown",
   "metadata": {},
   "source": [
    "# Time-domain solution "
   ]
  },
  {
   "cell_type": "markdown",
   "metadata": {},
   "source": [
    "Let's implement a time-domain solution known as finite differences. The partial differential equation above, once discretized on a grid, becomes:\n",
    "\n",
    "$$\n",
    "m \\dfrac{y_i^{n+1} - 2 y_i^{n} + y_i^{n-1}}{\\Delta t^2} - T \\dfrac{y_{i+1}^{n} - 2 y_{i}^{n} + y_{i-1}^{n}}{\\Delta x^2} = 0\n",
    "$$\n",
    "\n",
    "After reordering the terms, we obtain the following *propagation step*:\n",
    "\n",
    "$$\n",
    "\\forall i \\in [1, N-1] \\quad y_i^{n+1} = 2 y_i^{n} - y_i^{n-1} + \\dfrac{T}{m} \\dfrac{\\Delta t^2}{\\Delta x^2} \\left ( y_{i+1}^{n} - 2 y_{i}^{n} + y_{i-1}^{n}\\right )\n",
    "$$\n"
   ]
  },
  {
   "cell_type": "markdown",
   "metadata": {},
   "source": [
    "We can setup a simple implementation of the solution as follows:"
   ]
  },
  {
   "cell_type": "code",
   "execution_count": null,
   "metadata": {},
   "outputs": [],
   "source": [
    "import numpy as np\n",
    "\n",
    "class TimeDomainSolver:\n",
    "    \n",
    "    def __init__(self, L, nx, T, m, y0):\n",
    "        \"\"\"Setup of the time domain solver.\"\"\"\n",
    "        self.x = np.linspace(0, L, num=nx)\n",
    "        self.dx = self.x[1] - self.x[0]\n",
    "        c = np.sqrt(T/m)\n",
    "        self.dt = self.dx / c\n",
    "        self.uprev = y0(self.x)\n",
    "        self.ucurr = y0(self.x)\n",
    "        self.alpha = T / m * self.dt ** 2 / self.dx **2\n",
    "        \n",
    "        \n",
    "    def step(self):\n",
    "        \"\"\"Steps the system forward in time.\"\"\"\n",
    "        unext = np.zeros_like(self.ucurr)\n",
    "        unext[1: -1] = 2 * self.ucurr[1:-1] - self.uprev[1:-1] + \\\n",
    "                        self.alpha * (self.ucurr[2:] - 2 * self.ucurr[1:-1] + self.ucurr[:-2])\n",
    "        self.ucurr, self.uprev = unext, self.ucurr\n",
    "        \n",
    "    def steps(self, n):\n",
    "        for _ in range(n):\n",
    "            self.step()"
   ]
  },
  {
   "cell_type": "markdown",
   "metadata": {},
   "source": [
    "To test our implementation, we will consider a triangular initial string with the properties of a low E string of a guitar (such as those that you can find on the back of electric guitar strings, as [here](http://www.daddario.com/DAstringtensionguide.Page?sid=91901025-4136-404a-8c26-e020667e8b5e))."
   ]
  },
  {
   "cell_type": "code",
   "execution_count": null,
   "metadata": {},
   "outputs": [],
   "source": [
    "L = 0.6477 # m\n",
    "T = 7.93 * 9.81 # kg * m.s^-2\n",
    "f0 = 82.4 # Hz\n",
    "c = 2 * L * f0\n",
    "m = T / c**2\n",
    "\n",
    "triangle = lambda x: (x * 2 / L) * (x < L/2) + (-x * 2 / L + 2) * (x >= L/2) \n",
    "\n",
    "td_solver = TimeDomainSolver(L, 200, T, m, triangle)"
   ]
  },
  {
   "cell_type": "markdown",
   "metadata": {},
   "source": [
    "Let's visualize the initial position of the string:"
   ]
  },
  {
   "cell_type": "code",
   "execution_count": null,
   "metadata": {},
   "outputs": [],
   "source": [
    "import holoviews as hv\n",
    "hv.extension('bokeh')\n",
    "hv.opts.defaults(hv.opts.Curve(width=500))"
   ]
  },
  {
   "cell_type": "code",
   "execution_count": null,
   "metadata": {},
   "outputs": [],
   "source": [
    "hv.Curve((td_solver.x, td_solver.uprev))"
   ]
  },
  {
   "cell_type": "markdown",
   "metadata": {},
   "source": [
    "We can now step the system and see how the string deforms."
   ]
  },
  {
   "cell_type": "code",
   "execution_count": null,
   "metadata": {},
   "outputs": [],
   "source": [
    "td_solver.steps(10)\n",
    "\n",
    "hv.Curve((td_solver.x, td_solver.ucurr)).redim.range(y=(-1, 1))"
   ]
  },
  {
   "cell_type": "markdown",
   "metadata": {},
   "source": [
    "Let's animate this:"
   ]
  },
  {
   "cell_type": "code",
   "execution_count": null,
   "metadata": {},
   "outputs": [],
   "source": [
    "snapshots = []\n",
    "td_solver = TimeDomainSolver(L, 200, T, m, triangle)\n",
    "for _ in range(41):\n",
    "    snapshots.append(td_solver.ucurr.copy())\n",
    "    td_solver.steps(10)\n",
    "\n",
    "td_hmap = hv.HoloMap({i: hv.Curve((td_solver.x, snapshots[i]), label='time domain') for i in range(len(snapshots))}, kdims=['snapshot'])\n",
    "td_hmap"
   ]
  },
  {
   "cell_type": "markdown",
   "metadata": {},
   "source": [
    "We can observe that the vibrations of the string keeps the initial triangular shape and that this shape repeats after some time."
   ]
  },
  {
   "cell_type": "markdown",
   "metadata": {},
   "source": [
    "Now on to the frequency domain solution."
   ]
  },
  {
   "cell_type": "markdown",
   "metadata": {},
   "source": [
    "# Frequency domain solution "
   ]
  },
  {
   "cell_type": "markdown",
   "metadata": {},
   "source": [
    "In the frequency domain, the soluiton is written as follows: \n",
    "$$\n",
    "y(x,t)=\\sum_{n=0}^\\infty B_{n}\\sin \\left(n\\pi {x \\over L}\\right)\\cos \\left(n\\pi {c t \\over L}\\right)\n",
    "$$\n",
    "where \n",
    "$$\n",
    "B_{n}={2 \\over L}\\int _{{0}}^{{L}}f(x)\\sin \\left(n\\pi {x \\over L}\\right){\\mathrm  d}x.\n",
    "$$"
   ]
  },
  {
   "cell_type": "markdown",
   "metadata": {},
   "source": [
    "Let's use this to compute a frequency domain solver that operates with a truncated number of modes. We will keep a similar time step for animation since this will allow us to exactly compare the outcome of the simulation between our two solvers."
   ]
  },
  {
   "cell_type": "code",
   "execution_count": null,
   "metadata": {},
   "outputs": [],
   "source": [
    "x = td_solver.x\n",
    "dx = td_solver.dx"
   ]
  },
  {
   "cell_type": "code",
   "execution_count": null,
   "metadata": {},
   "outputs": [],
   "source": [
    "np.trapz(triangle(x) * np.sin(np.pi * x / L), x=x)"
   ]
  },
  {
   "cell_type": "code",
   "execution_count": null,
   "metadata": {},
   "outputs": [],
   "source": [
    "class FrequencyDomainSolver:\n",
    "    \n",
    "    def __init__(self, L, nx, T, m, y0, nmodes):\n",
    "        \"\"\"Setup of the time domain solver.\"\"\"\n",
    "        self.x = np.linspace(0, L, num=nx)\n",
    "        self.L = L\n",
    "        self.dx = self.x[1] - self.x[0]\n",
    "        c = np.sqrt(T/m)\n",
    "        self.c = c\n",
    "        self.dt = self.dx / c\n",
    "        self.t = 0.\n",
    "        self.uprev = y0(self.x)\n",
    "        self.ucurr = y0(self.x)\n",
    "        self.alpha = T / m * self.dt ** 2 / self.dx **2\n",
    "        self.nmodes = nmodes\n",
    "        self.Bn = []\n",
    "        for n in range(nmodes):\n",
    "            self.Bn.append(2/L * np.trapz(y0(self.x) * np.sin(n * np.pi * self.x / L), self.x))\n",
    "        \n",
    "        \n",
    "    def step(self):\n",
    "        \"\"\"Steps the system forward in time.\"\"\"\n",
    "        unext = np.zeros_like(self.ucurr)\n",
    "        self.t += self.dt\n",
    "        for n, Bn in zip(range(self.nmodes), self.Bn):\n",
    "            unext += Bn * np.sin(n * np.pi * self.x / self.L) * np.cos(n * np.pi * self.c / self.L * self.t)\n",
    "        self.ucurr, self.uprev = unext, self.ucurr\n",
    "        \n",
    "    def steps(self, n):\n",
    "        for _ in range(n):\n",
    "            self.step()"
   ]
  },
  {
   "cell_type": "code",
   "execution_count": null,
   "metadata": {},
   "outputs": [],
   "source": [
    "fd_solver = FrequencyDomainSolver(L, 200, T, m, triangle, nmodes=10)\n",
    "\n",
    "fd_solver.steps(10)\n",
    "\n",
    "hv.Curve((td_solver.x, fd_solver.ucurr)).redim.range(y=(-1, 1))"
   ]
  },
  {
   "cell_type": "code",
   "execution_count": null,
   "metadata": {},
   "outputs": [],
   "source": [
    "snapshots = []\n",
    "fd_solver = FrequencyDomainSolver(L, 200, T, m, triangle, nmodes=10)\n",
    "for _ in range(41):\n",
    "    snapshots.append(fd_solver.ucurr.copy())\n",
    "    fd_solver.steps(10)\n",
    "\n",
    "fd_hmap = hv.HoloMap({i: hv.Curve((fd_solver.x, snapshots[i]), label='frequency domain') for i in range(len(snapshots))}, kdims=['snapshot'])\n",
    "fd_hmap"
   ]
  },
  {
   "cell_type": "markdown",
   "metadata": {},
   "source": [
    "# Comparison of both methods "
   ]
  },
  {
   "cell_type": "code",
   "execution_count": null,
   "metadata": {},
   "outputs": [],
   "source": [
    "fd_hmap * td_hmap"
   ]
  },
  {
   "cell_type": "markdown",
   "metadata": {},
   "source": [
    "## More modes "
   ]
  },
  {
   "cell_type": "markdown",
   "metadata": {},
   "source": [
    "We could probably do better in the frequency domain if we put more modes into it."
   ]
  },
  {
   "cell_type": "code",
   "execution_count": null,
   "metadata": {},
   "outputs": [],
   "source": [
    "snapshots = []\n",
    "fd_solver = FrequencyDomainSolver(L, 200, T, m, triangle, nmodes=100)\n",
    "for _ in range(41):\n",
    "    snapshots.append(fd_solver.ucurr.copy())\n",
    "    fd_solver.steps(10)\n",
    "\n",
    "fd_hmap2 = hv.HoloMap({i: hv.Curve((fd_solver.x, snapshots[i]), label='frequency domain') for i in range(len(snapshots))}, kdims=['snapshot'])"
   ]
  },
  {
   "cell_type": "code",
   "execution_count": null,
   "metadata": {},
   "outputs": [],
   "source": [
    "fd_hmap2 * td_hmap"
   ]
  },
  {
   "cell_type": "markdown",
   "metadata": {},
   "source": [
    "By adding more modes to the frequency domain model, the result is more accurate (considering that the time domain solution as the reference)."
   ]
  },
  {
   "cell_type": "markdown",
   "metadata": {},
   "source": [
    "## Longer simulation times "
   ]
  },
  {
   "cell_type": "markdown",
   "metadata": {},
   "source": [
    "Another way of comparing these two approaches is to see what happens for very long simulation times."
   ]
  },
  {
   "cell_type": "code",
   "execution_count": null,
   "metadata": {},
   "outputs": [],
   "source": [
    "fd_solver = FrequencyDomainSolver(L, 200, T, m, triangle, nmodes=100)\n",
    "fd_solver.steps(10000)"
   ]
  },
  {
   "cell_type": "code",
   "execution_count": null,
   "metadata": {},
   "outputs": [],
   "source": [
    "td_solver = TimeDomainSolver(L, 200, T, m, triangle)\n",
    "factor = .01\n",
    "td_solver.alpha = td_solver.alpha * factor**2 \n",
    "td_solver.steps(int(1/factor * 10000))"
   ]
  },
  {
   "cell_type": "code",
   "execution_count": null,
   "metadata": {},
   "outputs": [],
   "source": [
    "hv.Curve((td_solver.x, td_solver.ucurr), label='time domain').redim.range(y=(0, .6)) * \\\n",
    "                        hv.Curve((fd_solver.x, fd_solver.ucurr), label='frequency domain')"
   ]
  },
  {
   "cell_type": "markdown",
   "metadata": {},
   "source": [
    "In the above plot, we see that the time domain solution is now pretty wigly. This phenomenom is a natural artifact of the simulated string and is called *numerical dispersion*. Here, the frequency domain solution is more trustworthy since it is a closed-form sum and does not accumulate small errors due to many updates of a numerical value. "
   ]
  },
  {
   "cell_type": "markdown",
   "metadata": {},
   "source": [
    "# Conclusions"
   ]
  },
  {
   "cell_type": "markdown",
   "metadata": {},
   "source": [
    "It's all about tradeoffs. In the physics application that I use every day at work, it seems that each subdomain has its preferred method and numerical strategy which in a very broad way boils down to choosing time-domain or frequency-domain as a reference method. "
   ]
  },
  {
   "cell_type": "markdown",
   "metadata": {},
   "source": [
    "Another question is: is this realistic? That is a difficult question, and we should have a look at YouTube, where one can find some realistic videos from guitars."
   ]
  },
  {
   "cell_type": "code",
   "execution_count": null,
   "metadata": {},
   "outputs": [],
   "source": [
    "from IPython.display import YouTubeVideo"
   ]
  },
  {
   "cell_type": "code",
   "execution_count": null,
   "metadata": {},
   "outputs": [],
   "source": [
    "YouTubeVideo('MZ1O1JkL5Dw')"
   ]
  },
  {
   "cell_type": "code",
   "execution_count": null,
   "metadata": {},
   "outputs": [],
   "source": []
  }
 ],
 "metadata": {
  "kernelspec": {
   "display_name": "Python 3",
   "language": "python",
   "name": "python3"
  },
  "language_info": {
   "codemirror_mode": {
    "name": "ipython",
    "version": 3
   },
   "file_extension": ".py",
   "mimetype": "text/x-python",
   "name": "python",
   "nbconvert_exporter": "python",
   "pygments_lexer": "ipython3",
   "version": "3.6.4"
  },
  "toc": {
   "base_numbering": 1,
   "nav_menu": {},
   "number_sections": true,
   "sideBar": true,
   "skip_h1_title": false,
   "title_cell": "Table of Contents",
   "title_sidebar": "Contents",
   "toc_cell": false,
   "toc_position": {},
   "toc_section_display": true,
   "toc_window_display": false
  }
 },
 "nbformat": 4,
 "nbformat_minor": 2
}
