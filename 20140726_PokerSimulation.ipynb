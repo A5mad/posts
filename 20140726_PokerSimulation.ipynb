{
 "metadata": {
  "name": "",
  "signature": "sha256:890fc6de11880e43b45f18fd034b9fa7dbf292a1cb3fe8feb4a2af56cf2ec253"
 },
 "nbformat": 3,
 "nbformat_minor": 0,
 "worksheets": [
  {
   "cells": [
    {
     "cell_type": "markdown",
     "metadata": {},
     "source": [
      "Being in Las Vegas, it's difficult to think about poker and not ask yourself \"How does it really work? What are the odds of winning with a given hand?\". Therefore, this post is devoted to an attempt at implementing a poker simulation."
     ]
    },
    {
     "cell_type": "markdown",
     "metadata": {},
     "source": [
      "Below, I collected a set of references that I have used while writing this post: \n",
      "\n",
      "- Wikipedia article on poker hands [http://en.wikipedia.org/wiki/List_of_poker_hands](http://en.wikipedia.org/wiki/List_of_poker_hands)\n",
      "- [http://stackoverflow.com/questions/5874228/picking-the-best-hand-out-of-7-cardspoker-texas-holdem](http://stackoverflow.com/questions/5874228/picking-the-best-hand-out-of-7-cardspoker-texas-holdem): this is where I got the main idea for how to code this\n",
      "- [http://www.tightpoker.com/poker_odds.html](http://www.tightpoker.com/poker_odds.html): an introduction to poker odds\n",
      "- [http://stackoverflow.com/questions/10363927/the-simplest-algorithm-for-poker-hand-evaluation](http://stackoverflow.com/questions/10363927/the-simplest-algorithm-for-poker-hand-evaluation): a full Python solution of evaluating 5 card poker hands"
     ]
    },
    {
     "cell_type": "heading",
     "level": 1,
     "metadata": {},
     "source": [
      "The card game model"
     ]
    },
    {
     "cell_type": "markdown",
     "metadata": {},
     "source": [
      "To start off, we're going to need to model a card game. A deck of cards is modelled as a sequence of cards. I chose to model an individual card using a tuple containing the suite of the card and its value. There are four suits: clubs, diamonds, hearts and spades. The suite is coded using initials `c`, `d`, `h` and `s`. Then there are 13 ranks, which are coded by their number for cards 2-10 and 11-14 for jacks, queens, kings and the ace. \n",
      "\n",
      "Based on this, we can write the following function, which generates a new game:"
     ]
    },
    {
     "cell_type": "code",
     "collapsed": false,
     "input": [
      "def new_card_game():\n",
      "    game = []\n",
      "    for suite in ('c', 'd', 'h', 's'):\n",
      "        for rank in range(2, 15):\n",
      "            game.append((suite, rank))\n",
      "    return game"
     ],
     "language": "python",
     "metadata": {},
     "outputs": [],
     "prompt_number": 1
    },
    {
     "cell_type": "code",
     "collapsed": false,
     "input": [
      "game = new_card_game()\n",
      "game[:5]"
     ],
     "language": "python",
     "metadata": {},
     "outputs": [
      {
       "metadata": {},
       "output_type": "pyout",
       "prompt_number": 2,
       "text": [
        "[('c', 2), ('c', 3), ('c', 4), ('c', 5), ('c', 6)]"
       ]
      }
     ],
     "prompt_number": 2
    },
    {
     "cell_type": "markdown",
     "metadata": {},
     "source": [
      "To shuffle a card game, we simply use the built-in `shuffle` function."
     ]
    },
    {
     "cell_type": "code",
     "collapsed": false,
     "input": [
      "from random import shuffle"
     ],
     "language": "python",
     "metadata": {},
     "outputs": [],
     "prompt_number": 3
    },
    {
     "cell_type": "code",
     "collapsed": false,
     "input": [
      "shuffle(game)\n",
      "game[:5]"
     ],
     "language": "python",
     "metadata": {},
     "outputs": [
      {
       "metadata": {},
       "output_type": "pyout",
       "prompt_number": 4,
       "text": [
        "[('c', 11), ('s', 14), ('h', 14), ('d', 3), ('s', 8)]"
       ]
      }
     ],
     "prompt_number": 4
    },
    {
     "cell_type": "heading",
     "level": 1,
     "metadata": {},
     "source": [
      "Detecting hands and comparing them"
     ]
    },
    {
     "cell_type": "markdown",
     "metadata": {},
     "source": [
      "What we now need is a way to compare strenghts of different poker hands. To code this, I am following the advice found [here](http://stackoverflow.com/questions/5874228/picking-the-best-hand-out-of-7-cardspoker-texas-holdem): I will code a comparator that checks whether a given combination is present or not. To start, I'm going to code the elementary functions will detect the standard hands found in poker:\n",
      "\n",
      "- straight flush\n",
      "- four of a kind\n",
      "- full house\n",
      "- flush\n",
      "- straight\n",
      "- three of a kind\n",
      "- two pair\n",
      "- one pair\n",
      "- high card\n",
      "\n",
      "I set myself the following specifications for the functions that will follow below:\n",
      "\n",
      "- each of these function takes a sequence of cards as an input (not necessarily five)\n",
      "- each function uses a tuple as output with two things\n",
      "    - a boolean that says whether the category was detected in the cards\n",
      "    - a rank linked to the category, that makes it possible to compare cards within their category"
     ]
    },
    {
     "cell_type": "markdown",
     "metadata": {},
     "source": [
      "Let's start by inplementing how to check for a four of a kind. To do this, we count the number of occurences of a given card in the hand, using the built-in Python `Counter`."
     ]
    },
    {
     "cell_type": "code",
     "collapsed": false,
     "input": [
      "from collections import Counter"
     ],
     "language": "python",
     "metadata": {},
     "outputs": [],
     "prompt_number": 5
    },
    {
     "cell_type": "code",
     "collapsed": false,
     "input": [
      "import pdb"
     ],
     "language": "python",
     "metadata": {},
     "outputs": [],
     "prompt_number": 79
    },
    {
     "cell_type": "code",
     "collapsed": false,
     "input": [
      "def contains_four_of_a_kind(hand):\n",
      "    if len(hand) < 4: \n",
      "        return (False, None)\n",
      "    cnt = Counter([card[1] for card in hand])\n",
      "    fours = filter(lambda item: item[1]==4, cnt.most_common())\n",
      "    if fours != []:\n",
      "        return (True, max([item[0] for item in fours]))\n",
      "    else:\n",
      "        return (False, None)"
     ],
     "language": "python",
     "metadata": {},
     "outputs": [],
     "prompt_number": 82
    },
    {
     "cell_type": "code",
     "collapsed": false,
     "input": [
      "print contains_four_of_a_kind([('c', 4), ('c', 5), ('c', 6), ('c', 7), ('c', 8)])\n",
      "print contains_four_of_a_kind([('c', 4), ('s', 4), ('d', 4), ('h', 4), ('c', 8)])\n",
      "print contains_four_of_a_kind([('c', 4), ('s', 4), ('d', 4), ('h', 4), ('c', 8),\n",
      "                               ('c', 9), ('s', 9), ('d', 9), ('h', 9), ('c', 11)])"
     ],
     "language": "python",
     "metadata": {},
     "outputs": [
      {
       "output_type": "stream",
       "stream": "stdout",
       "text": [
        "(False, None)\n",
        "(True, 4)\n",
        "(True, 9)\n"
       ]
      }
     ],
     "prompt_number": 83
    },
    {
     "cell_type": "markdown",
     "metadata": {},
     "source": [
      "To check for a full house, we proceed as with the previous function and count the occurences of cards in the hand, but verify that the two most common cards are present 3 and 2 times."
     ]
    },
    {
     "cell_type": "code",
     "collapsed": false,
     "input": [
      "def contains_full_house(hand):\n",
      "    if len(hand) < 5:\n",
      "        return (False, None)\n",
      "    cnt = Counter([card[1] for card in hand])\n",
      "    most_common = cnt.most_common()\n",
      "    threes = filter(lambda item: item[1]==3, most_common)\n",
      "    twos = filter(lambda item: item[1]==2, most_common)\n",
      "    if threes != [] and twos != []:\n",
      "        return (True, max([item[0] for item in threes]))\n",
      "    else:\n",
      "        return (False, None)"
     ],
     "language": "python",
     "metadata": {},
     "outputs": [],
     "prompt_number": 86
    },
    {
     "cell_type": "code",
     "collapsed": false,
     "input": [
      "print contains_full_house([('c', 4), ('s', 4), ('d', 5), ('h', 5), ('c', 5)])\n",
      "print contains_full_house([('c', 4), ('s', 4), ('d', 5), ('h', 5), ('c', 5), \n",
      "                           ('d', 10), ('h', 10), ('c', 10)])"
     ],
     "language": "python",
     "metadata": {},
     "outputs": [
      {
       "output_type": "stream",
       "stream": "stdout",
       "text": [
        "(True, 5)\n",
        "(True, 10)\n"
       ]
      }
     ],
     "prompt_number": 90
    },
    {
     "cell_type": "markdown",
     "metadata": {},
     "source": [
      "The flush is detected by counting the number of cards by suites and then making sure there are at least five of the most common suite."
     ]
    },
    {
     "cell_type": "code",
     "collapsed": false,
     "input": [
      "def contains_flush(hand):\n",
      "    if len(hand) < 5: \n",
      "        return (False, None)\n",
      "    cnt = Counter([card[0] for card in hand])\n",
      "    fives = filter(lambda item: item[1]==5, cnt.most_common())\n",
      "    if fives != []:\n",
      "        return (True, max([item[0] for item in fives]))\n",
      "    else:\n",
      "        return (False, None)"
     ],
     "language": "python",
     "metadata": {},
     "outputs": [],
     "prompt_number": 91
    },
    {
     "cell_type": "code",
     "collapsed": false,
     "input": [
      "print contains_flush("
     ],
     "language": "python",
     "metadata": {},
     "outputs": []
    },
    {
     "cell_type": "markdown",
     "metadata": {},
     "source": [
      "The straight is detected by sorting the cards on hand, then taking only unique cards using the Python built-in `set` (meaning only one 3, even if there are five of them) and finally checking whether there are five increasing numbers in a row, using the `range` function."
     ]
    },
    {
     "cell_type": "code",
     "collapsed": false,
     "input": [
      "def contains_straight(hand):\n",
      "    if len(hand) < 5:\n",
      "        return False\n",
      "    sorted_hand = sorted(set([card[1] for card in hand]))\n",
      "    if 14 in sorted_hand: # taking into account that the ace can be a one\n",
      "        sorted_hand.insert(0, 1)\n",
      "    for shift in range(len(hand) - 4):\n",
      "        if sorted_hand[shift: shift + 5] == range(sorted_hand[shift], sorted_hand[shift] + 5):\n",
      "            return True\n",
      "    return False"
     ],
     "language": "python",
     "metadata": {},
     "outputs": [],
     "prompt_number": 9
    },
    {
     "cell_type": "code",
     "collapsed": true,
     "input": [
      "print contains_straight([('d', 2), ('d', 3), ('d', 4), ('d', 5), ('d', 6)])\n",
      "print contains_straight([('d', 2), ('h', 4), ('d', 3), ('d', 5), ('d', 6)])\n",
      "print contains_straight([('d', 2), ('h', 14), ('d', 3), ('d', 5), ('d', 6)])\n",
      "print contains_straight([('c', 2), ('h', 14), ('d', 3), ('d', 4), ('d', 5)]) # a hand with an ace"
     ],
     "language": "python",
     "metadata": {},
     "outputs": [
      {
       "output_type": "stream",
       "stream": "stdout",
       "text": [
        "True\n",
        "True\n",
        "False\n",
        "True\n"
       ]
      }
     ],
     "prompt_number": 10
    },
    {
     "cell_type": "markdown",
     "metadata": {},
     "source": [
      "For three of a kind, we proceed in a similar fashion than for four of a kind."
     ]
    },
    {
     "cell_type": "code",
     "collapsed": false,
     "input": [
      "def contains_three_of_a_kind(hand):\n",
      "    if len(hand) < 3: \n",
      "        return False\n",
      "    cnt = Counter([card[1] for card in hand])\n",
      "    if cnt.most_common(1)[0][1] == 3:\n",
      "        return True\n",
      "    else:\n",
      "        return False"
     ],
     "language": "python",
     "metadata": {},
     "outputs": [],
     "prompt_number": 11
    },
    {
     "cell_type": "code",
     "collapsed": false,
     "input": [
      "print contains_three_of_a_kind([('c', 2), ('h', 3), ('c', 3), ('d', 3), ('d', 5)])"
     ],
     "language": "python",
     "metadata": {},
     "outputs": [
      {
       "output_type": "stream",
       "stream": "stdout",
       "text": [
        "True\n"
       ]
      }
     ],
     "prompt_number": 12
    },
    {
     "cell_type": "markdown",
     "metadata": {},
     "source": [
      "Let's move on to two pairs, which is inspired from the code for full house."
     ]
    },
    {
     "cell_type": "code",
     "collapsed": false,
     "input": [
      "def contains_two_pairs(hand):\n",
      "    if len(hand) < 4:\n",
      "        return False\n",
      "    cnt = Counter([card[1] for card in hand])\n",
      "    most_common = cnt.most_common(2)\n",
      "    if most_common[0][1] >= 2 and most_common[1][1] >= 2:\n",
      "        return True\n",
      "    else:\n",
      "        return False"
     ],
     "language": "python",
     "metadata": {},
     "outputs": [],
     "prompt_number": 13
    },
    {
     "cell_type": "code",
     "collapsed": false,
     "input": [
      "print contains_two_pairs([('c', 4), ('h', 4), ('h', 11), ('s', 14), ('c', 14)])"
     ],
     "language": "python",
     "metadata": {},
     "outputs": [
      {
       "output_type": "stream",
       "stream": "stdout",
       "text": [
        "True\n"
       ]
      }
     ],
     "prompt_number": 14
    },
    {
     "cell_type": "markdown",
     "metadata": {},
     "source": [
      "One pair draws on a similar logic:"
     ]
    },
    {
     "cell_type": "code",
     "collapsed": false,
     "input": [
      "def contains_one_pair(hand):\n",
      "    if len(hand) < 2:\n",
      "        return False\n",
      "    cnt = Counter([card[1] for card in hand])\n",
      "    if cnt.most_common(1)[0][1] >= 2:\n",
      "        return True\n",
      "    else:\n",
      "        return False"
     ],
     "language": "python",
     "metadata": {},
     "outputs": [],
     "prompt_number": 15
    },
    {
     "cell_type": "code",
     "collapsed": false,
     "input": [
      "print contains_one_pair([('c', 4), ('h', 4), ('h', 11), ('s', 14), ('c', 14)])\n",
      "print contains_one_pair([('c', 4), ('h', 2), ('h', 11), ('s', 3), ('c', 7)])"
     ],
     "language": "python",
     "metadata": {},
     "outputs": [
      {
       "output_type": "stream",
       "stream": "stdout",
       "text": [
        "True\n",
        "False\n"
       ]
      }
     ],
     "prompt_number": 16
    },
    {
     "cell_type": "markdown",
     "metadata": {},
     "source": [
      "We can finish this off by implementing the straight flush using the previously defined functions (even though this is not computationally optimal):"
     ]
    },
    {
     "cell_type": "code",
     "collapsed": false,
     "input": [
      "def contains_straight_flush(hand):\n",
      "    return contains_straight(hand) and contains_flush(hand)"
     ],
     "language": "python",
     "metadata": {},
     "outputs": [],
     "prompt_number": 17
    },
    {
     "cell_type": "code",
     "collapsed": false,
     "input": [
      "print contains_straight_flush([('c', 4), ('c', 5), ('c', 6), ('c', 7), ('c', 8)])\n",
      "print contains_straight_flush([('c', 4), ('c', 5), ('c', 2), ('c', 3), ('c', 14)])"
     ],
     "language": "python",
     "metadata": {},
     "outputs": [
      {
       "output_type": "stream",
       "stream": "stdout",
       "text": [
        "True\n",
        "True\n"
       ]
      }
     ],
     "prompt_number": 18
    },
    {
     "cell_type": "markdown",
     "metadata": {},
     "source": [
      "Now that we have done this base work, we can move on to write the full hand comparison function:"
     ]
    },
    {
     "cell_type": "code",
     "collapsed": false,
     "input": [
      "def compare_hands(hand1, hand2):\n",
      "    \"\"\" compares hand1 with hand 2\n",
      "        returns 'hand1', 'hand2' or 'tie'\n",
      "    \"\"\"\n",
      "    ranking_functions = [contains_straight_flush, \n",
      "                         contains_four_of_a_kind,\n",
      "                         contains_full_house,\n",
      "                         contains_flush,\n",
      "                         contains_straight,\n",
      "                         contains_three_of_a_kind,\n",
      "                         contains_two_pairs,\n",
      "                         contains_one_pair]\n",
      "    for func in ranking_functions:\n",
      "        rank1, rank2 = func(hand1), func(hand2)\n",
      "        if rank1 and rank2:\n",
      "            return ('tie', func.__name__)\n",
      "        elif rank1 and not rank2:\n",
      "            return ('hand1', func.__name__)\n",
      "        elif rank2:\n",
      "            return ('hand2', func.__name__)\n",
      "    \n",
      "    # if we arrive here, the hands should be judged according to the high card\n",
      "    return ('tie', 'high_card')"
     ],
     "language": "python",
     "metadata": {},
     "outputs": [],
     "prompt_number": 63
    },
    {
     "cell_type": "code",
     "collapsed": false,
     "input": [
      "shuffle(game)\n",
      "hand1 = game[:5]\n",
      "shuffle(game)\n",
      "hand2 = game[:5]\n",
      "compare_hands(hand1, hand2)"
     ],
     "language": "python",
     "metadata": {},
     "outputs": [
      {
       "metadata": {},
       "output_type": "pyout",
       "prompt_number": 64,
       "text": [
        "('hand1', 'contains_three_of_a_kind')"
       ]
      }
     ],
     "prompt_number": 64
    },
    {
     "cell_type": "markdown",
     "metadata": {},
     "source": [
      "Based on this quite not sophisticated process, we can already do a little bit of statistics. In the next example, we'll draw a number of hands and then see what wins how often (and depict it graphically)."
     ]
    },
    {
     "cell_type": "code",
     "collapsed": false,
     "input": [
      "%matplotlib inline\n",
      "import pylab as pl"
     ],
     "language": "python",
     "metadata": {},
     "outputs": [],
     "prompt_number": 65
    },
    {
     "cell_type": "code",
     "collapsed": false,
     "input": [
      "%%time\n",
      "winners = Counter()\n",
      "combinations = Counter()\n",
      "for i in range(50000):\n",
      "    game = new_card_game()\n",
      "    shuffle(game)\n",
      "    hand1 = game[:5]\n",
      "    hand2 = game[5:10]\n",
      "    outcome = compare_hands(hand1, hand2)\n",
      "    winners[outcome[0]] += 1\n",
      "    combinations[outcome[1]] += 1"
     ],
     "language": "python",
     "metadata": {},
     "outputs": [
      {
       "output_type": "stream",
       "stream": "stdout",
       "text": [
        "Wall time: 26.6 s\n"
       ]
      }
     ],
     "prompt_number": 67
    },
    {
     "cell_type": "code",
     "collapsed": false,
     "input": [
      "combinations"
     ],
     "language": "python",
     "metadata": {},
     "outputs": [
      {
       "metadata": {},
       "output_type": "pyout",
       "prompt_number": 68,
       "text": [
        "Counter({'contains_one_pair': 29876, 'high_card': 12719, 'contains_two_pairs': 4603, 'contains_three_of_a_kind': 2046, 'contains_straight': 375, 'contains_flush': 212, 'contains_full_house': 149, 'contains_four_of_a_kind': 19, 'contains_straight_flush': 1})"
       ]
      }
     ],
     "prompt_number": 68
    },
    {
     "cell_type": "code",
     "collapsed": false,
     "input": [
      "winners"
     ],
     "language": "python",
     "metadata": {},
     "outputs": [
      {
       "metadata": {},
       "output_type": "pyout",
       "prompt_number": 69,
       "text": [
        "Counter({'tie': 21794, 'hand1': 14128, 'hand2': 14078})"
       ]
      }
     ],
     "prompt_number": 69
    },
    {
     "cell_type": "markdown",
     "metadata": {},
     "source": [
      "This can be plotted in the following way:"
     ]
    },
    {
     "cell_type": "code",
     "collapsed": false,
     "input": [
      "pl.figure(figsize=(10, 4))\n",
      "pl.subplot(121)\n",
      "sorted_combinations = sorted(combinations.items(), key=lambda item: item[1])\n",
      "pl.bar(range(len(sorted_combinations)),\n",
      "    [item[1] for item in sorted_combinations])\n",
      "ticks = pl.xticks()\n",
      "pl.xticks(ticks[0] + 0.5, [item[0] for item in sorted_combinations], rotation='vertical')\n",
      "pl.ylabel('number of occurences')\n",
      "\n",
      "pl.subplot(122)\n",
      "pl.bar(range(len(winners.keys())),\n",
      "    winners.values()) \n",
      "pl.xticks([0.5, 1.5, 2.5], winners.keys())\n",
      "pl.ylabel('number of occurences')\n",
      "pl.tight_layout()"
     ],
     "language": "python",
     "metadata": {},
     "outputs": [
      {
       "metadata": {},
       "output_type": "display_data",
       "png": "[encoded data removed]",
       "text": [
        "<matplotlib.figure.Figure at 0x7b6f2d0>"
       ]
      }
     ],
     "prompt_number": 71
    },
    {
     "cell_type": "markdown",
     "metadata": {},
     "source": [
      "As expected, the sequence of winning combinations appears as in the rules, which is indeed, after that test, its probability (from rare to frequent): straight flush, four of a kind, full house, flush, straight, three of a kind, two pairs, high card, one pair. \n",
      "\n",
      "Actually, I'm surprised by one thing: why is the high card appearing less frequently than the two pairs?"
     ]
    },
    {
     "cell_type": "markdown",
     "metadata": {},
     "source": [
      "At this stage, this is quite interesting "
     ]
    },
    {
     "cell_type": "code",
     "collapsed": false,
     "input": [],
     "language": "python",
     "metadata": {},
     "outputs": []
    }
   ],
   "metadata": {}
  }
 ]
}