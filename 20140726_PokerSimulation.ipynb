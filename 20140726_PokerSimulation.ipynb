{
 "metadata": {
  "name": "",
  "signature": "sha256:62d5077f311effe02a31f8326cc79cdacdbd4b5dd20df988c38428ca331a6d6b"
 },
 "nbformat": 3,
 "nbformat_minor": 0,
 "worksheets": [
  {
   "cells": [
    {
     "cell_type": "markdown",
     "metadata": {},
     "source": [
      "Being in Las Vegas, it's difficult to think about poker and not ask yourself \"How does it really work? What are the odds of winning with a given hand?\". Therefore, this post is devoted to an attempt at implementing a poker simulation."
     ]
    },
    {
     "cell_type": "markdown",
     "metadata": {},
     "source": [
      "Below, I collected a set of references that I have used while writing this post: \n",
      "\n",
      "- Wikipedia article on poker hands [http://en.wikipedia.org/wiki/List_of_poker_hands](http://en.wikipedia.org/wiki/List_of_poker_hands)\n",
      "- [http://stackoverflow.com/questions/5874228/picking-the-best-hand-out-of-7-cardspoker-texas-holdem](http://stackoverflow.com/questions/5874228/picking-the-best-hand-out-of-7-cardspoker-texas-holdem): this is where I got the main idea for how to code this\n",
      "- [http://www.tightpoker.com/poker_odds.html](http://www.tightpoker.com/poker_odds.html): an introduction to poker odds\n",
      "- [http://stackoverflow.com/questions/10363927/the-simplest-algorithm-for-poker-hand-evaluation](http://stackoverflow.com/questions/10363927/the-simplest-algorithm-for-poker-hand-evaluation): a full Python solution of evaluating 5 card poker hands"
     ]
    },
    {
     "cell_type": "heading",
     "level": 1,
     "metadata": {},
     "source": [
      "The card game model"
     ]
    },
    {
     "cell_type": "markdown",
     "metadata": {},
     "source": [
      "To start off, we're going to need to model a card game. A deck of cards is modelled as a sequence of cards. I chose to model an individual card using a tuple containing the suite of the card and its value. There are four suits: clubs, diamonds, hearts and spades. The suite is coded using initials `c`, `d`, `h` and `s`. Then there are 13 ranks, which are coded by their number for cards 2-10 and 11-14 for jacks, queens, kings and the ace. \n",
      "\n",
      "Based on this, we can write the following function, which generates a new game:"
     ]
    },
    {
     "cell_type": "code",
     "collapsed": false,
     "input": [
      "def new_card_game():\n",
      "    game = []\n",
      "    for suite in ('c', 'd', 'h', 's'):\n",
      "        for rank in range(2, 15):\n",
      "            game.append((suite, rank))\n",
      "    return game"
     ],
     "language": "python",
     "metadata": {},
     "outputs": [],
     "prompt_number": 1
    },
    {
     "cell_type": "code",
     "collapsed": false,
     "input": [
      "game = new_card_game()\n",
      "game[:5]"
     ],
     "language": "python",
     "metadata": {},
     "outputs": [
      {
       "metadata": {},
       "output_type": "pyout",
       "prompt_number": 2,
       "text": [
        "[('c', 2), ('c', 3), ('c', 4), ('c', 5), ('c', 6)]"
       ]
      }
     ],
     "prompt_number": 2
    },
    {
     "cell_type": "markdown",
     "metadata": {},
     "source": [
      "To shuffle a card game, we simply use the built-in `shuffle` function."
     ]
    },
    {
     "cell_type": "code",
     "collapsed": false,
     "input": [
      "from random import shuffle"
     ],
     "language": "python",
     "metadata": {},
     "outputs": [],
     "prompt_number": 3
    },
    {
     "cell_type": "code",
     "collapsed": false,
     "input": [
      "shuffle(game)\n",
      "game[:5]"
     ],
     "language": "python",
     "metadata": {},
     "outputs": [
      {
       "metadata": {},
       "output_type": "pyout",
       "prompt_number": 4,
       "text": [
        "[('c', 11), ('s', 14), ('h', 14), ('d', 3), ('s', 8)]"
       ]
      }
     ],
     "prompt_number": 4
    },
    {
     "cell_type": "heading",
     "level": 1,
     "metadata": {},
     "source": [
      "Detecting poker hands"
     ]
    },
    {
     "cell_type": "markdown",
     "metadata": {},
     "source": [
      "What we now need is a way to compare strenghts of different poker hands. To code this, I am following the advice found [here](http://stackoverflow.com/questions/5874228/picking-the-best-hand-out-of-7-cardspoker-texas-holdem): I will code a comparator that checks whether a given combination is present or not. To start, I'm going to code the elementary functions will detect the standard hands found in poker:\n",
      "\n",
      "- straight flush\n",
      "- four of a kind\n",
      "- full house\n",
      "- flush\n",
      "- straight\n",
      "- three of a kind\n",
      "- two pair\n",
      "- one pair\n",
      "- high card\n",
      "\n",
      "I set myself the following specifications for the functions that will follow below:\n",
      "\n",
      "- each of these function takes a sequence of cards as an input (not necessarily five)\n",
      "- each function uses a tuple as output with two things\n",
      "    - a boolean that says whether the category was detected in the cards\n",
      "    - a rank linked to the category, that makes it possible to compare cards within their category"
     ]
    },
    {
     "cell_type": "markdown",
     "metadata": {},
     "source": [
      "Let's start by inplementing how to check for a four of a kind. To do this, we count the number of occurences of a given card in the hand, using the built-in Python `Counter`."
     ]
    },
    {
     "cell_type": "code",
     "collapsed": false,
     "input": [
      "from collections import Counter"
     ],
     "language": "python",
     "metadata": {},
     "outputs": [],
     "prompt_number": 5
    },
    {
     "cell_type": "code",
     "collapsed": false,
     "input": [
      "def contains_four_of_a_kind(hand):\n",
      "    if len(hand) < 4: \n",
      "        return (False, None)\n",
      "    cnt = Counter([card[1] for card in hand])\n",
      "    fours = filter(lambda item: item[1]==4, cnt.most_common())\n",
      "    if fours != []:\n",
      "        return (True, max([item[0] for item in fours]))\n",
      "    else:\n",
      "        return (False, None)"
     ],
     "language": "python",
     "metadata": {},
     "outputs": [],
     "prompt_number": 98
    },
    {
     "cell_type": "code",
     "collapsed": false,
     "input": [
      "print contains_four_of_a_kind([('c', 4), ('c', 5), ('c', 6), ('c', 7), ('c', 8)])\n",
      "print contains_four_of_a_kind([('c', 4), ('s', 4), ('d', 4), ('h', 4), ('c', 8)])\n",
      "print contains_four_of_a_kind([('c', 4), ('s', 4), ('d', 4), ('h', 4), ('c', 8),\n",
      "                               ('c', 9), ('s', 9), ('d', 9), ('h', 9), ('c', 11)])"
     ],
     "language": "python",
     "metadata": {},
     "outputs": [
      {
       "output_type": "stream",
       "stream": "stdout",
       "text": [
        "(False, None)\n",
        "(True, 4)\n",
        "(True, 9)\n"
       ]
      }
     ],
     "prompt_number": 83
    },
    {
     "cell_type": "markdown",
     "metadata": {},
     "source": [
      "To check for a full house, we proceed as with the previous function and count the occurences of cards in the hand, but verify that the two most common cards are present 3 and 2 times."
     ]
    },
    {
     "cell_type": "code",
     "collapsed": false,
     "input": [
      "def contains_full_house(hand):\n",
      "    if len(hand) < 5:\n",
      "        return (False, None)\n",
      "    cnt = Counter([card[1] for card in hand])\n",
      "    most_common = cnt.most_common()\n",
      "    threes = filter(lambda item: item[1]==3, most_common)\n",
      "    twos = filter(lambda item: item[1]==2, most_common)\n",
      "    if threes != [] and twos != []:\n",
      "        return (True, max([item[0] for item in threes]))\n",
      "    else:\n",
      "        return (False, None)"
     ],
     "language": "python",
     "metadata": {},
     "outputs": [],
     "prompt_number": 86
    },
    {
     "cell_type": "code",
     "collapsed": false,
     "input": [
      "print contains_full_house([('c', 4), ('s', 4), ('d', 5), ('h', 5), ('c', 5)])\n",
      "print contains_full_house([('c', 4), ('s', 4), ('d', 5), ('h', 5), ('c', 5), \n",
      "                           ('d', 10), ('h', 10), ('c', 10)])"
     ],
     "language": "python",
     "metadata": {},
     "outputs": [
      {
       "output_type": "stream",
       "stream": "stdout",
       "text": [
        "(True, 5)\n",
        "(True, 10)\n"
       ]
      }
     ],
     "prompt_number": 90
    },
    {
     "cell_type": "markdown",
     "metadata": {},
     "source": [
      "The flush is detected by counting the number of cards by suites and then making sure there are at least five of the most common suite."
     ]
    },
    {
     "cell_type": "code",
     "collapsed": false,
     "input": [
      "def contains_flush(hand):\n",
      "    if len(hand) < 5: \n",
      "        return (False, None)\n",
      "    cnt = Counter([card[0] for card in hand])\n",
      "    fives = filter(lambda item: item[1]==5, cnt.most_common())\n",
      "    if fives != []:\n",
      "        suite = max([item[0] for item in fives])\n",
      "        return (True, max([item[1] for item in hand if item[0] == suite]))\n",
      "    else:\n",
      "        return (False, None)"
     ],
     "language": "python",
     "metadata": {},
     "outputs": [],
     "prompt_number": 94
    },
    {
     "cell_type": "code",
     "collapsed": false,
     "input": [
      "print contains_flush([('c', 2), ('h', 14), ('d', 3), ('d', 4), ('d', 5)])\n",
      "print contains_flush([('c', 2), ('c', 14), ('c', 3), ('c', 4), ('c', 5)])"
     ],
     "language": "python",
     "metadata": {},
     "outputs": [
      {
       "output_type": "stream",
       "stream": "stdout",
       "text": [
        "(False, None)\n",
        "(True, 14)\n"
       ]
      }
     ],
     "prompt_number": 95
    },
    {
     "cell_type": "markdown",
     "metadata": {},
     "source": [
      "The straight is detected by sorting the cards on hand, then taking only unique cards using the Python built-in `set` (meaning only one 3, even if there are five of them) and finally checking whether there are five increasing numbers in a row, using the `range` function."
     ]
    },
    {
     "cell_type": "code",
     "collapsed": false,
     "input": [
      "def contains_straight(hand):\n",
      "    sorted_hand = sorted(set([card[1] for card in hand]))\n",
      "    if len(sorted_hand) < 5:\n",
      "        return (False, None)\n",
      "    if 14 in sorted_hand: # taking into account that the ace can be a one\n",
      "        sorted_hand.insert(0, 1)\n",
      "    for shift in range(len(hand) - 4):\n",
      "        if sorted_hand[shift: shift + 5] == range(sorted_hand[shift], sorted_hand[shift] + 5):\n",
      "            return (True, sorted_hand[shift + 4])\n",
      "    return (False, None)"
     ],
     "language": "python",
     "metadata": {},
     "outputs": [],
     "prompt_number": 331
    },
    {
     "cell_type": "code",
     "collapsed": true,
     "input": [
      "print contains_straight([('d', 2), ('d', 3), ('d', 4), ('d', 5), ('d', 6)])\n",
      "print contains_straight([('d', 2), ('h', 4), ('d', 3), ('d', 5), ('d', 6)])\n",
      "print contains_straight([('d', 2), ('h', 14), ('d', 3), ('d', 5), ('d', 6)])\n",
      "print contains_straight([('c', 2), ('h', 14), ('d', 3), ('d', 4), ('d', 5)]) # a hand with an ace\n",
      "print contains_straight([('d', 13), ('s', 2), ('s', 13), ('c', 13), ('d', 2), ('c', 2), ('h', 13)]) # previously bugged"
     ],
     "language": "python",
     "metadata": {},
     "outputs": [
      {
       "output_type": "stream",
       "stream": "stdout",
       "text": [
        "(True, 6)\n",
        "(True, 6)\n",
        "(False, None)\n",
        "(True, 5)\n",
        "(False, None)\n"
       ]
      }
     ],
     "prompt_number": 333
    },
    {
     "cell_type": "markdown",
     "metadata": {},
     "source": [
      "For three of a kind, we proceed in a similar fashion than for four of a kind."
     ]
    },
    {
     "cell_type": "code",
     "collapsed": false,
     "input": [
      "def contains_three_of_a_kind(hand):\n",
      "    if len(hand) < 3: \n",
      "        return (False, None)\n",
      "    cnt = Counter([card[1] for card in hand])\n",
      "    threes = filter(lambda item: item[1]==3, cnt.most_common())\n",
      "    if threes != []:\n",
      "        return (True, max([item[0] for item in threes]))\n",
      "    else:\n",
      "        return (False, None)"
     ],
     "language": "python",
     "metadata": {},
     "outputs": [],
     "prompt_number": 99
    },
    {
     "cell_type": "code",
     "collapsed": false,
     "input": [
      "print contains_three_of_a_kind([('c', 2), ('h', 3), ('c', 3), ('d', 3), ('d', 5)])\n",
      "print contains_three_of_a_kind([('c', 5), ('h', 5), ('c', 3), ('d', 3), ('d', 5)])"
     ],
     "language": "python",
     "metadata": {},
     "outputs": [
      {
       "output_type": "stream",
       "stream": "stdout",
       "text": [
        "(True, 3)\n",
        "(True, 5)\n"
       ]
      }
     ],
     "prompt_number": 101
    },
    {
     "cell_type": "markdown",
     "metadata": {},
     "source": [
      "Let's move on to two pairs, which is inspired from the code for full house."
     ]
    },
    {
     "cell_type": "code",
     "collapsed": false,
     "input": [
      "def contains_two_pairs(hand):\n",
      "    if len(hand) < 4:\n",
      "        return (False, None)\n",
      "    cnt = Counter([card[1] for card in hand])\n",
      "    pairs = filter(lambda item: item[1]==2, cnt.most_common())\n",
      "    if len(pairs) > 1:\n",
      "        return (True, max([item[0] for item in pairs])) \n",
      "    else:\n",
      "        return (False, None)"
     ],
     "language": "python",
     "metadata": {},
     "outputs": [],
     "prompt_number": 107
    },
    {
     "cell_type": "code",
     "collapsed": false,
     "input": [
      "print contains_two_pairs([('c', 4), ('h', 4), ('h', 11), ('s', 14), ('c', 14)])\n",
      "print contains_two_pairs([('c', 4), ('h', 4), ('h', 11), ('s', 11), ('c', 14)])\n",
      "print contains_two_pairs([('c', 4), ('h', 3), ('h', 11), ('s', 14), ('c', 14)])"
     ],
     "language": "python",
     "metadata": {},
     "outputs": [
      {
       "output_type": "stream",
       "stream": "stdout",
       "text": [
        "(True, 14)\n",
        "(True, 11)\n",
        "(False, None)\n"
       ]
      }
     ],
     "prompt_number": 108
    },
    {
     "cell_type": "markdown",
     "metadata": {},
     "source": [
      "One pair draws on a similar logic:"
     ]
    },
    {
     "cell_type": "code",
     "collapsed": false,
     "input": [
      "def contains_one_pair(hand):\n",
      "    if len(hand) < 2:\n",
      "        return (False, None)\n",
      "    cnt = Counter([card[1] for card in hand])\n",
      "    pairs = filter(lambda item: item[1]==2, cnt.most_common())\n",
      "    if len(pairs) > 0:\n",
      "        return (True, max([item[0] for item in pairs]))\n",
      "    else:\n",
      "        return (False, None)"
     ],
     "language": "python",
     "metadata": {},
     "outputs": [],
     "prompt_number": 109
    },
    {
     "cell_type": "code",
     "collapsed": false,
     "input": [
      "print contains_one_pair([('c', 4), ('h', 4), ('h', 11), ('s', 14), ('c', 14)])\n",
      "print contains_one_pair([('c', 4), ('h', 2), ('h', 11), ('s', 3), ('c', 7)])"
     ],
     "language": "python",
     "metadata": {},
     "outputs": [
      {
       "output_type": "stream",
       "stream": "stdout",
       "text": [
        "(True, 14)\n",
        "(False, None)\n"
       ]
      }
     ],
     "prompt_number": 110
    },
    {
     "cell_type": "markdown",
     "metadata": {},
     "source": [
      "We also implement a function that returns a high card. Obviously, that function should always be true and return as a rank the highest observed card."
     ]
    },
    {
     "cell_type": "code",
     "collapsed": false,
     "input": [
      "def contains_high_card(hand):\n",
      "    return (True, max([card[1] for card in hand]))"
     ],
     "language": "python",
     "metadata": {},
     "outputs": [],
     "prompt_number": 115
    },
    {
     "cell_type": "code",
     "collapsed": false,
     "input": [
      "print contains_high_card([('c', 3), ('h', 4), ('h', 11), ('s', 12), ('c', 14)])\n",
      "print contains_high_card([('c', 3), ('h', 4), ('h', 11), ('s', 12), ('c', 10)])"
     ],
     "language": "python",
     "metadata": {},
     "outputs": [
      {
       "output_type": "stream",
       "stream": "stdout",
       "text": [
        "(True, 14)\n",
        "(True, 12)\n"
       ]
      }
     ],
     "prompt_number": 118
    },
    {
     "cell_type": "markdown",
     "metadata": {},
     "source": [
      "We can finish this off by implementing the straight flush using the previously defined functions (even though this is not computationally optimal):"
     ]
    },
    {
     "cell_type": "code",
     "collapsed": false,
     "input": [
      "def contains_straight_flush(hand):\n",
      "    straight = contains_straight(hand)\n",
      "    flush = contains_flush(hand)\n",
      "    if straight[0] and flush[0]:\n",
      "        return (True, straight[1])\n",
      "    else:\n",
      "        return (False, None)"
     ],
     "language": "python",
     "metadata": {},
     "outputs": [],
     "prompt_number": 113
    },
    {
     "cell_type": "code",
     "collapsed": false,
     "input": [
      "print contains_straight_flush([('c', 4), ('c', 5), ('c', 6), ('c', 7), ('c', 8)])\n",
      "print contains_straight_flush([('c', 4), ('c', 5), ('c', 2), ('c', 3), ('c', 14)])"
     ],
     "language": "python",
     "metadata": {},
     "outputs": [
      {
       "output_type": "stream",
       "stream": "stdout",
       "text": [
        "(True, 8)\n",
        "(True, 5)\n"
       ]
      }
     ],
     "prompt_number": 114
    },
    {
     "cell_type": "heading",
     "level": 1,
     "metadata": {},
     "source": [
      "Writing the comparison function"
     ]
    },
    {
     "cell_type": "markdown",
     "metadata": {},
     "source": [
      "Now that we have done this base work, we can move on to write the full hand comparison function. It works by assuming that you give at least two different hands as input and then checks in the right order whether a given hand is found among all hands. If not, it moves on to the next lower ranked hand, until"
     ]
    },
    {
     "cell_type": "code",
     "collapsed": false,
     "input": [
      "def compare_hands(hands):\n",
      "    \"\"\" Determines highest hand from given hands. \n",
      "        Returns winning hand or tied hands\n",
      "    \"\"\"\n",
      "    ranking_functions = [contains_straight_flush, \n",
      "                         contains_four_of_a_kind,\n",
      "                         contains_full_house,\n",
      "                         contains_flush,\n",
      "                         contains_straight,\n",
      "                         contains_three_of_a_kind,\n",
      "                         contains_two_pairs,\n",
      "                         contains_one_pair,\n",
      "                         contains_high_card]\n",
      "    \n",
      "    for func in ranking_functions:\n",
      "        ranks = [func(hand) + (hand,) for hand in hands]\n",
      "        filtered_ranks = filter(lambda rank: rank[0], ranks)\n",
      "        if filtered_ranks != []:\n",
      "            if len(filtered_ranks) == 1: #only one hand wins\n",
      "                return ('win', filtered_ranks[0][2], func.__name__)\n",
      "            else: # more than one hand wins: need to compare according to strength\n",
      "                strengths = sorted(filtered_ranks, key=lambda rank: rank[1])\n",
      "                filtered_strengths = filter(lambda rank: rank[1]==strengths[-1][1], strengths)\n",
      "                if len(filtered_strengths) == 1: #only one hand wins\n",
      "                    return ('win', filtered_strengths[0][2], func.__name__)\n",
      "                else:\n",
      "                    return ('tie', [item[2] for item in filtered_strengths], func.__name__)"
     ],
     "language": "python",
     "metadata": {},
     "outputs": [],
     "prompt_number": 222
    },
    {
     "cell_type": "markdown",
     "metadata": {},
     "source": [
      "Let's sample the output from the previous function in a random two five card hands drawn against each other from a shuffled game."
     ]
    },
    {
     "cell_type": "code",
     "collapsed": false,
     "input": [
      "shuffle(game)\n",
      "hand1 = game[:5]\n",
      "shuffle(game)\n",
      "hand2 = game[:5]\n",
      "compare_hands([hand1, hand2])"
     ],
     "language": "python",
     "metadata": {},
     "outputs": [
      {
       "metadata": {},
       "output_type": "pyout",
       "prompt_number": 261,
       "text": [
        "('tie',\n",
        " [[('c', 11), ('d', 7), ('s', 13), ('d', 14), ('s', 12)],\n",
        "  [('c', 7), ('s', 13), ('c', 4), ('d', 8), ('h', 14)]],\n",
        " 'contains_high_card')"
       ]
      }
     ],
     "prompt_number": 261
    },
    {
     "cell_type": "markdown",
     "metadata": {},
     "source": [
      "Let's also time the previous function to see how quick the process is."
     ]
    },
    {
     "cell_type": "code",
     "collapsed": false,
     "input": [
      "%%timeit\n",
      "shuffle(game)\n",
      "hand1 = game[:5]\n",
      "shuffle(game)\n",
      "hand2 = game[:5]\n",
      "compare_hands([hand1, hand2])"
     ],
     "language": "python",
     "metadata": {},
     "outputs": [
      {
       "output_type": "stream",
       "stream": "stdout",
       "text": [
        "1000 loops, best of 3: 678 \u00b5s per loop\n"
       ]
      }
     ],
     "prompt_number": 236
    },
    {
     "cell_type": "heading",
     "level": 1,
     "metadata": {},
     "source": [
      "A first statistical simulation"
     ]
    },
    {
     "cell_type": "markdown",
     "metadata": {},
     "source": [
      "Based on the previous work, we can already do a little bit of statistics. In the next example, we'll reuse the scenario we were considering: two players are playing against each other, each drawing five cards from a shuffled deck. They then compare their hands and thus determine the output. We will count the number of occurences of ties and wins, and also keep track of what the most common winning hand is."
     ]
    },
    {
     "cell_type": "code",
     "collapsed": false,
     "input": [
      "%matplotlib inline\n",
      "import pylab as pl"
     ],
     "language": "python",
     "metadata": {},
     "outputs": [],
     "prompt_number": 65
    },
    {
     "cell_type": "code",
     "collapsed": false,
     "input": [
      "%%time\n",
      "winners = Counter()\n",
      "combinations = Counter()\n",
      "for i in range(100000):\n",
      "    game = new_card_game()\n",
      "    shuffle(game)\n",
      "    hand1 = game[:5]\n",
      "    hand2 = game[5:10]\n",
      "    outcome = compare_hands([hand1, hand2])\n",
      "    if outcome[0] != 'tie':\n",
      "        if outcome[1] == hand1:\n",
      "            winners['player 1'] += 1\n",
      "        else:\n",
      "            winners['player 2'] += 1\n",
      "    else:\n",
      "        winners['tie'] += 1\n",
      "    combinations[outcome[2]] += 1"
     ],
     "language": "python",
     "metadata": {},
     "outputs": [
      {
       "output_type": "stream",
       "stream": "stdout",
       "text": [
        "Wall time: 1min 2s\n"
       ]
      }
     ],
     "prompt_number": 257
    },
    {
     "cell_type": "markdown",
     "metadata": {},
     "source": [
      "This can be plotted in the following way:"
     ]
    },
    {
     "cell_type": "code",
     "collapsed": false,
     "input": [
      "combinations"
     ],
     "language": "python",
     "metadata": {},
     "outputs": [
      {
       "metadata": {},
       "output_type": "pyout",
       "prompt_number": 259,
       "text": [
        "Counter({'contains_one_pair': 60282, 'contains_high_card': 25125, 'contains_two_pairs': 9050, 'contains_three_of_a_kind': 4128, 'contains_straight': 670, 'contains_flush': 385, 'contains_full_house': 313, 'contains_four_of_a_kind': 46, 'contains_straight_flush': 1})"
       ]
      }
     ],
     "prompt_number": 259
    },
    {
     "cell_type": "code",
     "collapsed": false,
     "input": [
      "pl.figure(figsize=(10, 4))\n",
      "pl.subplot(121)\n",
      "sorted_combinations = sorted(combinations.items(), key=lambda item: item[1])\n",
      "pl.bar(range(len(sorted_combinations)),\n",
      "    [item[1] for item in sorted_combinations])\n",
      "ticks = pl.xticks()\n",
      "pl.xticks(ticks[0] + 0.5, [item[0] for item in sorted_combinations], rotation='vertical')\n",
      "pl.ylabel('number of occurences')\n",
      "pl.title('wins by hands')\n",
      "\n",
      "pl.subplot(122)\n",
      "pl.bar(range(len(winners.keys())),\n",
      "    winners.values()) \n",
      "pl.xticks([0.5, 1.5, 2.5], winners.keys())\n",
      "pl.ylabel('number of occurences')\n",
      "pl.title('wins by players')\n",
      "\n",
      "pl.tight_layout()"
     ],
     "language": "python",
     "metadata": {},
     "outputs": [
      {
       "metadata": {},
       "output_type": "display_data",
       "png": "[encoded data removed]",
       "text": [
        "<matplotlib.figure.Figure at 0x6300270>"
       ]
      }
     ],
     "prompt_number": 258
    },
    {
     "cell_type": "markdown",
     "metadata": {},
     "source": [
      "As expected, the sequence of winning combinations appears as in the rules, which is indeed, after that test, its probability (from rare to frequent): straight flush, four of a kind, full house, flush, straight, three of a kind, two pairs, high card, one pair. \n",
      "\n",
      "Actually, I'm surprised by one thing: why is the high card appearing less frequently than the two pairs? Apparently, this still "
     ]
    },
    {
     "cell_type": "heading",
     "level": 1,
     "metadata": {},
     "source": [
      "Calculating the odds of winning with a given hand: convergence plots"
     ]
    },
    {
     "cell_type": "markdown",
     "metadata": {},
     "source": [
      "Now that we have the backbone of our simulation tool coded, we can try to ask more elaborate questions. Suppose we have a given pair of cards dealt to us. How do the odds of winning change between the following situations:\n",
      "\n",
      "- pre-flop\n",
      "- post-flop\n",
      "- post-turn\n",
      "- post-river\n",
      "\n",
      "The way we approach the problem is quite easy. We:\n",
      "\n",
      "- setup a table with `n` players\n",
      "- setup the card game so that we start with a given hand\n",
      "- deal cards to the other players\n",
      "- compare relative strengths of hands pre-flop, post-flop, post-turn, post-river\n",
      "- do this a great number of times to get average odds"
     ]
    },
    {
     "cell_type": "code",
     "collapsed": false,
     "input": [
      "def winning_odds(starting_hand, opponent_number, number_of_games=100):\n",
      "    wins = Counter()\n",
      "\n",
      "    for i in range(number_of_games):\n",
      "        game = new_card_game()\n",
      "        shuffle(game)\n",
      "        for card in starting_hand:\n",
      "            game.remove(card)\n",
      "        opponent_cards = [[game.pop(), game.pop()] for player in range(opponent_number)]\n",
      "        \n",
      "        # pre-flop odds\n",
      "        all_hands = [starting_hand] + opponent_cards\n",
      "        outcome = compare_hands(all_hands)\n",
      "        if outcome[0] == 'win' and outcome[1] == all_hands[0] or outcome[0] == 'tie' and all_hands[0] in outcome[1]:\n",
      "            wins['pre-flop'] += 1\n",
      "        \n",
      "        # post-flop odds\n",
      "        flop = [game.pop(), game.pop(), game.pop()]\n",
      "        all_hands = [hand + flop for hand in all_hands]\n",
      "        outcome = compare_hands(all_hands)\n",
      "        if outcome[0] == 'win' and outcome[1] == all_hands[0] or outcome[0] == 'tie' and all_hands[0] in outcome[1]:\n",
      "            wins['post-flop'] += 1\n",
      "            \n",
      "        # post-turn odds\n",
      "        turn = [game.pop()]\n",
      "        all_hands = [hand + turn for hand in all_hands]\n",
      "        outcome = compare_hands(all_hands)\n",
      "        if outcome[0] == 'win' and outcome[1] == all_hands[0] or outcome[0] == 'tie' and all_hands[0] in outcome[1]:\n",
      "            wins['post-turn'] += 1\n",
      "            \n",
      "        # post-river odds\n",
      "        river = [game.pop()]\n",
      "        all_hands = [hand + river for hand in all_hands]\n",
      "        outcome = compare_hands(all_hands)\n",
      "        if outcome[0] == 'win' and outcome[1] == all_hands[0] or outcome[0] == 'tie' and all_hands[0] in outcome[1]:\n",
      "            wins['post-river'] += 1\n",
      "    return wins"
     ],
     "language": "python",
     "metadata": {},
     "outputs": [],
     "prompt_number": 322
    },
    {
     "cell_type": "code",
     "collapsed": false,
     "input": [
      "winning_odds([('c', 14), ('d', 10)],\n",
      "             3,\n",
      "             number_of_games=1000)"
     ],
     "language": "python",
     "metadata": {},
     "outputs": [
      {
       "metadata": {},
       "output_type": "pyout",
       "prompt_number": 336,
       "text": [
        "Counter({'pre-flop': 845, 'post-flop': 421, 'post-turn': 380, 'post-river': 378})"
       ]
      }
     ],
     "prompt_number": 336
    },
    {
     "cell_type": "code",
     "collapsed": false,
     "input": [
      "%%time\n",
      "number_of_games = pl.linspace(10, 1000, num=20).astype(pl.int32)\n",
      "results = [winning_odds([('c', 14), ('d', 10)],\n",
      "                         4, n) for n in number_of_games]\n",
      "pre_flop = [result['pre-flop'] / float(n) for (result, n) in zip(results, number_of_games)]\n",
      "post_flop = [result['post-flop'] / float(n) for (result, n) in zip(results, number_of_games)]\n",
      "post_turn = [result['post-turn'] / float(n) for (result, n) in zip(results, number_of_games)]\n",
      "post_river = [result['post-river'] / float(n) for (result, n) in zip(results, number_of_games)]"
     ],
     "language": "python",
     "metadata": {},
     "outputs": [
      {
       "output_type": "stream",
       "stream": "stdout",
       "text": [
        "Wall time: 17.1 s\n"
       ]
      }
     ],
     "prompt_number": 345
    },
    {
     "cell_type": "code",
     "collapsed": false,
     "input": [
      "pl.plot(number_of_games, pre_flop, label='pre-flop')\n",
      "pl.plot(number_of_games, post_flop, label='post-flop')\n",
      "pl.plot(number_of_games, post_turn, label='post-turn')\n",
      "pl.plot(number_of_games, post_river, label='post-river')\n",
      "pl.xlabel('number of games played')\n",
      "pl.ylabel('odds of winning')\n",
      "pl.title(\"hand: {0}, number of players: {1}\".format([('c', 14), ('d', 10)], 4 + 1))\n",
      "pl.xlim(0, number_of_games.max())\n",
      "pl.ylim(0, 1)\n",
      "pl.grid(True)\n",
      "pl.legend(loc='center left')"
     ],
     "language": "python",
     "metadata": {},
     "outputs": [
      {
       "metadata": {},
       "output_type": "pyout",
       "prompt_number": 346,
       "text": [
        "<matplotlib.legend.Legend at 0xa10eaf0>"
       ]
      },
      {
       "metadata": {},
       "output_type": "display_data",
       "png": "[encoded data removed]",
       "text": [
        "<matplotlib.figure.Figure at 0xa0f5bf0>"
       ]
      }
     ],
     "prompt_number": 346
    },
    {
     "cell_type": "markdown",
     "metadata": {},
     "source": [
      "Now that we have tested this on a small scale, we can write a more general function that automates the previous computation for a given starting hand:"
     ]
    },
    {
     "cell_type": "code",
     "collapsed": false,
     "input": [
      "def plot_convergence(starting_hand, opponent_number, number_of_games):\n",
      "    results = [winning_odds(starting_hand,\n",
      "                         opponent_number, \n",
      "                         n) for n in number_of_games]\n",
      "    pre_flop = [result['pre-flop'] / float(n) for (result, n) in zip(results, number_of_games)]\n",
      "    post_flop = [result['post-flop'] / float(n) for (result, n) in zip(results, number_of_games)]\n",
      "    post_turn = [result['post-turn'] / float(n) for (result, n) in zip(results, number_of_games)]\n",
      "    post_river = [result['post-river'] / float(n) for (result, n) in zip(results, number_of_games)]\n",
      "    pl.plot(number_of_games, pre_flop, \"-o\", label='pre-flop')\n",
      "    pl.plot(number_of_games, post_flop, \"-o\", label='post-flop')\n",
      "    pl.plot(number_of_games, post_turn, \"-o\", label='post-turn')\n",
      "    pl.plot(number_of_games, post_river, \"-o\", label='post-river')\n",
      "    pl.xlabel('number of games played')\n",
      "    pl.ylabel('odds of winning')\n",
      "    pl.title(\"hand: {0}, number of players: {1}\".format(starting_hand, opponent_number + 1))\n",
      "    pl.xlim(0, number_of_games.max())\n",
      "    pl.ylim(0, 1)\n",
      "    pl.grid(True)\n",
      "    pl.legend(loc='center left')"
     ],
     "language": "python",
     "metadata": {},
     "outputs": [],
     "prompt_number": 350
    },
    {
     "cell_type": "markdown",
     "metadata": {},
     "source": [
      "For instance, in the plot below, we check that the odds are symmetric with respect to interchanging the two cards from the hand used in the previous plot."
     ]
    },
    {
     "cell_type": "code",
     "collapsed": false,
     "input": [
      "%%time\n",
      "plot_convergence([('d', 10), ('c', 14)], 4, pl.linspace(10, 1000, num=20).astype(pl.int32))"
     ],
     "language": "python",
     "metadata": {},
     "outputs": [
      {
       "output_type": "stream",
       "stream": "stdout",
       "text": [
        "Wall time: 17 s\n"
       ]
      },
      {
       "metadata": {},
       "output_type": "display_data",
       "png": "[encoded data removed]",
       "text": [
        "<matplotlib.figure.Figure at 0x9fa8430>"
       ]
      }
     ],
     "prompt_number": 351
    },
    {
     "cell_type": "markdown",
     "metadata": {},
     "source": [
      "In the next plot, we examine the convergence plot of the odds for two different hands whose only difference is that one is of the same suite, the other is not."
     ]
    },
    {
     "cell_type": "code",
     "collapsed": false,
     "input": [
      "%%time\n",
      "pl.figure(figsize=(10, 6))\n",
      "pl.subplot(121)\n",
      "plot_convergence([('d', 14), ('c', 10)], 4, pl.array([10, 100, 1000, 2000, 5000]))\n",
      "pl.subplot(122)\n",
      "plot_convergence([('d', 14), ('d', 10)], 4, pl.array([10, 100, 1000, 2000, 5000]))\n",
      "pl.tight_layout()"
     ],
     "language": "python",
     "metadata": {},
     "outputs": [
      {
       "output_type": "stream",
       "stream": "stdout",
       "text": [
        "Wall time: 28.1 s\n"
       ]
      },
      {
       "metadata": {},
       "output_type": "display_data",
       "png": "[encoded data removed]",
       "text": [
        "<matplotlib.figure.Figure at 0xa475210>"
       ]
      }
     ],
     "prompt_number": 353
    },
    {
     "cell_type": "markdown",
     "metadata": {},
     "source": [
      "Well, it seems that the difference is subtle: pre-flop it should absolutely be the same, as there are only pairs that can be played. However we notice that the previous plot shows a little higher odds after the flop for the same As/10 of same suit."
     ]
    },
    {
     "cell_type": "markdown",
     "metadata": {},
     "source": [
      "A question that came up during my stay in Las Vegas was: how likely is it to lose with Ace/King (different suites)? During the tournament, this hand lost to a pair of Queens."
     ]
    },
    {
     "cell_type": "code",
     "collapsed": false,
     "input": [
      "%%time\n",
      "plot_convergence([('h', 14), ('s', 13)], 6, pl.array([10, 100, 500, 1000, 5000]))"
     ],
     "language": "python",
     "metadata": {},
     "outputs": [
      {
       "output_type": "stream",
       "stream": "stdout",
       "text": [
        "Wall time: 15.4 s\n"
       ]
      },
      {
       "metadata": {},
       "output_type": "display_data",
       "png": "[encoded data removed]",
       "text": [
        "<matplotlib.figure.Figure at 0x9fc1130>"
       ]
      }
     ],
     "prompt_number": 354
    },
    {
     "cell_type": "markdown",
     "metadata": {},
     "source": [
      "Another interesting plot is below: the odds for winning with a pair of aces. In fact, if you have that pair, you should do everything you can to beat people out from the flop, because that's where you're most likely to win."
     ]
    },
    {
     "cell_type": "code",
     "collapsed": false,
     "input": [
      "%%time\n",
      "plot_convergence([('h', 14), ('s', 14)], 6, pl.array([10, 100, 500, 1000, 5000]))"
     ],
     "language": "python",
     "metadata": {},
     "outputs": [
      {
       "output_type": "stream",
       "stream": "stdout",
       "text": [
        "Wall time: 14.7 s\n"
       ]
      },
      {
       "metadata": {},
       "output_type": "display_data",
       "png": "[encoded data removed]",
       "text": [
        "<matplotlib.figure.Figure at 0x9cd5210>"
       ]
      }
     ],
     "prompt_number": 355
    },
    {
     "cell_type": "heading",
     "level": 1,
     "metadata": {},
     "source": [
      "Case studies"
     ]
    },
    {
     "cell_type": "markdown",
     "metadata": {},
     "source": []
    }
   ],
   "metadata": {}
  }
 ]
}