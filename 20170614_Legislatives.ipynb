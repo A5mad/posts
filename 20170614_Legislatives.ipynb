{
 "cells": [
  {
   "cell_type": "markdown",
   "metadata": {
    "deletable": true,
    "editable": true
   },
   "source": [
    "Dans ce billet, nous allons nous intéresser aux résultats du premier tour des législatives 2017."
   ]
  },
  {
   "cell_type": "markdown",
   "metadata": {
    "deletable": true,
    "editable": true
   },
   "source": [
    "Tout d'abord, allons aspirer le site officiel du ministère de l'intérieur."
   ]
  },
  {
   "cell_type": "code",
   "execution_count": 1,
   "metadata": {
    "collapsed": true,
    "deletable": true,
    "editable": true
   },
   "outputs": [],
   "source": [
    "from bs4 import BeautifulSoup\n",
    "import requests"
   ]
  },
  {
   "cell_type": "code",
   "execution_count": 11,
   "metadata": {
    "collapsed": false
   },
   "outputs": [],
   "source": [
    "url = 'http://elections.interieur.gouv.fr/legislatives-2017/'"
   ]
  },
  {
   "cell_type": "code",
   "execution_count": 35,
   "metadata": {
    "collapsed": true,
    "deletable": true,
    "editable": true
   },
   "outputs": [],
   "source": [
    "soup = BeautifulSoup(requests.get(url).text, 'html.parser')"
   ]
  },
  {
   "cell_type": "markdown",
   "metadata": {
    "deletable": true,
    "editable": true
   },
   "source": [
    "Les résultats sont organisés par circonscription. Trouvons les liens vers toutes les pages relatives aux circonscriptions."
   ]
  },
  {
   "cell_type": "code",
   "execution_count": 41,
   "metadata": {
    "collapsed": false,
    "deletable": true,
    "editable": true
   },
   "outputs": [],
   "source": [
    "links = [url + tag.attrs['href'][2:] for tag in soup.find_all('a', class_='Style6')]"
   ]
  },
  {
   "cell_type": "code",
   "execution_count": 44,
   "metadata": {
    "collapsed": true
   },
   "outputs": [],
   "source": [
    "from functools import lru_cache"
   ]
  },
  {
   "cell_type": "code",
   "execution_count": 49,
   "metadata": {
    "collapsed": false
   },
   "outputs": [],
   "source": [
    "@lru_cache(maxsize=1024)\n",
    "def fetch_page(url):\n",
    "    \"Fetches url for webpage.\"\n",
    "    r = requests.get(url)\n",
    "    return r"
   ]
  },
  {
   "cell_type": "code",
   "execution_count": 50,
   "metadata": {
    "collapsed": false
   },
   "outputs": [],
   "source": [
    "circo_links = []\n",
    "for link in links:\n",
    "    soup = BeautifulSoup(fetch_page(link).text, 'html.parser')\n",
    "    circo_links += [url + tag.attrs['href'][3:] for tag in soup.find_all('a') if 'circonscription' in tag.text.lower()]"
   ]
  },
  {
   "cell_type": "markdown",
   "metadata": {},
   "source": [
    "On vérifie qu'on a le bon nombre de circonscriptions."
   ]
  },
  {
   "cell_type": "code",
   "execution_count": 51,
   "metadata": {
    "collapsed": false
   },
   "outputs": [
    {
     "data": {
      "text/plain": [
       "577"
      ]
     },
     "execution_count": 51,
     "metadata": {},
     "output_type": "execute_result"
    }
   ],
   "source": [
    "len(circo_links)"
   ]
  },
  {
   "cell_type": "code",
   "execution_count": 54,
   "metadata": {
    "collapsed": false
   },
   "outputs": [],
   "source": [
    "r = fetch_page(circo_links[0])"
   ]
  },
  {
   "cell_type": "code",
   "execution_count": 55,
   "metadata": {
    "collapsed": false
   },
   "outputs": [
    {
     "data": {
      "text/plain": [
       "'<!DOCTYPE html SYSTEM \"about:legacy-compat\">\\n<html>\\n<head>\\n<meta http-equiv=\"Content-Type\" content=\"text/html; charset=iso-8859-15\">\\n<meta charset=\"iso-8859-15\">\\n<meta name=\"viewport\" content=\"width=device-width, initial-scale=1.0\">\\n<meta name=\"title\" content=\"Elections législatives 2017\">\\n<meta name=\"description\" content=\" retrouvez toutes les informations concernant les élections législatives de 2017. Les candidats et les résultats\">\\n<meta name=\"keywords\" content=\"élections   , élections france   , élections législatives   , election législative   , elections législatives 2017   , election législative 2017   , résultats élections législatives   , résultats élections   , résultat élection   , listes élections législatives   , candidats elections législatives   , candidatures élections législatives   , scrutin elections législatives   , assemblée nationale   , députés\">\\n<meta name=\"author\" content=\"Ministère de l\\'Intérieur\">\\n<meta name=\"copyright\" content=\"Ministère de l\\'Intérieur\">\\n<meta name=\"robots\" content=\"index,follow\">\\n<meta http-equiv=\"X-UA-Compatible\" content=\"IE=edge\">\\n<title>Elections législatives 2017</title>\\n<link rel=\"stylesheet\" type=\"text/css\" href=\"../css/bootstrap.min.css\">\\n<link rel=\"stylesheet\" type=\"text/css\" href=\"../css/bootstrap-responsive.min.css\">\\n<link rel=\"stylesheet\" type=\"text/css\" href=\"../css/pub.css\"><!--[if lt IE 9]>\\t<script src=\"http://html5shim.googlecode.com/svn/trunk/html5.js\"></script><![endif]--></head>\\n<body><div id=\"top\" class=\"container pub-enveloppe\">\\n<div class=\"row-fluid pub-entete text-center\">\\n<div class=\"span2\"><img src=\"../img/minint.jpg\"></div>\\n<div class=\"span8\"><table><tr><td><h1>Elections législatives 2017</h1></td></tr></table></div>\\n<div class=\"span2\"><img alt=\"Elections législatives 2017\" title=\"Elections législatives 2017\" src=\"../img/lg2017.png\"></div>\\n</div>\\n<div class=\"pub-contenu\">\\n<div class=\"container pub-corps text-center\">\\n<div class=\"row-fluid\"><div class=\"span12\">11 et 18 juin 2017</div></div>\\n<div class=\"row-fluid pub-fil-ariane\"><div class=\"span12 pub-fil-ariane\">\\n<a href=\"../index.html\">Accueil Législatives 2017</a>\\xa0&gt;\\xa0<a href=\"../001/index.html\">Ain (01)</a>\\xa0&gt;\\xa0<a href=\"../001/00101.html\">1<sup>ère</sup> circonscription</a>\\n</div></div>\\n<div class=\"row-fluid pub-resultats-entete\"><div class=\"offset2 span8\">\\n<h3>Ain (01) - \\n\\t\\t\\t\\t\\t\\t1<sup>ère</sup> circonscription</h3>\\n<h3>\\n\\t\\t\\t\\trésultats\\n\\t\\t\\t\\t de la circonscription \\n\\t\\t\\t\\tau 1<sup>er</sup> tour\\n\\t\\t\\t</h3>\\n<table class=\"table table-bordered tableau-resultats-listes-ER\">\\n<thead><tr>\\n<th style=\"text-align:center\">Liste des candidats </th>\\n<th style=\"text-align:center\">Nuances</th>\\n<th style=\"text-align:center\">Voix</th>\\n<th style=\"text-align:center\">% Inscrits</th>\\n<th style=\"text-align:center\">% Exprimés</th>\\n<th style=\"text-align:center\">Elu(e)</th>\\n</tr></thead>\\n<tbody>\\n<tr>\\n<td style=\"text-align:left\">M. Laurent MALLET</td>\\n<td style=\"text-align:center\">MDM</td>\\n<td style=\"text-align:right\">13 534</td>\\n<td style=\"text-align:center\">  16,37</td>\\n<td style=\"text-align:center\">  33,89</td>\\n<td style=\"text-align:center\">Ballotage<sup>*</sup>\\n</td>\\n</tr>\\n<tr>\\n<td style=\"text-align:left\">M. Xavier BRETON</td>\\n<td style=\"text-align:center\">LR</td>\\n<td style=\"text-align:right\">10 693</td>\\n<td style=\"text-align:center\">  12,93</td>\\n<td style=\"text-align:center\">  26,78</td>\\n<td style=\"text-align:center\">Ballotage<sup>*</sup>\\n</td>\\n</tr>\\n<tr>\\n<td style=\"text-align:left\">M. Jérôme BUISSON</td>\\n<td style=\"text-align:center\">FN</td>\\n<td style=\"text-align:right\">6 174</td>\\n<td style=\"text-align:center\">   7,47</td>\\n<td style=\"text-align:center\">  15,46</td>\\n<td style=\"text-align:center\">Non</td>\\n</tr>\\n<tr>\\n<td style=\"text-align:left\">Mme Fabrine MARTIN ZEMLIK</td>\\n<td style=\"text-align:center\">FI</td>\\n<td style=\"text-align:right\">3 874</td>\\n<td style=\"text-align:center\">   4,68</td>\\n<td style=\"text-align:center\">   9,70</td>\\n<td style=\"text-align:center\">Non</td>\\n</tr>\\n<tr>\\n<td style=\"text-align:left\">Mme Florence BLATRIX-CONTAT</td>\\n<td style=\"text-align:center\">SOC</td>\\n<td style=\"text-align:right\">3 687</td>\\n<td style=\"text-align:center\">   4,46</td>\\n<td style=\"text-align:center\">   9,23</td>\\n<td style=\"text-align:center\">Non</td>\\n</tr>\\n<tr>\\n<td style=\"text-align:left\">M. Jacques FONTAINE</td>\\n<td style=\"text-align:center\">COM</td>\\n<td style=\"text-align:right\">656</td>\\n<td style=\"text-align:center\">   0,79</td>\\n<td style=\"text-align:center\">   1,64</td>\\n<td style=\"text-align:center\">Non</td>\\n</tr>\\n<tr>\\n<td style=\"text-align:left\">Mme Laurane RAIMONDO</td>\\n<td style=\"text-align:center\">ECO</td>\\n<td style=\"text-align:right\">562</td>\\n<td style=\"text-align:center\">   0,68</td>\\n<td style=\"text-align:center\">   1,41</td>\\n<td style=\"text-align:center\">Non</td>\\n</tr>\\n<tr>\\n<td style=\"text-align:left\">Mme Maude LÉPAGNOT</td>\\n<td style=\"text-align:center\">EXG</td>\\n<td style=\"text-align:right\">293</td>\\n<td style=\"text-align:center\">   0,35</td>\\n<td style=\"text-align:center\">   0,73</td>\\n<td style=\"text-align:center\">Non</td>\\n</tr>\\n<tr>\\n<td style=\"text-align:left\">Mme Marie CARLIER</td>\\n<td style=\"text-align:center\">DIV</td>\\n<td style=\"text-align:right\">247</td>\\n<td style=\"text-align:center\">   0,30</td>\\n<td style=\"text-align:center\">   0,62</td>\\n<td style=\"text-align:center\">Non</td>\\n</tr>\\n<tr>\\n<td style=\"text-align:left\">M. Gilbert BONNOT</td>\\n<td style=\"text-align:center\">DIV</td>\\n<td style=\"text-align:right\">211</td>\\n<td style=\"text-align:center\">   0,26</td>\\n<td style=\"text-align:center\">   0,53</td>\\n<td style=\"text-align:center\">Non</td>\\n</tr>\\n</tbody>\\n</table>\\n<br><sup>*</sup>Ballotage : le candidat peut accéder au 2<sup>d</sup> tour s\\'il le souhaite.\\t\\t\\t\\t\\n\\t\\t\\t<br><br><table class=\"table table-bordered tableau-mentions\">\\n<thead><tr>\\n<th></th>\\n<th style=\"text-align:center\">Nombre</th>\\n<th style=\"text-align:center\">% Inscrits</th>\\n<th style=\"text-align:center\">% Votants</th>\\n</tr></thead>\\n<tbody>\\n<tr>\\n<td style=\"text-align:left\">Inscrits</td>\\n<td style=\"text-align:right\">82 694</td>\\n<td></td>\\n<td></td>\\n</tr>\\n<tr>\\n<td style=\"text-align:left\">Abstentions</td>\\n<td style=\"text-align:right\">42 063</td>\\n<td style=\"text-align:center\">  50,87</td>\\n<td></td>\\n</tr>\\n<tr>\\n<td style=\"text-align:left\">Votants</td>\\n<td style=\"text-align:right\">40 631</td>\\n<td style=\"text-align:center\">  49,13</td>\\n<td></td>\\n</tr>\\n<tr>\\n<td style=\"text-align:left\">Blancs</td>\\n<td style=\"text-align:right\">545</td>\\n<td style=\"text-align:center\">   0,66</td>\\n<td style=\"text-align:center\">   1,34</td>\\n</tr>\\n<tr>\\n<td style=\"text-align:left\">Nuls</td>\\n<td style=\"text-align:right\">155</td>\\n<td style=\"text-align:center\">   0,19</td>\\n<td style=\"text-align:center\">   0,38</td>\\n</tr>\\n<tr>\\n<td style=\"text-align:left\">Exprimés</td>\\n<td style=\"text-align:right\">39 931</td>\\n<td style=\"text-align:center\">  48,29</td>\\n<td style=\"text-align:center\">  98,28</td>\\n</tr>\\n</tbody>\\n</table>\\n<br>En raison des arrondis à la deuxième décimale, la somme des pourcentages peut ne pas être égale à 100%.</div></div>\\n</div>\\n<div class=\"row-fluid pub-bas\">\\n<div class=\"span5\"></div>\\n<div class=\"span7 text-right\">\\n<a href=\"../nuances.html\">Nuances</a>\\n                      \\xa0\\n                    \\n                    \\xa0\\n                    <a href=\"#top\">Haut de page</a>\\n</div>\\n</div>\\n</div>\\n<div class=\"row-fluid pub-pied\"><div class=\"span12\"></div></div>\\n</div></body>\\n</html>\\n'"
      ]
     },
     "execution_count": 55,
     "metadata": {},
     "output_type": "execute_result"
    }
   ],
   "source": [
    "r.text"
   ]
  },
  {
   "cell_type": "code",
   "execution_count": null,
   "metadata": {
    "collapsed": true
   },
   "outputs": [],
   "source": []
  }
 ],
 "metadata": {
  "kernelspec": {
   "display_name": "Python 3",
   "language": "python",
   "name": "python3"
  },
  "language_info": {
   "codemirror_mode": {
    "name": "ipython",
    "version": 3
   },
   "file_extension": ".py",
   "mimetype": "text/x-python",
   "name": "python",
   "nbconvert_exporter": "python",
   "pygments_lexer": "ipython3",
   "version": "3.5.2"
  }
 },
 "nbformat": 4,
 "nbformat_minor": 0
}
