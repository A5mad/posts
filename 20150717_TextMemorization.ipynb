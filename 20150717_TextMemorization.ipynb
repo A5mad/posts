{
 "cells": [
  {
   "cell_type": "code",
   "execution_count": 4,
   "metadata": {
    "collapsed": true
   },
   "outputs": [],
   "source": [
    "src=u\"\"\"Je m'baladais sur l'avenue \n",
    "Le coeur ouvert à l'inconnu \n",
    "J'avais envie de dire bonjour \n",
    "À n'importe qui\n",
    "N'importe qui ce fut toi\n",
    "Je t'ai dit n'importe quoi\n",
    "Il suffisait de te parler\n",
    "Pour t'apprivoiser\n",
    "\n",
    "Aux Champs-Élysées\n",
    "Aux Champs-Élysées\n",
    "Au soleil, sous la pluie\n",
    "À midi ou à minuit\n",
    "Il y a tout ce que vous voulez\n",
    "Aux Champs-Élysées\n",
    "\n",
    "Tu m'as dit \"J'ai rendez-vous\n",
    "Dans un sous-sol avec des fous\n",
    "Qui vivent la guitare à la main\n",
    "Du soir au matin\"\n",
    "Alors je t'ai accompagnée\n",
    "On a chanté, on a dansé\n",
    "Et l'on n'a même pas pensé\n",
    "À s'embrasser\n",
    "\n",
    "Aux Champs-Élysées\n",
    "Aux Champs-Élysées\n",
    "Au soleil, sous la pluie\n",
    "À midi ou à minuit\n",
    "Il y a tout ce que vous voulez\n",
    "Aux Champs-Élysées\n",
    "\n",
    "Hier soir deux inconnus\n",
    "Et ce matin sur l'avenue\n",
    "Deux amoureux tout étourdis\n",
    "Par la longue nuit\n",
    "Et de l'Étoile à la Concorde\n",
    "Un orchestre à mille cordes\n",
    "Tous les oiseaux du point du jour\n",
    "Chantent l'amour\n",
    "\n",
    "Aux Champs-Élysées\n",
    "Aux Champs-Élysées\n",
    "Au soleil, sous la pluie\n",
    "À midi ou à minuit\n",
    "Il y a tout ce que vous voulez\n",
    "Aux Champs-Élysées\"\"\""
   ]
  },
  {
   "cell_type": "markdown",
   "metadata": {},
   "source": [
    "Post-traitement :"
   ]
  },
  {
   "cell_type": "code",
   "execution_count": 5,
   "metadata": {
    "collapsed": true
   },
   "outputs": [],
   "source": [
    "lines = src.split('\\n')"
   ]
  },
  {
   "cell_type": "code",
   "execution_count": 27,
   "metadata": {
    "collapsed": false
   },
   "outputs": [
    {
     "data": {
      "text/plain": [
       "[u\"Je m'baladais sur l'avenue \",\n",
       " u\"Le coeur ouvert \\xe0 l'inconnu \",\n",
       " u\"J'avais envie de dire bonjour \",\n",
       " u\"\\xc0 n'importe qui\",\n",
       " u\"N'importe qui ce fut toi\",\n",
       " u\"Je t'ai dit n'importe quoi\",\n",
       " u'Il suffisait de te parler',\n",
       " u\"Pour t'apprivoiser\",\n",
       " u'Aux Champs-\\xc9lys\\xe9es',\n",
       " u'Aux Champs-\\xc9lys\\xe9es',\n",
       " u'Au soleil, sous la pluie',\n",
       " u'\\xc0 midi ou \\xe0 minuit',\n",
       " u'Il y a tout ce que vous voulez',\n",
       " u'Aux Champs-\\xc9lys\\xe9es',\n",
       " u'Tu m\\'as dit \"J\\'ai rendez-vous',\n",
       " u'Dans un sous-sol avec des fous',\n",
       " u'Qui vivent la guitare \\xe0 la main',\n",
       " u'Du soir au matin\"',\n",
       " u\"Alors je t'ai accompagn\\xe9e\",\n",
       " u'On a chant\\xe9, on a dans\\xe9',\n",
       " u\"Et l'on n'a m\\xeame pas pens\\xe9\",\n",
       " u\"\\xc0 s'embrasser\",\n",
       " u'Aux Champs-\\xc9lys\\xe9es',\n",
       " u'Aux Champs-\\xc9lys\\xe9es',\n",
       " u'Au soleil, sous la pluie',\n",
       " u'\\xc0 midi ou \\xe0 minuit',\n",
       " u'Il y a tout ce que vous voulez',\n",
       " u'Aux Champs-\\xc9lys\\xe9es',\n",
       " u'Hier soir deux inconnus',\n",
       " u\"Et ce matin sur l'avenue\",\n",
       " u'Deux amoureux tout \\xe9tourdis',\n",
       " u'Par la longue nuit',\n",
       " u\"Et de l'\\xc9toile \\xe0 la Concorde\",\n",
       " u'Un orchestre \\xe0 mille cordes',\n",
       " u'Tous les oiseaux du point du jour',\n",
       " u\"Chantent l'amour\",\n",
       " u'Aux Champs-\\xc9lys\\xe9es',\n",
       " u'Aux Champs-\\xc9lys\\xe9es',\n",
       " u'Au soleil, sous la pluie',\n",
       " u'\\xc0 midi ou \\xe0 minuit',\n",
       " u'Il y a tout ce que vous voulez',\n",
       " u'Aux Champs-\\xc9lys\\xe9es']"
      ]
     },
     "execution_count": 27,
     "metadata": {},
     "output_type": "execute_result"
    }
   ],
   "source": [
    "lines = filter(lambda s: s != '', lines)\n",
    "lines"
   ]
  },
  {
   "cell_type": "code",
   "execution_count": 34,
   "metadata": {
    "collapsed": true
   },
   "outputs": [],
   "source": [
    "src = u\"\"\"I've been a wild rover for many's the year \n",
    "I've spent all me money on whiskey and beer \n",
    "But now I'm returning with gold in great store \n",
    "And I never will play the wild rover no more \n",
    "\n",
    "And it's No, Nay, never, \n",
    "No, nay never no more \n",
    "Will I play the wild rover, \n",
    "No never no more \n",
    "\n",
    "I went in to an alehouse I used to frequent \n",
    "And I told the landlady me money was spent \n",
    "I asked her for credit, she answered me nay \n",
    "Such a customer as you I can have any day \n",
    "\n",
    "And it's No, Nay, never, \n",
    "No, nay never no more \n",
    "Will I play the wild rover, \n",
    "No never no more \n",
    "\n",
    "I took from my pocket ten sovereigns bright \n",
    "And the landlady's eyes opened wide with delight. \n",
    "She said \"I have whiskey and wines of the best \n",
    "And the words that I spoke sure were only in jest.\"\n",
    "\n",
    "And it's No, Nay, never, \n",
    "No, nay never no more \n",
    "Will I play the wild rover, \n",
    "No never no more \n",
    "\n",
    "I'll go home to my parents, confess what I've done \n",
    "And I'll ask them to pardon their prodigal son. \n",
    "And if they caress (forgive) me as ofttimes before \n",
    "Sure I never will play the wild rover no more. \n",
    "\n",
    "And it's No, Nay, never, \n",
    "No, nay never no more \n",
    "Will I play the wild rover, \n",
    "No never no more\"\"\""
   ]
  },
  {
   "cell_type": "code",
   "execution_count": 37,
   "metadata": {
    "collapsed": true
   },
   "outputs": [],
   "source": [
    "src = \"\"\"Ooh I need your love babe\n",
    "Guess you know it's true\n",
    "Hope you need my love babe\n",
    "Just like I need you\n",
    "Hold me, love me, hold me, love me\n",
    "Ain't got nothing but love babe\n",
    "Eight days a week\n",
    "\n",
    "Love you every day girl\n",
    "Always on my mind\n",
    "One thing I can say girl\n",
    "Love you all the time\n",
    "Hold me, love me, hold me, love me\n",
    "Ain't got nothing but love babe\n",
    "Eight days a week\n",
    "\n",
    "Eight days a week\n",
    "I love you\n",
    "Eight days a week\n",
    "Is not enough to show I care\n",
    "\n",
    "Ooh I need your love babe\n",
    "Guess you know it's true\n",
    "Hope you need my love babe\n",
    "Just like I need you\n",
    "Hold me, love me, hold me, love me\n",
    "Ain't got nothing but love babe\n",
    "Eight days a week\n",
    "\n",
    "Eight days a week\n",
    "I love you\n",
    "Eight days a week\n",
    "Is not enough to show I care\n",
    "\n",
    "Love you every day girl\n",
    "Always on my mind\n",
    "One thing I can say girl\n",
    "Love you all the time\n",
    "Hold me, love me, hold me, love me\n",
    "Ain't got nothing but love babe\n",
    "Eight days a week\n",
    "Eight days a week\n",
    "Eight days a week\n",
    "\"\"\""
   ]
  },
  {
   "cell_type": "code",
   "execution_count": 40,
   "metadata": {
    "collapsed": true
   },
   "outputs": [],
   "source": [
    "src = \"\"\"Yesterday, all my troubles seemed so far away\n",
    "Now it looks as though they're here to stay\n",
    "oh, I believe in yesterday\n",
    "\n",
    "Suddenly, I'm not half the man I used to be\n",
    "There's a shadow hanging over me\n",
    "Oh, yesterday came suddenly.\n",
    "\n",
    "Why she had to go?\n",
    "I don't know, she wouldn't say\n",
    "I said something wrong\n",
    "Now I long for yesterday.\n",
    "\n",
    "Yesterday love was such an easy game to play\n",
    "Now I need a place to hide away\n",
    "Oh, I believe in yesterday.\n",
    "\n",
    "Why she had to go?\n",
    "I don't know, she wouldn't say\n",
    "I said something wrong\n",
    "Now I long for yesterday.\n",
    "\n",
    "Yesterday love was such an easy game to play\n",
    "Now I need a place to hide away\n",
    "Oh, I believe in yesterday...\n",
    "\"\"\""
   ]
  },
  {
   "cell_type": "markdown",
   "metadata": {},
   "source": [
    "On peut créer un widget Python :"
   ]
  },
  {
   "cell_type": "code",
   "execution_count": 41,
   "metadata": {
    "collapsed": true
   },
   "outputs": [],
   "source": [
    "from IPython.html.widgets import interact, Button, Box\n",
    "from IPython.display import display, clear_output"
   ]
  },
  {
   "cell_type": "code",
   "execution_count": 42,
   "metadata": {
    "collapsed": false
   },
   "outputs": [
    {
     "name": "stdout",
     "output_type": "stream",
     "text": [
      "Yesterday, all my troubles seemed so far away\n",
      "Now it looks as though they're here to stay\n",
      "oh, I believe in yesterday\n",
      "Suddenly, I'm not half the man I used to be\n",
      "There's a shadow hanging over me\n"
     ]
    }
   ],
   "source": [
    "class TextWidget:\n",
    "    def __init__(self, src):\n",
    "        lines = src.split('\\n')\n",
    "        self.lines = filter(lambda s: s != '', lines)\n",
    "        self.cursor = -1\n",
    "\n",
    "    def print_current_line(self):\n",
    "        print(self.lines[self.cursor])\n",
    "        \n",
    "    def increment_cursor(self):\n",
    "        if self.cursor != len(self.lines) - 1:\n",
    "            self.cursor += 1\n",
    "        \n",
    "    def reset_cursor(self):\n",
    "        self.cursor = -1\n",
    "\n",
    "\n",
    "# main instance        \n",
    "txt_widget = TextWidget(src)        \n",
    "\n",
    "# layout and widgets\n",
    "container = Box()\n",
    "ok_button = Button(description=\"Prochaine ligne\")\n",
    "nok_button = Button(description=u\"Je me suis trompé\")\n",
    "container.children = [ok_button, nok_button]\n",
    "\n",
    "# interaction\n",
    "def ok_click(b):\n",
    "    txt_widget.increment_cursor()\n",
    "    txt_widget.print_current_line()\n",
    "\n",
    "def nok_click(b):\n",
    "    clear_output()\n",
    "    txt_widget.reset_cursor()\n",
    "\n",
    "ok_button.on_click(ok_click)\n",
    "nok_button.on_click(nok_click)\n",
    "\n",
    "# display\n",
    "display(container)"
   ]
  },
  {
   "cell_type": "code",
   "execution_count": null,
   "metadata": {
    "collapsed": true
   },
   "outputs": [],
   "source": []
  },
  {
   "cell_type": "code",
   "execution_count": null,
   "metadata": {
    "collapsed": true
   },
   "outputs": [],
   "source": []
  },
  {
   "cell_type": "code",
   "execution_count": null,
   "metadata": {
    "collapsed": true
   },
   "outputs": [],
   "source": []
  },
  {
   "cell_type": "code",
   "execution_count": null,
   "metadata": {
    "collapsed": true
   },
   "outputs": [],
   "source": []
  },
  {
   "cell_type": "code",
   "execution_count": null,
   "metadata": {
    "collapsed": true
   },
   "outputs": [],
   "source": []
  },
  {
   "cell_type": "code",
   "execution_count": null,
   "metadata": {
    "collapsed": true
   },
   "outputs": [],
   "source": []
  },
  {
   "cell_type": "code",
   "execution_count": null,
   "metadata": {
    "collapsed": true
   },
   "outputs": [],
   "source": []
  },
  {
   "cell_type": "code",
   "execution_count": null,
   "metadata": {
    "collapsed": true
   },
   "outputs": [],
   "source": []
  },
  {
   "cell_type": "code",
   "execution_count": null,
   "metadata": {
    "collapsed": true
   },
   "outputs": [],
   "source": []
  },
  {
   "cell_type": "code",
   "execution_count": null,
   "metadata": {
    "collapsed": true
   },
   "outputs": [],
   "source": []
  },
  {
   "cell_type": "code",
   "execution_count": null,
   "metadata": {
    "collapsed": true
   },
   "outputs": [],
   "source": []
  },
  {
   "cell_type": "code",
   "execution_count": null,
   "metadata": {
    "collapsed": true
   },
   "outputs": [],
   "source": []
  }
 ],
 "metadata": {
  "kernelspec": {
   "display_name": "Python 2",
   "language": "python",
   "name": "python2"
  },
  "language_info": {
   "codemirror_mode": {
    "name": "ipython",
    "version": 2
   },
   "file_extension": ".py",
   "mimetype": "text/x-python",
   "name": "python",
   "nbconvert_exporter": "python",
   "pygments_lexer": "ipython2",
   "version": "2.7.8"
  }
 },
 "nbformat": 4,
 "nbformat_minor": 0
}
