{
 "cells": [
  {
   "cell_type": "markdown",
   "metadata": {},
   "source": [
    "In this post, we will develop a simple ray tracing model, which can be a very useful tool in many domains. For instance in acoustics, optics, fluids dynamics... Why so many different domains? Well, this is related to the fact that under certain hypotheses (high frequency and paraxial approximations) waves (light, sound, water...) behave like rays."
   ]
  },
  {
   "cell_type": "markdown",
   "metadata": {},
   "source": [
    "# Modelling our ray tracer"
   ]
  },
  {
   "cell_type": "markdown",
   "metadata": {},
   "source": [
    "There's many good introductions to ray tracing, but here we will define things as we go. The way we want to trace rays is very basic. Essentially, we want to be able to:\n",
    "\n",
    "- draw any geometry \n",
    "- account for different wave speeds in different matters\n",
    "\n",
    "To do this, we will model the geometry as a sequence of oriented segments, with wave speed properties on each side of the segment. Any type of geometry will thus be represented as a list of segments. Also, we will only work in 2d.\n",
    "\n",
    "A single segment might be modelled as follows:"
   ]
  },
  {
   "cell_type": "code",
   "execution_count": 1,
   "metadata": {
    "collapsed": true
   },
   "outputs": [],
   "source": [
    "class Segment:\n",
    "    \"A class representing segments.\"\n",
    "    def __init__(self, A, B, normal_vector, celerity_front, celerity_back):\n",
    "        \"Inits a segment from A to B, with a normal vector and front and back celerities.\"\n",
    "        self.A = A\n",
    "        self.B = B\n",
    "        self.normal_vector = normal_vector\n",
    "        self.celerity_front = celerity_front\n",
    "        self.celerity_back = celerity_back"
   ]
  },
  {
   "cell_type": "markdown",
   "metadata": {},
   "source": [
    "A sphere would thus be represented by a sequence of segments. Any geometry could thus just be a list of segments.\n",
    "\n",
    "So how does one trace a ray? There's three things here:\n",
    "\n",
    "- intersection of a ray with a segment\n",
    "- refraction\n",
    "- reflection\n",
    "\n",
    "Let's tackle these. But first, we need to define a ray."
   ]
  },
  {
   "cell_type": "markdown",
   "metadata": {},
   "source": [
    "# Defining a ray"
   ]
  },
  {
   "cell_type": "markdown",
   "metadata": {},
   "source": [
    "A ray needs an origin and an end."
   ]
  },
  {
   "cell_type": "code",
   "execution_count": 2,
   "metadata": {
    "collapsed": true
   },
   "outputs": [],
   "source": [
    "class Ray:\n",
    "    \"A class representing a ray.\"\n",
    "    def __init__(self, origin, end):\n",
    "        self.origin = origin\n",
    "        self.end = end"
   ]
  },
  {
   "cell_type": "markdown",
   "metadata": {},
   "source": [
    "Finally, we also need sources of rays, which are defined by a point and a direction, which is an unit vector."
   ]
  },
  {
   "cell_type": "code",
   "execution_count": 3,
   "metadata": {
    "collapsed": true
   },
   "outputs": [],
   "source": [
    "class Source:\n",
    "    \"A ray source.\"\n",
    "    def __init__(self, origin, direction):\n",
    "        self.origin = origin\n",
    "        self.direction = direction"
   ]
  },
  {
   "cell_type": "markdown",
   "metadata": {},
   "source": [
    "Finally, we also need points:"
   ]
  },
  {
   "cell_type": "code",
   "execution_count": 4,
   "metadata": {
    "collapsed": true
   },
   "outputs": [],
   "source": [
    "from collections import namedtuple\n",
    "\n",
    "Point = namedtuple('Point', 'x, y')"
   ]
  },
  {
   "cell_type": "code",
   "execution_count": 5,
   "metadata": {
    "collapsed": false
   },
   "outputs": [
    {
     "data": {
      "text/plain": [
       "Point(x=1, y=2)"
      ]
     },
     "execution_count": 5,
     "metadata": {},
     "output_type": "execute_result"
    }
   ],
   "source": [
    "Point(1, 2)"
   ]
  },
  {
   "cell_type": "markdown",
   "metadata": {},
   "source": [
    "And vectors:"
   ]
  },
  {
   "cell_type": "code",
   "execution_count": 6,
   "metadata": {
    "collapsed": true
   },
   "outputs": [],
   "source": [
    "Vector = namedtuple('Vector', 'u_x, u_y')"
   ]
  },
  {
   "cell_type": "code",
   "execution_count": 7,
   "metadata": {
    "collapsed": false
   },
   "outputs": [
    {
     "data": {
      "text/plain": [
       "Vector(u_x=3.0, u_y=2.4)"
      ]
     },
     "execution_count": 7,
     "metadata": {},
     "output_type": "execute_result"
    }
   ],
   "source": [
    "Vector(3., 2.4)"
   ]
  },
  {
   "cell_type": "markdown",
   "metadata": {},
   "source": [
    "# Intersection of a source with a segment to create a ray"
   ]
  },
  {
   "cell_type": "markdown",
   "metadata": {},
   "source": [
    "Once we have a source, we can trace it until a segment with which it intersects. The intersection point allows us to return a ray."
   ]
  },
  {
   "cell_type": "code",
   "execution_count": 8,
   "metadata": {
    "collapsed": true
   },
   "outputs": [],
   "source": [
    "def trace_ray(source, geometric_object):\n",
    "    \"Traces a ray from a source to a geometric object.\"\n",
    "    intersected_segment = min(geometric_object.segments, key=lambda seg: tof(source, seg))\n",
    "    intersection_point = intersection(source, intersected_segment)\n",
    "    return Ray(source.origin, intersection_point)\n",
    "\n",
    "# TODO: tof function, intersection function"
   ]
  },
  {
   "cell_type": "markdown",
   "metadata": {},
   "source": [
    "Let's now turn to the intersection function. Our rays are always straight lines. So it is easy to come up with a way for intersecting a line."
   ]
  },
  {
   "cell_type": "code",
   "execution_count": 9,
   "metadata": {
    "collapsed": false
   },
   "outputs": [
    {
     "ename": "SyntaxError",
     "evalue": "unexpected EOF while parsing (<ipython-input-9-30eed575786f>, line 6)",
     "output_type": "error",
     "traceback": [
      "\u001b[0;36m  File \u001b[0;32m\"<ipython-input-9-30eed575786f>\"\u001b[0;36m, line \u001b[0;32m6\u001b[0m\n\u001b[0;31m    else:\u001b[0m\n\u001b[0m         ^\u001b[0m\n\u001b[0;31mSyntaxError\u001b[0m\u001b[0;31m:\u001b[0m unexpected EOF while parsing\n"
     ]
    }
   ],
   "source": [
    "def intersection(source, segment):\n",
    "    \"Computes the intersection point between a source and a segment.\"\n",
    "    # they're parallel: no intersection or infinity\n",
    "    if scalar(source.direction, segment.normal_vector) == 0.:\n",
    "        return None\n",
    "    else:"
   ]
  },
  {
   "cell_type": "code",
   "execution_count": 10,
   "metadata": {
    "collapsed": true
   },
   "outputs": [],
   "source": [
    "A = Point(0, 0)\n",
    "B = Point(5, 0)\n",
    "S = Point(1, -4)"
   ]
  },
  {
   "cell_type": "code",
   "execution_count": 11,
   "metadata": {
    "collapsed": true
   },
   "outputs": [],
   "source": [
    "import matplotlib.pyplot as plt\n",
    "%matplotlib inline\n",
    "plt.style.use('bmh')"
   ]
  },
  {
   "cell_type": "code",
   "execution_count": 12,
   "metadata": {
    "collapsed": true
   },
   "outputs": [],
   "source": [
    "def draw_points(points, labels=None):\n",
    "    \"Draws a list of points with labels.\"\n",
    "    if labels is None:\n",
    "        labels = ['Point {}'.format(ind) for ind, val in enumerate(points)]\n",
    "    for p, label in zip(points, labels):\n",
    "        plt.plot(p.x, p.y, 'o', label=label)"
   ]
  },
  {
   "cell_type": "code",
   "execution_count": 13,
   "metadata": {
    "collapsed": false
   },
   "outputs": [
    {
     "data": {
      "text/plain": [
       "(-5, 1)"
      ]
     },
     "execution_count": 13,
     "metadata": {},
     "output_type": "execute_result"
    },
    {
     "data": {
      "image/png": "[encoded data removed]",
      "text/plain": [
       "<matplotlib.figure.Figure at 0x8dbb860>"
      ]
     },
     "metadata": {},
     "output_type": "display_data"
    }
   ],
   "source": [
    "draw_points([A, B, S], ['A', 'B', 'S'])\n",
    "plt.legend()\n",
    "plt.xlim(-1, 7)\n",
    "plt.ylim(-5, 1)"
   ]
  },
  {
   "cell_type": "code",
   "execution_count": 14,
   "metadata": {
    "collapsed": false
   },
   "outputs": [
    {
     "ename": "SyntaxError",
     "evalue": "invalid syntax (<ipython-input-14-318c53a6be6f>, line 1)",
     "output_type": "error",
     "traceback": [
      "\u001b[0;36m  File \u001b[0;32m\"<ipython-input-14-318c53a6be6f>\"\u001b[0;36m, line \u001b[0;32m1\u001b[0m\n\u001b[0;31m    AB =\u001b[0m\n\u001b[0m         ^\u001b[0m\n\u001b[0;31mSyntaxError\u001b[0m\u001b[0;31m:\u001b[0m invalid syntax\n"
     ]
    }
   ],
   "source": [
    "AB = "
   ]
  },
  {
   "cell_type": "markdown",
   "metadata": {},
   "source": [
    "Information about line intersections can be found here:\n",
    "\n",
    "<http://geomalgorithms.com/a05-_intersect-1.html>\n",
    "\n",
    "I thing this is the way to go."
   ]
  },
  {
   "cell_type": "markdown",
   "metadata": {},
   "source": [
    "# Creating a nice visualization "
   ]
  },
  {
   "cell_type": "markdown",
   "metadata": {},
   "source": [
    "Drawing rays that intersect a straight wall."
   ]
  },
  {
   "cell_type": "code",
   "execution_count": null,
   "metadata": {
    "collapsed": true
   },
   "outputs": [],
   "source": [
    "s = Point(0, 0)\n",
    "east = Vector(1, 0)\n",
    "source = Source(s, direction=east, aperture=(-30, 30), n=11)\n",
    "top = Point(1, 1)\n",
    "bottom = Point(1, -1)\n",
    "wall = Segment(top, bottom)\n",
    "rays = Intersect(source, wall)\n",
    "plot(rays)"
   ]
  },
  {
   "cell_type": "markdown",
   "metadata": {},
   "source": [
    "Drawing rays that get focused by spherical shell."
   ]
  },
  {
   "cell_type": "code",
   "execution_count": null,
   "metadata": {
    "collapsed": true
   },
   "outputs": [],
   "source": [
    "s = Point(0, 0)\n",
    "east = Vector(1, 0)\n",
    "source = Source(s, direction=east, aperture=(-30, 30), n=11)\n",
    "top = Point(1, 1)\n",
    "bottom = Point(1, -1)\n",
    "wall = Segment(top, bottom)\n",
    "rays = Intersect(source, wall)\n",
    "plot(rays)"
   ]
  }
 ],
 "metadata": {
  "kernelspec": {
   "display_name": "Python 3",
   "language": "python",
   "name": "python3"
  },
  "language_info": {
   "codemirror_mode": {
    "name": "ipython",
    "version": 3
   },
   "file_extension": ".py",
   "mimetype": "text/x-python",
   "name": "python",
   "nbconvert_exporter": "python",
   "pygments_lexer": "ipython3",
   "version": "3.5.2"
  }
 },
 "nbformat": 4,
 "nbformat_minor": 0
}
