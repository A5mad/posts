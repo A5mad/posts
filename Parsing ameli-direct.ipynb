{
 "metadata": {
  "name": ""
 },
 "nbformat": 3,
 "nbformat_minor": 0,
 "worksheets": [
  {
   "cells": [
    {
     "cell_type": "markdown",
     "metadata": {},
     "source": [
      "# Documentation\n",
      "\n",
      "[Aspirer le site Ameli-direct](http://blog.alphoenix.net/2012/04/aspirer-les-medecins-dameli/)"
     ]
    },
    {
     "cell_type": "heading",
     "level": 1,
     "metadata": {},
     "source": [
      "Pas \u00e0 pas"
     ]
    },
    {
     "cell_type": "markdown",
     "metadata": {},
     "source": [
      "Premi\u00e8re \u00e9tape : obtenir le code source d'une page avec les noms des m\u00e9decins."
     ]
    },
    {
     "cell_type": "code",
     "collapsed": false,
     "input": [
      "url = \"http://ameli-direct.ameli.fr/professionnels-de-sante/recherche-3/liste-resultats-page-1-par_page-20-tri-aleatoire-78743a09d13afd406fcb10f9cf235c18.html\""
     ],
     "language": "python",
     "metadata": {},
     "outputs": [],
     "prompt_number": 1
    },
    {
     "cell_type": "code",
     "collapsed": false,
     "input": [
      "import urllib2\n",
      "opener = urllib2.build_opener()\n",
      "opener.addheaders = [('User-agent', 'Mozilla/5.0')]\n",
      "opener.addheaders.append(('Cookie', 'infosoins=0qrr6j8crh1k6tov6m2kfcmnl2; AmeliDirectPersist=2973622583.20480.0000; xtvrn=$311077$'))\n",
      "f = opener.open(url)"
     ],
     "language": "python",
     "metadata": {},
     "outputs": [],
     "prompt_number": 10
    },
    {
     "cell_type": "code",
     "collapsed": false,
     "input": [
      "lines = f.readlines()\n",
      "len(lines)"
     ],
     "language": "python",
     "metadata": {},
     "outputs": [
      {
       "metadata": {},
       "output_type": "pyout",
       "prompt_number": 11,
       "text": [
        "781"
       ]
      }
     ],
     "prompt_number": 11
    },
    {
     "cell_type": "markdown",
     "metadata": {},
     "source": [
      "Deuxi\u00e8me \u00e9tape : parser le code HTML pour en tirer : \n",
      "\n",
      "- l\u2019url de la fiche-m\u00e9decin, \n",
      "- le nom, \n",
      "- le secteur \n",
      "- l\u2019adresse\n",
      "- la carte vitale\n",
      "\n",
      "Je m'inspire ici de la classe que j'avais d\u00e9j\u00e0 cod\u00e9e pour [mon parser initial](https://github.com/flothesof/AmeliParser/blob/master/parser.py)."
     ]
    },
    {
     "cell_type": "code",
     "collapsed": false,
     "input": [
      "from HTMLParser import HTMLParser\n",
      "\n",
      "class AmeliHTMLParser(HTMLParser):\n",
      "    def __init__(self):\n",
      "        HTMLParser.__init__(self)\n",
      "        self.data = {'nom': [], 'prof': [], 'tel': []}\n",
      "        self.listening = False\n",
      "        self.data_type = ''\n",
      "        \n",
      "    def handle_starttag(self, tag, attrs):\n",
      "        if tag == 'div':\n",
      "            if len(attrs) == 1:\n",
      "                if attrs[0] == ('class', 'medecin-item-nom-recherche'):\n",
      "                    self.listening = True\n",
      "                    self.data_type = 'nom'\n",
      "                elif attrs[0] == ('class', 'medecin-item-prof-recherche'):\n",
      "                    self.listening = True\n",
      "                    self.data_type = 'prof'\n",
      "                elif attrs[0] == ('class', 'medecin-item-tel-recherche'):\n",
      "                    self.listening = True\n",
      "                    self.data_type = 'tel'\n",
      "                    \n",
      "    def handle_endtag(self, tag):\n",
      "        if tag == 'div':\n",
      "            if self.listening == True:\n",
      "                #il faut penser \u00e0 archiver les donn\u00e9es\n",
      "                self.listening = False\n",
      "            else:\n",
      "                self.listening = False\n",
      "                \n",
      "    def handle_data(self, data):\n",
      "        if self.listening == True:\n",
      "            self.data[self.data_type].append(data)"
     ],
     "language": "python",
     "metadata": {},
     "outputs": [],
     "prompt_number": 14
    },
    {
     "cell_type": "code",
     "collapsed": false,
     "input": [
      "ameli_parser = AmeliHTMLParser()\n",
      "for line in lines: \n",
      "    ameli_parser.feed(line)"
     ],
     "language": "python",
     "metadata": {},
     "outputs": [],
     "prompt_number": 15
    },
    {
     "cell_type": "code",
     "collapsed": false,
     "input": [
      "ameli_parser.data.keys()"
     ],
     "language": "python",
     "metadata": {},
     "outputs": [
      {
       "metadata": {},
       "output_type": "pyout",
       "prompt_number": 17,
       "text": [
        "['nom', 'tel', 'prof']"
       ]
      }
     ],
     "prompt_number": 17
    },
    {
     "cell_type": "markdown",
     "metadata": {},
     "source": [
      "On peut maintenant trier nos donn\u00e9es et extraires seulement ce qui nous int\u00e9resse."
     ]
    },
    {
     "cell_type": "code",
     "collapsed": false,
     "input": [
      "# carte vitale\n",
      "data = {}\n",
      "data['vitale'] = filter(lambda x: x!='', map(str.strip, ameli_parser.data['prof']))\n",
      "\n",
      "# phone numbers and conventions\n",
      "s = ''.join(ameli_parser.data['tel'])\n",
      "s = map(str.strip, s.split('\\n'))\n",
      "data['tel'] = []\n",
      "data['convention'] = []\n",
      "for i in range(1, len(s)):\n",
      "    if i % 2 == 1:\n",
      "        data['tel'].append(s[i])\n",
      "    if i % 2 == 0:\n",
      "        data['convention'].append(s[i])\n",
      "\n",
      "# names and addresses\n",
      "s = ' '.join(ameli_parser.data['nom'])\n",
      "s = map(str.strip, s.split('\\n'))\n",
      "data['nom'] = []\n",
      "data['adresse'] = []\n",
      "for i in range(1, len(s)):\n",
      "    if (i - 1) % 4 == 0:\n",
      "        data['nom'].append(s[i])\n",
      "    if (i - 1) % 4 == 3:\n",
      "        data['adresse'].append(s[i])"
     ],
     "language": "python",
     "metadata": {},
     "outputs": [],
     "prompt_number": 21
    },
    {
     "cell_type": "code",
     "collapsed": false,
     "input": [
      "for i in range(len(data['adresse'])):\n",
      "        print(', '.join([data['nom'][i], data['tel'][i],\n",
      "                               data['vitale'][i], data['convention'][i],\n",
      "                                data['adresse'][i]]))"
     ],
     "language": "python",
     "metadata": {},
     "outputs": [
      {
       "output_type": "stream",
       "stream": "stdout",
       "text": [
        "LE QUOY  OLIVIER, 0143353148, Carte vitale : Non, Conventionn\u00e9 secteur 2, 29 RUE D ALESIA 75014 PARIS\n",
        "THAN TRONG  THONG, 0143354103, Carte vitale : Oui, Conventionn\u00e9 secteur 2, 10 RUE DAGUERRE 75014 PARIS\n",
        "VAN WENT  CHARLES, , Carte vitale : Oui, Conventionn\u00e9 secteur 2, SELARL CHASSIGNOL VAN WENT 79 AVENUE DU GENERAL LECLERC 75014 PARIS\n",
        "CHARLOT  JEAN CLAUDE, 0143224233, Carte vitale : Non, Conventionn\u00e9 secteur 2, 228 BOULEVARD RASPAIL 75014 PARIS\n",
        "FELLER  MICHEL, 0143350828, Carte vitale : Non, Conventionn\u00e9 secteur 2, 118 BOULEVARD MONTPARNASSE 75014 PARIS\n",
        "BOUMENDIL  JULIEN, 0143209175, Carte vitale : Oui, Conventionn\u00e9 secteur 2, 142 BOULEVARD DU MONTPARNASSE 75014 PARIS\n",
        "WERTHEL  ANDREE LUCE, 0145427574, Carte vitale : Oui, Conventionn\u00e9 secteur 2, 24 AVENUE VILLEMAIN 75014 PARIS\n",
        "MAGNANI  MATTEO, , Carte vitale : Oui, Conventionn\u00e9 secteur 2, 29 RUE SARRETTE. 75014 PARIS\n",
        "SARFATI  ADRIEN, 0143354103, Carte vitale : Oui, Conventionn\u00e9 secteur 2, 10 RUE DAGUERRE 75014 PARIS\n",
        "CHASSIGNOL  ALEXIS, 0143271069, Carte vitale : Oui, Conventionn\u00e9 secteur 2, SELARL CHASSIGNOL VAN WENT 79 AVENUE DU GENERAL LECLERC 75014 PARIS\n",
        "GIRARD DECIS  ANAIS, 0143354103, Carte vitale : Oui, Conventionn\u00e9 secteur 2, 10 RUE DAGUERRE 75014 PARIS\n",
        "MONNET  DOMINIQUE, 0158412191, Carte vitale : Non, Conventionn\u00e9 secteur 2, 27 RUE DU FBG SAINT JACQUES 75014 PARIS\n",
        "COMMEAU  DOMINIQUE, 0145417363, Carte vitale : Oui, Conventionn\u00e9 secteur 2, 22 RUE ERNEST CRESSON 75014 PARIS\n",
        "CHAMOUNI  HUBERT, , Carte vitale : Oui, Conventionn\u00e9 secteur 2, 95 AVENUE DU GAL LECLERC 75014 PARIS\n",
        "MEYER  MARIE CLAUDE, 0143206255, Carte vitale : Non, Conventionn\u00e9 secteur 2, 29 BOULEVARD E.QUINET 75014 PARIS\n",
        "VAN WENT  RICHARD, 0143271069, Carte vitale : Non, Conventionn\u00e9 secteur 2, SELARL VAN WENT 79 AVENUE DU GENERAL LECLERC 75014 PARIS\n",
        "KELLER  PIERRE, 0143354333, Carte vitale : Oui, Conventionn\u00e9 secteur 2, 3 RUE VICTOR CONSIDERANT 75014 PARIS\n",
        "SULMAN  JEAN JACQUES, 0140470000, Carte vitale : Oui, Conventionn\u00e9 secteur 2, 90 AVENUE DU MAINE 75014 PARIS\n",
        "KRETZ  GILLES, 0140446530, Carte vitale : Oui, Conventionn\u00e9 secteur 2, 150 RUE R LOSSERAND 75014 PARIS\n",
        "TAZARTES  MICHEL, 0143209175, Carte vitale : Non, Conventionn\u00e9 secteur 2, 142 BOULEVARD DU MONTPARNASSE 75014 PARIS\n"
       ]
      }
     ],
     "prompt_number": 24
    },
    {
     "cell_type": "code",
     "collapsed": false,
     "input": [
      "from IPython.display import HTML\n",
      "def html_table(string_list):\n",
      "    output = '<table>'\n",
      "    for sublist in string_list:\n",
      "        output += '  <tr><td>'\n",
      "        output +=  '    </td><td>'.join(sublist)\n",
      "        output += '  </td></tr>'\n",
      "    output += '</table>'\n",
      "    return output\n",
      "\n",
      "string_list = [[data['nom'][i], data['tel'][i],\n",
      "                               data['vitale'][i], data['convention'][i],\n",
      "                                data['adresse'][i]] for i in range(len(data['adresse']))]\n",
      "print len(string_list)\n",
      "HTML(html_table(string_list))    "
     ],
     "language": "python",
     "metadata": {},
     "outputs": [
      {
       "output_type": "stream",
       "stream": "stdout",
       "text": [
        "20\n"
       ]
      },
      {
       "html": [
        "<table>  <tr><td>LE QUOY  OLIVIER    </td><td>0143353148    </td><td>Carte vitale : Non    </td><td>Conventionn\u00e9 secteur 2    </td><td>29 RUE D ALESIA 75014 PARIS  </td></tr>  <tr><td>THAN TRONG  THONG    </td><td>0143354103    </td><td>Carte vitale : Oui    </td><td>Conventionn\u00e9 secteur 2    </td><td>10 RUE DAGUERRE 75014 PARIS  </td></tr>  <tr><td>VAN WENT  CHARLES    </td><td>    </td><td>Carte vitale : Oui    </td><td>Conventionn\u00e9 secteur 2    </td><td>SELARL CHASSIGNOL VAN WENT 79 AVENUE DU GENERAL LECLERC 75014 PARIS  </td></tr>  <tr><td>CHARLOT  JEAN CLAUDE    </td><td>0143224233    </td><td>Carte vitale : Non    </td><td>Conventionn\u00e9 secteur 2    </td><td>228 BOULEVARD RASPAIL 75014 PARIS  </td></tr>  <tr><td>FELLER  MICHEL    </td><td>0143350828    </td><td>Carte vitale : Non    </td><td>Conventionn\u00e9 secteur 2    </td><td>118 BOULEVARD MONTPARNASSE 75014 PARIS  </td></tr>  <tr><td>BOUMENDIL  JULIEN    </td><td>0143209175    </td><td>Carte vitale : Oui    </td><td>Conventionn\u00e9 secteur 2    </td><td>142 BOULEVARD DU MONTPARNASSE 75014 PARIS  </td></tr>  <tr><td>WERTHEL  ANDREE LUCE    </td><td>0145427574    </td><td>Carte vitale : Oui    </td><td>Conventionn\u00e9 secteur 2    </td><td>24 AVENUE VILLEMAIN 75014 PARIS  </td></tr>  <tr><td>MAGNANI  MATTEO    </td><td>    </td><td>Carte vitale : Oui    </td><td>Conventionn\u00e9 secteur 2    </td><td>29 RUE SARRETTE. 75014 PARIS  </td></tr>  <tr><td>SARFATI  ADRIEN    </td><td>0143354103    </td><td>Carte vitale : Oui    </td><td>Conventionn\u00e9 secteur 2    </td><td>10 RUE DAGUERRE 75014 PARIS  </td></tr>  <tr><td>CHASSIGNOL  ALEXIS    </td><td>0143271069    </td><td>Carte vitale : Oui    </td><td>Conventionn\u00e9 secteur 2    </td><td>SELARL CHASSIGNOL VAN WENT 79 AVENUE DU GENERAL LECLERC 75014 PARIS  </td></tr>  <tr><td>GIRARD DECIS  ANAIS    </td><td>0143354103    </td><td>Carte vitale : Oui    </td><td>Conventionn\u00e9 secteur 2    </td><td>10 RUE DAGUERRE 75014 PARIS  </td></tr>  <tr><td>MONNET  DOMINIQUE    </td><td>0158412191    </td><td>Carte vitale : Non    </td><td>Conventionn\u00e9 secteur 2    </td><td>27 RUE DU FBG SAINT JACQUES 75014 PARIS  </td></tr>  <tr><td>COMMEAU  DOMINIQUE    </td><td>0145417363    </td><td>Carte vitale : Oui    </td><td>Conventionn\u00e9 secteur 2    </td><td>22 RUE ERNEST CRESSON 75014 PARIS  </td></tr>  <tr><td>CHAMOUNI  HUBERT    </td><td>    </td><td>Carte vitale : Oui    </td><td>Conventionn\u00e9 secteur 2    </td><td>95 AVENUE DU GAL LECLERC 75014 PARIS  </td></tr>  <tr><td>MEYER  MARIE CLAUDE    </td><td>0143206255    </td><td>Carte vitale : Non    </td><td>Conventionn\u00e9 secteur 2    </td><td>29 BOULEVARD E.QUINET 75014 PARIS  </td></tr>  <tr><td>VAN WENT  RICHARD    </td><td>0143271069    </td><td>Carte vitale : Non    </td><td>Conventionn\u00e9 secteur 2    </td><td>SELARL VAN WENT 79 AVENUE DU GENERAL LECLERC 75014 PARIS  </td></tr>  <tr><td>KELLER  PIERRE    </td><td>0143354333    </td><td>Carte vitale : Oui    </td><td>Conventionn\u00e9 secteur 2    </td><td>3 RUE VICTOR CONSIDERANT 75014 PARIS  </td></tr>  <tr><td>SULMAN  JEAN JACQUES    </td><td>0140470000    </td><td>Carte vitale : Oui    </td><td>Conventionn\u00e9 secteur 2    </td><td>90 AVENUE DU MAINE 75014 PARIS  </td></tr>  <tr><td>KRETZ  GILLES    </td><td>0140446530    </td><td>Carte vitale : Oui    </td><td>Conventionn\u00e9 secteur 2    </td><td>150 RUE R LOSSERAND 75014 PARIS  </td></tr>  <tr><td>TAZARTES  MICHEL    </td><td>0143209175    </td><td>Carte vitale : Non    </td><td>Conventionn\u00e9 secteur 2    </td><td>142 BOULEVARD DU MONTPARNASSE 75014 PARIS  </td></tr></table>"
       ],
       "metadata": {},
       "output_type": "pyout",
       "prompt_number": 29,
       "text": [
        "<IPython.core.display.HTML at 0xad7e5ac>"
       ]
      }
     ],
     "prompt_number": 29
    }
   ],
   "metadata": {}
  }
 ]
}