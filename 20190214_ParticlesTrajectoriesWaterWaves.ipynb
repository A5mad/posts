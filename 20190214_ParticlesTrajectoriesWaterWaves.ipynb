{
 "cells": [
  {
   "cell_type": "markdown",
   "metadata": {},
   "source": [
    "Goal of this notebook:\n",
    "\n",
    "- establish the infinite depth wave equation and dispersion relation\n",
    "- compute a formula for the particle trajectories\n",
    "- plot the result of a superposition of a wave coming from the left and a wave coming from the right to imitate the Van Dyke illustration of page 111"
   ]
  },
  {
   "cell_type": "markdown",
   "metadata": {},
   "source": [
    "# Equations "
   ]
  },
  {
   "cell_type": "markdown",
   "metadata": {},
   "source": [
    "We have a solution for the surface over-pressure:\n",
    "\n",
    "$$\n",
    "p(x, z, t) = \\Re \\left(\\exp(kz) \\exp(i(kx - \\omega t) \\right)\n",
    "$$\n",
    "\n",
    "If we reason at fixed wavenumbers, then we can deduce the frequency from the dispersion relation:\n",
    "$$\n",
    "D(\\omega, k) = \\omega^2 - gk = 0\n",
    "$$"
   ]
  },
  {
   "cell_type": "markdown",
   "metadata": {},
   "source": [
    "## Pressure plot"
   ]
  },
  {
   "cell_type": "markdown",
   "metadata": {},
   "source": [
    "Let's try some pure waves."
   ]
  },
  {
   "cell_type": "code",
   "execution_count": null,
   "metadata": {},
   "outputs": [],
   "source": [
    "import numpy as np\n",
    "import holoviews as hv\n",
    "hv.extension('matplotlib')\n",
    "\n",
    "qm_opts = hv.opts.QuadMesh(fig_size=300, aspect=2.5, cmap='seismic')"
   ]
  },
  {
   "cell_type": "code",
   "execution_count": null,
   "metadata": {},
   "outputs": [],
   "source": [
    "x = np.linspace(-6.25, 6.25, num=400).reshape(1, -1)\n",
    "z = np.linspace(0, -5, num=100).reshape(-1, 1)\n",
    "X, Z = np.meshgrid(x, z)\n",
    "k = 2 * np.pi / 1.\n",
    "rho = 1000\n",
    "\n",
    "def omega_of_k(k):\n",
    "    return np.sqrt(9.81 * k)\n",
    "\n",
    "p = np.real(np.exp(k * z) * np.exp(1j * (k * x - omega_of_k(k) * 0)))\n",
    "\n",
    "hv.QuadMesh((X, Z, p)).opts(qm_opts)"
   ]
  },
  {
   "cell_type": "markdown",
   "metadata": {},
   "source": [
    "Let's do something like this but with a varying value of the wavenumber."
   ]
  },
  {
   "cell_type": "code",
   "execution_count": null,
   "metadata": {},
   "outputs": [],
   "source": [
    "def p_of_k(k):\n",
    "    p = np.real(np.exp(k * z) * np.exp(1j * (k * x - omega_of_k(k) * 0)))\n",
    "    return hv.QuadMesh((X, Z, p)).opts(qm_opts)\n",
    "\n",
    "dmap_p = hv.DynamicMap(p_of_k, kdims=['k']).redim.range(k=(1, 10))\n",
    "dmap_p"
   ]
  },
  {
   "cell_type": "markdown",
   "metadata": {},
   "source": [
    "We can see a different behaviour as a function of wavenumbers.\n",
    "\n",
    "Low wavenumbers (large wavelengths) go deep, while large wavenumbers (small wavelengths) stay at the surface."
   ]
  },
  {
   "cell_type": "code",
   "execution_count": null,
   "metadata": {},
   "outputs": [],
   "source": [
    "dmap_p[1.] + dmap_p[8]"
   ]
  },
  {
   "cell_type": "markdown",
   "metadata": {},
   "source": [
    "## Time animation "
   ]
  },
  {
   "cell_type": "markdown",
   "metadata": {},
   "source": [
    "Of course, this pressure propagates from left to right. Let's do an animation of the pressure as a function of its period."
   ]
  },
  {
   "cell_type": "code",
   "execution_count": null,
   "metadata": {},
   "outputs": [],
   "source": [
    "def animate_pressure(k, Nframes=10):\n",
    "    omega = omega_of_k(k)\n",
    "    T = 2 * np.pi / omega\n",
    "    ts = np.arange(Nframes) / Nframes * T\n",
    "    ps = [np.real(np.exp(k * z) * np.exp(1j * (k * x - omega_of_k(k) * t))) for t in ts]\n",
    "    return {t: hv.QuadMesh((X, Z, p)).opts(qm_opts) for p,t in zip(ps, ts)}"
   ]
  },
  {
   "cell_type": "code",
   "execution_count": null,
   "metadata": {},
   "outputs": [],
   "source": [
    "%%output holomap='scrubber'\n",
    "hmap_p_lowk = hv.HoloMap(animate_pressure(1))\n",
    "hmap_p_lowk"
   ]
  },
  {
   "cell_type": "code",
   "execution_count": null,
   "metadata": {},
   "outputs": [],
   "source": [
    "%%output holomap='scrubber'\n",
    "hmap_p_highk = hv.HoloMap(animate_pressure(8))\n",
    "hmap_p_highk"
   ]
  },
  {
   "cell_type": "markdown",
   "metadata": {},
   "source": [
    "## Displacement field "
   ]
  },
  {
   "cell_type": "markdown",
   "metadata": {},
   "source": [
    "Now the question is: what are the two displacement components due to the pressure field? We already know that the surface displacement is proportional to the value of the pressure on the surface."
   ]
  },
  {
   "cell_type": "code",
   "execution_count": null,
   "metadata": {},
   "outputs": [],
   "source": [
    "def surface_displacement(k):\n",
    "    return hv.Curve((x, np.real(np.exp(1j * (k * x - omega_of_k(k) * 0)))))\n",
    "\n",
    "dmap_y = hv.DynamicMap(surface_displacement, kdims=['k']).redim.range(k=dmap_p.range('k'))"
   ]
  },
  {
   "cell_type": "code",
   "execution_count": null,
   "metadata": {},
   "outputs": [],
   "source": [
    "dmap_p * dmap_y"
   ]
  },
  {
   "cell_type": "markdown",
   "metadata": {},
   "source": [
    "Now this explains the displacement at the surface. But what about inside the fluid?"
   ]
  },
  {
   "cell_type": "code",
   "execution_count": null,
   "metadata": {},
   "outputs": [],
   "source": [
    "def show_vector_field(k, t=0, nx=30, nz=15):\n",
    "    x = np.linspace(-6.25, 6.25, num=nx).reshape(1, -1)\n",
    "    z = np.linspace(0, -5, num=nz).reshape(-1, 1)\n",
    "    X, Z = np.meshgrid(x, z)\n",
    "    U = np.real(1/(rho * omega_of_k(k) ** 2) * k * np.exp(k * z) * np.exp(1j * (k * x - omega_of_k(k) * t)))\n",
    "    V = np.real(1/(rho * omega_of_k(k) ** 2) * 1j * k * np.exp(k * z) * np.exp(1j * (k * x - omega_of_k(k) * t)))\n",
    "\n",
    "    # Convert U, V to magnitude and angle\n",
    "    mag = np.sqrt(U**2 + V**2)\n",
    "    angle = (np.pi/2.) - np.arctan2(U/mag, V/mag)\n",
    "\n",
    "    field = hv.VectorField((X, Z, angle, mag)).opts(\n",
    "        fig_size=300, aspect=2.5).opts(hv.opts.VectorField(color='Magnitude', \n",
    "                                                           magnitude=hv.dim('Magnitude').norm(), \n",
    "                                                           rescale_lengths=False))\n",
    "    return field "
   ]
  },
  {
   "cell_type": "code",
   "execution_count": null,
   "metadata": {},
   "outputs": [],
   "source": [
    "show_vector_field(.5)"
   ]
  },
  {
   "cell_type": "markdown",
   "metadata": {},
   "source": [
    "Let's animate this:"
   ]
  },
  {
   "cell_type": "code",
   "execution_count": null,
   "metadata": {},
   "outputs": [],
   "source": [
    "def animate_displacement(k, Nframes=10):\n",
    "    omega = omega_of_k(k)\n",
    "    T = 2 * np.pi / omega\n",
    "    ts = np.arange(Nframes) / Nframes * T\n",
    "    return {t: show_vector_field(k, t=t) for t in ts}"
   ]
  },
  {
   "cell_type": "markdown",
   "metadata": {},
   "source": [
    "We can now plot the result for low wavenumbers."
   ]
  },
  {
   "cell_type": "code",
   "execution_count": null,
   "metadata": {},
   "outputs": [],
   "source": [
    "%%output holomap='scrubber'\n",
    "hv.HoloMap(animate_displacement(.2, Nframes=20))"
   ]
  },
  {
   "cell_type": "markdown",
   "metadata": {},
   "source": [
    "As well as for large wavenumbers."
   ]
  },
  {
   "cell_type": "code",
   "execution_count": null,
   "metadata": {},
   "outputs": [],
   "source": [
    "%%output holomap='scrubber'\n",
    "hv.HoloMap(animate_displacement(1.))"
   ]
  },
  {
   "cell_type": "markdown",
   "metadata": {},
   "source": [
    "Something that is not completely apparent in the above animation is that the trajectories of the particles are little circles. Let's try to superpose the points obtained over several frames on a still image."
   ]
  },
  {
   "cell_type": "code",
   "execution_count": null,
   "metadata": {},
   "outputs": [],
   "source": [
    "def show_points(k, t=0, nx=30, nz=15, viz_amp=3000, jitter=0.1):\n",
    "    np.random.seed(12)\n",
    "    x = np.linspace(-6.25, 6.25, num=nx).reshape(1, -1)\n",
    "    z = np.linspace(0, -5, num=nz).reshape(-1, 1)\n",
    "    X, Z = np.meshgrid(x, z)\n",
    "    X += np.random.rand(*X.shape) * jitter\n",
    "    Z += np.random.rand(*Z.shape) * jitter\n",
    "    U = np.real(1/(rho * omega_of_k(k) ** 2) * k * np.exp(k * Z) * np.exp(1j * (k * X - omega_of_k(k) * t)))\n",
    "    V = np.real(1/(rho * omega_of_k(k) ** 2) * 1j * k * np.exp(k * Z) * np.exp(1j * (k * X - omega_of_k(k) * t)))\n",
    "    points = hv.Points(((X + U * viz_amp).flat, (Z + V * viz_amp).flat))\n",
    "    return points.opts(color='black', s=5, fig_size=300, aspect=2.5)"
   ]
  },
  {
   "cell_type": "code",
   "execution_count": null,
   "metadata": {},
   "outputs": [],
   "source": [
    "def animate_trajectory(k, Nframes=10, **kwargs):\n",
    "    omega = omega_of_k(k)\n",
    "    T = 2 * np.pi / omega\n",
    "    ts = np.arange(Nframes) / Nframes * T\n",
    "    return [show_points(k, t=t, **kwargs) for t in ts]"
   ]
  },
  {
   "cell_type": "code",
   "execution_count": null,
   "metadata": {},
   "outputs": [],
   "source": [
    "hv.Overlay(animate_trajectory(0.2, Nframes=50, nx=15, nz=9, jitter=0.2))"
   ]
  },
  {
   "cell_type": "markdown",
   "metadata": {},
   "source": [
    "What we see here (for a low wavenumber wave) are the particle displacements plotted over one period of time, and they're all little circles. This does not change for high wavenumbers, however the circle amplitude gets smaller and smaller due to depth."
   ]
  },
  {
   "cell_type": "code",
   "execution_count": null,
   "metadata": {},
   "outputs": [],
   "source": [
    "hv.Overlay(animate_trajectory(0.1, Nframes=50, nx=15, nz=9, jitter=0.2)) + hv.Overlay(animate_trajectory(1, Nframes=50, nx=15, nz=9, jitter=0.2))"
   ]
  },
  {
   "cell_type": "markdown",
   "metadata": {},
   "source": [
    "The higher the wavenumber, the more the wave stays \"at the surface\"."
   ]
  },
  {
   "cell_type": "markdown",
   "metadata": {},
   "source": [
    "# Two waves that oppose each other "
   ]
  },
  {
   "cell_type": "markdown",
   "metadata": {},
   "source": [
    "Let's now conclude with a recreation of a picture to be found in Milton Van Dyke's *Album of fluid motion*. We use the previous code to visualize the effect of two waves of opposite directions propagating at the same time.\n",
    "\n",
    "We will trace the resulting pressure field, the vectors as well as the trajectories all on top of each other."
   ]
  },
  {
   "cell_type": "code",
   "execution_count": null,
   "metadata": {},
   "outputs": [],
   "source": [
    "def compute_fields(reflected_part, k, t=0, nx=28, nz=14):\n",
    "    x = np.linspace(-6.25, 6.25, num=nx).reshape(1, -1)\n",
    "    z = np.linspace(0, -5, num=nz).reshape(-1, 1)\n",
    "    X, Z = np.meshgrid(x, z)\n",
    "    p_to_left = np.exp(k * Z) * np.exp(1j * (k * X - omega_of_k(k) * t))\n",
    "    p_to_right = reflected_part * np.exp(k * Z) * np.exp(1j * (k * X + omega_of_k(k) * t))\n",
    "    p = p_to_left + p_to_right\n",
    "    U = np.real(1/(rho * omega_of_k(k) ** 2) * k * p)\n",
    "    V = np.real(1/(rho * omega_of_k(k) ** 2) * 1j * k * p)\n",
    "    return X, Z, np.real(p), U, V"
   ]
  },
  {
   "cell_type": "code",
   "execution_count": null,
   "metadata": {},
   "outputs": [],
   "source": [
    "X, Z, p, U, V = compute_fields(reflected_part=.8, k=0.5, t=0.1)\n",
    "\n",
    "def make_vector_field(X, Z, U, V):\n",
    "    mag = np.sqrt(U**2 + V**2)\n",
    "    angle = (np.pi/2.) - np.arctan2(U/mag, V/mag)\n",
    "    field = hv.VectorField((X, Z, angle, mag)).opts(\n",
    "        fig_size=300, aspect=2.5).opts(hv.opts.VectorField(magnitude=hv.dim('Magnitude').norm(), \n",
    "                                                           rescale_lengths=False))\n",
    "    return field"
   ]
  },
  {
   "cell_type": "markdown",
   "metadata": {},
   "source": [
    "We can now do a plot of all this information together."
   ]
  },
  {
   "cell_type": "code",
   "execution_count": null,
   "metadata": {},
   "outputs": [],
   "source": [
    "viz_amp = 2000\n",
    "hv.QuadMesh((X, Z, p)).opts(cmap='seismic') * \\\n",
    "                make_vector_field(X, Z, U, V) * \\\n",
    "                hv.Points(((X + U * viz_amp).flat, (Z + V * viz_amp).flat)) "
   ]
  },
  {
   "cell_type": "markdown",
   "metadata": {},
   "source": [
    "How can we put the image with the trajectories as a background?"
   ]
  },
  {
   "cell_type": "code",
   "execution_count": null,
   "metadata": {},
   "outputs": [],
   "source": [
    "def make_trajectory(k, reflected_part, Nframes=10, viz_amp=4000):\n",
    "    omega = omega_of_k(k)\n",
    "    T = 2 * np.pi / omega\n",
    "    ts = np.arange(Nframes) / Nframes * T\n",
    "    frames = {}\n",
    "    for t in ts:\n",
    "        X, Z, p, U, V = compute_fields(reflected_part, k, t)\n",
    "        points = np.c_[(X + U * viz_amp).flat, (Z + V * viz_amp).flat]\n",
    "        frames[t] = hv.Points(points)\n",
    "    return frames"
   ]
  },
  {
   "cell_type": "code",
   "execution_count": null,
   "metadata": {},
   "outputs": [],
   "source": [
    "traj = make_trajectory(.5, reflected_part=.99, Nframes=30)\n",
    "hv.Overlay(list(traj.values())).opts(hv.opts.Points(s=1, color='k', show_frame=False))"
   ]
  },
  {
   "cell_type": "markdown",
   "metadata": {},
   "source": [
    "Let's animate this:"
   ]
  },
  {
   "cell_type": "code",
   "execution_count": null,
   "metadata": {},
   "outputs": [],
   "source": [
    "def animate_two_waves(k, reflected_part, Nframes=10, viz_amp=4000):\n",
    "    omega = omega_of_k(k)\n",
    "    T = 2 * np.pi / omega\n",
    "    ts = np.arange(Nframes) / Nframes * T\n",
    "    frames = {}\n",
    "    circle_indices = None\n",
    "    for t in ts:\n",
    "        X, Z, p, U, V = compute_fields(reflected_part, k, t)\n",
    "        if circle_indices is None:\n",
    "            circle_indices = np.random.choice(circles.shape[0], size=100)\n",
    "        frames[t] = hv.QuadMesh((X, Z, p)).opts(cmap='plasma', alpha=.2) * \\\n",
    "                            make_vector_field(X, Z, U, V) * \\\n",
    "                            hv.Points(((X + U * viz_amp).flat, (Z + V * viz_amp).flat)).opts(color='black')\n",
    "    return frames"
   ]
  },
  {
   "cell_type": "code",
   "execution_count": null,
   "metadata": {},
   "outputs": [],
   "source": [
    "%%output holomap='scrubber'\n",
    "hv.HoloMap(animate_two_waves(k=.5, reflected_part=0, Nframes=20), kdims='t').opts(show_frame=False, show_title=False)"
   ]
  },
  {
   "cell_type": "code",
   "execution_count": null,
   "metadata": {},
   "outputs": [],
   "source": [
    "%%output holomap='scrubber'\n",
    "hv.HoloMap(animate_two_waves(k=.5, reflected_part=.5, Nframes=20), kdims='t').opts(show_frame=False, show_title=False)"
   ]
  },
  {
   "cell_type": "code",
   "execution_count": null,
   "metadata": {},
   "outputs": [],
   "source": [
    "%%output holomap='scrubber'\n",
    "hv.HoloMap(animate_two_waves(k=.5, reflected_part=.99, Nframes=20), kdims='t').opts(show_frame=False, show_title=False)"
   ]
  },
  {
   "cell_type": "markdown",
   "metadata": {},
   "source": [
    "# But there's more ! "
   ]
  },
  {
   "cell_type": "markdown",
   "metadata": {},
   "source": [
    "They're is always more to learn. Here, my principal source of learning was the MOOC Fundamentals of waves and vibrations, for free on Coursera.\n",
    "Feynman's chapter on waves is also fantastic (http://www.feynmanlectures.caltech.edu/I_51.html)\n",
    "\n",
    "http://courses.washington.edu/mengr543/handouts/Album-Fluid-Motion-Van-Dyke.pdf"
   ]
  },
  {
   "cell_type": "code",
   "execution_count": null,
   "metadata": {},
   "outputs": [],
   "source": []
  }
 ],
 "metadata": {
  "kernelspec": {
   "display_name": "Python 3",
   "language": "python",
   "name": "python3"
  },
  "language_info": {
   "codemirror_mode": {
    "name": "ipython",
    "version": 3
   },
   "file_extension": ".py",
   "mimetype": "text/x-python",
   "name": "python",
   "nbconvert_exporter": "python",
   "pygments_lexer": "ipython3",
   "version": "3.6.5"
  },
  "toc": {
   "colors": {
    "hover_highlight": "#DAA520",
    "navigate_num": "#000000",
    "navigate_text": "#333333",
    "running_highlight": "#FF0000",
    "selected_highlight": "#FFD700",
    "sidebar_border": "#EEEEEE",
    "wrapper_background": "#FFFFFF"
   },
   "moveMenuLeft": true,
   "nav_menu": {
    "height": "119px",
    "width": "253px"
   },
   "navigate_menu": true,
   "number_sections": true,
   "sideBar": true,
   "threshold": 4,
   "toc_cell": false,
   "toc_section_display": "block",
   "toc_window_display": false,
   "widenNotebook": false
  }
 },
 "nbformat": 4,
 "nbformat_minor": 2
}
