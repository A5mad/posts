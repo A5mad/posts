{
 "cells": [
  {
   "cell_type": "markdown",
   "metadata": {},
   "source": [
    "Lien vers l'article de Jaddo : <http://www.jaddo.fr/2016/06/19/et-mes-fesses-elles-sont-roses-mes-fesses/>."
   ]
  },
  {
   "cell_type": "markdown",
   "metadata": {},
   "source": [
    "# L'exemple de Jaddo"
   ]
  },
  {
   "cell_type": "markdown",
   "metadata": {},
   "source": [
    "> La probabilité qu’a l’examen de bien trouver l’anomalie s’il y en a une s’appelle la **sensibilité**.\n",
    "\n",
    "> La probabilité qu’a l’examen d’être normal quand il n’y a pas d’anomalie s’appelle la **spécificité**.\n",
    "\n",
    "Valeurs d'exemple :\n",
    "\n",
    "- sensibilité : 90 %\n",
    "- spécificité : 95 %"
   ]
  },
  {
   "cell_type": "code",
   "execution_count": 4,
   "metadata": {},
   "outputs": [
    {
     "data": {
      "text/plain": [
       "(900.0, 99.99999999999997, 94050.0, 4950.000000000005)"
      ]
     },
     "execution_count": 4,
     "metadata": {},
     "output_type": "execute_result"
    }
   ],
   "source": [
    "n = 100000\n",
    "sensi = 0.90\n",
    "speci = 0.95\n",
    "preva = 0.01\n",
    "sick = n * preva\n",
    "healthy = n - sick\n",
    "true_pos = sick * sensi\n",
    "false_neg = sick * (1 - sensi)\n",
    "true_neg = healthy * speci\n",
    "false_pos = healthy * (1 - speci)\n",
    "true_pos, false_neg, true_neg, false_pos"
   ]
  },
  {
   "cell_type": "markdown",
   "metadata": {},
   "source": [
    "> La probabilité que vous ayez vraiment une anomalie si le test dit qu’il y en a une, ça s’appelle la **valeur prédictive positive**. (**VPP** pour les intimes).\n",
    "\n",
    "> La probabilité que vous n’ayez pas d’anomalie si le test dit que tout va bien, ça s’appelle la **valeur prédictive négative** (**VPN**)."
   ]
  },
  {
   "cell_type": "code",
   "execution_count": 7,
   "metadata": {},
   "outputs": [
    {
     "data": {
      "text/plain": [
       "(0.15384615384615372, 0.9989378651088688)"
      ]
     },
     "execution_count": 7,
     "metadata": {},
     "output_type": "execute_result"
    }
   ],
   "source": [
    "vpp = true_pos / (true_pos + false_pos)\n",
    "vpn = true_neg / (true_neg + false_neg)\n",
    "vpp, vpn"
   ]
  },
  {
   "cell_type": "markdown",
   "metadata": {},
   "source": [
    "# Interactif "
   ]
  },
  {
   "cell_type": "code",
   "execution_count": 1,
   "metadata": {
    "collapsed": true
   },
   "outputs": [],
   "source": [
    "from ipywidgets import interact"
   ]
  },
  {
   "cell_type": "code",
   "execution_count": 25,
   "metadata": {},
   "outputs": [
    {
     "data": {
      "application/vnd.jupyter.widget-view+json": {
       "model_id": "c05e1d4ae3bf41d9870f91da1ff677c4"
      }
     },
     "metadata": {},
     "output_type": "display_data"
    }
   ],
   "source": [
    "@interact\n",
    "def crunch_numbers(sensi=(0, 1., 0.01), speci=(0, 1., 0.01), preva=(0, 1., 0.01)):\n",
    "    \"\"\"Calcul et arbre des différents chiffres.\"\"\"\n",
    "    n = 100000\n",
    "    sick = n * preva\n",
    "    healthy = n - sick\n",
    "    true_pos = sick * sensi\n",
    "    false_neg = sick * (1 - sensi)\n",
    "    true_neg = healthy * speci\n",
    "    false_pos = healthy * (1 - speci)\n",
    "    vpp = true_pos / (true_pos + false_pos)\n",
    "    vpn = true_neg / (true_neg + false_neg)\n",
    "    print('sick: {:n}, healthy: {:n}'.format(sick, healthy))\n",
    "    print('true_positives: {:n}, false_negatives: {:n}'.format(true_pos, false_neg))\n",
    "    print('true_negatives: {:n}, false_positives: {:n}'.format(true_neg, false_pos))\n",
    "    print('vpp: {:.2f}, vpn: {:.2f}'.format(vpp, vpn))"
   ]
  },
  {
   "cell_type": "markdown",
   "metadata": {},
   "source": [
    "# Un graphique en 2d "
   ]
  },
  {
   "cell_type": "code",
   "execution_count": 28,
   "metadata": {},
   "outputs": [],
   "source": [
    "import matplotlib.pyplot as plt\n",
    "import numpy as np\n",
    "%matplotlib inline"
   ]
  },
  {
   "cell_type": "code",
   "execution_count": 35,
   "metadata": {},
   "outputs": [],
   "source": [
    "sensi_grid = np.linspace(0.01, 1, num=50)[:, np.newaxis] \n",
    "speci_grid = np.linspace(0.01, 1, num=100)[np.newaxis, :]"
   ]
  },
  {
   "cell_type": "code",
   "execution_count": 36,
   "metadata": {},
   "outputs": [],
   "source": [
    "n = 100000\n",
    "sick = n * preva\n",
    "healthy = n - sick\n",
    "true_pos = sick * sensi_grid\n",
    "false_neg = sick * (1 - sensi_grid)\n",
    "true_neg = healthy * speci_grid\n",
    "false_pos = healthy * (1 - speci_grid)\n",
    "vpp = true_pos / (true_pos + false_pos)\n",
    "vpn = true_neg / (true_neg + false_neg)"
   ]
  },
  {
   "cell_type": "code",
   "execution_count": 51,
   "metadata": {},
   "outputs": [
    {
     "data": {
      "text/plain": [
       "<matplotlib.text.Text at 0x11a269048>"
      ]
     },
     "execution_count": 51,
     "metadata": {},
     "output_type": "execute_result"
    },
    {
     "data": {
      "image/png": "[encoded data removed]",
      "text/plain": [
       "<matplotlib.figure.Figure at 0x119d70128>"
      ]
     },
     "metadata": {},
     "output_type": "display_data"
    }
   ],
   "source": [
    "plt.imshow(vpp.T, aspect='auto', origin='lower', \n",
    "           extent=(sensi_grid.min(), sensi_grid.max(), speci_grid.min(), speci_grid.max()))\n",
    "plt.colorbar()\n",
    "plt.xlabel('spécificité')\n",
    "plt.ylabel('sensibilité')"
   ]
  },
  {
   "cell_type": "markdown",
   "metadata": {},
   "source": [
    "On le rend interactif :"
   ]
  },
  {
   "cell_type": "code",
   "execution_count": 55,
   "metadata": {},
   "outputs": [
    {
     "data": {
      "application/vnd.jupyter.widget-view+json": {
       "model_id": "bb2ee3575e304cb7a39e7c8262bb3d31"
      }
     },
     "metadata": {},
     "output_type": "display_data"
    }
   ],
   "source": [
    "@interact\n",
    "def vpp_vpn_plot(preva=(0.01, 1, 0.01)):\n",
    "    n = 100000\n",
    "    sick = n * preva\n",
    "    healthy = n - sick\n",
    "    true_pos = sick * sensi_grid\n",
    "    false_neg = sick * (1 - sensi_grid)\n",
    "    true_neg = healthy * speci_grid\n",
    "    false_pos = healthy * (1 - speci_grid)\n",
    "    vpp = true_pos / (true_pos + false_pos)\n",
    "    vpn = true_neg / (true_neg + false_neg)\n",
    "    \n",
    "    plt.figure(figsize=(10, 5))\n",
    "    plt.subplot(121)\n",
    "    plt.imshow(vpp.T, aspect='auto', origin='lower', \n",
    "           extent=(sensi_grid.min(), sensi_grid.max(), speci_grid.min(), speci_grid.max()))\n",
    "    plt.colorbar()\n",
    "    plt.xlabel('spécificité')\n",
    "    plt.ylabel('sensibilité')\n",
    "    plt.title('VPP')\n",
    "    \n",
    "    plt.subplot(122)\n",
    "    plt.imshow(vpn.T, aspect='auto', origin='lower', \n",
    "           extent=(sensi_grid.min(), sensi_grid.max(), speci_grid.min(), speci_grid.max()))\n",
    "    plt.colorbar()\n",
    "    plt.xlabel('spécificité')\n",
    "    plt.ylabel('sensibilité')\n",
    "    plt.title('VPN')\n",
    "\n",
    "    plt.tight_layout()\n",
    "    plt.show()"
   ]
  },
  {
   "cell_type": "markdown",
   "metadata": {},
   "source": [
    "# sankey ? "
   ]
  },
  {
   "cell_type": "code",
   "execution_count": 76,
   "metadata": {},
   "outputs": [
    {
     "data": {
      "image/png": "[encoded data removed]",
      "text/plain": [
       "<matplotlib.figure.Figure at 0x11af71d30>"
      ]
     },
     "metadata": {},
     "output_type": "display_data"
    }
   ],
   "source": [
    "from matplotlib.sankey import Sankey\n",
    "sankey = Sankey(scale=0.4)\n",
    "sankey.add(flows=[1, -0.25, -0.75],\n",
    "       labels=['input', 'output1', 'output2'],\n",
    "          orientations=[0, 1, -1])\n",
    "sankey.finish()\n",
    "plt.tight_layout()"
   ]
  },
  {
   "cell_type": "code",
   "execution_count": null,
   "metadata": {
    "collapsed": true
   },
   "outputs": [],
   "source": []
  }
 ],
 "metadata": {
  "kernelspec": {
   "display_name": "Python 3",
   "language": "python",
   "name": "python3"
  },
  "language_info": {
   "codemirror_mode": {
    "name": "ipython",
    "version": 3
   },
   "file_extension": ".py",
   "mimetype": "text/x-python",
   "name": "python",
   "nbconvert_exporter": "python",
   "pygments_lexer": "ipython3",
   "version": "3.6.1"
  },
  "toc": {
   "colors": {
    "hover_highlight": "#DAA520",
    "navigate_num": "#000000",
    "navigate_text": "#333333",
    "running_highlight": "#FF0000",
    "selected_highlight": "#FFD700",
    "sidebar_border": "#EEEEEE",
    "wrapper_background": "#FFFFFF"
   },
   "moveMenuLeft": true,
   "nav_menu": {
    "height": "84px",
    "width": "253px"
   },
   "navigate_menu": true,
   "number_sections": true,
   "sideBar": true,
   "threshold": 4,
   "toc_cell": false,
   "toc_section_display": "block",
   "toc_window_display": false,
   "widenNotebook": false
  }
 },
 "nbformat": 4,
 "nbformat_minor": 2
}
