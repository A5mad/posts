{
 "metadata": {
  "name": "",
  "signature": "sha256:866fcadb4d32dea32cfe5cef4b3fc58a9f0b5c72320ffd361ddb55f121b37f8e"
 },
 "nbformat": 3,
 "nbformat_minor": 0,
 "worksheets": [
  {
   "cells": [
    {
     "cell_type": "markdown",
     "metadata": {},
     "source": [
      "Lien vers le probl\u00e8me : "
     ]
    },
    {
     "cell_type": "code",
     "collapsed": false,
     "input": [
      "import IPython.display"
     ],
     "language": "python",
     "metadata": {},
     "outputs": [],
     "prompt_number": 1
    },
    {
     "cell_type": "code",
     "collapsed": false,
     "input": [
      "IPython.display.IFrame(src='https://projecteuler.net/problem=500', width=800, height=300)"
     ],
     "language": "python",
     "metadata": {},
     "outputs": [
      {
       "html": [
        "\n",
        "        <iframe\n",
        "            width=\"800\"\n",
        "            height=300\"\n",
        "            src=\"https://projecteuler.net/problem=500\"\n",
        "            frameborder=\"0\"\n",
        "            allowfullscreen\n",
        "        ></iframe>\n",
        "        "
       ],
       "metadata": {},
       "output_type": "pyout",
       "prompt_number": 8,
       "text": [
        "<IPython.lib.display.IFrame at 0x1050db470>"
       ]
      }
     ],
     "prompt_number": 8
    },
    {
     "cell_type": "markdown",
     "metadata": {},
     "source": [
      "Explication pour 120 :"
     ]
    },
    {
     "cell_type": "code",
     "collapsed": false,
     "input": [
      "2**3 * 3 * 5"
     ],
     "language": "python",
     "metadata": {},
     "outputs": [
      {
       "metadata": {},
       "output_type": "pyout",
       "prompt_number": 9,
       "text": [
        "120"
       ]
      }
     ],
     "prompt_number": 9
    },
    {
     "cell_type": "markdown",
     "metadata": {},
     "source": [
      "Le nombre de diviseurs diff\u00e9rents est de $4 * 2 * 2$."
     ]
    },
    {
     "cell_type": "code",
     "collapsed": false,
     "input": [
      "4 * 2 * 2"
     ],
     "language": "python",
     "metadata": {},
     "outputs": [
      {
       "metadata": {},
       "output_type": "pyout",
       "prompt_number": 10,
       "text": [
        "16"
       ]
      }
     ],
     "prompt_number": 10
    },
    {
     "cell_type": "markdown",
     "metadata": {},
     "source": [
      "Si on avait une puissance de 2 avec autant de diviseurs ce serait :"
     ]
    },
    {
     "cell_type": "code",
     "collapsed": false,
     "input": [
      "2 ** 15"
     ],
     "language": "python",
     "metadata": {},
     "outputs": [
      {
       "metadata": {},
       "output_type": "pyout",
       "prompt_number": 12,
       "text": [
        "32768"
       ]
      }
     ],
     "prompt_number": 12
    },
    {
     "cell_type": "markdown",
     "metadata": {},
     "source": [
      "Donc effectivement, c'est plus compact de rajouter des nombres premiers pour un total de diviseurs \u00e9gal \u00e0 16. En fait, on peut toujours r\u00e9duire le nombre de diviseurs en rajoutant une puissance d'un autre nombre premier plus grand."
     ]
    },
    {
     "cell_type": "code",
     "collapsed": false,
     "input": [
      "2 ** 14 * 3"
     ],
     "language": "python",
     "metadata": {},
     "outputs": [
      {
       "metadata": {},
       "output_type": "pyout",
       "prompt_number": 13,
       "text": [
        "49152"
       ]
      }
     ],
     "prompt_number": 13
    },
    {
     "cell_type": "markdown",
     "metadata": {},
     "source": [
      "En fait l\u00e0 on a maintenant 15 * 2 = 30 diviseurs. Du coup, si on en veut 16, il faut mettre 2 \u00e0 la puissance 7."
     ]
    },
    {
     "cell_type": "code",
     "collapsed": false,
     "input": [
      "2 ** 7 * 3"
     ],
     "language": "python",
     "metadata": {},
     "outputs": [
      {
       "metadata": {},
       "output_type": "pyout",
       "prompt_number": 14,
       "text": [
        "384"
       ]
      }
     ],
     "prompt_number": 14
    },
    {
     "cell_type": "markdown",
     "metadata": {},
     "source": [
      "Effectivement, c'est d\u00e9j\u00e0 beaucoup plus petit. Et on vient d'apprendre la r\u00e8gle que quand on rajoute un nombre premier, on doit baisser le nombre de diviseurs de 2 d'un facteur 2 et rajouter un 1 sur le nombre suivant."
     ]
    },
    {
     "cell_type": "code",
     "collapsed": false,
     "input": [
      "2 ** 3 * 3 * 5"
     ],
     "language": "python",
     "metadata": {},
     "outputs": [
      {
       "metadata": {},
       "output_type": "pyout",
       "prompt_number": 15,
       "text": [
        "120"
       ]
      }
     ],
     "prompt_number": 15
    },
    {
     "cell_type": "code",
     "collapsed": false,
     "input": [
      "2 ** 1 * 3 * 5 * 7"
     ],
     "language": "python",
     "metadata": {},
     "outputs": [
      {
       "metadata": {},
       "output_type": "pyout",
       "prompt_number": 16,
       "text": [
        "210"
       ]
      }
     ],
     "prompt_number": 16
    },
    {
     "cell_type": "code",
     "collapsed": false,
     "input": [
      "210 * 4 / 7"
     ],
     "language": "python",
     "metadata": {},
     "outputs": [
      {
       "metadata": {},
       "output_type": "pyout",
       "prompt_number": 18,
       "text": [
        "120.0"
       ]
      }
     ],
     "prompt_number": 18
    },
    {
     "cell_type": "code",
     "collapsed": false,
     "input": [
      "2 * 3 * 5 * 7 * 11"
     ],
     "language": "python",
     "metadata": {},
     "outputs": [
      {
       "metadata": {},
       "output_type": "pyout",
       "prompt_number": 17,
       "text": [
        "2310"
       ]
      }
     ],
     "prompt_number": 17
    },
    {
     "cell_type": "markdown",
     "metadata": {},
     "source": [
      "Autre propri\u00e9t\u00e9 : si les exposants sont tous 1 alors pour avoir 16 diviseurs, il y a maximum 4 nombres premiers dans l'\u00e9criture recherch\u00e9e car $2 * 2 * 2 * 2 = 16$. Dans le cas de l'expos\u00e9, il y a au maximum $2^n = 2^{500500}$ c'est \u00e0 dire $n = 500500$ nombres premiers dans l'\u00e9criture du nombre cherch\u00e9. On pourrait donc d\u00e9j\u00e0 calculer une table de nombres premiers de cette taille l\u00e0.\n",
      "\n",
      "La strat\u00e9gie pourrait donc \u00eatre : \n",
      "\n",
      "- on conna\u00eet le nombre maximums de nombres premiers\n",
      "- on cherche \u00e0 en \u00e9liminer, sachant qu'on a un tradeoff : \n",
      "    - si je diminue l'exposant, je dois en augmenter un autre, j'ai tout int\u00e9r\u00eat \u00e0 augmenter un petit exposant\n",
      "    - si on gagne dans cette op\u00e9ration, alors il faut la faire\n",
      "    - sinon, on a trouv\u00e9 le bon nombre"
     ]
    },
    {
     "cell_type": "markdown",
     "metadata": {},
     "source": [
      "Formellement : le nombre cherch\u00e9 s'\u00e9crit \u00e0 l'aide d'un certain nombre de nombres premiers $n$ (inconnu a priori)\n",
      "\n",
      "$$\n",
      "x = \\prod_{i=1}^{n} p_i^{w_i}\n",
      "$$\n",
      "\n",
      "avec \n",
      "\n",
      "$$\n",
      "\\prod_{i=1}^{n} (w_i + 1) = 2^{500500}\n",
      "$$\n",
      "\n",
      "On sait que $n$ vaut au maximum $500500$.\n",
      "\n",
      "Les r\u00e8gles d'optimisation sont que si on baisse l'exposant du nombre le plus grand $n$, et que l'on incr\u00e9mente l'exposant du nombre $k$ alors on obtient un nouveau nombre qui est multipli\u00e9 par \n",
      "\n",
      "$$\\alpha = \\frac{p_k^2}{p_n}$$\n",
      "\n",
      "Si $\\alpha < 1$ alors l'op\u00e9ration est b\u00e9n\u00e9fique. \n",
      "\n",
      "Par contre, on veut conserver le nombre de diviseurs total, qui passe de $\\prod_{i=1}^{n} (w_i + 1) = 2^{500500}$ \u00e0 $\\prod_{i=1 i \\neq k}^{n-1} (w_i + 1) * (w_k + 3)$. Il est donc multipli\u00e9 par \n",
      "\n",
      "$$\n",
      "\\frac{w_k + 3}{(w_n + 1)(w_k + 1)}\n",
      "$$\n",
      "\n",
      "Si on veut que le changement du nombre de diviseurs soit \u00e9gale \u00e0 1, c'est-\u00e0-dire qu'il y ait le m\u00eame nombre de diviseurs au d\u00e9but comme \u00e0 la fin, il faut que :\n",
      "\n",
      "$$\n",
      "w_n (w_k + 1) = 2\n",
      "$$\n",
      "\n",
      "\n",
      "Donc en fait ce qu'il faudrait conna\u00eetre c'est la d\u00e9composition en nombres premiers de 500500 pour savoir combien on peut incr\u00e9menter de nombre sur ce principe. Car on ne peut pas faire toutes les transformations que l'on veut !\n",
      "\n",
      "Bonne nouvelle, [Wolfram Alpha](http://www.wolframalpha.com/input/?i=prime+decomposition+of+500500) nous indique que : \n",
      "\n",
      "$$500500 = 2^2 * 5^3 * 7 * 11 * 13$$\n",
      "\n",
      "Donc \n",
      "\n",
      "$$2^{500500} = 2^{2^2 * 5^3 * 7 * 11 * 13}$$"
     ]
    },
    {
     "cell_type": "markdown",
     "metadata": {},
     "source": [
      "Si on red\u00e9marre dans le cas 120 avec "
     ]
    },
    {
     "cell_type": "code",
     "collapsed": false,
     "input": [
      "2 * 3 * 5 * 7"
     ],
     "language": "python",
     "metadata": {},
     "outputs": [
      {
       "metadata": {},
       "output_type": "pyout",
       "prompt_number": 19,
       "text": [
        "210"
       ]
      }
     ],
     "prompt_number": 19
    },
    {
     "cell_type": "code",
     "collapsed": false,
     "input": [
      "2**3 * 3**3"
     ],
     "language": "python",
     "metadata": {},
     "outputs": [
      {
       "metadata": {},
       "output_type": "pyout",
       "prompt_number": 20,
       "text": [
        "216"
       ]
      }
     ],
     "prompt_number": 20
    },
    {
     "cell_type": "code",
     "collapsed": false,
     "input": [
      "2**7 * 3"
     ],
     "language": "python",
     "metadata": {},
     "outputs": [
      {
       "metadata": {},
       "output_type": "pyout",
       "prompt_number": 21,
       "text": [
        "384"
       ]
      }
     ],
     "prompt_number": 21
    },
    {
     "cell_type": "markdown",
     "metadata": {},
     "source": [
      "Le nombre de diviseurs est le bon : $2^4$."
     ]
    },
    {
     "cell_type": "heading",
     "level": 1,
     "metadata": {},
     "source": [
      "Tentative d'\u00e9criture d'un algorithme"
     ]
    },
    {
     "cell_type": "markdown",
     "metadata": {},
     "source": [
      "L'id\u00e9e est la suivante : on donne les poids et on essaye de modifier it\u00e9rativement les poids au fur et \u00e0 mesure.\n",
      "\n",
      "Exemple, on boucle sur k en prenant l'indice le plus bas. Si la condition d'incr\u00e9mentation est v\u00e9rifi\u00e9e, on calcule le facteur $\\alpha$ obtenu. Si on gagne effectivement quelque chose, alors on le fait, sinon on passe."
     ]
    },
    {
     "cell_type": "markdown",
     "metadata": {},
     "source": [
      "L'algorithme sur les nombres premiers est tir\u00e9 de [http://stackoverflow.com/questions/2068372/fastest-way-to-list-all-primes-below-n/3035188#3035188](http://stackoverflow.com/questions/2068372/fastest-way-to-list-all-primes-below-n/3035188#3035188)."
     ]
    },
    {
     "cell_type": "code",
     "collapsed": false,
     "input": [
      "def rwh_primes1(n):\n",
      "    # http://stackoverflow.com/questions/2068372/fastest-way-to-list-all-primes-below-n-in-python/3035188#3035188\n",
      "    \"\"\" Returns  a list of primes < n \"\"\"\n",
      "    sieve = [True] * int(n/2)\n",
      "    for i in range(3,int(n**0.5)+1,2):\n",
      "        if sieve[int(i/2)]:\n",
      "            sieve[int(i*i/2)::i] = [False] * int((n-i*i-1)/(2*i)+1)\n",
      "    return [2] + [2*i+1 for i in range(1, int(n/2)) if sieve[i]]"
     ],
     "language": "python",
     "metadata": {},
     "outputs": [],
     "prompt_number": 2
    },
    {
     "cell_type": "code",
     "collapsed": false,
     "input": [
      "print(rwh_primes1(100))"
     ],
     "language": "python",
     "metadata": {},
     "outputs": [
      {
       "output_type": "stream",
       "stream": "stdout",
       "text": [
        "[2, 3, 5, 7, 11, 13, 17, 19, 23, 29, 31, 37, 41, 43, 47, 53, 59, 61, 67, 71, 73, 79, 83, 89, 97]\n"
       ]
      }
     ],
     "prompt_number": 37
    },
    {
     "cell_type": "code",
     "collapsed": false,
     "input": [
      "from math import log\n",
      "\n",
      "class euler500_solver():\n",
      "    def __init__(self, number_of_divisors, primes):\n",
      "        self.number_of_divisors = number_of_divisors\n",
      "        self.max_primes = int(log(number_of_divisors) / log(2))\n",
      "        self.primes = primes[:self.max_primes]\n",
      "        self.weights = [1] * self.max_primes\n",
      "    \n",
      "    def step(self):\n",
      "        max_index = [(ind, v) for (ind, v) in enumerate(self.weights) if v!= 0][-1][0]\n",
      "        for i in range(max_index + 1):\n",
      "            if self.weights[max_index] * (self.weights[i] + 1) == 2:\n",
      "                if self.primes[i]**2 / self.primes[max_index] < 1:\n",
      "                    self.weights[i] += 2\n",
      "                    self.weights[max_index] -= 1\n",
      "                    return True\n",
      "        return False\n",
      "        \n",
      "    def compute_current_number(self, modulo=None):\n",
      "        factors = ([p**w for (p, w) in zip(self.primes, self.weights)])\n",
      "\n",
      "        if modulo == None:\n",
      "            product = 1\n",
      "            for f in factors:\n",
      "                product *= f\n",
      "            return product\n",
      "        else:\n",
      "            product = 1\n",
      "            for f in factors:\n",
      "                product = (product * f) % modulo\n",
      "            return product"
     ],
     "language": "python",
     "metadata": {},
     "outputs": [],
     "prompt_number": 97
    },
    {
     "cell_type": "code",
     "collapsed": false,
     "input": [
      "e = euler500_solver(16, rwh_primes1(100))"
     ],
     "language": "python",
     "metadata": {},
     "outputs": [],
     "prompt_number": 98
    },
    {
     "cell_type": "code",
     "collapsed": false,
     "input": [
      "e.primes"
     ],
     "language": "python",
     "metadata": {},
     "outputs": [
      {
       "metadata": {},
       "output_type": "pyout",
       "prompt_number": 99,
       "text": [
        "[2, 3, 5, 7]"
       ]
      }
     ],
     "prompt_number": 99
    },
    {
     "cell_type": "code",
     "collapsed": false,
     "input": [
      "e.weights"
     ],
     "language": "python",
     "metadata": {},
     "outputs": [
      {
       "metadata": {},
       "output_type": "pyout",
       "prompt_number": 100,
       "text": [
        "[1, 1, 1, 1]"
       ]
      }
     ],
     "prompt_number": 100
    },
    {
     "cell_type": "code",
     "collapsed": false,
     "input": [
      "e.compute_current_number()"
     ],
     "language": "python",
     "metadata": {},
     "outputs": [
      {
       "metadata": {},
       "output_type": "pyout",
       "prompt_number": 101,
       "text": [
        "210"
       ]
      }
     ],
     "prompt_number": 101
    },
    {
     "cell_type": "code",
     "collapsed": false,
     "input": [
      "e.step()"
     ],
     "language": "python",
     "metadata": {},
     "outputs": [
      {
       "metadata": {},
       "output_type": "pyout",
       "prompt_number": 102,
       "text": [
        "True"
       ]
      }
     ],
     "prompt_number": 102
    },
    {
     "cell_type": "code",
     "collapsed": false,
     "input": [
      "e.compute_current_number()"
     ],
     "language": "python",
     "metadata": {},
     "outputs": [
      {
       "metadata": {},
       "output_type": "pyout",
       "prompt_number": 103,
       "text": [
        "120"
       ]
      }
     ],
     "prompt_number": 103
    },
    {
     "cell_type": "code",
     "collapsed": false,
     "input": [
      "e.step()"
     ],
     "language": "python",
     "metadata": {},
     "outputs": [
      {
       "metadata": {},
       "output_type": "pyout",
       "prompt_number": 104,
       "text": [
        "False"
       ]
      }
     ],
     "prompt_number": 104
    },
    {
     "cell_type": "code",
     "collapsed": false,
     "input": [
      "e.compute_current_number()"
     ],
     "language": "python",
     "metadata": {},
     "outputs": [
      {
       "metadata": {},
       "output_type": "pyout",
       "prompt_number": 105,
       "text": [
        "120"
       ]
      }
     ],
     "prompt_number": 105
    },
    {
     "cell_type": "markdown",
     "metadata": {},
     "source": [
      "On trouve la bonne solution. Comment \u00e9tendre \u00e7a au cas qui nous int\u00e9resse ? Il faudrait id\u00e9alement un cas interm\u00e9diaire qui ne fasse pas exploser l'algorithme."
     ]
    },
    {
     "cell_type": "code",
     "collapsed": false,
     "input": [
      "primes = rwh_primes1(10000000)"
     ],
     "language": "python",
     "metadata": {},
     "outputs": [],
     "prompt_number": 4
    },
    {
     "cell_type": "code",
     "collapsed": false,
     "input": [
      "len(primes) / 500500"
     ],
     "language": "python",
     "metadata": {},
     "outputs": [
      {
       "metadata": {},
       "output_type": "pyout",
       "prompt_number": 78,
       "text": [
        "1.3278301698301698"
       ]
      }
     ],
     "prompt_number": 78
    },
    {
     "cell_type": "markdown",
     "metadata": {},
     "source": [
      "Okay, on a assez de nombres premiers."
     ]
    },
    {
     "cell_type": "code",
     "collapsed": false,
     "input": [
      "e = euler500_solver(2**500500, primes)"
     ],
     "language": "python",
     "metadata": {},
     "outputs": [],
     "prompt_number": 106
    },
    {
     "cell_type": "code",
     "collapsed": false,
     "input": [
      "e.step()"
     ],
     "language": "python",
     "metadata": {},
     "outputs": [
      {
       "metadata": {},
       "output_type": "pyout",
       "prompt_number": 107,
       "text": [
        "True"
       ]
      }
     ],
     "prompt_number": 107
    },
    {
     "cell_type": "code",
     "collapsed": false,
     "input": [
      "e.step()"
     ],
     "language": "python",
     "metadata": {},
     "outputs": [
      {
       "metadata": {},
       "output_type": "pyout",
       "prompt_number": 108,
       "text": [
        "True"
       ]
      }
     ],
     "prompt_number": 108
    },
    {
     "cell_type": "code",
     "collapsed": false,
     "input": [
      "e.step()"
     ],
     "language": "python",
     "metadata": {},
     "outputs": [
      {
       "metadata": {},
       "output_type": "pyout",
       "prompt_number": 109,
       "text": [
        "True"
       ]
      }
     ],
     "prompt_number": 109
    },
    {
     "cell_type": "code",
     "collapsed": false,
     "input": [
      "last_step = e.step()\n",
      "while last_step:\n",
      "    last_step = e.step()"
     ],
     "language": "python",
     "metadata": {},
     "outputs": [],
     "prompt_number": 110
    },
    {
     "cell_type": "code",
     "collapsed": false,
     "input": [
      "e.compute_current_number(modulo=500500507)"
     ],
     "language": "python",
     "metadata": {},
     "outputs": [
      {
       "metadata": {},
       "output_type": "pyout",
       "prompt_number": 111,
       "text": [
        "493807392"
       ]
      }
     ],
     "prompt_number": 111
    },
    {
     "cell_type": "code",
     "collapsed": false,
     "input": [
      "%matplotlib inline\n",
      "from pylab import plot, array, xlim"
     ],
     "language": "python",
     "metadata": {},
     "outputs": [],
     "prompt_number": 115
    },
    {
     "cell_type": "code",
     "collapsed": false,
     "input": [
      "plot(e.weights)\n",
      "xlim(0, 10000)"
     ],
     "language": "python",
     "metadata": {},
     "outputs": [
      {
       "metadata": {},
       "output_type": "pyout",
       "prompt_number": 116,
       "text": [
        "(0, 10000)"
       ]
      },
      {
       "metadata": {
        "png": {
         "height": 255,
         "width": 382
        }
       },
       "output_type": "display_data",
       "png": "[encoded data removed]",
       "text": [
        "<matplotlib.figure.Figure at 0x10f89dc18>"
       ]
      }
     ],
     "prompt_number": 116
    },
    {
     "cell_type": "code",
     "collapsed": false,
     "input": [
      "plot(array(e.weights).cumsum())"
     ],
     "language": "python",
     "metadata": {},
     "outputs": [
      {
       "metadata": {},
       "output_type": "pyout",
       "prompt_number": 96,
       "text": [
        "[<matplotlib.lines.Line2D at 0x10c9a3470>]"
       ]
      },
      {
       "metadata": {
        "png": {
         "height": 255,
         "width": 408
        }
       },
       "output_type": "display_data",
       "png": "[encoded data removed]",
       "text": [
        "<matplotlib.figure.Figure at 0x10c362978>"
       ]
      }
     ],
     "prompt_number": 96
    },
    {
     "cell_type": "code",
     "collapsed": false,
     "input": [
      "max(e.weights)"
     ],
     "language": "python",
     "metadata": {},
     "outputs": [
      {
       "metadata": {},
       "output_type": "pyout",
       "prompt_number": 112,
       "text": [
        "3"
       ]
      }
     ],
     "prompt_number": 112
    },
    {
     "cell_type": "heading",
     "level": 1,
     "metadata": {},
     "source": [
      "Exemple avec 32 diviseurs"
     ]
    },
    {
     "cell_type": "code",
     "collapsed": false,
     "input": [
      "def compute_number_of_divisors(weights):\n",
      "    prod = 1\n",
      "    for weight in weights:\n",
      "        if weight != 0:\n",
      "            prod *= (weight + 1)\n",
      "    return prod"
     ],
     "language": "python",
     "metadata": {},
     "outputs": [],
     "prompt_number": 123
    },
    {
     "cell_type": "code",
     "collapsed": false,
     "input": [
      "def compute_current_number(primes, weights):\n",
      "    product = 1\n",
      "    for p, w in zip(primes, weights):\n",
      "        if w != 0:\n",
      "            product *= p ** w\n",
      "    return product"
     ],
     "language": "python",
     "metadata": {},
     "outputs": [],
     "prompt_number": 125
    },
    {
     "cell_type": "markdown",
     "metadata": {},
     "source": [
      "On initialise :"
     ]
    },
    {
     "cell_type": "code",
     "collapsed": false,
     "input": [
      "p = primes[:5]"
     ],
     "language": "python",
     "metadata": {},
     "outputs": [],
     "prompt_number": 117
    },
    {
     "cell_type": "code",
     "collapsed": false,
     "input": [
      "p"
     ],
     "language": "python",
     "metadata": {},
     "outputs": [
      {
       "metadata": {},
       "output_type": "pyout",
       "prompt_number": 118,
       "text": [
        "[2, 3, 5, 7, 11]"
       ]
      }
     ],
     "prompt_number": 118
    },
    {
     "cell_type": "code",
     "collapsed": false,
     "input": [
      "weights = [1, 1, 1, 1, 1]"
     ],
     "language": "python",
     "metadata": {},
     "outputs": [],
     "prompt_number": 154
    },
    {
     "cell_type": "markdown",
     "metadata": {},
     "source": [
      "Notre position de d\u00e9part est :"
     ]
    },
    {
     "cell_type": "code",
     "collapsed": false,
     "input": [
      "compute_number_of_divisors(weights)"
     ],
     "language": "python",
     "metadata": {},
     "outputs": [
      {
       "metadata": {},
       "output_type": "pyout",
       "prompt_number": 155,
       "text": [
        "32"
       ]
      }
     ],
     "prompt_number": 155
    },
    {
     "cell_type": "code",
     "collapsed": false,
     "input": [
      "compute_current_number(p, weights)"
     ],
     "language": "python",
     "metadata": {},
     "outputs": [
      {
       "metadata": {},
       "output_type": "pyout",
       "prompt_number": 156,
       "text": [
        "2310"
       ]
      }
     ],
     "prompt_number": 156
    },
    {
     "cell_type": "markdown",
     "metadata": {},
     "source": [
      "On veut am\u00e9liorer ce r\u00e9sultat. On essaye donc de se d\u00e9barasser du plus haut nombre premier :"
     ]
    },
    {
     "cell_type": "code",
     "collapsed": false,
     "input": [
      "weights[4] = 0\n",
      "weights"
     ],
     "language": "python",
     "metadata": {},
     "outputs": [
      {
       "metadata": {},
       "output_type": "pyout",
       "prompt_number": 157,
       "text": [
        "[1, 1, 1, 1, 0]"
       ]
      }
     ],
     "prompt_number": 157
    },
    {
     "cell_type": "markdown",
     "metadata": {},
     "source": [
      "Ceci r\u00e9duit le nombre de diviseurs :"
     ]
    },
    {
     "cell_type": "code",
     "collapsed": false,
     "input": [
      "compute_number_of_divisors(weights)"
     ],
     "language": "python",
     "metadata": {},
     "outputs": [
      {
       "metadata": {},
       "output_type": "pyout",
       "prompt_number": 158,
       "text": [
        "16"
       ]
      }
     ],
     "prompt_number": 158
    },
    {
     "cell_type": "code",
     "collapsed": false,
     "input": [
      " compute_current_number(p, weights)"
     ],
     "language": "python",
     "metadata": {},
     "outputs": [
      {
       "metadata": {},
       "output_type": "pyout",
       "prompt_number": 159,
       "text": [
        "210"
       ]
      }
     ],
     "prompt_number": 159
    },
    {
     "cell_type": "markdown",
     "metadata": {},
     "source": [
      "On peut augmenter n'importe lequel des facteurs premiers dans ce cas l\u00e0 :"
     ]
    },
    {
     "cell_type": "code",
     "collapsed": false,
     "input": [
      "weights[0] += 2"
     ],
     "language": "python",
     "metadata": {},
     "outputs": [],
     "prompt_number": 160
    },
    {
     "cell_type": "code",
     "collapsed": false,
     "input": [
      "weights"
     ],
     "language": "python",
     "metadata": {},
     "outputs": [
      {
       "metadata": {},
       "output_type": "pyout",
       "prompt_number": 161,
       "text": [
        "[3, 1, 1, 1, 0]"
       ]
      }
     ],
     "prompt_number": 161
    },
    {
     "cell_type": "code",
     "collapsed": false,
     "input": [
      "compute_number_of_divisors(weights)"
     ],
     "language": "python",
     "metadata": {},
     "outputs": [
      {
       "metadata": {},
       "output_type": "pyout",
       "prompt_number": 162,
       "text": [
        "32"
       ]
      }
     ],
     "prompt_number": 162
    },
    {
     "cell_type": "code",
     "collapsed": false,
     "input": [
      "compute_current_number(p, weights)"
     ],
     "language": "python",
     "metadata": {},
     "outputs": [
      {
       "metadata": {},
       "output_type": "pyout",
       "prompt_number": 163,
       "text": [
        "840"
       ]
      }
     ],
     "prompt_number": 163
    },
    {
     "cell_type": "markdown",
     "metadata": {},
     "source": [
      "On se retrouve au status quo. Et si on diminuait encore l'exposant le plus grand ?"
     ]
    },
    {
     "cell_type": "code",
     "collapsed": false,
     "input": [
      "weights[3] = 0"
     ],
     "language": "python",
     "metadata": {},
     "outputs": [],
     "prompt_number": 164
    },
    {
     "cell_type": "code",
     "collapsed": false,
     "input": [
      "weights"
     ],
     "language": "python",
     "metadata": {},
     "outputs": [
      {
       "metadata": {},
       "output_type": "pyout",
       "prompt_number": 165,
       "text": [
        "[3, 1, 1, 0, 0]"
       ]
      }
     ],
     "prompt_number": 165
    },
    {
     "cell_type": "code",
     "collapsed": false,
     "input": [
      "compute_number_of_divisors(weights)"
     ],
     "language": "python",
     "metadata": {},
     "outputs": [
      {
       "metadata": {},
       "output_type": "pyout",
       "prompt_number": 167,
       "text": [
        "16"
       ]
      }
     ],
     "prompt_number": 167
    },
    {
     "cell_type": "code",
     "collapsed": false,
     "input": [
      "compute_current_number(p, weights)"
     ],
     "language": "python",
     "metadata": {},
     "outputs": [
      {
       "metadata": {},
       "output_type": "pyout",
       "prompt_number": 166,
       "text": [
        "120"
       ]
      }
     ],
     "prompt_number": 166
    },
    {
     "cell_type": "markdown",
     "metadata": {},
     "source": [
      "On peut envisager deux possibilit\u00e9s : \n",
      "\n",
      "- soit augmenter le poids de 2, qui est d\u00e9j\u00e0 3\n",
      "- soit augmenter le poids de 3, qui est 1\n",
      "\n",
      "Comparons les deux cas."
     ]
    },
    {
     "cell_type": "code",
     "collapsed": false,
     "input": [
      "compute_number_of_divisors([7, 1, 1, 0, 0])"
     ],
     "language": "python",
     "metadata": {},
     "outputs": [
      {
       "metadata": {},
       "output_type": "pyout",
       "prompt_number": 172,
       "text": [
        "32"
       ]
      }
     ],
     "prompt_number": 172
    },
    {
     "cell_type": "code",
     "collapsed": false,
     "input": [
      "compute_current_number(p, [7, 1, 1, 0, 0])"
     ],
     "language": "python",
     "metadata": {},
     "outputs": [
      {
       "metadata": {},
       "output_type": "pyout",
       "prompt_number": 173,
       "text": [
        "1920"
       ]
      }
     ],
     "prompt_number": 173
    },
    {
     "cell_type": "code",
     "collapsed": false,
     "input": [
      "compute_number_of_divisors([3, 3, 1, 0, 0])"
     ],
     "language": "python",
     "metadata": {},
     "outputs": [
      {
       "metadata": {},
       "output_type": "pyout",
       "prompt_number": 174,
       "text": [
        "32"
       ]
      }
     ],
     "prompt_number": 174
    },
    {
     "cell_type": "code",
     "collapsed": false,
     "input": [
      "compute_current_number(p, [3, 3, 1, 0, 0])"
     ],
     "language": "python",
     "metadata": {},
     "outputs": [
      {
       "metadata": {},
       "output_type": "pyout",
       "prompt_number": 176,
       "text": [
        "1080"
       ]
      }
     ],
     "prompt_number": 176
    },
    {
     "cell_type": "markdown",
     "metadata": {},
     "source": [
      "Donc l\u00e0, on a plut\u00f4t int\u00e9r\u00eat \u00e0 augmenter le facteur 3!"
     ]
    },
    {
     "cell_type": "code",
     "collapsed": false,
     "input": [
      "weights = [3, 3, 1, 0, 0]"
     ],
     "language": "python",
     "metadata": {},
     "outputs": [],
     "prompt_number": 177
    },
    {
     "cell_type": "markdown",
     "metadata": {},
     "source": [
      "On peut encore essayer d'aller plus loin."
     ]
    },
    {
     "cell_type": "code",
     "collapsed": false,
     "input": [
      "compute_number_of_divisors([7, 3, 0, 0, 0])"
     ],
     "language": "python",
     "metadata": {},
     "outputs": [
      {
       "metadata": {},
       "output_type": "pyout",
       "prompt_number": 179,
       "text": [
        "32"
       ]
      }
     ],
     "prompt_number": 179
    },
    {
     "cell_type": "code",
     "collapsed": false,
     "input": [
      "compute_current_number(p, [7, 3, 0, 0, 0])"
     ],
     "language": "python",
     "metadata": {},
     "outputs": [
      {
       "metadata": {},
       "output_type": "pyout",
       "prompt_number": 178,
       "text": [
        "3456"
       ]
      }
     ],
     "prompt_number": 178
    },
    {
     "cell_type": "markdown",
     "metadata": {},
     "source": [
      "Conclusions sur l'exemple avec 32 : j'ai appris que les poids ne pouvaient \u00eatre que des puissances de 2 moins 1. Et que du coup pour choisir correctement, il fallait toujours v\u00e9rifier le prochain voisin de poids diff\u00e9rents des poids initiaux."
     ]
    },
    {
     "cell_type": "heading",
     "level": 1,
     "metadata": {},
     "source": [
      "Nouvelle tentative"
     ]
    },
    {
     "cell_type": "code",
     "collapsed": false,
     "input": [
      "class euler500_solver():\n",
      "    def __init__(self, number_of_divisors, primes):\n",
      "        self.number_of_divisors = number_of_divisors\n",
      "        self.max_primes = int(log(number_of_divisors) / log(2))\n",
      "        self.primes = primes[:self.max_primes]\n",
      "        self.weights = [1] * self.max_primes\n",
      "    \n",
      "    def step(self):\n",
      "        max_index = [(ind, v) for (ind, v) in enumerate(self.weights) if v!= 0][-1][0]\n",
      "        max_prime = self.primes[max_index]\n",
      "        for current_index in range(max_index + 1):\n",
      "            current_weight = self.weights[current_index]\n",
      "            current_prime = self.primes[current_index]\n",
      "            next_weight = 2 * current_weight + 1\n",
      "            delta_weight = next_weight - current_weight\n",
      "            if current_prime ** delta_weight / max_prime < 1:\n",
      "                self.weights[max_index] -= 1\n",
      "                self.weights[current_index] = next_weight\n",
      "                return True\n",
      "                break\n",
      "        return False\n",
      "        \n",
      "    def compute_current_number(self, modulo=None):\n",
      "        factors = ([p**w for (p, w) in zip(self.primes, self.weights)])\n",
      "\n",
      "        if modulo == None:\n",
      "            product = 1\n",
      "            for f in factors:\n",
      "                product *= f\n",
      "            return product\n",
      "        else:\n",
      "            product = 1\n",
      "            for f in factors:\n",
      "                product = (product * f) % modulo\n",
      "            return product"
     ],
     "language": "python",
     "metadata": {},
     "outputs": [],
     "prompt_number": 235
    },
    {
     "cell_type": "markdown",
     "metadata": {},
     "source": [
      "On teste le nouvel algorithme sur le cas 16 :"
     ]
    },
    {
     "cell_type": "code",
     "collapsed": false,
     "input": [
      "e = euler500_solver(16, rwh_primes1(100))"
     ],
     "language": "python",
     "metadata": {},
     "outputs": [],
     "prompt_number": 181
    },
    {
     "cell_type": "code",
     "collapsed": false,
     "input": [
      "e.step()"
     ],
     "language": "python",
     "metadata": {},
     "outputs": [
      {
       "metadata": {},
       "output_type": "pyout",
       "prompt_number": 182,
       "text": [
        "True"
       ]
      }
     ],
     "prompt_number": 182
    },
    {
     "cell_type": "code",
     "collapsed": false,
     "input": [
      "e.compute_current_number()"
     ],
     "language": "python",
     "metadata": {},
     "outputs": [
      {
       "metadata": {},
       "output_type": "pyout",
       "prompt_number": 183,
       "text": [
        "120"
       ]
      }
     ],
     "prompt_number": 183
    },
    {
     "cell_type": "code",
     "collapsed": false,
     "input": [
      "e.step()"
     ],
     "language": "python",
     "metadata": {},
     "outputs": [
      {
       "metadata": {},
       "output_type": "pyout",
       "prompt_number": 184,
       "text": [
        "False"
       ]
      }
     ],
     "prompt_number": 184
    },
    {
     "cell_type": "markdown",
     "metadata": {},
     "source": [
      "Sur le cas 32 :"
     ]
    },
    {
     "cell_type": "code",
     "collapsed": false,
     "input": [
      "e = euler500_solver(32, rwh_primes1(100))"
     ],
     "language": "python",
     "metadata": {},
     "outputs": [],
     "prompt_number": 185
    },
    {
     "cell_type": "code",
     "collapsed": false,
     "input": [
      "e.step()"
     ],
     "language": "python",
     "metadata": {},
     "outputs": [
      {
       "metadata": {},
       "output_type": "pyout",
       "prompt_number": 186,
       "text": [
        "True"
       ]
      }
     ],
     "prompt_number": 186
    },
    {
     "cell_type": "code",
     "collapsed": false,
     "input": [
      "e.compute_current_number()"
     ],
     "language": "python",
     "metadata": {},
     "outputs": [
      {
       "metadata": {},
       "output_type": "pyout",
       "prompt_number": 187,
       "text": [
        "840"
       ]
      }
     ],
     "prompt_number": 187
    },
    {
     "cell_type": "code",
     "collapsed": false,
     "input": [
      "e.weights"
     ],
     "language": "python",
     "metadata": {},
     "outputs": [
      {
       "metadata": {},
       "output_type": "pyout",
       "prompt_number": 189,
       "text": [
        "[3, 1, 1, 1, 0]"
       ]
      }
     ],
     "prompt_number": 189
    },
    {
     "cell_type": "code",
     "collapsed": false,
     "input": [
      "compute_number_of_divisors(e.weights)"
     ],
     "language": "python",
     "metadata": {},
     "outputs": [
      {
       "metadata": {},
       "output_type": "pyout",
       "prompt_number": 192,
       "text": [
        "32"
       ]
      }
     ],
     "prompt_number": 192
    },
    {
     "cell_type": "markdown",
     "metadata": {},
     "source": [
      "Le r\u00e9sultat attendu semble marcher."
     ]
    },
    {
     "cell_type": "code",
     "collapsed": false,
     "input": [
      "e = euler500_solver(128, rwh_primes1(100))"
     ],
     "language": "python",
     "metadata": {},
     "outputs": [],
     "prompt_number": 193
    },
    {
     "cell_type": "code",
     "collapsed": false,
     "input": [
      "e.step()"
     ],
     "language": "python",
     "metadata": {},
     "outputs": [
      {
       "metadata": {},
       "output_type": "pyout",
       "prompt_number": 194,
       "text": [
        "True"
       ]
      }
     ],
     "prompt_number": 194
    },
    {
     "cell_type": "code",
     "collapsed": false,
     "input": [
      "e.step()"
     ],
     "language": "python",
     "metadata": {},
     "outputs": [
      {
       "metadata": {},
       "output_type": "pyout",
       "prompt_number": 195,
       "text": [
        "True"
       ]
      }
     ],
     "prompt_number": 195
    },
    {
     "cell_type": "code",
     "collapsed": false,
     "input": [
      "e.step()"
     ],
     "language": "python",
     "metadata": {},
     "outputs": [
      {
       "metadata": {},
       "output_type": "pyout",
       "prompt_number": 196,
       "text": [
        "False"
       ]
      }
     ],
     "prompt_number": 196
    },
    {
     "cell_type": "code",
     "collapsed": false,
     "input": [
      "e.weights"
     ],
     "language": "python",
     "metadata": {},
     "outputs": [
      {
       "metadata": {},
       "output_type": "pyout",
       "prompt_number": 197,
       "text": [
        "[3, 3, 1, 1, 1, 0, 0]"
       ]
      }
     ],
     "prompt_number": 197
    },
    {
     "cell_type": "markdown",
     "metadata": {},
     "source": [
      "On peut maintenant tester le vrai cas :"
     ]
    },
    {
     "cell_type": "code",
     "collapsed": false,
     "input": [
      "e = euler500_solver(2**500500, primes)"
     ],
     "language": "python",
     "metadata": {},
     "outputs": [],
     "prompt_number": 236
    },
    {
     "cell_type": "code",
     "collapsed": false,
     "input": [
      "%%time\n",
      "last_step = e.step()\n",
      "while last_step:\n",
      "    last_step = e.step()"
     ],
     "language": "python",
     "metadata": {},
     "outputs": [
      {
       "output_type": "stream",
       "stream": "stdout",
       "text": [
        "CPU times: user 1min 23s, sys: 18.5 s, total: 1min 42s\n",
        "Wall time: 1min 50s\n"
       ]
      }
     ],
     "prompt_number": 237
    },
    {
     "cell_type": "code",
     "collapsed": false,
     "input": [
      "e.weights[:20]"
     ],
     "language": "python",
     "metadata": {},
     "outputs": [
      {
       "metadata": {},
       "output_type": "pyout",
       "prompt_number": 240,
       "text": [
        "[31, 15, 15, 15, 7, 7, 7, 7, 7, 7, 7, 7, 7, 7, 7, 3, 3, 3, 3, 3]"
       ]
      }
     ],
     "prompt_number": 240
    },
    {
     "cell_type": "code",
     "collapsed": false,
     "input": [
      "e.compute_current_number(modulo=500500507)"
     ],
     "language": "python",
     "metadata": {},
     "outputs": [
      {
       "metadata": {},
       "output_type": "pyout",
       "prompt_number": 239,
       "text": [
        "35407281"
       ]
      }
     ],
     "prompt_number": 239
    },
    {
     "cell_type": "heading",
     "level": 1,
     "metadata": {},
     "source": [
      "Solution optimis\u00e9e Numpy"
     ]
    },
    {
     "cell_type": "code",
     "collapsed": false,
     "input": [
      "a = np.array([0, 1, 1, 0])"
     ],
     "language": "python",
     "metadata": {},
     "outputs": [],
     "prompt_number": 208
    },
    {
     "cell_type": "code",
     "collapsed": false,
     "input": [
      "a.nonzero()[0][-1]"
     ],
     "language": "python",
     "metadata": {},
     "outputs": [
      {
       "metadata": {},
       "output_type": "pyout",
       "prompt_number": 212,
       "text": [
        "2"
       ]
      }
     ],
     "prompt_number": 212
    },
    {
     "cell_type": "code",
     "collapsed": false,
     "input": [
      "import numpy as np\n",
      "from math import log\n",
      "\n",
      "def rwh_primes1(n):\n",
      "    # http://stackoverflow.com/questions/2068372/fastest-way-to-list-all-primes-below-n-in-python/3035188#3035188\n",
      "    \"\"\" Returns  a list of primes < n \"\"\"\n",
      "    sieve = [True] * int(n/2)\n",
      "    for i in range(3,int(n**0.5)+1,2):\n",
      "        if sieve[int(i/2)]:\n",
      "            sieve[int(i*i/2)::i] = [False] * int((n-i*i-1)/(2*i)+1)\n",
      "    return [2] + [2*i+1 for i in range(1, int(n/2)) if sieve[i]]\n",
      "\n",
      "class euler500_solver_numpy():\n",
      "    def __init__(self, number_of_divisors, primes):\n",
      "        self.number_of_divisors = number_of_divisors\n",
      "        self.max_primes = int(log(number_of_divisors) / log(2))\n",
      "        self.primes = np.array(primes[:self.max_primes])\n",
      "        self.weights = np.array([1] * self.max_primes, dtype=np.int16)\n",
      "    \n",
      "    def step(self):\n",
      "        max_index = self.weights.nonzero()[0][-1]\n",
      "        max_prime = self.primes[max_index]\n",
      "        \n",
      "        #current_weights = self.weights\n",
      "        #next_weights = 2 * self.weights + 1\n",
      "        #delta_weights = next_weights - current_weights\n",
      "        \n",
      "        factors = np.power(self.primes, self.weights + 1) / max_prime\n",
      "        candidates = factors < 1\n",
      "        if factors[candidates].size > 0:\n",
      "            new_index = candidates.argmax()\n",
      "            self.weights[max_index] = 0\n",
      "            self.weights[new_index] = 2 * self.weights[new_index] + 1\n",
      "            return True\n",
      "        else:\n",
      "            return False\n",
      "        \n",
      "    def iterate(self):\n",
      "        last_step = self.step()\n",
      "        while last_step:\n",
      "            last_step = self.step()\n",
      "        return last_step\n",
      "        \n",
      "    def compute_current_number(self, modulo=None):\n",
      "        factors = ([p**w for (p, w) in zip(self.primes, self.weights)])\n",
      "\n",
      "        if modulo == None:\n",
      "            product = 1\n",
      "            for f in factors:\n",
      "                product *= f\n",
      "            return product\n",
      "        else:\n",
      "            product = 1\n",
      "            for f in factors:\n",
      "                product = (product * f) % modulo\n",
      "            return product"
     ],
     "language": "python",
     "metadata": {},
     "outputs": [],
     "prompt_number": 14
    },
    {
     "cell_type": "code",
     "collapsed": false,
     "input": [
      "e = euler500_solver_numpy(32, rwh_primes1(100))"
     ],
     "language": "python",
     "metadata": {},
     "outputs": [],
     "prompt_number": 15
    },
    {
     "cell_type": "code",
     "collapsed": false,
     "input": [
      "e.step()"
     ],
     "language": "python",
     "metadata": {},
     "outputs": [
      {
       "metadata": {},
       "output_type": "pyout",
       "prompt_number": 16,
       "text": [
        "True"
       ]
      }
     ],
     "prompt_number": 16
    },
    {
     "cell_type": "code",
     "collapsed": false,
     "input": [
      "e.compute_current_number()"
     ],
     "language": "python",
     "metadata": {},
     "outputs": [
      {
       "metadata": {},
       "output_type": "pyout",
       "prompt_number": 17,
       "text": [
        "840"
       ]
      }
     ],
     "prompt_number": 17
    },
    {
     "cell_type": "code",
     "collapsed": false,
     "input": [
      "primes = rwh_primes1(10000000)\n",
      "e2 = euler500_solver_numpy(2**500500, primes)"
     ],
     "language": "python",
     "metadata": {},
     "outputs": [],
     "prompt_number": 18
    },
    {
     "cell_type": "code",
     "collapsed": false,
     "input": [
      "%%time\n",
      "e2.iterate()"
     ],
     "language": "python",
     "metadata": {},
     "outputs": [
      {
       "output_type": "stream",
       "stream": "stdout",
       "text": [
        "CPU times: user 12 s, sys: 643 ms, total: 12.7 s\n",
        "Wall time: 12.7 s\n"
       ]
      },
      {
       "metadata": {},
       "output_type": "pyout",
       "prompt_number": 19,
       "text": [
        "False"
       ]
      }
     ],
     "prompt_number": 19
    },
    {
     "cell_type": "code",
     "collapsed": false,
     "input": [
      "result = 1\n",
      "for p, w in zip(e2.primes, e2.weights): \n",
      "    result = (result * int(p) ** int(w)) % 500500507\n",
      "result"
     ],
     "language": "python",
     "metadata": {},
     "outputs": [
      {
       "metadata": {},
       "output_type": "pyout",
       "prompt_number": 20,
       "text": [
        "35407281"
       ]
      }
     ],
     "prompt_number": 20
    },
    {
     "cell_type": "code",
     "collapsed": false,
     "input": [
      "e2.compute_current_number(modulo=500500507)"
     ],
     "language": "python",
     "metadata": {},
     "outputs": [
      {
       "output_type": "stream",
       "stream": "stderr",
       "text": [
        "-c:55: RuntimeWarning: overflow encountered in long_scalars\n"
       ]
      },
      {
       "metadata": {},
       "output_type": "pyout",
       "prompt_number": 21,
       "text": [
        "19538647"
       ]
      }
     ],
     "prompt_number": 21
    },
    {
     "cell_type": "code",
     "collapsed": false,
     "input": [
      "e2.weights[:20]"
     ],
     "language": "python",
     "metadata": {},
     "outputs": [
      {
       "metadata": {},
       "output_type": "pyout",
       "prompt_number": 232,
       "text": [
        "array([31, 15, 15, 15,  7,  7,  7,  7,  7,  7,  7,  7,  7,  7,  7,  3,  3,\n",
        "        3,  3,  3], dtype=int16)"
       ]
      }
     ],
     "prompt_number": 232
    },
    {
     "cell_type": "code",
     "collapsed": false,
     "input": [],
     "language": "python",
     "metadata": {},
     "outputs": []
    }
   ],
   "metadata": {}
  }
 ]
}