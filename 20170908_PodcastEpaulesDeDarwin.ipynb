{
 "cells": [
  {
   "cell_type": "markdown",
   "metadata": {},
   "source": [
    "Dans ce billet, nous allons [comme il y a quelques semaines](http://flothesof.github.io/podcast-rendez-vous-avec-X-fr.html), construire un flux RSS pour mon émission radio préférée : *Sur les épaules de Darwin*, animée par l'extraordinaire Jean Claude Ameisen.\n",
    "\n",
    "Afin de faire ceci, nous allons partir du [travail de Clément Grimal](http://clementgrimal.fr/darwin/), qui maintient une liste à jour des émissions avec des liens de téléchargement. Une question, avant de commencer. Pourquoi faire ce travail, alors que le site de Clément permet déjà d'écouter à volonté ces émissions ? Tout simplement parce que son site ne permet pas de faire une recherche plein texte sur le contenu des émissions et également parce que j'aime écouter les émissions dans un logiciel de podcast afin de marquer ma progression."
   ]
  },
  {
   "cell_type": "markdown",
   "metadata": {},
   "source": [
    "# Récupération des liens vers les émissions"
   ]
  },
  {
   "cell_type": "code",
   "execution_count": 1,
   "metadata": {
    "collapsed": true
   },
   "outputs": [],
   "source": [
    "base_url = \"http://clementgrimal.fr/darwin/\""
   ]
  },
  {
   "cell_type": "code",
   "execution_count": 2,
   "metadata": {
    "collapsed": true
   },
   "outputs": [],
   "source": [
    "import requests"
   ]
  },
  {
   "cell_type": "code",
   "execution_count": 126,
   "metadata": {},
   "outputs": [],
   "source": [
    "r = requests.get(base_url)\n",
    "r.encoding = 'utf-8'"
   ]
  },
  {
   "cell_type": "markdown",
   "metadata": {},
   "source": [
    "On utilise beautiful soup pour déconstruire le résultat et chercher les différents liens dont nous avons besoin :\n",
    "\n",
    "- titre de l'émission\n",
    "- date de diffusion\n",
    "- lien de téléchargement\n",
    "- lien vers la page du site France Inter (pour en extraire la description de l'émission)"
   ]
  },
  {
   "cell_type": "code",
   "execution_count": 127,
   "metadata": {
    "collapsed": true
   },
   "outputs": [],
   "source": [
    "from bs4 import BeautifulSoup"
   ]
  },
  {
   "cell_type": "code",
   "execution_count": 128,
   "metadata": {
    "collapsed": true
   },
   "outputs": [],
   "source": [
    "soup = BeautifulSoup(r.text, 'html.parser')"
   ]
  },
  {
   "cell_type": "markdown",
   "metadata": {},
   "source": [
    "On peut extraire toutes les émissions comme ceci :"
   ]
  },
  {
   "cell_type": "code",
   "execution_count": 129,
   "metadata": {},
   "outputs": [],
   "source": [
    "all_shows = ([item for item in (li.find('table') for li in soup.findAll('li')) if item])"
   ]
  },
  {
   "cell_type": "code",
   "execution_count": 130,
   "metadata": {},
   "outputs": [
    {
     "data": {
      "text/plain": [
       "365"
      ]
     },
     "execution_count": 130,
     "metadata": {},
     "output_type": "execute_result"
    }
   ],
   "source": [
    "len(all_shows)"
   ]
  },
  {
   "cell_type": "markdown",
   "metadata": {},
   "source": [
    "A partir de la première émission, on peut obtenir le lien vers le mp3 ainsi que le site France Inter, de même que le titre et la date de diffusion :"
   ]
  },
  {
   "cell_type": "code",
   "execution_count": 131,
   "metadata": {
    "collapsed": true
   },
   "outputs": [],
   "source": [
    "show = all_shows[0]"
   ]
  },
  {
   "cell_type": "code",
   "execution_count": 132,
   "metadata": {},
   "outputs": [
    {
     "data": {
      "text/plain": [
       "'http://prevost.pascal.free.fr/public/podcast/sur_les_epaules_de_darwin/Jean-Claude%20Ameisen%20-%20SUR%20LES%20EPAULES%20DE%20DARWIN%2004.09.2010.mp3'"
      ]
     },
     "execution_count": 132,
     "metadata": {},
     "output_type": "execute_result"
    }
   ],
   "source": [
    "show.find('a', class_='download-link').attrs['href'].strip()"
   ]
  },
  {
   "cell_type": "code",
   "execution_count": 133,
   "metadata": {},
   "outputs": [
    {
     "data": {
      "text/plain": [
       "'http://www.franceinter.fr/em/sur-les-epaules-de-darwin/94428'"
      ]
     },
     "execution_count": 133,
     "metadata": {},
     "output_type": "execute_result"
    }
   ],
   "source": [
    "show.find('span').find('a').attrs['href']"
   ]
  },
  {
   "cell_type": "code",
   "execution_count": 135,
   "metadata": {},
   "outputs": [
    {
     "data": {
      "text/plain": [
       "\"La théorie de l'évolution de Charles Darwin\""
      ]
     },
     "execution_count": 135,
     "metadata": {},
     "output_type": "execute_result"
    }
   ],
   "source": [
    "show.find('span').find('a').text"
   ]
  },
  {
   "cell_type": "code",
   "execution_count": 146,
   "metadata": {},
   "outputs": [
    {
     "data": {
      "text/plain": [
       "'4 Septembre 2010'"
      ]
     },
     "execution_count": 146,
     "metadata": {},
     "output_type": "execute_result"
    }
   ],
   "source": [
    "str(show.find('span').find('a').next_sibling)[14:]"
   ]
  },
  {
   "cell_type": "markdown",
   "metadata": {},
   "source": [
    "Ecrivons maintenant une boucle sur tous les épisodes :"
   ]
  },
  {
   "cell_type": "code",
   "execution_count": 166,
   "metadata": {},
   "outputs": [],
   "source": [
    "show_data = []\n",
    "for show in all_shows:\n",
    "    download_link = show.find('a', class_='download-link')\n",
    "    description_link = show.find('span').find('a').attrs['href']\n",
    "    title = show.find('span').find('a').text\n",
    "    date = str(show.find('span').find('a').next_sibling)[14:]\n",
    "    if download_link:\n",
    "        if download_link.attrs['href'].strip().startswith('.'):\n",
    "            download_link = \"http://clementgrimal.fr/darwin\" + download_link.attrs['href'].strip()[1:]\n",
    "        else:\n",
    "            download_link = download_link.attrs['href'].strip()\n",
    "        show_data.append([download_link, description_link, title, date])"
   ]
  },
  {
   "cell_type": "markdown",
   "metadata": {},
   "source": [
    "Construisons un tableau avec ces données :"
   ]
  },
  {
   "cell_type": "code",
   "execution_count": 167,
   "metadata": {
    "collapsed": true
   },
   "outputs": [],
   "source": [
    "import pandas as pd"
   ]
  },
  {
   "cell_type": "code",
   "execution_count": 168,
   "metadata": {},
   "outputs": [
    {
     "data": {
      "text/html": [
       "<div>\n",
       "<style>\n",
       "    .dataframe thead tr:only-child th {\n",
       "        text-align: right;\n",
       "    }\n",
       "\n",
       "    .dataframe thead th {\n",
       "        text-align: left;\n",
       "    }\n",
       "\n",
       "    .dataframe tbody tr th {\n",
       "        vertical-align: top;\n",
       "    }\n",
       "</style>\n",
       "<table border=\"1\" class=\"dataframe\">\n",
       "  <thead>\n",
       "    <tr style=\"text-align: right;\">\n",
       "      <th></th>\n",
       "      <th>lien mp3</th>\n",
       "      <th>lien description</th>\n",
       "      <th>titre</th>\n",
       "      <th>date</th>\n",
       "    </tr>\n",
       "  </thead>\n",
       "  <tbody>\n",
       "    <tr>\n",
       "      <th>0</th>\n",
       "      <td>http://prevost.pascal.free.fr/public/podcast/s...</td>\n",
       "      <td>http://www.franceinter.fr/em/sur-les-epaules-d...</td>\n",
       "      <td>La théorie de l'évolution de Charles Darwin</td>\n",
       "      <td>4 Septembre 2010</td>\n",
       "    </tr>\n",
       "    <tr>\n",
       "      <th>1</th>\n",
       "      <td>http://prevost.pascal.free.fr/public/podcast/s...</td>\n",
       "      <td>http://www.franceinter.fr/em/sur-les-epaules-d...</td>\n",
       "      <td>Le propre de l'homme?</td>\n",
       "      <td>11 Septembre 2010</td>\n",
       "    </tr>\n",
       "    <tr>\n",
       "      <th>2</th>\n",
       "      <td>http://prevost.pascal.free.fr/public/podcast/s...</td>\n",
       "      <td>http://www.franceinter.fr/em/sur-les-epaules-d...</td>\n",
       "      <td>Nos mémoires</td>\n",
       "      <td>18 Septembre 2010</td>\n",
       "    </tr>\n",
       "    <tr>\n",
       "      <th>3</th>\n",
       "      <td>http://prevost.pascal.free.fr/public/podcast/s...</td>\n",
       "      <td>http://www.franceinter.fr/em/sur-les-epaules-d...</td>\n",
       "      <td>Nos émotions</td>\n",
       "      <td>25 Septembre 2010</td>\n",
       "    </tr>\n",
       "    <tr>\n",
       "      <th>4</th>\n",
       "      <td>http://prevost.pascal.free.fr/public/podcast/s...</td>\n",
       "      <td>http://www.franceinter.fr/em/sur-les-epaules-d...</td>\n",
       "      <td>Longévité, jeunesse et vieillissement</td>\n",
       "      <td>2 Octobre 2010</td>\n",
       "    </tr>\n",
       "    <tr>\n",
       "      <th>5</th>\n",
       "      <td>http://prevost.pascal.free.fr/public/podcast/s...</td>\n",
       "      <td>http://www.franceinter.fr/em/sur-les-epaules-d...</td>\n",
       "      <td>MORT CELLULAIRE ET SCULPTURE DU VIVANT</td>\n",
       "      <td>9 Octobre 2010</td>\n",
       "    </tr>\n",
       "    <tr>\n",
       "      <th>6</th>\n",
       "      <td>http://prevost.pascal.free.fr/public/podcast/s...</td>\n",
       "      <td>http://www.franceinter.fr/em/sur-les-epaules-d...</td>\n",
       "      <td>NAISSANCES</td>\n",
       "      <td>16 Octobre 2010</td>\n",
       "    </tr>\n",
       "    <tr>\n",
       "      <th>7</th>\n",
       "      <td>http://prevost.pascal.free.fr/public/podcast/s...</td>\n",
       "      <td>http://www.franceinter.fr/em/sur-les-epaules-d...</td>\n",
       "      <td>Biodiversité</td>\n",
       "      <td>23 Octobre 2010</td>\n",
       "    </tr>\n",
       "    <tr>\n",
       "      <th>8</th>\n",
       "      <td>http://prevost.pascal.free.fr/public/podcast/s...</td>\n",
       "      <td>http://www.franceinter.fr/em/sur-les-epaules-d...</td>\n",
       "      <td>mort cellulaire et sculpture du vivant (2)</td>\n",
       "      <td>30 Octobre 2010</td>\n",
       "    </tr>\n",
       "    <tr>\n",
       "      <th>9</th>\n",
       "      <td>http://prevost.pascal.free.fr/public/podcast/s...</td>\n",
       "      <td>http://www.franceinter.fr/em/sur-les-epaules-d...</td>\n",
       "      <td>Un voyage avec Oliver Sacks         ( 1 )</td>\n",
       "      <td>6 Novembre 2010</td>\n",
       "    </tr>\n",
       "  </tbody>\n",
       "</table>\n",
       "</div>"
      ],
      "text/plain": [
       "                                            lien mp3  \\\n",
       "0  http://prevost.pascal.free.fr/public/podcast/s...   \n",
       "1  http://prevost.pascal.free.fr/public/podcast/s...   \n",
       "2  http://prevost.pascal.free.fr/public/podcast/s...   \n",
       "3  http://prevost.pascal.free.fr/public/podcast/s...   \n",
       "4  http://prevost.pascal.free.fr/public/podcast/s...   \n",
       "5  http://prevost.pascal.free.fr/public/podcast/s...   \n",
       "6  http://prevost.pascal.free.fr/public/podcast/s...   \n",
       "7  http://prevost.pascal.free.fr/public/podcast/s...   \n",
       "8  http://prevost.pascal.free.fr/public/podcast/s...   \n",
       "9  http://prevost.pascal.free.fr/public/podcast/s...   \n",
       "\n",
       "                                    lien description  \\\n",
       "0  http://www.franceinter.fr/em/sur-les-epaules-d...   \n",
       "1  http://www.franceinter.fr/em/sur-les-epaules-d...   \n",
       "2  http://www.franceinter.fr/em/sur-les-epaules-d...   \n",
       "3  http://www.franceinter.fr/em/sur-les-epaules-d...   \n",
       "4  http://www.franceinter.fr/em/sur-les-epaules-d...   \n",
       "5  http://www.franceinter.fr/em/sur-les-epaules-d...   \n",
       "6  http://www.franceinter.fr/em/sur-les-epaules-d...   \n",
       "7  http://www.franceinter.fr/em/sur-les-epaules-d...   \n",
       "8  http://www.franceinter.fr/em/sur-les-epaules-d...   \n",
       "9  http://www.franceinter.fr/em/sur-les-epaules-d...   \n",
       "\n",
       "                                         titre               date  \n",
       "0  La théorie de l'évolution de Charles Darwin   4 Septembre 2010  \n",
       "1                        Le propre de l'homme?  11 Septembre 2010  \n",
       "2                                 Nos mémoires  18 Septembre 2010  \n",
       "3                                 Nos émotions  25 Septembre 2010  \n",
       "4        Longévité, jeunesse et vieillissement     2 Octobre 2010  \n",
       "5       MORT CELLULAIRE ET SCULPTURE DU VIVANT     9 Octobre 2010  \n",
       "6                                   NAISSANCES    16 Octobre 2010  \n",
       "7                                 Biodiversité    23 Octobre 2010  \n",
       "8   mort cellulaire et sculpture du vivant (2)    30 Octobre 2010  \n",
       "9    Un voyage avec Oliver Sacks         ( 1 )    6 Novembre 2010  "
      ]
     },
     "execution_count": 168,
     "metadata": {},
     "output_type": "execute_result"
    }
   ],
   "source": [
    "df = pd.DataFrame(show_data, columns=['lien mp3', 'lien description', 'titre', 'date'])\n",
    "df.head(10)"
   ]
  },
  {
   "cell_type": "code",
   "execution_count": 169,
   "metadata": {},
   "outputs": [
    {
     "data": {
      "text/html": [
       "<div>\n",
       "<style>\n",
       "    .dataframe thead tr:only-child th {\n",
       "        text-align: right;\n",
       "    }\n",
       "\n",
       "    .dataframe thead th {\n",
       "        text-align: left;\n",
       "    }\n",
       "\n",
       "    .dataframe tbody tr th {\n",
       "        vertical-align: top;\n",
       "    }\n",
       "</style>\n",
       "<table border=\"1\" class=\"dataframe\">\n",
       "  <thead>\n",
       "    <tr style=\"text-align: right;\">\n",
       "      <th></th>\n",
       "      <th>lien mp3</th>\n",
       "      <th>lien description</th>\n",
       "      <th>titre</th>\n",
       "      <th>date</th>\n",
       "    </tr>\n",
       "  </thead>\n",
       "  <tbody>\n",
       "    <tr>\n",
       "      <th>351</th>\n",
       "      <td>http://clementgrimal.fr/darwin/files/2017-07-0...</td>\n",
       "      <td>https://www.franceinter.fr/emissions/sur-les-e...</td>\n",
       "      <td>Dans les abysses</td>\n",
       "      <td>1 Juillet 2017</td>\n",
       "    </tr>\n",
       "    <tr>\n",
       "      <th>352</th>\n",
       "      <td>http://clementgrimal.fr/darwin/files/2017-07-0...</td>\n",
       "      <td>https://www.franceinter.fr/emissions/sur-les-e...</td>\n",
       "      <td>Naissance d'un mythe</td>\n",
       "      <td>8 Juillet 2017</td>\n",
       "    </tr>\n",
       "    <tr>\n",
       "      <th>353</th>\n",
       "      <td>http://clementgrimal.fr/darwin/files/2017-07-1...</td>\n",
       "      <td>https://www.franceinter.fr/emissions/sur-les-e...</td>\n",
       "      <td>A la rencontre de la pensée chinoise (1)</td>\n",
       "      <td>15 Juillet 2017</td>\n",
       "    </tr>\n",
       "    <tr>\n",
       "      <th>354</th>\n",
       "      <td>http://clementgrimal.fr/darwin/files/2017-07-2...</td>\n",
       "      <td>https://www.franceinter.fr/emissions/sur-les-e...</td>\n",
       "      <td>A la rencontre de la pensée chinoise (2)</td>\n",
       "      <td>22 Juillet 2017</td>\n",
       "    </tr>\n",
       "    <tr>\n",
       "      <th>355</th>\n",
       "      <td>http://clementgrimal.fr/darwin/files/2017-07-2...</td>\n",
       "      <td>https://www.franceinter.fr/emissions/sur-les-e...</td>\n",
       "      <td>Déluges</td>\n",
       "      <td>29 Juillet 2017</td>\n",
       "    </tr>\n",
       "    <tr>\n",
       "      <th>356</th>\n",
       "      <td>http://clementgrimal.fr/darwin/files/2017-08-0...</td>\n",
       "      <td>https://www.franceinter.fr/emissions/sur-les-e...</td>\n",
       "      <td>Le passage du Nord-Ouest</td>\n",
       "      <td>5 Août 2017</td>\n",
       "    </tr>\n",
       "    <tr>\n",
       "      <th>357</th>\n",
       "      <td>http://clementgrimal.fr/darwin/files/2017-08-1...</td>\n",
       "      <td>https://www.franceinter.fr/emissions/sur-les-e...</td>\n",
       "      <td>La faille de Cascadia</td>\n",
       "      <td>12 Août 2017</td>\n",
       "    </tr>\n",
       "    <tr>\n",
       "      <th>358</th>\n",
       "      <td>http://clementgrimal.fr/darwin/files/2017-08-1...</td>\n",
       "      <td>https://www.franceinter.fr/emissions/sur-les-e...</td>\n",
       "      <td>Le mystérieux tsunami de 1700 au Japon</td>\n",
       "      <td>19 Août 2017</td>\n",
       "    </tr>\n",
       "    <tr>\n",
       "      <th>359</th>\n",
       "      <td>http://clementgrimal.fr/darwin/files/2017-08-2...</td>\n",
       "      <td>https://www.franceinter.fr/emissions/sur-les-e...</td>\n",
       "      <td>Des récits et des masques</td>\n",
       "      <td>26 Août 2017</td>\n",
       "    </tr>\n",
       "    <tr>\n",
       "      <th>360</th>\n",
       "      <td>http://clementgrimal.fr/darwin/files/2017-09-0...</td>\n",
       "      <td>https://www.franceinter.fr/emissions/sur-les-e...</td>\n",
       "      <td>Clotho et le fil de la vie</td>\n",
       "      <td>2 Septembre 2017</td>\n",
       "    </tr>\n",
       "  </tbody>\n",
       "</table>\n",
       "</div>"
      ],
      "text/plain": [
       "                                              lien mp3  \\\n",
       "351  http://clementgrimal.fr/darwin/files/2017-07-0...   \n",
       "352  http://clementgrimal.fr/darwin/files/2017-07-0...   \n",
       "353  http://clementgrimal.fr/darwin/files/2017-07-1...   \n",
       "354  http://clementgrimal.fr/darwin/files/2017-07-2...   \n",
       "355  http://clementgrimal.fr/darwin/files/2017-07-2...   \n",
       "356  http://clementgrimal.fr/darwin/files/2017-08-0...   \n",
       "357  http://clementgrimal.fr/darwin/files/2017-08-1...   \n",
       "358  http://clementgrimal.fr/darwin/files/2017-08-1...   \n",
       "359  http://clementgrimal.fr/darwin/files/2017-08-2...   \n",
       "360  http://clementgrimal.fr/darwin/files/2017-09-0...   \n",
       "\n",
       "                                      lien description  \\\n",
       "351  https://www.franceinter.fr/emissions/sur-les-e...   \n",
       "352  https://www.franceinter.fr/emissions/sur-les-e...   \n",
       "353  https://www.franceinter.fr/emissions/sur-les-e...   \n",
       "354  https://www.franceinter.fr/emissions/sur-les-e...   \n",
       "355  https://www.franceinter.fr/emissions/sur-les-e...   \n",
       "356  https://www.franceinter.fr/emissions/sur-les-e...   \n",
       "357  https://www.franceinter.fr/emissions/sur-les-e...   \n",
       "358  https://www.franceinter.fr/emissions/sur-les-e...   \n",
       "359  https://www.franceinter.fr/emissions/sur-les-e...   \n",
       "360  https://www.franceinter.fr/emissions/sur-les-e...   \n",
       "\n",
       "                                        titre              date  \n",
       "351                          Dans les abysses    1 Juillet 2017  \n",
       "352                      Naissance d'un mythe    8 Juillet 2017  \n",
       "353  A la rencontre de la pensée chinoise (1)   15 Juillet 2017  \n",
       "354  A la rencontre de la pensée chinoise (2)   22 Juillet 2017  \n",
       "355                                   Déluges   29 Juillet 2017  \n",
       "356                  Le passage du Nord-Ouest       5 Août 2017  \n",
       "357                     La faille de Cascadia      12 Août 2017  \n",
       "358    Le mystérieux tsunami de 1700 au Japon      19 Août 2017  \n",
       "359                 Des récits et des masques      26 Août 2017  \n",
       "360                Clotho et le fil de la vie  2 Septembre 2017  "
      ]
     },
     "execution_count": 169,
     "metadata": {},
     "output_type": "execute_result"
    }
   ],
   "source": [
    "df.tail(10)"
   ]
  },
  {
   "cell_type": "code",
   "execution_count": 170,
   "metadata": {},
   "outputs": [
    {
     "data": {
      "text/html": [
       "<div>\n",
       "<style>\n",
       "    .dataframe thead tr:only-child th {\n",
       "        text-align: right;\n",
       "    }\n",
       "\n",
       "    .dataframe thead th {\n",
       "        text-align: left;\n",
       "    }\n",
       "\n",
       "    .dataframe tbody tr th {\n",
       "        vertical-align: top;\n",
       "    }\n",
       "</style>\n",
       "<table border=\"1\" class=\"dataframe\">\n",
       "  <thead>\n",
       "    <tr style=\"text-align: right;\">\n",
       "      <th></th>\n",
       "      <th>lien mp3</th>\n",
       "      <th>lien description</th>\n",
       "      <th>titre</th>\n",
       "      <th>date</th>\n",
       "    </tr>\n",
       "  </thead>\n",
       "  <tbody>\n",
       "    <tr>\n",
       "      <th>count</th>\n",
       "      <td>361</td>\n",
       "      <td>361</td>\n",
       "      <td>361</td>\n",
       "      <td>361</td>\n",
       "    </tr>\n",
       "    <tr>\n",
       "      <th>unique</th>\n",
       "      <td>361</td>\n",
       "      <td>361</td>\n",
       "      <td>289</td>\n",
       "      <td>361</td>\n",
       "    </tr>\n",
       "    <tr>\n",
       "      <th>top</th>\n",
       "      <td>http://clementgrimal.fr/darwin/files/2011-05-0...</td>\n",
       "      <td>https://www.franceinter.fr/emissions/sur-les-e...</td>\n",
       "      <td>La découverte du Nouveau Monde (3)</td>\n",
       "      <td>26 Mars 2016</td>\n",
       "    </tr>\n",
       "    <tr>\n",
       "      <th>freq</th>\n",
       "      <td>1</td>\n",
       "      <td>1</td>\n",
       "      <td>3</td>\n",
       "      <td>1</td>\n",
       "    </tr>\n",
       "  </tbody>\n",
       "</table>\n",
       "</div>"
      ],
      "text/plain": [
       "                                                 lien mp3  \\\n",
       "count                                                 361   \n",
       "unique                                                361   \n",
       "top     http://clementgrimal.fr/darwin/files/2011-05-0...   \n",
       "freq                                                    1   \n",
       "\n",
       "                                         lien description  \\\n",
       "count                                                 361   \n",
       "unique                                                361   \n",
       "top     https://www.franceinter.fr/emissions/sur-les-e...   \n",
       "freq                                                    1   \n",
       "\n",
       "                                     titre          date  \n",
       "count                                  361           361  \n",
       "unique                                 289           361  \n",
       "top     La découverte du Nouveau Monde (3)  26 Mars 2016  \n",
       "freq                                     3             1  "
      ]
     },
     "execution_count": 170,
     "metadata": {},
     "output_type": "execute_result"
    }
   ],
   "source": [
    "df.describe()"
   ]
  },
  {
   "cell_type": "markdown",
   "metadata": {},
   "source": [
    "Nous voilà maintenant en possession des liens vers 361 épisodes publiés sur le site de Clément Grimal. On remarque que certaines d'entre elles sont des rediffusions (289 épisodes uniques sur 361). "
   ]
  },
  {
   "cell_type": "markdown",
   "metadata": {},
   "source": [
    "Téléchargeons maintenant les descriptions des émissions."
   ]
  },
  {
   "cell_type": "markdown",
   "metadata": {},
   "source": [
    "# Téléchargement des descriptions à partir du site de France Inter "
   ]
  },
  {
   "cell_type": "markdown",
   "metadata": {},
   "source": [
    "Nous avons les liens vers les descriptions : il suffit donc de lire la page de chaque émission et d'en extraire le contenu intéressant."
   ]
  },
  {
   "cell_type": "code",
   "execution_count": 171,
   "metadata": {},
   "outputs": [
    {
     "data": {
      "text/plain": [
       "'http://www.franceinter.fr/em/sur-les-epaules-de-darwin/94428'"
      ]
     },
     "execution_count": 171,
     "metadata": {},
     "output_type": "execute_result"
    }
   ],
   "source": [
    "link = df['lien description'][0]\n",
    "link"
   ]
  },
  {
   "cell_type": "code",
   "execution_count": 172,
   "metadata": {},
   "outputs": [],
   "source": [
    "soup = BeautifulSoup(requests.get(link).text, 'html.parser')"
   ]
  },
  {
   "cell_type": "code",
   "execution_count": 173,
   "metadata": {},
   "outputs": [
    {
     "data": {
      "text/plain": [
       "'Bibliographie:L\\'origine des espèces de Charles Darwin aux Editions Flammarion Origines,\\n    window._sasFormats = window._sasFormats || [];\\n\\n    window._sasFormats.push(function() {\\n        window.sas.call(\\'std\\', {\\n            siteId:70662,\\n            pageId:537605,\\n            formatId:28990,\\n            target: \\'Culture\\'\\n        });\\n    });\\nLettres choisies (1828-1859)de Charles Darwin traduit de l\\'anglais par Mickael Popelard préface de Stefen Jay Gould aux Editions BayardL\\'expression des émotions chez les hommes et les animaux de Charles Darwin aux Editions RivagesLa lettre volée, d\\'Edgar Allan Poe, Ed Folio GallimardLa mal-mesure de l\\'homme de Stephen Jay Gould aux Editions Odile JacobIdentité et violence: l\\'illusion du destin d\\'Amartya Sen aux editions Odile Jacob\"Dans la Lumière et les Ombres. Darwin et le bouleversement du monde\" de Jean-Claude Ameisen aux Editions Fayard / Seuilinvité(s)Charles Darwin 1809-1882programmation musicaleBenjamin BiolaySi tu suis mon regard album: LA SUPERBElabel: NAIVE RECORDSparution: 2010Jane BirkinApocalypstick album: EX FAN DES SIXTIESlabel: FONTANAparution: 1978LukeLE ROBOT album: LE ROBOTlabel: JIVE EPIC / SONYparution: 2010Cat powerTHE GREATEST album: THE GREATESTlabel: MATADORparution: 2006Amparo Sanchez et Omara PortuondoLa parrandita de las santas album: TUCSON HABANAlabel: VIA LACTEA RECORDSparution: 2010'"
      ]
     },
     "execution_count": 173,
     "metadata": {},
     "output_type": "execute_result"
    }
   ],
   "source": [
    "soup.find('article').text"
   ]
  },
  {
   "cell_type": "code",
   "execution_count": 174,
   "metadata": {
    "collapsed": true
   },
   "outputs": [],
   "source": [
    "import tqdm"
   ]
  },
  {
   "cell_type": "code",
   "execution_count": 117,
   "metadata": {},
   "outputs": [
    {
     "name": "stderr",
     "output_type": "stream",
     "text": [
      "100%|██████████| 361/361 [01:34<00:00,  4.38it/s]\n"
     ]
    }
   ],
   "source": [
    "descriptions = []\n",
    "for description_link in tqdm.tqdm(df['lien description']):\n",
    "    soup = BeautifulSoup(requests.get(description_link).text, 'html.parser')\n",
    "    descriptions.append(soup.find('article').text)"
   ]
  },
  {
   "cell_type": "code",
   "execution_count": 185,
   "metadata": {
    "collapsed": true
   },
   "outputs": [],
   "source": [
    "df['description'] = descriptions"
   ]
  },
  {
   "cell_type": "code",
   "execution_count": 186,
   "metadata": {},
   "outputs": [
    {
     "data": {
      "text/html": [
       "<div>\n",
       "<style>\n",
       "    .dataframe thead tr:only-child th {\n",
       "        text-align: right;\n",
       "    }\n",
       "\n",
       "    .dataframe thead th {\n",
       "        text-align: left;\n",
       "    }\n",
       "\n",
       "    .dataframe tbody tr th {\n",
       "        vertical-align: top;\n",
       "    }\n",
       "</style>\n",
       "<table border=\"1\" class=\"dataframe\">\n",
       "  <thead>\n",
       "    <tr style=\"text-align: right;\">\n",
       "      <th></th>\n",
       "      <th>lien mp3</th>\n",
       "      <th>lien description</th>\n",
       "      <th>titre</th>\n",
       "      <th>date</th>\n",
       "      <th>descriptions</th>\n",
       "      <th>byte_lengths</th>\n",
       "      <th>byte_length</th>\n",
       "      <th>description</th>\n",
       "    </tr>\n",
       "  </thead>\n",
       "  <tbody>\n",
       "    <tr>\n",
       "      <th>0</th>\n",
       "      <td>http://prevost.pascal.free.fr/public/podcast/s...</td>\n",
       "      <td>http://www.franceinter.fr/em/sur-les-epaules-d...</td>\n",
       "      <td>La théorie de l'évolution de Charles Darwin</td>\n",
       "      <td>4 Septembre 2010</td>\n",
       "      <td>Bibliographie:L'origine des espèces de Charles...</td>\n",
       "      <td>51120256</td>\n",
       "      <td>51120256</td>\n",
       "      <td>Bibliographie:L'origine des espèces de Charles...</td>\n",
       "    </tr>\n",
       "    <tr>\n",
       "      <th>1</th>\n",
       "      <td>http://prevost.pascal.free.fr/public/podcast/s...</td>\n",
       "      <td>http://www.franceinter.fr/em/sur-les-epaules-d...</td>\n",
       "      <td>Le propre de l'homme?</td>\n",
       "      <td>11 Septembre 2010</td>\n",
       "      <td>programmation musicaleSTAFF BENDA BILILISala m...</td>\n",
       "      <td>52287616</td>\n",
       "      <td>52287616</td>\n",
       "      <td>programmation musicaleSTAFF BENDA BILILISala m...</td>\n",
       "    </tr>\n",
       "    <tr>\n",
       "      <th>2</th>\n",
       "      <td>http://prevost.pascal.free.fr/public/podcast/s...</td>\n",
       "      <td>http://www.franceinter.fr/em/sur-les-epaules-d...</td>\n",
       "      <td>Nos mémoires</td>\n",
       "      <td>18 Septembre 2010</td>\n",
       "      <td>programmation musicaleIggy POPKing of the dogs...</td>\n",
       "      <td>51320960</td>\n",
       "      <td>51320960</td>\n",
       "      <td>programmation musicaleIggy POPKing of the dogs...</td>\n",
       "    </tr>\n",
       "    <tr>\n",
       "      <th>3</th>\n",
       "      <td>http://prevost.pascal.free.fr/public/podcast/s...</td>\n",
       "      <td>http://www.franceinter.fr/em/sur-les-epaules-d...</td>\n",
       "      <td>Nos émotions</td>\n",
       "      <td>25 Septembre 2010</td>\n",
       "      <td>programmation musicaleEMILY LOISEAUL'autre bou...</td>\n",
       "      <td>54608000</td>\n",
       "      <td>54608000</td>\n",
       "      <td>programmation musicaleEMILY LOISEAUL'autre bou...</td>\n",
       "    </tr>\n",
       "    <tr>\n",
       "      <th>4</th>\n",
       "      <td>http://prevost.pascal.free.fr/public/podcast/s...</td>\n",
       "      <td>http://www.franceinter.fr/em/sur-les-epaules-d...</td>\n",
       "      <td>Longévité, jeunesse et vieillissement</td>\n",
       "      <td>2 Octobre 2010</td>\n",
       "      <td>programmation musicaleBongaMona ki gni xiça al...</td>\n",
       "      <td>52762752</td>\n",
       "      <td>52762752</td>\n",
       "      <td>programmation musicaleBongaMona ki gni xiça al...</td>\n",
       "    </tr>\n",
       "    <tr>\n",
       "      <th>5</th>\n",
       "      <td>http://prevost.pascal.free.fr/public/podcast/s...</td>\n",
       "      <td>http://www.franceinter.fr/em/sur-les-epaules-d...</td>\n",
       "      <td>MORT CELLULAIRE ET SCULPTURE DU VIVANT</td>\n",
       "      <td>9 Octobre 2010</td>\n",
       "      <td>programmation musicaleNouvelle vague / Camille...</td>\n",
       "      <td>53100672</td>\n",
       "      <td>53100672</td>\n",
       "      <td>programmation musicaleNouvelle vague / Camille...</td>\n",
       "    </tr>\n",
       "    <tr>\n",
       "      <th>6</th>\n",
       "      <td>http://prevost.pascal.free.fr/public/podcast/s...</td>\n",
       "      <td>http://www.franceinter.fr/em/sur-les-epaules-d...</td>\n",
       "      <td>NAISSANCES</td>\n",
       "      <td>16 Octobre 2010</td>\n",
       "      <td>invité(s)René FrydmanChef du Pôle Mère-Enfant ...</td>\n",
       "      <td>52418688</td>\n",
       "      <td>52418688</td>\n",
       "      <td>invité(s)René FrydmanChef du Pôle Mère-Enfant ...</td>\n",
       "    </tr>\n",
       "    <tr>\n",
       "      <th>7</th>\n",
       "      <td>http://prevost.pascal.free.fr/public/podcast/s...</td>\n",
       "      <td>http://www.franceinter.fr/em/sur-les-epaules-d...</td>\n",
       "      <td>Biodiversité</td>\n",
       "      <td>23 Octobre 2010</td>\n",
       "      <td>\"L'infinité des formes les plus belles et les ...</td>\n",
       "      <td>53088384</td>\n",
       "      <td>53088384</td>\n",
       "      <td>\"L'infinité des formes les plus belles et les ...</td>\n",
       "    </tr>\n",
       "    <tr>\n",
       "      <th>8</th>\n",
       "      <td>http://prevost.pascal.free.fr/public/podcast/s...</td>\n",
       "      <td>http://www.franceinter.fr/em/sur-les-epaules-d...</td>\n",
       "      <td>mort cellulaire et sculpture du vivant (2)</td>\n",
       "      <td>30 Octobre 2010</td>\n",
       "      <td>« Nous ne nous baignons pas deux fois dans le ...</td>\n",
       "      <td>54542464</td>\n",
       "      <td>54542464</td>\n",
       "      <td>« Nous ne nous baignons pas deux fois dans le ...</td>\n",
       "    </tr>\n",
       "    <tr>\n",
       "      <th>9</th>\n",
       "      <td>http://prevost.pascal.free.fr/public/podcast/s...</td>\n",
       "      <td>http://www.franceinter.fr/em/sur-les-epaules-d...</td>\n",
       "      <td>Un voyage avec Oliver Sacks         ( 1 )</td>\n",
       "      <td>6 Novembre 2010</td>\n",
       "      <td>A la rencontre de la singularité de nos mondes...</td>\n",
       "      <td>52340864</td>\n",
       "      <td>52340864</td>\n",
       "      <td>A la rencontre de la singularité de nos mondes...</td>\n",
       "    </tr>\n",
       "  </tbody>\n",
       "</table>\n",
       "</div>"
      ],
      "text/plain": [
       "                                            lien mp3  \\\n",
       "0  http://prevost.pascal.free.fr/public/podcast/s...   \n",
       "1  http://prevost.pascal.free.fr/public/podcast/s...   \n",
       "2  http://prevost.pascal.free.fr/public/podcast/s...   \n",
       "3  http://prevost.pascal.free.fr/public/podcast/s...   \n",
       "4  http://prevost.pascal.free.fr/public/podcast/s...   \n",
       "5  http://prevost.pascal.free.fr/public/podcast/s...   \n",
       "6  http://prevost.pascal.free.fr/public/podcast/s...   \n",
       "7  http://prevost.pascal.free.fr/public/podcast/s...   \n",
       "8  http://prevost.pascal.free.fr/public/podcast/s...   \n",
       "9  http://prevost.pascal.free.fr/public/podcast/s...   \n",
       "\n",
       "                                    lien description  \\\n",
       "0  http://www.franceinter.fr/em/sur-les-epaules-d...   \n",
       "1  http://www.franceinter.fr/em/sur-les-epaules-d...   \n",
       "2  http://www.franceinter.fr/em/sur-les-epaules-d...   \n",
       "3  http://www.franceinter.fr/em/sur-les-epaules-d...   \n",
       "4  http://www.franceinter.fr/em/sur-les-epaules-d...   \n",
       "5  http://www.franceinter.fr/em/sur-les-epaules-d...   \n",
       "6  http://www.franceinter.fr/em/sur-les-epaules-d...   \n",
       "7  http://www.franceinter.fr/em/sur-les-epaules-d...   \n",
       "8  http://www.franceinter.fr/em/sur-les-epaules-d...   \n",
       "9  http://www.franceinter.fr/em/sur-les-epaules-d...   \n",
       "\n",
       "                                         titre               date  \\\n",
       "0  La théorie de l'évolution de Charles Darwin   4 Septembre 2010   \n",
       "1                        Le propre de l'homme?  11 Septembre 2010   \n",
       "2                                 Nos mémoires  18 Septembre 2010   \n",
       "3                                 Nos émotions  25 Septembre 2010   \n",
       "4        Longévité, jeunesse et vieillissement     2 Octobre 2010   \n",
       "5       MORT CELLULAIRE ET SCULPTURE DU VIVANT     9 Octobre 2010   \n",
       "6                                   NAISSANCES    16 Octobre 2010   \n",
       "7                                 Biodiversité    23 Octobre 2010   \n",
       "8   mort cellulaire et sculpture du vivant (2)    30 Octobre 2010   \n",
       "9    Un voyage avec Oliver Sacks         ( 1 )    6 Novembre 2010   \n",
       "\n",
       "                                        descriptions byte_lengths byte_length  \\\n",
       "0  Bibliographie:L'origine des espèces de Charles...     51120256    51120256   \n",
       "1  programmation musicaleSTAFF BENDA BILILISala m...     52287616    52287616   \n",
       "2  programmation musicaleIggy POPKing of the dogs...     51320960    51320960   \n",
       "3  programmation musicaleEMILY LOISEAUL'autre bou...     54608000    54608000   \n",
       "4  programmation musicaleBongaMona ki gni xiça al...     52762752    52762752   \n",
       "5  programmation musicaleNouvelle vague / Camille...     53100672    53100672   \n",
       "6  invité(s)René FrydmanChef du Pôle Mère-Enfant ...     52418688    52418688   \n",
       "7  \"L'infinité des formes les plus belles et les ...     53088384    53088384   \n",
       "8  « Nous ne nous baignons pas deux fois dans le ...     54542464    54542464   \n",
       "9  A la rencontre de la singularité de nos mondes...     52340864    52340864   \n",
       "\n",
       "                                         description  \n",
       "0  Bibliographie:L'origine des espèces de Charles...  \n",
       "1  programmation musicaleSTAFF BENDA BILILISala m...  \n",
       "2  programmation musicaleIggy POPKing of the dogs...  \n",
       "3  programmation musicaleEMILY LOISEAUL'autre bou...  \n",
       "4  programmation musicaleBongaMona ki gni xiça al...  \n",
       "5  programmation musicaleNouvelle vague / Camille...  \n",
       "6  invité(s)René FrydmanChef du Pôle Mère-Enfant ...  \n",
       "7  \"L'infinité des formes les plus belles et les ...  \n",
       "8  « Nous ne nous baignons pas deux fois dans le ...  \n",
       "9  A la rencontre de la singularité de nos mondes...  "
      ]
     },
     "execution_count": 186,
     "metadata": {},
     "output_type": "execute_result"
    }
   ],
   "source": [
    "df.head(10)"
   ]
  },
  {
   "cell_type": "code",
   "execution_count": 187,
   "metadata": {},
   "outputs": [
    {
     "data": {
      "text/html": [
       "<div>\n",
       "<style>\n",
       "    .dataframe thead tr:only-child th {\n",
       "        text-align: right;\n",
       "    }\n",
       "\n",
       "    .dataframe thead th {\n",
       "        text-align: left;\n",
       "    }\n",
       "\n",
       "    .dataframe tbody tr th {\n",
       "        vertical-align: top;\n",
       "    }\n",
       "</style>\n",
       "<table border=\"1\" class=\"dataframe\">\n",
       "  <thead>\n",
       "    <tr style=\"text-align: right;\">\n",
       "      <th></th>\n",
       "      <th>lien mp3</th>\n",
       "      <th>lien description</th>\n",
       "      <th>titre</th>\n",
       "      <th>date</th>\n",
       "      <th>descriptions</th>\n",
       "      <th>byte_lengths</th>\n",
       "      <th>byte_length</th>\n",
       "      <th>description</th>\n",
       "    </tr>\n",
       "  </thead>\n",
       "  <tbody>\n",
       "    <tr>\n",
       "      <th>351</th>\n",
       "      <td>http://clementgrimal.fr/darwin/files/2017-07-0...</td>\n",
       "      <td>https://www.franceinter.fr/emissions/sur-les-e...</td>\n",
       "      <td>Dans les abysses</td>\n",
       "      <td>1 Juillet 2017</td>\n",
       "      <td>\\n            Dans les abysses\\n        Plongé...</td>\n",
       "      <td>53114880</td>\n",
       "      <td>53114880</td>\n",
       "      <td>\\n            Dans les abysses\\n        Plongé...</td>\n",
       "    </tr>\n",
       "    <tr>\n",
       "      <th>352</th>\n",
       "      <td>http://clementgrimal.fr/darwin/files/2017-07-0...</td>\n",
       "      <td>https://www.franceinter.fr/emissions/sur-les-e...</td>\n",
       "      <td>Naissance d'un mythe</td>\n",
       "      <td>8 Juillet 2017</td>\n",
       "      <td>\\n            Naissance d'un mythe\\n        Pi...</td>\n",
       "      <td>52439040</td>\n",
       "      <td>52439040</td>\n",
       "      <td>\\n            Naissance d'un mythe\\n        Pi...</td>\n",
       "    </tr>\n",
       "    <tr>\n",
       "      <th>353</th>\n",
       "      <td>http://clementgrimal.fr/darwin/files/2017-07-1...</td>\n",
       "      <td>https://www.franceinter.fr/emissions/sur-les-e...</td>\n",
       "      <td>A la rencontre de la pensée chinoise (1)</td>\n",
       "      <td>15 Juillet 2017</td>\n",
       "      <td>\\n            A la rencontre de la pensée chin...</td>\n",
       "      <td>52760704</td>\n",
       "      <td>52760704</td>\n",
       "      <td>\\n            A la rencontre de la pensée chin...</td>\n",
       "    </tr>\n",
       "    <tr>\n",
       "      <th>354</th>\n",
       "      <td>http://clementgrimal.fr/darwin/files/2017-07-2...</td>\n",
       "      <td>https://www.franceinter.fr/emissions/sur-les-e...</td>\n",
       "      <td>A la rencontre de la pensée chinoise (2)</td>\n",
       "      <td>22 Juillet 2017</td>\n",
       "      <td>\\n            A la rencontre de la pensée chin...</td>\n",
       "      <td>51093504</td>\n",
       "      <td>51093504</td>\n",
       "      <td>\\n            A la rencontre de la pensée chin...</td>\n",
       "    </tr>\n",
       "    <tr>\n",
       "      <th>355</th>\n",
       "      <td>http://clementgrimal.fr/darwin/files/2017-07-2...</td>\n",
       "      <td>https://www.franceinter.fr/emissions/sur-les-e...</td>\n",
       "      <td>Déluges</td>\n",
       "      <td>29 Juillet 2017</td>\n",
       "      <td>\\n            Déluges\\n        Cette émission ...</td>\n",
       "      <td>50356352</td>\n",
       "      <td>50356352</td>\n",
       "      <td>\\n            Déluges\\n        Cette émission ...</td>\n",
       "    </tr>\n",
       "    <tr>\n",
       "      <th>356</th>\n",
       "      <td>http://clementgrimal.fr/darwin/files/2017-08-0...</td>\n",
       "      <td>https://www.franceinter.fr/emissions/sur-les-e...</td>\n",
       "      <td>Le passage du Nord-Ouest</td>\n",
       "      <td>5 Août 2017</td>\n",
       "      <td>\\n            Le passage du Nord-Ouest\\n      ...</td>\n",
       "      <td>50407424</td>\n",
       "      <td>50407424</td>\n",
       "      <td>\\n            Le passage du Nord-Ouest\\n      ...</td>\n",
       "    </tr>\n",
       "    <tr>\n",
       "      <th>357</th>\n",
       "      <td>http://clementgrimal.fr/darwin/files/2017-08-1...</td>\n",
       "      <td>https://www.franceinter.fr/emissions/sur-les-e...</td>\n",
       "      <td>La faille de Cascadia</td>\n",
       "      <td>12 Août 2017</td>\n",
       "      <td>\\n            La faille de Cascadia\\n        V...</td>\n",
       "      <td>53368832</td>\n",
       "      <td>53368832</td>\n",
       "      <td>\\n            La faille de Cascadia\\n        V...</td>\n",
       "    </tr>\n",
       "    <tr>\n",
       "      <th>358</th>\n",
       "      <td>http://clementgrimal.fr/darwin/files/2017-08-1...</td>\n",
       "      <td>https://www.franceinter.fr/emissions/sur-les-e...</td>\n",
       "      <td>Le mystérieux tsunami de 1700 au Japon</td>\n",
       "      <td>19 Août 2017</td>\n",
       "      <td>\\n            Le mystérieux tsunami de 1700 au...</td>\n",
       "      <td>53741568</td>\n",
       "      <td>53741568</td>\n",
       "      <td>\\n            Le mystérieux tsunami de 1700 au...</td>\n",
       "    </tr>\n",
       "    <tr>\n",
       "      <th>359</th>\n",
       "      <td>http://clementgrimal.fr/darwin/files/2017-08-2...</td>\n",
       "      <td>https://www.franceinter.fr/emissions/sur-les-e...</td>\n",
       "      <td>Des récits et des masques</td>\n",
       "      <td>26 Août 2017</td>\n",
       "      <td>\\n            Des récits et des masques\\n     ...</td>\n",
       "      <td>54636544</td>\n",
       "      <td>54636544</td>\n",
       "      <td>\\n            Des récits et des masques\\n     ...</td>\n",
       "    </tr>\n",
       "    <tr>\n",
       "      <th>360</th>\n",
       "      <td>http://clementgrimal.fr/darwin/files/2017-09-0...</td>\n",
       "      <td>https://www.franceinter.fr/emissions/sur-les-e...</td>\n",
       "      <td>Clotho et le fil de la vie</td>\n",
       "      <td>2 Septembre 2017</td>\n",
       "      <td>\\n            Clotho et le fil de la vie.\\n   ...</td>\n",
       "      <td>53235712</td>\n",
       "      <td>53235712</td>\n",
       "      <td>\\n            Clotho et le fil de la vie.\\n   ...</td>\n",
       "    </tr>\n",
       "  </tbody>\n",
       "</table>\n",
       "</div>"
      ],
      "text/plain": [
       "                                              lien mp3  \\\n",
       "351  http://clementgrimal.fr/darwin/files/2017-07-0...   \n",
       "352  http://clementgrimal.fr/darwin/files/2017-07-0...   \n",
       "353  http://clementgrimal.fr/darwin/files/2017-07-1...   \n",
       "354  http://clementgrimal.fr/darwin/files/2017-07-2...   \n",
       "355  http://clementgrimal.fr/darwin/files/2017-07-2...   \n",
       "356  http://clementgrimal.fr/darwin/files/2017-08-0...   \n",
       "357  http://clementgrimal.fr/darwin/files/2017-08-1...   \n",
       "358  http://clementgrimal.fr/darwin/files/2017-08-1...   \n",
       "359  http://clementgrimal.fr/darwin/files/2017-08-2...   \n",
       "360  http://clementgrimal.fr/darwin/files/2017-09-0...   \n",
       "\n",
       "                                      lien description  \\\n",
       "351  https://www.franceinter.fr/emissions/sur-les-e...   \n",
       "352  https://www.franceinter.fr/emissions/sur-les-e...   \n",
       "353  https://www.franceinter.fr/emissions/sur-les-e...   \n",
       "354  https://www.franceinter.fr/emissions/sur-les-e...   \n",
       "355  https://www.franceinter.fr/emissions/sur-les-e...   \n",
       "356  https://www.franceinter.fr/emissions/sur-les-e...   \n",
       "357  https://www.franceinter.fr/emissions/sur-les-e...   \n",
       "358  https://www.franceinter.fr/emissions/sur-les-e...   \n",
       "359  https://www.franceinter.fr/emissions/sur-les-e...   \n",
       "360  https://www.franceinter.fr/emissions/sur-les-e...   \n",
       "\n",
       "                                        titre              date  \\\n",
       "351                          Dans les abysses    1 Juillet 2017   \n",
       "352                      Naissance d'un mythe    8 Juillet 2017   \n",
       "353  A la rencontre de la pensée chinoise (1)   15 Juillet 2017   \n",
       "354  A la rencontre de la pensée chinoise (2)   22 Juillet 2017   \n",
       "355                                   Déluges   29 Juillet 2017   \n",
       "356                  Le passage du Nord-Ouest       5 Août 2017   \n",
       "357                     La faille de Cascadia      12 Août 2017   \n",
       "358    Le mystérieux tsunami de 1700 au Japon      19 Août 2017   \n",
       "359                 Des récits et des masques      26 Août 2017   \n",
       "360                Clotho et le fil de la vie  2 Septembre 2017   \n",
       "\n",
       "                                          descriptions byte_lengths  \\\n",
       "351  \\n            Dans les abysses\\n        Plongé...     53114880   \n",
       "352  \\n            Naissance d'un mythe\\n        Pi...     52439040   \n",
       "353  \\n            A la rencontre de la pensée chin...     52760704   \n",
       "354  \\n            A la rencontre de la pensée chin...     51093504   \n",
       "355  \\n            Déluges\\n        Cette émission ...     50356352   \n",
       "356  \\n            Le passage du Nord-Ouest\\n      ...     50407424   \n",
       "357  \\n            La faille de Cascadia\\n        V...     53368832   \n",
       "358  \\n            Le mystérieux tsunami de 1700 au...     53741568   \n",
       "359  \\n            Des récits et des masques\\n     ...     54636544   \n",
       "360  \\n            Clotho et le fil de la vie.\\n   ...     53235712   \n",
       "\n",
       "    byte_length                                        description  \n",
       "351    53114880  \\n            Dans les abysses\\n        Plongé...  \n",
       "352    52439040  \\n            Naissance d'un mythe\\n        Pi...  \n",
       "353    52760704  \\n            A la rencontre de la pensée chin...  \n",
       "354    51093504  \\n            A la rencontre de la pensée chin...  \n",
       "355    50356352  \\n            Déluges\\n        Cette émission ...  \n",
       "356    50407424  \\n            Le passage du Nord-Ouest\\n      ...  \n",
       "357    53368832  \\n            La faille de Cascadia\\n        V...  \n",
       "358    53741568  \\n            Le mystérieux tsunami de 1700 au...  \n",
       "359    54636544  \\n            Des récits et des masques\\n     ...  \n",
       "360    53235712  \\n            Clotho et le fil de la vie.\\n   ...  "
      ]
     },
     "execution_count": 187,
     "metadata": {},
     "output_type": "execute_result"
    }
   ],
   "source": [
    "df.tail(10)"
   ]
  },
  {
   "cell_type": "markdown",
   "metadata": {},
   "source": [
    "# Taille des fichiers mp3 "
   ]
  },
  {
   "cell_type": "markdown",
   "metadata": {},
   "source": [
    "Il nous manque encore la récupération des tailles de fichier mp3, qui sera inscrite dans le flux RSS :"
   ]
  },
  {
   "cell_type": "code",
   "execution_count": 188,
   "metadata": {},
   "outputs": [
    {
     "name": "stderr",
     "output_type": "stream",
     "text": [
      "100%|██████████| 361/361 [00:18<00:00, 20.05it/s]\n"
     ]
    }
   ],
   "source": [
    "byte_lengths = []\n",
    "for mp3_link in tqdm.tqdm(df['lien mp3']):\n",
    "    r = requests.head(mp3_link)\n",
    "    byte_lengths.append(r.headers['content-length'])"
   ]
  },
  {
   "cell_type": "code",
   "execution_count": 189,
   "metadata": {
    "collapsed": true
   },
   "outputs": [],
   "source": [
    "df['byte_length'] = byte_lengths"
   ]
  },
  {
   "cell_type": "code",
   "execution_count": 190,
   "metadata": {},
   "outputs": [
    {
     "data": {
      "text/html": [
       "<div>\n",
       "<style>\n",
       "    .dataframe thead tr:only-child th {\n",
       "        text-align: right;\n",
       "    }\n",
       "\n",
       "    .dataframe thead th {\n",
       "        text-align: left;\n",
       "    }\n",
       "\n",
       "    .dataframe tbody tr th {\n",
       "        vertical-align: top;\n",
       "    }\n",
       "</style>\n",
       "<table border=\"1\" class=\"dataframe\">\n",
       "  <thead>\n",
       "    <tr style=\"text-align: right;\">\n",
       "      <th></th>\n",
       "      <th>lien mp3</th>\n",
       "      <th>lien description</th>\n",
       "      <th>titre</th>\n",
       "      <th>date</th>\n",
       "      <th>descriptions</th>\n",
       "      <th>byte_lengths</th>\n",
       "      <th>byte_length</th>\n",
       "      <th>description</th>\n",
       "    </tr>\n",
       "  </thead>\n",
       "  <tbody>\n",
       "    <tr>\n",
       "      <th>0</th>\n",
       "      <td>http://prevost.pascal.free.fr/public/podcast/s...</td>\n",
       "      <td>http://www.franceinter.fr/em/sur-les-epaules-d...</td>\n",
       "      <td>La théorie de l'évolution de Charles Darwin</td>\n",
       "      <td>4 Septembre 2010</td>\n",
       "      <td>Bibliographie:L'origine des espèces de Charles...</td>\n",
       "      <td>51120256</td>\n",
       "      <td>51120256</td>\n",
       "      <td>Bibliographie:L'origine des espèces de Charles...</td>\n",
       "    </tr>\n",
       "    <tr>\n",
       "      <th>1</th>\n",
       "      <td>http://prevost.pascal.free.fr/public/podcast/s...</td>\n",
       "      <td>http://www.franceinter.fr/em/sur-les-epaules-d...</td>\n",
       "      <td>Le propre de l'homme?</td>\n",
       "      <td>11 Septembre 2010</td>\n",
       "      <td>programmation musicaleSTAFF BENDA BILILISala m...</td>\n",
       "      <td>52287616</td>\n",
       "      <td>52287616</td>\n",
       "      <td>programmation musicaleSTAFF BENDA BILILISala m...</td>\n",
       "    </tr>\n",
       "    <tr>\n",
       "      <th>2</th>\n",
       "      <td>http://prevost.pascal.free.fr/public/podcast/s...</td>\n",
       "      <td>http://www.franceinter.fr/em/sur-les-epaules-d...</td>\n",
       "      <td>Nos mémoires</td>\n",
       "      <td>18 Septembre 2010</td>\n",
       "      <td>programmation musicaleIggy POPKing of the dogs...</td>\n",
       "      <td>51320960</td>\n",
       "      <td>51320960</td>\n",
       "      <td>programmation musicaleIggy POPKing of the dogs...</td>\n",
       "    </tr>\n",
       "    <tr>\n",
       "      <th>3</th>\n",
       "      <td>http://prevost.pascal.free.fr/public/podcast/s...</td>\n",
       "      <td>http://www.franceinter.fr/em/sur-les-epaules-d...</td>\n",
       "      <td>Nos émotions</td>\n",
       "      <td>25 Septembre 2010</td>\n",
       "      <td>programmation musicaleEMILY LOISEAUL'autre bou...</td>\n",
       "      <td>54608000</td>\n",
       "      <td>54608000</td>\n",
       "      <td>programmation musicaleEMILY LOISEAUL'autre bou...</td>\n",
       "    </tr>\n",
       "    <tr>\n",
       "      <th>4</th>\n",
       "      <td>http://prevost.pascal.free.fr/public/podcast/s...</td>\n",
       "      <td>http://www.franceinter.fr/em/sur-les-epaules-d...</td>\n",
       "      <td>Longévité, jeunesse et vieillissement</td>\n",
       "      <td>2 Octobre 2010</td>\n",
       "      <td>programmation musicaleBongaMona ki gni xiça al...</td>\n",
       "      <td>52762752</td>\n",
       "      <td>52762752</td>\n",
       "      <td>programmation musicaleBongaMona ki gni xiça al...</td>\n",
       "    </tr>\n",
       "  </tbody>\n",
       "</table>\n",
       "</div>"
      ],
      "text/plain": [
       "                                            lien mp3  \\\n",
       "0  http://prevost.pascal.free.fr/public/podcast/s...   \n",
       "1  http://prevost.pascal.free.fr/public/podcast/s...   \n",
       "2  http://prevost.pascal.free.fr/public/podcast/s...   \n",
       "3  http://prevost.pascal.free.fr/public/podcast/s...   \n",
       "4  http://prevost.pascal.free.fr/public/podcast/s...   \n",
       "\n",
       "                                    lien description  \\\n",
       "0  http://www.franceinter.fr/em/sur-les-epaules-d...   \n",
       "1  http://www.franceinter.fr/em/sur-les-epaules-d...   \n",
       "2  http://www.franceinter.fr/em/sur-les-epaules-d...   \n",
       "3  http://www.franceinter.fr/em/sur-les-epaules-d...   \n",
       "4  http://www.franceinter.fr/em/sur-les-epaules-d...   \n",
       "\n",
       "                                         titre               date  \\\n",
       "0  La théorie de l'évolution de Charles Darwin   4 Septembre 2010   \n",
       "1                        Le propre de l'homme?  11 Septembre 2010   \n",
       "2                                 Nos mémoires  18 Septembre 2010   \n",
       "3                                 Nos émotions  25 Septembre 2010   \n",
       "4        Longévité, jeunesse et vieillissement     2 Octobre 2010   \n",
       "\n",
       "                                        descriptions byte_lengths byte_length  \\\n",
       "0  Bibliographie:L'origine des espèces de Charles...     51120256    51120256   \n",
       "1  programmation musicaleSTAFF BENDA BILILISala m...     52287616    52287616   \n",
       "2  programmation musicaleIggy POPKing of the dogs...     51320960    51320960   \n",
       "3  programmation musicaleEMILY LOISEAUL'autre bou...     54608000    54608000   \n",
       "4  programmation musicaleBongaMona ki gni xiça al...     52762752    52762752   \n",
       "\n",
       "                                         description  \n",
       "0  Bibliographie:L'origine des espèces de Charles...  \n",
       "1  programmation musicaleSTAFF BENDA BILILISala m...  \n",
       "2  programmation musicaleIggy POPKing of the dogs...  \n",
       "3  programmation musicaleEMILY LOISEAUL'autre bou...  \n",
       "4  programmation musicaleBongaMona ki gni xiça al...  "
      ]
     },
     "execution_count": 190,
     "metadata": {},
     "output_type": "execute_result"
    }
   ],
   "source": [
    "df.head()"
   ]
  },
  {
   "cell_type": "markdown",
   "metadata": {},
   "source": [
    "# Ecriture du fichier RSS "
   ]
  },
  {
   "cell_type": "markdown",
   "metadata": {},
   "source": [
    "Maintenant que nous avons collecté toutes les émissions, nous pouvons écrire un ficher RSS, comme nous l'avions déjà fait [dans le cas de l'émission Rendez vous avec X](http://flothesof.github.io/podcast-rendez-vous-avec-X-fr.html)."
   ]
  },
  {
   "cell_type": "code",
   "execution_count": 202,
   "metadata": {
    "collapsed": true
   },
   "outputs": [],
   "source": [
    "import dateparser"
   ]
  },
  {
   "cell_type": "code",
   "execution_count": 204,
   "metadata": {},
   "outputs": [],
   "source": [
    "import xml.etree.cElementTree as ET\n",
    "\n",
    "rss = ET.Element(\"rss\", version=\"2.0\")\n",
    "channel = ET.SubElement(rss, \"channel\")\n",
    "title = ET.SubElement(channel, \"title\")\n",
    "title.text = 'Podcast Sur les épaules de Darwin'\n",
    "description = ET.SubElement(channel, \"description\")\n",
    "description.text = \"Podcast inofficiel de l'émission Sur les épaules de Darwin, tiré du site http://clementgrimal.fr/darwin/ et https://www.franceinter.fr/emissions/sur-les-epaules-de-darwin\"\n",
    "for index, row in df.iterrows():\n",
    "    item = ET.SubElement(channel, \"item\")\n",
    "    item_title = ET.SubElement(item, \"title\")\n",
    "    item_title.text = row['titre']\n",
    "    item_description = ET.SubElement(item, \"description\")\n",
    "    item_description.text = row['description']\n",
    "    item_pubdate = ET.SubElement(item, \"pubDate\")\n",
    "    item_pubdate.text = dateparser.parse(row.date).date().strftime('%a, %d %b %Y 11:00:00')\n",
    "    item_enclosure = ET.SubElement(item, \"enclosure\", url='{}'.format(row['lien mp3']),\n",
    "                                   length=row.byte_length,\n",
    "                                  type=\"audio/mpeg\")\n",
    "    break\n",
    "tree = ET.ElementTree(rss)\n",
    "tree.write(\"files/podcast_mr_x.xml\", encoding='utf-8')"
   ]
  },
  {
   "cell_type": "code",
   "execution_count": 196,
   "metadata": {},
   "outputs": [
    {
     "ename": "ValueError",
     "evalue": "Unknown string format",
     "output_type": "error",
     "traceback": [
      "\u001b[0;31m---------------------------------------------------------------------------\u001b[0m",
      "\u001b[0;31mTypeError\u001b[0m                                 Traceback (most recent call last)",
      "\u001b[0;32m~/anaconda/lib/python3.6/site-packages/pandas/core/tools/datetimes.py\u001b[0m in \u001b[0;36m_convert_listlike\u001b[0;34m(arg, box, format, name, tz)\u001b[0m\n\u001b[1;32m    443\u001b[0m             \u001b[0;32mtry\u001b[0m\u001b[0;34m:\u001b[0m\u001b[0;34m\u001b[0m\u001b[0m\n\u001b[0;32m--> 444\u001b[0;31m                 \u001b[0mvalues\u001b[0m\u001b[0;34m,\u001b[0m \u001b[0mtz\u001b[0m \u001b[0;34m=\u001b[0m \u001b[0mtslib\u001b[0m\u001b[0;34m.\u001b[0m\u001b[0mdatetime_to_datetime64\u001b[0m\u001b[0;34m(\u001b[0m\u001b[0marg\u001b[0m\u001b[0;34m)\u001b[0m\u001b[0;34m\u001b[0m\u001b[0m\n\u001b[0m\u001b[1;32m    445\u001b[0m                 \u001b[0;32mreturn\u001b[0m \u001b[0mDatetimeIndex\u001b[0m\u001b[0;34m.\u001b[0m\u001b[0m_simple_new\u001b[0m\u001b[0;34m(\u001b[0m\u001b[0mvalues\u001b[0m\u001b[0;34m,\u001b[0m \u001b[0mname\u001b[0m\u001b[0;34m=\u001b[0m\u001b[0mname\u001b[0m\u001b[0;34m,\u001b[0m \u001b[0mtz\u001b[0m\u001b[0;34m=\u001b[0m\u001b[0mtz\u001b[0m\u001b[0;34m)\u001b[0m\u001b[0;34m\u001b[0m\u001b[0m\n",
      "\u001b[0;32mpandas/_libs/tslib.pyx\u001b[0m in \u001b[0;36mpandas._libs.tslib.datetime_to_datetime64 (pandas/_libs/tslib.c:33275)\u001b[0;34m()\u001b[0m\n",
      "\u001b[0;31mTypeError\u001b[0m: Unrecognized value type: <class 'str'>",
      "\nDuring handling of the above exception, another exception occurred:\n",
      "\u001b[0;31mValueError\u001b[0m                                Traceback (most recent call last)",
      "\u001b[0;32m<ipython-input-196-2e0a00bb8e7f>\u001b[0m in \u001b[0;36m<module>\u001b[0;34m()\u001b[0m\n\u001b[0;32m----> 1\u001b[0;31m \u001b[0mpd\u001b[0m\u001b[0;34m.\u001b[0m\u001b[0mto_datetime\u001b[0m\u001b[0;34m(\u001b[0m\u001b[0mrow\u001b[0m\u001b[0;34m.\u001b[0m\u001b[0mdate\u001b[0m\u001b[0;34m,\u001b[0m \u001b[0mdayfirst\u001b[0m\u001b[0;34m=\u001b[0m\u001b[0;32mTrue\u001b[0m\u001b[0;34m,\u001b[0m \u001b[0minfer_datetime_format\u001b[0m\u001b[0;34m=\u001b[0m\u001b[0;32mTrue\u001b[0m\u001b[0;34m)\u001b[0m\u001b[0;34m\u001b[0m\u001b[0m\n\u001b[0m",
      "\u001b[0;32m~/anaconda/lib/python3.6/site-packages/pandas/core/tools/datetimes.py\u001b[0m in \u001b[0;36mto_datetime\u001b[0;34m(arg, errors, dayfirst, yearfirst, utc, box, format, exact, unit, infer_datetime_format, origin)\u001b[0m\n\u001b[1;32m    516\u001b[0m         \u001b[0mresult\u001b[0m \u001b[0;34m=\u001b[0m \u001b[0m_convert_listlike\u001b[0m\u001b[0;34m(\u001b[0m\u001b[0marg\u001b[0m\u001b[0;34m,\u001b[0m \u001b[0mbox\u001b[0m\u001b[0;34m,\u001b[0m \u001b[0mformat\u001b[0m\u001b[0;34m)\u001b[0m\u001b[0;34m\u001b[0m\u001b[0m\n\u001b[1;32m    517\u001b[0m     \u001b[0;32melse\u001b[0m\u001b[0;34m:\u001b[0m\u001b[0;34m\u001b[0m\u001b[0m\n\u001b[0;32m--> 518\u001b[0;31m         \u001b[0mresult\u001b[0m \u001b[0;34m=\u001b[0m \u001b[0m_convert_listlike\u001b[0m\u001b[0;34m(\u001b[0m\u001b[0mnp\u001b[0m\u001b[0;34m.\u001b[0m\u001b[0marray\u001b[0m\u001b[0;34m(\u001b[0m\u001b[0;34m[\u001b[0m\u001b[0marg\u001b[0m\u001b[0;34m]\u001b[0m\u001b[0;34m)\u001b[0m\u001b[0;34m,\u001b[0m \u001b[0mbox\u001b[0m\u001b[0;34m,\u001b[0m \u001b[0mformat\u001b[0m\u001b[0;34m)\u001b[0m\u001b[0;34m[\u001b[0m\u001b[0;36m0\u001b[0m\u001b[0;34m]\u001b[0m\u001b[0;34m\u001b[0m\u001b[0m\n\u001b[0m\u001b[1;32m    519\u001b[0m \u001b[0;34m\u001b[0m\u001b[0m\n\u001b[1;32m    520\u001b[0m     \u001b[0;32mreturn\u001b[0m \u001b[0mresult\u001b[0m\u001b[0;34m\u001b[0m\u001b[0m\n",
      "\u001b[0;32m~/anaconda/lib/python3.6/site-packages/pandas/core/tools/datetimes.py\u001b[0m in \u001b[0;36m_convert_listlike\u001b[0;34m(arg, box, format, name, tz)\u001b[0m\n\u001b[1;32m    445\u001b[0m                 \u001b[0;32mreturn\u001b[0m \u001b[0mDatetimeIndex\u001b[0m\u001b[0;34m.\u001b[0m\u001b[0m_simple_new\u001b[0m\u001b[0;34m(\u001b[0m\u001b[0mvalues\u001b[0m\u001b[0;34m,\u001b[0m \u001b[0mname\u001b[0m\u001b[0;34m=\u001b[0m\u001b[0mname\u001b[0m\u001b[0;34m,\u001b[0m \u001b[0mtz\u001b[0m\u001b[0;34m=\u001b[0m\u001b[0mtz\u001b[0m\u001b[0;34m)\u001b[0m\u001b[0;34m\u001b[0m\u001b[0m\n\u001b[1;32m    446\u001b[0m             \u001b[0;32mexcept\u001b[0m \u001b[0;34m(\u001b[0m\u001b[0mValueError\u001b[0m\u001b[0;34m,\u001b[0m \u001b[0mTypeError\u001b[0m\u001b[0;34m)\u001b[0m\u001b[0;34m:\u001b[0m\u001b[0;34m\u001b[0m\u001b[0m\n\u001b[0;32m--> 447\u001b[0;31m                 \u001b[0;32mraise\u001b[0m \u001b[0me\u001b[0m\u001b[0;34m\u001b[0m\u001b[0m\n\u001b[0m\u001b[1;32m    448\u001b[0m \u001b[0;34m\u001b[0m\u001b[0m\n\u001b[1;32m    449\u001b[0m     \u001b[0;32mif\u001b[0m \u001b[0marg\u001b[0m \u001b[0;32mis\u001b[0m \u001b[0;32mNone\u001b[0m\u001b[0;34m:\u001b[0m\u001b[0;34m\u001b[0m\u001b[0m\n",
      "\u001b[0;32m~/anaconda/lib/python3.6/site-packages/pandas/core/tools/datetimes.py\u001b[0m in \u001b[0;36m_convert_listlike\u001b[0;34m(arg, box, format, name, tz)\u001b[0m\n\u001b[1;32m    433\u001b[0m                     \u001b[0mdayfirst\u001b[0m\u001b[0;34m=\u001b[0m\u001b[0mdayfirst\u001b[0m\u001b[0;34m,\u001b[0m\u001b[0;34m\u001b[0m\u001b[0m\n\u001b[1;32m    434\u001b[0m                     \u001b[0myearfirst\u001b[0m\u001b[0;34m=\u001b[0m\u001b[0myearfirst\u001b[0m\u001b[0;34m,\u001b[0m\u001b[0;34m\u001b[0m\u001b[0m\n\u001b[0;32m--> 435\u001b[0;31m                     \u001b[0mrequire_iso8601\u001b[0m\u001b[0;34m=\u001b[0m\u001b[0mrequire_iso8601\u001b[0m\u001b[0;34m\u001b[0m\u001b[0m\n\u001b[0m\u001b[1;32m    436\u001b[0m                 )\n\u001b[1;32m    437\u001b[0m \u001b[0;34m\u001b[0m\u001b[0m\n",
      "\u001b[0;32mpandas/_libs/tslib.pyx\u001b[0m in \u001b[0;36mpandas._libs.tslib.array_to_datetime (pandas/_libs/tslib.c:46617)\u001b[0;34m()\u001b[0m\n",
      "\u001b[0;32mpandas/_libs/tslib.pyx\u001b[0m in \u001b[0;36mpandas._libs.tslib.array_to_datetime (pandas/_libs/tslib.c:46233)\u001b[0;34m()\u001b[0m\n",
      "\u001b[0;32mpandas/_libs/tslib.pyx\u001b[0m in \u001b[0;36mpandas._libs.tslib.array_to_datetime (pandas/_libs/tslib.c:46122)\u001b[0;34m()\u001b[0m\n",
      "\u001b[0;32mpandas/_libs/tslib.pyx\u001b[0m in \u001b[0;36mpandas._libs.tslib.parse_datetime_string (pandas/_libs/tslib.c:35351)\u001b[0;34m()\u001b[0m\n",
      "\u001b[0;32m~/anaconda/lib/python3.6/site-packages/dateutil/parser.py\u001b[0m in \u001b[0;36mparse\u001b[0;34m(timestr, parserinfo, **kwargs)\u001b[0m\n\u001b[1;32m   1166\u001b[0m         \u001b[0;32mreturn\u001b[0m \u001b[0mparser\u001b[0m\u001b[0;34m(\u001b[0m\u001b[0mparserinfo\u001b[0m\u001b[0;34m)\u001b[0m\u001b[0;34m.\u001b[0m\u001b[0mparse\u001b[0m\u001b[0;34m(\u001b[0m\u001b[0mtimestr\u001b[0m\u001b[0;34m,\u001b[0m \u001b[0;34m**\u001b[0m\u001b[0mkwargs\u001b[0m\u001b[0;34m)\u001b[0m\u001b[0;34m\u001b[0m\u001b[0m\n\u001b[1;32m   1167\u001b[0m     \u001b[0;32melse\u001b[0m\u001b[0;34m:\u001b[0m\u001b[0;34m\u001b[0m\u001b[0m\n\u001b[0;32m-> 1168\u001b[0;31m         \u001b[0;32mreturn\u001b[0m \u001b[0mDEFAULTPARSER\u001b[0m\u001b[0;34m.\u001b[0m\u001b[0mparse\u001b[0m\u001b[0;34m(\u001b[0m\u001b[0mtimestr\u001b[0m\u001b[0;34m,\u001b[0m \u001b[0;34m**\u001b[0m\u001b[0mkwargs\u001b[0m\u001b[0;34m)\u001b[0m\u001b[0;34m\u001b[0m\u001b[0m\n\u001b[0m\u001b[1;32m   1169\u001b[0m \u001b[0;34m\u001b[0m\u001b[0m\n\u001b[1;32m   1170\u001b[0m \u001b[0;34m\u001b[0m\u001b[0m\n",
      "\u001b[0;32m~/anaconda/lib/python3.6/site-packages/dateutil/parser.py\u001b[0m in \u001b[0;36mparse\u001b[0;34m(self, timestr, default, ignoretz, tzinfos, **kwargs)\u001b[0m\n\u001b[1;32m    557\u001b[0m \u001b[0;34m\u001b[0m\u001b[0m\n\u001b[1;32m    558\u001b[0m         \u001b[0;32mif\u001b[0m \u001b[0mres\u001b[0m \u001b[0;32mis\u001b[0m \u001b[0;32mNone\u001b[0m\u001b[0;34m:\u001b[0m\u001b[0;34m\u001b[0m\u001b[0m\n\u001b[0;32m--> 559\u001b[0;31m             \u001b[0;32mraise\u001b[0m \u001b[0mValueError\u001b[0m\u001b[0;34m(\u001b[0m\u001b[0;34m\"Unknown string format\"\u001b[0m\u001b[0;34m)\u001b[0m\u001b[0;34m\u001b[0m\u001b[0m\n\u001b[0m\u001b[1;32m    560\u001b[0m \u001b[0;34m\u001b[0m\u001b[0m\n\u001b[1;32m    561\u001b[0m         \u001b[0;32mif\u001b[0m \u001b[0mlen\u001b[0m\u001b[0;34m(\u001b[0m\u001b[0mres\u001b[0m\u001b[0;34m)\u001b[0m \u001b[0;34m==\u001b[0m \u001b[0;36m0\u001b[0m\u001b[0;34m:\u001b[0m\u001b[0;34m\u001b[0m\u001b[0m\n",
      "\u001b[0;31mValueError\u001b[0m: Unknown string format"
     ]
    }
   ],
   "source": [
    "pd.to_datetime(row.date, dayfirst=True, infer_datetime_format=True)"
   ]
  },
  {
   "cell_type": "code",
   "execution_count": 198,
   "metadata": {},
   "outputs": [
    {
     "name": "stdout",
     "output_type": "stream",
     "text": [
      "2017-09-08\n",
      "2017-07-03\n",
      "2017-08-04\n",
      "2017-09-07\n"
     ]
    }
   ],
   "source": [
    " # $ pip install dateparser\n",
    "\n",
    "for date_string in [u\"Aujourd'hui\", \"3 juillet\", u\"4 Août\", u\"Hier\"]:\n",
    "    print(dateparser.parse(date_string).date())"
   ]
  },
  {
   "cell_type": "code",
   "execution_count": 201,
   "metadata": {},
   "outputs": [
    {
     "data": {
      "text/plain": [
       "datetime.date(2010, 9, 4)"
      ]
     },
     "execution_count": 201,
     "metadata": {},
     "output_type": "execute_result"
    }
   ],
   "source": [
    "dateparser.parse(row.date).date()"
   ]
  },
  {
   "cell_type": "code",
   "execution_count": null,
   "metadata": {
    "collapsed": true
   },
   "outputs": [],
   "source": []
  }
 ],
 "metadata": {
  "kernelspec": {
   "display_name": "Python 3",
   "language": "python",
   "name": "python3"
  },
  "language_info": {
   "codemirror_mode": {
    "name": "ipython",
    "version": 3
   },
   "file_extension": ".py",
   "mimetype": "text/x-python",
   "name": "python",
   "nbconvert_exporter": "python",
   "pygments_lexer": "ipython3",
   "version": "3.6.1"
  },
  "toc": {
   "colors": {
    "hover_highlight": "#DAA520",
    "navigate_num": "#000000",
    "navigate_text": "#333333",
    "running_highlight": "#FF0000",
    "selected_highlight": "#FFD700",
    "sidebar_border": "#EEEEEE",
    "wrapper_background": "#FFFFFF"
   },
   "moveMenuLeft": true,
   "nav_menu": {
    "height": "84px",
    "width": "253px"
   },
   "navigate_menu": true,
   "number_sections": true,
   "sideBar": true,
   "threshold": 4,
   "toc_cell": false,
   "toc_section_display": "block",
   "toc_window_display": false,
   "widenNotebook": false
  }
 },
 "nbformat": 4,
 "nbformat_minor": 2
}
