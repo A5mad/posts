{
 "cells": [
  {
   "cell_type": "markdown",
   "metadata": {},
   "source": [
    "Dans ce billet, nous allons [comme il y a quelques semaines](http://flothesof.github.io/podcast-rendez-vous-avec-X-fr.html), construire un flux RSS pour mon émission radio préférée : *Sur les épaules de Darwin*, animée par l'extraordinaire Jean Claude Ameisen.\n",
    "\n",
    "Afin de faire ceci, nous allons partir du [travail de Clément Grimal](http://clementgrimal.fr/darwin/), qui maintient une liste à jour des émissions avec des liens de téléchargement. Une question, avant de commencer. Pourquoi faire ce travail, alors que le site de Clément permet déjà d'écouter à volonté ces émissions ? Tout simplement parce que son site ne permet pas de faire une recherche plein texte sur le contenu des émissions et également parce que j'aime écouter les émissions dans un logiciel de podcast afin de marquer ma progression."
   ]
  },
  {
   "cell_type": "markdown",
   "metadata": {},
   "source": [
    "# Récupération des liens vers les émissions"
   ]
  },
  {
   "cell_type": "code",
   "execution_count": 1,
   "metadata": {
    "collapsed": true
   },
   "outputs": [],
   "source": [
    "base_url = \"http://clementgrimal.fr/darwin/\""
   ]
  },
  {
   "cell_type": "code",
   "execution_count": 2,
   "metadata": {
    "collapsed": true
   },
   "outputs": [],
   "source": [
    "import requests"
   ]
  },
  {
   "cell_type": "code",
   "execution_count": 3,
   "metadata": {},
   "outputs": [],
   "source": [
    "r = requests.get(base_url)\n",
    "r.encoding = 'utf-8'"
   ]
  },
  {
   "cell_type": "markdown",
   "metadata": {},
   "source": [
    "On utilise beautiful soup pour déconstruire le résultat et chercher les différents liens dont nous avons besoin :\n",
    "\n",
    "- titre de l'émission\n",
    "- date de diffusion\n",
    "- lien de téléchargement\n",
    "- lien vers la page du site France Inter (pour en extraire la description de l'émission)"
   ]
  },
  {
   "cell_type": "code",
   "execution_count": 4,
   "metadata": {
    "collapsed": true
   },
   "outputs": [],
   "source": [
    "from bs4 import BeautifulSoup"
   ]
  },
  {
   "cell_type": "code",
   "execution_count": 5,
   "metadata": {
    "collapsed": true
   },
   "outputs": [],
   "source": [
    "soup = BeautifulSoup(r.text, 'html.parser')"
   ]
  },
  {
   "cell_type": "markdown",
   "metadata": {},
   "source": [
    "On peut extraire toutes les émissions comme ceci :"
   ]
  },
  {
   "cell_type": "code",
   "execution_count": 6,
   "metadata": {},
   "outputs": [],
   "source": [
    "all_shows = ([item for item in (li.find('table') for li in soup.findAll('li')) if item])"
   ]
  },
  {
   "cell_type": "code",
   "execution_count": 7,
   "metadata": {},
   "outputs": [
    {
     "data": {
      "text/plain": [
       "365"
      ]
     },
     "execution_count": 7,
     "metadata": {},
     "output_type": "execute_result"
    }
   ],
   "source": [
    "len(all_shows)"
   ]
  },
  {
   "cell_type": "markdown",
   "metadata": {},
   "source": [
    "A partir de la première émission, on peut obtenir le lien vers le mp3 ainsi que le site France Inter, de même que le titre et la date de diffusion :"
   ]
  },
  {
   "cell_type": "code",
   "execution_count": 8,
   "metadata": {
    "collapsed": true
   },
   "outputs": [],
   "source": [
    "show = all_shows[0]"
   ]
  },
  {
   "cell_type": "code",
   "execution_count": 9,
   "metadata": {},
   "outputs": [
    {
     "data": {
      "text/plain": [
       "'http://prevost.pascal.free.fr/public/podcast/sur_les_epaules_de_darwin/Jean-Claude%20Ameisen%20-%20SUR%20LES%20EPAULES%20DE%20DARWIN%2004.09.2010.mp3'"
      ]
     },
     "execution_count": 9,
     "metadata": {},
     "output_type": "execute_result"
    }
   ],
   "source": [
    "show.find('a', class_='download-link').attrs['href'].strip()"
   ]
  },
  {
   "cell_type": "code",
   "execution_count": 10,
   "metadata": {},
   "outputs": [
    {
     "data": {
      "text/plain": [
       "'http://www.franceinter.fr/em/sur-les-epaules-de-darwin/94428'"
      ]
     },
     "execution_count": 10,
     "metadata": {},
     "output_type": "execute_result"
    }
   ],
   "source": [
    "show.find('span').find('a').attrs['href']"
   ]
  },
  {
   "cell_type": "code",
   "execution_count": 11,
   "metadata": {},
   "outputs": [
    {
     "data": {
      "text/plain": [
       "\"La théorie de l'évolution de Charles Darwin\""
      ]
     },
     "execution_count": 11,
     "metadata": {},
     "output_type": "execute_result"
    }
   ],
   "source": [
    "show.find('span').find('a').text"
   ]
  },
  {
   "cell_type": "code",
   "execution_count": 12,
   "metadata": {},
   "outputs": [
    {
     "data": {
      "text/plain": [
       "'4 Septembre 2010'"
      ]
     },
     "execution_count": 12,
     "metadata": {},
     "output_type": "execute_result"
    }
   ],
   "source": [
    "str(show.find('span').find('a').next_sibling)[14:]"
   ]
  },
  {
   "cell_type": "markdown",
   "metadata": {},
   "source": [
    "Ecrivons maintenant une boucle sur tous les épisodes :"
   ]
  },
  {
   "cell_type": "code",
   "execution_count": 13,
   "metadata": {},
   "outputs": [],
   "source": [
    "show_data = []\n",
    "for show in all_shows:\n",
    "    download_link = show.find('a', class_='download-link')\n",
    "    description_link = show.find('span').find('a').attrs['href']\n",
    "    title = show.find('span').find('a').text\n",
    "    date = str(show.find('span').find('a').next_sibling)[14:]\n",
    "    if download_link:\n",
    "        if download_link.attrs['href'].strip().startswith('.'):\n",
    "            download_link = \"http://clementgrimal.fr/darwin\" + download_link.attrs['href'].strip()[1:]\n",
    "        else:\n",
    "            download_link = download_link.attrs['href'].strip()\n",
    "        show_data.append([download_link, description_link, title, date])"
   ]
  },
  {
   "cell_type": "markdown",
   "metadata": {},
   "source": [
    "Construisons un tableau avec ces données :"
   ]
  },
  {
   "cell_type": "code",
   "execution_count": 14,
   "metadata": {
    "collapsed": true
   },
   "outputs": [],
   "source": [
    "import pandas as pd"
   ]
  },
  {
   "cell_type": "code",
   "execution_count": 15,
   "metadata": {},
   "outputs": [
    {
     "data": {
      "text/html": [
       "<div>\n",
       "<style>\n",
       "    .dataframe thead tr:only-child th {\n",
       "        text-align: right;\n",
       "    }\n",
       "\n",
       "    .dataframe thead th {\n",
       "        text-align: left;\n",
       "    }\n",
       "\n",
       "    .dataframe tbody tr th {\n",
       "        vertical-align: top;\n",
       "    }\n",
       "</style>\n",
       "<table border=\"1\" class=\"dataframe\">\n",
       "  <thead>\n",
       "    <tr style=\"text-align: right;\">\n",
       "      <th></th>\n",
       "      <th>lien mp3</th>\n",
       "      <th>lien description</th>\n",
       "      <th>titre</th>\n",
       "      <th>date</th>\n",
       "    </tr>\n",
       "  </thead>\n",
       "  <tbody>\n",
       "    <tr>\n",
       "      <th>0</th>\n",
       "      <td>http://prevost.pascal.free.fr/public/podcast/s...</td>\n",
       "      <td>http://www.franceinter.fr/em/sur-les-epaules-d...</td>\n",
       "      <td>La théorie de l'évolution de Charles Darwin</td>\n",
       "      <td>4 Septembre 2010</td>\n",
       "    </tr>\n",
       "    <tr>\n",
       "      <th>1</th>\n",
       "      <td>http://prevost.pascal.free.fr/public/podcast/s...</td>\n",
       "      <td>http://www.franceinter.fr/em/sur-les-epaules-d...</td>\n",
       "      <td>Le propre de l'homme?</td>\n",
       "      <td>11 Septembre 2010</td>\n",
       "    </tr>\n",
       "    <tr>\n",
       "      <th>2</th>\n",
       "      <td>http://prevost.pascal.free.fr/public/podcast/s...</td>\n",
       "      <td>http://www.franceinter.fr/em/sur-les-epaules-d...</td>\n",
       "      <td>Nos mémoires</td>\n",
       "      <td>18 Septembre 2010</td>\n",
       "    </tr>\n",
       "    <tr>\n",
       "      <th>3</th>\n",
       "      <td>http://prevost.pascal.free.fr/public/podcast/s...</td>\n",
       "      <td>http://www.franceinter.fr/em/sur-les-epaules-d...</td>\n",
       "      <td>Nos émotions</td>\n",
       "      <td>25 Septembre 2010</td>\n",
       "    </tr>\n",
       "    <tr>\n",
       "      <th>4</th>\n",
       "      <td>http://prevost.pascal.free.fr/public/podcast/s...</td>\n",
       "      <td>http://www.franceinter.fr/em/sur-les-epaules-d...</td>\n",
       "      <td>Longévité, jeunesse et vieillissement</td>\n",
       "      <td>2 Octobre 2010</td>\n",
       "    </tr>\n",
       "    <tr>\n",
       "      <th>5</th>\n",
       "      <td>http://prevost.pascal.free.fr/public/podcast/s...</td>\n",
       "      <td>http://www.franceinter.fr/em/sur-les-epaules-d...</td>\n",
       "      <td>MORT CELLULAIRE ET SCULPTURE DU VIVANT</td>\n",
       "      <td>9 Octobre 2010</td>\n",
       "    </tr>\n",
       "    <tr>\n",
       "      <th>6</th>\n",
       "      <td>http://prevost.pascal.free.fr/public/podcast/s...</td>\n",
       "      <td>http://www.franceinter.fr/em/sur-les-epaules-d...</td>\n",
       "      <td>NAISSANCES</td>\n",
       "      <td>16 Octobre 2010</td>\n",
       "    </tr>\n",
       "    <tr>\n",
       "      <th>7</th>\n",
       "      <td>http://prevost.pascal.free.fr/public/podcast/s...</td>\n",
       "      <td>http://www.franceinter.fr/em/sur-les-epaules-d...</td>\n",
       "      <td>Biodiversité</td>\n",
       "      <td>23 Octobre 2010</td>\n",
       "    </tr>\n",
       "    <tr>\n",
       "      <th>8</th>\n",
       "      <td>http://prevost.pascal.free.fr/public/podcast/s...</td>\n",
       "      <td>http://www.franceinter.fr/em/sur-les-epaules-d...</td>\n",
       "      <td>mort cellulaire et sculpture du vivant (2)</td>\n",
       "      <td>30 Octobre 2010</td>\n",
       "    </tr>\n",
       "    <tr>\n",
       "      <th>9</th>\n",
       "      <td>http://prevost.pascal.free.fr/public/podcast/s...</td>\n",
       "      <td>http://www.franceinter.fr/em/sur-les-epaules-d...</td>\n",
       "      <td>Un voyage avec Oliver Sacks         ( 1 )</td>\n",
       "      <td>6 Novembre 2010</td>\n",
       "    </tr>\n",
       "  </tbody>\n",
       "</table>\n",
       "</div>"
      ],
      "text/plain": [
       "                                            lien mp3  \\\n",
       "0  http://prevost.pascal.free.fr/public/podcast/s...   \n",
       "1  http://prevost.pascal.free.fr/public/podcast/s...   \n",
       "2  http://prevost.pascal.free.fr/public/podcast/s...   \n",
       "3  http://prevost.pascal.free.fr/public/podcast/s...   \n",
       "4  http://prevost.pascal.free.fr/public/podcast/s...   \n",
       "5  http://prevost.pascal.free.fr/public/podcast/s...   \n",
       "6  http://prevost.pascal.free.fr/public/podcast/s...   \n",
       "7  http://prevost.pascal.free.fr/public/podcast/s...   \n",
       "8  http://prevost.pascal.free.fr/public/podcast/s...   \n",
       "9  http://prevost.pascal.free.fr/public/podcast/s...   \n",
       "\n",
       "                                    lien description  \\\n",
       "0  http://www.franceinter.fr/em/sur-les-epaules-d...   \n",
       "1  http://www.franceinter.fr/em/sur-les-epaules-d...   \n",
       "2  http://www.franceinter.fr/em/sur-les-epaules-d...   \n",
       "3  http://www.franceinter.fr/em/sur-les-epaules-d...   \n",
       "4  http://www.franceinter.fr/em/sur-les-epaules-d...   \n",
       "5  http://www.franceinter.fr/em/sur-les-epaules-d...   \n",
       "6  http://www.franceinter.fr/em/sur-les-epaules-d...   \n",
       "7  http://www.franceinter.fr/em/sur-les-epaules-d...   \n",
       "8  http://www.franceinter.fr/em/sur-les-epaules-d...   \n",
       "9  http://www.franceinter.fr/em/sur-les-epaules-d...   \n",
       "\n",
       "                                         titre               date  \n",
       "0  La théorie de l'évolution de Charles Darwin   4 Septembre 2010  \n",
       "1                        Le propre de l'homme?  11 Septembre 2010  \n",
       "2                                 Nos mémoires  18 Septembre 2010  \n",
       "3                                 Nos émotions  25 Septembre 2010  \n",
       "4        Longévité, jeunesse et vieillissement     2 Octobre 2010  \n",
       "5       MORT CELLULAIRE ET SCULPTURE DU VIVANT     9 Octobre 2010  \n",
       "6                                   NAISSANCES    16 Octobre 2010  \n",
       "7                                 Biodiversité    23 Octobre 2010  \n",
       "8   mort cellulaire et sculpture du vivant (2)    30 Octobre 2010  \n",
       "9    Un voyage avec Oliver Sacks         ( 1 )    6 Novembre 2010  "
      ]
     },
     "execution_count": 15,
     "metadata": {},
     "output_type": "execute_result"
    }
   ],
   "source": [
    "df = pd.DataFrame(show_data, columns=['lien mp3', 'lien description', 'titre', 'date'])\n",
    "df.head(10)"
   ]
  },
  {
   "cell_type": "code",
   "execution_count": 16,
   "metadata": {},
   "outputs": [
    {
     "data": {
      "text/html": [
       "<div>\n",
       "<style>\n",
       "    .dataframe thead tr:only-child th {\n",
       "        text-align: right;\n",
       "    }\n",
       "\n",
       "    .dataframe thead th {\n",
       "        text-align: left;\n",
       "    }\n",
       "\n",
       "    .dataframe tbody tr th {\n",
       "        vertical-align: top;\n",
       "    }\n",
       "</style>\n",
       "<table border=\"1\" class=\"dataframe\">\n",
       "  <thead>\n",
       "    <tr style=\"text-align: right;\">\n",
       "      <th></th>\n",
       "      <th>lien mp3</th>\n",
       "      <th>lien description</th>\n",
       "      <th>titre</th>\n",
       "      <th>date</th>\n",
       "    </tr>\n",
       "  </thead>\n",
       "  <tbody>\n",
       "    <tr>\n",
       "      <th>351</th>\n",
       "      <td>http://clementgrimal.fr/darwin/files/2017-07-0...</td>\n",
       "      <td>https://www.franceinter.fr/emissions/sur-les-e...</td>\n",
       "      <td>Dans les abysses</td>\n",
       "      <td>1 Juillet 2017</td>\n",
       "    </tr>\n",
       "    <tr>\n",
       "      <th>352</th>\n",
       "      <td>http://clementgrimal.fr/darwin/files/2017-07-0...</td>\n",
       "      <td>https://www.franceinter.fr/emissions/sur-les-e...</td>\n",
       "      <td>Naissance d'un mythe</td>\n",
       "      <td>8 Juillet 2017</td>\n",
       "    </tr>\n",
       "    <tr>\n",
       "      <th>353</th>\n",
       "      <td>http://clementgrimal.fr/darwin/files/2017-07-1...</td>\n",
       "      <td>https://www.franceinter.fr/emissions/sur-les-e...</td>\n",
       "      <td>A la rencontre de la pensée chinoise (1)</td>\n",
       "      <td>15 Juillet 2017</td>\n",
       "    </tr>\n",
       "    <tr>\n",
       "      <th>354</th>\n",
       "      <td>http://clementgrimal.fr/darwin/files/2017-07-2...</td>\n",
       "      <td>https://www.franceinter.fr/emissions/sur-les-e...</td>\n",
       "      <td>A la rencontre de la pensée chinoise (2)</td>\n",
       "      <td>22 Juillet 2017</td>\n",
       "    </tr>\n",
       "    <tr>\n",
       "      <th>355</th>\n",
       "      <td>http://clementgrimal.fr/darwin/files/2017-07-2...</td>\n",
       "      <td>https://www.franceinter.fr/emissions/sur-les-e...</td>\n",
       "      <td>Déluges</td>\n",
       "      <td>29 Juillet 2017</td>\n",
       "    </tr>\n",
       "    <tr>\n",
       "      <th>356</th>\n",
       "      <td>http://clementgrimal.fr/darwin/files/2017-08-0...</td>\n",
       "      <td>https://www.franceinter.fr/emissions/sur-les-e...</td>\n",
       "      <td>Le passage du Nord-Ouest</td>\n",
       "      <td>5 Août 2017</td>\n",
       "    </tr>\n",
       "    <tr>\n",
       "      <th>357</th>\n",
       "      <td>http://clementgrimal.fr/darwin/files/2017-08-1...</td>\n",
       "      <td>https://www.franceinter.fr/emissions/sur-les-e...</td>\n",
       "      <td>La faille de Cascadia</td>\n",
       "      <td>12 Août 2017</td>\n",
       "    </tr>\n",
       "    <tr>\n",
       "      <th>358</th>\n",
       "      <td>http://clementgrimal.fr/darwin/files/2017-08-1...</td>\n",
       "      <td>https://www.franceinter.fr/emissions/sur-les-e...</td>\n",
       "      <td>Le mystérieux tsunami de 1700 au Japon</td>\n",
       "      <td>19 Août 2017</td>\n",
       "    </tr>\n",
       "    <tr>\n",
       "      <th>359</th>\n",
       "      <td>http://clementgrimal.fr/darwin/files/2017-08-2...</td>\n",
       "      <td>https://www.franceinter.fr/emissions/sur-les-e...</td>\n",
       "      <td>Des récits et des masques</td>\n",
       "      <td>26 Août 2017</td>\n",
       "    </tr>\n",
       "    <tr>\n",
       "      <th>360</th>\n",
       "      <td>http://clementgrimal.fr/darwin/files/2017-09-0...</td>\n",
       "      <td>https://www.franceinter.fr/emissions/sur-les-e...</td>\n",
       "      <td>Clotho et le fil de la vie</td>\n",
       "      <td>2 Septembre 2017</td>\n",
       "    </tr>\n",
       "  </tbody>\n",
       "</table>\n",
       "</div>"
      ],
      "text/plain": [
       "                                              lien mp3  \\\n",
       "351  http://clementgrimal.fr/darwin/files/2017-07-0...   \n",
       "352  http://clementgrimal.fr/darwin/files/2017-07-0...   \n",
       "353  http://clementgrimal.fr/darwin/files/2017-07-1...   \n",
       "354  http://clementgrimal.fr/darwin/files/2017-07-2...   \n",
       "355  http://clementgrimal.fr/darwin/files/2017-07-2...   \n",
       "356  http://clementgrimal.fr/darwin/files/2017-08-0...   \n",
       "357  http://clementgrimal.fr/darwin/files/2017-08-1...   \n",
       "358  http://clementgrimal.fr/darwin/files/2017-08-1...   \n",
       "359  http://clementgrimal.fr/darwin/files/2017-08-2...   \n",
       "360  http://clementgrimal.fr/darwin/files/2017-09-0...   \n",
       "\n",
       "                                      lien description  \\\n",
       "351  https://www.franceinter.fr/emissions/sur-les-e...   \n",
       "352  https://www.franceinter.fr/emissions/sur-les-e...   \n",
       "353  https://www.franceinter.fr/emissions/sur-les-e...   \n",
       "354  https://www.franceinter.fr/emissions/sur-les-e...   \n",
       "355  https://www.franceinter.fr/emissions/sur-les-e...   \n",
       "356  https://www.franceinter.fr/emissions/sur-les-e...   \n",
       "357  https://www.franceinter.fr/emissions/sur-les-e...   \n",
       "358  https://www.franceinter.fr/emissions/sur-les-e...   \n",
       "359  https://www.franceinter.fr/emissions/sur-les-e...   \n",
       "360  https://www.franceinter.fr/emissions/sur-les-e...   \n",
       "\n",
       "                                        titre              date  \n",
       "351                          Dans les abysses    1 Juillet 2017  \n",
       "352                      Naissance d'un mythe    8 Juillet 2017  \n",
       "353  A la rencontre de la pensée chinoise (1)   15 Juillet 2017  \n",
       "354  A la rencontre de la pensée chinoise (2)   22 Juillet 2017  \n",
       "355                                   Déluges   29 Juillet 2017  \n",
       "356                  Le passage du Nord-Ouest       5 Août 2017  \n",
       "357                     La faille de Cascadia      12 Août 2017  \n",
       "358    Le mystérieux tsunami de 1700 au Japon      19 Août 2017  \n",
       "359                 Des récits et des masques      26 Août 2017  \n",
       "360                Clotho et le fil de la vie  2 Septembre 2017  "
      ]
     },
     "execution_count": 16,
     "metadata": {},
     "output_type": "execute_result"
    }
   ],
   "source": [
    "df.tail(10)"
   ]
  },
  {
   "cell_type": "code",
   "execution_count": 17,
   "metadata": {},
   "outputs": [
    {
     "data": {
      "text/html": [
       "<div>\n",
       "<style>\n",
       "    .dataframe thead tr:only-child th {\n",
       "        text-align: right;\n",
       "    }\n",
       "\n",
       "    .dataframe thead th {\n",
       "        text-align: left;\n",
       "    }\n",
       "\n",
       "    .dataframe tbody tr th {\n",
       "        vertical-align: top;\n",
       "    }\n",
       "</style>\n",
       "<table border=\"1\" class=\"dataframe\">\n",
       "  <thead>\n",
       "    <tr style=\"text-align: right;\">\n",
       "      <th></th>\n",
       "      <th>lien mp3</th>\n",
       "      <th>lien description</th>\n",
       "      <th>titre</th>\n",
       "      <th>date</th>\n",
       "    </tr>\n",
       "  </thead>\n",
       "  <tbody>\n",
       "    <tr>\n",
       "      <th>count</th>\n",
       "      <td>361</td>\n",
       "      <td>361</td>\n",
       "      <td>361</td>\n",
       "      <td>361</td>\n",
       "    </tr>\n",
       "    <tr>\n",
       "      <th>unique</th>\n",
       "      <td>361</td>\n",
       "      <td>361</td>\n",
       "      <td>289</td>\n",
       "      <td>361</td>\n",
       "    </tr>\n",
       "    <tr>\n",
       "      <th>top</th>\n",
       "      <td>http://clementgrimal.fr/darwin/files/2017-06-1...</td>\n",
       "      <td>https://www.franceinter.fr/emissions/sur-les-e...</td>\n",
       "      <td>Le souci de l'autre</td>\n",
       "      <td>4 Janvier 2014</td>\n",
       "    </tr>\n",
       "    <tr>\n",
       "      <th>freq</th>\n",
       "      <td>1</td>\n",
       "      <td>1</td>\n",
       "      <td>3</td>\n",
       "      <td>1</td>\n",
       "    </tr>\n",
       "  </tbody>\n",
       "</table>\n",
       "</div>"
      ],
      "text/plain": [
       "                                                 lien mp3  \\\n",
       "count                                                 361   \n",
       "unique                                                361   \n",
       "top     http://clementgrimal.fr/darwin/files/2017-06-1...   \n",
       "freq                                                    1   \n",
       "\n",
       "                                         lien description  \\\n",
       "count                                                 361   \n",
       "unique                                                361   \n",
       "top     https://www.franceinter.fr/emissions/sur-les-e...   \n",
       "freq                                                    1   \n",
       "\n",
       "                      titre            date  \n",
       "count                   361             361  \n",
       "unique                  289             361  \n",
       "top     Le souci de l'autre  4 Janvier 2014  \n",
       "freq                      3               1  "
      ]
     },
     "execution_count": 17,
     "metadata": {},
     "output_type": "execute_result"
    }
   ],
   "source": [
    "df.describe()"
   ]
  },
  {
   "cell_type": "markdown",
   "metadata": {},
   "source": [
    "Nous voilà maintenant en possession des liens vers 361 épisodes publiés sur le site de Clément Grimal. On remarque que certaines d'entre elles sont des rediffusions (289 épisodes uniques sur 361). "
   ]
  },
  {
   "cell_type": "markdown",
   "metadata": {},
   "source": [
    "Téléchargeons maintenant les descriptions des émissions."
   ]
  },
  {
   "cell_type": "markdown",
   "metadata": {},
   "source": [
    "# Téléchargement des descriptions à partir du site de France Inter "
   ]
  },
  {
   "cell_type": "markdown",
   "metadata": {},
   "source": [
    "Nous avons les liens vers les descriptions : il suffit donc de lire la page de chaque émission et d'en extraire le contenu intéressant."
   ]
  },
  {
   "cell_type": "code",
   "execution_count": 18,
   "metadata": {},
   "outputs": [
    {
     "data": {
      "text/plain": [
       "'http://www.franceinter.fr/em/sur-les-epaules-de-darwin/94428'"
      ]
     },
     "execution_count": 18,
     "metadata": {},
     "output_type": "execute_result"
    }
   ],
   "source": [
    "link = df['lien description'][0]\n",
    "link"
   ]
  },
  {
   "cell_type": "code",
   "execution_count": 19,
   "metadata": {},
   "outputs": [],
   "source": [
    "soup = BeautifulSoup(requests.get(link).text, 'html.parser')"
   ]
  },
  {
   "cell_type": "code",
   "execution_count": 20,
   "metadata": {},
   "outputs": [
    {
     "data": {
      "text/plain": [
       "<article class=\"content-body\"><p><strong>Bibliographie:</strong></p><p><strong>L'origine des espèces de Charles Darwin aux Editions Flammarion Origines,</strong></p><div class=\"onf-ad\" id=\"sas_28990\"></div><script type=\"text/javascript\">\n",
       "    window._sasFormats = window._sasFormats || [];\n",
       "\n",
       "    window._sasFormats.push(function() {\n",
       "        window.sas.call('std', {\n",
       "            siteId:70662,\n",
       "            pageId:537605,\n",
       "            formatId:28990,\n",
       "            target: 'Culture'\n",
       "        });\n",
       "    });\n",
       "</script><p><strong>Lettres choisies (1828-1859)de Charles Darwin traduit de l'anglais par Mickael Popelard préface de Stefen Jay Gould aux Editions Bayard</strong></p><p><strong>L'expression des émotions chez les hommes et les animaux de Charles Darwin aux Editions Rivages</strong></p><p><strong>La lettre volée, d'Edgar Allan Poe, Ed Folio Gallimard</strong></p><p><strong>La mal-mesure de l'homme de Stephen Jay Gould aux Editions Odile Jacob</strong></p><p><strong>Identité et violence: l'illusion du destin d'Amartya Sen aux editions Odile Jacob</strong></p><p><strong>\"Dans la Lumière et les Ombres. Darwin et le bouleversement du monde\" de Jean-Claude Ameisen aux Editions Fayard / Seuil</strong></p><h3><strong>invité(s)</strong></h3><h3><strong>Charles Darwin 1809-1882</strong></h3><h3><strong>programmation musicale</strong></h3><h3><strong>Benjamin Biolay</strong></h3><p><strong>Si tu suis mon regard album: LA SUPERBElabel: NAIVE RECORDSparution: 2010</strong></p><h3><strong>Jane Birkin</strong></h3><p><strong>Apocalypstick album: EX FAN DES SIXTIESlabel: FONTANAparution: 1978</strong></p><h3><strong>Luke</strong></h3><p><strong>LE ROBOT album: LE ROBOTlabel: JIVE EPIC / SONYparution: 2010</strong></p><h3><strong>Cat power</strong></h3><p><strong>THE GREATEST album: THE GREATESTlabel: MATADORparution: 2006</strong></p><h3><strong>Amparo Sanchez et Omara Portuondo</strong></h3><p><strong>La parrandita de las santas album: TUCSON HABANAlabel: VIA LACTEA RECORDSparution: 2010</strong></p></article>"
      ]
     },
     "execution_count": 20,
     "metadata": {},
     "output_type": "execute_result"
    }
   ],
   "source": [
    "article = soup.find('article')\n",
    "article"
   ]
  },
  {
   "cell_type": "code",
   "execution_count": 21,
   "metadata": {},
   "outputs": [
    {
     "data": {
      "text/plain": [
       "<script type=\"text/javascript\">\n",
       "    window._sasFormats = window._sasFormats || [];\n",
       "\n",
       "    window._sasFormats.push(function() {\n",
       "        window.sas.call('std', {\n",
       "            siteId:70662,\n",
       "            pageId:537605,\n",
       "            formatId:28990,\n",
       "            target: 'Culture'\n",
       "        });\n",
       "    });\n",
       "</script>"
      ]
     },
     "execution_count": 21,
     "metadata": {},
     "output_type": "execute_result"
    }
   ],
   "source": [
    "article.find('script').extract()"
   ]
  },
  {
   "cell_type": "code",
   "execution_count": 22,
   "metadata": {},
   "outputs": [
    {
     "data": {
      "text/plain": [
       "'Bibliographie:\\nL\\'origine des espèces de Charles Darwin aux Editions Flammarion Origines,\\nLettres choisies (1828-1859)de Charles Darwin traduit de l\\'anglais par Mickael Popelard préface de Stefen Jay Gould aux Editions Bayard\\nL\\'expression des émotions chez les hommes et les animaux de Charles Darwin aux Editions Rivages\\nLa lettre volée, d\\'Edgar Allan Poe, Ed Folio Gallimard\\nLa mal-mesure de l\\'homme de Stephen Jay Gould aux Editions Odile Jacob\\nIdentité et violence: l\\'illusion du destin d\\'Amartya Sen aux editions Odile Jacob\\n\"Dans la Lumière et les Ombres. Darwin et le bouleversement du monde\" de Jean-Claude Ameisen aux Editions Fayard / Seuil\\ninvité(s)\\nCharles Darwin 1809-1882\\nprogrammation musicale\\nBenjamin Biolay\\nSi tu suis mon regard album: LA SUPERBElabel: NAIVE RECORDSparution: 2010\\nJane Birkin\\nApocalypstick album: EX FAN DES SIXTIESlabel: FONTANAparution: 1978\\nLuke\\nLE ROBOT album: LE ROBOTlabel: JIVE EPIC / SONYparution: 2010\\nCat power\\nTHE GREATEST album: THE GREATESTlabel: MATADORparution: 2006\\nAmparo Sanchez et Omara Portuondo\\nLa parrandita de las santas album: TUCSON HABANAlabel: VIA LACTEA RECORDSparution: 2010'"
      ]
     },
     "execution_count": 22,
     "metadata": {},
     "output_type": "execute_result"
    }
   ],
   "source": [
    "\"\\n\".join(article.strings)"
   ]
  },
  {
   "cell_type": "code",
   "execution_count": 23,
   "metadata": {
    "collapsed": true
   },
   "outputs": [],
   "source": [
    "import tqdm"
   ]
  },
  {
   "cell_type": "code",
   "execution_count": 24,
   "metadata": {},
   "outputs": [
    {
     "name": "stderr",
     "output_type": "stream",
     "text": [
      "100%|██████████| 361/361 [01:48<00:00,  3.94it/s]\n"
     ]
    }
   ],
   "source": [
    "descriptions = []\n",
    "for description_link in tqdm.tqdm(df['lien description']):\n",
    "    soup = BeautifulSoup(requests.get(description_link).text, 'html.parser')\n",
    "    article = soup.find('article')\n",
    "    script = article.find('script')\n",
    "    if script:\n",
    "        script.extract()\n",
    "    descriptions.append(\"\\n\".join(article.strings))"
   ]
  },
  {
   "cell_type": "code",
   "execution_count": 25,
   "metadata": {
    "collapsed": true
   },
   "outputs": [],
   "source": [
    "df['description'] = descriptions"
   ]
  },
  {
   "cell_type": "code",
   "execution_count": 26,
   "metadata": {},
   "outputs": [
    {
     "data": {
      "text/html": [
       "<div>\n",
       "<style>\n",
       "    .dataframe thead tr:only-child th {\n",
       "        text-align: right;\n",
       "    }\n",
       "\n",
       "    .dataframe thead th {\n",
       "        text-align: left;\n",
       "    }\n",
       "\n",
       "    .dataframe tbody tr th {\n",
       "        vertical-align: top;\n",
       "    }\n",
       "</style>\n",
       "<table border=\"1\" class=\"dataframe\">\n",
       "  <thead>\n",
       "    <tr style=\"text-align: right;\">\n",
       "      <th></th>\n",
       "      <th>lien mp3</th>\n",
       "      <th>lien description</th>\n",
       "      <th>titre</th>\n",
       "      <th>date</th>\n",
       "      <th>description</th>\n",
       "    </tr>\n",
       "  </thead>\n",
       "  <tbody>\n",
       "    <tr>\n",
       "      <th>0</th>\n",
       "      <td>http://prevost.pascal.free.fr/public/podcast/s...</td>\n",
       "      <td>http://www.franceinter.fr/em/sur-les-epaules-d...</td>\n",
       "      <td>La théorie de l'évolution de Charles Darwin</td>\n",
       "      <td>4 Septembre 2010</td>\n",
       "      <td>Bibliographie:\\nL'origine des espèces de Charl...</td>\n",
       "    </tr>\n",
       "    <tr>\n",
       "      <th>1</th>\n",
       "      <td>http://prevost.pascal.free.fr/public/podcast/s...</td>\n",
       "      <td>http://www.franceinter.fr/em/sur-les-epaules-d...</td>\n",
       "      <td>Le propre de l'homme?</td>\n",
       "      <td>11 Septembre 2010</td>\n",
       "      <td>programmation musicale\\nSTAFF BENDA BILILI\\nSa...</td>\n",
       "    </tr>\n",
       "    <tr>\n",
       "      <th>2</th>\n",
       "      <td>http://prevost.pascal.free.fr/public/podcast/s...</td>\n",
       "      <td>http://www.franceinter.fr/em/sur-les-epaules-d...</td>\n",
       "      <td>Nos mémoires</td>\n",
       "      <td>18 Septembre 2010</td>\n",
       "      <td>programmation musicale\\nIggy POP\\nKing of the ...</td>\n",
       "    </tr>\n",
       "    <tr>\n",
       "      <th>3</th>\n",
       "      <td>http://prevost.pascal.free.fr/public/podcast/s...</td>\n",
       "      <td>http://www.franceinter.fr/em/sur-les-epaules-d...</td>\n",
       "      <td>Nos émotions</td>\n",
       "      <td>25 Septembre 2010</td>\n",
       "      <td>programmation musicale\\nEMILY LOISEAU\\nL'autre...</td>\n",
       "    </tr>\n",
       "    <tr>\n",
       "      <th>4</th>\n",
       "      <td>http://prevost.pascal.free.fr/public/podcast/s...</td>\n",
       "      <td>http://www.franceinter.fr/em/sur-les-epaules-d...</td>\n",
       "      <td>Longévité, jeunesse et vieillissement</td>\n",
       "      <td>2 Octobre 2010</td>\n",
       "      <td>programmation musicale\\nBonga\\nMona ki gni xiç...</td>\n",
       "    </tr>\n",
       "    <tr>\n",
       "      <th>5</th>\n",
       "      <td>http://prevost.pascal.free.fr/public/podcast/s...</td>\n",
       "      <td>http://www.franceinter.fr/em/sur-les-epaules-d...</td>\n",
       "      <td>MORT CELLULAIRE ET SCULPTURE DU VIVANT</td>\n",
       "      <td>9 Octobre 2010</td>\n",
       "      <td>programmation musicale\\nNouvelle vague / Camil...</td>\n",
       "    </tr>\n",
       "    <tr>\n",
       "      <th>6</th>\n",
       "      <td>http://prevost.pascal.free.fr/public/podcast/s...</td>\n",
       "      <td>http://www.franceinter.fr/em/sur-les-epaules-d...</td>\n",
       "      <td>NAISSANCES</td>\n",
       "      <td>16 Octobre 2010</td>\n",
       "      <td>invité(s)\\nRené Frydman\\nChef du Pôle Mère-Enf...</td>\n",
       "    </tr>\n",
       "    <tr>\n",
       "      <th>7</th>\n",
       "      <td>http://prevost.pascal.free.fr/public/podcast/s...</td>\n",
       "      <td>http://www.franceinter.fr/em/sur-les-epaules-d...</td>\n",
       "      <td>Biodiversité</td>\n",
       "      <td>23 Octobre 2010</td>\n",
       "      <td>\"L'infinité des formes les plus belles et les ...</td>\n",
       "    </tr>\n",
       "    <tr>\n",
       "      <th>8</th>\n",
       "      <td>http://prevost.pascal.free.fr/public/podcast/s...</td>\n",
       "      <td>http://www.franceinter.fr/em/sur-les-epaules-d...</td>\n",
       "      <td>mort cellulaire et sculpture du vivant (2)</td>\n",
       "      <td>30 Octobre 2010</td>\n",
       "      <td>« Nous ne nous baignons pas deux fois dans le ...</td>\n",
       "    </tr>\n",
       "    <tr>\n",
       "      <th>9</th>\n",
       "      <td>http://prevost.pascal.free.fr/public/podcast/s...</td>\n",
       "      <td>http://www.franceinter.fr/em/sur-les-epaules-d...</td>\n",
       "      <td>Un voyage avec Oliver Sacks         ( 1 )</td>\n",
       "      <td>6 Novembre 2010</td>\n",
       "      <td>A la rencontre de la singularité de nos mondes...</td>\n",
       "    </tr>\n",
       "  </tbody>\n",
       "</table>\n",
       "</div>"
      ],
      "text/plain": [
       "                                            lien mp3  \\\n",
       "0  http://prevost.pascal.free.fr/public/podcast/s...   \n",
       "1  http://prevost.pascal.free.fr/public/podcast/s...   \n",
       "2  http://prevost.pascal.free.fr/public/podcast/s...   \n",
       "3  http://prevost.pascal.free.fr/public/podcast/s...   \n",
       "4  http://prevost.pascal.free.fr/public/podcast/s...   \n",
       "5  http://prevost.pascal.free.fr/public/podcast/s...   \n",
       "6  http://prevost.pascal.free.fr/public/podcast/s...   \n",
       "7  http://prevost.pascal.free.fr/public/podcast/s...   \n",
       "8  http://prevost.pascal.free.fr/public/podcast/s...   \n",
       "9  http://prevost.pascal.free.fr/public/podcast/s...   \n",
       "\n",
       "                                    lien description  \\\n",
       "0  http://www.franceinter.fr/em/sur-les-epaules-d...   \n",
       "1  http://www.franceinter.fr/em/sur-les-epaules-d...   \n",
       "2  http://www.franceinter.fr/em/sur-les-epaules-d...   \n",
       "3  http://www.franceinter.fr/em/sur-les-epaules-d...   \n",
       "4  http://www.franceinter.fr/em/sur-les-epaules-d...   \n",
       "5  http://www.franceinter.fr/em/sur-les-epaules-d...   \n",
       "6  http://www.franceinter.fr/em/sur-les-epaules-d...   \n",
       "7  http://www.franceinter.fr/em/sur-les-epaules-d...   \n",
       "8  http://www.franceinter.fr/em/sur-les-epaules-d...   \n",
       "9  http://www.franceinter.fr/em/sur-les-epaules-d...   \n",
       "\n",
       "                                         titre               date  \\\n",
       "0  La théorie de l'évolution de Charles Darwin   4 Septembre 2010   \n",
       "1                        Le propre de l'homme?  11 Septembre 2010   \n",
       "2                                 Nos mémoires  18 Septembre 2010   \n",
       "3                                 Nos émotions  25 Septembre 2010   \n",
       "4        Longévité, jeunesse et vieillissement     2 Octobre 2010   \n",
       "5       MORT CELLULAIRE ET SCULPTURE DU VIVANT     9 Octobre 2010   \n",
       "6                                   NAISSANCES    16 Octobre 2010   \n",
       "7                                 Biodiversité    23 Octobre 2010   \n",
       "8   mort cellulaire et sculpture du vivant (2)    30 Octobre 2010   \n",
       "9    Un voyage avec Oliver Sacks         ( 1 )    6 Novembre 2010   \n",
       "\n",
       "                                         description  \n",
       "0  Bibliographie:\\nL'origine des espèces de Charl...  \n",
       "1  programmation musicale\\nSTAFF BENDA BILILI\\nSa...  \n",
       "2  programmation musicale\\nIggy POP\\nKing of the ...  \n",
       "3  programmation musicale\\nEMILY LOISEAU\\nL'autre...  \n",
       "4  programmation musicale\\nBonga\\nMona ki gni xiç...  \n",
       "5  programmation musicale\\nNouvelle vague / Camil...  \n",
       "6  invité(s)\\nRené Frydman\\nChef du Pôle Mère-Enf...  \n",
       "7  \"L'infinité des formes les plus belles et les ...  \n",
       "8  « Nous ne nous baignons pas deux fois dans le ...  \n",
       "9  A la rencontre de la singularité de nos mondes...  "
      ]
     },
     "execution_count": 26,
     "metadata": {},
     "output_type": "execute_result"
    }
   ],
   "source": [
    "df.head(10)"
   ]
  },
  {
   "cell_type": "code",
   "execution_count": null,
   "metadata": {},
   "outputs": [
    {
     "data": {
      "text/html": [
       "<div>\n",
       "<style>\n",
       "    .dataframe thead tr:only-child th {\n",
       "        text-align: right;\n",
       "    }\n",
       "\n",
       "    .dataframe thead th {\n",
       "        text-align: left;\n",
       "    }\n",
       "\n",
       "    .dataframe tbody tr th {\n",
       "        vertical-align: top;\n",
       "    }\n",
       "</style>\n",
       "<table border=\"1\" class=\"dataframe\">\n",
       "  <thead>\n",
       "    <tr style=\"text-align: right;\">\n",
       "      <th></th>\n",
       "      <th>lien mp3</th>\n",
       "      <th>lien description</th>\n",
       "      <th>titre</th>\n",
       "      <th>date</th>\n",
       "      <th>description</th>\n",
       "    </tr>\n",
       "  </thead>\n",
       "  <tbody>\n",
       "    <tr>\n",
       "      <th>351</th>\n",
       "      <td>http://clementgrimal.fr/darwin/files/2017-07-0...</td>\n",
       "      <td>https://www.franceinter.fr/emissions/sur-les-e...</td>\n",
       "      <td>Dans les abysses</td>\n",
       "      <td>1 Juillet 2017</td>\n",
       "      <td>\\n            Dans les abysses\\n        \\nPlon...</td>\n",
       "    </tr>\n",
       "    <tr>\n",
       "      <th>352</th>\n",
       "      <td>http://clementgrimal.fr/darwin/files/2017-07-0...</td>\n",
       "      <td>https://www.franceinter.fr/emissions/sur-les-e...</td>\n",
       "      <td>Naissance d'un mythe</td>\n",
       "      <td>8 Juillet 2017</td>\n",
       "      <td>\\n            Naissance d'un mythe\\n        \\n...</td>\n",
       "    </tr>\n",
       "    <tr>\n",
       "      <th>353</th>\n",
       "      <td>http://clementgrimal.fr/darwin/files/2017-07-1...</td>\n",
       "      <td>https://www.franceinter.fr/emissions/sur-les-e...</td>\n",
       "      <td>A la rencontre de la pensée chinoise (1)</td>\n",
       "      <td>15 Juillet 2017</td>\n",
       "      <td>\\n            A la rencontre de la pensée chin...</td>\n",
       "    </tr>\n",
       "    <tr>\n",
       "      <th>354</th>\n",
       "      <td>http://clementgrimal.fr/darwin/files/2017-07-2...</td>\n",
       "      <td>https://www.franceinter.fr/emissions/sur-les-e...</td>\n",
       "      <td>A la rencontre de la pensée chinoise (2)</td>\n",
       "      <td>22 Juillet 2017</td>\n",
       "      <td>\\n            A la rencontre de la pensée chin...</td>\n",
       "    </tr>\n",
       "    <tr>\n",
       "      <th>355</th>\n",
       "      <td>http://clementgrimal.fr/darwin/files/2017-07-2...</td>\n",
       "      <td>https://www.franceinter.fr/emissions/sur-les-e...</td>\n",
       "      <td>Déluges</td>\n",
       "      <td>29 Juillet 2017</td>\n",
       "      <td>\\n            Déluges\\n        \\nCette émissio...</td>\n",
       "    </tr>\n",
       "    <tr>\n",
       "      <th>356</th>\n",
       "      <td>http://clementgrimal.fr/darwin/files/2017-08-0...</td>\n",
       "      <td>https://www.franceinter.fr/emissions/sur-les-e...</td>\n",
       "      <td>Le passage du Nord-Ouest</td>\n",
       "      <td>5 Août 2017</td>\n",
       "      <td>\\n            Le passage du Nord-Ouest\\n      ...</td>\n",
       "    </tr>\n",
       "    <tr>\n",
       "      <th>357</th>\n",
       "      <td>http://clementgrimal.fr/darwin/files/2017-08-1...</td>\n",
       "      <td>https://www.franceinter.fr/emissions/sur-les-e...</td>\n",
       "      <td>La faille de Cascadia</td>\n",
       "      <td>12 Août 2017</td>\n",
       "      <td>\\n            La faille de Cascadia\\n        \\...</td>\n",
       "    </tr>\n",
       "    <tr>\n",
       "      <th>358</th>\n",
       "      <td>http://clementgrimal.fr/darwin/files/2017-08-1...</td>\n",
       "      <td>https://www.franceinter.fr/emissions/sur-les-e...</td>\n",
       "      <td>Le mystérieux tsunami de 1700 au Japon</td>\n",
       "      <td>19 Août 2017</td>\n",
       "      <td>\\n            Le mystérieux tsunami de 1700 au...</td>\n",
       "    </tr>\n",
       "    <tr>\n",
       "      <th>359</th>\n",
       "      <td>http://clementgrimal.fr/darwin/files/2017-08-2...</td>\n",
       "      <td>https://www.franceinter.fr/emissions/sur-les-e...</td>\n",
       "      <td>Des récits et des masques</td>\n",
       "      <td>26 Août 2017</td>\n",
       "      <td>\\n            Des récits et des masques\\n     ...</td>\n",
       "    </tr>\n",
       "    <tr>\n",
       "      <th>360</th>\n",
       "      <td>http://clementgrimal.fr/darwin/files/2017-09-0...</td>\n",
       "      <td>https://www.franceinter.fr/emissions/sur-les-e...</td>\n",
       "      <td>Clotho et le fil de la vie</td>\n",
       "      <td>2 Septembre 2017</td>\n",
       "      <td>\\n            Clotho et le fil de la vie.\\n   ...</td>\n",
       "    </tr>\n",
       "  </tbody>\n",
       "</table>\n",
       "</div>"
      ],
      "text/plain": [
       "                                              lien mp3  \\\n",
       "351  http://clementgrimal.fr/darwin/files/2017-07-0...   \n",
       "352  http://clementgrimal.fr/darwin/files/2017-07-0...   \n",
       "353  http://clementgrimal.fr/darwin/files/2017-07-1...   \n",
       "354  http://clementgrimal.fr/darwin/files/2017-07-2...   \n",
       "355  http://clementgrimal.fr/darwin/files/2017-07-2...   \n",
       "356  http://clementgrimal.fr/darwin/files/2017-08-0...   \n",
       "357  http://clementgrimal.fr/darwin/files/2017-08-1...   \n",
       "358  http://clementgrimal.fr/darwin/files/2017-08-1...   \n",
       "359  http://clementgrimal.fr/darwin/files/2017-08-2...   \n",
       "360  http://clementgrimal.fr/darwin/files/2017-09-0...   \n",
       "\n",
       "                                      lien description  \\\n",
       "351  https://www.franceinter.fr/emissions/sur-les-e...   \n",
       "352  https://www.franceinter.fr/emissions/sur-les-e...   \n",
       "353  https://www.franceinter.fr/emissions/sur-les-e...   \n",
       "354  https://www.franceinter.fr/emissions/sur-les-e...   \n",
       "355  https://www.franceinter.fr/emissions/sur-les-e...   \n",
       "356  https://www.franceinter.fr/emissions/sur-les-e...   \n",
       "357  https://www.franceinter.fr/emissions/sur-les-e...   \n",
       "358  https://www.franceinter.fr/emissions/sur-les-e...   \n",
       "359  https://www.franceinter.fr/emissions/sur-les-e...   \n",
       "360  https://www.franceinter.fr/emissions/sur-les-e...   \n",
       "\n",
       "                                        titre              date  \\\n",
       "351                          Dans les abysses    1 Juillet 2017   \n",
       "352                      Naissance d'un mythe    8 Juillet 2017   \n",
       "353  A la rencontre de la pensée chinoise (1)   15 Juillet 2017   \n",
       "354  A la rencontre de la pensée chinoise (2)   22 Juillet 2017   \n",
       "355                                   Déluges   29 Juillet 2017   \n",
       "356                  Le passage du Nord-Ouest       5 Août 2017   \n",
       "357                     La faille de Cascadia      12 Août 2017   \n",
       "358    Le mystérieux tsunami de 1700 au Japon      19 Août 2017   \n",
       "359                 Des récits et des masques      26 Août 2017   \n",
       "360                Clotho et le fil de la vie  2 Septembre 2017   \n",
       "\n",
       "                                           description  \n",
       "351  \\n            Dans les abysses\\n        \\nPlon...  \n",
       "352  \\n            Naissance d'un mythe\\n        \\n...  \n",
       "353  \\n            A la rencontre de la pensée chin...  \n",
       "354  \\n            A la rencontre de la pensée chin...  \n",
       "355  \\n            Déluges\\n        \\nCette émissio...  \n",
       "356  \\n            Le passage du Nord-Ouest\\n      ...  \n",
       "357  \\n            La faille de Cascadia\\n        \\...  \n",
       "358  \\n            Le mystérieux tsunami de 1700 au...  \n",
       "359  \\n            Des récits et des masques\\n     ...  \n",
       "360  \\n            Clotho et le fil de la vie.\\n   ...  "
      ]
     },
     "execution_count": 27,
     "metadata": {},
     "output_type": "execute_result"
    }
   ],
   "source": [
    "df.tail(10)"
   ]
  },
  {
   "cell_type": "markdown",
   "metadata": {},
   "source": [
    "# Taille des fichiers mp3 "
   ]
  },
  {
   "cell_type": "markdown",
   "metadata": {},
   "source": [
    "Il nous manque encore la récupération des tailles de fichier mp3, qui sera inscrite dans le flux RSS :"
   ]
  },
  {
   "cell_type": "code",
   "execution_count": null,
   "metadata": {},
   "outputs": [
    {
     "name": "stderr",
     "output_type": "stream",
     "text": [
      " 66%|██████▌   | 238/361 [00:09<00:07, 16.34it/s]"
     ]
    }
   ],
   "source": [
    "byte_lengths = []\n",
    "for mp3_link in tqdm.tqdm(df['lien mp3']):\n",
    "    r = requests.head(mp3_link)\n",
    "    byte_lengths.append(r.headers['content-length'])"
   ]
  },
  {
   "cell_type": "code",
   "execution_count": null,
   "metadata": {
    "collapsed": true
   },
   "outputs": [],
   "source": [
    "df['byte_length'] = byte_lengths"
   ]
  },
  {
   "cell_type": "code",
   "execution_count": null,
   "metadata": {},
   "outputs": [],
   "source": [
    "df.head()"
   ]
  },
  {
   "cell_type": "markdown",
   "metadata": {},
   "source": [
    "# Ecriture du fichier RSS "
   ]
  },
  {
   "cell_type": "markdown",
   "metadata": {},
   "source": [
    "Maintenant que nous avons collecté toutes les émissions, nous pouvons écrire un ficher RSS, comme nous l'avions déjà fait [dans le cas de l'émission Rendez vous avec X](http://flothesof.github.io/podcast-rendez-vous-avec-X-fr.html)."
   ]
  },
  {
   "cell_type": "code",
   "execution_count": null,
   "metadata": {
    "collapsed": true
   },
   "outputs": [],
   "source": [
    "import dateparser"
   ]
  },
  {
   "cell_type": "code",
   "execution_count": null,
   "metadata": {},
   "outputs": [],
   "source": [
    "import xml.etree.cElementTree as ET\n",
    "\n",
    "rss = ET.Element(\"rss\", version=\"2.0\")\n",
    "channel = ET.SubElement(rss, \"channel\")\n",
    "title = ET.SubElement(channel, \"title\")\n",
    "title.text = 'Podcast Sur les épaules de Darwin'\n",
    "description = ET.SubElement(channel, \"description\")\n",
    "description.text = \"Podcast inofficiel de l'émission Sur les épaules de Darwin, tiré du site http://clementgrimal.fr/darwin/ et https://www.franceinter.fr/emissions/sur-les-epaules-de-darwin\"\n",
    "for index, row in df.iterrows():\n",
    "    item = ET.SubElement(channel, \"item\")\n",
    "    item_title = ET.SubElement(item, \"title\")\n",
    "    item_title.text = row['titre']\n",
    "    item_description = ET.SubElement(item, \"description\")\n",
    "    item_description.text = row['description']\n",
    "    item_pubdate = ET.SubElement(item, \"pubDate\")\n",
    "    item_pubdate.text = dateparser.parse(row.date).date().strftime('%a, %d %b %Y 11:00:00')\n",
    "    item_enclosure = ET.SubElement(item, \"enclosure\", url='{}'.format(row['lien mp3']),\n",
    "                                   length=row.byte_length,\n",
    "                                  type=\"audio/mpeg\")\n",
    "tree = ET.ElementTree(rss)\n",
    "tree.write(\"files/podcast_Sur_les_epaules_de_Darwin.xml\", encoding='utf-8')"
   ]
  }
 ],
 "metadata": {
  "kernelspec": {
   "display_name": "Python 3",
   "language": "python",
   "name": "python3"
  },
  "language_info": {
   "codemirror_mode": {
    "name": "ipython",
    "version": 3
   },
   "file_extension": ".py",
   "mimetype": "text/x-python",
   "name": "python",
   "nbconvert_exporter": "python",
   "pygments_lexer": "ipython3",
   "version": "3.6.1"
  },
  "toc": {
   "colors": {
    "hover_highlight": "#DAA520",
    "navigate_num": "#000000",
    "navigate_text": "#333333",
    "running_highlight": "#FF0000",
    "selected_highlight": "#FFD700",
    "sidebar_border": "#EEEEEE",
    "wrapper_background": "#FFFFFF"
   },
   "moveMenuLeft": true,
   "nav_menu": {
    "height": "84px",
    "width": "253px"
   },
   "navigate_menu": true,
   "number_sections": true,
   "sideBar": true,
   "threshold": 4,
   "toc_cell": false,
   "toc_section_display": "block",
   "toc_window_display": false,
   "widenNotebook": false
  }
 },
 "nbformat": 4,
 "nbformat_minor": 2
}
