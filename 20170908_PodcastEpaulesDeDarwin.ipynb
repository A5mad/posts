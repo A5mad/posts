{
 "cells": [
  {
   "cell_type": "markdown",
   "metadata": {},
   "source": [
    "Dans ce billet, nous allons [comme il y a quelques semaines](http://flothesof.github.io/podcast-rendez-vous-avec-X-fr.html), construire un flux RSS pour mon émission radio préférée : *Sur les épaules de Darwin*, animée par l'extraordinaire Jean Claude Ameisen.\n",
    "\n",
    "Afin de faire ceci, nous allons partir du [travail de Clément Grimal](http://clementgrimal.fr/darwin/), qui maintient une liste à jour des émissions avec des liens de téléchargement. Une question, avant de commencer. Pourquoi faire ce travail, alors que le site de Clément permet déjà d'écouter à volonté ces émissions ? Tout simplement parce que son site ne permet pas de faire une recherche plein texte sur le contenu des émissions et également parce que j'aime écouter les émissions dans un logiciel de podcast afin de marquer ma progression.\n",
    "\n",
    "Le lien vers le flux RSS généré à partir du présent notebook est ici : **https://raw.githubusercontent.com/flothesof/posts/master/files/podcast_Sur_les_epaules_de_Darwin.xml**."
   ]
  },
  {
   "cell_type": "markdown",
   "metadata": {},
   "source": [
    "# Récupération des liens vers les émissions"
   ]
  },
  {
   "cell_type": "code",
   "execution_count": 1,
   "metadata": {},
   "outputs": [],
   "source": [
    "base_url = \"http://clementgrimal.fr/darwin/\""
   ]
  },
  {
   "cell_type": "code",
   "execution_count": 2,
   "metadata": {},
   "outputs": [],
   "source": [
    "import requests"
   ]
  },
  {
   "cell_type": "code",
   "execution_count": 3,
   "metadata": {},
   "outputs": [],
   "source": [
    "r = requests.get(base_url)\n",
    "r.encoding = 'utf-8'"
   ]
  },
  {
   "cell_type": "markdown",
   "metadata": {},
   "source": [
    "On utilise beautiful soup pour déconstruire le résultat et chercher les différents liens dont nous avons besoin :\n",
    "\n",
    "- titre de l'émission\n",
    "- date de diffusion\n",
    "- lien de téléchargement\n",
    "- lien vers la page du site France Inter (pour en extraire la description de l'émission)"
   ]
  },
  {
   "cell_type": "code",
   "execution_count": 4,
   "metadata": {},
   "outputs": [],
   "source": [
    "from bs4 import BeautifulSoup"
   ]
  },
  {
   "cell_type": "code",
   "execution_count": 5,
   "metadata": {},
   "outputs": [],
   "source": [
    "soup = BeautifulSoup(r.text, 'html.parser')"
   ]
  },
  {
   "cell_type": "markdown",
   "metadata": {},
   "source": [
    "On peut extraire toutes les émissions comme ceci :"
   ]
  },
  {
   "cell_type": "code",
   "execution_count": 6,
   "metadata": {},
   "outputs": [],
   "source": [
    "all_shows = ([item for item in (li.find('table') for li in soup.findAll('li')) if item])"
   ]
  },
  {
   "cell_type": "code",
   "execution_count": 7,
   "metadata": {},
   "outputs": [
    {
     "data": {
      "text/plain": [
       "385"
      ]
     },
     "execution_count": 7,
     "metadata": {},
     "output_type": "execute_result"
    }
   ],
   "source": [
    "len(all_shows)"
   ]
  },
  {
   "cell_type": "markdown",
   "metadata": {},
   "source": [
    "A partir de la première émission, on peut obtenir le lien vers le mp3 ainsi que le site France Inter, de même que le titre et la date de diffusion :"
   ]
  },
  {
   "cell_type": "code",
   "execution_count": 8,
   "metadata": {},
   "outputs": [],
   "source": [
    "show = all_shows[0]"
   ]
  },
  {
   "cell_type": "code",
   "execution_count": 9,
   "metadata": {},
   "outputs": [
    {
     "data": {
      "text/plain": [
       "'http://prevost.pascal.free.fr/public/podcast/sur_les_epaules_de_darwin/Jean-Claude%20Ameisen%20-%20SUR%20LES%20EPAULES%20DE%20DARWIN%2004.09.2010.mp3'"
      ]
     },
     "execution_count": 9,
     "metadata": {},
     "output_type": "execute_result"
    }
   ],
   "source": [
    "show.find('a', class_='download-link').attrs['href'].strip()"
   ]
  },
  {
   "cell_type": "code",
   "execution_count": 10,
   "metadata": {},
   "outputs": [
    {
     "data": {
      "text/plain": [
       "'http://www.franceinter.fr/em/sur-les-epaules-de-darwin/94428'"
      ]
     },
     "execution_count": 10,
     "metadata": {},
     "output_type": "execute_result"
    }
   ],
   "source": [
    "show.find('span').find('a').attrs['href']"
   ]
  },
  {
   "cell_type": "code",
   "execution_count": 11,
   "metadata": {},
   "outputs": [
    {
     "data": {
      "text/plain": [
       "\"La théorie de l'évolution de Charles Darwin\""
      ]
     },
     "execution_count": 11,
     "metadata": {},
     "output_type": "execute_result"
    }
   ],
   "source": [
    "show.find('span').find('a').text"
   ]
  },
  {
   "cell_type": "code",
   "execution_count": 12,
   "metadata": {},
   "outputs": [
    {
     "data": {
      "text/plain": [
       "'4 Septembre 2010'"
      ]
     },
     "execution_count": 12,
     "metadata": {},
     "output_type": "execute_result"
    }
   ],
   "source": [
    "str(show.find('span').find('a').next_sibling)[14:]"
   ]
  },
  {
   "cell_type": "markdown",
   "metadata": {},
   "source": [
    "Ecrivons maintenant une boucle sur tous les épisodes :"
   ]
  },
  {
   "cell_type": "code",
   "execution_count": 13,
   "metadata": {},
   "outputs": [],
   "source": [
    "show_data = []\n",
    "for show in all_shows:\n",
    "    download_link = show.find('a', class_='download-link')\n",
    "    description_link = show.find('span').find('a').attrs['href']\n",
    "    title = show.find('span').find('a').text\n",
    "    date = str(show.find('span').find('a').next_sibling)[14:]\n",
    "    if download_link:\n",
    "        if download_link.attrs['href'].strip().startswith('.'):\n",
    "            download_link = \"http://clementgrimal.fr/darwin\" + download_link.attrs['href'].strip()[1:]\n",
    "        else:\n",
    "            download_link = download_link.attrs['href'].strip()\n",
    "        show_data.append([download_link, description_link, title, date])"
   ]
  },
  {
   "cell_type": "markdown",
   "metadata": {},
   "source": [
    "Construisons un tableau avec ces données :"
   ]
  },
  {
   "cell_type": "code",
   "execution_count": 14,
   "metadata": {},
   "outputs": [],
   "source": [
    "import pandas as pd"
   ]
  },
  {
   "cell_type": "code",
   "execution_count": 15,
   "metadata": {},
   "outputs": [
    {
     "data": {
      "text/html": [
       "<div>\n",
       "<style>\n",
       "    .dataframe thead tr:only-child th {\n",
       "        text-align: right;\n",
       "    }\n",
       "\n",
       "    .dataframe thead th {\n",
       "        text-align: left;\n",
       "    }\n",
       "\n",
       "    .dataframe tbody tr th {\n",
       "        vertical-align: top;\n",
       "    }\n",
       "</style>\n",
       "<table border=\"1\" class=\"dataframe\">\n",
       "  <thead>\n",
       "    <tr style=\"text-align: right;\">\n",
       "      <th></th>\n",
       "      <th>lien mp3</th>\n",
       "      <th>lien description</th>\n",
       "      <th>titre</th>\n",
       "      <th>date</th>\n",
       "    </tr>\n",
       "  </thead>\n",
       "  <tbody>\n",
       "    <tr>\n",
       "      <th>0</th>\n",
       "      <td>http://prevost.pascal.free.fr/public/podcast/s...</td>\n",
       "      <td>http://www.franceinter.fr/em/sur-les-epaules-d...</td>\n",
       "      <td>La théorie de l'évolution de Charles Darwin</td>\n",
       "      <td>4 Septembre 2010</td>\n",
       "    </tr>\n",
       "    <tr>\n",
       "      <th>1</th>\n",
       "      <td>http://prevost.pascal.free.fr/public/podcast/s...</td>\n",
       "      <td>http://www.franceinter.fr/em/sur-les-epaules-d...</td>\n",
       "      <td>Le propre de l'homme?</td>\n",
       "      <td>11 Septembre 2010</td>\n",
       "    </tr>\n",
       "    <tr>\n",
       "      <th>2</th>\n",
       "      <td>http://prevost.pascal.free.fr/public/podcast/s...</td>\n",
       "      <td>http://www.franceinter.fr/em/sur-les-epaules-d...</td>\n",
       "      <td>Nos mémoires</td>\n",
       "      <td>18 Septembre 2010</td>\n",
       "    </tr>\n",
       "    <tr>\n",
       "      <th>3</th>\n",
       "      <td>http://prevost.pascal.free.fr/public/podcast/s...</td>\n",
       "      <td>http://www.franceinter.fr/em/sur-les-epaules-d...</td>\n",
       "      <td>Nos émotions</td>\n",
       "      <td>25 Septembre 2010</td>\n",
       "    </tr>\n",
       "    <tr>\n",
       "      <th>4</th>\n",
       "      <td>http://prevost.pascal.free.fr/public/podcast/s...</td>\n",
       "      <td>http://www.franceinter.fr/em/sur-les-epaules-d...</td>\n",
       "      <td>Longévité, jeunesse et vieillissement</td>\n",
       "      <td>2 Octobre 2010</td>\n",
       "    </tr>\n",
       "    <tr>\n",
       "      <th>5</th>\n",
       "      <td>http://prevost.pascal.free.fr/public/podcast/s...</td>\n",
       "      <td>http://www.franceinter.fr/em/sur-les-epaules-d...</td>\n",
       "      <td>MORT CELLULAIRE ET SCULPTURE DU VIVANT</td>\n",
       "      <td>9 Octobre 2010</td>\n",
       "    </tr>\n",
       "    <tr>\n",
       "      <th>6</th>\n",
       "      <td>http://prevost.pascal.free.fr/public/podcast/s...</td>\n",
       "      <td>http://www.franceinter.fr/em/sur-les-epaules-d...</td>\n",
       "      <td>NAISSANCES</td>\n",
       "      <td>16 Octobre 2010</td>\n",
       "    </tr>\n",
       "    <tr>\n",
       "      <th>7</th>\n",
       "      <td>http://prevost.pascal.free.fr/public/podcast/s...</td>\n",
       "      <td>http://www.franceinter.fr/em/sur-les-epaules-d...</td>\n",
       "      <td>Biodiversité</td>\n",
       "      <td>23 Octobre 2010</td>\n",
       "    </tr>\n",
       "    <tr>\n",
       "      <th>8</th>\n",
       "      <td>http://prevost.pascal.free.fr/public/podcast/s...</td>\n",
       "      <td>http://www.franceinter.fr/em/sur-les-epaules-d...</td>\n",
       "      <td>mort cellulaire et sculpture du vivant (2)</td>\n",
       "      <td>30 Octobre 2010</td>\n",
       "    </tr>\n",
       "    <tr>\n",
       "      <th>9</th>\n",
       "      <td>http://prevost.pascal.free.fr/public/podcast/s...</td>\n",
       "      <td>http://www.franceinter.fr/em/sur-les-epaules-d...</td>\n",
       "      <td>Un voyage avec Oliver Sacks         ( 1 )</td>\n",
       "      <td>6 Novembre 2010</td>\n",
       "    </tr>\n",
       "  </tbody>\n",
       "</table>\n",
       "</div>"
      ],
      "text/plain": [
       "                                            lien mp3  \\\n",
       "0  http://prevost.pascal.free.fr/public/podcast/s...   \n",
       "1  http://prevost.pascal.free.fr/public/podcast/s...   \n",
       "2  http://prevost.pascal.free.fr/public/podcast/s...   \n",
       "3  http://prevost.pascal.free.fr/public/podcast/s...   \n",
       "4  http://prevost.pascal.free.fr/public/podcast/s...   \n",
       "5  http://prevost.pascal.free.fr/public/podcast/s...   \n",
       "6  http://prevost.pascal.free.fr/public/podcast/s...   \n",
       "7  http://prevost.pascal.free.fr/public/podcast/s...   \n",
       "8  http://prevost.pascal.free.fr/public/podcast/s...   \n",
       "9  http://prevost.pascal.free.fr/public/podcast/s...   \n",
       "\n",
       "                                    lien description  \\\n",
       "0  http://www.franceinter.fr/em/sur-les-epaules-d...   \n",
       "1  http://www.franceinter.fr/em/sur-les-epaules-d...   \n",
       "2  http://www.franceinter.fr/em/sur-les-epaules-d...   \n",
       "3  http://www.franceinter.fr/em/sur-les-epaules-d...   \n",
       "4  http://www.franceinter.fr/em/sur-les-epaules-d...   \n",
       "5  http://www.franceinter.fr/em/sur-les-epaules-d...   \n",
       "6  http://www.franceinter.fr/em/sur-les-epaules-d...   \n",
       "7  http://www.franceinter.fr/em/sur-les-epaules-d...   \n",
       "8  http://www.franceinter.fr/em/sur-les-epaules-d...   \n",
       "9  http://www.franceinter.fr/em/sur-les-epaules-d...   \n",
       "\n",
       "                                         titre               date  \n",
       "0  La théorie de l'évolution de Charles Darwin   4 Septembre 2010  \n",
       "1                        Le propre de l'homme?  11 Septembre 2010  \n",
       "2                                 Nos mémoires  18 Septembre 2010  \n",
       "3                                 Nos émotions  25 Septembre 2010  \n",
       "4        Longévité, jeunesse et vieillissement     2 Octobre 2010  \n",
       "5       MORT CELLULAIRE ET SCULPTURE DU VIVANT     9 Octobre 2010  \n",
       "6                                   NAISSANCES    16 Octobre 2010  \n",
       "7                                 Biodiversité    23 Octobre 2010  \n",
       "8   mort cellulaire et sculpture du vivant (2)    30 Octobre 2010  \n",
       "9    Un voyage avec Oliver Sacks         ( 1 )    6 Novembre 2010  "
      ]
     },
     "execution_count": 15,
     "metadata": {},
     "output_type": "execute_result"
    }
   ],
   "source": [
    "df = pd.DataFrame(show_data, columns=['lien mp3', 'lien description', 'titre', 'date'])\n",
    "df.head(10)"
   ]
  },
  {
   "cell_type": "code",
   "execution_count": 16,
   "metadata": {},
   "outputs": [
    {
     "data": {
      "text/html": [
       "<div>\n",
       "<style>\n",
       "    .dataframe thead tr:only-child th {\n",
       "        text-align: right;\n",
       "    }\n",
       "\n",
       "    .dataframe thead th {\n",
       "        text-align: left;\n",
       "    }\n",
       "\n",
       "    .dataframe tbody tr th {\n",
       "        vertical-align: top;\n",
       "    }\n",
       "</style>\n",
       "<table border=\"1\" class=\"dataframe\">\n",
       "  <thead>\n",
       "    <tr style=\"text-align: right;\">\n",
       "      <th></th>\n",
       "      <th>lien mp3</th>\n",
       "      <th>lien description</th>\n",
       "      <th>titre</th>\n",
       "      <th>date</th>\n",
       "    </tr>\n",
       "  </thead>\n",
       "  <tbody>\n",
       "    <tr>\n",
       "      <th>371</th>\n",
       "      <td>http://clementgrimal.fr/darwin/files/2017-12-0...</td>\n",
       "      <td>https://www.franceinter.fr/emissions/sur-les-e...</td>\n",
       "      <td>A la recherche des mystères du sommeil (3)</td>\n",
       "      <td>9 Décembre 2017</td>\n",
       "    </tr>\n",
       "    <tr>\n",
       "      <th>372</th>\n",
       "      <td>http://clementgrimal.fr/darwin/files/2017-12-1...</td>\n",
       "      <td>https://www.franceinter.fr/emissions/sur-les-e...</td>\n",
       "      <td>Explorer</td>\n",
       "      <td>16 Décembre 2017</td>\n",
       "    </tr>\n",
       "    <tr>\n",
       "      <th>373</th>\n",
       "      <td>http://clementgrimal.fr/darwin/files/2017-12-2...</td>\n",
       "      <td>https://www.franceinter.fr/emissions/sur-les-e...</td>\n",
       "      <td>Les forges du ciel</td>\n",
       "      <td>23 Décembre 2017</td>\n",
       "    </tr>\n",
       "    <tr>\n",
       "      <th>374</th>\n",
       "      <td>http://clementgrimal.fr/darwin/files/2017-12-3...</td>\n",
       "      <td>https://www.franceinter.fr/emissions/sur-les-e...</td>\n",
       "      <td>Les forges du ciel (2)</td>\n",
       "      <td>30 Décembre 2017</td>\n",
       "    </tr>\n",
       "    <tr>\n",
       "      <th>375</th>\n",
       "      <td>http://clementgrimal.fr/darwin/files/2018-01-0...</td>\n",
       "      <td>https://www.franceinter.fr/emissions/sur-les-e...</td>\n",
       "      <td>La glace et le feu</td>\n",
       "      <td>6 Janvier 2018</td>\n",
       "    </tr>\n",
       "    <tr>\n",
       "      <th>376</th>\n",
       "      <td>http://clementgrimal.fr/darwin/files/2018-01-1...</td>\n",
       "      <td>https://www.franceinter.fr/emissions/sur-les-e...</td>\n",
       "      <td>Eclats de passé : le Croissant Fertile</td>\n",
       "      <td>13 Janvier 2018</td>\n",
       "    </tr>\n",
       "    <tr>\n",
       "      <th>377</th>\n",
       "      <td>http://clementgrimal.fr/darwin/files/2018-01-2...</td>\n",
       "      <td>https://www.franceinter.fr/emissions/sur-les-e...</td>\n",
       "      <td>Eclats de passé : la révolution Néolithique</td>\n",
       "      <td>20 Janvier 2018</td>\n",
       "    </tr>\n",
       "    <tr>\n",
       "      <th>378</th>\n",
       "      <td>http://clementgrimal.fr/darwin/files/2018-01-2...</td>\n",
       "      <td>https://www.franceinter.fr/emissions/sur-les-e...</td>\n",
       "      <td>Eclats de passé : A la recherche des origines ...</td>\n",
       "      <td>27 Janvier 2018</td>\n",
       "    </tr>\n",
       "    <tr>\n",
       "      <th>379</th>\n",
       "      <td>http://clementgrimal.fr/darwin/files/2018-02-0...</td>\n",
       "      <td>https://www.franceinter.fr/emissions/sur-les-e...</td>\n",
       "      <td>A la recherche des origines des inégalités (2)</td>\n",
       "      <td>3 Février 2018</td>\n",
       "    </tr>\n",
       "    <tr>\n",
       "      <th>380</th>\n",
       "      <td>http://clementgrimal.fr/darwin/files/2018-02-1...</td>\n",
       "      <td>https://www.franceinter.fr/emissions/sur-les-e...</td>\n",
       "      <td>A la recherche des origines des inégalités (3)</td>\n",
       "      <td>10 Février 2018</td>\n",
       "    </tr>\n",
       "  </tbody>\n",
       "</table>\n",
       "</div>"
      ],
      "text/plain": [
       "                                              lien mp3  \\\n",
       "371  http://clementgrimal.fr/darwin/files/2017-12-0...   \n",
       "372  http://clementgrimal.fr/darwin/files/2017-12-1...   \n",
       "373  http://clementgrimal.fr/darwin/files/2017-12-2...   \n",
       "374  http://clementgrimal.fr/darwin/files/2017-12-3...   \n",
       "375  http://clementgrimal.fr/darwin/files/2018-01-0...   \n",
       "376  http://clementgrimal.fr/darwin/files/2018-01-1...   \n",
       "377  http://clementgrimal.fr/darwin/files/2018-01-2...   \n",
       "378  http://clementgrimal.fr/darwin/files/2018-01-2...   \n",
       "379  http://clementgrimal.fr/darwin/files/2018-02-0...   \n",
       "380  http://clementgrimal.fr/darwin/files/2018-02-1...   \n",
       "\n",
       "                                      lien description  \\\n",
       "371  https://www.franceinter.fr/emissions/sur-les-e...   \n",
       "372  https://www.franceinter.fr/emissions/sur-les-e...   \n",
       "373  https://www.franceinter.fr/emissions/sur-les-e...   \n",
       "374  https://www.franceinter.fr/emissions/sur-les-e...   \n",
       "375  https://www.franceinter.fr/emissions/sur-les-e...   \n",
       "376  https://www.franceinter.fr/emissions/sur-les-e...   \n",
       "377  https://www.franceinter.fr/emissions/sur-les-e...   \n",
       "378  https://www.franceinter.fr/emissions/sur-les-e...   \n",
       "379  https://www.franceinter.fr/emissions/sur-les-e...   \n",
       "380  https://www.franceinter.fr/emissions/sur-les-e...   \n",
       "\n",
       "                                                 titre              date  \n",
       "371         A la recherche des mystères du sommeil (3)   9 Décembre 2017  \n",
       "372                                           Explorer  16 Décembre 2017  \n",
       "373                                 Les forges du ciel  23 Décembre 2017  \n",
       "374                             Les forges du ciel (2)  30 Décembre 2017  \n",
       "375                                 La glace et le feu    6 Janvier 2018  \n",
       "376             Eclats de passé : le Croissant Fertile   13 Janvier 2018  \n",
       "377        Eclats de passé : la révolution Néolithique   20 Janvier 2018  \n",
       "378  Eclats de passé : A la recherche des origines ...   27 Janvier 2018  \n",
       "379     A la recherche des origines des inégalités (2)    3 Février 2018  \n",
       "380     A la recherche des origines des inégalités (3)   10 Février 2018  "
      ]
     },
     "execution_count": 16,
     "metadata": {},
     "output_type": "execute_result"
    }
   ],
   "source": [
    "df.tail(10)"
   ]
  },
  {
   "cell_type": "code",
   "execution_count": 17,
   "metadata": {},
   "outputs": [
    {
     "data": {
      "text/html": [
       "<div>\n",
       "<style>\n",
       "    .dataframe thead tr:only-child th {\n",
       "        text-align: right;\n",
       "    }\n",
       "\n",
       "    .dataframe thead th {\n",
       "        text-align: left;\n",
       "    }\n",
       "\n",
       "    .dataframe tbody tr th {\n",
       "        vertical-align: top;\n",
       "    }\n",
       "</style>\n",
       "<table border=\"1\" class=\"dataframe\">\n",
       "  <thead>\n",
       "    <tr style=\"text-align: right;\">\n",
       "      <th></th>\n",
       "      <th>lien mp3</th>\n",
       "      <th>lien description</th>\n",
       "      <th>titre</th>\n",
       "      <th>date</th>\n",
       "    </tr>\n",
       "  </thead>\n",
       "  <tbody>\n",
       "    <tr>\n",
       "      <th>count</th>\n",
       "      <td>381</td>\n",
       "      <td>381</td>\n",
       "      <td>381</td>\n",
       "      <td>381</td>\n",
       "    </tr>\n",
       "    <tr>\n",
       "      <th>unique</th>\n",
       "      <td>381</td>\n",
       "      <td>381</td>\n",
       "      <td>310</td>\n",
       "      <td>381</td>\n",
       "    </tr>\n",
       "    <tr>\n",
       "      <th>top</th>\n",
       "      <td>http://clementgrimal.fr/darwin/files/2014-11-2...</td>\n",
       "      <td>https://www.franceinter.fr/emissions/sur-les-e...</td>\n",
       "      <td>La glace et le feu</td>\n",
       "      <td>22 Février 2014</td>\n",
       "    </tr>\n",
       "    <tr>\n",
       "      <th>freq</th>\n",
       "      <td>1</td>\n",
       "      <td>1</td>\n",
       "      <td>3</td>\n",
       "      <td>1</td>\n",
       "    </tr>\n",
       "  </tbody>\n",
       "</table>\n",
       "</div>"
      ],
      "text/plain": [
       "                                                 lien mp3  \\\n",
       "count                                                 381   \n",
       "unique                                                381   \n",
       "top     http://clementgrimal.fr/darwin/files/2014-11-2...   \n",
       "freq                                                    1   \n",
       "\n",
       "                                         lien description               titre  \\\n",
       "count                                                 381                 381   \n",
       "unique                                                381                 310   \n",
       "top     https://www.franceinter.fr/emissions/sur-les-e...  La glace et le feu   \n",
       "freq                                                    1                   3   \n",
       "\n",
       "                   date  \n",
       "count               381  \n",
       "unique              381  \n",
       "top     22 Février 2014  \n",
       "freq                  1  "
      ]
     },
     "execution_count": 17,
     "metadata": {},
     "output_type": "execute_result"
    }
   ],
   "source": [
    "df.describe()"
   ]
  },
  {
   "cell_type": "markdown",
   "metadata": {},
   "source": [
    "Nous voilà maintenant en possession des liens vers 381 épisodes publiés sur le site de Clément Grimal. On remarque que certaines d'entre elles sont des rediffusions (310 épisodes uniques sur 381). "
   ]
  },
  {
   "cell_type": "markdown",
   "metadata": {},
   "source": [
    "Téléchargeons maintenant les descriptions des émissions."
   ]
  },
  {
   "cell_type": "markdown",
   "metadata": {},
   "source": [
    "# Téléchargement des descriptions à partir du site de France Inter "
   ]
  },
  {
   "cell_type": "markdown",
   "metadata": {},
   "source": [
    "Nous avons les liens vers les descriptions : il suffit donc de lire la page de chaque émission et d'en extraire le contenu intéressant."
   ]
  },
  {
   "cell_type": "code",
   "execution_count": 18,
   "metadata": {},
   "outputs": [
    {
     "data": {
      "text/plain": [
       "'http://www.franceinter.fr/em/sur-les-epaules-de-darwin/94428'"
      ]
     },
     "execution_count": 18,
     "metadata": {},
     "output_type": "execute_result"
    }
   ],
   "source": [
    "link = df['lien description'][0]\n",
    "link"
   ]
  },
  {
   "cell_type": "code",
   "execution_count": 19,
   "metadata": {},
   "outputs": [],
   "source": [
    "soup = BeautifulSoup(requests.get(link).text, 'html.parser')"
   ]
  },
  {
   "cell_type": "code",
   "execution_count": 20,
   "metadata": {
    "scrolled": false
   },
   "outputs": [
    {
     "data": {
      "text/plain": [
       "<article class=\"content-body\">\n",
       "<p><strong>Bibliographie:</strong></p>\n",
       "<p><strong>L'origine des espèces de Charles Darwin aux Editions Flammarion Origines,</strong></p>\n",
       "<div class=\"dva_ad inread\" id=\"dva_128139881/RF_france_inter/divers/divers/rg/inread0\"></div>\n",
       "<script type=\"text/javascript\">\n",
       "    window.dejavuAds = window.dejavuAds || {\n",
       "        targets: null,\n",
       "        slots: []\n",
       "    };\n",
       "    var deviceSizes = { all: [[2, 2],], desktop: [[533, 300],],  };\n",
       "    window.dejavuAds.slots.push({\n",
       "        name: 'dva_128139881/RF_france_inter/divers/divers/rg/inread0',\n",
       "        id: 'dva_128139881/RF_france_inter/divers/divers/rg/inread0',\n",
       "        adunit: '128139881/RF_france_inter/divers/divers/rg/inread',\n",
       "        sizes: deviceSizes,\n",
       "        targets: { pos: 'inread' }\n",
       "    });\n",
       "</script>\n",
       "<p><strong>Lettres choisies (1828-1859)de Charles Darwin traduit de l'anglais par Mickael Popelard préface de Stefen Jay Gould aux Editions Bayard</strong></p>\n",
       "<p><strong>L'expression des émotions chez les hommes et les animaux de Charles Darwin aux Editions Rivages</strong></p>\n",
       "<p><strong>La lettre volée, d'Edgar Allan Poe, Ed Folio Gallimard</strong></p>\n",
       "<p><strong>La mal-mesure de l'homme de Stephen Jay Gould aux Editions Odile Jacob</strong></p>\n",
       "<p><strong>Identité et violence: l'illusion du destin d'Amartya Sen aux editions Odile Jacob</strong></p>\n",
       "<p><strong>\"Dans la Lumière et les Ombres. Darwin et le bouleversement du monde\" de Jean-Claude Ameisen aux Editions Fayard / Seuil</strong></p>\n",
       "<h3><strong>invité(s)</strong></h3>\n",
       "<h3><strong>Charles Darwin 1809-1882</strong></h3>\n",
       "<h3><strong>programmation musicale</strong></h3>\n",
       "<h3><strong>Benjamin Biolay</strong></h3>\n",
       "<p><strong>Si tu suis mon regard album: LA SUPERBElabel: NAIVE RECORDSparution: 2010</strong></p>\n",
       "<h3><strong>Jane Birkin</strong></h3>\n",
       "<p><strong>Apocalypstick album: EX FAN DES SIXTIESlabel: FONTANAparution: 1978</strong></p>\n",
       "<h3><strong>Luke</strong></h3>\n",
       "<p><strong>LE ROBOT album: LE ROBOTlabel: JIVE EPIC / SONYparution: 2010</strong></p>\n",
       "<h3><strong>Cat power</strong></h3>\n",
       "<p><strong>THE GREATEST album: THE GREATESTlabel: MATADORparution: 2006</strong></p>\n",
       "<h3><strong>Amparo Sanchez et Omara Portuondo</strong></h3>\n",
       "<p><strong>La parrandita de las santas album: TUCSON HABANAlabel: VIA LACTEA RECORDSparution: 2010</strong></p>\n",
       "</article>"
      ]
     },
     "execution_count": 20,
     "metadata": {},
     "output_type": "execute_result"
    }
   ],
   "source": [
    "article = soup.find('article')\n",
    "article"
   ]
  },
  {
   "cell_type": "markdown",
   "metadata": {},
   "source": [
    "Il se trouve que des balises script sont contenues dans les épisodes (elles affichent de la publicité sur le site de France Inter)."
   ]
  },
  {
   "cell_type": "markdown",
   "metadata": {},
   "source": [
    "Si on reformate les tags HTML, on obtient le résultat suivant :"
   ]
  },
  {
   "cell_type": "code",
   "execution_count": 23,
   "metadata": {},
   "outputs": [],
   "source": [
    "import bs4"
   ]
  },
  {
   "cell_type": "code",
   "execution_count": 24,
   "metadata": {},
   "outputs": [],
   "source": [
    "def make_description(article, debug=False):\n",
    "    \"\"\"Extracts a text-only description of the formatted HTML.\"\"\"\n",
    "    desc = ''\n",
    "    unmatched = []\n",
    "    for tag in article.children:\n",
    "        if tag.name == 'p':\n",
    "            desc += '' + tag.text + '\\n'\n",
    "        elif tag.name == 'h1':\n",
    "            desc += ' ' + tag.text + '\\n'\n",
    "        elif tag.name == 'h2':\n",
    "            desc += '  ' + tag.text + '\\n'\n",
    "        elif tag.name == 'h3':\n",
    "            desc += '   ' + tag.text + '\\n'\n",
    "        elif tag.name == 'blockquote':\n",
    "            desc += '>' + tag.text + '\\n'\n",
    "        elif tag.name == 'ul':\n",
    "            for item in [\" - \" + child.text for child in tag.children if isinstance(child, bs4.Tag)]:\n",
    "                desc += item\n",
    "                if not item.endswith('\\n'):\n",
    "                    desc += '\\n'\n",
    "        elif tag.name == 'a':\n",
    "            desc += tag.attrs['href'] + '\\n'\n",
    "        elif tag.name == 'ol':\n",
    "            for child in tag.children:\n",
    "                if isinstance(child, bs4.Tag):\n",
    "                    desc += child.text + '\\n'\n",
    "        elif tag.name in ['hr', 'aside']:\n",
    "            desc += make_description(tag, debug=False)\n",
    "        else:\n",
    "            unmatched.append(tag.name)\n",
    "    if debug:\n",
    "        print(set(unmatched))\n",
    "    assert set([None, 'div', 'figure']).issuperset(unmatched)\n",
    "    return desc"
   ]
  },
  {
   "cell_type": "markdown",
   "metadata": {},
   "source": [
    "Voici donc notre version texte seul pour la description :"
   ]
  },
  {
   "cell_type": "code",
   "execution_count": 28,
   "metadata": {},
   "outputs": [
    {
     "name": "stdout",
     "output_type": "stream",
     "text": [
      "Bibliographie:\n",
      "L'origine des espèces de Charles Darwin aux Editions Flammarion Origines,\n",
      "Lettres choisies (1828-1859)de Charles Darwin traduit de l'anglais par Mickael Popelard préface de Stefen Jay Gould aux Editions Bayard\n",
      "L'expression des émotions chez les hommes et les animaux de Charles Darwin aux Editions Rivages\n",
      "La lettre volée, d'Edgar Allan Poe, Ed Folio Gallimard\n",
      "La mal-mesure de l'homme de Stephen Jay Gould aux Editions Odile Jacob\n",
      "Identité et violence: l'illusion du destin d'Amartya Sen aux editions Odile Jacob\n",
      "\"Dans la Lumière et les Ombres. Darwin et le bouleversement du monde\" de Jean-Claude Ameisen aux Editions Fayard / Seuil\n",
      "   invité(s)\n",
      "   Charles Darwin 1809-1882\n",
      "   programmation musicale\n",
      "   Benjamin Biolay\n",
      "Si tu suis mon regard album: LA SUPERBElabel: NAIVE RECORDSparution: 2010\n",
      "   Jane Birkin\n",
      "Apocalypstick album: EX FAN DES SIXTIESlabel: FONTANAparution: 1978\n",
      "   Luke\n",
      "LE ROBOT album: LE ROBOTlabel: JIVE EPIC / SONYparution: 2010\n",
      "   Cat power\n",
      "THE GREATEST album: THE GREATESTlabel: MATADORparution: 2006\n",
      "   Amparo Sanchez et Omara Portuondo\n",
      "La parrandita de las santas album: TUCSON HABANAlabel: VIA LACTEA RECORDSparution: 2010\n",
      "\n"
     ]
    }
   ],
   "source": [
    "desc = make_description(article, debug=False)\n",
    "\n",
    "print(desc)"
   ]
  },
  {
   "cell_type": "markdown",
   "metadata": {},
   "source": [
    "On peut comparer notre version à l'original:"
   ]
  },
  {
   "cell_type": "code",
   "execution_count": 29,
   "metadata": {},
   "outputs": [],
   "source": [
    "from IPython.display import HTML"
   ]
  },
  {
   "cell_type": "code",
   "execution_count": 30,
   "metadata": {
    "scrolled": false
   },
   "outputs": [
    {
     "data": {
      "text/html": [
       "<article class=\"content-body\">\n",
       "<p><strong>Bibliographie:</strong></p>\n",
       "<p><strong>L'origine des espèces de Charles Darwin aux Editions Flammarion Origines,</strong></p>\n",
       "<div class=\"dva_ad inread\" id=\"dva_128139881/RF_france_inter/divers/divers/rg/inread0\"></div>\n",
       "\n",
       "<p><strong>Lettres choisies (1828-1859)de Charles Darwin traduit de l'anglais par Mickael Popelard préface de Stefen Jay Gould aux Editions Bayard</strong></p>\n",
       "<p><strong>L'expression des émotions chez les hommes et les animaux de Charles Darwin aux Editions Rivages</strong></p>\n",
       "<p><strong>La lettre volée, d'Edgar Allan Poe, Ed Folio Gallimard</strong></p>\n",
       "<p><strong>La mal-mesure de l'homme de Stephen Jay Gould aux Editions Odile Jacob</strong></p>\n",
       "<p><strong>Identité et violence: l'illusion du destin d'Amartya Sen aux editions Odile Jacob</strong></p>\n",
       "<p><strong>\"Dans la Lumière et les Ombres. Darwin et le bouleversement du monde\" de Jean-Claude Ameisen aux Editions Fayard / Seuil</strong></p>\n",
       "<h3><strong>invité(s)</strong></h3>\n",
       "<h3><strong>Charles Darwin 1809-1882</strong></h3>\n",
       "<h3><strong>programmation musicale</strong></h3>\n",
       "<h3><strong>Benjamin Biolay</strong></h3>\n",
       "<p><strong>Si tu suis mon regard album: LA SUPERBElabel: NAIVE RECORDSparution: 2010</strong></p>\n",
       "<h3><strong>Jane Birkin</strong></h3>\n",
       "<p><strong>Apocalypstick album: EX FAN DES SIXTIESlabel: FONTANAparution: 1978</strong></p>\n",
       "<h3><strong>Luke</strong></h3>\n",
       "<p><strong>LE ROBOT album: LE ROBOTlabel: JIVE EPIC / SONYparution: 2010</strong></p>\n",
       "<h3><strong>Cat power</strong></h3>\n",
       "<p><strong>THE GREATEST album: THE GREATESTlabel: MATADORparution: 2006</strong></p>\n",
       "<h3><strong>Amparo Sanchez et Omara Portuondo</strong></h3>\n",
       "<p><strong>La parrandita de las santas album: TUCSON HABANAlabel: VIA LACTEA RECORDSparution: 2010</strong></p>\n",
       "</article>"
      ],
      "text/plain": [
       "<IPython.core.display.HTML object>"
      ]
     },
     "execution_count": 30,
     "metadata": {},
     "output_type": "execute_result"
    }
   ],
   "source": [
    "HTML(str(article))"
   ]
  },
  {
   "cell_type": "markdown",
   "metadata": {},
   "source": [
    "On peut maintenant écrire une boucle sur toutes les descriptions d'épisode :"
   ]
  },
  {
   "cell_type": "code",
   "execution_count": 31,
   "metadata": {},
   "outputs": [],
   "source": [
    "from functools import lru_cache"
   ]
  },
  {
   "cell_type": "code",
   "execution_count": 32,
   "metadata": {},
   "outputs": [],
   "source": [
    "@lru_cache(maxsize=None)\n",
    "def link_getter(description_link):\n",
    "    return requests.get(description_link)"
   ]
  },
  {
   "cell_type": "code",
   "execution_count": 33,
   "metadata": {},
   "outputs": [],
   "source": [
    "import tqdm"
   ]
  },
  {
   "cell_type": "code",
   "execution_count": 34,
   "metadata": {},
   "outputs": [
    {
     "data": {
      "application/vnd.jupyter.widget-view+json": {
       "model_id": "845c4d52560b4575a1ae74aedfb09f9d",
       "version_major": 2,
       "version_minor": 0
      },
      "text/html": [
       "<p>Failed to display Jupyter Widget of type <code>HBox</code>.</p>\n",
       "<p>\n",
       "  If you're reading this message in the Jupyter Notebook or JupyterLab Notebook, it may mean\n",
       "  that the widgets JavaScript is still loading. If this message persists, it\n",
       "  likely means that the widgets JavaScript library is either not installed or\n",
       "  not enabled. See the <a href=\"https://ipywidgets.readthedocs.io/en/stable/user_install.html\">Jupyter\n",
       "  Widgets Documentation</a> for setup instructions.\n",
       "</p>\n",
       "<p>\n",
       "  If you're reading this message in another frontend (for example, a static\n",
       "  rendering on GitHub or <a href=\"https://nbviewer.jupyter.org/\">NBViewer</a>),\n",
       "  it may mean that your frontend doesn't currently support widgets.\n",
       "</p>\n"
      ],
      "text/plain": [
       "HBox(children=(IntProgress(value=0, max=381), HTML(value='')))"
      ]
     },
     "metadata": {},
     "output_type": "display_data"
    },
    {
     "name": "stdout",
     "output_type": "stream",
     "text": [
      "\n"
     ]
    }
   ],
   "source": [
    "descriptions = []\n",
    "for description_link in tqdm.tqdm_notebook(df['lien description']):\n",
    "    soup = BeautifulSoup(link_getter(description_link).text, 'html.parser')\n",
    "    article = soup.find('article')\n",
    "    script = article.find('script')\n",
    "    if script:\n",
    "        script.extract()\n",
    "    descriptions.append(make_description(article))"
   ]
  },
  {
   "cell_type": "code",
   "execution_count": 35,
   "metadata": {},
   "outputs": [],
   "source": [
    "df['description'] = descriptions"
   ]
  },
  {
   "cell_type": "code",
   "execution_count": 36,
   "metadata": {},
   "outputs": [
    {
     "data": {
      "text/html": [
       "<div>\n",
       "<style>\n",
       "    .dataframe thead tr:only-child th {\n",
       "        text-align: right;\n",
       "    }\n",
       "\n",
       "    .dataframe thead th {\n",
       "        text-align: left;\n",
       "    }\n",
       "\n",
       "    .dataframe tbody tr th {\n",
       "        vertical-align: top;\n",
       "    }\n",
       "</style>\n",
       "<table border=\"1\" class=\"dataframe\">\n",
       "  <thead>\n",
       "    <tr style=\"text-align: right;\">\n",
       "      <th></th>\n",
       "      <th>lien mp3</th>\n",
       "      <th>lien description</th>\n",
       "      <th>titre</th>\n",
       "      <th>date</th>\n",
       "      <th>description</th>\n",
       "    </tr>\n",
       "  </thead>\n",
       "  <tbody>\n",
       "    <tr>\n",
       "      <th>0</th>\n",
       "      <td>http://prevost.pascal.free.fr/public/podcast/s...</td>\n",
       "      <td>http://www.franceinter.fr/em/sur-les-epaules-d...</td>\n",
       "      <td>La théorie de l'évolution de Charles Darwin</td>\n",
       "      <td>4 Septembre 2010</td>\n",
       "      <td>Bibliographie:\\nL'origine des espèces de Charl...</td>\n",
       "    </tr>\n",
       "    <tr>\n",
       "      <th>1</th>\n",
       "      <td>http://prevost.pascal.free.fr/public/podcast/s...</td>\n",
       "      <td>http://www.franceinter.fr/em/sur-les-epaules-d...</td>\n",
       "      <td>Le propre de l'homme?</td>\n",
       "      <td>11 Septembre 2010</td>\n",
       "      <td>programmation musicale\\n   STAFF BENDA BILI...</td>\n",
       "    </tr>\n",
       "    <tr>\n",
       "      <th>2</th>\n",
       "      <td>http://prevost.pascal.free.fr/public/podcast/s...</td>\n",
       "      <td>http://www.franceinter.fr/em/sur-les-epaules-d...</td>\n",
       "      <td>Nos mémoires</td>\n",
       "      <td>18 Septembre 2010</td>\n",
       "      <td>programmation musicale\\n   Iggy POP\\nKing o...</td>\n",
       "    </tr>\n",
       "    <tr>\n",
       "      <th>3</th>\n",
       "      <td>http://prevost.pascal.free.fr/public/podcast/s...</td>\n",
       "      <td>http://www.franceinter.fr/em/sur-les-epaules-d...</td>\n",
       "      <td>Nos émotions</td>\n",
       "      <td>25 Septembre 2010</td>\n",
       "      <td>programmation musicale\\n   EMILY LOISEAU\\nL...</td>\n",
       "    </tr>\n",
       "    <tr>\n",
       "      <th>4</th>\n",
       "      <td>http://prevost.pascal.free.fr/public/podcast/s...</td>\n",
       "      <td>http://www.franceinter.fr/em/sur-les-epaules-d...</td>\n",
       "      <td>Longévité, jeunesse et vieillissement</td>\n",
       "      <td>2 Octobre 2010</td>\n",
       "      <td>programmation musicale\\n   Bonga\\nMona ki g...</td>\n",
       "    </tr>\n",
       "    <tr>\n",
       "      <th>5</th>\n",
       "      <td>http://prevost.pascal.free.fr/public/podcast/s...</td>\n",
       "      <td>http://www.franceinter.fr/em/sur-les-epaules-d...</td>\n",
       "      <td>MORT CELLULAIRE ET SCULPTURE DU VIVANT</td>\n",
       "      <td>9 Octobre 2010</td>\n",
       "      <td>programmation musicale\\n   Nouvelle vague /...</td>\n",
       "    </tr>\n",
       "    <tr>\n",
       "      <th>6</th>\n",
       "      <td>http://prevost.pascal.free.fr/public/podcast/s...</td>\n",
       "      <td>http://www.franceinter.fr/em/sur-les-epaules-d...</td>\n",
       "      <td>NAISSANCES</td>\n",
       "      <td>16 Octobre 2010</td>\n",
       "      <td>invité(s)\\n   René Frydman\\nChef du Pôle Mè...</td>\n",
       "    </tr>\n",
       "    <tr>\n",
       "      <th>7</th>\n",
       "      <td>http://prevost.pascal.free.fr/public/podcast/s...</td>\n",
       "      <td>http://www.franceinter.fr/em/sur-les-epaules-d...</td>\n",
       "      <td>Biodiversité</td>\n",
       "      <td>23 Octobre 2010</td>\n",
       "      <td>\"L'infinité des formes les plus belles et les ...</td>\n",
       "    </tr>\n",
       "    <tr>\n",
       "      <th>8</th>\n",
       "      <td>http://prevost.pascal.free.fr/public/podcast/s...</td>\n",
       "      <td>http://www.franceinter.fr/em/sur-les-epaules-d...</td>\n",
       "      <td>mort cellulaire et sculpture du vivant (2)</td>\n",
       "      <td>30 Octobre 2010</td>\n",
       "      <td>« Nous ne nous baignons pas deux fois dans le ...</td>\n",
       "    </tr>\n",
       "    <tr>\n",
       "      <th>9</th>\n",
       "      <td>http://prevost.pascal.free.fr/public/podcast/s...</td>\n",
       "      <td>http://www.franceinter.fr/em/sur-les-epaules-d...</td>\n",
       "      <td>Un voyage avec Oliver Sacks         ( 1 )</td>\n",
       "      <td>6 Novembre 2010</td>\n",
       "      <td>A la rencontre de la singularité de nos mondes...</td>\n",
       "    </tr>\n",
       "  </tbody>\n",
       "</table>\n",
       "</div>"
      ],
      "text/plain": [
       "                                            lien mp3  \\\n",
       "0  http://prevost.pascal.free.fr/public/podcast/s...   \n",
       "1  http://prevost.pascal.free.fr/public/podcast/s...   \n",
       "2  http://prevost.pascal.free.fr/public/podcast/s...   \n",
       "3  http://prevost.pascal.free.fr/public/podcast/s...   \n",
       "4  http://prevost.pascal.free.fr/public/podcast/s...   \n",
       "5  http://prevost.pascal.free.fr/public/podcast/s...   \n",
       "6  http://prevost.pascal.free.fr/public/podcast/s...   \n",
       "7  http://prevost.pascal.free.fr/public/podcast/s...   \n",
       "8  http://prevost.pascal.free.fr/public/podcast/s...   \n",
       "9  http://prevost.pascal.free.fr/public/podcast/s...   \n",
       "\n",
       "                                    lien description  \\\n",
       "0  http://www.franceinter.fr/em/sur-les-epaules-d...   \n",
       "1  http://www.franceinter.fr/em/sur-les-epaules-d...   \n",
       "2  http://www.franceinter.fr/em/sur-les-epaules-d...   \n",
       "3  http://www.franceinter.fr/em/sur-les-epaules-d...   \n",
       "4  http://www.franceinter.fr/em/sur-les-epaules-d...   \n",
       "5  http://www.franceinter.fr/em/sur-les-epaules-d...   \n",
       "6  http://www.franceinter.fr/em/sur-les-epaules-d...   \n",
       "7  http://www.franceinter.fr/em/sur-les-epaules-d...   \n",
       "8  http://www.franceinter.fr/em/sur-les-epaules-d...   \n",
       "9  http://www.franceinter.fr/em/sur-les-epaules-d...   \n",
       "\n",
       "                                         titre               date  \\\n",
       "0  La théorie de l'évolution de Charles Darwin   4 Septembre 2010   \n",
       "1                        Le propre de l'homme?  11 Septembre 2010   \n",
       "2                                 Nos mémoires  18 Septembre 2010   \n",
       "3                                 Nos émotions  25 Septembre 2010   \n",
       "4        Longévité, jeunesse et vieillissement     2 Octobre 2010   \n",
       "5       MORT CELLULAIRE ET SCULPTURE DU VIVANT     9 Octobre 2010   \n",
       "6                                   NAISSANCES    16 Octobre 2010   \n",
       "7                                 Biodiversité    23 Octobre 2010   \n",
       "8   mort cellulaire et sculpture du vivant (2)    30 Octobre 2010   \n",
       "9    Un voyage avec Oliver Sacks         ( 1 )    6 Novembre 2010   \n",
       "\n",
       "                                         description  \n",
       "0  Bibliographie:\\nL'origine des espèces de Charl...  \n",
       "1     programmation musicale\\n   STAFF BENDA BILI...  \n",
       "2     programmation musicale\\n   Iggy POP\\nKing o...  \n",
       "3     programmation musicale\\n   EMILY LOISEAU\\nL...  \n",
       "4     programmation musicale\\n   Bonga\\nMona ki g...  \n",
       "5     programmation musicale\\n   Nouvelle vague /...  \n",
       "6     invité(s)\\n   René Frydman\\nChef du Pôle Mè...  \n",
       "7  \"L'infinité des formes les plus belles et les ...  \n",
       "8  « Nous ne nous baignons pas deux fois dans le ...  \n",
       "9  A la rencontre de la singularité de nos mondes...  "
      ]
     },
     "execution_count": 36,
     "metadata": {},
     "output_type": "execute_result"
    }
   ],
   "source": [
    "df.head(10)"
   ]
  },
  {
   "cell_type": "code",
   "execution_count": 37,
   "metadata": {},
   "outputs": [
    {
     "data": {
      "text/html": [
       "<div>\n",
       "<style>\n",
       "    .dataframe thead tr:only-child th {\n",
       "        text-align: right;\n",
       "    }\n",
       "\n",
       "    .dataframe thead th {\n",
       "        text-align: left;\n",
       "    }\n",
       "\n",
       "    .dataframe tbody tr th {\n",
       "        vertical-align: top;\n",
       "    }\n",
       "</style>\n",
       "<table border=\"1\" class=\"dataframe\">\n",
       "  <thead>\n",
       "    <tr style=\"text-align: right;\">\n",
       "      <th></th>\n",
       "      <th>lien mp3</th>\n",
       "      <th>lien description</th>\n",
       "      <th>titre</th>\n",
       "      <th>date</th>\n",
       "      <th>description</th>\n",
       "    </tr>\n",
       "  </thead>\n",
       "  <tbody>\n",
       "    <tr>\n",
       "      <th>371</th>\n",
       "      <td>http://clementgrimal.fr/darwin/files/2017-12-0...</td>\n",
       "      <td>https://www.franceinter.fr/emissions/sur-les-e...</td>\n",
       "      <td>A la recherche des mystères du sommeil (3)</td>\n",
       "      <td>9 Décembre 2017</td>\n",
       "      <td>\\n            A la recherche des mystères du s...</td>\n",
       "    </tr>\n",
       "    <tr>\n",
       "      <th>372</th>\n",
       "      <td>http://clementgrimal.fr/darwin/files/2017-12-1...</td>\n",
       "      <td>https://www.franceinter.fr/emissions/sur-les-e...</td>\n",
       "      <td>Explorer</td>\n",
       "      <td>16 Décembre 2017</td>\n",
       "      <td>\\n            Explorer\\n        \\nUne heure qu...</td>\n",
       "    </tr>\n",
       "    <tr>\n",
       "      <th>373</th>\n",
       "      <td>http://clementgrimal.fr/darwin/files/2017-12-2...</td>\n",
       "      <td>https://www.franceinter.fr/emissions/sur-les-e...</td>\n",
       "      <td>Les forges du ciel</td>\n",
       "      <td>23 Décembre 2017</td>\n",
       "      <td>\\n            Les forges du ciel\\n        \\nNo...</td>\n",
       "    </tr>\n",
       "    <tr>\n",
       "      <th>374</th>\n",
       "      <td>http://clementgrimal.fr/darwin/files/2017-12-3...</td>\n",
       "      <td>https://www.franceinter.fr/emissions/sur-les-e...</td>\n",
       "      <td>Les forges du ciel (2)</td>\n",
       "      <td>30 Décembre 2017</td>\n",
       "      <td>\\n            Les forges du ciel (2)\\n        ...</td>\n",
       "    </tr>\n",
       "    <tr>\n",
       "      <th>375</th>\n",
       "      <td>http://clementgrimal.fr/darwin/files/2018-01-0...</td>\n",
       "      <td>https://www.franceinter.fr/emissions/sur-les-e...</td>\n",
       "      <td>La glace et le feu</td>\n",
       "      <td>6 Janvier 2018</td>\n",
       "      <td>\\n            La glace et le feu \\n        \\nN...</td>\n",
       "    </tr>\n",
       "    <tr>\n",
       "      <th>376</th>\n",
       "      <td>http://clementgrimal.fr/darwin/files/2018-01-1...</td>\n",
       "      <td>https://www.franceinter.fr/emissions/sur-les-e...</td>\n",
       "      <td>Eclats de passé : le Croissant Fertile</td>\n",
       "      <td>13 Janvier 2018</td>\n",
       "      <td>\\n            Eclats de passé : le Croissant F...</td>\n",
       "    </tr>\n",
       "    <tr>\n",
       "      <th>377</th>\n",
       "      <td>http://clementgrimal.fr/darwin/files/2018-01-2...</td>\n",
       "      <td>https://www.franceinter.fr/emissions/sur-les-e...</td>\n",
       "      <td>Eclats de passé : la révolution Néolithique</td>\n",
       "      <td>20 Janvier 2018</td>\n",
       "      <td>\\n            Eclats de passé : la révolution ...</td>\n",
       "    </tr>\n",
       "    <tr>\n",
       "      <th>378</th>\n",
       "      <td>http://clementgrimal.fr/darwin/files/2018-01-2...</td>\n",
       "      <td>https://www.franceinter.fr/emissions/sur-les-e...</td>\n",
       "      <td>Eclats de passé : A la recherche des origines ...</td>\n",
       "      <td>27 Janvier 2018</td>\n",
       "      <td>\\n            Eclats de passé : A la recherche...</td>\n",
       "    </tr>\n",
       "    <tr>\n",
       "      <th>379</th>\n",
       "      <td>http://clementgrimal.fr/darwin/files/2018-02-0...</td>\n",
       "      <td>https://www.franceinter.fr/emissions/sur-les-e...</td>\n",
       "      <td>A la recherche des origines des inégalités (2)</td>\n",
       "      <td>3 Février 2018</td>\n",
       "      <td>\\n            A la recherche des origines des ...</td>\n",
       "    </tr>\n",
       "    <tr>\n",
       "      <th>380</th>\n",
       "      <td>http://clementgrimal.fr/darwin/files/2018-02-1...</td>\n",
       "      <td>https://www.franceinter.fr/emissions/sur-les-e...</td>\n",
       "      <td>A la recherche des origines des inégalités (3)</td>\n",
       "      <td>10 Février 2018</td>\n",
       "      <td>\\n            A la recherche des origines des ...</td>\n",
       "    </tr>\n",
       "  </tbody>\n",
       "</table>\n",
       "</div>"
      ],
      "text/plain": [
       "                                              lien mp3  \\\n",
       "371  http://clementgrimal.fr/darwin/files/2017-12-0...   \n",
       "372  http://clementgrimal.fr/darwin/files/2017-12-1...   \n",
       "373  http://clementgrimal.fr/darwin/files/2017-12-2...   \n",
       "374  http://clementgrimal.fr/darwin/files/2017-12-3...   \n",
       "375  http://clementgrimal.fr/darwin/files/2018-01-0...   \n",
       "376  http://clementgrimal.fr/darwin/files/2018-01-1...   \n",
       "377  http://clementgrimal.fr/darwin/files/2018-01-2...   \n",
       "378  http://clementgrimal.fr/darwin/files/2018-01-2...   \n",
       "379  http://clementgrimal.fr/darwin/files/2018-02-0...   \n",
       "380  http://clementgrimal.fr/darwin/files/2018-02-1...   \n",
       "\n",
       "                                      lien description  \\\n",
       "371  https://www.franceinter.fr/emissions/sur-les-e...   \n",
       "372  https://www.franceinter.fr/emissions/sur-les-e...   \n",
       "373  https://www.franceinter.fr/emissions/sur-les-e...   \n",
       "374  https://www.franceinter.fr/emissions/sur-les-e...   \n",
       "375  https://www.franceinter.fr/emissions/sur-les-e...   \n",
       "376  https://www.franceinter.fr/emissions/sur-les-e...   \n",
       "377  https://www.franceinter.fr/emissions/sur-les-e...   \n",
       "378  https://www.franceinter.fr/emissions/sur-les-e...   \n",
       "379  https://www.franceinter.fr/emissions/sur-les-e...   \n",
       "380  https://www.franceinter.fr/emissions/sur-les-e...   \n",
       "\n",
       "                                                 titre              date  \\\n",
       "371         A la recherche des mystères du sommeil (3)   9 Décembre 2017   \n",
       "372                                           Explorer  16 Décembre 2017   \n",
       "373                                 Les forges du ciel  23 Décembre 2017   \n",
       "374                             Les forges du ciel (2)  30 Décembre 2017   \n",
       "375                                 La glace et le feu    6 Janvier 2018   \n",
       "376             Eclats de passé : le Croissant Fertile   13 Janvier 2018   \n",
       "377        Eclats de passé : la révolution Néolithique   20 Janvier 2018   \n",
       "378  Eclats de passé : A la recherche des origines ...   27 Janvier 2018   \n",
       "379     A la recherche des origines des inégalités (2)    3 Février 2018   \n",
       "380     A la recherche des origines des inégalités (3)   10 Février 2018   \n",
       "\n",
       "                                           description  \n",
       "371  \\n            A la recherche des mystères du s...  \n",
       "372  \\n            Explorer\\n        \\nUne heure qu...  \n",
       "373  \\n            Les forges du ciel\\n        \\nNo...  \n",
       "374  \\n            Les forges du ciel (2)\\n        ...  \n",
       "375  \\n            La glace et le feu \\n        \\nN...  \n",
       "376  \\n            Eclats de passé : le Croissant F...  \n",
       "377  \\n            Eclats de passé : la révolution ...  \n",
       "378  \\n            Eclats de passé : A la recherche...  \n",
       "379  \\n            A la recherche des origines des ...  \n",
       "380  \\n            A la recherche des origines des ...  "
      ]
     },
     "execution_count": 37,
     "metadata": {},
     "output_type": "execute_result"
    }
   ],
   "source": [
    "df.tail(10)"
   ]
  },
  {
   "cell_type": "markdown",
   "metadata": {},
   "source": [
    "# Taille des fichiers mp3 "
   ]
  },
  {
   "cell_type": "markdown",
   "metadata": {},
   "source": [
    "Il nous manque encore la récupération des tailles de fichier mp3, qui sera inscrite dans le flux RSS :"
   ]
  },
  {
   "cell_type": "code",
   "execution_count": 38,
   "metadata": {},
   "outputs": [
    {
     "data": {
      "application/vnd.jupyter.widget-view+json": {
       "model_id": "e4172632f6f24eef863e7c37c12283ea",
       "version_major": 2,
       "version_minor": 0
      },
      "text/html": [
       "<p>Failed to display Jupyter Widget of type <code>HBox</code>.</p>\n",
       "<p>\n",
       "  If you're reading this message in the Jupyter Notebook or JupyterLab Notebook, it may mean\n",
       "  that the widgets JavaScript is still loading. If this message persists, it\n",
       "  likely means that the widgets JavaScript library is either not installed or\n",
       "  not enabled. See the <a href=\"https://ipywidgets.readthedocs.io/en/stable/user_install.html\">Jupyter\n",
       "  Widgets Documentation</a> for setup instructions.\n",
       "</p>\n",
       "<p>\n",
       "  If you're reading this message in another frontend (for example, a static\n",
       "  rendering on GitHub or <a href=\"https://nbviewer.jupyter.org/\">NBViewer</a>),\n",
       "  it may mean that your frontend doesn't currently support widgets.\n",
       "</p>\n"
      ],
      "text/plain": [
       "HBox(children=(IntProgress(value=0, max=381), HTML(value='')))"
      ]
     },
     "metadata": {},
     "output_type": "display_data"
    },
    {
     "name": "stdout",
     "output_type": "stream",
     "text": [
      "\n"
     ]
    }
   ],
   "source": [
    "byte_lengths = []\n",
    "for mp3_link in tqdm.tqdm_notebook(df['lien mp3']):\n",
    "    r = requests.head(mp3_link)\n",
    "    byte_lengths.append(r.headers['content-length'])"
   ]
  },
  {
   "cell_type": "code",
   "execution_count": 39,
   "metadata": {},
   "outputs": [],
   "source": [
    "df['byte_length'] = byte_lengths"
   ]
  },
  {
   "cell_type": "code",
   "execution_count": 40,
   "metadata": {},
   "outputs": [
    {
     "data": {
      "text/html": [
       "<div>\n",
       "<style>\n",
       "    .dataframe thead tr:only-child th {\n",
       "        text-align: right;\n",
       "    }\n",
       "\n",
       "    .dataframe thead th {\n",
       "        text-align: left;\n",
       "    }\n",
       "\n",
       "    .dataframe tbody tr th {\n",
       "        vertical-align: top;\n",
       "    }\n",
       "</style>\n",
       "<table border=\"1\" class=\"dataframe\">\n",
       "  <thead>\n",
       "    <tr style=\"text-align: right;\">\n",
       "      <th></th>\n",
       "      <th>lien mp3</th>\n",
       "      <th>lien description</th>\n",
       "      <th>titre</th>\n",
       "      <th>date</th>\n",
       "      <th>description</th>\n",
       "      <th>byte_length</th>\n",
       "    </tr>\n",
       "  </thead>\n",
       "  <tbody>\n",
       "    <tr>\n",
       "      <th>0</th>\n",
       "      <td>http://prevost.pascal.free.fr/public/podcast/s...</td>\n",
       "      <td>http://www.franceinter.fr/em/sur-les-epaules-d...</td>\n",
       "      <td>La théorie de l'évolution de Charles Darwin</td>\n",
       "      <td>4 Septembre 2010</td>\n",
       "      <td>Bibliographie:\\nL'origine des espèces de Charl...</td>\n",
       "      <td>51120256</td>\n",
       "    </tr>\n",
       "    <tr>\n",
       "      <th>1</th>\n",
       "      <td>http://prevost.pascal.free.fr/public/podcast/s...</td>\n",
       "      <td>http://www.franceinter.fr/em/sur-les-epaules-d...</td>\n",
       "      <td>Le propre de l'homme?</td>\n",
       "      <td>11 Septembre 2010</td>\n",
       "      <td>programmation musicale\\n   STAFF BENDA BILI...</td>\n",
       "      <td>52287616</td>\n",
       "    </tr>\n",
       "    <tr>\n",
       "      <th>2</th>\n",
       "      <td>http://prevost.pascal.free.fr/public/podcast/s...</td>\n",
       "      <td>http://www.franceinter.fr/em/sur-les-epaules-d...</td>\n",
       "      <td>Nos mémoires</td>\n",
       "      <td>18 Septembre 2010</td>\n",
       "      <td>programmation musicale\\n   Iggy POP\\nKing o...</td>\n",
       "      <td>51320960</td>\n",
       "    </tr>\n",
       "    <tr>\n",
       "      <th>3</th>\n",
       "      <td>http://prevost.pascal.free.fr/public/podcast/s...</td>\n",
       "      <td>http://www.franceinter.fr/em/sur-les-epaules-d...</td>\n",
       "      <td>Nos émotions</td>\n",
       "      <td>25 Septembre 2010</td>\n",
       "      <td>programmation musicale\\n   EMILY LOISEAU\\nL...</td>\n",
       "      <td>54608000</td>\n",
       "    </tr>\n",
       "    <tr>\n",
       "      <th>4</th>\n",
       "      <td>http://prevost.pascal.free.fr/public/podcast/s...</td>\n",
       "      <td>http://www.franceinter.fr/em/sur-les-epaules-d...</td>\n",
       "      <td>Longévité, jeunesse et vieillissement</td>\n",
       "      <td>2 Octobre 2010</td>\n",
       "      <td>programmation musicale\\n   Bonga\\nMona ki g...</td>\n",
       "      <td>52762752</td>\n",
       "    </tr>\n",
       "  </tbody>\n",
       "</table>\n",
       "</div>"
      ],
      "text/plain": [
       "                                            lien mp3  \\\n",
       "0  http://prevost.pascal.free.fr/public/podcast/s...   \n",
       "1  http://prevost.pascal.free.fr/public/podcast/s...   \n",
       "2  http://prevost.pascal.free.fr/public/podcast/s...   \n",
       "3  http://prevost.pascal.free.fr/public/podcast/s...   \n",
       "4  http://prevost.pascal.free.fr/public/podcast/s...   \n",
       "\n",
       "                                    lien description  \\\n",
       "0  http://www.franceinter.fr/em/sur-les-epaules-d...   \n",
       "1  http://www.franceinter.fr/em/sur-les-epaules-d...   \n",
       "2  http://www.franceinter.fr/em/sur-les-epaules-d...   \n",
       "3  http://www.franceinter.fr/em/sur-les-epaules-d...   \n",
       "4  http://www.franceinter.fr/em/sur-les-epaules-d...   \n",
       "\n",
       "                                         titre               date  \\\n",
       "0  La théorie de l'évolution de Charles Darwin   4 Septembre 2010   \n",
       "1                        Le propre de l'homme?  11 Septembre 2010   \n",
       "2                                 Nos mémoires  18 Septembre 2010   \n",
       "3                                 Nos émotions  25 Septembre 2010   \n",
       "4        Longévité, jeunesse et vieillissement     2 Octobre 2010   \n",
       "\n",
       "                                         description byte_length  \n",
       "0  Bibliographie:\\nL'origine des espèces de Charl...    51120256  \n",
       "1     programmation musicale\\n   STAFF BENDA BILI...    52287616  \n",
       "2     programmation musicale\\n   Iggy POP\\nKing o...    51320960  \n",
       "3     programmation musicale\\n   EMILY LOISEAU\\nL...    54608000  \n",
       "4     programmation musicale\\n   Bonga\\nMona ki g...    52762752  "
      ]
     },
     "execution_count": 40,
     "metadata": {},
     "output_type": "execute_result"
    }
   ],
   "source": [
    "df.head()"
   ]
  },
  {
   "cell_type": "markdown",
   "metadata": {},
   "source": [
    "# Ecriture du fichier RSS "
   ]
  },
  {
   "cell_type": "markdown",
   "metadata": {},
   "source": [
    "Maintenant que nous avons collecté toutes les émissions, nous pouvons écrire un ficher RSS, comme nous l'avions déjà fait [dans le cas de l'émission Rendez vous avec X](http://flothesof.github.io/podcast-rendez-vous-avec-X-fr.html)."
   ]
  },
  {
   "cell_type": "code",
   "execution_count": 41,
   "metadata": {},
   "outputs": [],
   "source": [
    "import dateparser"
   ]
  },
  {
   "cell_type": "code",
   "execution_count": 42,
   "metadata": {},
   "outputs": [],
   "source": [
    "import xml.etree.cElementTree as ET\n",
    "\n",
    "rss = ET.Element(\"rss\", version=\"2.0\")\n",
    "channel = ET.SubElement(rss, \"channel\")\n",
    "title = ET.SubElement(channel, \"title\")\n",
    "title.text = 'Podcast Sur les épaules de Darwin'\n",
    "description = ET.SubElement(channel, \"description\")\n",
    "description.text = \"Podcast inofficiel de l'émission Sur les épaules de Darwin, tiré du site http://clementgrimal.fr/darwin/ et https://www.franceinter.fr/emissions/sur-les-epaules-de-darwin\"\n",
    "for index, row in df.iterrows():\n",
    "    item = ET.SubElement(channel, \"item\")\n",
    "    item_title = ET.SubElement(item, \"title\")\n",
    "    item_title.text = row['titre']\n",
    "    item_description = ET.SubElement(item, \"description\")\n",
    "    item_description.text = row['description']\n",
    "    item_pubdate = ET.SubElement(item, \"pubDate\")\n",
    "    item_pubdate.text = dateparser.parse(row.date).date().strftime('%a, %d %b %Y 11:00:00')\n",
    "    item_enclosure = ET.SubElement(item, \"enclosure\", url='{}'.format(row['lien mp3']),\n",
    "                                   length=row.byte_length,\n",
    "                                  type=\"audio/mpeg\")\n",
    "tree = ET.ElementTree(rss)\n",
    "tree.write(\"files/podcast_Sur_les_epaules_de_Darwin.xml\", encoding='utf-8')"
   ]
  },
  {
   "cell_type": "markdown",
   "metadata": {},
   "source": [
    "Le lien vers le fichier généré est ici : **https://raw.githubusercontent.com/flothesof/posts/master/files/podcast_Sur_les_epaules_de_Darwin.xml**."
   ]
  },
  {
   "cell_type": "markdown",
   "metadata": {},
   "source": [
    "*Ce billet a été écrit à l'aide d'un notebook Jupyter. Son contenu est sous licence BSD. Une vue statique de ce notebook peut être consultée et téléchargée ici : [20170908_PodcastEpaulesDeDarwin.ipynb](http://nbviewer.ipython.org/urls/raw.github.com/flothesof/posts/master/20170908_PodcastEpaulesDeDarwin.ipynb).*"
   ]
  }
 ],
 "metadata": {
  "kernelspec": {
   "display_name": "Python 3",
   "language": "python",
   "name": "python3"
  },
  "language_info": {
   "codemirror_mode": {
    "name": "ipython",
    "version": 3
   },
   "file_extension": ".py",
   "mimetype": "text/x-python",
   "name": "python",
   "nbconvert_exporter": "python",
   "pygments_lexer": "ipython3",
   "version": "3.6.1"
  },
  "toc": {
   "colors": {
    "hover_highlight": "#DAA520",
    "navigate_num": "#000000",
    "navigate_text": "#333333",
    "running_highlight": "#FF0000",
    "selected_highlight": "#FFD700",
    "sidebar_border": "#EEEEEE",
    "wrapper_background": "#FFFFFF"
   },
   "moveMenuLeft": true,
   "nav_menu": {
    "height": "84px",
    "width": "253px"
   },
   "navigate_menu": true,
   "number_sections": true,
   "sideBar": true,
   "threshold": 4,
   "toc_cell": false,
   "toc_section_display": "block",
   "toc_window_display": false,
   "widenNotebook": false
  }
 },
 "nbformat": 4,
 "nbformat_minor": 2
}
