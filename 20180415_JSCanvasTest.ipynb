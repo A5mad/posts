{
 "cells": [
  {
   "cell_type": "markdown",
   "metadata": {},
   "source": [
    "There is a very cool talk by [Mathieu Henri](http://www.p01.org) in which he shows how to code simple animation in your browser using Javascript and a little bit of math. "
   ]
  },
  {
   "cell_type": "code",
   "execution_count": 10,
   "metadata": {},
   "outputs": [],
   "source": [
    "from IPython.display import YouTubeVideo"
   ]
  },
  {
   "cell_type": "code",
   "execution_count": 11,
   "metadata": {},
   "outputs": [
    {
     "data": {
      "image/jpeg": "[encoded data removed]",
      "text/html": [
       "\n",
       "        <iframe\n",
       "            width=\"400\"\n",
       "            height=\"300\"\n",
       "            src=\"https://www.youtube.com/embed/16oLi1kvLHs\"\n",
       "            frameborder=\"0\"\n",
       "            allowfullscreen\n",
       "        ></iframe>\n",
       "        "
      ],
      "text/plain": [
       "<IPython.lib.display.YouTubeVideo at 0x10fa53400>"
      ]
     },
     "execution_count": 11,
     "metadata": {},
     "output_type": "execute_result"
    }
   ],
   "source": [
    "YouTubeVideo('16oLi1kvLHs')"
   ]
  },
  {
   "cell_type": "markdown",
   "metadata": {},
   "source": [
    "A first example is the HTML below. What it does is:\n",
    "\n",
    "- create a Canvas and style it\n",
    "- run a loop that updates the canvas by drawing the frame number onto it, at full browser speed"
   ]
  },
  {
   "cell_type": "code",
   "execution_count": 52,
   "metadata": {},
   "outputs": [
    {
     "data": {
      "text/html": [
       "<style>\n",
       "#b {\n",
       "  position: inherit;\n",
       "  top: 0;\n",
       "  left: 0;\n",
       "  width: 100%;\n",
       "  height: 100%;\n",
       "  background: radial-gradient(circle, #456, #200);\n",
       "}\n",
       "</style>\n",
       "<div id='drawdiv'>\n",
       "<canvas id='b'>\n",
       "</div>\n",
       "<script>\n",
       "c=b.getContext('2d');\n",
       "function update() {\n",
       "    \n",
       "    requestAnimationFrame(update);\n",
       "    \n",
       "    // init\n",
       "    if (!window.time) {\n",
       "        frame = 0;\n",
       "        time = 1/60;\n",
       "    }\n",
       "    else if (frame < 20000) {\n",
       "        frame++;\n",
       "        time += 1/60\n",
       "\n",
       "        // render visual\n",
       "        H = b.height = 512;\n",
       "        W = b.width = 0 | H * innerWidth / innerHeight;\n",
       "        c.translate(W/2, H/2);\n",
       "        c.strokeStyle = '#fff';\n",
       "        c.strokeText([W, H, frame], 0, 0);   \n",
       "    }\n",
       "}\n",
       "update();\n",
       "</script>"
      ],
      "text/plain": [
       "<IPython.core.display.HTML object>"
      ]
     },
     "metadata": {},
     "output_type": "display_data"
    }
   ],
   "source": [
    "%%html\n",
    "<style>\n",
    "#b {\n",
    "  position: inherit;\n",
    "  top: 0;\n",
    "  left: 0;\n",
    "  width: 100%;\n",
    "  height: 100%;\n",
    "  background: radial-gradient(circle, #456, #200);\n",
    "}\n",
    "</style>\n",
    "<div id='drawdiv'>\n",
    "<canvas id='b'>\n",
    "</div>\n",
    "<script>\n",
    "c=b.getContext('2d');\n",
    "function update() {\n",
    "    \n",
    "    requestAnimationFrame(update);\n",
    "    \n",
    "    // init\n",
    "    if (!window.time) {\n",
    "        frame = 0;\n",
    "        time = 1/60;\n",
    "    }\n",
    "    else if (frame < 20000) {\n",
    "        frame++;\n",
    "        time += 1/60\n",
    "\n",
    "        // render visual\n",
    "        H = b.height = 512;\n",
    "        W = b.width = 0 | H * innerWidth / innerHeight;\n",
    "        c.translate(W/2, H/2);\n",
    "        c.strokeStyle = '#fff';\n",
    "        c.strokeText([W, H, frame], 0, 0);   \n",
    "    }\n",
    "}\n",
    "update();\n",
    "</script>"
   ]
  },
  {
   "cell_type": "markdown",
   "metadata": {},
   "source": [
    "A more elaborate example would be to show something that is like what Mathieu showed in the talk: drawing some sort of vines."
   ]
  },
  {
   "cell_type": "code",
   "execution_count": null,
   "metadata": {},
   "outputs": [],
   "source": []
  },
  {
   "cell_type": "code",
   "execution_count": null,
   "metadata": {},
   "outputs": [],
   "source": []
  },
  {
   "cell_type": "code",
   "execution_count": null,
   "metadata": {},
   "outputs": [],
   "source": []
  },
  {
   "cell_type": "code",
   "execution_count": null,
   "metadata": {},
   "outputs": [],
   "source": []
  }
 ],
 "metadata": {
  "kernelspec": {
   "display_name": "Python 3",
   "language": "python",
   "name": "python3"
  },
  "language_info": {
   "codemirror_mode": {
    "name": "ipython",
    "version": 3
   },
   "file_extension": ".py",
   "mimetype": "text/x-python",
   "name": "python",
   "nbconvert_exporter": "python",
   "pygments_lexer": "ipython3",
   "version": "3.6.1"
  },
  "toc": {
   "colors": {
    "hover_highlight": "#DAA520",
    "navigate_num": "#000000",
    "navigate_text": "#333333",
    "running_highlight": "#FF0000",
    "selected_highlight": "#FFD700",
    "sidebar_border": "#EEEEEE",
    "wrapper_background": "#FFFFFF"
   },
   "moveMenuLeft": true,
   "nav_menu": {
    "height": "12px",
    "width": "252px"
   },
   "navigate_menu": true,
   "number_sections": true,
   "sideBar": true,
   "threshold": 4,
   "toc_cell": false,
   "toc_section_display": "block",
   "toc_window_display": false,
   "widenNotebook": false
  }
 },
 "nbformat": 4,
 "nbformat_minor": 2
}
