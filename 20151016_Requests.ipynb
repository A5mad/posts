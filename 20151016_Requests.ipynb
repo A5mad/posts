{
 "cells": [
  {
   "cell_type": "markdown",
   "metadata": {},
   "source": [
    "# Scraping the information "
   ]
  },
  {
   "cell_type": "markdown",
   "metadata": {},
   "source": [
    "How?\n",
    "\n",
    "- init session (gives you the cookies, the link to call later)\n",
    "- init search with the right parameters\n",
    "- get post response"
   ]
  },
  {
   "cell_type": "markdown",
   "metadata": {},
   "source": [
    "After watching this video, I realized he uses a [Session](http://docs.python-requests.org/en/v1.0.4/user/advanced/). Let's try this."
   ]
  },
  {
   "cell_type": "code",
   "execution_count": 1,
   "metadata": {
    "collapsed": true
   },
   "outputs": [],
   "source": [
    "import requests"
   ]
  },
  {
   "cell_type": "code",
   "execution_count": 2,
   "metadata": {
    "collapsed": false
   },
   "outputs": [
    {
     "name": "stdout",
     "output_type": "stream",
     "text": [
      "{\n",
      "  \"cookies\": {\n",
      "    \"sessioncookie\": \"123456789\"\n",
      "  }\n",
      "}\n",
      "\n"
     ]
    }
   ],
   "source": [
    "s = requests.Session()\n",
    "\n",
    "s.get('http://httpbin.org/cookies/set/sessioncookie/123456789')\n",
    "r = s.get(\"http://httpbin.org/cookies\")\n",
    "\n",
    "print(r.text)\n",
    "# '{\"cookies\": {\"sessioncookie\": \"123456789\"}}'"
   ]
  },
  {
   "cell_type": "markdown",
   "metadata": {},
   "source": [
    "What if we do this with ameli?"
   ]
  },
  {
   "cell_type": "code",
   "execution_count": 12,
   "metadata": {
    "collapsed": false
   },
   "outputs": [],
   "source": [
    "s = requests.Session()\n",
    "\n",
    "r = s.get('http://ameli-direct.ameli.fr')"
   ]
  },
  {
   "cell_type": "markdown",
   "metadata": {},
   "source": [
    "Getting the interesting link:"
   ]
  },
  {
   "cell_type": "code",
   "execution_count": 14,
   "metadata": {
    "collapsed": true
   },
   "outputs": [],
   "source": [
    "test_string = \"\"\"<div id=\"centresite\">\n",
    "        <form action=\"/recherche-ceca2094e7dec344ca69beca17f092d2.html\" method=\"post\">\n",
    "            <div class=\"choix-ps-es\">\n",
    "\t<h2>Je recherche :</h2>\"\"\""
   ]
  },
  {
   "cell_type": "code",
   "execution_count": 13,
   "metadata": {
    "collapsed": true
   },
   "outputs": [],
   "source": [
    "import re"
   ]
  },
  {
   "cell_type": "code",
   "execution_count": 15,
   "metadata": {
    "collapsed": false
   },
   "outputs": [],
   "source": [
    "p = re.compile('<form action=\"([\\w\\d/.-]+)\" method=\"post\">')"
   ]
  },
  {
   "cell_type": "code",
   "execution_count": 16,
   "metadata": {
    "collapsed": false
   },
   "outputs": [
    {
     "data": {
      "text/plain": [
       "['/recherche-ceca2094e7dec344ca69beca17f092d2.html']"
      ]
     },
     "execution_count": 16,
     "metadata": {},
     "output_type": "execute_result"
    }
   ],
   "source": [
    "p.findall(test_string)"
   ]
  },
  {
   "cell_type": "code",
   "execution_count": 17,
   "metadata": {
    "collapsed": false
   },
   "outputs": [
    {
     "data": {
      "text/plain": [
       "'/recherche-3a4f89dc9bd653a34e287e7c17e7b2ff.html'"
      ]
     },
     "execution_count": 17,
     "metadata": {},
     "output_type": "execute_result"
    }
   ],
   "source": [
    "suburl = p.findall(r.text)[0]\n",
    "suburl"
   ]
  },
  {
   "cell_type": "markdown",
   "metadata": {},
   "source": [
    "Good, we have an entry point into the system: the url we need to find."
   ]
  },
  {
   "cell_type": "markdown",
   "metadata": {},
   "source": [
    "It also looks like we have cookies!"
   ]
  },
  {
   "cell_type": "code",
   "execution_count": 18,
   "metadata": {
    "collapsed": false
   },
   "outputs": [
    {
     "data": {
      "text/plain": [
       "<RequestsCookieJar[Cookie(version=0, name='AmeliDirectPersist', value='376496439.20480.0000', port=None, port_specified=False, domain='ameli-direct.ameli.fr', domain_specified=False, domain_initial_dot=False, path='/', path_specified=True, secure=False, expires=None, discard=True, comment=None, comment_url=None, rest={}, rfc2109=False), Cookie(version=0, name='TS01b76c1f', value='0139dce0d2bec8d54d79aaa58ea7790b16c9c15691efa8e160cf039b22e711887f55e473b7f92c0140a8380921774568848cd87c83db97e20a37f9ab0e3b8d6f91527e9707', port=None, port_specified=False, domain='ameli-direct.ameli.fr', domain_specified=False, domain_initial_dot=False, path='/', path_specified=True, secure=False, expires=None, discard=True, comment=None, comment_url=None, rest={}, rfc2109=False), Cookie(version=0, name='infosoins', value='vst70vcj195p9jic21l133jfk6', port=None, port_specified=False, domain='ameli-direct.ameli.fr', domain_specified=False, domain_initial_dot=False, path='/', path_specified=True, secure=False, expires=1445038748, discard=False, comment=None, comment_url=None, rest={}, rfc2109=False)]>"
      ]
     },
     "execution_count": 18,
     "metadata": {},
     "output_type": "execute_result"
    }
   ],
   "source": [
    "r.cookies"
   ]
  },
  {
   "cell_type": "markdown",
   "metadata": {},
   "source": [
    "Now, which request do we have to complete to finish this? We primarily need the sort of payload we want to ask the site for:"
   ]
  },
  {
   "cell_type": "code",
   "execution_count": 19,
   "metadata": {
    "collapsed": false
   },
   "outputs": [],
   "source": [
    "payload = {\"type\":\"ps\",\n",
    "    \"ps_profession\":\"ophtalmologiste\",\n",
    "    \"ps_localisation\":\"92120\"}\n",
    "\n",
    "r = s.post(\"http://ameli-direct.ameli.fr\" + suburl, params=payload)"
   ]
  },
  {
   "cell_type": "code",
   "execution_count": 20,
   "metadata": {
    "collapsed": false
   },
   "outputs": [
    {
     "data": {
      "text/plain": [
       "<Response [200]>"
      ]
     },
     "execution_count": 20,
     "metadata": {},
     "output_type": "execute_result"
    }
   ],
   "source": [
    "r"
   ]
  },
  {
   "cell_type": "code",
   "execution_count": 21,
   "metadata": {
    "collapsed": false
   },
   "outputs": [
    {
     "data": {
      "text/plain": [
       "'<!DOCTYPE html PUBLIC \"-//W3C//DTD XHTML 1.0 Transitional//EN\" \"http://www.w3.org/TR/xhtml1/DTD/xhtml1-transitional.dtd\"><html xmlns=\"http://www.w3.org/1999/xhtml\" xml:lang=\"fr\">\\n<head>\\n\\t<title>Annuaire santé d\\'ameli.fr : trouver un médecin, un hôpital...</title>\\n\\t<meta name=\"description\" content=\"L’annuaire santé de l’Assurance Maladie pour trouver un médecin, un kiné, un hôpital… Tarifs – Horaires – Spécialités - Localisation\" />\\n\\t<meta http-equiv=\"X-UA-Compatible\" content=\"IE=edge\">\\n<meta http-equiv=\"Content-Type\" content=\"text/html;charset=UTF-8\" />\\n<meta name=\"robots\" content=\"noindex, nofollow\" /><link href=\"/resources_ver/20150826115145/css/print_new.css\" media=\"print\" rel=\"stylesheet\" type=\"text/css\" />\\n<link href=\"/resources_ver/20150826115145/css/jquery.qtip.css\" media=\"screen\" rel=\"stylesheet\" type=\"text/css\" />\\n<link href=\"/resources_ver/20150826115145/css/styles_new.css\" media=\"screen\" rel=\"stylesheet\" type=\"text/css\" />\\n<link href=\"/resources_ver/20150826115145/css/ui-lightness/jquery-ui-1.10.3.custom.min.css\" media=\"all\" rel=\"stylesheet\" type=\"text/css\" />\\n<link href=\"http://fonts.googleapis.com/css?family=Droid+Sans:700,400\" media=\"all\" rel=\"stylesheet\" type=\"text/css\" />\\n<link href=\"/resources_ver/20150826115145/css/geoportail.css\" media=\"all\" rel=\"stylesheet\" type=\"text/css\" />\\n<!--[if IE]> <link href=\"/resources_ver/20150826115145/css/styles_ie_new.css\" media=\"screen\" rel=\"stylesheet\" type=\"text/css\" /><![endif]-->\\n<!--[if IE 7]> <link href=\"/resources_ver/20150826115145/css/styles_ie7.css\" media=\"screen\" rel=\"stylesheet\" type=\"text/css\" /><![endif]--><script type=\"text/javascript\" src=\"/resources_ver/20150826115145/js/jquery-1.10.2.min.js\"></script>\\n<script type=\"text/javascript\" src=\"/resources_ver/20150826115145/js/jquery-ui-1.10.3.custom.min.js\"></script>\\n<script type=\"text/javascript\" src=\"http://api.ign.fr/geoportail/api/js/latest/GeoportalExtended.js\"></script>\\n<script type=\"text/javascript\" src=\"/resources_ver/20150826115145/js/geoportail.utils.js\"></script>\\n<script type=\"text/javascript\" src=\"/resources_ver/20150826115145/js/jquery.popin.40.js\"></script>\\n<script type=\"text/javascript\" src=\"/resources_ver/20150826115145/js/selectmenu.uncompressed.js\"></script>\\n<script type=\"text/javascript\" src=\"/resources_ver/20150826115145/js/jquery.qtip.js\"></script>\\n<script type=\"text/javascript\" src=\"/resources_ver/20150826115145/js/BrowserDetect.js\"></script>\\n<script type=\"text/javascript\" src=\"/resources_ver/20150826115145/js/scripts.uncompressed.js\"></script></head>\\n<body>\\n<div id=\"site\" >\\n\\t<div id=\"entete\">\\n\\t<a href=\"/\" title=\"\"><img class=\"logoam\" alt=\"L\\'Assurance Maladie\" src=\"/resources_ver/20150826115145/images/accueil/logo_am.png\"/></a>\\n\\t<h1><img src=\"/resources_ver/20150826115145/images/accueil/logo_amelidirect.png\" alt=\"Annuaire santé\" class=\"logosite\" /></h1>\\n\\t<img src=\"/resources_ver/20150826115145/images/accueil/liner.gif\" alt=\"Je m\\'informe avant de consulter\" class=\"liner\" />\\n\\t <div class=\"encart_haut_ameli\">\\n\\t\\t<div class=\"acces\">\\n\\t\\t\\t<a target=\"_blank\" href=\"https://assure.ameli.fr/\" >Accéder à mon compte</a>\\n\\t\\t\\t\\t</div>\\n\\t\\t<div class=\"ouvrir\">\\n\\t\\t\\t<a target=\"_blank\" href=\"https://assure.ameli.fr/\">Ouvrir mon compte</a>\\n\\t\\t</div>\\n\\t</div>\\n</div>\\t    \\t<div id=\"site_inner\" >\\n                            \\t\\t<div id=\"filariane\" class=\"ariane\">\\n    \\t\\t\\t<p><span><a href=\"/\">Accueil</a></span> &gt; <span><a href=\"/nouvelle-recherche/professionnels-de-sante.html\">Professionnels de santé</a></span> &gt; <span>Résultats de la recherche</span></p>\\n    \\t\\t</div>\\n    \\t\\t<div class=\"print-result impression\"><a href=\"?print\" target=\"_blank\">Imprimer la liste de résultats</a></div>\\n<div class=\"clear\"></div>\\n<div class=\"recapitulatif\">\\n\\t<div class=\"recapitulatif-inner\">\\n\\t        \\t<div class=\"infos\">\\n            <div class=\"boutons\">\\n                <a href=\"/modifier_votre_recherche_1.html\">\\n            \\t    <span><span>Modifier votre recherche</span></span>\\n                </a>\\n                <a href=\"/nouvelle-recherche/professionnels-de-sante.html\" class=\"loupe\">\\n                    <span><span>Nouvelle recherche</span></span>\\n                </a>\\n            </div>\\n            <h1>4 résultats correspondent à votre recherche</h1>\\n            <ul>\\n            \\t<li>Profession&nbsp;: Ophtalmologiste</li>\\n                <li>Lieu&nbsp;: 92120</li>\\n                            </ul>\\n                        <div class=\"mention\">Dans la liste ci-dessous, ne figurent que les professionnels de santé qui exercent une activité libérale et les centres de santé.</div>\\n                    </div>  \\n        <div class=\"carte\"><a href=\"/carte-1-3a4f89dc9bd653a34e287e7c17e7b2ff.html\" class=\"modaleCarteLink\"><img src=\"/resources_ver/20150826115145/images/lien_carte.png\" alt=\"Voir les résultats sur une carte\" /></a></div>\\t\\t<div class=\"clear\"></div>\\n\\t</div>\\n</div>\\n<div class=\"liste-criteres\">\\n\\t    \\t        \\t<div class=\"bloc-critere\">\\n        \\t\\t<div class=\"bloc-haut-critere\"></div>\\n        \\t\\t<a class=\"infos\" href=\"/fenetre-modale-xhr/information_facette_type_honoraires.html\"><img src=\"/resources_ver/20150826115145/images/picto_info.gif\" alt=\"Infos\" /></a>\\n        \\t\\t<h2><img alt=\"Affichez les professionnels de santé selon le type d’honoraires\" src=\"/resources_ver/20150826115145/images/picto_euro.png\" class=\"picto_facette\">Affichez les professionnels de santé selon le type d’honoraires</h2>\\n    \\t\\t\\t<ul>\\n        \\t\\t\\t        \\t\\t\\t\\t<li><a href=\"/recherche-facette-1-3a4f89dc9bd653a34e287e7c17e7b2ff/type_honoraires-tarif-sans-depassement.html\">Honoraires sans dépassement (1)</a></li>        \\t\\t\\t        \\t\\t\\t\\t<li><a href=\"/recherche-facette-1-3a4f89dc9bd653a34e287e7c17e7b2ff/type_honoraires-tarif-libre.html\">Honoraires libres (2)</a></li>        \\t\\t\\t        \\t\\t\\t\\t<li><a href=\"/recherche-facette-1-3a4f89dc9bd653a34e287e7c17e7b2ff/type_honoraires-conventionne.html\">Conventionné (1)</a></li>        \\t\\t\\t        \\t\\t</ul>\\n        \\t\\t<div class=\"bloc-bas-critere\"></div>\\n        \\t</div>\\n    \\t    \\t    \\t    \\t\\n        \\t<div class=\"bloc-critere\">\\n        \\t\\t<div class=\"bloc-haut-critere\"></div>\\n        \\t\\t<h2>Affichez les professionnels de santé acceptant la carte Vitale</h2>\\n        \\t\\t<ul>\\n        \\t\\t\\t            \\t\\t\\t<li>\\n            \\t\\t\\t\\t<a href=\"/recherche-facette-1-3a4f89dc9bd653a34e287e7c17e7b2ff/carte_vitale-1.html\"><img src=\"/resources_ver/20150826115145/images/picto_cartevitale.png\" alt=\"\" /><span>Avec carte Vitale (3)</span></a>\\n            \\t\\t\\t</li>\\n        \\t\\t\\t        \\t\\t</ul>\\n        \\t\\t<div class=\"bloc-bas-critere\"></div>\\n        \\t</div>\\n    \\t    \\t    \\t\\n    \\t<!-- facette centre des sante -->\\n    \\t    \\t\\n        \\t<div class=\"bloc-critere\">\\n        \\t\\t<div class=\"bloc-haut-critere\"></div>\\n        \\t\\t<h2>Affichez les centres de santé</h2>\\n        \\t\\t<ul>\\n        \\t\\t\\t            \\t\\t\\t<li>\\n            \\t\\t\\t\\t<a href=\"/recherche-facette-1-3a4f89dc9bd653a34e287e7c17e7b2ff/categorie-CENTRE_DE_SANTE.html\"><img src=\"/resources_ver/20150826115145/images/picto_facette_centre_sante.png\" alt=\"\" /><span>Centre de santé (1)</span></a>\\n            \\t\\t\\t</li>\\n        \\t\\t\\t        \\t\\t</ul>\\n        \\t\\t<div class=\"bloc-bas-critere\"></div>\\n        \\t</div>\\n    \\t    \\t\\n    \\t\\n    </div>\\n<div class=\"resultats\">\\n\\t<div id=\"hautcadre\"></div>\\n\\t<div id=\"centrecadre\">\\n\\t\\t<div class=\"tri\">\\n\\t\\t\\t<form id=\"form_tri\" action=\"\">\\n\\t\\t\\t\\t<label for=\"tri-haut\">Trier par</label>\\n\\t\\t\\t\\t<select id=\"form_tri_select\" name=\"sorting\" onchange=\"document.getElementById(\\'form_tri\\').submit()\">\\n\\t            \\t<option value=\"aleatoire\"> - </option>\\t                    <option value=\"nom_asc\">Nom</option>\\n\\t            \\t    \\t                    <option value=\"carte-vitale_desc\">Carte Vitale</option>\\n\\t            \\t    \\t                    <option value=\"secteur_asc\">Type d&#039;honoraires</option>\\n\\t            \\t    \\t            </select>\\n\\t           <button type=\"submit\" title=\"Trier\" class=\"boutons\"><a href=\"#\"><span><span>Trier</span></span></a></button>\\n            </form>\\n\\t\\t</div>\\n\\t\\t\\t\\t<div class=\"clear\"></div>\\n                <div class=\"liste-professionnel\">\\n            <div class=\"item-professionnel\"><div class=\"item-professionnel-inner\"><span class=\"num\">1</span><div class=\"nom_pictos\"><h2><a href=\"/professionnels-de-sante/recherche-1/fiche-detaillee-CbA1kzI4MzG0-3a4f89dc9bd653a34e287e7c17e7b2ff.html\"><strong>DEBBASCH</strong> JEAN MARC</a></h2><div class=\"pictos\"><img alt=\"Accepte la carte Vitale\" src=\"/resources_ver/20150826115145/images/picto_cartevitale.png\" class=\"infobulle\"/></div><div class=\"clear\"></div></div><div class=\"clear\"></div><div class=\"elements\"><div class=\"item left\"></div><div class=\"item right type_honoraires\">Honoraires libres</div><div class=\"clear\"></div><div class=\"item left tel\">01&nbsp;46&nbsp;56&nbsp;90&nbsp;90</div><div class=\"item right convention\"><a href=\"#\" class=\"infobulle\" alt=\"Les médecins fixent librement leurs tarifs et peuvent donc pratiquer des dépassements d’honoraires avec tact et mesure. L’Assurance Maladie rembourse les consultations et actes réalisés par ces médecins sur la base des tarifs fixés dans la convention (tarifs applicables au médecin de secteur 2), le montant des éventuels dépassements d’honoraires reste à votre charge.\" >Conventionné secteur 2</a></div><div class=\"clear\"></div><div class=\"item left adresse\">31 AVENUE VERDIER<br />92120 MONTROUGE</div><div class=\"clear\"></div></div><div class=\"clear\"></div></div></div><div class=\"item-professionnel\"><div class=\"item-professionnel-inner\"><span class=\"num\">2</span><div class=\"nom_pictos\"><h2><a href=\"/professionnels-de-sante/recherche-1/fiche-detaillee-CbA1kDA0Njew-3a4f89dc9bd653a34e287e7c17e7b2ff.html\"><strong>KHAYAT</strong> NADINE</a></h2><div class=\"pictos\"><img alt=\"Accepte la carte Vitale\" src=\"/resources_ver/20150826115145/images/picto_cartevitale.png\" class=\"infobulle\"/></div><div class=\"clear\"></div></div><div class=\"clear\"></div><div class=\"elements\"><div class=\"item left\"></div><div class=\"item right type_honoraires\">Honoraires sans dépassement</div><div class=\"clear\"></div><div class=\"item left tel\">01&nbsp;82&nbsp;00&nbsp;15&nbsp;16</div><div class=\"item right convention\"><a href=\"#\" class=\"infobulle\" alt=\"Les médecins appliquent les tarifs fixés dans la convention nationale sans dépassements d’honoraires (dits tarifs conventionnels, opposables ou de secteur 1). Ces tarifs servent de base au remboursement de l’Assurance Maladie. Des dépassements d’honoraires ne peuvent être facturés qu’à titre exceptionnel, pour des motifs liés, par exemple à des exigences de temps ou de lieu du patient (DE). Ces dépassements ne sont pas remboursés par l’Assurance Maladie, que vous soyez dans le parcours de soins ou non.\" >Conventionné secteur 1</a></div><div class=\"clear\"></div><div class=\"item left adresse\">10 RUE V. HUGO<br />92120 MONTROUGE</div><div class=\"clear\"></div></div><div class=\"clear\"></div></div></div><div class=\"item-professionnel\"><div class=\"item-professionnel-inner\"><span class=\"num\">3</span><div class=\"nom_pictos centre-sante\"><h2><a href=\"/professionnels-de-sante/centre-sante/recherche-1/fiche-detaillee-CbA0kjMxNDux-3a4f89dc9bd653a34e287e7c17e7b2ff.html\">CENTRE DE SANTE MUNICIPAL</a></h2><div class=\"clear\"></div></div><div class=\"clear\"></div><div class=\"pictos\"><img alt=\"Cet établissement est un centre de santé\" src=\"/resources_ver/20150826115145/images/picto_categorie_centre_sante.png\" class=\"infobulle\" /></div><div class=\"clear\"></div><div class=\"elements\"><div class=\"item left adresse\">CENTRE DE SANTE MUNICIPAL<br />5 RUE AMAURY DUVAL<br />92120 MONTROUGE</div><div class=\"item right tel\">01&nbsp;46&nbsp;12&nbsp;74&nbsp;09</div><div class=\"clear\"></div><div class=\"item left type-etablissement\"></div><div class=\"clear\"></div></div><div class=\"clear\"></div></div></div><div class=\"item-professionnel\"><div class=\"item-professionnel-inner\"><span class=\"num\">4</span><div class=\"nom_pictos\"><h2><a href=\"/professionnels-de-sante/recherche-1/fiche-detaillee-CbA1kzI3Mje6-3a4f89dc9bd653a34e287e7c17e7b2ff.html\"><strong>KOHANE</strong> BERNARD</a></h2><div class=\"pictos\"><img alt=\"Accepte la carte Vitale\" src=\"/resources_ver/20150826115145/images/picto_cartevitale.png\" class=\"infobulle\"/></div><div class=\"clear\"></div></div><div class=\"clear\"></div><div class=\"elements\"><div class=\"item left\"></div><div class=\"item right type_honoraires\">Honoraires libres</div><div class=\"clear\"></div><div class=\"item left tel\">01&nbsp;46&nbsp;56&nbsp;90&nbsp;90</div><div class=\"item right convention\"><a href=\"#\" class=\"infobulle\" alt=\"Les médecins fixent librement leurs tarifs et peuvent donc pratiquer des dépassements d’honoraires avec tact et mesure. L’Assurance Maladie rembourse les consultations et actes réalisés par ces médecins sur la base des tarifs fixés dans la convention (tarifs applicables au médecin de secteur 2), le montant des éventuels dépassements d’honoraires reste à votre charge.\" >Conventionné secteur 2</a></div><div class=\"clear\"></div><div class=\"item left adresse\">31 AVENUE VERDIER<br />92120 MONTROUGE</div><div class=\"clear\"></div></div><div class=\"clear\"></div></div></div>        </div>\\n                <div class=\"tri\">\\n            <form id=\"form_tri_bas\" action=\"\">\\n                <label for=\"form_tri_select\">Trier par</label>\\n                <select id=\"form_tri_select\" name=\"sorting\" onchange=\"document.getElementById(\\'form_tri_bas\\').submit()\">\\n                \\t<option value=\"aleatoire\"> - </option>                    <option value=\"nom_asc\">Nom</option>\\n                \\t                    <option value=\"carte-vitale_desc\">Carte Vitale</option>\\n                \\t                    <option value=\"secteur_asc\">Type d&#039;honoraires</option>\\n                \\t                </select>\\n            </form>\\n        </div>\\n                        <div class=\"clear\"></div>\\n\\t</div>\\n\\t<div id=\"bascadre\"></div>\\n</div>\\n<div class=\"clear\"></div>    \\t</div>\\n    \\t<div id=\"footer\">\\n    \\t\\t<div class=\"mention\">L\\'utilisation du service offert sur ce site est soumise au respect des conditions d\\'utilisation. Toute reproduction intégrale ou partielle des contenus, données et informations disponibles est illicite et peut donner lieu à des sanctions.</div>\\n    \\t    <div class=\"liens\">\\n\\t\\t\\t\\t<h2>Les autres sites de l\\'Assurance Maladie</h2>\\n\\t\\t\\t\\t<div class=\"site\"><a href=\"http://www.ameli.fr\" target=\"_blank\" rel=\"nofollow\" title=\"Ameli.fr : je m\\'informe sur mes droits et mes démarches (nouvelle fenêtre)\"><img src=\"/resources_ver/20150826115145/images/footer_ameli.png\" alt=\"ameli.fr\" /></a><br/>Je m\\'informe sur mes droits et mes démarches</div>\\n\\t\\t\\t\\t<div class=\"site\"><a href=\"http://www.ameli-sante.fr\" target=\"_blank\" rel=\"nofollow\" title=\"Ameli-santé.fr : Ma référence en information santé (nouvelle fenêtre)\"><img src=\"/resources_ver/20150826115145/images/footer_sante.png\" alt=\"ameli-sante.fr\" /></a><br/>Je m\\'informe sur ma santé</div>\\n\\t\\t\\t\\t<div class=\"site\"><a href=\"http://www.ameli-sophia.fr\" target=\"_blank\" rel=\"nofollow\" title=\"ameli-sophia (nouvelle fenêtre)\"><img src=\"/resources_ver/20150826115145/images/footer_sophia.png\" alt=\"ameli-sophia.fr\" /></a><br/>Le service d\\'accompagnement pour mieux vivre avec une maladie chronique</div>\\n\\t\\t\\t</div>\\n\\t\\t\\t<div class=\"clear\"></div>\\n    \\t\\t<div class=\"liens-transverse\"> | <a href=\"/fenetre-modale-xhr/dispositions_generales.html?width=700&amp;modal=true\" class=\"thickbox\" title=\"Dispositions générales\">Dispositions générales</a> | <a href=\"/fenetre-modale-xhr/mentions_legales.html?width=700&amp;modal=true\" class=\"thickbox\" title=\"Mentions légales\">Mentions légales</a></div>\\n    \\t</div>\\n    </div>\\n<!-- Version OW040304X -->\\n<script type=\"text/javascript\">\\n<!--\\nxtnv = document;        //parent.document or top.document or document         \\nxtsd = \"http://logi7\";\\nxtsite = \"475098\";\\nxtn2 = \"2\";        // level 2 site \\nxtpage = \"ameli-direct-externe::liste-resultats-ps\";        //page name (with the use of :: to create chapters)\\nxtdi = \"\";        //implication degree\\n//-->\\n</script>\\n<script type=\"text/javascript\" src=\"/resources_ver/20150826115145/js/xtcore.js\"></script>\\n<noscript>\\n<img width=\"1\" height=\"1\" alt=\"\" src=\"http://logi7.xiti.com/hit.xiti?s=475098&amp;s2=1&amp;p=ameli-direct-externe::liste-resultats-ps&amp;di=&amp;\" />\\n</noscript></body>\\n</html>\\n'"
      ]
     },
     "execution_count": 21,
     "metadata": {},
     "output_type": "execute_result"
    }
   ],
   "source": [
    "r.text"
   ]
  },
  {
   "cell_type": "markdown",
   "metadata": {},
   "source": [
    "Good, the first part of our work is done!"
   ]
  },
  {
   "cell_type": "markdown",
   "metadata": {},
   "source": [
    "# The parsing "
   ]
  },
  {
   "cell_type": "markdown",
   "metadata": {},
   "source": [
    "Let's use beautiful soup to parse the document structure. There's a great documentation here: [http://www.crummy.com/software/BeautifulSoup/bs4/doc/](http://www.crummy.com/software/BeautifulSoup/bs4/doc/)."
   ]
  },
  {
   "cell_type": "code",
   "execution_count": 54,
   "metadata": {
    "collapsed": false
   },
   "outputs": [],
   "source": [
    "import bs4"
   ]
  },
  {
   "cell_type": "code",
   "execution_count": 55,
   "metadata": {
    "collapsed": true
   },
   "outputs": [],
   "source": [
    "from bs4 import BeautifulSoup\n",
    "soup = BeautifulSoup(r.text, 'html.parser')"
   ]
  },
  {
   "cell_type": "markdown",
   "metadata": {},
   "source": [
    "BS gives us an easy access to most things from the structure."
   ]
  },
  {
   "cell_type": "code",
   "execution_count": 56,
   "metadata": {
    "collapsed": false
   },
   "outputs": [
    {
     "data": {
      "text/plain": [
       "<title>Annuaire santé d'ameli.fr : trouver un médecin, un hôpital...</title>"
      ]
     },
     "execution_count": 56,
     "metadata": {},
     "output_type": "execute_result"
    }
   ],
   "source": [
    "soup.title"
   ]
  },
  {
   "cell_type": "markdown",
   "metadata": {},
   "source": [
    "We can find tags easily."
   ]
  },
  {
   "cell_type": "code",
   "execution_count": 58,
   "metadata": {
    "collapsed": false
   },
   "outputs": [
    {
     "data": {
      "text/plain": [
       "[<strong>DEBBASCH</strong>, <strong>KHAYAT</strong>, <strong>KOHANE</strong>]"
      ]
     },
     "execution_count": 58,
     "metadata": {},
     "output_type": "execute_result"
    }
   ],
   "source": [
    "soup.findAll('strong')"
   ]
  },
  {
   "cell_type": "markdown",
   "metadata": {},
   "source": [
    "All doctors can be found like this:"
   ]
  },
  {
   "cell_type": "code",
   "execution_count": 59,
   "metadata": {
    "collapsed": false
   },
   "outputs": [],
   "source": [
    "doctors = soup.findAll('div', attrs={\"class\":\"item-professionnel\"})"
   ]
  },
  {
   "cell_type": "markdown",
   "metadata": {},
   "source": [
    "A single doctor looks like this."
   ]
  },
  {
   "cell_type": "code",
   "execution_count": 51,
   "metadata": {
    "collapsed": false
   },
   "outputs": [
    {
     "data": {
      "text/plain": [
       "<div class=\"item-professionnel\"><div class=\"item-professionnel-inner\"><span class=\"num\">1</span><div class=\"nom_pictos\"><h2><a href=\"/professionnels-de-sante/recherche-1/fiche-detaillee-CbA1kzI4MzG0-3a4f89dc9bd653a34e287e7c17e7b2ff.html\"><strong>DEBBASCH</strong> JEAN MARC</a></h2><div class=\"pictos\"><img alt=\"Accepte la carte Vitale\" class=\"infobulle\" src=\"/resources_ver/20150826115145/images/picto_cartevitale.png\"/></div><div class=\"clear\"></div></div><div class=\"clear\"></div><div class=\"elements\"><div class=\"item left\"></div><div class=\"item right type_honoraires\">Honoraires libres</div><div class=\"clear\"></div><div class=\"item left tel\">01 46 56 90 90</div><div class=\"item right convention\"><a alt=\"Les médecins fixent librement leurs tarifs et peuvent donc pratiquer des dépassements d’honoraires avec tact et mesure. L’Assurance Maladie rembourse les consultations et actes réalisés par ces médecins sur la base des tarifs fixés dans la convention (tarifs applicables au médecin de secteur 2), le montant des éventuels dépassements d’honoraires reste à votre charge.\" class=\"infobulle\" href=\"#\">Conventionné secteur 2</a></div><div class=\"clear\"></div><div class=\"item left adresse\">31 AVENUE VERDIER<br/>92120 MONTROUGE</div><div class=\"clear\"></div></div><div class=\"clear\"></div></div></div>"
      ]
     },
     "execution_count": 51,
     "metadata": {},
     "output_type": "execute_result"
    }
   ],
   "source": [
    "doctors[0]"
   ]
  },
  {
   "cell_type": "code",
   "execution_count": 52,
   "metadata": {
    "collapsed": false
   },
   "outputs": [
    {
     "data": {
      "text/plain": [
       "4"
      ]
     },
     "execution_count": 52,
     "metadata": {},
     "output_type": "execute_result"
    }
   ],
   "source": [
    "len(doctors)"
   ]
  },
  {
   "cell_type": "markdown",
   "metadata": {},
   "source": [
    "Let's write a function that allows us to extract just the things we want."
   ]
  },
  {
   "cell_type": "code",
   "execution_count": 61,
   "metadata": {
    "collapsed": false
   },
   "outputs": [],
   "source": [
    "block = doctors[0]"
   ]
  },
  {
   "cell_type": "code",
   "execution_count": 63,
   "metadata": {
    "collapsed": false
   },
   "outputs": [
    {
     "name": "stdout",
     "output_type": "stream",
     "text": [
      "<div class=\"item-professionnel\">\n",
      " <div class=\"item-professionnel-inner\">\n",
      "  <span class=\"num\">\n",
      "   1\n",
      "  </span>\n",
      "  <div class=\"nom_pictos\">\n",
      "   <h2>\n",
      "    <a href=\"/professionnels-de-sante/recherche-1/fiche-detaillee-CbA1kzI4MzG0-3a4f89dc9bd653a34e287e7c17e7b2ff.html\">\n",
      "     <strong>\n",
      "      DEBBASCH\n",
      "     </strong>\n",
      "     JEAN MARC\n",
      "    </a>\n",
      "   </h2>\n",
      "   <div class=\"pictos\">\n",
      "    <img alt=\"Accepte la carte Vitale\" class=\"infobulle\" src=\"/resources_ver/20150826115145/images/picto_cartevitale.png\"/>\n",
      "   </div>\n",
      "   <div class=\"clear\">\n",
      "   </div>\n",
      "  </div>\n",
      "  <div class=\"clear\">\n",
      "  </div>\n",
      "  <div class=\"elements\">\n",
      "   <div class=\"item left\">\n",
      "   </div>\n",
      "   <div class=\"item right type_honoraires\">\n",
      "    Honoraires libres\n",
      "   </div>\n",
      "   <div class=\"clear\">\n",
      "   </div>\n",
      "   <div class=\"item left tel\">\n",
      "    01 46 56 90 90\n",
      "   </div>\n",
      "   <div class=\"item right convention\">\n",
      "    <a alt=\"Les médecins fixent librement leurs tarifs et peuvent donc pratiquer des dépassements d’honoraires avec tact et mesure. L’Assurance Maladie rembourse les consultations et actes réalisés par ces médecins sur la base des tarifs fixés dans la convention (tarifs applicables au médecin de secteur 2), le montant des éventuels dépassements d’honoraires reste à votre charge.\" class=\"infobulle\" href=\"#\">\n",
      "     Conventionné secteur 2\n",
      "    </a>\n",
      "   </div>\n",
      "   <div class=\"clear\">\n",
      "   </div>\n",
      "   <div class=\"item left adresse\">\n",
      "    31 AVENUE VERDIER\n",
      "    <br/>\n",
      "    92120 MONTROUGE\n",
      "   </div>\n",
      "   <div class=\"clear\">\n",
      "   </div>\n",
      "  </div>\n",
      "  <div class=\"clear\">\n",
      "  </div>\n",
      " </div>\n",
      "</div>\n",
      "\n"
     ]
    }
   ],
   "source": [
    "print(block.prettify())"
   ]
  },
  {
   "cell_type": "code",
   "execution_count": 68,
   "metadata": {
    "collapsed": false
   },
   "outputs": [
    {
     "data": {
      "text/plain": [
       "'DEBBASCH JEAN MARC'"
      ]
     },
     "execution_count": 68,
     "metadata": {},
     "output_type": "execute_result"
    }
   ],
   "source": [
    "block.find('h2').text"
   ]
  },
  {
   "cell_type": "code",
   "execution_count": 73,
   "metadata": {
    "collapsed": false
   },
   "outputs": [
    {
     "data": {
      "text/plain": [
       "'31 AVENUE VERDIER92120 MONTROUGE'"
      ]
     },
     "execution_count": 73,
     "metadata": {},
     "output_type": "execute_result"
    }
   ],
   "source": [
    "block.find(\"div\", attrs={'class':\"item left adresse\"}).text"
   ]
  },
  {
   "cell_type": "code",
   "execution_count": 76,
   "metadata": {
    "collapsed": false
   },
   "outputs": [
    {
     "data": {
      "text/plain": [
       "'01\\xa046\\xa056\\xa090\\xa090'"
      ]
     },
     "execution_count": 76,
     "metadata": {},
     "output_type": "execute_result"
    }
   ],
   "source": [
    "block.find(\"div\", attrs={'class':\"item left tel\"}).text"
   ]
  },
  {
   "cell_type": "code",
   "execution_count": 78,
   "metadata": {
    "collapsed": false
   },
   "outputs": [
    {
     "data": {
      "text/plain": [
       "'Honoraires libres'"
      ]
     },
     "execution_count": 78,
     "metadata": {},
     "output_type": "execute_result"
    }
   ],
   "source": [
    "block.find(\"div\", attrs={'class':\"item right type_honoraires\"}).text"
   ]
  },
  {
   "cell_type": "code",
   "execution_count": 79,
   "metadata": {
    "collapsed": false
   },
   "outputs": [
    {
     "data": {
      "text/plain": [
       "'Conventionné secteur 2'"
      ]
     },
     "execution_count": 79,
     "metadata": {},
     "output_type": "execute_result"
    }
   ],
   "source": [
    "block.find(\"div\", attrs={'class':\"item right convention\"}).text"
   ]
  },
  {
   "cell_type": "code",
   "execution_count": 85,
   "metadata": {
    "collapsed": true
   },
   "outputs": [],
   "source": [
    "def extract_information(block):\n",
    "    name = block.find('h2')\n",
    "    address = block.find(\"div\", attrs={'class':\"item left adresse\"})\n",
    "    phone = block.find(\"div\", attrs={'class':\"item left tel\"})\n",
    "    prices = block.find(\"div\", attrs={'class':\"item right type_honoraires\"})\n",
    "    convention = block.find(\"div\", attrs={'class':\"item right convention\"})\n",
    "    \n",
    "\n",
    "    return [item.text for item in [name, address, phone, prices, convention] if item is not None]"
   ]
  },
  {
   "cell_type": "code",
   "execution_count": 87,
   "metadata": {
    "collapsed": false
   },
   "outputs": [
    {
     "name": "stdout",
     "output_type": "stream",
     "text": [
      "['DEBBASCH JEAN MARC', '31 AVENUE VERDIER92120 MONTROUGE', '01\\xa046\\xa056\\xa090\\xa090', 'Honoraires libres', 'Conventionné secteur 2']\n",
      "['KHAYAT NADINE', '10 RUE V. HUGO92120 MONTROUGE', '01\\xa082\\xa000\\xa015\\xa016', 'Honoraires sans dépassement', 'Conventionné secteur 1']\n",
      "['CENTRE DE SANTE MUNICIPAL', 'CENTRE DE SANTE MUNICIPAL5 RUE AMAURY DUVAL92120 MONTROUGE']\n",
      "['KOHANE BERNARD', '31 AVENUE VERDIER92120 MONTROUGE', '01\\xa046\\xa056\\xa090\\xa090', 'Honoraires libres', 'Conventionné secteur 2']\n"
     ]
    }
   ],
   "source": [
    "for doc in doctors:\n",
    "    print(extract_information(doc))"
   ]
  },
  {
   "cell_type": "code",
   "execution_count": 88,
   "metadata": {
    "collapsed": true
   },
   "outputs": [],
   "source": [
    "import pandas as pd"
   ]
  },
  {
   "cell_type": "code",
   "execution_count": 89,
   "metadata": {
    "collapsed": false
   },
   "outputs": [
    {
     "data": {
      "text/html": [
       "<div style=\"max-height:1000px;max-width:1500px;overflow:auto;\">\n",
       "<table border=\"1\" class=\"dataframe\">\n",
       "  <thead>\n",
       "    <tr style=\"text-align: right;\">\n",
       "      <th></th>\n",
       "      <th>0</th>\n",
       "      <th>1</th>\n",
       "      <th>2</th>\n",
       "      <th>3</th>\n",
       "      <th>4</th>\n",
       "    </tr>\n",
       "  </thead>\n",
       "  <tbody>\n",
       "    <tr>\n",
       "      <th>0</th>\n",
       "      <td>        DEBBASCH JEAN MARC</td>\n",
       "      <td>                  31 AVENUE VERDIER92120 MONTROUGE</td>\n",
       "      <td> 01 46 56 90 90</td>\n",
       "      <td>           Honoraires libres</td>\n",
       "      <td> Conventionné secteur 2</td>\n",
       "    </tr>\n",
       "    <tr>\n",
       "      <th>1</th>\n",
       "      <td>             KHAYAT NADINE</td>\n",
       "      <td>                     10 RUE V. HUGO92120 MONTROUGE</td>\n",
       "      <td> 01 82 00 15 16</td>\n",
       "      <td> Honoraires sans dépassement</td>\n",
       "      <td> Conventionné secteur 1</td>\n",
       "    </tr>\n",
       "    <tr>\n",
       "      <th>2</th>\n",
       "      <td> CENTRE DE SANTE MUNICIPAL</td>\n",
       "      <td> CENTRE DE SANTE MUNICIPAL5 RUE AMAURY DUVAL921...</td>\n",
       "      <td>           None</td>\n",
       "      <td>                        None</td>\n",
       "      <td>                   None</td>\n",
       "    </tr>\n",
       "    <tr>\n",
       "      <th>3</th>\n",
       "      <td>            KOHANE BERNARD</td>\n",
       "      <td>                  31 AVENUE VERDIER92120 MONTROUGE</td>\n",
       "      <td> 01 46 56 90 90</td>\n",
       "      <td>           Honoraires libres</td>\n",
       "      <td> Conventionné secteur 2</td>\n",
       "    </tr>\n",
       "  </tbody>\n",
       "</table>\n",
       "</div>"
      ],
      "text/plain": [
       "                           0  \\\n",
       "0         DEBBASCH JEAN MARC   \n",
       "1              KHAYAT NADINE   \n",
       "2  CENTRE DE SANTE MUNICIPAL   \n",
       "3             KOHANE BERNARD   \n",
       "\n",
       "                                                   1               2  \\\n",
       "0                   31 AVENUE VERDIER92120 MONTROUGE  01 46 56 90 90   \n",
       "1                      10 RUE V. HUGO92120 MONTROUGE  01 82 00 15 16   \n",
       "2  CENTRE DE SANTE MUNICIPAL5 RUE AMAURY DUVAL921...            None   \n",
       "3                   31 AVENUE VERDIER92120 MONTROUGE  01 46 56 90 90   \n",
       "\n",
       "                             3                       4  \n",
       "0            Honoraires libres  Conventionné secteur 2  \n",
       "1  Honoraires sans dépassement  Conventionné secteur 1  \n",
       "2                         None                    None  \n",
       "3            Honoraires libres  Conventionné secteur 2  "
      ]
     },
     "execution_count": 89,
     "metadata": {},
     "output_type": "execute_result"
    }
   ],
   "source": [
    "pd.DataFrame([extract_information(doc) for doc in doctors])"
   ]
  },
  {
   "cell_type": "code",
   "execution_count": null,
   "metadata": {
    "collapsed": true
   },
   "outputs": [],
   "source": []
  }
 ],
 "metadata": {
  "kernelspec": {
   "display_name": "Python 3",
   "language": "python",
   "name": "python3"
  },
  "language_info": {
   "codemirror_mode": {
    "name": "ipython",
    "version": 3
   },
   "file_extension": ".py",
   "mimetype": "text/x-python",
   "name": "python",
   "nbconvert_exporter": "python",
   "pygments_lexer": "ipython3",
   "version": "3.4.3"
  }
 },
 "nbformat": 4,
 "nbformat_minor": 0
}
