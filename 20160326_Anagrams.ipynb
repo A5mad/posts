{
 "cells": [
  {
   "cell_type": "markdown",
   "metadata": {},
   "source": [
    "Reading programming pearls. How do you compute fast anagrams?"
   ]
  },
  {
   "cell_type": "code",
   "execution_count": 3,
   "metadata": {
    "collapsed": true
   },
   "outputs": [],
   "source": [
    "def signature(word):\n",
    "    \"Computes the signature of a word.\"\n",
    "    return \"\".join(sorted(word))"
   ]
  },
  {
   "cell_type": "code",
   "execution_count": 4,
   "metadata": {
    "collapsed": false
   },
   "outputs": [
    {
     "data": {
      "text/plain": [
       "'deiopst'"
      ]
     },
     "execution_count": 4,
     "metadata": {},
     "output_type": "execute_result"
    }
   ],
   "source": [
    "signature(\"deposit\")"
   ]
  },
  {
   "cell_type": "code",
   "execution_count": 5,
   "metadata": {
    "collapsed": false
   },
   "outputs": [
    {
     "data": {
      "text/plain": [
       "'deiopst'"
      ]
     },
     "execution_count": 5,
     "metadata": {},
     "output_type": "execute_result"
    }
   ],
   "source": [
    "signature(\"dopiest\")"
   ]
  },
  {
   "cell_type": "code",
   "execution_count": 6,
   "metadata": {
    "collapsed": false
   },
   "outputs": [
    {
     "data": {
      "text/plain": [
       "'deiopst'"
      ]
     },
     "execution_count": 6,
     "metadata": {},
     "output_type": "execute_result"
    }
   ],
   "source": [
    "signature(\"posited\")"
   ]
  },
  {
   "cell_type": "code",
   "execution_count": 7,
   "metadata": {
    "collapsed": false
   },
   "outputs": [
    {
     "data": {
      "text/plain": [
       "'deiopst'"
      ]
     },
     "execution_count": 7,
     "metadata": {},
     "output_type": "execute_result"
    }
   ],
   "source": [
    "signature(\"topside\")"
   ]
  },
  {
   "cell_type": "markdown",
   "metadata": {},
   "source": [
    "Let's tackle the problem that is stated in the programming pearls column: let's get a big file full of words and find all anagram groups inside it."
   ]
  },
  {
   "cell_type": "markdown",
   "metadata": {},
   "source": [
    "We'll download the big file of words from Peter Norvig's website."
   ]
  },
  {
   "cell_type": "code",
   "execution_count": 9,
   "metadata": {
    "collapsed": true
   },
   "outputs": [],
   "source": [
    "import requests"
   ]
  },
  {
   "cell_type": "code",
   "execution_count": 10,
   "metadata": {
    "collapsed": true
   },
   "outputs": [],
   "source": [
    "r = requests.get('http://norvig.com/ngrams/count_1w.txt')"
   ]
  },
  {
   "cell_type": "code",
   "execution_count": 11,
   "metadata": {
    "collapsed": false
   },
   "outputs": [
    {
     "data": {
      "text/plain": [
       "<Response [200]>"
      ]
     },
     "execution_count": 11,
     "metadata": {},
     "output_type": "execute_result"
    }
   ],
   "source": [
    "r"
   ]
  },
  {
   "cell_type": "code",
   "execution_count": 12,
   "metadata": {
    "collapsed": false
   },
   "outputs": [
    {
     "data": {
      "text/plain": [
       "4956241"
      ]
     },
     "execution_count": 12,
     "metadata": {},
     "output_type": "execute_result"
    }
   ],
   "source": [
    "len(r.text)"
   ]
  },
  {
   "cell_type": "code",
   "execution_count": 13,
   "metadata": {
    "collapsed": false
   },
   "outputs": [
    {
     "data": {
      "text/plain": [
       "'the\\t23135851162\\nof\\t13151942776\\nand\\t12997637966\\nto\\t12136980858\\na\\t9081174698\\nin\\t8469404971\\nfor\\t5933321'"
      ]
     },
     "execution_count": 13,
     "metadata": {},
     "output_type": "execute_result"
    }
   ],
   "source": [
    "r.text[:100]"
   ]
  },
  {
   "cell_type": "code",
   "execution_count": 14,
   "metadata": {
    "collapsed": true
   },
   "outputs": [],
   "source": [
    "words = [line.split('\\t')[0] for line in r.text.split('\\n')]"
   ]
  },
  {
   "cell_type": "code",
   "execution_count": 15,
   "metadata": {
    "collapsed": false
   },
   "outputs": [
    {
     "data": {
      "text/plain": [
       "333334"
      ]
     },
     "execution_count": 15,
     "metadata": {},
     "output_type": "execute_result"
    }
   ],
   "source": [
    "len(words)"
   ]
  },
  {
   "cell_type": "code",
   "execution_count": 16,
   "metadata": {
    "collapsed": false
   },
   "outputs": [
    {
     "data": {
      "text/plain": [
       "['the', 'of', 'and', 'to', 'a', 'in', 'for', 'is', 'on', 'that']"
      ]
     },
     "execution_count": 16,
     "metadata": {},
     "output_type": "execute_result"
    }
   ],
   "source": [
    "words[:10]"
   ]
  },
  {
   "cell_type": "code",
   "execution_count": 17,
   "metadata": {
    "collapsed": true
   },
   "outputs": [],
   "source": [
    "signatures = [signature(word) for word in words]"
   ]
  },
  {
   "cell_type": "markdown",
   "metadata": {},
   "source": [
    "Now, let's build a dictionary using the signatures:"
   ]
  },
  {
   "cell_type": "code",
   "execution_count": 24,
   "metadata": {
    "collapsed": false
   },
   "outputs": [],
   "source": [
    "anagrams = {}\n",
    "for word in words:\n",
    "    s = signature(word)\n",
    "    if s in anagrams:\n",
    "        anagrams[s].append(word)\n",
    "    else:\n",
    "        anagrams[s] = [word]"
   ]
  },
  {
   "cell_type": "code",
   "execution_count": 35,
   "metadata": {
    "collapsed": false
   },
   "outputs": [
    {
     "data": {
      "text/plain": [
       "['aerst',\n",
       " 'acrs',\n",
       " 'abcs',\n",
       " 'acis',\n",
       " 'acms',\n",
       " 'acps',\n",
       " 'acst',\n",
       " 'aips',\n",
       " 'cips',\n",
       " 'aces',\n",
       " 'ahins',\n",
       " 'aeprs',\n",
       " 'apst',\n",
       " 'adir',\n",
       " 'adnor',\n",
       " 'ainst',\n",
       " 'acir',\n",
       " 'aeps',\n",
       " 'aims',\n",
       " 'aist',\n",
       " 'acip',\n",
       " 'acds',\n",
       " 'cops',\n",
       " 'airst',\n",
       " 'ails',\n",
       " 'ains',\n",
       " 'acmr',\n",
       " 'arst',\n",
       " 'aorst',\n",
       " 'gglloo',\n",
       " 'eorst',\n",
       " 'ceis',\n",
       " 'einst',\n",
       " 'aest',\n",
       " 'aeimnr',\n",
       " 'amps',\n",
       " 'acmp',\n",
       " 'eist',\n",
       " 'cers',\n",
       " 'adis',\n",
       " 'amst',\n",
       " 'aens',\n",
       " 'aelst',\n",
       " 'acls',\n",
       " 'eimst',\n",
       " 'cims',\n",
       " 'acpr',\n",
       " 'aems',\n",
       " 'cmps',\n",
       " 'ceps',\n",
       " 'imst',\n",
       " 'acert',\n",
       " 'acfs',\n",
       " 'cest',\n",
       " 'acpt',\n",
       " 'aemns',\n",
       " 'abis',\n",
       " 'eims',\n",
       " 'acdp',\n",
       " 'acim',\n",
       " 'adenr',\n",
       " 'acep',\n",
       " 'acehrs',\n",
       " 'eops',\n",
       " 'acns',\n",
       " 'cios',\n",
       " 'aers',\n",
       " 'eips',\n",
       " 'aels',\n",
       " 'airs',\n",
       " 'aenrt',\n",
       " 'aenrs',\n",
       " 'adem',\n",
       " 'acrt',\n",
       " 'cdis',\n",
       " 'aelps',\n",
       " 'aegnr',\n",
       " 'alps',\n",
       " 'prst',\n",
       " 'cems',\n",
       " 'eirst',\n",
       " 'aeiln',\n",
       " 'amsu',\n",
       " 'eggloo',\n",
       " 'acenr',\n",
       " 'acin',\n",
       " 'imps',\n",
       " 'afis',\n",
       " 'aeirs',\n",
       " 'acdi',\n",
       " 'adin',\n",
       " 'ades',\n",
       " 'airt',\n",
       " 'dein',\n",
       " 'cprs',\n",
       " 'acil',\n",
       " 'enort',\n",
       " 'aert',\n",
       " 'aemnor',\n",
       " 'cpst',\n",
       " 'aelm',\n",
       " 'aipr',\n",
       " 'acet',\n",
       " 'cdps',\n",
       " 'acel',\n",
       " 'afir',\n",
       " 'eirt',\n",
       " 'inos',\n",
       " 'aprt',\n",
       " 'eirs',\n",
       " 'astu',\n",
       " 'egilo',\n",
       " 'achs',\n",
       " 'eerst',\n",
       " 'cdip',\n",
       " 'agnor',\n",
       " 'acfi',\n",
       " 'eegnr',\n",
       " 'aarst',\n",
       " 'deir']"
      ]
     },
     "execution_count": 35,
     "metadata": {},
     "output_type": "execute_result"
    }
   ],
   "source": [
    "sorted(anagrams.keys(), key=lambda k: len(anagrams[k]), reverse=True)[:120]"
   ]
  },
  {
   "cell_type": "code",
   "execution_count": 36,
   "metadata": {
    "collapsed": false
   },
   "outputs": [
    {
     "data": {
      "text/plain": [
       "['radon',\n",
       " 'doran',\n",
       " 'adorn',\n",
       " 'ronda',\n",
       " 'norad',\n",
       " 'andro',\n",
       " 'daron',\n",
       " 'andor',\n",
       " 'rodan',\n",
       " 'rando',\n",
       " 'nardo',\n",
       " 'dorna',\n",
       " 'drano',\n",
       " 'narod',\n",
       " 'nador',\n",
       " 'donar',\n",
       " 'ondra',\n",
       " 'adron',\n",
       " 'ardon',\n",
       " 'drona',\n",
       " 'arond']"
      ]
     },
     "execution_count": 36,
     "metadata": {},
     "output_type": "execute_result"
    }
   ],
   "source": [
    "anagrams['adnor']"
   ]
  },
  {
   "cell_type": "markdown",
   "metadata": {},
   "source": [
    "Finally, let's do a little scatter plot of lenght of word vs number of anagrams. Let's use pandas for that."
   ]
  },
  {
   "cell_type": "code",
   "execution_count": 37,
   "metadata": {
    "collapsed": true
   },
   "outputs": [],
   "source": [
    "import pandas as pd"
   ]
  },
  {
   "cell_type": "code",
   "execution_count": 39,
   "metadata": {
    "collapsed": false
   },
   "outputs": [],
   "source": [
    "df = "
   ]
  },
  {
   "cell_type": "code",
   "execution_count": 41,
   "metadata": {
    "collapsed": false
   },
   "outputs": [
    {
     "data": {
      "text/plain": [
       "(243439,)"
      ]
     },
     "execution_count": 41,
     "metadata": {},
     "output_type": "execute_result"
    }
   ],
   "source": [
    "df.shape"
   ]
  },
  {
   "cell_type": "code",
   "execution_count": 45,
   "metadata": {
    "collapsed": false
   },
   "outputs": [],
   "source": [
    "df = pd.DataFrame(pd.Series(anagrams),\n",
    "            columns=['words'])"
   ]
  },
  {
   "cell_type": "code",
   "execution_count": 46,
   "metadata": {
    "collapsed": true
   },
   "outputs": [],
   "source": [
    "df['signature_length'] = [len(item) for item in df.index]"
   ]
  },
  {
   "cell_type": "code",
   "execution_count": 47,
   "metadata": {
    "collapsed": true
   },
   "outputs": [],
   "source": [
    "df['word_count'] = [len(item) for item in df.words]"
   ]
  },
  {
   "cell_type": "code",
   "execution_count": 49,
   "metadata": {
    "collapsed": false
   },
   "outputs": [
    {
     "data": {
      "text/html": [
       "<div>\n",
       "<table border=\"1\" class=\"dataframe\">\n",
       "  <thead>\n",
       "    <tr style=\"text-align: right;\">\n",
       "      <th></th>\n",
       "      <th>words</th>\n",
       "      <th>signature_length</th>\n",
       "      <th>word_count</th>\n",
       "    </tr>\n",
       "  </thead>\n",
       "  <tbody>\n",
       "    <tr>\n",
       "      <th></th>\n",
       "      <td>[]</td>\n",
       "      <td>0</td>\n",
       "      <td>1</td>\n",
       "    </tr>\n",
       "    <tr>\n",
       "      <th>a</th>\n",
       "      <td>[a]</td>\n",
       "      <td>1</td>\n",
       "      <td>1</td>\n",
       "    </tr>\n",
       "    <tr>\n",
       "      <th>aa</th>\n",
       "      <td>[aa]</td>\n",
       "      <td>2</td>\n",
       "      <td>1</td>\n",
       "    </tr>\n",
       "    <tr>\n",
       "      <th>aaa</th>\n",
       "      <td>[aaa]</td>\n",
       "      <td>3</td>\n",
       "      <td>1</td>\n",
       "    </tr>\n",
       "    <tr>\n",
       "      <th>aaaa</th>\n",
       "      <td>[aaaa]</td>\n",
       "      <td>4</td>\n",
       "      <td>1</td>\n",
       "    </tr>\n",
       "    <tr>\n",
       "      <th>aaaaaaaaaahhhhhhhhhh</th>\n",
       "      <td>[hahahahahahahahahaha]</td>\n",
       "      <td>20</td>\n",
       "      <td>1</td>\n",
       "    </tr>\n",
       "    <tr>\n",
       "      <th>aaaaaaaabbllmm</th>\n",
       "      <td>[alabamaalabama]</td>\n",
       "      <td>14</td>\n",
       "      <td>1</td>\n",
       "    </tr>\n",
       "    <tr>\n",
       "      <th>aaaaaaaaddeeeeggggillmnnoprtuuuu</th>\n",
       "      <td>[grenadaguadeloupeguatemalaguiana]</td>\n",
       "      <td>32</td>\n",
       "      <td>1</td>\n",
       "    </tr>\n",
       "    <tr>\n",
       "      <th>aaaaaaaahhhhhhhh</th>\n",
       "      <td>[hahahahahahahaha]</td>\n",
       "      <td>16</td>\n",
       "      <td>1</td>\n",
       "    </tr>\n",
       "    <tr>\n",
       "      <th>aaaaaaahhhhhhh</th>\n",
       "      <td>[hahahahahahaha]</td>\n",
       "      <td>14</td>\n",
       "      <td>1</td>\n",
       "    </tr>\n",
       "    <tr>\n",
       "      <th>aaaaaaahnnnnnrty</th>\n",
       "      <td>[ananthanarayanan]</td>\n",
       "      <td>16</td>\n",
       "      <td>1</td>\n",
       "    </tr>\n",
       "    <tr>\n",
       "      <th>aaaaaaaknnnnrrsy</th>\n",
       "      <td>[sankaranarayanan]</td>\n",
       "      <td>16</td>\n",
       "      <td>1</td>\n",
       "    </tr>\n",
       "    <tr>\n",
       "      <th>aaaaaabbbehiimmrswzz</th>\n",
       "      <td>[saharazambiazimbabwe]</td>\n",
       "      <td>20</td>\n",
       "      <td>1</td>\n",
       "    </tr>\n",
       "    <tr>\n",
       "      <th>aaaaaabddeemsttt</th>\n",
       "      <td>[databasemetadata]</td>\n",
       "      <td>16</td>\n",
       "      <td>1</td>\n",
       "    </tr>\n",
       "    <tr>\n",
       "      <th>aaaaaaccddnn</th>\n",
       "      <td>[canadacanada]</td>\n",
       "      <td>12</td>\n",
       "      <td>1</td>\n",
       "    </tr>\n",
       "    <tr>\n",
       "      <th>aaaaaacceeefgilllmnnorrssstttyy</th>\n",
       "      <td>[acetylgalactosaminyltransferase]</td>\n",
       "      <td>31</td>\n",
       "      <td>1</td>\n",
       "    </tr>\n",
       "    <tr>\n",
       "      <th>aaaaaacefghiillmrrssty</th>\n",
       "      <td>[facialsmargaritaashley]</td>\n",
       "      <td>22</td>\n",
       "      <td>1</td>\n",
       "    </tr>\n",
       "    <tr>\n",
       "      <th>aaaaaagmnrsy</th>\n",
       "      <td>[arasanayagam]</td>\n",
       "      <td>12</td>\n",
       "      <td>1</td>\n",
       "    </tr>\n",
       "    <tr>\n",
       "      <th>aaaaaahhhhhh</th>\n",
       "      <td>[hahahahahaha]</td>\n",
       "      <td>12</td>\n",
       "      <td>1</td>\n",
       "    </tr>\n",
       "    <tr>\n",
       "      <th>aaaaaakkllss</th>\n",
       "      <td>[alaskaalaska]</td>\n",
       "      <td>12</td>\n",
       "      <td>1</td>\n",
       "    </tr>\n",
       "    <tr>\n",
       "      <th>aaaaaannnrstyy</th>\n",
       "      <td>[satyanarayanan]</td>\n",
       "      <td>14</td>\n",
       "      <td>1</td>\n",
       "    </tr>\n",
       "    <tr>\n",
       "      <th>aaaaaannrstyy</th>\n",
       "      <td>[satyanarayana]</td>\n",
       "      <td>13</td>\n",
       "      <td>1</td>\n",
       "    </tr>\n",
       "    <tr>\n",
       "      <th>aaaaabbcdrr</th>\n",
       "      <td>[abracadabra]</td>\n",
       "      <td>11</td>\n",
       "      <td>1</td>\n",
       "    </tr>\n",
       "    <tr>\n",
       "      <th>aaaaabbceiklnrs</th>\n",
       "      <td>[caribbeanalaska]</td>\n",
       "      <td>15</td>\n",
       "      <td>1</td>\n",
       "    </tr>\n",
       "    <tr>\n",
       "      <th>aaaaabbilmmnrsu</th>\n",
       "      <td>[balasubramaniam]</td>\n",
       "      <td>15</td>\n",
       "      <td>1</td>\n",
       "    </tr>\n",
       "    <tr>\n",
       "      <th>aaaaabbilmnnrsu</th>\n",
       "      <td>[balasubramanian]</td>\n",
       "      <td>15</td>\n",
       "      <td>1</td>\n",
       "    </tr>\n",
       "    <tr>\n",
       "      <th>aaaaabblmmnrsuy</th>\n",
       "      <td>[balasubramanyam]</td>\n",
       "      <td>15</td>\n",
       "      <td>1</td>\n",
       "    </tr>\n",
       "    <tr>\n",
       "      <th>aaaaabbmt</th>\n",
       "      <td>[bambaataa]</td>\n",
       "      <td>9</td>\n",
       "      <td>1</td>\n",
       "    </tr>\n",
       "    <tr>\n",
       "      <th>aaaaabccceeegghhiiilnoorrrtuvzz</th>\n",
       "      <td>[herzegovinabulgariacroatiaczech]</td>\n",
       "      <td>31</td>\n",
       "      <td>1</td>\n",
       "    </tr>\n",
       "    <tr>\n",
       "      <th>aaaaabcdddeeeglmnnnrrstu</th>\n",
       "      <td>[bermudacanadagreenlandst]</td>\n",
       "      <td>24</td>\n",
       "      <td>1</td>\n",
       "    </tr>\n",
       "    <tr>\n",
       "      <th>...</th>\n",
       "      <td>...</td>\n",
       "      <td>...</td>\n",
       "      <td>...</td>\n",
       "    </tr>\n",
       "    <tr>\n",
       "      <th>wxy</th>\n",
       "      <td>[wyx, wxy]</td>\n",
       "      <td>3</td>\n",
       "      <td>2</td>\n",
       "    </tr>\n",
       "    <tr>\n",
       "      <th>wxyz</th>\n",
       "      <td>[wxyz]</td>\n",
       "      <td>4</td>\n",
       "      <td>1</td>\n",
       "    </tr>\n",
       "    <tr>\n",
       "      <th>wxz</th>\n",
       "      <td>[zxw]</td>\n",
       "      <td>3</td>\n",
       "      <td>1</td>\n",
       "    </tr>\n",
       "    <tr>\n",
       "      <th>wy</th>\n",
       "      <td>[wy, yw]</td>\n",
       "      <td>2</td>\n",
       "      <td>2</td>\n",
       "    </tr>\n",
       "    <tr>\n",
       "      <th>wz</th>\n",
       "      <td>[wz, zw]</td>\n",
       "      <td>2</td>\n",
       "      <td>2</td>\n",
       "    </tr>\n",
       "    <tr>\n",
       "      <th>wzz</th>\n",
       "      <td>[zzw]</td>\n",
       "      <td>3</td>\n",
       "      <td>1</td>\n",
       "    </tr>\n",
       "    <tr>\n",
       "      <th>x</th>\n",
       "      <td>[x]</td>\n",
       "      <td>1</td>\n",
       "      <td>1</td>\n",
       "    </tr>\n",
       "    <tr>\n",
       "      <th>xx</th>\n",
       "      <td>[xx]</td>\n",
       "      <td>2</td>\n",
       "      <td>1</td>\n",
       "    </tr>\n",
       "    <tr>\n",
       "      <th>xxx</th>\n",
       "      <td>[xxx]</td>\n",
       "      <td>3</td>\n",
       "      <td>1</td>\n",
       "    </tr>\n",
       "    <tr>\n",
       "      <th>xxxx</th>\n",
       "      <td>[xxxx]</td>\n",
       "      <td>4</td>\n",
       "      <td>1</td>\n",
       "    </tr>\n",
       "    <tr>\n",
       "      <th>xxy</th>\n",
       "      <td>[xxy, xyx]</td>\n",
       "      <td>3</td>\n",
       "      <td>2</td>\n",
       "    </tr>\n",
       "    <tr>\n",
       "      <th>xxz</th>\n",
       "      <td>[zxx, xxz]</td>\n",
       "      <td>3</td>\n",
       "      <td>2</td>\n",
       "    </tr>\n",
       "    <tr>\n",
       "      <th>xy</th>\n",
       "      <td>[xy, yx]</td>\n",
       "      <td>2</td>\n",
       "      <td>2</td>\n",
       "    </tr>\n",
       "    <tr>\n",
       "      <th>xyy</th>\n",
       "      <td>[xyy, yxy]</td>\n",
       "      <td>3</td>\n",
       "      <td>2</td>\n",
       "    </tr>\n",
       "    <tr>\n",
       "      <th>xyyzz</th>\n",
       "      <td>[xyzzy]</td>\n",
       "      <td>5</td>\n",
       "      <td>1</td>\n",
       "    </tr>\n",
       "    <tr>\n",
       "      <th>xyz</th>\n",
       "      <td>[xyz, zyx, zxy]</td>\n",
       "      <td>3</td>\n",
       "      <td>3</td>\n",
       "    </tr>\n",
       "    <tr>\n",
       "      <th>xz</th>\n",
       "      <td>[zx, xz]</td>\n",
       "      <td>2</td>\n",
       "      <td>2</td>\n",
       "    </tr>\n",
       "    <tr>\n",
       "      <th>xzz</th>\n",
       "      <td>[zzx, zxz]</td>\n",
       "      <td>3</td>\n",
       "      <td>2</td>\n",
       "    </tr>\n",
       "    <tr>\n",
       "      <th>y</th>\n",
       "      <td>[y]</td>\n",
       "      <td>1</td>\n",
       "      <td>1</td>\n",
       "    </tr>\n",
       "    <tr>\n",
       "      <th>yy</th>\n",
       "      <td>[yy]</td>\n",
       "      <td>2</td>\n",
       "      <td>1</td>\n",
       "    </tr>\n",
       "    <tr>\n",
       "      <th>yyy</th>\n",
       "      <td>[yyy]</td>\n",
       "      <td>3</td>\n",
       "      <td>1</td>\n",
       "    </tr>\n",
       "    <tr>\n",
       "      <th>yyyy</th>\n",
       "      <td>[yyyy]</td>\n",
       "      <td>4</td>\n",
       "      <td>1</td>\n",
       "    </tr>\n",
       "    <tr>\n",
       "      <th>yyz</th>\n",
       "      <td>[yyz]</td>\n",
       "      <td>3</td>\n",
       "      <td>1</td>\n",
       "    </tr>\n",
       "    <tr>\n",
       "      <th>yyzz</th>\n",
       "      <td>[zzyy]</td>\n",
       "      <td>4</td>\n",
       "      <td>1</td>\n",
       "    </tr>\n",
       "    <tr>\n",
       "      <th>yz</th>\n",
       "      <td>[yz, zy]</td>\n",
       "      <td>2</td>\n",
       "      <td>2</td>\n",
       "    </tr>\n",
       "    <tr>\n",
       "      <th>yzz</th>\n",
       "      <td>[zzy, zyz, yzz]</td>\n",
       "      <td>3</td>\n",
       "      <td>3</td>\n",
       "    </tr>\n",
       "    <tr>\n",
       "      <th>z</th>\n",
       "      <td>[z]</td>\n",
       "      <td>1</td>\n",
       "      <td>1</td>\n",
       "    </tr>\n",
       "    <tr>\n",
       "      <th>zz</th>\n",
       "      <td>[zz]</td>\n",
       "      <td>2</td>\n",
       "      <td>1</td>\n",
       "    </tr>\n",
       "    <tr>\n",
       "      <th>zzz</th>\n",
       "      <td>[zzz]</td>\n",
       "      <td>3</td>\n",
       "      <td>1</td>\n",
       "    </tr>\n",
       "    <tr>\n",
       "      <th>zzzz</th>\n",
       "      <td>[zzzz]</td>\n",
       "      <td>4</td>\n",
       "      <td>1</td>\n",
       "    </tr>\n",
       "  </tbody>\n",
       "</table>\n",
       "<p>243439 rows × 3 columns</p>\n",
       "</div>"
      ],
      "text/plain": [
       "                                                               words  \\\n",
       "                                                                  []   \n",
       "a                                                                [a]   \n",
       "aa                                                              [aa]   \n",
       "aaa                                                            [aaa]   \n",
       "aaaa                                                          [aaaa]   \n",
       "aaaaaaaaaahhhhhhhhhh                          [hahahahahahahahahaha]   \n",
       "aaaaaaaabbllmm                                      [alabamaalabama]   \n",
       "aaaaaaaaddeeeeggggillmnnoprtuuuu  [grenadaguadeloupeguatemalaguiana]   \n",
       "aaaaaaaahhhhhhhh                                  [hahahahahahahaha]   \n",
       "aaaaaaahhhhhhh                                      [hahahahahahaha]   \n",
       "aaaaaaahnnnnnrty                                  [ananthanarayanan]   \n",
       "aaaaaaaknnnnrrsy                                  [sankaranarayanan]   \n",
       "aaaaaabbbehiimmrswzz                          [saharazambiazimbabwe]   \n",
       "aaaaaabddeemsttt                                  [databasemetadata]   \n",
       "aaaaaaccddnn                                          [canadacanada]   \n",
       "aaaaaacceeefgilllmnnorrssstttyy    [acetylgalactosaminyltransferase]   \n",
       "aaaaaacefghiillmrrssty                      [facialsmargaritaashley]   \n",
       "aaaaaagmnrsy                                          [arasanayagam]   \n",
       "aaaaaahhhhhh                                          [hahahahahaha]   \n",
       "aaaaaakkllss                                          [alaskaalaska]   \n",
       "aaaaaannnrstyy                                      [satyanarayanan]   \n",
       "aaaaaannrstyy                                        [satyanarayana]   \n",
       "aaaaabbcdrr                                            [abracadabra]   \n",
       "aaaaabbceiklnrs                                    [caribbeanalaska]   \n",
       "aaaaabbilmmnrsu                                    [balasubramaniam]   \n",
       "aaaaabbilmnnrsu                                    [balasubramanian]   \n",
       "aaaaabblmmnrsuy                                    [balasubramanyam]   \n",
       "aaaaabbmt                                                [bambaataa]   \n",
       "aaaaabccceeegghhiiilnoorrrtuvzz    [herzegovinabulgariacroatiaczech]   \n",
       "aaaaabcdddeeeglmnnnrrstu                  [bermudacanadagreenlandst]   \n",
       "...                                                              ...   \n",
       "wxy                                                       [wyx, wxy]   \n",
       "wxyz                                                          [wxyz]   \n",
       "wxz                                                            [zxw]   \n",
       "wy                                                          [wy, yw]   \n",
       "wz                                                          [wz, zw]   \n",
       "wzz                                                            [zzw]   \n",
       "x                                                                [x]   \n",
       "xx                                                              [xx]   \n",
       "xxx                                                            [xxx]   \n",
       "xxxx                                                          [xxxx]   \n",
       "xxy                                                       [xxy, xyx]   \n",
       "xxz                                                       [zxx, xxz]   \n",
       "xy                                                          [xy, yx]   \n",
       "xyy                                                       [xyy, yxy]   \n",
       "xyyzz                                                        [xyzzy]   \n",
       "xyz                                                  [xyz, zyx, zxy]   \n",
       "xz                                                          [zx, xz]   \n",
       "xzz                                                       [zzx, zxz]   \n",
       "y                                                                [y]   \n",
       "yy                                                              [yy]   \n",
       "yyy                                                            [yyy]   \n",
       "yyyy                                                          [yyyy]   \n",
       "yyz                                                            [yyz]   \n",
       "yyzz                                                          [zzyy]   \n",
       "yz                                                          [yz, zy]   \n",
       "yzz                                                  [zzy, zyz, yzz]   \n",
       "z                                                                [z]   \n",
       "zz                                                              [zz]   \n",
       "zzz                                                            [zzz]   \n",
       "zzzz                                                          [zzzz]   \n",
       "\n",
       "                                  signature_length  word_count  \n",
       "                                                 0           1  \n",
       "a                                                1           1  \n",
       "aa                                               2           1  \n",
       "aaa                                              3           1  \n",
       "aaaa                                             4           1  \n",
       "aaaaaaaaaahhhhhhhhhh                            20           1  \n",
       "aaaaaaaabbllmm                                  14           1  \n",
       "aaaaaaaaddeeeeggggillmnnoprtuuuu                32           1  \n",
       "aaaaaaaahhhhhhhh                                16           1  \n",
       "aaaaaaahhhhhhh                                  14           1  \n",
       "aaaaaaahnnnnnrty                                16           1  \n",
       "aaaaaaaknnnnrrsy                                16           1  \n",
       "aaaaaabbbehiimmrswzz                            20           1  \n",
       "aaaaaabddeemsttt                                16           1  \n",
       "aaaaaaccddnn                                    12           1  \n",
       "aaaaaacceeefgilllmnnorrssstttyy                 31           1  \n",
       "aaaaaacefghiillmrrssty                          22           1  \n",
       "aaaaaagmnrsy                                    12           1  \n",
       "aaaaaahhhhhh                                    12           1  \n",
       "aaaaaakkllss                                    12           1  \n",
       "aaaaaannnrstyy                                  14           1  \n",
       "aaaaaannrstyy                                   13           1  \n",
       "aaaaabbcdrr                                     11           1  \n",
       "aaaaabbceiklnrs                                 15           1  \n",
       "aaaaabbilmmnrsu                                 15           1  \n",
       "aaaaabbilmnnrsu                                 15           1  \n",
       "aaaaabblmmnrsuy                                 15           1  \n",
       "aaaaabbmt                                        9           1  \n",
       "aaaaabccceeegghhiiilnoorrrtuvzz                 31           1  \n",
       "aaaaabcdddeeeglmnnnrrstu                        24           1  \n",
       "...                                            ...         ...  \n",
       "wxy                                              3           2  \n",
       "wxyz                                             4           1  \n",
       "wxz                                              3           1  \n",
       "wy                                               2           2  \n",
       "wz                                               2           2  \n",
       "wzz                                              3           1  \n",
       "x                                                1           1  \n",
       "xx                                               2           1  \n",
       "xxx                                              3           1  \n",
       "xxxx                                             4           1  \n",
       "xxy                                              3           2  \n",
       "xxz                                              3           2  \n",
       "xy                                               2           2  \n",
       "xyy                                              3           2  \n",
       "xyyzz                                            5           1  \n",
       "xyz                                              3           3  \n",
       "xz                                               2           2  \n",
       "xzz                                              3           2  \n",
       "y                                                1           1  \n",
       "yy                                               2           1  \n",
       "yyy                                              3           1  \n",
       "yyyy                                             4           1  \n",
       "yyz                                              3           1  \n",
       "yyzz                                             4           1  \n",
       "yz                                               2           2  \n",
       "yzz                                              3           3  \n",
       "z                                                1           1  \n",
       "zz                                               2           1  \n",
       "zzz                                              3           1  \n",
       "zzzz                                             4           1  \n",
       "\n",
       "[243439 rows x 3 columns]"
      ]
     },
     "execution_count": 49,
     "metadata": {},
     "output_type": "execute_result"
    }
   ],
   "source": [
    "df"
   ]
  },
  {
   "cell_type": "code",
   "execution_count": 50,
   "metadata": {
    "collapsed": true
   },
   "outputs": [],
   "source": [
    "%matplotlib inline"
   ]
  },
  {
   "cell_type": "code",
   "execution_count": 68,
   "metadata": {
    "collapsed": false
   },
   "outputs": [
    {
     "data": {
      "text/plain": [
       "<matplotlib.axes._subplots.AxesSubplot at 0x11e060fd0>"
      ]
     },
     "execution_count": 68,
     "metadata": {},
     "output_type": "execute_result"
    },
    {
     "data": {
      "image/png": "[encoded data removed]",
      "text/plain": [
       "<matplotlib.figure.Figure at 0x11ac53f98>"
      ]
     },
     "metadata": {},
     "output_type": "display_data"
    }
   ],
   "source": [
    "df.signature_length.plot.hist()"
   ]
  },
  {
   "cell_type": "code",
   "execution_count": 69,
   "metadata": {
    "collapsed": false
   },
   "outputs": [
    {
     "data": {
      "text/plain": [
       "<matplotlib.axes._subplots.AxesSubplot at 0x11b603390>"
      ]
     },
     "execution_count": 69,
     "metadata": {},
     "output_type": "execute_result"
    },
    {
     "data": {
      "image/png": "[encoded data removed]",
      "text/plain": [
       "<matplotlib.figure.Figure at 0x11ccf64e0>"
      ]
     },
     "metadata": {},
     "output_type": "display_data"
    }
   ],
   "source": [
    "df.word_count.plot.hist()"
   ]
  },
  {
   "cell_type": "code",
   "execution_count": 53,
   "metadata": {
    "collapsed": false
   },
   "outputs": [
    {
     "data": {
      "text/plain": [
       "<matplotlib.axes._subplots.AxesSubplot at 0x11b4944e0>"
      ]
     },
     "execution_count": 53,
     "metadata": {},
     "output_type": "execute_result"
    },
    {
     "data": {
      "image/png": "[encoded data removed]",
      "text/plain": [
       "<matplotlib.figure.Figure at 0x11a613cc0>"
      ]
     },
     "metadata": {},
     "output_type": "display_data"
    }
   ],
   "source": [
    "df.plot.scatter(x='signature_length', y='word_count')"
   ]
  },
  {
   "cell_type": "markdown",
   "metadata": {},
   "source": [
    "Let's conclude: \n",
    "\n",
    "- long words have few anagrams\n",
    "- too short words have few anagrams\n",
    "- words between 4 and 12 letters have a couple of anagrams"
   ]
  }
 ],
 "metadata": {
  "kernelspec": {
   "display_name": "Python 3",
   "language": "python",
   "name": "python3"
  },
  "language_info": {
   "codemirror_mode": {
    "name": "ipython",
    "version": 3
   },
   "file_extension": ".py",
   "mimetype": "text/x-python",
   "name": "python",
   "nbconvert_exporter": "python",
   "pygments_lexer": "ipython3",
   "version": "3.4.4"
  }
 },
 "nbformat": 4,
 "nbformat_minor": 0
}
