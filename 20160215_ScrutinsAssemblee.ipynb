{
 "cells": [
  {
   "cell_type": "markdown",
   "metadata": {},
   "source": [
    "Dans ce billet, nous allons extraire les données disponibles sur les scrutins de l'assemblée nationale afin de déterminer quels jours de la semaine sont propice au débat dans l'assemblée et quels jours ne le sont pas."
   ]
  },
  {
   "cell_type": "markdown",
   "metadata": {},
   "source": [
    "# Récupération des informations "
   ]
  },
  {
   "cell_type": "markdown",
   "metadata": {},
   "source": [
    "Les données qui m'intéressent sont sur la page suivante : [http://www2.assemblee-nationale.fr/scrutins/liste/%28legislature%29/14](http://www2.assemblee-nationale.fr/scrutins/liste/%28legislature%29/14).\n",
    "\n",
    "Téléchargeons le contenu de cette page."
   ]
  },
  {
   "cell_type": "code",
   "execution_count": 2,
   "metadata": {
    "collapsed": true
   },
   "outputs": [],
   "source": [
    "import requests"
   ]
  },
  {
   "cell_type": "code",
   "execution_count": 5,
   "metadata": {
    "collapsed": false
   },
   "outputs": [
    {
     "data": {
      "text/plain": [
       "<Response [200]>"
      ]
     },
     "execution_count": 5,
     "metadata": {},
     "output_type": "execute_result"
    }
   ],
   "source": [
    "r = requests.get(\"http://www2.assemblee-nationale.fr/scrutins/liste/%28legislature%29/14\")\n",
    "r"
   ]
  },
  {
   "cell_type": "markdown",
   "metadata": {},
   "source": [
    "Maintenant, passons la page dans le parser BeautifulSoup :"
   ]
  },
  {
   "cell_type": "code",
   "execution_count": 6,
   "metadata": {
    "collapsed": true
   },
   "outputs": [],
   "source": [
    "from bs4 import BeautifulSoup\n",
    "soup = BeautifulSoup(r.text, 'html.parser')"
   ]
  },
  {
   "cell_type": "markdown",
   "metadata": {},
   "source": [
    "Les éléments qui nous intéressent sont les suivants : \n",
    "\n",
    "- numéro du scrutin\n",
    "- date du scrutin\n",
    "- objet du scrutin\n",
    "- résultats : pour, contre, abstention volontaire\n",
    "\n",
    "Ces éléments sont dans un grand tableau, que nous allons essayer d'extraire :"
   ]
  },
  {
   "cell_type": "code",
   "execution_count": 8,
   "metadata": {
    "collapsed": false
   },
   "outputs": [],
   "source": [
    "elems = soup.select('tbody tr')"
   ]
  },
  {
   "cell_type": "code",
   "execution_count": 9,
   "metadata": {
    "collapsed": false
   },
   "outputs": [
    {
     "data": {
      "text/plain": [
       "100"
      ]
     },
     "execution_count": 9,
     "metadata": {},
     "output_type": "execute_result"
    }
   ],
   "source": [
    "len(elems)"
   ]
  },
  {
   "cell_type": "markdown",
   "metadata": {},
   "source": [
    "Chaque élément précédent représente une ligne du tableau. La première ligne du tableau contient par exemple les informations suivantes :"
   ]
  },
  {
   "cell_type": "code",
   "execution_count": 10,
   "metadata": {
    "collapsed": false
   },
   "outputs": [
    {
     "data": {
      "text/plain": [
       "<tr>\n",
       "<td class=\"denom\">1237*</td>\n",
       "<td>10/02/2016</td>\n",
       "<td class=\"desc\">l'ensemble du projet de loi constitutionnelle de protection de la Nation (première lecture). [<a href=\"http://www.assemblee-nationale.fr/14/dossiers/protection_nation.asp\">dossier</a>] [<a href=\"/scrutins/detail/(legislature)/14/(num)/1237\">analyse du scrutin</a>]</td>\n",
       "<td class=\"pour\">317</td>\n",
       "<td class=\"contre SSO\">199</td>\n",
       "<td class=\"abs SSO\">51</td>\n",
       "</tr>"
      ]
     },
     "execution_count": 10,
     "metadata": {},
     "output_type": "execute_result"
    }
   ],
   "source": [
    "elems[0]"
   ]
  },
  {
   "cell_type": "markdown",
   "metadata": {},
   "source": [
    "Ecrivons une fonction qui extrait les informations d'une seule ligne."
   ]
  },
  {
   "cell_type": "code",
   "execution_count": 63,
   "metadata": {
    "collapsed": false
   },
   "outputs": [],
   "source": [
    "def extract_information(line):\n",
    "    \"\"\"Extrait les informations d'une ligne du tableau des scrutins.\"\"\"\n",
    "    elems = line.find_all('td')\n",
    "    # numéro de scrutin\n",
    "    num = elems[0].text\n",
    "    # date\n",
    "    date = elems[1].text\n",
    "    # objet\n",
    "    obj = elems[2].text\n",
    "    # pour\n",
    "    pour = int(elems[3].text)\n",
    "    # contre\n",
    "    contre = int(elems[4].text)\n",
    "    # abstention\n",
    "    abstention = int(elems[5].text)\n",
    "    return num, date, obj, pour, contre, abstention"
   ]
  },
  {
   "cell_type": "markdown",
   "metadata": {},
   "source": [
    "On peut tester cette routine sur la première ligne :"
   ]
  },
  {
   "cell_type": "code",
   "execution_count": 64,
   "metadata": {
    "collapsed": false
   },
   "outputs": [
    {
     "data": {
      "text/plain": [
       "('1237*',\n",
       " '10/02/2016',\n",
       " \"l'ensemble du projet de loi constitutionnelle de protection de la Nation (première lecture). [dossier] [analyse du scrutin]\",\n",
       " 317,\n",
       " 199,\n",
       " 51)"
      ]
     },
     "execution_count": 64,
     "metadata": {},
     "output_type": "execute_result"
    }
   ],
   "source": [
    "extract_information(elems[0])"
   ]
  },
  {
   "cell_type": "markdown",
   "metadata": {},
   "source": [
    "Répétons cette extraction pour chaque ligne :"
   ]
  },
  {
   "cell_type": "code",
   "execution_count": 65,
   "metadata": {
    "collapsed": true
   },
   "outputs": [],
   "source": [
    "data = [extract_information(line) for line in elems]"
   ]
  },
  {
   "cell_type": "markdown",
   "metadata": {},
   "source": [
    "Comme on peut le voir, cela marche plutôt bien. Nous allons maintenant traiter ces informations avec `pandas`."
   ]
  },
  {
   "cell_type": "markdown",
   "metadata": {},
   "source": [
    "# Utilisation de pandas "
   ]
  },
  {
   "cell_type": "markdown",
   "metadata": {},
   "source": [
    "Nous pouvons directement importer les données précédentes dans un objet dataframe, qui va nous simplifier les démarches :"
   ]
  },
  {
   "cell_type": "code",
   "execution_count": 66,
   "metadata": {
    "collapsed": true
   },
   "outputs": [],
   "source": [
    "import pandas as pd"
   ]
  },
  {
   "cell_type": "code",
   "execution_count": 67,
   "metadata": {
    "collapsed": false
   },
   "outputs": [
    {
     "data": {
      "text/html": [
       "<div>\n",
       "<table border=\"1\" class=\"dataframe\">\n",
       "  <thead>\n",
       "    <tr style=\"text-align: right;\">\n",
       "      <th></th>\n",
       "      <th>numero</th>\n",
       "      <th>date</th>\n",
       "      <th>objet</th>\n",
       "      <th>pour</th>\n",
       "      <th>contre</th>\n",
       "      <th>abstention</th>\n",
       "    </tr>\n",
       "  </thead>\n",
       "  <tbody>\n",
       "    <tr>\n",
       "      <th>0</th>\n",
       "      <td>1237*</td>\n",
       "      <td>10/02/2016</td>\n",
       "      <td>l'ensemble du projet de loi constitutionnelle ...</td>\n",
       "      <td>317</td>\n",
       "      <td>199</td>\n",
       "      <td>51</td>\n",
       "    </tr>\n",
       "    <tr>\n",
       "      <th>1</th>\n",
       "      <td>1236</td>\n",
       "      <td>09/02/2016</td>\n",
       "      <td>l'ensemble de l'article premier du projet de l...</td>\n",
       "      <td>116</td>\n",
       "      <td>19</td>\n",
       "      <td>11</td>\n",
       "    </tr>\n",
       "    <tr>\n",
       "      <th>2</th>\n",
       "      <td>1235</td>\n",
       "      <td>09/02/2016</td>\n",
       "      <td>l'amendement n° 1 du Gouvernement à l'article ...</td>\n",
       "      <td>132</td>\n",
       "      <td>7</td>\n",
       "      <td>7</td>\n",
       "    </tr>\n",
       "    <tr>\n",
       "      <th>3</th>\n",
       "      <td>1234</td>\n",
       "      <td>09/02/2016</td>\n",
       "      <td>l'amendement n° 2 du Gouvernement à l'article ...</td>\n",
       "      <td>104</td>\n",
       "      <td>34</td>\n",
       "      <td>7</td>\n",
       "    </tr>\n",
       "    <tr>\n",
       "      <th>4</th>\n",
       "      <td>1233</td>\n",
       "      <td>09/02/2016</td>\n",
       "      <td>l'amendement n° 234 de M. Hamon après l'articl...</td>\n",
       "      <td>61</td>\n",
       "      <td>97</td>\n",
       "      <td>3</td>\n",
       "    </tr>\n",
       "    <tr>\n",
       "      <th>5</th>\n",
       "      <td>1232</td>\n",
       "      <td>09/02/2016</td>\n",
       "      <td>l'amendement n° 168 de M. Hamon après l'articl...</td>\n",
       "      <td>67</td>\n",
       "      <td>103</td>\n",
       "      <td>2</td>\n",
       "    </tr>\n",
       "    <tr>\n",
       "      <th>6</th>\n",
       "      <td>1231</td>\n",
       "      <td>09/02/2016</td>\n",
       "      <td>l'article 2 du projet de loi constitutionnelle...</td>\n",
       "      <td>162</td>\n",
       "      <td>148</td>\n",
       "      <td>22</td>\n",
       "    </tr>\n",
       "    <tr>\n",
       "      <th>7</th>\n",
       "      <td>1230</td>\n",
       "      <td>09/02/2016</td>\n",
       "      <td>le sous-amendement n° 271 de Mme Duflot et les...</td>\n",
       "      <td>59</td>\n",
       "      <td>185</td>\n",
       "      <td>25</td>\n",
       "    </tr>\n",
       "    <tr>\n",
       "      <th>8</th>\n",
       "      <td>1229</td>\n",
       "      <td>09/02/2016</td>\n",
       "      <td>le sous-amendement n° 250 de M. Goldberg et le...</td>\n",
       "      <td>77</td>\n",
       "      <td>174</td>\n",
       "      <td>32</td>\n",
       "    </tr>\n",
       "    <tr>\n",
       "      <th>9</th>\n",
       "      <td>1228</td>\n",
       "      <td>09/02/2016</td>\n",
       "      <td>l'amendement n° 50 de M. Schwartzenberg à l'ar...</td>\n",
       "      <td>64</td>\n",
       "      <td>180</td>\n",
       "      <td>41</td>\n",
       "    </tr>\n",
       "  </tbody>\n",
       "</table>\n",
       "</div>"
      ],
      "text/plain": [
       "  numero        date                                              objet  pour  \\\n",
       "0  1237*  10/02/2016  l'ensemble du projet de loi constitutionnelle ...   317   \n",
       "1   1236  09/02/2016  l'ensemble de l'article premier du projet de l...   116   \n",
       "2   1235  09/02/2016  l'amendement n° 1 du Gouvernement à l'article ...   132   \n",
       "3   1234  09/02/2016  l'amendement n° 2 du Gouvernement à l'article ...   104   \n",
       "4   1233  09/02/2016  l'amendement n° 234 de M. Hamon après l'articl...    61   \n",
       "5   1232  09/02/2016  l'amendement n° 168 de M. Hamon après l'articl...    67   \n",
       "6   1231  09/02/2016  l'article 2 du projet de loi constitutionnelle...   162   \n",
       "7   1230  09/02/2016  le sous-amendement n° 271 de Mme Duflot et les...    59   \n",
       "8   1229  09/02/2016  le sous-amendement n° 250 de M. Goldberg et le...    77   \n",
       "9   1228  09/02/2016  l'amendement n° 50 de M. Schwartzenberg à l'ar...    64   \n",
       "\n",
       "   contre  abstention  \n",
       "0     199          51  \n",
       "1      19          11  \n",
       "2       7           7  \n",
       "3      34           7  \n",
       "4      97           3  \n",
       "5     103           2  \n",
       "6     148          22  \n",
       "7     185          25  \n",
       "8     174          32  \n",
       "9     180          41  "
      ]
     },
     "execution_count": 67,
     "metadata": {},
     "output_type": "execute_result"
    }
   ],
   "source": [
    "df = pd.DataFrame(data, columns=('numero', 'date', 'objet', 'pour', 'contre', 'abstention'))\n",
    "df.head(10)"
   ]
  },
  {
   "cell_type": "markdown",
   "metadata": {},
   "source": [
    "A partir de ce tableau, nous pouvons calculer le nombre de d'absents, car il y a 577 députés à l'assemblée nationale."
   ]
  },
  {
   "cell_type": "code",
   "execution_count": 68,
   "metadata": {
    "collapsed": true
   },
   "outputs": [],
   "source": [
    "df['absents'] = 577 - (df['pour'] + df['contre'] + df['abstention'])"
   ]
  },
  {
   "cell_type": "code",
   "execution_count": 69,
   "metadata": {
    "collapsed": false
   },
   "outputs": [
    {
     "data": {
      "text/html": [
       "<div>\n",
       "<table border=\"1\" class=\"dataframe\">\n",
       "  <thead>\n",
       "    <tr style=\"text-align: right;\">\n",
       "      <th></th>\n",
       "      <th>numero</th>\n",
       "      <th>date</th>\n",
       "      <th>objet</th>\n",
       "      <th>pour</th>\n",
       "      <th>contre</th>\n",
       "      <th>abstention</th>\n",
       "      <th>absents</th>\n",
       "    </tr>\n",
       "  </thead>\n",
       "  <tbody>\n",
       "    <tr>\n",
       "      <th>0</th>\n",
       "      <td>1237*</td>\n",
       "      <td>10/02/2016</td>\n",
       "      <td>l'ensemble du projet de loi constitutionnelle ...</td>\n",
       "      <td>317</td>\n",
       "      <td>199</td>\n",
       "      <td>51</td>\n",
       "      <td>10</td>\n",
       "    </tr>\n",
       "    <tr>\n",
       "      <th>1</th>\n",
       "      <td>1236</td>\n",
       "      <td>09/02/2016</td>\n",
       "      <td>l'ensemble de l'article premier du projet de l...</td>\n",
       "      <td>116</td>\n",
       "      <td>19</td>\n",
       "      <td>11</td>\n",
       "      <td>431</td>\n",
       "    </tr>\n",
       "    <tr>\n",
       "      <th>2</th>\n",
       "      <td>1235</td>\n",
       "      <td>09/02/2016</td>\n",
       "      <td>l'amendement n° 1 du Gouvernement à l'article ...</td>\n",
       "      <td>132</td>\n",
       "      <td>7</td>\n",
       "      <td>7</td>\n",
       "      <td>431</td>\n",
       "    </tr>\n",
       "    <tr>\n",
       "      <th>3</th>\n",
       "      <td>1234</td>\n",
       "      <td>09/02/2016</td>\n",
       "      <td>l'amendement n° 2 du Gouvernement à l'article ...</td>\n",
       "      <td>104</td>\n",
       "      <td>34</td>\n",
       "      <td>7</td>\n",
       "      <td>432</td>\n",
       "    </tr>\n",
       "    <tr>\n",
       "      <th>4</th>\n",
       "      <td>1233</td>\n",
       "      <td>09/02/2016</td>\n",
       "      <td>l'amendement n° 234 de M. Hamon après l'articl...</td>\n",
       "      <td>61</td>\n",
       "      <td>97</td>\n",
       "      <td>3</td>\n",
       "      <td>416</td>\n",
       "    </tr>\n",
       "    <tr>\n",
       "      <th>5</th>\n",
       "      <td>1232</td>\n",
       "      <td>09/02/2016</td>\n",
       "      <td>l'amendement n° 168 de M. Hamon après l'articl...</td>\n",
       "      <td>67</td>\n",
       "      <td>103</td>\n",
       "      <td>2</td>\n",
       "      <td>405</td>\n",
       "    </tr>\n",
       "    <tr>\n",
       "      <th>6</th>\n",
       "      <td>1231</td>\n",
       "      <td>09/02/2016</td>\n",
       "      <td>l'article 2 du projet de loi constitutionnelle...</td>\n",
       "      <td>162</td>\n",
       "      <td>148</td>\n",
       "      <td>22</td>\n",
       "      <td>245</td>\n",
       "    </tr>\n",
       "    <tr>\n",
       "      <th>7</th>\n",
       "      <td>1230</td>\n",
       "      <td>09/02/2016</td>\n",
       "      <td>le sous-amendement n° 271 de Mme Duflot et les...</td>\n",
       "      <td>59</td>\n",
       "      <td>185</td>\n",
       "      <td>25</td>\n",
       "      <td>308</td>\n",
       "    </tr>\n",
       "    <tr>\n",
       "      <th>8</th>\n",
       "      <td>1229</td>\n",
       "      <td>09/02/2016</td>\n",
       "      <td>le sous-amendement n° 250 de M. Goldberg et le...</td>\n",
       "      <td>77</td>\n",
       "      <td>174</td>\n",
       "      <td>32</td>\n",
       "      <td>294</td>\n",
       "    </tr>\n",
       "    <tr>\n",
       "      <th>9</th>\n",
       "      <td>1228</td>\n",
       "      <td>09/02/2016</td>\n",
       "      <td>l'amendement n° 50 de M. Schwartzenberg à l'ar...</td>\n",
       "      <td>64</td>\n",
       "      <td>180</td>\n",
       "      <td>41</td>\n",
       "      <td>292</td>\n",
       "    </tr>\n",
       "  </tbody>\n",
       "</table>\n",
       "</div>"
      ],
      "text/plain": [
       "  numero        date                                              objet  pour  \\\n",
       "0  1237*  10/02/2016  l'ensemble du projet de loi constitutionnelle ...   317   \n",
       "1   1236  09/02/2016  l'ensemble de l'article premier du projet de l...   116   \n",
       "2   1235  09/02/2016  l'amendement n° 1 du Gouvernement à l'article ...   132   \n",
       "3   1234  09/02/2016  l'amendement n° 2 du Gouvernement à l'article ...   104   \n",
       "4   1233  09/02/2016  l'amendement n° 234 de M. Hamon après l'articl...    61   \n",
       "5   1232  09/02/2016  l'amendement n° 168 de M. Hamon après l'articl...    67   \n",
       "6   1231  09/02/2016  l'article 2 du projet de loi constitutionnelle...   162   \n",
       "7   1230  09/02/2016  le sous-amendement n° 271 de Mme Duflot et les...    59   \n",
       "8   1229  09/02/2016  le sous-amendement n° 250 de M. Goldberg et le...    77   \n",
       "9   1228  09/02/2016  l'amendement n° 50 de M. Schwartzenberg à l'ar...    64   \n",
       "\n",
       "   contre  abstention  absents  \n",
       "0     199          51       10  \n",
       "1      19          11      431  \n",
       "2       7           7      431  \n",
       "3      34           7      432  \n",
       "4      97           3      416  \n",
       "5     103           2      405  \n",
       "6     148          22      245  \n",
       "7     185          25      308  \n",
       "8     174          32      294  \n",
       "9     180          41      292  "
      ]
     },
     "execution_count": 69,
     "metadata": {},
     "output_type": "execute_result"
    }
   ],
   "source": [
    "df.head(10)"
   ]
  },
  {
   "cell_type": "code",
   "execution_count": null,
   "metadata": {
    "collapsed": true
   },
   "outputs": [],
   "source": []
  }
 ],
 "metadata": {
  "kernelspec": {
   "display_name": "Python 3",
   "language": "python",
   "name": "python3"
  },
  "language_info": {
   "codemirror_mode": {
    "name": "ipython",
    "version": 3
   },
   "file_extension": ".py",
   "mimetype": "text/x-python",
   "name": "python",
   "nbconvert_exporter": "python",
   "pygments_lexer": "ipython3",
   "version": "3.5.1"
  }
 },
 "nbformat": 4,
 "nbformat_minor": 0
}
