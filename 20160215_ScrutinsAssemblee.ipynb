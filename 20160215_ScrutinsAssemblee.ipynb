{
 "cells": [
  {
   "cell_type": "markdown",
   "metadata": {},
   "source": [
    "Dans ce billet, nous allons extraire les données disponibles sur les scrutins de l'assemblée nationale afin de déterminer quels jours de la semaine sont propice au débat dans l'assemblée et quels jours ne le sont pas."
   ]
  },
  {
   "cell_type": "markdown",
   "metadata": {},
   "source": [
    "# Récupération des informations "
   ]
  },
  {
   "cell_type": "markdown",
   "metadata": {},
   "source": [
    "Les données qui m'intéressent sont sur la page suivante : [http://www2.assemblee-nationale.fr/scrutins/liste/%28legislature%29/14](http://www2.assemblee-nationale.fr/scrutins/liste/%28legislature%29/14).\n",
    "\n",
    "Téléchargeons le contenu de cette page."
   ]
  },
  {
   "cell_type": "code",
   "execution_count": 1,
   "metadata": {
    "collapsed": true
   },
   "outputs": [],
   "source": [
    "import requests"
   ]
  },
  {
   "cell_type": "code",
   "execution_count": 2,
   "metadata": {
    "collapsed": false
   },
   "outputs": [
    {
     "data": {
      "text/plain": [
       "<Response [200]>"
      ]
     },
     "execution_count": 2,
     "metadata": {},
     "output_type": "execute_result"
    }
   ],
   "source": [
    "r = requests.get(\"http://www2.assemblee-nationale.fr/scrutins/liste/%28legislature%29/14\")\n",
    "r"
   ]
  },
  {
   "cell_type": "markdown",
   "metadata": {},
   "source": [
    "Maintenant, passons la page dans le parser BeautifulSoup :"
   ]
  },
  {
   "cell_type": "code",
   "execution_count": 3,
   "metadata": {
    "collapsed": true
   },
   "outputs": [],
   "source": [
    "from bs4 import BeautifulSoup\n",
    "soup = BeautifulSoup(r.text, 'html.parser')"
   ]
  },
  {
   "cell_type": "markdown",
   "metadata": {},
   "source": [
    "Les éléments qui nous intéressent sont les suivants : \n",
    "\n",
    "- numéro du scrutin\n",
    "- date du scrutin\n",
    "- objet du scrutin\n",
    "- résultats : pour, contre, abstention volontaire\n",
    "\n",
    "Ces éléments sont dans un grand tableau, que nous allons essayer d'extraire :"
   ]
  },
  {
   "cell_type": "code",
   "execution_count": 4,
   "metadata": {
    "collapsed": false
   },
   "outputs": [],
   "source": [
    "elems = soup.select('tbody tr')"
   ]
  },
  {
   "cell_type": "code",
   "execution_count": 5,
   "metadata": {
    "collapsed": false
   },
   "outputs": [
    {
     "data": {
      "text/plain": [
       "100"
      ]
     },
     "execution_count": 5,
     "metadata": {},
     "output_type": "execute_result"
    }
   ],
   "source": [
    "len(elems)"
   ]
  },
  {
   "cell_type": "markdown",
   "metadata": {},
   "source": [
    "Chaque élément précédent représente une ligne du tableau. La première ligne du tableau contient par exemple les informations suivantes :"
   ]
  },
  {
   "cell_type": "code",
   "execution_count": 6,
   "metadata": {
    "collapsed": false
   },
   "outputs": [
    {
     "data": {
      "text/plain": [
       "<tr>\n",
       "<td class=\"denom\">1237*</td>\n",
       "<td>10/02/2016</td>\n",
       "<td class=\"desc\">l'ensemble du projet de loi constitutionnelle de protection de la Nation (première lecture). [<a href=\"http://www.assemblee-nationale.fr/14/dossiers/protection_nation.asp\">dossier</a>] [<a href=\"/scrutins/detail/(legislature)/14/(num)/1237\">analyse du scrutin</a>]</td>\n",
       "<td class=\"pour\">317</td>\n",
       "<td class=\"contre SSO\">199</td>\n",
       "<td class=\"abs SSO\">51</td>\n",
       "</tr>"
      ]
     },
     "execution_count": 6,
     "metadata": {},
     "output_type": "execute_result"
    }
   ],
   "source": [
    "elems[0]"
   ]
  },
  {
   "cell_type": "markdown",
   "metadata": {},
   "source": [
    "Ecrivons une fonction qui extrait les informations d'une seule ligne."
   ]
  },
  {
   "cell_type": "code",
   "execution_count": 7,
   "metadata": {
    "collapsed": false
   },
   "outputs": [],
   "source": [
    "def extract_information(line):\n",
    "    \"\"\"Extrait les informations d'une ligne du tableau des scrutins.\"\"\"\n",
    "    elems = line.find_all('td')\n",
    "    # numéro de scrutin\n",
    "    num = elems[0].text\n",
    "    # date\n",
    "    date = elems[1].text\n",
    "    # objet\n",
    "    obj = elems[2].text\n",
    "    # pour\n",
    "    pour = int(elems[3].text)\n",
    "    # contre\n",
    "    contre = int(elems[4].text)\n",
    "    # abstention\n",
    "    abstention = int(elems[5].text)\n",
    "    return num, date, obj, pour, contre, abstention"
   ]
  },
  {
   "cell_type": "markdown",
   "metadata": {},
   "source": [
    "On peut tester cette routine sur la première ligne :"
   ]
  },
  {
   "cell_type": "code",
   "execution_count": 8,
   "metadata": {
    "collapsed": false
   },
   "outputs": [
    {
     "data": {
      "text/plain": [
       "('1237*',\n",
       " '10/02/2016',\n",
       " \"l'ensemble du projet de loi constitutionnelle de protection de la Nation (première lecture). [dossier] [analyse du scrutin]\",\n",
       " 317,\n",
       " 199,\n",
       " 51)"
      ]
     },
     "execution_count": 8,
     "metadata": {},
     "output_type": "execute_result"
    }
   ],
   "source": [
    "extract_information(elems[0])"
   ]
  },
  {
   "cell_type": "markdown",
   "metadata": {},
   "source": [
    "Répétons cette extraction pour chaque ligne :"
   ]
  },
  {
   "cell_type": "code",
   "execution_count": 9,
   "metadata": {
    "collapsed": true
   },
   "outputs": [],
   "source": [
    "data = [extract_information(line) for line in elems]"
   ]
  },
  {
   "cell_type": "markdown",
   "metadata": {},
   "source": [
    "Comme on peut le voir, cela marche plutôt bien. Nous allons maintenant traiter ces informations avec `pandas`."
   ]
  },
  {
   "cell_type": "markdown",
   "metadata": {},
   "source": [
    "# Utilisation de pandas "
   ]
  },
  {
   "cell_type": "markdown",
   "metadata": {},
   "source": [
    "Nous pouvons directement importer les données précédentes dans un objet dataframe, qui va nous simplifier les démarches :"
   ]
  },
  {
   "cell_type": "code",
   "execution_count": 10,
   "metadata": {
    "collapsed": true
   },
   "outputs": [],
   "source": [
    "import pandas as pd"
   ]
  },
  {
   "cell_type": "code",
   "execution_count": 11,
   "metadata": {
    "collapsed": false
   },
   "outputs": [
    {
     "data": {
      "text/html": [
       "<div>\n",
       "<table border=\"1\" class=\"dataframe\">\n",
       "  <thead>\n",
       "    <tr style=\"text-align: right;\">\n",
       "      <th></th>\n",
       "      <th>numero</th>\n",
       "      <th>date</th>\n",
       "      <th>objet</th>\n",
       "      <th>pour</th>\n",
       "      <th>contre</th>\n",
       "      <th>abstention</th>\n",
       "    </tr>\n",
       "  </thead>\n",
       "  <tbody>\n",
       "    <tr>\n",
       "      <th>0</th>\n",
       "      <td>1237*</td>\n",
       "      <td>10/02/2016</td>\n",
       "      <td>l'ensemble du projet de loi constitutionnelle ...</td>\n",
       "      <td>317</td>\n",
       "      <td>199</td>\n",
       "      <td>51</td>\n",
       "    </tr>\n",
       "    <tr>\n",
       "      <th>1</th>\n",
       "      <td>1236</td>\n",
       "      <td>09/02/2016</td>\n",
       "      <td>l'ensemble de l'article premier du projet de l...</td>\n",
       "      <td>116</td>\n",
       "      <td>19</td>\n",
       "      <td>11</td>\n",
       "    </tr>\n",
       "    <tr>\n",
       "      <th>2</th>\n",
       "      <td>1235</td>\n",
       "      <td>09/02/2016</td>\n",
       "      <td>l'amendement n° 1 du Gouvernement à l'article ...</td>\n",
       "      <td>132</td>\n",
       "      <td>7</td>\n",
       "      <td>7</td>\n",
       "    </tr>\n",
       "    <tr>\n",
       "      <th>3</th>\n",
       "      <td>1234</td>\n",
       "      <td>09/02/2016</td>\n",
       "      <td>l'amendement n° 2 du Gouvernement à l'article ...</td>\n",
       "      <td>104</td>\n",
       "      <td>34</td>\n",
       "      <td>7</td>\n",
       "    </tr>\n",
       "    <tr>\n",
       "      <th>4</th>\n",
       "      <td>1233</td>\n",
       "      <td>09/02/2016</td>\n",
       "      <td>l'amendement n° 234 de M. Hamon après l'articl...</td>\n",
       "      <td>61</td>\n",
       "      <td>97</td>\n",
       "      <td>3</td>\n",
       "    </tr>\n",
       "    <tr>\n",
       "      <th>5</th>\n",
       "      <td>1232</td>\n",
       "      <td>09/02/2016</td>\n",
       "      <td>l'amendement n° 168 de M. Hamon après l'articl...</td>\n",
       "      <td>67</td>\n",
       "      <td>103</td>\n",
       "      <td>2</td>\n",
       "    </tr>\n",
       "    <tr>\n",
       "      <th>6</th>\n",
       "      <td>1231</td>\n",
       "      <td>09/02/2016</td>\n",
       "      <td>l'article 2 du projet de loi constitutionnelle...</td>\n",
       "      <td>162</td>\n",
       "      <td>148</td>\n",
       "      <td>22</td>\n",
       "    </tr>\n",
       "    <tr>\n",
       "      <th>7</th>\n",
       "      <td>1230</td>\n",
       "      <td>09/02/2016</td>\n",
       "      <td>le sous-amendement n° 271 de Mme Duflot et les...</td>\n",
       "      <td>59</td>\n",
       "      <td>185</td>\n",
       "      <td>25</td>\n",
       "    </tr>\n",
       "    <tr>\n",
       "      <th>8</th>\n",
       "      <td>1229</td>\n",
       "      <td>09/02/2016</td>\n",
       "      <td>le sous-amendement n° 250 de M. Goldberg et le...</td>\n",
       "      <td>77</td>\n",
       "      <td>174</td>\n",
       "      <td>32</td>\n",
       "    </tr>\n",
       "    <tr>\n",
       "      <th>9</th>\n",
       "      <td>1228</td>\n",
       "      <td>09/02/2016</td>\n",
       "      <td>l'amendement n° 50 de M. Schwartzenberg à l'ar...</td>\n",
       "      <td>64</td>\n",
       "      <td>180</td>\n",
       "      <td>41</td>\n",
       "    </tr>\n",
       "  </tbody>\n",
       "</table>\n",
       "</div>"
      ],
      "text/plain": [
       "  numero        date                                              objet  pour  \\\n",
       "0  1237*  10/02/2016  l'ensemble du projet de loi constitutionnelle ...   317   \n",
       "1   1236  09/02/2016  l'ensemble de l'article premier du projet de l...   116   \n",
       "2   1235  09/02/2016  l'amendement n° 1 du Gouvernement à l'article ...   132   \n",
       "3   1234  09/02/2016  l'amendement n° 2 du Gouvernement à l'article ...   104   \n",
       "4   1233  09/02/2016  l'amendement n° 234 de M. Hamon après l'articl...    61   \n",
       "5   1232  09/02/2016  l'amendement n° 168 de M. Hamon après l'articl...    67   \n",
       "6   1231  09/02/2016  l'article 2 du projet de loi constitutionnelle...   162   \n",
       "7   1230  09/02/2016  le sous-amendement n° 271 de Mme Duflot et les...    59   \n",
       "8   1229  09/02/2016  le sous-amendement n° 250 de M. Goldberg et le...    77   \n",
       "9   1228  09/02/2016  l'amendement n° 50 de M. Schwartzenberg à l'ar...    64   \n",
       "\n",
       "   contre  abstention  \n",
       "0     199          51  \n",
       "1      19          11  \n",
       "2       7           7  \n",
       "3      34           7  \n",
       "4      97           3  \n",
       "5     103           2  \n",
       "6     148          22  \n",
       "7     185          25  \n",
       "8     174          32  \n",
       "9     180          41  "
      ]
     },
     "execution_count": 11,
     "metadata": {},
     "output_type": "execute_result"
    }
   ],
   "source": [
    "df = pd.DataFrame(data, columns=('numero', 'date', 'objet', 'pour', 'contre', 'abstention'))\n",
    "df.head(10)"
   ]
  },
  {
   "cell_type": "markdown",
   "metadata": {},
   "source": [
    "A partir de ce tableau, nous pouvons calculer le nombre de d'absents, car il y a 577 députés à l'assemblée nationale."
   ]
  },
  {
   "cell_type": "code",
   "execution_count": 144,
   "metadata": {
    "collapsed": true
   },
   "outputs": [],
   "source": [
    "df['presents'] = df['pour'] + df['contre'] + df['abstention']\n",
    "df['absents'] = 577 - df.presents"
   ]
  },
  {
   "cell_type": "code",
   "execution_count": 13,
   "metadata": {
    "collapsed": false
   },
   "outputs": [
    {
     "data": {
      "text/html": [
       "<div>\n",
       "<table border=\"1\" class=\"dataframe\">\n",
       "  <thead>\n",
       "    <tr style=\"text-align: right;\">\n",
       "      <th></th>\n",
       "      <th>numero</th>\n",
       "      <th>date</th>\n",
       "      <th>objet</th>\n",
       "      <th>pour</th>\n",
       "      <th>contre</th>\n",
       "      <th>abstention</th>\n",
       "      <th>absents</th>\n",
       "    </tr>\n",
       "  </thead>\n",
       "  <tbody>\n",
       "    <tr>\n",
       "      <th>0</th>\n",
       "      <td>1237*</td>\n",
       "      <td>10/02/2016</td>\n",
       "      <td>l'ensemble du projet de loi constitutionnelle ...</td>\n",
       "      <td>317</td>\n",
       "      <td>199</td>\n",
       "      <td>51</td>\n",
       "      <td>10</td>\n",
       "    </tr>\n",
       "    <tr>\n",
       "      <th>1</th>\n",
       "      <td>1236</td>\n",
       "      <td>09/02/2016</td>\n",
       "      <td>l'ensemble de l'article premier du projet de l...</td>\n",
       "      <td>116</td>\n",
       "      <td>19</td>\n",
       "      <td>11</td>\n",
       "      <td>431</td>\n",
       "    </tr>\n",
       "    <tr>\n",
       "      <th>2</th>\n",
       "      <td>1235</td>\n",
       "      <td>09/02/2016</td>\n",
       "      <td>l'amendement n° 1 du Gouvernement à l'article ...</td>\n",
       "      <td>132</td>\n",
       "      <td>7</td>\n",
       "      <td>7</td>\n",
       "      <td>431</td>\n",
       "    </tr>\n",
       "    <tr>\n",
       "      <th>3</th>\n",
       "      <td>1234</td>\n",
       "      <td>09/02/2016</td>\n",
       "      <td>l'amendement n° 2 du Gouvernement à l'article ...</td>\n",
       "      <td>104</td>\n",
       "      <td>34</td>\n",
       "      <td>7</td>\n",
       "      <td>432</td>\n",
       "    </tr>\n",
       "    <tr>\n",
       "      <th>4</th>\n",
       "      <td>1233</td>\n",
       "      <td>09/02/2016</td>\n",
       "      <td>l'amendement n° 234 de M. Hamon après l'articl...</td>\n",
       "      <td>61</td>\n",
       "      <td>97</td>\n",
       "      <td>3</td>\n",
       "      <td>416</td>\n",
       "    </tr>\n",
       "    <tr>\n",
       "      <th>5</th>\n",
       "      <td>1232</td>\n",
       "      <td>09/02/2016</td>\n",
       "      <td>l'amendement n° 168 de M. Hamon après l'articl...</td>\n",
       "      <td>67</td>\n",
       "      <td>103</td>\n",
       "      <td>2</td>\n",
       "      <td>405</td>\n",
       "    </tr>\n",
       "    <tr>\n",
       "      <th>6</th>\n",
       "      <td>1231</td>\n",
       "      <td>09/02/2016</td>\n",
       "      <td>l'article 2 du projet de loi constitutionnelle...</td>\n",
       "      <td>162</td>\n",
       "      <td>148</td>\n",
       "      <td>22</td>\n",
       "      <td>245</td>\n",
       "    </tr>\n",
       "    <tr>\n",
       "      <th>7</th>\n",
       "      <td>1230</td>\n",
       "      <td>09/02/2016</td>\n",
       "      <td>le sous-amendement n° 271 de Mme Duflot et les...</td>\n",
       "      <td>59</td>\n",
       "      <td>185</td>\n",
       "      <td>25</td>\n",
       "      <td>308</td>\n",
       "    </tr>\n",
       "    <tr>\n",
       "      <th>8</th>\n",
       "      <td>1229</td>\n",
       "      <td>09/02/2016</td>\n",
       "      <td>le sous-amendement n° 250 de M. Goldberg et le...</td>\n",
       "      <td>77</td>\n",
       "      <td>174</td>\n",
       "      <td>32</td>\n",
       "      <td>294</td>\n",
       "    </tr>\n",
       "    <tr>\n",
       "      <th>9</th>\n",
       "      <td>1228</td>\n",
       "      <td>09/02/2016</td>\n",
       "      <td>l'amendement n° 50 de M. Schwartzenberg à l'ar...</td>\n",
       "      <td>64</td>\n",
       "      <td>180</td>\n",
       "      <td>41</td>\n",
       "      <td>292</td>\n",
       "    </tr>\n",
       "  </tbody>\n",
       "</table>\n",
       "</div>"
      ],
      "text/plain": [
       "  numero        date                                              objet  pour  \\\n",
       "0  1237*  10/02/2016  l'ensemble du projet de loi constitutionnelle ...   317   \n",
       "1   1236  09/02/2016  l'ensemble de l'article premier du projet de l...   116   \n",
       "2   1235  09/02/2016  l'amendement n° 1 du Gouvernement à l'article ...   132   \n",
       "3   1234  09/02/2016  l'amendement n° 2 du Gouvernement à l'article ...   104   \n",
       "4   1233  09/02/2016  l'amendement n° 234 de M. Hamon après l'articl...    61   \n",
       "5   1232  09/02/2016  l'amendement n° 168 de M. Hamon après l'articl...    67   \n",
       "6   1231  09/02/2016  l'article 2 du projet de loi constitutionnelle...   162   \n",
       "7   1230  09/02/2016  le sous-amendement n° 271 de Mme Duflot et les...    59   \n",
       "8   1229  09/02/2016  le sous-amendement n° 250 de M. Goldberg et le...    77   \n",
       "9   1228  09/02/2016  l'amendement n° 50 de M. Schwartzenberg à l'ar...    64   \n",
       "\n",
       "   contre  abstention  absents  \n",
       "0     199          51       10  \n",
       "1      19          11      431  \n",
       "2       7           7      431  \n",
       "3      34           7      432  \n",
       "4      97           3      416  \n",
       "5     103           2      405  \n",
       "6     148          22      245  \n",
       "7     185          25      308  \n",
       "8     174          32      294  \n",
       "9     180          41      292  "
      ]
     },
     "execution_count": 13,
     "metadata": {},
     "output_type": "execute_result"
    }
   ],
   "source": [
    "df.head(10)"
   ]
  },
  {
   "cell_type": "markdown",
   "metadata": {
    "collapsed": true
   },
   "source": [
    "On peut représenter graphiquement les absences :"
   ]
  },
  {
   "cell_type": "code",
   "execution_count": 14,
   "metadata": {
    "collapsed": false
   },
   "outputs": [],
   "source": [
    "%matplotlib inline\n",
    "import matplotlib.pyplot as plt\n",
    "plt.style.use('bmh')"
   ]
  },
  {
   "cell_type": "code",
   "execution_count": 15,
   "metadata": {
    "collapsed": false
   },
   "outputs": [
    {
     "data": {
      "text/plain": [
       "<matplotlib.text.Text at 0x10df0ac18>"
      ]
     },
     "execution_count": 15,
     "metadata": {},
     "output_type": "execute_result"
    },
    {
     "data": {
      "image/png": "[encoded data removed]",
      "text/plain": [
       "<matplotlib.figure.Figure at 0x10dc294a8>"
      ]
     },
     "metadata": {},
     "output_type": "display_data"
    }
   ],
   "source": [
    "df.absents.plot()\n",
    "plt.xlabel('scrutin')\n",
    "plt.title(\"nombre d'absents (sur 577 députés)\")"
   ]
  },
  {
   "cell_type": "markdown",
   "metadata": {},
   "source": [
    "Afin de mieux appréhender cette distribution, regardons l'histogramme des absences :"
   ]
  },
  {
   "cell_type": "code",
   "execution_count": 16,
   "metadata": {
    "collapsed": false
   },
   "outputs": [
    {
     "data": {
      "text/plain": [
       "<matplotlib.text.Text at 0x10dfb2fd0>"
      ]
     },
     "execution_count": 16,
     "metadata": {},
     "output_type": "execute_result"
    },
    {
     "data": {
      "image/png": "[encoded data removed]",
      "text/plain": [
       "<matplotlib.figure.Figure at 0x10df4c1d0>"
      ]
     },
     "metadata": {},
     "output_type": "display_data"
    }
   ],
   "source": [
    "df.absents.plot(kind='hist', bins=20)\n",
    "plt.title(\"histogramme du nombre d'absents\")"
   ]
  },
  {
   "cell_type": "markdown",
   "metadata": {},
   "source": [
    "On observe une distribution étrange : à gauche des scrutins avec peu d'absents (quelques uns), au milieu des scrutins à mi-assemblée (un peu moins) et beaucoup de scrutins avec beaucoup d'absents."
   ]
  },
  {
   "cell_type": "markdown",
   "metadata": {},
   "source": [
    "On peut s'intéresser aux dates des scrutins et rajouter l'information du jour de la semaine dans le tableau de données :"
   ]
  },
  {
   "cell_type": "code",
   "execution_count": 17,
   "metadata": {
    "collapsed": false
   },
   "outputs": [],
   "source": [
    "df.date = pd.to_datetime(df.date, dayfirst=True)"
   ]
  },
  {
   "cell_type": "code",
   "execution_count": 18,
   "metadata": {
    "collapsed": false
   },
   "outputs": [
    {
     "data": {
      "text/html": [
       "<div>\n",
       "<table border=\"1\" class=\"dataframe\">\n",
       "  <thead>\n",
       "    <tr style=\"text-align: right;\">\n",
       "      <th></th>\n",
       "      <th>numero</th>\n",
       "      <th>date</th>\n",
       "      <th>objet</th>\n",
       "      <th>pour</th>\n",
       "      <th>contre</th>\n",
       "      <th>abstention</th>\n",
       "      <th>absents</th>\n",
       "    </tr>\n",
       "  </thead>\n",
       "  <tbody>\n",
       "    <tr>\n",
       "      <th>0</th>\n",
       "      <td>1237*</td>\n",
       "      <td>2016-02-10</td>\n",
       "      <td>l'ensemble du projet de loi constitutionnelle ...</td>\n",
       "      <td>317</td>\n",
       "      <td>199</td>\n",
       "      <td>51</td>\n",
       "      <td>10</td>\n",
       "    </tr>\n",
       "    <tr>\n",
       "      <th>1</th>\n",
       "      <td>1236</td>\n",
       "      <td>2016-02-09</td>\n",
       "      <td>l'ensemble de l'article premier du projet de l...</td>\n",
       "      <td>116</td>\n",
       "      <td>19</td>\n",
       "      <td>11</td>\n",
       "      <td>431</td>\n",
       "    </tr>\n",
       "    <tr>\n",
       "      <th>2</th>\n",
       "      <td>1235</td>\n",
       "      <td>2016-02-09</td>\n",
       "      <td>l'amendement n° 1 du Gouvernement à l'article ...</td>\n",
       "      <td>132</td>\n",
       "      <td>7</td>\n",
       "      <td>7</td>\n",
       "      <td>431</td>\n",
       "    </tr>\n",
       "    <tr>\n",
       "      <th>3</th>\n",
       "      <td>1234</td>\n",
       "      <td>2016-02-09</td>\n",
       "      <td>l'amendement n° 2 du Gouvernement à l'article ...</td>\n",
       "      <td>104</td>\n",
       "      <td>34</td>\n",
       "      <td>7</td>\n",
       "      <td>432</td>\n",
       "    </tr>\n",
       "    <tr>\n",
       "      <th>4</th>\n",
       "      <td>1233</td>\n",
       "      <td>2016-02-09</td>\n",
       "      <td>l'amendement n° 234 de M. Hamon après l'articl...</td>\n",
       "      <td>61</td>\n",
       "      <td>97</td>\n",
       "      <td>3</td>\n",
       "      <td>416</td>\n",
       "    </tr>\n",
       "    <tr>\n",
       "      <th>5</th>\n",
       "      <td>1232</td>\n",
       "      <td>2016-02-09</td>\n",
       "      <td>l'amendement n° 168 de M. Hamon après l'articl...</td>\n",
       "      <td>67</td>\n",
       "      <td>103</td>\n",
       "      <td>2</td>\n",
       "      <td>405</td>\n",
       "    </tr>\n",
       "    <tr>\n",
       "      <th>6</th>\n",
       "      <td>1231</td>\n",
       "      <td>2016-02-09</td>\n",
       "      <td>l'article 2 du projet de loi constitutionnelle...</td>\n",
       "      <td>162</td>\n",
       "      <td>148</td>\n",
       "      <td>22</td>\n",
       "      <td>245</td>\n",
       "    </tr>\n",
       "    <tr>\n",
       "      <th>7</th>\n",
       "      <td>1230</td>\n",
       "      <td>2016-02-09</td>\n",
       "      <td>le sous-amendement n° 271 de Mme Duflot et les...</td>\n",
       "      <td>59</td>\n",
       "      <td>185</td>\n",
       "      <td>25</td>\n",
       "      <td>308</td>\n",
       "    </tr>\n",
       "    <tr>\n",
       "      <th>8</th>\n",
       "      <td>1229</td>\n",
       "      <td>2016-02-09</td>\n",
       "      <td>le sous-amendement n° 250 de M. Goldberg et le...</td>\n",
       "      <td>77</td>\n",
       "      <td>174</td>\n",
       "      <td>32</td>\n",
       "      <td>294</td>\n",
       "    </tr>\n",
       "    <tr>\n",
       "      <th>9</th>\n",
       "      <td>1228</td>\n",
       "      <td>2016-02-09</td>\n",
       "      <td>l'amendement n° 50 de M. Schwartzenberg à l'ar...</td>\n",
       "      <td>64</td>\n",
       "      <td>180</td>\n",
       "      <td>41</td>\n",
       "      <td>292</td>\n",
       "    </tr>\n",
       "  </tbody>\n",
       "</table>\n",
       "</div>"
      ],
      "text/plain": [
       "  numero       date                                              objet  pour  \\\n",
       "0  1237* 2016-02-10  l'ensemble du projet de loi constitutionnelle ...   317   \n",
       "1   1236 2016-02-09  l'ensemble de l'article premier du projet de l...   116   \n",
       "2   1235 2016-02-09  l'amendement n° 1 du Gouvernement à l'article ...   132   \n",
       "3   1234 2016-02-09  l'amendement n° 2 du Gouvernement à l'article ...   104   \n",
       "4   1233 2016-02-09  l'amendement n° 234 de M. Hamon après l'articl...    61   \n",
       "5   1232 2016-02-09  l'amendement n° 168 de M. Hamon après l'articl...    67   \n",
       "6   1231 2016-02-09  l'article 2 du projet de loi constitutionnelle...   162   \n",
       "7   1230 2016-02-09  le sous-amendement n° 271 de Mme Duflot et les...    59   \n",
       "8   1229 2016-02-09  le sous-amendement n° 250 de M. Goldberg et le...    77   \n",
       "9   1228 2016-02-09  l'amendement n° 50 de M. Schwartzenberg à l'ar...    64   \n",
       "\n",
       "   contre  abstention  absents  \n",
       "0     199          51       10  \n",
       "1      19          11      431  \n",
       "2       7           7      431  \n",
       "3      34           7      432  \n",
       "4      97           3      416  \n",
       "5     103           2      405  \n",
       "6     148          22      245  \n",
       "7     185          25      308  \n",
       "8     174          32      294  \n",
       "9     180          41      292  "
      ]
     },
     "execution_count": 18,
     "metadata": {},
     "output_type": "execute_result"
    }
   ],
   "source": [
    "df.head(10)"
   ]
  },
  {
   "cell_type": "markdown",
   "metadata": {},
   "source": [
    "Rajoutons le jour de la semaine à nos données :"
   ]
  },
  {
   "cell_type": "code",
   "execution_count": 33,
   "metadata": {
    "collapsed": true
   },
   "outputs": [],
   "source": [
    "day_mapping = {0: '01-lundi', 1: '02-mardi', 2: '03-mercredi', \n",
    "               3:'04-jeudi', 4: '05-vendredi', 5: '06-samedi', 6: '07-dimanche'}"
   ]
  },
  {
   "cell_type": "code",
   "execution_count": 34,
   "metadata": {
    "collapsed": false
   },
   "outputs": [],
   "source": [
    "df['jour'] = [day_mapping[date.dayofweek] for date in df.date]"
   ]
  },
  {
   "cell_type": "code",
   "execution_count": 35,
   "metadata": {
    "collapsed": false
   },
   "outputs": [
    {
     "data": {
      "text/html": [
       "<div>\n",
       "<table border=\"1\" class=\"dataframe\">\n",
       "  <thead>\n",
       "    <tr style=\"text-align: right;\">\n",
       "      <th></th>\n",
       "      <th>numero</th>\n",
       "      <th>date</th>\n",
       "      <th>objet</th>\n",
       "      <th>pour</th>\n",
       "      <th>contre</th>\n",
       "      <th>abstention</th>\n",
       "      <th>absents</th>\n",
       "      <th>jour</th>\n",
       "    </tr>\n",
       "  </thead>\n",
       "  <tbody>\n",
       "    <tr>\n",
       "      <th>0</th>\n",
       "      <td>1237*</td>\n",
       "      <td>2016-02-10</td>\n",
       "      <td>l'ensemble du projet de loi constitutionnelle ...</td>\n",
       "      <td>317</td>\n",
       "      <td>199</td>\n",
       "      <td>51</td>\n",
       "      <td>10</td>\n",
       "      <td>03-mercredi</td>\n",
       "    </tr>\n",
       "    <tr>\n",
       "      <th>1</th>\n",
       "      <td>1236</td>\n",
       "      <td>2016-02-09</td>\n",
       "      <td>l'ensemble de l'article premier du projet de l...</td>\n",
       "      <td>116</td>\n",
       "      <td>19</td>\n",
       "      <td>11</td>\n",
       "      <td>431</td>\n",
       "      <td>02-mardi</td>\n",
       "    </tr>\n",
       "    <tr>\n",
       "      <th>2</th>\n",
       "      <td>1235</td>\n",
       "      <td>2016-02-09</td>\n",
       "      <td>l'amendement n° 1 du Gouvernement à l'article ...</td>\n",
       "      <td>132</td>\n",
       "      <td>7</td>\n",
       "      <td>7</td>\n",
       "      <td>431</td>\n",
       "      <td>02-mardi</td>\n",
       "    </tr>\n",
       "    <tr>\n",
       "      <th>3</th>\n",
       "      <td>1234</td>\n",
       "      <td>2016-02-09</td>\n",
       "      <td>l'amendement n° 2 du Gouvernement à l'article ...</td>\n",
       "      <td>104</td>\n",
       "      <td>34</td>\n",
       "      <td>7</td>\n",
       "      <td>432</td>\n",
       "      <td>02-mardi</td>\n",
       "    </tr>\n",
       "    <tr>\n",
       "      <th>4</th>\n",
       "      <td>1233</td>\n",
       "      <td>2016-02-09</td>\n",
       "      <td>l'amendement n° 234 de M. Hamon après l'articl...</td>\n",
       "      <td>61</td>\n",
       "      <td>97</td>\n",
       "      <td>3</td>\n",
       "      <td>416</td>\n",
       "      <td>02-mardi</td>\n",
       "    </tr>\n",
       "    <tr>\n",
       "      <th>5</th>\n",
       "      <td>1232</td>\n",
       "      <td>2016-02-09</td>\n",
       "      <td>l'amendement n° 168 de M. Hamon après l'articl...</td>\n",
       "      <td>67</td>\n",
       "      <td>103</td>\n",
       "      <td>2</td>\n",
       "      <td>405</td>\n",
       "      <td>02-mardi</td>\n",
       "    </tr>\n",
       "    <tr>\n",
       "      <th>6</th>\n",
       "      <td>1231</td>\n",
       "      <td>2016-02-09</td>\n",
       "      <td>l'article 2 du projet de loi constitutionnelle...</td>\n",
       "      <td>162</td>\n",
       "      <td>148</td>\n",
       "      <td>22</td>\n",
       "      <td>245</td>\n",
       "      <td>02-mardi</td>\n",
       "    </tr>\n",
       "    <tr>\n",
       "      <th>7</th>\n",
       "      <td>1230</td>\n",
       "      <td>2016-02-09</td>\n",
       "      <td>le sous-amendement n° 271 de Mme Duflot et les...</td>\n",
       "      <td>59</td>\n",
       "      <td>185</td>\n",
       "      <td>25</td>\n",
       "      <td>308</td>\n",
       "      <td>02-mardi</td>\n",
       "    </tr>\n",
       "    <tr>\n",
       "      <th>8</th>\n",
       "      <td>1229</td>\n",
       "      <td>2016-02-09</td>\n",
       "      <td>le sous-amendement n° 250 de M. Goldberg et le...</td>\n",
       "      <td>77</td>\n",
       "      <td>174</td>\n",
       "      <td>32</td>\n",
       "      <td>294</td>\n",
       "      <td>02-mardi</td>\n",
       "    </tr>\n",
       "    <tr>\n",
       "      <th>9</th>\n",
       "      <td>1228</td>\n",
       "      <td>2016-02-09</td>\n",
       "      <td>l'amendement n° 50 de M. Schwartzenberg à l'ar...</td>\n",
       "      <td>64</td>\n",
       "      <td>180</td>\n",
       "      <td>41</td>\n",
       "      <td>292</td>\n",
       "      <td>02-mardi</td>\n",
       "    </tr>\n",
       "  </tbody>\n",
       "</table>\n",
       "</div>"
      ],
      "text/plain": [
       "  numero       date                                              objet  pour  \\\n",
       "0  1237* 2016-02-10  l'ensemble du projet de loi constitutionnelle ...   317   \n",
       "1   1236 2016-02-09  l'ensemble de l'article premier du projet de l...   116   \n",
       "2   1235 2016-02-09  l'amendement n° 1 du Gouvernement à l'article ...   132   \n",
       "3   1234 2016-02-09  l'amendement n° 2 du Gouvernement à l'article ...   104   \n",
       "4   1233 2016-02-09  l'amendement n° 234 de M. Hamon après l'articl...    61   \n",
       "5   1232 2016-02-09  l'amendement n° 168 de M. Hamon après l'articl...    67   \n",
       "6   1231 2016-02-09  l'article 2 du projet de loi constitutionnelle...   162   \n",
       "7   1230 2016-02-09  le sous-amendement n° 271 de Mme Duflot et les...    59   \n",
       "8   1229 2016-02-09  le sous-amendement n° 250 de M. Goldberg et le...    77   \n",
       "9   1228 2016-02-09  l'amendement n° 50 de M. Schwartzenberg à l'ar...    64   \n",
       "\n",
       "   contre  abstention  absents         jour  \n",
       "0     199          51       10  03-mercredi  \n",
       "1      19          11      431     02-mardi  \n",
       "2       7           7      431     02-mardi  \n",
       "3      34           7      432     02-mardi  \n",
       "4      97           3      416     02-mardi  \n",
       "5     103           2      405     02-mardi  \n",
       "6     148          22      245     02-mardi  \n",
       "7     185          25      308     02-mardi  \n",
       "8     174          32      294     02-mardi  \n",
       "9     180          41      292     02-mardi  "
      ]
     },
     "execution_count": 35,
     "metadata": {},
     "output_type": "execute_result"
    }
   ],
   "source": [
    "df.head(10)"
   ]
  },
  {
   "cell_type": "markdown",
   "metadata": {},
   "source": [
    "On peut donc désormais calculer des statistiques sur la base de cette information. Par exemple, regarder combien de scrutins ont eu lieu chaque jour de la semaine."
   ]
  },
  {
   "cell_type": "code",
   "execution_count": 36,
   "metadata": {
    "collapsed": false
   },
   "outputs": [
    {
     "data": {
      "text/plain": [
       "jour\n",
       "01-lundi       10\n",
       "02-mardi       38\n",
       "03-mercredi    21\n",
       "04-jeudi       21\n",
       "05-vendredi    10\n",
       "dtype: int64"
      ]
     },
     "execution_count": 36,
     "metadata": {},
     "output_type": "execute_result"
    }
   ],
   "source": [
    "df.groupby('jour').size()"
   ]
  },
  {
   "cell_type": "markdown",
   "metadata": {},
   "source": [
    "On ne voit pas de scrutins le samedi ni le dimanche. Cela semble rassurant. Regardons la moyenne des absents sur ces jours :"
   ]
  },
  {
   "cell_type": "code",
   "execution_count": 56,
   "metadata": {
    "collapsed": false
   },
   "outputs": [
    {
     "data": {
      "text/plain": [
       "<matplotlib.text.Text at 0x111b8b828>"
      ]
     },
     "execution_count": 56,
     "metadata": {},
     "output_type": "execute_result"
    },
    {
     "data": {
      "image/png": "[encoded data removed]",
      "text/plain": [
       "<matplotlib.figure.Figure at 0x111677eb8>"
      ]
     },
     "metadata": {},
     "output_type": "display_data"
    }
   ],
   "source": [
    "df.groupby('jour').mean()['absents'].plot(style='-o')\n",
    "plt.title(\"moyenne du nombre d'absents par jour de la semaine\")"
   ]
  },
  {
   "cell_type": "markdown",
   "metadata": {},
   "source": [
    "On voit que le pic d'absents est le vendredi. Calculons le pourcentage d'absentéisme, c'est-à-dire divisons le nombre précédent par 577 députés."
   ]
  },
  {
   "cell_type": "code",
   "execution_count": 53,
   "metadata": {
    "collapsed": false
   },
   "outputs": [
    {
     "data": {
      "text/plain": [
       "(0, 100)"
      ]
     },
     "execution_count": 53,
     "metadata": {},
     "output_type": "execute_result"
    },
    {
     "data": {
      "image/png": "[encoded data removed]",
      "text/plain": [
       "<matplotlib.figure.Figure at 0x112bf5668>"
      ]
     },
     "metadata": {},
     "output_type": "display_data"
    }
   ],
   "source": [
    "(df.groupby('jour').mean()['absents'] / 577 * 100).plot(style='-o')\n",
    "plt.title(\"moyenne du nombre d'absents par jour de la semaine\\n(pourcentage de l'assemblée complète)\")\n",
    "plt.ylim(0, 100)"
   ]
  },
  {
   "cell_type": "markdown",
   "metadata": {},
   "source": [
    "Dans le graphique précédent, j'ai choisi de mettre l'échelle des ordonnées à 100% afin de montrer à quel point ces chiffres sont loins du 0% d'absents en moyenne."
   ]
  },
  {
   "cell_type": "markdown",
   "metadata": {},
   "source": [
    "Nous n'avons travaillé ici que sur des données partielles. Remontons dans le temps et téléchargeons toutes les données disponibles pour faire le travail ici présent."
   ]
  },
  {
   "cell_type": "markdown",
   "metadata": {},
   "source": [
    "# Récupération de tous les scrutins depuis 2012 "
   ]
  },
  {
   "cell_type": "markdown",
   "metadata": {},
   "source": [
    "Pour faire ce travail, une simple boucle sur l'offset des scrutins permet de récupérer les données :"
   ]
  },
  {
   "cell_type": "code",
   "execution_count": 79,
   "metadata": {
    "collapsed": false
   },
   "outputs": [
    {
     "name": "stdout",
     "output_type": "stream",
     "text": [
      "http://www2.assemblee-nationale.fr/scrutins/liste/(offset)/0/(legislature)/14/(type)/TOUS/(idDossier)/TOUS\n",
      "http://www2.assemblee-nationale.fr/scrutins/liste/(offset)/100/(legislature)/14/(type)/TOUS/(idDossier)/TOUS\n",
      "http://www2.assemblee-nationale.fr/scrutins/liste/(offset)/200/(legislature)/14/(type)/TOUS/(idDossier)/TOUS\n",
      "http://www2.assemblee-nationale.fr/scrutins/liste/(offset)/300/(legislature)/14/(type)/TOUS/(idDossier)/TOUS\n",
      "http://www2.assemblee-nationale.fr/scrutins/liste/(offset)/400/(legislature)/14/(type)/TOUS/(idDossier)/TOUS\n",
      "http://www2.assemblee-nationale.fr/scrutins/liste/(offset)/500/(legislature)/14/(type)/TOUS/(idDossier)/TOUS\n",
      "http://www2.assemblee-nationale.fr/scrutins/liste/(offset)/600/(legislature)/14/(type)/TOUS/(idDossier)/TOUS\n",
      "http://www2.assemblee-nationale.fr/scrutins/liste/(offset)/700/(legislature)/14/(type)/TOUS/(idDossier)/TOUS\n",
      "http://www2.assemblee-nationale.fr/scrutins/liste/(offset)/800/(legislature)/14/(type)/TOUS/(idDossier)/TOUS\n",
      "http://www2.assemblee-nationale.fr/scrutins/liste/(offset)/900/(legislature)/14/(type)/TOUS/(idDossier)/TOUS\n",
      "http://www2.assemblee-nationale.fr/scrutins/liste/(offset)/1000/(legislature)/14/(type)/TOUS/(idDossier)/TOUS\n",
      "http://www2.assemblee-nationale.fr/scrutins/liste/(offset)/1100/(legislature)/14/(type)/TOUS/(idDossier)/TOUS\n",
      "http://www2.assemblee-nationale.fr/scrutins/liste/(offset)/1200/(legislature)/14/(type)/TOUS/(idDossier)/TOUS\n"
     ]
    }
   ],
   "source": [
    "data = []\n",
    "for offset in range(0, 1300, 100):\n",
    "    url = \"http://www2.assemblee-nationale.fr/scrutins/liste/(offset)/{}/(legislature)/14/(type)/TOUS/(idDossier)/TOUS\".format(offset)\n",
    "    print(url)\n",
    "    r = requests.get(url)\n",
    "    soup = BeautifulSoup(r.text, 'html.parser')\n",
    "    elems = soup.select('tbody tr')\n",
    "    data += [extract_information(line) for line in elems]"
   ]
  },
  {
   "cell_type": "code",
   "execution_count": 80,
   "metadata": {
    "collapsed": false
   },
   "outputs": [
    {
     "data": {
      "text/plain": [
       "1237"
      ]
     },
     "execution_count": 80,
     "metadata": {},
     "output_type": "execute_result"
    }
   ],
   "source": [
    "len(data)"
   ]
  },
  {
   "cell_type": "markdown",
   "metadata": {},
   "source": [
    "On a désormais accès à 1237 scrutins depuis juillet 2012, date de la dernière élection législative."
   ]
  },
  {
   "cell_type": "markdown",
   "metadata": {},
   "source": [
    "Construisons le tableau des données détaillées : "
   ]
  },
  {
   "cell_type": "code",
   "execution_count": 158,
   "metadata": {
    "collapsed": true
   },
   "outputs": [],
   "source": [
    "df = pd.DataFrame(data, columns=('numero', 'date', 'objet', 'pour', 'contre', 'abstention'))"
   ]
  },
  {
   "cell_type": "code",
   "execution_count": 159,
   "metadata": {
    "collapsed": true
   },
   "outputs": [],
   "source": [
    "df['presents'] = df['pour'] + df['contre'] + df['abstention']\n",
    "df['absents'] = 577 - df.presents\n",
    "df.date = pd.to_datetime(df.date, dayfirst=True)\n",
    "df['jour'] = [day_mapping[date.dayofweek] for date in df.date]"
   ]
  },
  {
   "cell_type": "markdown",
   "metadata": {},
   "source": [
    "Un aperçu de la fin du tableau :"
   ]
  },
  {
   "cell_type": "code",
   "execution_count": 160,
   "metadata": {
    "collapsed": false
   },
   "outputs": [
    {
     "data": {
      "text/html": [
       "<div>\n",
       "<table border=\"1\" class=\"dataframe\">\n",
       "  <thead>\n",
       "    <tr style=\"text-align: right;\">\n",
       "      <th></th>\n",
       "      <th>numero</th>\n",
       "      <th>date</th>\n",
       "      <th>objet</th>\n",
       "      <th>pour</th>\n",
       "      <th>contre</th>\n",
       "      <th>abstention</th>\n",
       "      <th>presents</th>\n",
       "      <th>absents</th>\n",
       "      <th>jour</th>\n",
       "    </tr>\n",
       "  </thead>\n",
       "  <tbody>\n",
       "    <tr>\n",
       "      <th>1227</th>\n",
       "      <td>10</td>\n",
       "      <td>2012-07-19</td>\n",
       "      <td>l'article 27 du projet de loi de finances rect...</td>\n",
       "      <td>106</td>\n",
       "      <td>52</td>\n",
       "      <td>0</td>\n",
       "      <td>158</td>\n",
       "      <td>419</td>\n",
       "      <td>04-jeudi</td>\n",
       "    </tr>\n",
       "    <tr>\n",
       "      <th>1228</th>\n",
       "      <td>9</td>\n",
       "      <td>2012-07-19</td>\n",
       "      <td>l'amendement n° 477 rect  présenté par M. de C...</td>\n",
       "      <td>24</td>\n",
       "      <td>108</td>\n",
       "      <td>13</td>\n",
       "      <td>145</td>\n",
       "      <td>432</td>\n",
       "      <td>04-jeudi</td>\n",
       "    </tr>\n",
       "    <tr>\n",
       "      <th>1229</th>\n",
       "      <td>8</td>\n",
       "      <td>2012-07-19</td>\n",
       "      <td>le sous-amendement n° 547 présenté par  M. Bor...</td>\n",
       "      <td>29</td>\n",
       "      <td>119</td>\n",
       "      <td>5</td>\n",
       "      <td>153</td>\n",
       "      <td>424</td>\n",
       "      <td>04-jeudi</td>\n",
       "    </tr>\n",
       "    <tr>\n",
       "      <th>1230</th>\n",
       "      <td>7</td>\n",
       "      <td>2012-07-19</td>\n",
       "      <td>sur l'article 4 du projet de loi de finances r...</td>\n",
       "      <td>44</td>\n",
       "      <td>17</td>\n",
       "      <td>3</td>\n",
       "      <td>64</td>\n",
       "      <td>513</td>\n",
       "      <td>04-jeudi</td>\n",
       "    </tr>\n",
       "    <tr>\n",
       "      <th>1231</th>\n",
       "      <td>6</td>\n",
       "      <td>2012-07-19</td>\n",
       "      <td>L'amendement   n° 467  de M. de Courson à l'ar...</td>\n",
       "      <td>24</td>\n",
       "      <td>90</td>\n",
       "      <td>0</td>\n",
       "      <td>114</td>\n",
       "      <td>463</td>\n",
       "      <td>04-jeudi</td>\n",
       "    </tr>\n",
       "    <tr>\n",
       "      <th>1232</th>\n",
       "      <td>5</td>\n",
       "      <td>2012-07-18</td>\n",
       "      <td>l'article 2 du projet de loi de finances recti...</td>\n",
       "      <td>89</td>\n",
       "      <td>64</td>\n",
       "      <td>0</td>\n",
       "      <td>153</td>\n",
       "      <td>424</td>\n",
       "      <td>03-mercredi</td>\n",
       "    </tr>\n",
       "    <tr>\n",
       "      <th>1233</th>\n",
       "      <td>4</td>\n",
       "      <td>2012-07-18</td>\n",
       "      <td>les amendements de suppression de l'alinéa 2 à...</td>\n",
       "      <td>88</td>\n",
       "      <td>177</td>\n",
       "      <td>0</td>\n",
       "      <td>265</td>\n",
       "      <td>312</td>\n",
       "      <td>03-mercredi</td>\n",
       "    </tr>\n",
       "    <tr>\n",
       "      <th>1234</th>\n",
       "      <td>3</td>\n",
       "      <td>2012-07-18</td>\n",
       "      <td>les amendements de suppression de l'article 2 ...</td>\n",
       "      <td>81</td>\n",
       "      <td>178</td>\n",
       "      <td>1</td>\n",
       "      <td>260</td>\n",
       "      <td>317</td>\n",
       "      <td>03-mercredi</td>\n",
       "    </tr>\n",
       "    <tr>\n",
       "      <th>1235</th>\n",
       "      <td>2</td>\n",
       "      <td>2012-07-17</td>\n",
       "      <td>l'article 1er du projet de loi de finances rec...</td>\n",
       "      <td>61</td>\n",
       "      <td>48</td>\n",
       "      <td>1</td>\n",
       "      <td>110</td>\n",
       "      <td>467</td>\n",
       "      <td>02-mardi</td>\n",
       "    </tr>\n",
       "    <tr>\n",
       "      <th>1236</th>\n",
       "      <td>1</td>\n",
       "      <td>2012-07-03</td>\n",
       "      <td>la déclaration de politique générale du gouver...</td>\n",
       "      <td>302</td>\n",
       "      <td>225</td>\n",
       "      <td>17</td>\n",
       "      <td>544</td>\n",
       "      <td>33</td>\n",
       "      <td>02-mardi</td>\n",
       "    </tr>\n",
       "  </tbody>\n",
       "</table>\n",
       "</div>"
      ],
      "text/plain": [
       "     numero       date                                              objet  \\\n",
       "1227     10 2012-07-19  l'article 27 du projet de loi de finances rect...   \n",
       "1228      9 2012-07-19  l'amendement n° 477 rect  présenté par M. de C...   \n",
       "1229      8 2012-07-19  le sous-amendement n° 547 présenté par  M. Bor...   \n",
       "1230      7 2012-07-19  sur l'article 4 du projet de loi de finances r...   \n",
       "1231      6 2012-07-19  L'amendement   n° 467  de M. de Courson à l'ar...   \n",
       "1232      5 2012-07-18  l'article 2 du projet de loi de finances recti...   \n",
       "1233      4 2012-07-18  les amendements de suppression de l'alinéa 2 à...   \n",
       "1234      3 2012-07-18  les amendements de suppression de l'article 2 ...   \n",
       "1235      2 2012-07-17  l'article 1er du projet de loi de finances rec...   \n",
       "1236      1 2012-07-03  la déclaration de politique générale du gouver...   \n",
       "\n",
       "      pour  contre  abstention  presents  absents         jour  \n",
       "1227   106      52           0       158      419     04-jeudi  \n",
       "1228    24     108          13       145      432     04-jeudi  \n",
       "1229    29     119           5       153      424     04-jeudi  \n",
       "1230    44      17           3        64      513     04-jeudi  \n",
       "1231    24      90           0       114      463     04-jeudi  \n",
       "1232    89      64           0       153      424  03-mercredi  \n",
       "1233    88     177           0       265      312  03-mercredi  \n",
       "1234    81     178           1       260      317  03-mercredi  \n",
       "1235    61      48           1       110      467     02-mardi  \n",
       "1236   302     225          17       544       33     02-mardi  "
      ]
     },
     "execution_count": 160,
     "metadata": {},
     "output_type": "execute_result"
    }
   ],
   "source": [
    "df.tail(10)"
   ]
  },
  {
   "cell_type": "markdown",
   "metadata": {},
   "source": [
    "Traçons l'histogramme du nombre de présents :"
   ]
  },
  {
   "cell_type": "code",
   "execution_count": 163,
   "metadata": {
    "collapsed": false
   },
   "outputs": [
    {
     "data": {
      "text/plain": [
       "<matplotlib.text.Text at 0x11d403668>"
      ]
     },
     "execution_count": 163,
     "metadata": {},
     "output_type": "execute_result"
    },
    {
     "data": {
      "image/png": "[encoded data removed]",
      "text/plain": [
       "<matplotlib.figure.Figure at 0x11d3dbc50>"
      ]
     },
     "metadata": {},
     "output_type": "display_data"
    }
   ],
   "source": [
    "df.presents.plot(kind='hist', bins=20)\n",
    "plt.title(\"histogramme du nombre de présents\")\n",
    "plt.xlabel(\"nombre de députés\")\n",
    "plt.ylabel(\"nombre de scrutins\")"
   ]
  },
  {
   "cell_type": "markdown",
   "metadata": {},
   "source": [
    "On voit que les députés sont absents, en moyenne, lors des scrutins avec une masse de scrutins avec faible présence, à gauche, et quelques scrutins avec beaucoup de députés.\n",
    "\n",
    "Un histogramme cumulé permet d'interpréter plus facilement ces données :"
   ]
  },
  {
   "cell_type": "code",
   "execution_count": 164,
   "metadata": {
    "collapsed": false
   },
   "outputs": [
    {
     "data": {
      "text/plain": [
       "<matplotlib.text.Text at 0x11d5be710>"
      ]
     },
     "execution_count": 164,
     "metadata": {},
     "output_type": "execute_result"
    },
    {
     "data": {
      "image/png": "[encoded data removed]",
      "text/plain": [
       "<matplotlib.figure.Figure at 0x11d4254e0>"
      ]
     },
     "metadata": {},
     "output_type": "display_data"
    }
   ],
   "source": [
    "df.presents.plot(kind='hist', cumulative=True, bins=100)\n",
    "plt.title(\"histogramme cumulé du nombre de présents\")"
   ]
  },
  {
   "cell_type": "markdown",
   "metadata": {},
   "source": [
    "Ce graphique permet de dire les choses suivants :\n",
    "\n",
    "- il y a eu plus de 800 scrutins avec moins de 100 députés présents, depuis juillet 2012\n",
    "- il y a eu plus de 1000 scrutins avec moins de 200 députés présents, depuis juillet 2012\n",
    "- il y a une centainen de scrutins avec plus de 500 députés présents, depuis juillet 2012"
   ]
  },
  {
   "cell_type": "code",
   "execution_count": 165,
   "metadata": {
    "collapsed": false
   },
   "outputs": [
    {
     "data": {
      "text/plain": [
       "134.749393694422"
      ]
     },
     "execution_count": 165,
     "metadata": {},
     "output_type": "execute_result"
    }
   ],
   "source": [
    "df.presents.mean()"
   ]
  },
  {
   "cell_type": "markdown",
   "metadata": {},
   "source": [
    "En moyenne, sur les scrutins depuis juillet 2012, il y a avait 135 députés présents. Soit moins d'un quart de l'assemblée nationale."
   ]
  },
  {
   "cell_type": "markdown",
   "metadata": {},
   "source": [
    "On peut également répondre à la question : \"quand les scrutins ont-ils lieu ?\"."
   ]
  },
  {
   "cell_type": "code",
   "execution_count": 167,
   "metadata": {
    "collapsed": false
   },
   "outputs": [
    {
     "data": {
      "text/plain": [
       "jour\n",
       "01-lundi       181\n",
       "02-mardi       280\n",
       "03-mercredi    233\n",
       "04-jeudi       295\n",
       "05-vendredi    174\n",
       "06-samedi       41\n",
       "07-dimanche     33\n",
       "dtype: int64"
      ]
     },
     "execution_count": 167,
     "metadata": {},
     "output_type": "execute_result"
    }
   ],
   "source": [
    "df.groupby('jour').size()"
   ]
  },
  {
   "cell_type": "code",
   "execution_count": 168,
   "metadata": {
    "collapsed": false
   },
   "outputs": [
    {
     "data": {
      "text/plain": [
       "<matplotlib.axes._subplots.AxesSubplot at 0x11d935e80>"
      ]
     },
     "execution_count": 168,
     "metadata": {},
     "output_type": "execute_result"
    },
    {
     "data": {
      "image/png": "[encoded data removed]",
      "text/plain": [
       "<matplotlib.figure.Figure at 0x11d940c88>"
      ]
     },
     "metadata": {},
     "output_type": "display_data"
    }
   ],
   "source": [
    "df.groupby('jour').size().plot(kind='bar')"
   ]
  },
  {
   "cell_type": "markdown",
   "metadata": {},
   "source": [
    "Rien d'anormal : les scrutins ont lieu surtout les jours de la semaine, rarement le week-end. Pendant la semaine, ils ont lieu surtout le mardi et le jeudi."
   ]
  },
  {
   "cell_type": "markdown",
   "metadata": {},
   "source": [
    "Prochaine question : \"quel jour de la semaine y a-t-il le plus d'absents lors des scrutins ?\"."
   ]
  },
  {
   "cell_type": "code",
   "execution_count": 177,
   "metadata": {
    "collapsed": false
   },
   "outputs": [
    {
     "data": {
      "text/html": [
       "<div>\n",
       "<table border=\"1\" class=\"dataframe\">\n",
       "  <thead>\n",
       "    <tr style=\"text-align: right;\">\n",
       "      <th></th>\n",
       "      <th>absents</th>\n",
       "      <th>presents</th>\n",
       "    </tr>\n",
       "    <tr>\n",
       "      <th>jour</th>\n",
       "      <th></th>\n",
       "      <th></th>\n",
       "    </tr>\n",
       "  </thead>\n",
       "  <tbody>\n",
       "    <tr>\n",
       "      <th>01-lundi</th>\n",
       "      <td>516.049724</td>\n",
       "      <td>60.950276</td>\n",
       "    </tr>\n",
       "    <tr>\n",
       "      <th>02-mardi</th>\n",
       "      <td>303.350000</td>\n",
       "      <td>273.650000</td>\n",
       "    </tr>\n",
       "    <tr>\n",
       "      <th>03-mercredi</th>\n",
       "      <td>438.141631</td>\n",
       "      <td>138.858369</td>\n",
       "    </tr>\n",
       "    <tr>\n",
       "      <th>04-jeudi</th>\n",
       "      <td>504.688136</td>\n",
       "      <td>72.311864</td>\n",
       "    </tr>\n",
       "    <tr>\n",
       "      <th>05-vendredi</th>\n",
       "      <td>517.235632</td>\n",
       "      <td>59.764368</td>\n",
       "    </tr>\n",
       "    <tr>\n",
       "      <th>06-samedi</th>\n",
       "      <td>394.829268</td>\n",
       "      <td>182.170732</td>\n",
       "    </tr>\n",
       "    <tr>\n",
       "      <th>07-dimanche</th>\n",
       "      <td>350.424242</td>\n",
       "      <td>226.575758</td>\n",
       "    </tr>\n",
       "  </tbody>\n",
       "</table>\n",
       "</div>"
      ],
      "text/plain": [
       "                absents    presents\n",
       "jour                               \n",
       "01-lundi     516.049724   60.950276\n",
       "02-mardi     303.350000  273.650000\n",
       "03-mercredi  438.141631  138.858369\n",
       "04-jeudi     504.688136   72.311864\n",
       "05-vendredi  517.235632   59.764368\n",
       "06-samedi    394.829268  182.170732\n",
       "07-dimanche  350.424242  226.575758"
      ]
     },
     "execution_count": 177,
     "metadata": {},
     "output_type": "execute_result"
    }
   ],
   "source": [
    "df.groupby('jour').mean()[['absents', 'presents']]"
   ]
  },
  {
   "cell_type": "code",
   "execution_count": 181,
   "metadata": {
    "collapsed": false
   },
   "outputs": [
    {
     "data": {
      "text/plain": [
       "(0, 577)"
      ]
     },
     "execution_count": 181,
     "metadata": {},
     "output_type": "execute_result"
    },
    {
     "data": {
      "image/png": "[encoded data removed]",
      "text/plain": [
       "<matplotlib.figure.Figure at 0x11e15a208>"
      ]
     },
     "metadata": {},
     "output_type": "display_data"
    }
   ],
   "source": [
    "plt.subplots(figsize=(10, 5))\n",
    "ax = plt.gca()\n",
    "df.groupby('jour').mean()[['absents', 'presents']].plot(ax=ax, style='-o', legend=True)\n",
    "plt.title(\"moyenne du nombre de députés présents et d'absents par jour de la semaine\")\n",
    "plt.ylim(0, 577)"
   ]
  },
  {
   "cell_type": "markdown",
   "metadata": {},
   "source": [
    "On voit donc bien que les députés sont surtout absents lors des scrutins. En effet, en moyenne, on ne remplit jamais l'hémicycle.\n",
    "\n",
    "On peut également représenter la courbe d'absentéisme en pourcentage :"
   ]
  },
  {
   "cell_type": "code",
   "execution_count": 184,
   "metadata": {
    "collapsed": false
   },
   "outputs": [
    {
     "data": {
      "text/plain": [
       "<matplotlib.text.Text at 0x11e77f7f0>"
      ]
     },
     "execution_count": 184,
     "metadata": {},
     "output_type": "execute_result"
    },
    {
     "data": {
      "image/png": "[encoded data removed]",
      "text/plain": [
       "<matplotlib.figure.Figure at 0x11e788c18>"
      ]
     },
     "metadata": {},
     "output_type": "display_data"
    }
   ],
   "source": [
    "(df.groupby('jour').mean()['absents'] / 577 * 100).plot(kind='bar', style='-o')\n",
    "plt.title(\"moyenne du nombre d'absents par jour de la semaine\\n(pourcentage de l'assemblée complète)\")\n",
    "plt.ylim(0, 100)\n",
    "plt.ylabel(\"pourcentage de députés absents\")\n",
    "plt.xlabel(\"jour de la semaine\")"
   ]
  },
  {
   "cell_type": "markdown",
   "metadata": {},
   "source": [
    "Nous avons donc répondu à la question principale qui se posait à nous : pour un scrutin moyen, combien de députés présents dans l'assemblée nationale. Penchons nous maintenant sur d'autres visualisations intéressantes."
   ]
  },
  {
   "cell_type": "markdown",
   "metadata": {},
   "source": [
    "# Quelques visualisations intéressantes "
   ]
  },
  {
   "cell_type": "code",
   "execution_count": 200,
   "metadata": {
    "collapsed": false
   },
   "outputs": [
    {
     "data": {
      "text/plain": [
       "<matplotlib.legend.Legend at 0x121a004a8>"
      ]
     },
     "execution_count": 200,
     "metadata": {},
     "output_type": "execute_result"
    },
    {
     "data": {
      "image/png": "[encoded data removed]",
      "text/plain": [
       "<matplotlib.figure.Figure at 0x1218055f8>"
      ]
     },
     "metadata": {},
     "output_type": "display_data"
    }
   ],
   "source": [
    "fig, ax = plt.subplots(figsize=(10, 7))\n",
    "df.plot(ax=ax, kind='scatter', x='presents', y='pour', color='Red', label='Pour')\n",
    "df.plot(ax=ax, kind='scatter', x='presents', y='contre', color='Blue', label='Contre')\n",
    "plt.plot([0, 577], [0, 577//2+1], label='majorité')\n",
    "plt.legend(loc='upper left')"
   ]
  },
  {
   "cell_type": "code",
   "execution_count": 107,
   "metadata": {
    "collapsed": false
   },
   "outputs": [
    {
     "data": {
      "text/plain": [
       "Index(['numero', 'date', 'objet', 'pour', 'contre', 'abstention', 'absents',\n",
       "       'jour'],\n",
       "      dtype='object')"
      ]
     },
     "execution_count": 107,
     "metadata": {},
     "output_type": "execute_result"
    }
   ],
   "source": [
    "df.columns"
   ]
  },
  {
   "cell_type": "code",
   "execution_count": 111,
   "metadata": {
    "collapsed": false
   },
   "outputs": [
    {
     "data": {
      "text/html": [
       "<div>\n",
       "<table border=\"1\" class=\"dataframe\">\n",
       "  <thead>\n",
       "    <tr style=\"text-align: right;\">\n",
       "      <th></th>\n",
       "      <th>numero</th>\n",
       "      <th>date</th>\n",
       "      <th>objet</th>\n",
       "      <th>pour</th>\n",
       "      <th>contre</th>\n",
       "      <th>abstention</th>\n",
       "      <th>absents</th>\n",
       "      <th>jour</th>\n",
       "    </tr>\n",
       "  </thead>\n",
       "  <tbody>\n",
       "    <tr>\n",
       "      <th>282</th>\n",
       "      <td>955*</td>\n",
       "      <td>2014-11-18</td>\n",
       "      <td>l'ensemble du projet de loi de finances pour 2...</td>\n",
       "      <td>266</td>\n",
       "      <td>247</td>\n",
       "      <td>56</td>\n",
       "      <td>8</td>\n",
       "      <td>02-mardi</td>\n",
       "    </tr>\n",
       "    <tr>\n",
       "      <th>452</th>\n",
       "      <td>785</td>\n",
       "      <td>2014-04-08</td>\n",
       "      <td>la déclaration de politique générale du Gouver...</td>\n",
       "      <td>306</td>\n",
       "      <td>239</td>\n",
       "      <td>26</td>\n",
       "      <td>6</td>\n",
       "      <td>02-mardi</td>\n",
       "    </tr>\n",
       "    <tr>\n",
       "      <th>539</th>\n",
       "      <td>698*</td>\n",
       "      <td>2013-11-19</td>\n",
       "      <td>l'ensemble du projet de loi de finances pour 2...</td>\n",
       "      <td>320</td>\n",
       "      <td>242</td>\n",
       "      <td>6</td>\n",
       "      <td>9</td>\n",
       "      <td>02-mardi</td>\n",
       "    </tr>\n",
       "    <tr>\n",
       "      <th>559</th>\n",
       "      <td>678*</td>\n",
       "      <td>2013-10-29</td>\n",
       "      <td>l'ensemble du projet de loi de financement de ...</td>\n",
       "      <td>320</td>\n",
       "      <td>243</td>\n",
       "      <td>5</td>\n",
       "      <td>9</td>\n",
       "      <td>02-mardi</td>\n",
       "    </tr>\n",
       "    <tr>\n",
       "      <th>590</th>\n",
       "      <td>647*</td>\n",
       "      <td>2013-10-15</td>\n",
       "      <td>l'ensemble du projet de loi garantissant l'ave...</td>\n",
       "      <td>270</td>\n",
       "      <td>249</td>\n",
       "      <td>49</td>\n",
       "      <td>9</td>\n",
       "      <td>02-mardi</td>\n",
       "    </tr>\n",
       "    <tr>\n",
       "      <th>978</th>\n",
       "      <td>259*</td>\n",
       "      <td>2013-02-12</td>\n",
       "      <td>l'ensemble du projet de loi ouvrant le mariage...</td>\n",
       "      <td>329</td>\n",
       "      <td>229</td>\n",
       "      <td>10</td>\n",
       "      <td>9</td>\n",
       "      <td>02-mardi</td>\n",
       "    </tr>\n",
       "    <tr>\n",
       "      <th>1207</th>\n",
       "      <td>30*</td>\n",
       "      <td>2012-10-09</td>\n",
       "      <td>l'ensemble du projet de loi autorisant la rati...</td>\n",
       "      <td>477</td>\n",
       "      <td>70</td>\n",
       "      <td>21</td>\n",
       "      <td>9</td>\n",
       "      <td>02-mardi</td>\n",
       "    </tr>\n",
       "  </tbody>\n",
       "</table>\n",
       "</div>"
      ],
      "text/plain": [
       "     numero       date                                              objet  \\\n",
       "282    955* 2014-11-18  l'ensemble du projet de loi de finances pour 2...   \n",
       "452     785 2014-04-08  la déclaration de politique générale du Gouver...   \n",
       "539    698* 2013-11-19  l'ensemble du projet de loi de finances pour 2...   \n",
       "559    678* 2013-10-29  l'ensemble du projet de loi de financement de ...   \n",
       "590    647* 2013-10-15  l'ensemble du projet de loi garantissant l'ave...   \n",
       "978    259* 2013-02-12  l'ensemble du projet de loi ouvrant le mariage...   \n",
       "1207    30* 2012-10-09  l'ensemble du projet de loi autorisant la rati...   \n",
       "\n",
       "      pour  contre  abstention  absents      jour  \n",
       "282    266     247          56        8  02-mardi  \n",
       "452    306     239          26        6  02-mardi  \n",
       "539    320     242           6        9  02-mardi  \n",
       "559    320     243           5        9  02-mardi  \n",
       "590    270     249          49        9  02-mardi  \n",
       "978    329     229          10        9  02-mardi  \n",
       "1207   477      70          21        9  02-mardi  "
      ]
     },
     "execution_count": 111,
     "metadata": {},
     "output_type": "execute_result"
    }
   ],
   "source": [
    "df[df.absents < 10]"
   ]
  },
  {
   "cell_type": "code",
   "execution_count": 153,
   "metadata": {
    "collapsed": false
   },
   "outputs": [
    {
     "data": {
      "text/plain": [
       "(-1, 577)"
      ]
     },
     "execution_count": 153,
     "metadata": {},
     "output_type": "execute_result"
    },
    {
     "data": {
      "image/png": "[encoded data removed]",
      "text/plain": [
       "<matplotlib.figure.Figure at 0x11cdab128>"
      ]
     },
     "metadata": {},
     "output_type": "display_data"
    }
   ],
   "source": [
    "ax = plt.gca()\n",
    "df.plot(ax=ax, kind='scatter', x='pour', y='contre')\n",
    "plt.plot([0, 577], [0, 577], label=\"égalité\")\n",
    "plt.legend()\n",
    "plt.xlim(-1, 577)\n",
    "plt.ylim(-1, 577)"
   ]
  },
  {
   "cell_type": "code",
   "execution_count": 154,
   "metadata": {
    "collapsed": false
   },
   "outputs": [
    {
     "data": {
      "text/plain": [
       "(690, 9)"
      ]
     },
     "execution_count": 154,
     "metadata": {},
     "output_type": "execute_result"
    }
   ],
   "source": [
    "df[df.absents > 500].shape"
   ]
  },
  {
   "cell_type": "code",
   "execution_count": 124,
   "metadata": {
    "collapsed": false
   },
   "outputs": [
    {
     "data": {
      "text/plain": [
       "<matplotlib.axes._subplots.AxesSubplot at 0x11c07c9e8>"
      ]
     },
     "execution_count": 124,
     "metadata": {},
     "output_type": "execute_result"
    },
    {
     "data": {
      "image/png": "[encoded data removed]",
      "text/plain": [
       "<matplotlib.figure.Figure at 0x11bffe048>"
      ]
     },
     "metadata": {},
     "output_type": "display_data"
    }
   ],
   "source": [
    "df.groupby('date').count()['numero'].plot(kind='hist', bins=50, cumulative=True)"
   ]
  },
  {
   "cell_type": "code",
   "execution_count": 143,
   "metadata": {
    "collapsed": false
   },
   "outputs": [
    {
     "data": {
      "text/plain": [
       "count          326\n",
       "mean     0.0245399\n",
       "std       0.154956\n",
       "min          False\n",
       "25%              0\n",
       "50%              0\n",
       "75%              0\n",
       "max           True\n",
       "dtype: object"
      ]
     },
     "execution_count": 143,
     "metadata": {},
     "output_type": "execute_result"
    }
   ],
   "source": [
    "(df.groupby('date').size() > 20).describe()"
   ]
  },
  {
   "cell_type": "code",
   "execution_count": 131,
   "metadata": {
    "collapsed": false
   },
   "outputs": [
    {
     "data": {
      "text/html": [
       "<div>\n",
       "<table border=\"1\" class=\"dataframe\">\n",
       "  <thead>\n",
       "    <tr style=\"text-align: right;\">\n",
       "      <th></th>\n",
       "      <th>numero</th>\n",
       "      <th>date</th>\n",
       "      <th>objet</th>\n",
       "      <th>pour</th>\n",
       "      <th>contre</th>\n",
       "      <th>abstention</th>\n",
       "      <th>absents</th>\n",
       "      <th>jour</th>\n",
       "    </tr>\n",
       "  </thead>\n",
       "  <tbody>\n",
       "    <tr>\n",
       "      <th>1</th>\n",
       "      <td>1236</td>\n",
       "      <td>2016-02-09</td>\n",
       "      <td>l'ensemble de l'article premier du projet de l...</td>\n",
       "      <td>116</td>\n",
       "      <td>19</td>\n",
       "      <td>11</td>\n",
       "      <td>431</td>\n",
       "      <td>02-mardi</td>\n",
       "    </tr>\n",
       "    <tr>\n",
       "      <th>2</th>\n",
       "      <td>1235</td>\n",
       "      <td>2016-02-09</td>\n",
       "      <td>l'amendement n° 1 du Gouvernement à l'article ...</td>\n",
       "      <td>132</td>\n",
       "      <td>7</td>\n",
       "      <td>7</td>\n",
       "      <td>431</td>\n",
       "      <td>02-mardi</td>\n",
       "    </tr>\n",
       "    <tr>\n",
       "      <th>3</th>\n",
       "      <td>1234</td>\n",
       "      <td>2016-02-09</td>\n",
       "      <td>l'amendement n° 2 du Gouvernement à l'article ...</td>\n",
       "      <td>104</td>\n",
       "      <td>34</td>\n",
       "      <td>7</td>\n",
       "      <td>432</td>\n",
       "      <td>02-mardi</td>\n",
       "    </tr>\n",
       "    <tr>\n",
       "      <th>4</th>\n",
       "      <td>1233</td>\n",
       "      <td>2016-02-09</td>\n",
       "      <td>l'amendement n° 234 de M. Hamon après l'articl...</td>\n",
       "      <td>61</td>\n",
       "      <td>97</td>\n",
       "      <td>3</td>\n",
       "      <td>416</td>\n",
       "      <td>02-mardi</td>\n",
       "    </tr>\n",
       "    <tr>\n",
       "      <th>5</th>\n",
       "      <td>1232</td>\n",
       "      <td>2016-02-09</td>\n",
       "      <td>l'amendement n° 168 de M. Hamon après l'articl...</td>\n",
       "      <td>67</td>\n",
       "      <td>103</td>\n",
       "      <td>2</td>\n",
       "      <td>405</td>\n",
       "      <td>02-mardi</td>\n",
       "    </tr>\n",
       "    <tr>\n",
       "      <th>6</th>\n",
       "      <td>1231</td>\n",
       "      <td>2016-02-09</td>\n",
       "      <td>l'article 2 du projet de loi constitutionnelle...</td>\n",
       "      <td>162</td>\n",
       "      <td>148</td>\n",
       "      <td>22</td>\n",
       "      <td>245</td>\n",
       "      <td>02-mardi</td>\n",
       "    </tr>\n",
       "    <tr>\n",
       "      <th>7</th>\n",
       "      <td>1230</td>\n",
       "      <td>2016-02-09</td>\n",
       "      <td>le sous-amendement n° 271 de Mme Duflot et les...</td>\n",
       "      <td>59</td>\n",
       "      <td>185</td>\n",
       "      <td>25</td>\n",
       "      <td>308</td>\n",
       "      <td>02-mardi</td>\n",
       "    </tr>\n",
       "    <tr>\n",
       "      <th>8</th>\n",
       "      <td>1229</td>\n",
       "      <td>2016-02-09</td>\n",
       "      <td>le sous-amendement n° 250 de M. Goldberg et le...</td>\n",
       "      <td>77</td>\n",
       "      <td>174</td>\n",
       "      <td>32</td>\n",
       "      <td>294</td>\n",
       "      <td>02-mardi</td>\n",
       "    </tr>\n",
       "    <tr>\n",
       "      <th>9</th>\n",
       "      <td>1228</td>\n",
       "      <td>2016-02-09</td>\n",
       "      <td>l'amendement n° 50 de M. Schwartzenberg à l'ar...</td>\n",
       "      <td>64</td>\n",
       "      <td>180</td>\n",
       "      <td>41</td>\n",
       "      <td>292</td>\n",
       "      <td>02-mardi</td>\n",
       "    </tr>\n",
       "    <tr>\n",
       "      <th>10</th>\n",
       "      <td>1227</td>\n",
       "      <td>2016-02-09</td>\n",
       "      <td>l'amendement n° 207 de M. Faure à l'article 2 ...</td>\n",
       "      <td>108</td>\n",
       "      <td>145</td>\n",
       "      <td>22</td>\n",
       "      <td>302</td>\n",
       "      <td>02-mardi</td>\n",
       "    </tr>\n",
       "    <tr>\n",
       "      <th>11</th>\n",
       "      <td>1226</td>\n",
       "      <td>2016-02-09</td>\n",
       "      <td>les amendements de suppression de l'article 2 ...</td>\n",
       "      <td>118</td>\n",
       "      <td>176</td>\n",
       "      <td>23</td>\n",
       "      <td>260</td>\n",
       "      <td>02-mardi</td>\n",
       "    </tr>\n",
       "  </tbody>\n",
       "</table>\n",
       "</div>"
      ],
      "text/plain": [
       "   numero       date                                              objet  pour  \\\n",
       "1    1236 2016-02-09  l'ensemble de l'article premier du projet de l...   116   \n",
       "2    1235 2016-02-09  l'amendement n° 1 du Gouvernement à l'article ...   132   \n",
       "3    1234 2016-02-09  l'amendement n° 2 du Gouvernement à l'article ...   104   \n",
       "4    1233 2016-02-09  l'amendement n° 234 de M. Hamon après l'articl...    61   \n",
       "5    1232 2016-02-09  l'amendement n° 168 de M. Hamon après l'articl...    67   \n",
       "6    1231 2016-02-09  l'article 2 du projet de loi constitutionnelle...   162   \n",
       "7    1230 2016-02-09  le sous-amendement n° 271 de Mme Duflot et les...    59   \n",
       "8    1229 2016-02-09  le sous-amendement n° 250 de M. Goldberg et le...    77   \n",
       "9    1228 2016-02-09  l'amendement n° 50 de M. Schwartzenberg à l'ar...    64   \n",
       "10   1227 2016-02-09  l'amendement n° 207 de M. Faure à l'article 2 ...   108   \n",
       "11   1226 2016-02-09  les amendements de suppression de l'article 2 ...   118   \n",
       "\n",
       "    contre  abstention  absents      jour  \n",
       "1       19          11      431  02-mardi  \n",
       "2        7           7      431  02-mardi  \n",
       "3       34           7      432  02-mardi  \n",
       "4       97           3      416  02-mardi  \n",
       "5      103           2      405  02-mardi  \n",
       "6      148          22      245  02-mardi  \n",
       "7      185          25      308  02-mardi  \n",
       "8      174          32      294  02-mardi  \n",
       "9      180          41      292  02-mardi  \n",
       "10     145          22      302  02-mardi  \n",
       "11     176          23      260  02-mardi  "
      ]
     },
     "execution_count": 131,
     "metadata": {},
     "output_type": "execute_result"
    }
   ],
   "source": [
    "df[df.date == '2016-02-09']"
   ]
  },
  {
   "cell_type": "code",
   "execution_count": 157,
   "metadata": {
    "collapsed": false
   },
   "outputs": [
    {
     "data": {
      "text/html": [
       "<div>\n",
       "<table border=\"1\" class=\"dataframe\">\n",
       "  <thead>\n",
       "    <tr style=\"text-align: right;\">\n",
       "      <th></th>\n",
       "      <th>numero</th>\n",
       "      <th>date</th>\n",
       "      <th>objet</th>\n",
       "      <th>pour</th>\n",
       "      <th>contre</th>\n",
       "      <th>abstention</th>\n",
       "      <th>absents</th>\n",
       "      <th>jour</th>\n",
       "      <th>presents</th>\n",
       "    </tr>\n",
       "  </thead>\n",
       "  <tbody>\n",
       "    <tr>\n",
       "      <th>0</th>\n",
       "      <td>1237*</td>\n",
       "      <td>2016-02-10</td>\n",
       "      <td>l'ensemble du projet de loi constitutionnelle ...</td>\n",
       "      <td>317</td>\n",
       "      <td>199</td>\n",
       "      <td>51</td>\n",
       "      <td>10</td>\n",
       "      <td>03-mercredi</td>\n",
       "      <td>567</td>\n",
       "    </tr>\n",
       "    <tr>\n",
       "      <th>35</th>\n",
       "      <td>1202*</td>\n",
       "      <td>2015-12-08</td>\n",
       "      <td>l'ensemble du projet de loi de finances rectif...</td>\n",
       "      <td>296</td>\n",
       "      <td>246</td>\n",
       "      <td>19</td>\n",
       "      <td>16</td>\n",
       "      <td>02-mardi</td>\n",
       "      <td>561</td>\n",
       "    </tr>\n",
       "    <tr>\n",
       "      <th>37</th>\n",
       "      <td>1200*</td>\n",
       "      <td>2015-12-01</td>\n",
       "      <td>l'ensemble du projet de loi de modernisation d...</td>\n",
       "      <td>296</td>\n",
       "      <td>243</td>\n",
       "      <td>16</td>\n",
       "      <td>22</td>\n",
       "      <td>02-mardi</td>\n",
       "      <td>555</td>\n",
       "    </tr>\n",
       "    <tr>\n",
       "      <th>46</th>\n",
       "      <td>1191*</td>\n",
       "      <td>2015-11-19</td>\n",
       "      <td>l'ensemble du projet de loi prorogeant l'appli...</td>\n",
       "      <td>551</td>\n",
       "      <td>6</td>\n",
       "      <td>1</td>\n",
       "      <td>19</td>\n",
       "      <td>04-jeudi</td>\n",
       "      <td>558</td>\n",
       "    </tr>\n",
       "    <tr>\n",
       "      <th>48</th>\n",
       "      <td>1189*</td>\n",
       "      <td>2015-11-17</td>\n",
       "      <td>l'ensemble du projet de loi de finances pour 2...</td>\n",
       "      <td>290</td>\n",
       "      <td>244</td>\n",
       "      <td>30</td>\n",
       "      <td>13</td>\n",
       "      <td>02-mardi</td>\n",
       "      <td>564</td>\n",
       "    </tr>\n",
       "    <tr>\n",
       "      <th>52</th>\n",
       "      <td>1185*</td>\n",
       "      <td>2015-10-27</td>\n",
       "      <td>l'ensemble du projet de loi de financement de ...</td>\n",
       "      <td>286</td>\n",
       "      <td>245</td>\n",
       "      <td>27</td>\n",
       "      <td>19</td>\n",
       "      <td>02-mardi</td>\n",
       "      <td>558</td>\n",
       "    </tr>\n",
       "    <tr>\n",
       "      <th>60</th>\n",
       "      <td>1177*</td>\n",
       "      <td>2015-10-20</td>\n",
       "      <td>le projet de loi de finances pour 2016 (premiè...</td>\n",
       "      <td>277</td>\n",
       "      <td>247</td>\n",
       "      <td>32</td>\n",
       "      <td>21</td>\n",
       "      <td>02-mardi</td>\n",
       "      <td>556</td>\n",
       "    </tr>\n",
       "    <tr>\n",
       "      <th>110</th>\n",
       "      <td>1127*</td>\n",
       "      <td>2015-06-02</td>\n",
       "      <td>l'ensemble du projet de loi relatif au dialogu...</td>\n",
       "      <td>301</td>\n",
       "      <td>238</td>\n",
       "      <td>13</td>\n",
       "      <td>25</td>\n",
       "      <td>02-mardi</td>\n",
       "      <td>552</td>\n",
       "    </tr>\n",
       "    <tr>\n",
       "      <th>117</th>\n",
       "      <td>1120*</td>\n",
       "      <td>2015-05-26</td>\n",
       "      <td>l'ensemble du projet de loi relatif à la trans...</td>\n",
       "      <td>308</td>\n",
       "      <td>217</td>\n",
       "      <td>31</td>\n",
       "      <td>21</td>\n",
       "      <td>02-mardi</td>\n",
       "      <td>556</td>\n",
       "    </tr>\n",
       "    <tr>\n",
       "      <th>128</th>\n",
       "      <td>1109*</td>\n",
       "      <td>2015-05-05</td>\n",
       "      <td>l'ensemble du projet de loi relatif au renseig...</td>\n",
       "      <td>438</td>\n",
       "      <td>86</td>\n",
       "      <td>42</td>\n",
       "      <td>11</td>\n",
       "      <td>02-mardi</td>\n",
       "      <td>566</td>\n",
       "    </tr>\n",
       "    <tr>\n",
       "      <th>131</th>\n",
       "      <td>1106*</td>\n",
       "      <td>2015-04-14</td>\n",
       "      <td>l'ensemble du projet de loi de modernisation d...</td>\n",
       "      <td>311</td>\n",
       "      <td>241</td>\n",
       "      <td>10</td>\n",
       "      <td>15</td>\n",
       "      <td>02-mardi</td>\n",
       "      <td>562</td>\n",
       "    </tr>\n",
       "    <tr>\n",
       "      <th>167</th>\n",
       "      <td>1070*</td>\n",
       "      <td>2015-03-17</td>\n",
       "      <td>l'ensemble de la proposition de loi créant de ...</td>\n",
       "      <td>436</td>\n",
       "      <td>34</td>\n",
       "      <td>83</td>\n",
       "      <td>24</td>\n",
       "      <td>02-mardi</td>\n",
       "      <td>553</td>\n",
       "    </tr>\n",
       "    <tr>\n",
       "      <th>175</th>\n",
       "      <td>1062*</td>\n",
       "      <td>2015-03-10</td>\n",
       "      <td>l'ensemble du projet de loi, adopté par le Sén...</td>\n",
       "      <td>306</td>\n",
       "      <td>238</td>\n",
       "      <td>11</td>\n",
       "      <td>22</td>\n",
       "      <td>02-mardi</td>\n",
       "      <td>555</td>\n",
       "    </tr>\n",
       "    <tr>\n",
       "      <th>247</th>\n",
       "      <td>990*</td>\n",
       "      <td>2014-12-09</td>\n",
       "      <td>le projet de loi de finances rectificative pou...</td>\n",
       "      <td>298</td>\n",
       "      <td>238</td>\n",
       "      <td>17</td>\n",
       "      <td>24</td>\n",
       "      <td>02-mardi</td>\n",
       "      <td>553</td>\n",
       "    </tr>\n",
       "    <tr>\n",
       "      <th>267</th>\n",
       "      <td>970*</td>\n",
       "      <td>2014-11-25</td>\n",
       "      <td>l'ensemble du projet de loi relatif à la délim...</td>\n",
       "      <td>277</td>\n",
       "      <td>253</td>\n",
       "      <td>33</td>\n",
       "      <td>14</td>\n",
       "      <td>02-mardi</td>\n",
       "      <td>563</td>\n",
       "    </tr>\n",
       "    <tr>\n",
       "      <th>282</th>\n",
       "      <td>955*</td>\n",
       "      <td>2014-11-18</td>\n",
       "      <td>l'ensemble du projet de loi de finances pour 2...</td>\n",
       "      <td>266</td>\n",
       "      <td>247</td>\n",
       "      <td>56</td>\n",
       "      <td>8</td>\n",
       "      <td>02-mardi</td>\n",
       "      <td>569</td>\n",
       "    </tr>\n",
       "    <tr>\n",
       "      <th>292</th>\n",
       "      <td>945*</td>\n",
       "      <td>2014-10-28</td>\n",
       "      <td>l'ensemble du projet de loi de financement de ...</td>\n",
       "      <td>270</td>\n",
       "      <td>245</td>\n",
       "      <td>51</td>\n",
       "      <td>11</td>\n",
       "      <td>02-mardi</td>\n",
       "      <td>566</td>\n",
       "    </tr>\n",
       "    <tr>\n",
       "      <th>307</th>\n",
       "      <td>930*</td>\n",
       "      <td>2014-10-21</td>\n",
       "      <td>le projet de loi de finances pour 2015 (premiè...</td>\n",
       "      <td>266</td>\n",
       "      <td>245</td>\n",
       "      <td>56</td>\n",
       "      <td>10</td>\n",
       "      <td>02-mardi</td>\n",
       "      <td>567</td>\n",
       "    </tr>\n",
       "    <tr>\n",
       "      <th>308</th>\n",
       "      <td>929*</td>\n",
       "      <td>2014-10-21</td>\n",
       "      <td>le projet de loi de programmation des finances...</td>\n",
       "      <td>263</td>\n",
       "      <td>245</td>\n",
       "      <td>56</td>\n",
       "      <td>13</td>\n",
       "      <td>02-mardi</td>\n",
       "      <td>564</td>\n",
       "    </tr>\n",
       "    <tr>\n",
       "      <th>323</th>\n",
       "      <td>914*</td>\n",
       "      <td>2014-10-14</td>\n",
       "      <td>l'ensemble du projet de loi relatif à la trans...</td>\n",
       "      <td>314</td>\n",
       "      <td>219</td>\n",
       "      <td>32</td>\n",
       "      <td>12</td>\n",
       "      <td>02-mardi</td>\n",
       "      <td>565</td>\n",
       "    </tr>\n",
       "    <tr>\n",
       "      <th>336</th>\n",
       "      <td>901</td>\n",
       "      <td>2014-09-16</td>\n",
       "      <td>la déclaration de politique générale du Gouver...</td>\n",
       "      <td>269</td>\n",
       "      <td>244</td>\n",
       "      <td>53</td>\n",
       "      <td>11</td>\n",
       "      <td>02-mardi</td>\n",
       "      <td>566</td>\n",
       "    </tr>\n",
       "    <tr>\n",
       "      <th>339</th>\n",
       "      <td>898*</td>\n",
       "      <td>2014-07-23</td>\n",
       "      <td>l'ensemble du projet de loi relatif à la délim...</td>\n",
       "      <td>261</td>\n",
       "      <td>205</td>\n",
       "      <td>85</td>\n",
       "      <td>26</td>\n",
       "      <td>03-mercredi</td>\n",
       "      <td>551</td>\n",
       "    </tr>\n",
       "    <tr>\n",
       "      <th>369</th>\n",
       "      <td>868*</td>\n",
       "      <td>2014-07-08</td>\n",
       "      <td>l'ensemble du projet de loi de financement rec...</td>\n",
       "      <td>272</td>\n",
       "      <td>234</td>\n",
       "      <td>54</td>\n",
       "      <td>17</td>\n",
       "      <td>02-mardi</td>\n",
       "      <td>560</td>\n",
       "    </tr>\n",
       "    <tr>\n",
       "      <th>388</th>\n",
       "      <td>849*</td>\n",
       "      <td>2014-07-01</td>\n",
       "      <td>l'ensemble du projet de loi de finances rectif...</td>\n",
       "      <td>307</td>\n",
       "      <td>232</td>\n",
       "      <td>14</td>\n",
       "      <td>24</td>\n",
       "      <td>02-mardi</td>\n",
       "      <td>553</td>\n",
       "    </tr>\n",
       "    <tr>\n",
       "      <th>427</th>\n",
       "      <td>810*</td>\n",
       "      <td>2014-06-10</td>\n",
       "      <td>l'ensemble du projet de loi relatif à la préve...</td>\n",
       "      <td>328</td>\n",
       "      <td>231</td>\n",
       "      <td>0</td>\n",
       "      <td>18</td>\n",
       "      <td>02-mardi</td>\n",
       "      <td>559</td>\n",
       "    </tr>\n",
       "    <tr>\n",
       "      <th>451</th>\n",
       "      <td>786</td>\n",
       "      <td>2014-04-29</td>\n",
       "      <td>la déclaration du Gouvernement sur le projet d...</td>\n",
       "      <td>265</td>\n",
       "      <td>232</td>\n",
       "      <td>67</td>\n",
       "      <td>13</td>\n",
       "      <td>02-mardi</td>\n",
       "      <td>564</td>\n",
       "    </tr>\n",
       "    <tr>\n",
       "      <th>452</th>\n",
       "      <td>785</td>\n",
       "      <td>2014-04-08</td>\n",
       "      <td>la déclaration de politique générale du Gouver...</td>\n",
       "      <td>306</td>\n",
       "      <td>239</td>\n",
       "      <td>26</td>\n",
       "      <td>6</td>\n",
       "      <td>02-mardi</td>\n",
       "      <td>571</td>\n",
       "    </tr>\n",
       "    <tr>\n",
       "      <th>464</th>\n",
       "      <td>773*</td>\n",
       "      <td>2014-01-28</td>\n",
       "      <td>l'ensemble du projet de loi pour l'égalité ent...</td>\n",
       "      <td>359</td>\n",
       "      <td>24</td>\n",
       "      <td>174</td>\n",
       "      <td>20</td>\n",
       "      <td>02-mardi</td>\n",
       "      <td>557</td>\n",
       "    </tr>\n",
       "    <tr>\n",
       "      <th>469</th>\n",
       "      <td>768*</td>\n",
       "      <td>2014-01-22</td>\n",
       "      <td>l'ensemble du projet de loi organique interdis...</td>\n",
       "      <td>313</td>\n",
       "      <td>225</td>\n",
       "      <td>14</td>\n",
       "      <td>25</td>\n",
       "      <td>03-mercredi</td>\n",
       "      <td>552</td>\n",
       "    </tr>\n",
       "    <tr>\n",
       "      <th>472</th>\n",
       "      <td>765*</td>\n",
       "      <td>2014-01-14</td>\n",
       "      <td>l'ensemble du projet de loi d'avenir pour l'ag...</td>\n",
       "      <td>332</td>\n",
       "      <td>205</td>\n",
       "      <td>22</td>\n",
       "      <td>18</td>\n",
       "      <td>02-mardi</td>\n",
       "      <td>559</td>\n",
       "    </tr>\n",
       "    <tr>\n",
       "      <th>501</th>\n",
       "      <td>736*</td>\n",
       "      <td>2013-12-03</td>\n",
       "      <td>le projet de loi de financement de la sécurité...</td>\n",
       "      <td>316</td>\n",
       "      <td>233</td>\n",
       "      <td>5</td>\n",
       "      <td>23</td>\n",
       "      <td>02-mardi</td>\n",
       "      <td>554</td>\n",
       "    </tr>\n",
       "    <tr>\n",
       "      <th>511</th>\n",
       "      <td>726*</td>\n",
       "      <td>2013-11-26</td>\n",
       "      <td>l'ensemble du projet de loi garantissant l'ave...</td>\n",
       "      <td>291</td>\n",
       "      <td>243</td>\n",
       "      <td>27</td>\n",
       "      <td>16</td>\n",
       "      <td>02-mardi</td>\n",
       "      <td>561</td>\n",
       "    </tr>\n",
       "    <tr>\n",
       "      <th>512</th>\n",
       "      <td>725*</td>\n",
       "      <td>2013-11-26</td>\n",
       "      <td>l'ensemble du projet de loi de financement de ...</td>\n",
       "      <td>318</td>\n",
       "      <td>242</td>\n",
       "      <td>1</td>\n",
       "      <td>16</td>\n",
       "      <td>02-mardi</td>\n",
       "      <td>561</td>\n",
       "    </tr>\n",
       "    <tr>\n",
       "      <th>539</th>\n",
       "      <td>698*</td>\n",
       "      <td>2013-11-19</td>\n",
       "      <td>l'ensemble du projet de loi de finances pour 2...</td>\n",
       "      <td>320</td>\n",
       "      <td>242</td>\n",
       "      <td>6</td>\n",
       "      <td>9</td>\n",
       "      <td>02-mardi</td>\n",
       "      <td>568</td>\n",
       "    </tr>\n",
       "    <tr>\n",
       "      <th>550</th>\n",
       "      <td>687*</td>\n",
       "      <td>2013-11-05</td>\n",
       "      <td>le projet de loi organique relatif au procureu...</td>\n",
       "      <td>336</td>\n",
       "      <td>203</td>\n",
       "      <td>28</td>\n",
       "      <td>10</td>\n",
       "      <td>02-mardi</td>\n",
       "      <td>567</td>\n",
       "    </tr>\n",
       "    <tr>\n",
       "      <th>551</th>\n",
       "      <td>686*</td>\n",
       "      <td>2013-11-05</td>\n",
       "      <td>l'ensemble du projet de loi relatif à la lutte...</td>\n",
       "      <td>358</td>\n",
       "      <td>198</td>\n",
       "      <td>3</td>\n",
       "      <td>18</td>\n",
       "      <td>02-mardi</td>\n",
       "      <td>559</td>\n",
       "    </tr>\n",
       "    <tr>\n",
       "      <th>559</th>\n",
       "      <td>678*</td>\n",
       "      <td>2013-10-29</td>\n",
       "      <td>l'ensemble du projet de loi de financement de ...</td>\n",
       "      <td>320</td>\n",
       "      <td>243</td>\n",
       "      <td>5</td>\n",
       "      <td>9</td>\n",
       "      <td>02-mardi</td>\n",
       "      <td>568</td>\n",
       "    </tr>\n",
       "    <tr>\n",
       "      <th>574</th>\n",
       "      <td>663*</td>\n",
       "      <td>2013-10-22</td>\n",
       "      <td>l'ensemble de la première partie du projet de ...</td>\n",
       "      <td>316</td>\n",
       "      <td>249</td>\n",
       "      <td>2</td>\n",
       "      <td>10</td>\n",
       "      <td>02-mardi</td>\n",
       "      <td>567</td>\n",
       "    </tr>\n",
       "    <tr>\n",
       "      <th>590</th>\n",
       "      <td>647*</td>\n",
       "      <td>2013-10-15</td>\n",
       "      <td>l'ensemble du projet de loi garantissant l'ave...</td>\n",
       "      <td>270</td>\n",
       "      <td>249</td>\n",
       "      <td>49</td>\n",
       "      <td>9</td>\n",
       "      <td>02-mardi</td>\n",
       "      <td>568</td>\n",
       "    </tr>\n",
       "    <tr>\n",
       "      <th>642</th>\n",
       "      <td>595*</td>\n",
       "      <td>2013-09-17</td>\n",
       "      <td>le projet de loi organique relatif à la transp...</td>\n",
       "      <td>324</td>\n",
       "      <td>205</td>\n",
       "      <td>25</td>\n",
       "      <td>23</td>\n",
       "      <td>02-mardi</td>\n",
       "      <td>554</td>\n",
       "    </tr>\n",
       "    <tr>\n",
       "      <th>644</th>\n",
       "      <td>593*</td>\n",
       "      <td>2013-09-17</td>\n",
       "      <td>l'ensemble du projet de loi pour l'accès au lo...</td>\n",
       "      <td>312</td>\n",
       "      <td>197</td>\n",
       "      <td>44</td>\n",
       "      <td>24</td>\n",
       "      <td>02-mardi</td>\n",
       "      <td>553</td>\n",
       "    </tr>\n",
       "    <tr>\n",
       "      <th>677</th>\n",
       "      <td>560*</td>\n",
       "      <td>2013-07-09</td>\n",
       "      <td>l'ensemble du projet de loi interdisant le cum...</td>\n",
       "      <td>305</td>\n",
       "      <td>228</td>\n",
       "      <td>20</td>\n",
       "      <td>24</td>\n",
       "      <td>02-mardi</td>\n",
       "      <td>553</td>\n",
       "    </tr>\n",
       "    <tr>\n",
       "      <th>678</th>\n",
       "      <td>559*</td>\n",
       "      <td>2013-07-09</td>\n",
       "      <td>l'ensemble du projet de loi organique interdis...</td>\n",
       "      <td>300</td>\n",
       "      <td>228</td>\n",
       "      <td>25</td>\n",
       "      <td>24</td>\n",
       "      <td>02-mardi</td>\n",
       "      <td>553</td>\n",
       "    </tr>\n",
       "    <tr>\n",
       "      <th>701</th>\n",
       "      <td>536*</td>\n",
       "      <td>2013-06-25</td>\n",
       "      <td>l'ensemble du projet de loi relatif à la trans...</td>\n",
       "      <td>328</td>\n",
       "      <td>193</td>\n",
       "      <td>30</td>\n",
       "      <td>26</td>\n",
       "      <td>02-mardi</td>\n",
       "      <td>551</td>\n",
       "    </tr>\n",
       "    <tr>\n",
       "      <th>702</th>\n",
       "      <td>535*</td>\n",
       "      <td>2013-06-25</td>\n",
       "      <td>l'ensemble du projet de loi organique relatif ...</td>\n",
       "      <td>326</td>\n",
       "      <td>193</td>\n",
       "      <td>36</td>\n",
       "      <td>22</td>\n",
       "      <td>02-mardi</td>\n",
       "      <td>555</td>\n",
       "    </tr>\n",
       "    <tr>\n",
       "      <th>726</th>\n",
       "      <td>511*</td>\n",
       "      <td>2013-04-23</td>\n",
       "      <td>l'ensemble du projet de loi ouvrant le mariage...</td>\n",
       "      <td>331</td>\n",
       "      <td>225</td>\n",
       "      <td>10</td>\n",
       "      <td>11</td>\n",
       "      <td>02-mardi</td>\n",
       "      <td>566</td>\n",
       "    </tr>\n",
       "    <tr>\n",
       "      <th>756</th>\n",
       "      <td>481*</td>\n",
       "      <td>2013-04-09</td>\n",
       "      <td>l'ensemble du projet de loi relatif à la sécur...</td>\n",
       "      <td>250</td>\n",
       "      <td>26</td>\n",
       "      <td>278</td>\n",
       "      <td>23</td>\n",
       "      <td>02-mardi</td>\n",
       "      <td>554</td>\n",
       "    </tr>\n",
       "    <tr>\n",
       "      <th>946</th>\n",
       "      <td>291*</td>\n",
       "      <td>2013-03-19</td>\n",
       "      <td>l'ensemble du projet de loi d'orientation et d...</td>\n",
       "      <td>320</td>\n",
       "      <td>227</td>\n",
       "      <td>13</td>\n",
       "      <td>17</td>\n",
       "      <td>02-mardi</td>\n",
       "      <td>560</td>\n",
       "    </tr>\n",
       "    <tr>\n",
       "      <th>978</th>\n",
       "      <td>259*</td>\n",
       "      <td>2013-02-12</td>\n",
       "      <td>l'ensemble du projet de loi ouvrant le mariage...</td>\n",
       "      <td>329</td>\n",
       "      <td>229</td>\n",
       "      <td>10</td>\n",
       "      <td>9</td>\n",
       "      <td>02-mardi</td>\n",
       "      <td>568</td>\n",
       "    </tr>\n",
       "    <tr>\n",
       "      <th>1196</th>\n",
       "      <td>41*</td>\n",
       "      <td>2012-10-23</td>\n",
       "      <td>la première partie du projet de loi de finance...</td>\n",
       "      <td>319</td>\n",
       "      <td>223</td>\n",
       "      <td>10</td>\n",
       "      <td>25</td>\n",
       "      <td>02-mardi</td>\n",
       "      <td>552</td>\n",
       "    </tr>\n",
       "    <tr>\n",
       "      <th>1197</th>\n",
       "      <td>40*</td>\n",
       "      <td>2012-10-23</td>\n",
       "      <td>le projet de loi de programmation des finances...</td>\n",
       "      <td>314</td>\n",
       "      <td>235</td>\n",
       "      <td>3</td>\n",
       "      <td>25</td>\n",
       "      <td>02-mardi</td>\n",
       "      <td>552</td>\n",
       "    </tr>\n",
       "    <tr>\n",
       "      <th>1207</th>\n",
       "      <td>30*</td>\n",
       "      <td>2012-10-09</td>\n",
       "      <td>l'ensemble du projet de loi autorisant la rati...</td>\n",
       "      <td>477</td>\n",
       "      <td>70</td>\n",
       "      <td>21</td>\n",
       "      <td>9</td>\n",
       "      <td>02-mardi</td>\n",
       "      <td>568</td>\n",
       "    </tr>\n",
       "  </tbody>\n",
       "</table>\n",
       "</div>"
      ],
      "text/plain": [
       "     numero       date                                              objet  \\\n",
       "0     1237* 2016-02-10  l'ensemble du projet de loi constitutionnelle ...   \n",
       "35    1202* 2015-12-08  l'ensemble du projet de loi de finances rectif...   \n",
       "37    1200* 2015-12-01  l'ensemble du projet de loi de modernisation d...   \n",
       "46    1191* 2015-11-19  l'ensemble du projet de loi prorogeant l'appli...   \n",
       "48    1189* 2015-11-17  l'ensemble du projet de loi de finances pour 2...   \n",
       "52    1185* 2015-10-27  l'ensemble du projet de loi de financement de ...   \n",
       "60    1177* 2015-10-20  le projet de loi de finances pour 2016 (premiè...   \n",
       "110   1127* 2015-06-02  l'ensemble du projet de loi relatif au dialogu...   \n",
       "117   1120* 2015-05-26  l'ensemble du projet de loi relatif à la trans...   \n",
       "128   1109* 2015-05-05  l'ensemble du projet de loi relatif au renseig...   \n",
       "131   1106* 2015-04-14  l'ensemble du projet de loi de modernisation d...   \n",
       "167   1070* 2015-03-17  l'ensemble de la proposition de loi créant de ...   \n",
       "175   1062* 2015-03-10  l'ensemble du projet de loi, adopté par le Sén...   \n",
       "247    990* 2014-12-09  le projet de loi de finances rectificative pou...   \n",
       "267    970* 2014-11-25  l'ensemble du projet de loi relatif à la délim...   \n",
       "282    955* 2014-11-18  l'ensemble du projet de loi de finances pour 2...   \n",
       "292    945* 2014-10-28  l'ensemble du projet de loi de financement de ...   \n",
       "307    930* 2014-10-21  le projet de loi de finances pour 2015 (premiè...   \n",
       "308    929* 2014-10-21  le projet de loi de programmation des finances...   \n",
       "323    914* 2014-10-14  l'ensemble du projet de loi relatif à la trans...   \n",
       "336     901 2014-09-16  la déclaration de politique générale du Gouver...   \n",
       "339    898* 2014-07-23  l'ensemble du projet de loi relatif à la délim...   \n",
       "369    868* 2014-07-08  l'ensemble du projet de loi de financement rec...   \n",
       "388    849* 2014-07-01  l'ensemble du projet de loi de finances rectif...   \n",
       "427    810* 2014-06-10  l'ensemble du projet de loi relatif à la préve...   \n",
       "451     786 2014-04-29  la déclaration du Gouvernement sur le projet d...   \n",
       "452     785 2014-04-08  la déclaration de politique générale du Gouver...   \n",
       "464    773* 2014-01-28  l'ensemble du projet de loi pour l'égalité ent...   \n",
       "469    768* 2014-01-22  l'ensemble du projet de loi organique interdis...   \n",
       "472    765* 2014-01-14  l'ensemble du projet de loi d'avenir pour l'ag...   \n",
       "501    736* 2013-12-03  le projet de loi de financement de la sécurité...   \n",
       "511    726* 2013-11-26  l'ensemble du projet de loi garantissant l'ave...   \n",
       "512    725* 2013-11-26  l'ensemble du projet de loi de financement de ...   \n",
       "539    698* 2013-11-19  l'ensemble du projet de loi de finances pour 2...   \n",
       "550    687* 2013-11-05  le projet de loi organique relatif au procureu...   \n",
       "551    686* 2013-11-05  l'ensemble du projet de loi relatif à la lutte...   \n",
       "559    678* 2013-10-29  l'ensemble du projet de loi de financement de ...   \n",
       "574    663* 2013-10-22  l'ensemble de la première partie du projet de ...   \n",
       "590    647* 2013-10-15  l'ensemble du projet de loi garantissant l'ave...   \n",
       "642    595* 2013-09-17  le projet de loi organique relatif à la transp...   \n",
       "644    593* 2013-09-17  l'ensemble du projet de loi pour l'accès au lo...   \n",
       "677    560* 2013-07-09  l'ensemble du projet de loi interdisant le cum...   \n",
       "678    559* 2013-07-09  l'ensemble du projet de loi organique interdis...   \n",
       "701    536* 2013-06-25  l'ensemble du projet de loi relatif à la trans...   \n",
       "702    535* 2013-06-25  l'ensemble du projet de loi organique relatif ...   \n",
       "726    511* 2013-04-23  l'ensemble du projet de loi ouvrant le mariage...   \n",
       "756    481* 2013-04-09  l'ensemble du projet de loi relatif à la sécur...   \n",
       "946    291* 2013-03-19  l'ensemble du projet de loi d'orientation et d...   \n",
       "978    259* 2013-02-12  l'ensemble du projet de loi ouvrant le mariage...   \n",
       "1196    41* 2012-10-23  la première partie du projet de loi de finance...   \n",
       "1197    40* 2012-10-23  le projet de loi de programmation des finances...   \n",
       "1207    30* 2012-10-09  l'ensemble du projet de loi autorisant la rati...   \n",
       "\n",
       "      pour  contre  abstention  absents         jour  presents  \n",
       "0      317     199          51       10  03-mercredi       567  \n",
       "35     296     246          19       16     02-mardi       561  \n",
       "37     296     243          16       22     02-mardi       555  \n",
       "46     551       6           1       19     04-jeudi       558  \n",
       "48     290     244          30       13     02-mardi       564  \n",
       "52     286     245          27       19     02-mardi       558  \n",
       "60     277     247          32       21     02-mardi       556  \n",
       "110    301     238          13       25     02-mardi       552  \n",
       "117    308     217          31       21     02-mardi       556  \n",
       "128    438      86          42       11     02-mardi       566  \n",
       "131    311     241          10       15     02-mardi       562  \n",
       "167    436      34          83       24     02-mardi       553  \n",
       "175    306     238          11       22     02-mardi       555  \n",
       "247    298     238          17       24     02-mardi       553  \n",
       "267    277     253          33       14     02-mardi       563  \n",
       "282    266     247          56        8     02-mardi       569  \n",
       "292    270     245          51       11     02-mardi       566  \n",
       "307    266     245          56       10     02-mardi       567  \n",
       "308    263     245          56       13     02-mardi       564  \n",
       "323    314     219          32       12     02-mardi       565  \n",
       "336    269     244          53       11     02-mardi       566  \n",
       "339    261     205          85       26  03-mercredi       551  \n",
       "369    272     234          54       17     02-mardi       560  \n",
       "388    307     232          14       24     02-mardi       553  \n",
       "427    328     231           0       18     02-mardi       559  \n",
       "451    265     232          67       13     02-mardi       564  \n",
       "452    306     239          26        6     02-mardi       571  \n",
       "464    359      24         174       20     02-mardi       557  \n",
       "469    313     225          14       25  03-mercredi       552  \n",
       "472    332     205          22       18     02-mardi       559  \n",
       "501    316     233           5       23     02-mardi       554  \n",
       "511    291     243          27       16     02-mardi       561  \n",
       "512    318     242           1       16     02-mardi       561  \n",
       "539    320     242           6        9     02-mardi       568  \n",
       "550    336     203          28       10     02-mardi       567  \n",
       "551    358     198           3       18     02-mardi       559  \n",
       "559    320     243           5        9     02-mardi       568  \n",
       "574    316     249           2       10     02-mardi       567  \n",
       "590    270     249          49        9     02-mardi       568  \n",
       "642    324     205          25       23     02-mardi       554  \n",
       "644    312     197          44       24     02-mardi       553  \n",
       "677    305     228          20       24     02-mardi       553  \n",
       "678    300     228          25       24     02-mardi       553  \n",
       "701    328     193          30       26     02-mardi       551  \n",
       "702    326     193          36       22     02-mardi       555  \n",
       "726    331     225          10       11     02-mardi       566  \n",
       "756    250      26         278       23     02-mardi       554  \n",
       "946    320     227          13       17     02-mardi       560  \n",
       "978    329     229          10        9     02-mardi       568  \n",
       "1196   319     223          10       25     02-mardi       552  \n",
       "1197   314     235           3       25     02-mardi       552  \n",
       "1207   477      70          21        9     02-mardi       568  "
      ]
     },
     "execution_count": 157,
     "metadata": {},
     "output_type": "execute_result"
    }
   ],
   "source": [
    "df[df.presents > 550]"
   ]
  },
  {
   "cell_type": "code",
   "execution_count": null,
   "metadata": {
    "collapsed": true
   },
   "outputs": [],
   "source": []
  }
 ],
 "metadata": {
  "kernelspec": {
   "display_name": "Python 3",
   "language": "python",
   "name": "python3"
  },
  "language_info": {
   "codemirror_mode": {
    "name": "ipython",
    "version": 3
   },
   "file_extension": ".py",
   "mimetype": "text/x-python",
   "name": "python",
   "nbconvert_exporter": "python",
   "pygments_lexer": "ipython3",
   "version": "3.4.4"
  }
 },
 "nbformat": 4,
 "nbformat_minor": 0
}
