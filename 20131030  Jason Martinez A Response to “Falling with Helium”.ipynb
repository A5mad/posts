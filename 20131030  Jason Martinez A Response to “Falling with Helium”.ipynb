{
 "metadata": {
  "name": ""
 },
 "nbformat": 3,
 "nbformat_minor": 0,
 "worksheets": [
  {
   "cells": [
    {
     "cell_type": "markdown",
     "metadata": {},
     "source": [
      "I'm following the explanations from this blog post: [http://blog.wolfram.com/2013/10/08/a-response-to-falling-with-helium/](http://blog.wolfram.com/2013/10/08/a-response-to-falling-with-helium/).\n",
      "\n",
      "The central question to answer is: \n",
      "\n",
      ">how long it would be necessary for someone to fall in order to jump out of an airplane, fill a large balloon with helium while falling, and land safely.\n",
      "\n",
      "So roughly, my first analysis is:\n",
      "\n",
      "- jumping from an airplane: that's the free-fall problem\n",
      "- filling a large balloon with helium while falling: mmmh, here we'll likely run into trouble due to the fact that the air pressure will change as a function of altitude and thus filling a ballon with helium is not the way we usually experience it with constant air pressure at the ground level\n",
      "- land safely: this would mean that the buoyancy of the helium ballon should be a little bit less than the mass of the person falling; however buoyancy is a function of the fluid density displaced and this too varies with altitude\n",
      "\n",
      "Things that need to be determined, according to the Wolfram blog post are:\n",
      "\n",
      "- initial and final weights of the person\n",
      "- the balloon\n",
      "- the helium\n",
      "- the helium tank carried by the person falling from the plane\n",
      "\n",
      "Idea behind the calculation: we want to achieve neutral buoyancy for the falling guy. \n",
      "\n",
      "$$\n",
      "\\text{ballon buoyancy force} = \\text{weight of helium inside ballon} + \\text{weight of ballon} + \\text{weight of person}\n",
      "$$\n",
      "\n",
      "This translates to the equation used by the guy in the article:\n",
      "\n",
      "$$\n",
      "\\rho_{air} \\frac{4}{3} \\pi \\; r^3 = \\rho_{He} \\frac{4}{3} \\pi \\; r^3 + s_{balloon} 4 \\pi  \\; r^2 + m_{person}\n",
      "$$\n",
      "\n",
      "where $s_{ballon}$ is the surface density of the ballon. This makes sense because the mass of the ballon is distributed on its outer surface when fully inflated. Thus using the value of 0.00609614 grams per square centimeter calculated from a typical inflatable balloon is a good starting point.\n",
      "\n",
      "The next step in this article is to solve that equation in $r$ assuming a given air and helium density. He's saying that air density varies from 1.225 kg/m^3 at sea level to 1.1 kg/m^3 at 5000 feet (1.5 km) but we're taking it equal to 1.2 kg/m^3 as we want to be close to the surface. The density of Helium is taken constant at 1.785*10^-4 grams per cubic centimeter, or 0.18 kg/m^3 (ten times lighter than air)."
     ]
    },
    {
     "cell_type": "code",
     "collapsed": false,
     "input": [
      "%pylab inline"
     ],
     "language": "python",
     "metadata": {},
     "outputs": [
      {
       "output_type": "stream",
       "stream": "stdout",
       "text": [
        "Populating the interactive namespace from numpy and matplotlib\n"
       ]
      }
     ],
     "prompt_number": 1
    },
    {
     "cell_type": "code",
     "collapsed": false,
     "input": [
      "rho_air = 1.2 #kg/m^3\n",
      "rho_helium = 0.18 #kg/m^3\n",
      "s_ballon = 0.061 #kg/m^2\n",
      "m_person = 70 #kg"
     ],
     "language": "python",
     "metadata": {},
     "outputs": [],
     "prompt_number": 3
    },
    {
     "cell_type": "markdown",
     "metadata": {},
     "source": [
      "To find $r$ we can use the root finding method from the scipy.optimize package as discussed [in this help page](http://docs.scipy.org/doc/scipy/reference/tutorial/optimize.html#root-finding)."
     ]
    },
    {
     "cell_type": "code",
     "collapsed": false,
     "input": [
      "from scipy.optimize import root\n",
      "def func(r):\n",
      "    return (rho_air - rho_helium) * 4./3. * pi * r ** 3 - s_ballon * 4 * pi * r ** 2 - m_person\n",
      "sol = root(func, 1)\n",
      "r = sol.x\n",
      "print \"%.2f m\" % r"
     ],
     "language": "python",
     "metadata": {},
     "outputs": [
      {
       "output_type": "stream",
       "stream": "stdout",
       "text": [
        "2.60 m\n"
       ]
      }
     ],
     "prompt_number": 33
    },
    {
     "cell_type": "markdown",
     "metadata": {},
     "source": [
      "The radius of the balloon will be 2.6 meters. This represents a volume of:"
     ]
    },
    {
     "cell_type": "code",
     "collapsed": false,
     "input": [
      "helium_volume = 4/3. * pi * r ** 3\n",
      "print \"%.2f m^3\" % helium_volume # in m^3"
     ],
     "language": "python",
     "metadata": {},
     "outputs": [
      {
       "output_type": "stream",
       "stream": "stdout",
       "text": [
        "73.71 m^3\n"
       ]
      }
     ],
     "prompt_number": 32
    },
    {
     "cell_type": "markdown",
     "metadata": {},
     "source": [
      "The final mass of the jumper will thus be:"
     ]
    },
    {
     "cell_type": "code",
     "collapsed": false,
     "input": [
      "final_mass = m_person + rho_helium * helium_volume\n",
      "print '%.2f kg' % final_mass"
     ],
     "language": "python",
     "metadata": {},
     "outputs": [
      {
       "output_type": "stream",
       "stream": "stdout",
       "text": [
        "83.27 kg\n"
       ]
      }
     ],
     "prompt_number": 28
    },
    {
     "cell_type": "markdown",
     "metadata": {},
     "source": [
      "However, the jumper in its initial state is carrying the helium with canisters that weigh 49 kg for a volume of 43 liters. How many canisters are needed to fit the helium inside? Given that each canister has a maximal design pressure, we can try to fit is much helium inside until it reaches that limit. The [HP250 model](http://www.airgas.com/content/details.aspx?id=7000000000234) has a service pressure of 156 bar. Using the ideal gas law, we know that the pressure volume product is conserved between the situations where the helium is compressed in the canisters and at ground pressure in the inflated balloon. In other words:\n",
      "$$P_{landing} V_{landing} = P_{canister} V_{canister}$$\n",
      "We take a landing pressure of 1 bar, a landing volume of 74 m^3 and a canister pressure of 156 bar. Thus the canister helium volume is:"
     ]
    },
    {
     "cell_type": "code",
     "collapsed": false,
     "input": [
      "canister_helium_volume = 1 * helium_volume / 156.\n",
      "print \"%.2f m^3\" % (canister_helium_volume)"
     ],
     "language": "python",
     "metadata": {},
     "outputs": [
      {
       "output_type": "stream",
       "stream": "stdout",
       "text": [
        "0.47 m^3\n"
       ]
      }
     ],
     "prompt_number": 49
    },
    {
     "cell_type": "markdown",
     "metadata": {},
     "source": [
      "We therefore need, to contain the volume of helium needed to inflate the balloon, approximately"
     ]
    },
    {
     "cell_type": "code",
     "collapsed": false,
     "input": [
      "print 0.47 / 43e-3\n",
      "number_canisters = int(0.47 / 43e-3) + 1 \n",
      "print \"%i canisters\" % (number_canisters)"
     ],
     "language": "python",
     "metadata": {},
     "outputs": [
      {
       "output_type": "stream",
       "stream": "stdout",
       "text": [
        "10.9302325581\n",
        "11 canisters\n"
       ]
      }
     ],
     "prompt_number": 52
    },
    {
     "cell_type": "markdown",
     "metadata": {},
     "source": [
      "This leads to an initial mass of:"
     ]
    },
    {
     "cell_type": "code",
     "collapsed": false,
     "input": [
      "initial_mass = final_mass + number_canisters * 49\n",
      "print '%.2f kg' % initial_mass"
     ],
     "language": "python",
     "metadata": {},
     "outputs": [
      {
       "output_type": "stream",
       "stream": "stdout",
       "text": [
        "622.27 kg\n"
       ]
      }
     ],
     "prompt_number": 53
    },
    {
     "cell_type": "markdown",
     "metadata": {},
     "source": [
      "The next step in our problem solving is to determine the discharge time for the gas canisters. We will use the formula provided in the blog post:\n",
      "$$\n",
      "t = (F^{(1-k)/2} - 1) \\frac{2}{k - 1} \\frac{V}{C \\; A} \\left( (\\frac{k \\; P_0}{\\rho_0})(\\frac{2}{k + 1})^{(k+1)/(k-1)} \\right)^{-1/2}\n",
      "$$ \n",
      "\n",
      "> where $F$ is the fraction of the gas remaining in the container, $k$ is the heat capacity ratio (1.667 for helium), $C$ is the discharge coefficient, $A$ is the cross-sectional area of the opening, $V$ is the volume of the container, $\\rho_0$ is the initial gas density, and $P_0$ is the initial pressure. \n",
      "The discharge coefficient is the ratio of the actual discharge to the theoretical discharge. For this example, we will assume the value is 0.72."
     ]
    },
    {
     "cell_type": "markdown",
     "metadata": {},
     "source": [
      "We can calculate the initial density by applying the ideal gas law:\n",
      "\n",
      "$$\n",
      "P \\; V = n \\; R \\; T\n",
      "$$\n",
      "\n",
      "Contrary to what is done in the blog post, I'd take the initial pressure to be equal to the service pressure of the canister, 156 bar. Thus the initial density would be calculated by dividing the mass of the Helium in one canister (one tenth of the final volume for which we know the density at sea level) by the volume of the canister:"
     ]
    },
    {
     "cell_type": "code",
     "collapsed": false,
     "input": [
      "canister_helium_density = helium_volume / number_canisters * rho_helium / 43e-3\n",
      "print '%.2f kg/m^3' % canister_helium_density"
     ],
     "language": "python",
     "metadata": {},
     "outputs": [
      {
       "output_type": "stream",
       "stream": "stdout",
       "text": [
        "28.05 kg/m^3\n"
       ]
      }
     ],
     "prompt_number": 54
    },
    {
     "cell_type": "markdown",
     "metadata": {},
     "source": [
      "This is consistent with my expectations in the sense that the density of the helium is a lot higher in the canister than in the balloon because it is compressed (which is the whole point of putting it in a canister).\n",
      "\n",
      "We can now calculate the time it takes to empty one canister (containing one tenth of the total helium volume needed) up to 90% with the formula."
     ]
    },
    {
     "cell_type": "code",
     "collapsed": false,
     "input": [
      "C = 0.72\n",
      "k = 1.667\n",
      "P_0 = 15.6e6 # Pa\n",
      "rho_0 = 28.23 # kg / m^3\n",
      "V = 43e-3 # m^3\n",
      "A = 3.141e-6 # m^2"
     ],
     "language": "python",
     "metadata": {},
     "outputs": [],
     "prompt_number": 81
    },
    {
     "cell_type": "code",
     "collapsed": false,
     "input": [
      "def time_to_empty(F, P_0, rho_0, V, A):\n",
      "    return (F ** ((1-k)/2.) - 1) * (2/(k-1)) * V / C / A * 1/sqrt((k * P_0 / rho_0) * (2 / (k + 1)) ** ((k + 1) / (k - 1)))"
     ],
     "language": "python",
     "metadata": {},
     "outputs": [],
     "prompt_number": 82
    },
    {
     "cell_type": "code",
     "collapsed": false,
     "input": [
      "time_to_empty(0.1, P_0, rho_0, V, A) "
     ],
     "language": "python",
     "metadata": {},
     "outputs": [
      {
       "metadata": {},
       "output_type": "pyout",
       "prompt_number": 83,
       "text": [
        "122.00291882678938"
       ]
      }
     ],
     "prompt_number": 83
    },
    {
     "cell_type": "code",
     "collapsed": false,
     "input": [
      "fractions = arange(0, 1, 0.01)\n",
      "t = map(lambda s: time_to_empty(s, P_0, rho_0, V, A), fractions)"
     ],
     "language": "python",
     "metadata": {},
     "outputs": [],
     "prompt_number": 84
    },
    {
     "cell_type": "code",
     "collapsed": false,
     "input": [
      "plot(fractions, t)\n",
      "xlabel('fraction of gas remaining in the container')\n",
      "ylabel('time needed to empty container')\n",
      "grid(True)"
     ],
     "language": "python",
     "metadata": {},
     "outputs": [
      {
       "metadata": {},
       "output_type": "display_data",
       "png": "[encoded data removed]",
       "text": [
        "<matplotlib.figure.Figure at 0x7145290>"
       ]
      }
     ],
     "prompt_number": 86
    },
    {
     "cell_type": "markdown",
     "metadata": {},
     "source": [
      "If we increase the nozzle width as suggested by the blog post by a factor of 5, we manage to empty one canister in:"
     ]
    },
    {
     "cell_type": "code",
     "collapsed": false,
     "input": [
      "one_canister_empty_time = time_to_empty(0.1, P_0, rho_0, V, A * 25) \n",
      "print '%.2f s' % one_canister_empty_time"
     ],
     "language": "python",
     "metadata": {},
     "outputs": [
      {
       "output_type": "stream",
       "stream": "stdout",
       "text": [
        "4.88 s\n"
       ]
      }
     ],
     "prompt_number": 89
    },
    {
     "cell_type": "markdown",
     "metadata": {},
     "source": [
      "This is indeed an improvement, as the total emptying time now becomes"
     ]
    },
    {
     "cell_type": "code",
     "collapsed": false,
     "input": [
      "print '%.2f s' % (number_canisters * one_canister_empty_time)"
     ],
     "language": "python",
     "metadata": {},
     "outputs": [
      {
       "output_type": "stream",
       "stream": "stdout",
       "text": [
        "53.68 s\n"
       ]
      }
     ],
     "prompt_number": 90
    },
    {
     "cell_type": "code",
     "collapsed": false,
     "input": [],
     "language": "python",
     "metadata": {},
     "outputs": []
    }
   ],
   "metadata": {}
  }
 ]
}