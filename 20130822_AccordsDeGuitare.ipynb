{
 "cells": [
  {
   "cell_type": "code",
   "execution_count": 1,
   "metadata": {
    "collapsed": false
   },
   "outputs": [],
   "source": [
    "%matplotlib inline\n",
    "from pylab import *"
   ]
  },
  {
   "cell_type": "markdown",
   "metadata": {},
   "source": [
    "# Construction du manche"
   ]
  },
  {
   "cell_type": "markdown",
   "metadata": {},
   "source": [
    "On code les notes de la manière suivante : un chiffre entre 0 (C) et 11 (B)."
   ]
  },
  {
   "cell_type": "code",
   "execution_count": 2,
   "metadata": {
    "collapsed": false
   },
   "outputs": [],
   "source": [
    "def note2int(note):\n",
    "    \"\"\" returns int associated with a given note\"\"\"\n",
    "    notes = ['C', 'C#', 'D', 'D#', 'E', 'F', 'F#', 'G', 'G#', 'A', 'A#', 'B']\n",
    "    ints = range(12)\n",
    "    return dict(zip(notes, ints))[note]"
   ]
  },
  {
   "cell_type": "code",
   "execution_count": 3,
   "metadata": {
    "collapsed": false
   },
   "outputs": [
    {
     "data": {
      "text/plain": [
       "2"
      ]
     },
     "execution_count": 3,
     "metadata": {},
     "output_type": "execute_result"
    }
   ],
   "source": [
    "note2int('D')"
   ]
  },
  {
   "cell_type": "code",
   "execution_count": 4,
   "metadata": {
    "collapsed": false
   },
   "outputs": [],
   "source": [
    "def int2note(integer):\n",
    "    \"\"\" returns note associated to a given int\"\"\"\n",
    "    notes = ['C', 'C#', 'D', 'D#', 'E', 'F', 'F#', 'G', 'G#', 'A', 'A#', 'B']\n",
    "    ints = range(12)\n",
    "    return dict(zip(ints, notes))[integer]"
   ]
  },
  {
   "cell_type": "code",
   "execution_count": 5,
   "metadata": {
    "collapsed": false
   },
   "outputs": [
    {
     "data": {
      "text/plain": [
       "'E'"
      ]
     },
     "execution_count": 5,
     "metadata": {},
     "output_type": "execute_result"
    }
   ],
   "source": [
    "int2note(4)"
   ]
  },
  {
   "cell_type": "markdown",
   "metadata": {},
   "source": [
    "On peut construire les cordes de la guitare en empilant des lignes qui correspondent à chaque corde, alors que les colonnes de la matrice correspondent aux cases."
   ]
  },
  {
   "cell_type": "code",
   "execution_count": 6,
   "metadata": {
    "collapsed": false
   },
   "outputs": [],
   "source": [
    "guitar = vstack((((arange(12) + 4) % 12), # mi aigu\n",
    "                 ((arange(12) + 11) % 12),\n",
    "                 ((arange(12) + 7) % 12),\n",
    "                 ((arange(12) + 2) % 12),\n",
    "                 ((arange(12) + 9) % 12),\n",
    "                 ((arange(12) + 4) % 12)))"
   ]
  },
  {
   "cell_type": "code",
   "execution_count": 7,
   "metadata": {
    "collapsed": false
   },
   "outputs": [
    {
     "data": {
      "text/plain": [
       "['E', 'B', 'G', 'D', 'A', 'E']"
      ]
     },
     "execution_count": 7,
     "metadata": {},
     "output_type": "execute_result"
    }
   ],
   "source": [
    "[int2note(guitar[i, 0]) for i in range(6)]"
   ]
  },
  {
   "cell_type": "markdown",
   "metadata": {},
   "source": [
    "Par comparaison booléenne, on peut n'afficher que certains notes."
   ]
  },
  {
   "cell_type": "code",
   "execution_count": 8,
   "metadata": {
    "collapsed": false
   },
   "outputs": [
    {
     "data": {
      "text/plain": [
       "<matplotlib.image.AxesImage at 0x106829668>"
      ]
     },
     "execution_count": 8,
     "metadata": {},
     "output_type": "execute_result"
    },
    {
     "data": {
      "image/png": "[encoded data removed]",
      "text/plain": [
       "<matplotlib.figure.Figure at 0x10671fef0>"
      ]
     },
     "metadata": {},
     "output_type": "display_data"
    }
   ],
   "source": [
    "figure(figsize=(15, 6))\n",
    "imshow(guitar == note2int('C'), interpolation = 'nearest', aspect=.5)"
   ]
  },
  {
   "cell_type": "markdown",
   "metadata": {},
   "source": [
    "On peut étendre ce principe à plusieurs notes."
   ]
  },
  {
   "cell_type": "code",
   "execution_count": 9,
   "metadata": {
    "collapsed": false
   },
   "outputs": [],
   "source": [
    "def guitar_with_notes(notes):\n",
    "    guitar_with_notes = zeros(guitar.shape, dtype=bool8)\n",
    "    for note in notes:\n",
    "        guitar_with_notes += (guitar == note2int(note))\n",
    "    return guitar_with_notes"
   ]
  },
  {
   "cell_type": "code",
   "execution_count": 10,
   "metadata": {
    "collapsed": false
   },
   "outputs": [
    {
     "data": {
      "text/plain": [
       "<matplotlib.image.AxesImage at 0x106b52ef0>"
      ]
     },
     "execution_count": 10,
     "metadata": {},
     "output_type": "execute_result"
    },
    {
     "data": {
      "image/png": "[encoded data removed]",
      "text/plain": [
       "<matplotlib.figure.Figure at 0x1067ff208>"
      ]
     },
     "metadata": {},
     "output_type": "display_data"
    }
   ],
   "source": [
    "figure(figsize=(15, 6))\n",
    "imshow(guitar_with_notes(['C', 'D']), interpolation = 'nearest', aspect=.5)"
   ]
  },
  {
   "cell_type": "markdown",
   "metadata": {},
   "source": [
    "Finalement, on peut afficher un accord de A mineur 7 b5, les notes étant : [A, C, Eb==D#, G]"
   ]
  },
  {
   "cell_type": "code",
   "execution_count": 11,
   "metadata": {
    "collapsed": false
   },
   "outputs": [
    {
     "data": {
      "text/plain": [
       "<matplotlib.image.AxesImage at 0x106d32d68>"
      ]
     },
     "execution_count": 11,
     "metadata": {},
     "output_type": "execute_result"
    },
    {
     "data": {
      "image/png": "[encoded data removed]",
      "text/plain": [
       "<matplotlib.figure.Figure at 0x106b78518>"
      ]
     },
     "metadata": {},
     "output_type": "display_data"
    }
   ],
   "source": [
    "figure(figsize=(15, 6))\n",
    "imshow(guitar_with_notes(['A', 'C', 'D#', 'G']), interpolation = 'nearest', aspect=.5)"
   ]
  },
  {
   "cell_type": "markdown",
   "metadata": {},
   "source": [
    "Voir même avec des couleurs."
   ]
  },
  {
   "cell_type": "code",
   "execution_count": 12,
   "metadata": {
    "collapsed": false
   },
   "outputs": [
    {
     "data": {
      "image/png": "[encoded data removed]",
      "text/plain": [
       "<matplotlib.figure.Figure at 0x106d0b240>"
      ]
     },
     "metadata": {},
     "output_type": "display_data"
    }
   ],
   "source": [
    "figure(figsize=(15, 6))\n",
    "imshow(guitar_with_notes(['A', 'C', 'D#', 'G']) * (guitar + 1), interpolation = 'nearest', aspect=.5, cmap=cm.Accent)\n",
    "cbar = colorbar(shrink=0.4)"
   ]
  },
  {
   "cell_type": "markdown",
   "metadata": {},
   "source": [
    "Enfin, nous pouvons également expérimenter avec le dessin des cordes individuelles."
   ]
  },
  {
   "cell_type": "code",
   "execution_count": 13,
   "metadata": {
    "collapsed": false
   },
   "outputs": [
    {
     "data": {
      "image/png": "[encoded data removed]",
      "text/plain": [
       "<matplotlib.figure.Figure at 0x106d73cc0>"
      ]
     },
     "metadata": {},
     "output_type": "display_data"
    }
   ],
   "source": [
    "figure(figsize=(15, 6))\n",
    "def plot_neck():\n",
    "    scale = 0.15\n",
    "    delta = 0.05\n",
    "    # lignes horizontales\n",
    "    for i in range(7):\n",
    "        plot([0, 1], array([i, i]) / 6. * scale, 'black')\n",
    "    # lignes verticales\n",
    "    for i in range(13):\n",
    "        plot(array([1, 1]) * i/12., [scale, 0], 'black')\n",
    "    \n",
    "    xlim(-delta, 1 + delta)\n",
    "    ylim(-delta, scale + delta)\n",
    "\n",
    "plot_neck()"
   ]
  },
  {
   "cell_type": "code",
   "execution_count": 14,
   "metadata": {
    "collapsed": false
   },
   "outputs": [
    {
     "data": {
      "image/png": "[encoded data removed]",
      "text/plain": [
       "<matplotlib.figure.Figure at 0x107075ef0>"
      ]
     },
     "metadata": {},
     "output_type": "display_data"
    }
   ],
   "source": [
    "def plot_notes(notes):\n",
    "    guitar_neck = guitar_with_notes(notes)\n",
    "    for i in range(6):\n",
    "        for j in range(12):\n",
    "            if guitar_neck[i, j] == True:\n",
    "                plot([(j + 0.5) / 12.], [i], 'bo')\n",
    "\n",
    "plot_notes(['C'])"
   ]
  },
  {
   "cell_type": "markdown",
   "metadata": {},
   "source": [
    "## Putting it all together"
   ]
  },
  {
   "cell_type": "code",
   "execution_count": 15,
   "metadata": {
    "collapsed": false
   },
   "outputs": [],
   "source": [
    "class guitar_plotter(object):\n",
    "    def __init__(self, scale=0.3, delta=0.1):\n",
    "        self.scale = scale\n",
    "        self.delta = delta\n",
    "    \n",
    "    def plot_neck(self):\n",
    "        for i in range(6):\n",
    "            plot([0, 1], array([i, i]) / 5. * self.scale, 'black')\n",
    "\n",
    "        for i in range(13):\n",
    "            \n",
    "            line = plot(array([1, 1]) * i/12., [self.scale, 0], 'black')\n",
    "            if i == 0 or i == 12:\n",
    "                setp(line, linewidth=4.0)\n",
    "            \n",
    "        xlim(-self.delta, 1 + self.delta)\n",
    "        ylim(-self.delta, self.scale + self.delta)\n",
    "        \n",
    "    def plot_notes(self, notes, labels=[]):\n",
    "        guitar_neck = guitar_with_notes(notes)\n",
    "        for i in range(6):\n",
    "            for j in range(12):\n",
    "                if guitar_neck[i, j] == True:\n",
    "                    plot([(j - 0.5) / 12.], [(5 - i) / 5. * self.scale], 'bo')\n",
    "                    if labels != []:\n",
    "                        text = dict(zip(notes, labels))[int2note(guitar[i, j])]\n",
    "                    else:\n",
    "                        text = int2note(guitar[i, j])\n",
    "                    annotate(text, ((j - 0.5) / 12., (5 - i + 0.15) / 5. * self.scale))\n",
    "\n",
    "    def plot_neck_and_notes(self, notes, labels=[]):\n",
    "        self.plot_neck()\n",
    "        self.plot_notes(notes, labels)\n",
    "        gca().set_axis_off()"
   ]
  },
  {
   "cell_type": "code",
   "execution_count": 16,
   "metadata": {
    "collapsed": false
   },
   "outputs": [
    {
     "data": {
      "image/png": "[encoded data removed]",
      "text/plain": [
       "<matplotlib.figure.Figure at 0x106b7b6d8>"
      ]
     },
     "metadata": {},
     "output_type": "display_data"
    }
   ],
   "source": [
    "figure(figsize=(15, 4))\n",
    "gp = guitar_plotter()\n",
    "gp.plot_neck_and_notes(['C', 'E', 'G'], ['1', '3', '5'])\n"
   ]
  },
  {
   "cell_type": "markdown",
   "metadata": {},
   "source": [
    "# Application aux accords de la gamme majeure"
   ]
  },
  {
   "cell_type": "markdown",
   "metadata": {},
   "source": [
    "## Majeur 7"
   ]
  },
  {
   "cell_type": "code",
   "execution_count": 17,
   "metadata": {
    "collapsed": false
   },
   "outputs": [
    {
     "data": {
      "image/png": "[encoded data removed]",
      "text/plain": [
       "<matplotlib.figure.Figure at 0x1070a4710>"
      ]
     },
     "metadata": {},
     "output_type": "display_data"
    }
   ],
   "source": [
    "figure(figsize=(15, 4))\n",
    "gp = guitar_plotter()\n",
    "gp.plot_neck_and_notes(['C', 'E', 'G', 'B'], ['1', '3', '5', '7'])"
   ]
  },
  {
   "cell_type": "markdown",
   "metadata": {},
   "source": [
    "## Mineur 7"
   ]
  },
  {
   "cell_type": "code",
   "execution_count": 18,
   "metadata": {
    "collapsed": false
   },
   "outputs": [
    {
     "data": {
      "image/png": "[encoded data removed]",
      "text/plain": [
       "<matplotlib.figure.Figure at 0x1073f8c50>"
      ]
     },
     "metadata": {},
     "output_type": "display_data"
    }
   ],
   "source": [
    "figure(figsize=(15, 4))\n",
    "gp = guitar_plotter()\n",
    "gp.plot_neck_and_notes(['D', 'F', 'A', 'C'], ['1', 'b3', '5', 'b7'])"
   ]
  },
  {
   "cell_type": "markdown",
   "metadata": {},
   "source": [
    "# Accord de dominante"
   ]
  },
  {
   "cell_type": "code",
   "execution_count": 19,
   "metadata": {
    "collapsed": false
   },
   "outputs": [
    {
     "data": {
      "image/png": "[encoded data removed]",
      "text/plain": [
       "<matplotlib.figure.Figure at 0x1077616a0>"
      ]
     },
     "metadata": {},
     "output_type": "display_data"
    }
   ],
   "source": [
    "figure(figsize=(15, 4))\n",
    "gp = guitar_plotter()\n",
    "gp.plot_neck_and_notes(['G', 'B', 'D', 'F'], ['1', '3', '5', 'b7'])"
   ]
  },
  {
   "cell_type": "markdown",
   "metadata": {},
   "source": [
    "## Accord mineur 7 quinte bémol"
   ]
  },
  {
   "cell_type": "code",
   "execution_count": 20,
   "metadata": {
    "collapsed": false
   },
   "outputs": [
    {
     "data": {
      "image/png": "[encoded data removed]",
      "text/plain": [
       "<matplotlib.figure.Figure at 0x107c37a90>"
      ]
     },
     "metadata": {},
     "output_type": "display_data"
    }
   ],
   "source": [
    "figure(figsize=(15, 4))\n",
    "gp = guitar_plotter()\n",
    "gp.plot_neck_and_notes(['B', 'D', 'F', 'A'], ['1', 'b3', 'b5', 'b7'])"
   ]
  },
  {
   "cell_type": "markdown",
   "metadata": {},
   "source": [
    "# Accord mineur -> accord sus 2 (1789)"
   ]
  },
  {
   "cell_type": "code",
   "execution_count": 21,
   "metadata": {
    "collapsed": false
   },
   "outputs": [
    {
     "data": {
      "image/png": "[encoded data removed]",
      "text/plain": [
       "<matplotlib.figure.Figure at 0x10806ebe0>"
      ]
     },
     "metadata": {},
     "output_type": "display_data"
    }
   ],
   "source": [
    "figure(figsize=(15, 4))\n",
    "gp = guitar_plotter()\n",
    "gp.plot_neck_and_notes(['A', 'B', 'C', 'E'], ['1', '2', 'b3', '5'])"
   ]
  },
  {
   "cell_type": "markdown",
   "metadata": {},
   "source": [
    "Au vu du diagramme ci-dessus, il me semble que la meilleure position pour jouer l'accord mineur vers suspendu soit celle avec la tonique sur la corde de La, en barré."
   ]
  },
  {
   "cell_type": "markdown",
   "metadata": {},
   "source": [
    "# Diagramme interactif"
   ]
  },
  {
   "cell_type": "code",
   "execution_count": 22,
   "metadata": {
    "collapsed": false
   },
   "outputs": [
    {
     "name": "stderr",
     "output_type": "stream",
     "text": [
      ":0: FutureWarning: IPython widgets are experimental and may change in the future.\n"
     ]
    }
   ],
   "source": [
    "from IPython.html.widgets import interact"
   ]
  },
  {
   "cell_type": "code",
   "execution_count": 23,
   "metadata": {
    "collapsed": false
   },
   "outputs": [],
   "source": [
    "def show_notes(notes):\n",
    "    notes = notes.split(',')\n",
    "    gp = guitar_plotter()\n",
    "    gp.plot_neck_and_notes(notes, notes)"
   ]
  },
  {
   "cell_type": "code",
   "execution_count": 24,
   "metadata": {
    "collapsed": false
   },
   "outputs": [
    {
     "data": {
      "image/png": "[encoded data removed]",
      "text/plain": [
       "<matplotlib.figure.Figure at 0x1081e60b8>"
      ]
     },
     "metadata": {},
     "output_type": "display_data"
    }
   ],
   "source": [
    "interact(show_notes,\n",
    "         notes=\"\")"
   ]
  },
  {
   "cell_type": "code",
   "execution_count": null,
   "metadata": {
    "collapsed": false
   },
   "outputs": [],
   "source": [
    "\"A,\".split(',')"
   ]
  },
  {
   "cell_type": "code",
   "execution_count": null,
   "metadata": {
    "collapsed": false
   },
   "outputs": [],
   "source": []
  }
 ],
 "metadata": {
  "kernelspec": {
   "display_name": "Python 3",
   "language": "python",
   "name": "python3"
  },
  "language_info": {
   "codemirror_mode": {
    "name": "ipython",
    "version": 3
   },
   "file_extension": ".py",
   "mimetype": "text/x-python",
   "name": "python",
   "nbconvert_exporter": "python",
   "pygments_lexer": "ipython3",
   "version": "3.4.3"
  }
 },
 "nbformat": 4,
 "nbformat_minor": 0
}
