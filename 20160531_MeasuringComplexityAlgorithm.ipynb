{
 "cells": [
  {
   "cell_type": "markdown",
   "metadata": {},
   "source": [
    "A common question in computer science is to measure the [computational complexity of algorithms](https://en.wikipedia.org/wiki/Computational_complexity_theory). I've recently taken a programming test where the two aspects of programming that were measured as part of the test were **correctness** and **speed**, as each programming task had an assigned target complexity ($\\mathcal{O}(n\\log{}n)$ or $\\mathcal{O}(n)$ for example).\n",
    "\n",
    "This is obviously a very important topic, for instance when working on scaling a particular algorithm for a size of data. Usually, the algorithm itself can be analyzed to determine its complexity. For instance, if your input is an array and you're looping over all elements, then this will have a $\\mathcal{O}(n)$ complexity, where $n$ is the size of the array. If you're doing two nested loops, then the complexity is $\\mathcal{O}(n^2)$. \n",
    "\n",
    "But it's not always possible to actually be sure of the complexity before you write the algorithm. For instance when you use built-in functions for which the complexity is not straightforward. A simpler alternative is then to measure the timings of your function as a function of the input array size. I like this practical benchmarking idea, which we will demonstrate on three implementations that compute the [Fibonacci numbers](https://en.wikipedia.org/wiki/Fibonacci_number). "
   ]
  },
  {
   "cell_type": "markdown",
   "metadata": {},
   "source": [
    "# First implementation: recursion "
   ]
  },
  {
   "cell_type": "markdown",
   "metadata": {},
   "source": [
    "The first implementation I'd like to use if the recursive one:"
   ]
  },
  {
   "cell_type": "code",
   "execution_count": 1,
   "metadata": {
    "collapsed": false
   },
   "outputs": [],
   "source": [
    "def fib_rec(n):\n",
    "    \"Computes Fibonacci number recursively.\"\n",
    "    if n == 0: \n",
    "        return 0\n",
    "    elif n == 1: \n",
    "        return 1\n",
    "    else:\n",
    "        return fib_rec(n-1) + fib_rec(n-2)"
   ]
  },
  {
   "cell_type": "markdown",
   "metadata": {},
   "source": [
    "Let's test this:"
   ]
  },
  {
   "cell_type": "code",
   "execution_count": 2,
   "metadata": {
    "collapsed": false
   },
   "outputs": [
    {
     "data": {
      "text/plain": [
       "[0, 1, 1, 2, 3, 5, 8, 13, 21, 34]"
      ]
     },
     "execution_count": 2,
     "metadata": {},
     "output_type": "execute_result"
    }
   ],
   "source": [
    "[fib_rec(i) for i in range(10)]"
   ]
  },
  {
   "cell_type": "markdown",
   "metadata": {},
   "source": [
    "# Second implementation: loop style "
   ]
  },
  {
   "cell_type": "markdown",
   "metadata": {},
   "source": [
    "The second one is a loop style implementation:"
   ]
  },
  {
   "cell_type": "code",
   "execution_count": 3,
   "metadata": {
    "collapsed": true
   },
   "outputs": [],
   "source": [
    "def fib_loop(n):\n",
    "    \"Computes Fibonacci number by iterating over all elements.\"\n",
    "    if n == 0: \n",
    "        return 0\n",
    "    elif n == 1: \n",
    "        return 1\n",
    "    else: \n",
    "        a, b = 0, 1\n",
    "        for i in range(n - 1):\n",
    "            a, b = b, a + b\n",
    "        return b"
   ]
  },
  {
   "cell_type": "code",
   "execution_count": 4,
   "metadata": {
    "collapsed": false
   },
   "outputs": [
    {
     "data": {
      "text/plain": [
       "[0, 1, 1, 2, 3, 5, 8, 13, 21, 34]"
      ]
     },
     "execution_count": 4,
     "metadata": {},
     "output_type": "execute_result"
    }
   ],
   "source": [
    "[fib_loop(i) for i in range(10)]"
   ]
  },
  {
   "cell_type": "markdown",
   "metadata": {},
   "source": [
    "# Third implementation: log time "
   ]
  },
  {
   "cell_type": "markdown",
   "metadata": {},
   "source": [
    "The last implementation makes use of the fact that the Fibonacci numbers can be computed a [matrix multiplication in log time](http://kukuruku.co/hub/algorithms/the-nth-fibonacci-number-in-olog-n). The idea here is to decompose the number $n$ in powers of two to yield a speedup.\n",
    "\n",
    "It is based on the following things:\n",
    "\n",
    "- decompose $n$ in a sum of powers of 2\n",
    "- compute the $Q$ matrix exponents up to the highest power of two needed\n",
    "- assemble the result\n",
    "\n",
    "Let's look at this in a step by step process. First, let's decompose any number in powers of 2. We use a simple iterative algorithm:"
   ]
  },
  {
   "cell_type": "code",
   "execution_count": 5,
   "metadata": {
    "collapsed": true
   },
   "outputs": [],
   "source": [
    "from math import log2\n",
    "\n",
    "def powers_of_two(n):\n",
    "    \"Returns a list of the powers of 2 that sum to equal n.\"\n",
    "    powers = []\n",
    "    remainder = n\n",
    "    while remainder != 0:\n",
    "        powers.append(int(log2(remainder)))\n",
    "        remainder -= 2 ** powers[-1]\n",
    "    return powers"
   ]
  },
  {
   "cell_type": "code",
   "execution_count": 6,
   "metadata": {
    "collapsed": false
   },
   "outputs": [
    {
     "data": {
      "text/plain": [
       "[(1, [0]),\n",
       " (2, [1]),\n",
       " (3, [1, 0]),\n",
       " (4, [2]),\n",
       " (5, [2, 0]),\n",
       " (6, [2, 1]),\n",
       " (7, [2, 1, 0]),\n",
       " (8, [3]),\n",
       " (9, [3, 0])]"
      ]
     },
     "execution_count": 6,
     "metadata": {},
     "output_type": "execute_result"
    }
   ],
   "source": [
    "[(i, powers_of_two(i)) for i in range(1, 10)]"
   ]
  },
  {
   "cell_type": "markdown",
   "metadata": {},
   "source": [
    "The second step is to compute the matrices needed for rapid multiplication. We will store each 2x2 matrix as a tuple. We also need to define a matrix multiplication operation:"
   ]
  },
  {
   "cell_type": "code",
   "execution_count": 7,
   "metadata": {
    "collapsed": true
   },
   "outputs": [],
   "source": [
    "def precompute_matrix(max_power):\n",
    "    \"Precomputes matrix until highest power of 2 needed.\"\n",
    "    matrix_powers = {}\n",
    "    matrix_powers[0] = (1, 1, 1, 0)\n",
    "    for i in range(1, max_power + 1):\n",
    "        matrix_powers[i] = matrix_mult(matrix_powers[i-1], matrix_powers[i-1])\n",
    "    return matrix_powers\n",
    "\n",
    "def matrix_mult(mat1, mat2):\n",
    "    \"Multiplication of 2x2 matrices.\"\n",
    "    a, b, c, d = mat1\n",
    "    e, f, g, h = mat2\n",
    "    return (a*e + b*g, \n",
    "            a*f + b*h,\n",
    "            c*e + d*g,\n",
    "            c*f + d*h)"
   ]
  },
  {
   "cell_type": "markdown",
   "metadata": {},
   "source": [
    "Let's check that the results are correct for the first few powers:"
   ]
  },
  {
   "cell_type": "code",
   "execution_count": 8,
   "metadata": {
    "collapsed": false
   },
   "outputs": [
    {
     "data": {
      "text/plain": [
       "{0: (1, 1, 1, 0),\n",
       " 1: (2, 1, 1, 1),\n",
       " 2: (5, 3, 3, 2),\n",
       " 3: (34, 21, 21, 13),\n",
       " 4: (1597, 987, 987, 610)}"
      ]
     },
     "execution_count": 8,
     "metadata": {},
     "output_type": "execute_result"
    }
   ],
   "source": [
    "precompute_matrix(4)"
   ]
  },
  {
   "cell_type": "code",
   "execution_count": 9,
   "metadata": {
    "collapsed": true
   },
   "outputs": [],
   "source": [
    "import numpy as np\n",
    "from numpy.linalg import matrix_power"
   ]
  },
  {
   "cell_type": "code",
   "execution_count": 10,
   "metadata": {
    "collapsed": false
   },
   "outputs": [
    {
     "data": {
      "text/plain": [
       "array([[2, 1],\n",
       "       [1, 1]])"
      ]
     },
     "execution_count": 10,
     "metadata": {},
     "output_type": "execute_result"
    }
   ],
   "source": [
    "matrix_power(np.array([[1, 1], [1, 0]]), 2)"
   ]
  },
  {
   "cell_type": "code",
   "execution_count": 11,
   "metadata": {
    "collapsed": false
   },
   "outputs": [
    {
     "data": {
      "text/plain": [
       "array([[5, 3],\n",
       "       [3, 2]])"
      ]
     },
     "execution_count": 11,
     "metadata": {},
     "output_type": "execute_result"
    }
   ],
   "source": [
    "matrix_power(np.array([[1, 1], [1, 0]]), 4)"
   ]
  },
  {
   "cell_type": "code",
   "execution_count": 12,
   "metadata": {
    "collapsed": false
   },
   "outputs": [
    {
     "data": {
      "text/plain": [
       "array([[34, 21],\n",
       "       [21, 13]])"
      ]
     },
     "execution_count": 12,
     "metadata": {},
     "output_type": "execute_result"
    }
   ],
   "source": [
    "matrix_power(np.array([[1, 1], [1, 0]]), 8)"
   ]
  },
  {
   "cell_type": "code",
   "execution_count": 13,
   "metadata": {
    "collapsed": false
   },
   "outputs": [
    {
     "data": {
      "text/plain": [
       "array([[1597,  987],\n",
       "       [ 987,  610]])"
      ]
     },
     "execution_count": 13,
     "metadata": {},
     "output_type": "execute_result"
    }
   ],
   "source": [
    "matrix_power(np.array([[1, 1], [1, 0]]), 16)"
   ]
  },
  {
   "cell_type": "markdown",
   "metadata": {},
   "source": [
    "This seems good, so we can now assemble the final parts of our log fibonacci function:"
   ]
  },
  {
   "cell_type": "code",
   "execution_count": 14,
   "metadata": {
    "collapsed": true
   },
   "outputs": [],
   "source": [
    "from math import sqrt\n",
    "\n",
    "def fib_log(n):\n",
    "    \"Computes Fibonacci number in logarithmic time.\"\n",
    "    if n == 0: return 0\n",
    "    terms = powers_of_two(n)\n",
    "    matrix_terms = precompute_matrix(max(terms))\n",
    "    result = (1, 0, 0, 1)\n",
    "    for term in terms:\n",
    "        result = matrix_mult(result, matrix_terms[term])\n",
    "    return result[1]"
   ]
  },
  {
   "cell_type": "code",
   "execution_count": 15,
   "metadata": {
    "collapsed": false
   },
   "outputs": [
    {
     "data": {
      "text/plain": [
       "[0, 1, 1, 2, 3, 5, 8, 13, 21, 34]"
      ]
     },
     "execution_count": 15,
     "metadata": {},
     "output_type": "execute_result"
    }
   ],
   "source": [
    "[fib_log(i) for i in range(10)]"
   ]
  },
  {
   "cell_type": "markdown",
   "metadata": {},
   "source": [
    "# Measuring timings"
   ]
  },
  {
   "cell_type": "markdown",
   "metadata": {},
   "source": [
    "At this point, one can wonder: what is the complexity of these three implementations? Except for the loop one, which is linear, it's not easy to tell right away. That's why, I suggest, we just measure this."
   ]
  },
  {
   "cell_type": "markdown",
   "metadata": {},
   "source": [
    "Measuring is quite easy, in fact. Let's just create a timing function, that accepts a function as an argument and a number."
   ]
  },
  {
   "cell_type": "code",
   "execution_count": 16,
   "metadata": {
    "collapsed": true
   },
   "outputs": [],
   "source": [
    "import time\n",
    "\n",
    "def time_func(func, *arg):\n",
    "    \"Times the execution of a function. Result is in seconds.\"\n",
    "    tic = time.clock()\n",
    "    func(*arg)\n",
    "    toc = time.clock()\n",
    "    return toc - tic"
   ]
  },
  {
   "cell_type": "markdown",
   "metadata": {},
   "source": [
    "Let's see if it works:"
   ]
  },
  {
   "cell_type": "code",
   "execution_count": 17,
   "metadata": {
    "collapsed": false
   },
   "outputs": [
    {
     "data": {
      "text/plain": [
       "1.2619419745651634"
      ]
     },
     "execution_count": 17,
     "metadata": {},
     "output_type": "execute_result"
    }
   ],
   "source": [
    "time_func(fib_rec, 32)"
   ]
  },
  {
   "cell_type": "code",
   "execution_count": 18,
   "metadata": {
    "collapsed": false
   },
   "outputs": [
    {
     "data": {
      "text/plain": [
       "0.4757292146374297"
      ]
     },
     "execution_count": 18,
     "metadata": {},
     "output_type": "execute_result"
    }
   ],
   "source": [
    "time_func(fib_loop, 200000)"
   ]
  },
  {
   "cell_type": "code",
   "execution_count": 19,
   "metadata": {
    "collapsed": false
   },
   "outputs": [
    {
     "data": {
      "text/plain": [
       "0.47338340004959445"
      ]
     },
     "execution_count": 19,
     "metadata": {},
     "output_type": "execute_result"
    }
   ],
   "source": [
    "time_func(fib_log, 1000000)"
   ]
  },
  {
   "cell_type": "markdown",
   "metadata": {},
   "source": [
    "# Comparison of the three implementations using a plot "
   ]
  },
  {
   "cell_type": "markdown",
   "metadata": {},
   "source": [
    "With this tool, we can devise a test case for which we can compare all three implementations."
   ]
  },
  {
   "cell_type": "code",
   "execution_count": 20,
   "metadata": {
    "collapsed": true
   },
   "outputs": [],
   "source": [
    "test_case_rec = [2, 4, 8, 16, 24, 26, 28, 30, 32]\n",
    "test_case_loop = [10, 100, 200, 300, 500, 1000, 2000, 5000, 10000, 20000, 50000, 75000, 100000]\n",
    "test_case_power = [10, 100, 200, 300, 500, 1000]"
   ]
  },
  {
   "cell_type": "markdown",
   "metadata": {},
   "source": [
    "We use different test cases for each algorithm as will become clear in a second."
   ]
  },
  {
   "cell_type": "code",
   "execution_count": 21,
   "metadata": {
    "collapsed": true
   },
   "outputs": [],
   "source": [
    "import matplotlib.pyplot as plt\n",
    "plt.style.use('bmh')\n",
    "%matplotlib inline"
   ]
  },
  {
   "cell_type": "code",
   "execution_count": 22,
   "metadata": {
    "collapsed": false
   },
   "outputs": [
    {
     "data": {
      "image/png": "[encoded data removed]",
      "text/plain": [
       "<matplotlib.figure.Figure at 0x7738ba8>"
      ]
     },
     "metadata": {},
     "output_type": "display_data"
    }
   ],
   "source": [
    "plt.figure(figsize=(10, 4))\n",
    "for ind, func, tc in zip(range(1, 4), \n",
    "                        [fib_rec, fib_loop, fib_log],\n",
    "                        [test_case_rec, test_case_loop, test_case_loop]):\n",
    "    timings = [time_func(func, test) for test in tc]\n",
    "    plt.subplot(1, 3, ind)\n",
    "    plt.plot(tc, timings, '-o')\n",
    "    plt.xlabel('size of input (n)')\n",
    "    plt.ylabel('time (s)')\n",
    "    plt.title(\"{}\".format(func.__name__))\n",
    "plt.tight_layout()"
   ]
  },
  {
   "cell_type": "markdown",
   "metadata": {},
   "source": [
    "We can put that same plot on the same axis to see things more concretely:"
   ]
  },
  {
   "cell_type": "code",
   "execution_count": 31,
   "metadata": {
    "collapsed": false
   },
   "outputs": [
    {
     "data": {
      "text/plain": [
       "(-1000, 100000.0)"
      ]
     },
     "execution_count": 31,
     "metadata": {},
     "output_type": "execute_result"
    },
    {
     "data": {
      "image/png": "[encoded data removed]",
      "text/plain": [
       "<matplotlib.figure.Figure at 0x874af28>"
      ]
     },
     "metadata": {},
     "output_type": "display_data"
    }
   ],
   "source": [
    "plt.figure(figsize=(10, 10))\n",
    "for ind, func, tc in zip(range(1, 4), \n",
    "                        [fib_rec, fib_loop, fib_log],\n",
    "                        [test_case_rec, test_case_loop, test_case_loop]):\n",
    "    timings = [time_func(func, test) for test in tc]\n",
    "    plt.plot(tc, timings, '-o', label=\"{}\".format(func.__name__))\n",
    "    plt.xlabel('size of input (n)')\n",
    "    plt.ylabel('time (s)')\n",
    "plt.tight_layout()\n",
    "plt.legend()\n",
    "plt.ylim(-0.01, 0.4)\n",
    "plt.xlim(-1000, 1e5)"
   ]
  },
  {
   "cell_type": "markdown",
   "metadata": {},
   "source": [
    "What we see above is quite interesting:\n",
    "\n",
    "- the recursive implementation explodes so much it doesn't even show on the plot (effectively making any usage above n=32 unpractical)\n",
    "- the loop style scales better\n",
    "- the log time implementation fares even better than the loop style"
   ]
  },
  {
   "cell_type": "markdown",
   "metadata": {},
   "source": [
    "# Conclusions "
   ]
  },
  {
   "cell_type": "markdown",
   "metadata": {},
   "source": [
    "Time for some takeaways. As the last plot has shown, the log implementation is definitely the fastest. The recursive implementation, while true to the spirit of the \"sequence style definition\" of the Fibonacci numbers is **very** impractical. It turns out that a straightforward way of making it faster is to memoize it, as [this blog post shows in the context of dynamic programming](https://jeremykun.com/2012/01/12/a-spoonful-of-python/). Another thought is that the algorithm's complexity effectively makes it tractable for large cases or just don't. If all you can come up with is something like the recursive implementation, there's many problems that will not be tractable (I'm thinking in terms of [project Euler problems](https://projecteuler.net/) here). "
   ]
  },
  {
   "cell_type": "markdown",
   "metadata": {},
   "source": [
    "This post was entirely written using the IPython notebook. Its content is BSD-licensed. You can see a static view or download this notebook with the help of nbviewer at [20160531_MeasuringComplexityAlgorithm.ipynb](http://nbviewer.ipython.org/urls/raw.github.com/flothesof/posts/master/20160531_MeasuringComplexityAlgorithm.ipynb)."
   ]
  }
 ],
 "metadata": {
  "kernelspec": {
   "display_name": "Python 3",
   "language": "python",
   "name": "python3"
  },
  "language_info": {
   "codemirror_mode": {
    "name": "ipython",
    "version": 3
   },
   "file_extension": ".py",
   "mimetype": "text/x-python",
   "name": "python",
   "nbconvert_exporter": "python",
   "pygments_lexer": "ipython3",
   "version": "3.5.1"
  }
 },
 "nbformat": 4,
 "nbformat_minor": 0
}
