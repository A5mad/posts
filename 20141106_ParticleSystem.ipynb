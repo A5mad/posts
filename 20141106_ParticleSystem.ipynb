{
 "metadata": {
  "name": "",
  "signature": "sha256:aee7f9c01a1aef16fb46b204f3576245322d6e183fdf9dea875f4545e040be86"
 },
 "nbformat": 3,
 "nbformat_minor": 0,
 "worksheets": [
  {
   "cells": [
    {
     "cell_type": "markdown",
     "metadata": {},
     "source": [
      "In this post, we will simulate a two-dimensional particle system in Python. This sort of simulation can be used to describe the movement of planets, gas particles or people. \n",
      "\n",
      "This post is structured as follows: \n",
      "\n",
      "- first, we discuss the principles behind a particle simulation\n",
      "- second, we implement this in Python\n",
      "\n",
      "Along the way, we apply the system we have built to some sample problems, such as earth-sun simulation and similar things."
     ]
    },
    {
     "cell_type": "heading",
     "level": 1,
     "metadata": {},
     "source": [
      "Background: physical principles for simulating a particle system"
     ]
    },
    {
     "cell_type": "markdown",
     "metadata": {},
     "source": [
      "Modelling a particle as a point in a two-dimensional space is part of basic mechanics. What one needs is:\n",
      "\n",
      "- its mass $m$\n",
      "- its position $\\vec{x}$\n",
      "- its velocity $\\vec{v}$\n",
      "- the external forces acting upon it $\\vec{f}$\n",
      "\n",
      "The vector notation describes two-dimensional vectors. \n",
      "The equation of motion for a particle is:\n",
      "\n",
      "$$\n",
      "\\vec{f} = m \\, \\vec{a}\n",
      "$$\n",
      "\n",
      "The quantity $\\vec{a}$ is the acceleration of the particle. It can be integrated two times to yield the variation in velocity of the particle and in position. This is described by the following equations:\n",
      "\n",
      "$$\n",
      "\\vec{v}(t+dt) = \\vec{v}(t) + \\frac{1}{m} \\vec{f} dt\n",
      "$$\n",
      "\n",
      "$$\n",
      "\\vec{x}(t+dt) = \\vec{x}(t) + \\vec{v}(t+dt) dt\n",
      "$$\n",
      "\n",
      "The assumptions behind these equations are essentially that the timestep $dt$ is small. \n",
      "\n",
      "In the next section, we implement this particle system."
     ]
    },
    {
     "cell_type": "heading",
     "level": 1,
     "metadata": {},
     "source": [
      "Implementation in Python"
     ]
    },
    {
     "cell_type": "markdown",
     "metadata": {},
     "source": [
      "As can be gathered from the previous equations, we need to store a couple of quantities for a given particle. We therefore decide to construct a class keeping all the properties of the particle together in one place."
     ]
    },
    {
     "cell_type": "code",
     "collapsed": false,
     "input": [
      "#necessary imports\n",
      "from pylab import *\n",
      "%matplotlib inline"
     ],
     "language": "python",
     "metadata": {},
     "outputs": [],
     "prompt_number": 2
    },
    {
     "cell_type": "code",
     "collapsed": false,
     "input": [
      "class Particle():\n",
      "    def __init__(self, mass, initial_position, initial_velocity):\n",
      "        self.mass = mass\n",
      "        self.position = initial_position\n",
      "        self.velocity = initial_velocity\n",
      "    \n",
      "    def move(self, dt, external_force):\n",
      "        self.velocity += 1/self.mass * external_force * dt\n",
      "        self.position += self.velocity * dt"
     ],
     "language": "python",
     "metadata": {},
     "outputs": [],
     "prompt_number": 1
    },
    {
     "cell_type": "markdown",
     "metadata": {},
     "source": [
      "As one can see, this is pretty simple. What can be quite complicated is the computation of the external force that moves the particle. External forces can take several forms: \n",
      "\n",
      "- contact actions, like a spring for example\n",
      "- distance actions, like gravity or electromagnetic attraction / repulsion\n",
      "\n",
      "I would like to simulate the action of planets, so let's take a look at gravity for instance. If we lookup [wikipedia](http://en.wikipedia.org/wiki/N-body_problem), we can find that the gravitational pull felt by mass $i$ due to mass $j$ can be written as:\n",
      "\n",
      "$$\n",
      "\\vec{F}_{ij}\n",
      "   = \\frac{G m_i m_j (\\vec{x}_j - \\vec{x}_i)}{\\left\\| \\vec{x}_j - \\vec{x}_i\\right\\|^3}, \n",
      "$$\n",
      "\n",
      "This can be implemented in Python with the following function:"
     ]
    },
    {
     "cell_type": "code",
     "collapsed": false,
     "input": [
      "def gravitation_force(particle_i, particle_j, gravitation_constant):\n",
      "    return gravitation_constant * particle_i.mass * particle_j.mass * (particle_j.position - particle_i.position) / norm((particle_j.position - particle_i.position))**3"
     ],
     "language": "python",
     "metadata": {},
     "outputs": [],
     "prompt_number": 38
    },
    {
     "cell_type": "markdown",
     "metadata": {},
     "source": [
      "We can now already implement the simulation of a sun-earth system:"
     ]
    },
    {
     "cell_type": "code",
     "collapsed": false,
     "input": [
      "sun = Particle(1.989e30, # mass of sun\n",
      "               zeros((2)), # sun is at origin of grid\n",
      "               zeros((2))) # intially not moving\n",
      "earth = Particle(5.972e24, # mass of earth\n",
      "                 array([149600000e3, 0]), #sun-earth distance\n",
      "                 array([0, 29.8e3])) # speed of earth"
     ],
     "language": "python",
     "metadata": {},
     "outputs": [],
     "prompt_number": 39
    },
    {
     "cell_type": "code",
     "collapsed": false,
     "input": [
      "def move_earth(dt):\n",
      "    pull = gravitation_force(earth, sun, 6.67e-11)\n",
      "    earth.move(dt, pull)"
     ],
     "language": "python",
     "metadata": {},
     "outputs": [],
     "prompt_number": 40
    },
    {
     "cell_type": "markdown",
     "metadata": {},
     "source": [
      "Finally before starting we still need a plotting routine to see what happens to our planets."
     ]
    },
    {
     "cell_type": "code",
     "collapsed": false,
     "input": [
      "def plot_sun_earth():\n",
      "    plot(sun.position[0], sun.position[1], 'bo')\n",
      "    plot(earth.position[0], earth.position[1], 'ro')"
     ],
     "language": "python",
     "metadata": {},
     "outputs": [],
     "prompt_number": 41
    },
    {
     "cell_type": "code",
     "collapsed": false,
     "input": [
      "plot_sun_earth()"
     ],
     "language": "python",
     "metadata": {},
     "outputs": [
      {
       "metadata": {},
       "output_type": "display_data",
       "png": "[encoded data removed]",
       "text": [
        "<matplotlib.figure.Figure at 0xa3c59d0>"
       ]
      }
     ],
     "prompt_number": 42
    },
    {
     "cell_type": "markdown",
     "metadata": {},
     "source": [
      "We can also write a little tool to plot the pull exerted by the sun on the earth graphically:"
     ]
    },
    {
     "cell_type": "code",
     "collapsed": false,
     "input": [
      "def plot_pull(factor=1):\n",
      "    pull = gravitation_force(earth, sun, 6.67e-11)\n",
      "    pull /= norm(pull) * factor\n",
      "    plot(vstack((pull, zeros((2))))[:, 0], vstack((pull, zeros((2))))[:, 1], '->')"
     ],
     "language": "python",
     "metadata": {},
     "outputs": [],
     "prompt_number": 43
    },
    {
     "cell_type": "code",
     "collapsed": false,
     "input": [
      "plot_sun_earth()\n",
      "plot_pull(1000000000000000000)"
     ],
     "language": "python",
     "metadata": {},
     "outputs": [
      {
       "metadata": {},
       "output_type": "display_data",
       "png": "[encoded data removed]",
       "text": [
        "<matplotlib.figure.Figure at 0x77d6c30>"
       ]
      }
     ],
     "prompt_number": 44
    },
    {
     "cell_type": "code",
     "collapsed": false,
     "input": [
      "move_earth(1)\n",
      "plot_sun_earth()"
     ],
     "language": "python",
     "metadata": {},
     "outputs": [
      {
       "metadata": {},
       "output_type": "display_data",
       "png": "[encoded data removed]",
       "text": [
        "<matplotlib.figure.Figure at 0xa33b210>"
       ]
      }
     ],
     "prompt_number": 45
    },
    {
     "cell_type": "markdown",
     "metadata": {},
     "source": [
      "As we can see, the earth has moved up by approximately 30000 meters. This seems correct, due to the fact that the earth is orbiting the sun at approximately 30 km per second. \n",
      "\n",
      "We can now plot several positions of the earth as a function of time."
     ]
    },
    {
     "cell_type": "code",
     "collapsed": false,
     "input": [
      "for i in range(10):\n",
      "    move_earth(120)\n",
      "    plot_sun_earth()"
     ],
     "language": "python",
     "metadata": {},
     "outputs": [
      {
       "metadata": {},
       "output_type": "display_data",
       "png": "[encoded data removed]",
       "text": [
        "<matplotlib.figure.Figure at 0xa34d5b0>"
       ]
      }
     ],
     "prompt_number": 46
    },
    {
     "cell_type": "markdown",
     "metadata": {},
     "source": [
      "We can see that the earth radially escapes the sun. What happens if we iterate our simple model over a day, instead of 20 minutes?"
     ]
    },
    {
     "cell_type": "code",
     "collapsed": false,
     "input": [
      "for ind, t in enumerate(arange(0, 24 * 3600, 120)):\n",
      "    move_earth(120)\n",
      "    if ind % 100 == 0:\n",
      "        plot_sun_earth()"
     ],
     "language": "python",
     "metadata": {},
     "outputs": [
      {
       "metadata": {},
       "output_type": "display_data",
       "png": "[encoded data removed]",
       "text": [
        "<matplotlib.figure.Figure at 0xa319570>"
       ]
      }
     ],
     "prompt_number": 47
    },
    {
     "cell_type": "markdown",
     "metadata": {},
     "source": [
      "This is still not a very large movement, let's do our simulation over a half year and see what happens."
     ]
    },
    {
     "cell_type": "code",
     "collapsed": false,
     "input": [
      "%%time\n",
      "dt = 240.\n",
      "for ind, t in enumerate(arange(0, 182.5 * 24 * 3600, dt)):\n",
      "    move_earth(dt)\n",
      "    if ind % (24 * 3600 / dt) == 0:\n",
      "        plot_sun_earth()"
     ],
     "language": "python",
     "metadata": {},
     "outputs": [
      {
       "output_type": "stream",
       "stream": "stdout",
       "text": [
        "Wall time: 6.49 s\n"
       ]
      },
      {
       "metadata": {},
       "output_type": "display_data",
       "png": "[encoded data removed]",
       "text": [
        "<matplotlib.figure.Figure at 0xb461cb0>"
       ]
      }
     ],
     "prompt_number": 53
    },
    {
     "cell_type": "markdown",
     "metadata": {},
     "source": [
      "The earth circles around the sun. This is pretty nice!"
     ]
    }
   ],
   "metadata": {}
  }
 ]
}