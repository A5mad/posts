{
 "cells": [
  {
   "cell_type": "markdown",
   "metadata": {},
   "source": [
    "Dans ce post, nous allons implémenter l'algorithme du \"radoteur\", un algorithme inventé par Roland Moreno.\n",
    "\n",
    "Ce post se base sur l'explication de l'algorithme trouvée [ici](ftp://ftp-public.4d.fr/Notes_Techniques/NT/2001/200107-23-Radoteur.pdf)."
   ]
  },
  {
   "cell_type": "markdown",
   "metadata": {},
   "source": [
    "# Description de l'algorithme\n",
    "\n",
    "\n",
    "Pour fonctionner, l'algorithme a besoin de données d'entrée, qui est une série de mots. Dans notre post nous utiliserons la chaîne de caractères suivante :\n",
    "\n",
    "> SOIENT CINQUANTE MOTS D’ANGLAIS PRIS AU HASARD, SHANNON POSTULE L’EXISTENCE D’UNE LOI DE COMPOSITION DE CE SOUS-ENSEMBLE DE LA LANGUE, NON NEUTRE, ENTIÈREMENT DÉTERMINÉ, ET VA S’ATTACHER À DEMONTRER LA RIGUEUR DE CETTE LOI.\n",
    "\n",
    "Ensuite, l'algorithme procède de la manière suivante :\n",
    "\n",
    "- initialisation : on tire un mot de la suite au hasard et on garde la première lettre, ce qui définit en même temps une position donnée dans la chaîne\n",
    "- construction de caractères successifs \n",
    "    - à partir de la position courante, on avance dans la chaîne jusqu'à rencontrer à nouveau la lettre en mémoire\n",
    "    - la prochaine lettre à garder est la lettre qui vient après la lettre trouvée\n",
    "    - on reprend la recherche avec la nouvelle lettre\n",
    "- l'algorithme prend fin quand le dernier caractère est un espace, une virgule..."
   ]
  },
  {
   "cell_type": "markdown",
   "metadata": {},
   "source": [
    "# Implémentation "
   ]
  },
  {
   "cell_type": "markdown",
   "metadata": {},
   "source": [
    "On définit tout d'abord la chaîne de caractères avec laquelle on travaille :"
   ]
  },
  {
   "cell_type": "code",
   "execution_count": 1,
   "metadata": {
    "collapsed": true
   },
   "outputs": [],
   "source": [
    "input_string = \"SOIENT CINQUANTE MOTS D’ANGLAIS PRIS AU HASARD, SHANNON POSTULE L’EXISTENCE D’UNE LOI DE COMPOSITION DE CE SOUS-ENSEMBLE DE LA LANGUE, NON NEUTRE, ENTIÈREMENT DÉTERMINÉ, ET VA S’ATTACHER À DEMONTRER LA RIGUEUR DE CETTE LOI.\""
   ]
  },
  {
   "cell_type": "markdown",
   "metadata": {},
   "source": [
    "Ensuite, on choisit l'un des mots présents pour démarrer notre algorithme."
   ]
  },
  {
   "cell_type": "code",
   "execution_count": 2,
   "metadata": {
    "collapsed": false
   },
   "outputs": [],
   "source": [
    "words = input_string.split(' ')"
   ]
  },
  {
   "cell_type": "code",
   "execution_count": 3,
   "metadata": {
    "collapsed": true
   },
   "outputs": [],
   "source": [
    "from random import randint"
   ]
  },
  {
   "cell_type": "code",
   "execution_count": 4,
   "metadata": {
    "collapsed": false
   },
   "outputs": [
    {
     "data": {
      "text/plain": [
       "'LA'"
      ]
     },
     "execution_count": 4,
     "metadata": {},
     "output_type": "execute_result"
    }
   ],
   "source": [
    "words[randint(0, len(words) - 1)]"
   ]
  },
  {
   "cell_type": "markdown",
   "metadata": {},
   "source": [
    "On peut résumer ces étapes sous la forme d'une fonction :"
   ]
  },
  {
   "cell_type": "code",
   "execution_count": 5,
   "metadata": {
    "collapsed": true
   },
   "outputs": [],
   "source": [
    "def init_chain(input_string):\n",
    "    \"\"\"Retourne l'un de mots de la chaîne, choisi au hasard.\"\"\"\n",
    "    words = input_string.split(' ')\n",
    "    return words[randint(0, len(words) - 1)]"
   ]
  },
  {
   "cell_type": "markdown",
   "metadata": {},
   "source": [
    "On vérifie le fonctionnement de la fonction :"
   ]
  },
  {
   "cell_type": "code",
   "execution_count": 6,
   "metadata": {
    "collapsed": false
   },
   "outputs": [
    {
     "data": {
      "text/plain": [
       "'LOI.'"
      ]
     },
     "execution_count": 6,
     "metadata": {},
     "output_type": "execute_result"
    }
   ],
   "source": [
    "init_chain(input_string)"
   ]
  },
  {
   "cell_type": "code",
   "execution_count": 7,
   "metadata": {
    "collapsed": false
   },
   "outputs": [
    {
     "data": {
      "text/plain": [
       "'SOIENT'"
      ]
     },
     "execution_count": 7,
     "metadata": {},
     "output_type": "execute_result"
    }
   ],
   "source": [
    "init_chain(input_string)"
   ]
  },
  {
   "cell_type": "markdown",
   "metadata": {},
   "source": [
    "On peut maintenant implémenter la recherche du prochain caractère. Tout d'abord, il s'agit de retrouver la position du mot de départ et de démarrer la recherche de la prochaine occurence de la lettre courante à partir de cette position."
   ]
  },
  {
   "cell_type": "code",
   "execution_count": 8,
   "metadata": {
    "collapsed": false
   },
   "outputs": [
    {
     "data": {
      "text/plain": [
       "147"
      ]
     },
     "execution_count": 8,
     "metadata": {},
     "output_type": "execute_result"
    }
   ],
   "source": [
    "word = 'ENTIÈREMENT'\n",
    "position = input_string.index(word)\n",
    "position"
   ]
  },
  {
   "cell_type": "markdown",
   "metadata": {},
   "source": [
    "On peut réagencer la chaîne de caractère pour rechercher la prochaine occurence. La nouvelle chaîne démarre à la fin de l'occurence du mot courant et finit par le bout du départ."
   ]
  },
  {
   "cell_type": "code",
   "execution_count": 9,
   "metadata": {
    "collapsed": false
   },
   "outputs": [
    {
     "data": {
      "text/plain": [
       "' DÉTERMINÉ, ET VA S’ATTACHER À DEMONTRER LA RIGUEUR DE CETTE LOI.SOIENT CINQUANTE MOTS D’ANGLAIS PRIS AU HASARD, SHANNON POSTULE L’EXISTENCE D’UNE LOI DE COMPOSITION DE CE SOUS-ENSEMBLE DE LA LANGUE, NON NEUTRE, ENTIÈREMENT'"
      ]
     },
     "execution_count": 9,
     "metadata": {},
     "output_type": "execute_result"
    }
   ],
   "source": [
    "new_input_string = input_string[position + len(word):] + input_string[:position + len(word)]\n",
    "new_input_string"
   ]
  },
  {
   "cell_type": "markdown",
   "metadata": {},
   "source": [
    "Enfin, on peut trouver la première occurence de la lettre courante :"
   ]
  },
  {
   "cell_type": "code",
   "execution_count": 10,
   "metadata": {
    "collapsed": false
   },
   "outputs": [
    {
     "data": {
      "text/plain": [
       "4"
      ]
     },
     "execution_count": 10,
     "metadata": {},
     "output_type": "execute_result"
    }
   ],
   "source": [
    "new_input_string.index(word[0])"
   ]
  },
  {
   "cell_type": "markdown",
   "metadata": {},
   "source": [
    "Enfin, on peut sélectionner la prochaine lettre :"
   ]
  },
  {
   "cell_type": "code",
   "execution_count": 11,
   "metadata": {
    "collapsed": false
   },
   "outputs": [
    {
     "data": {
      "text/plain": [
       "'R'"
      ]
     },
     "execution_count": 11,
     "metadata": {},
     "output_type": "execute_result"
    }
   ],
   "source": [
    "new_input_string[5]"
   ]
  },
  {
   "cell_type": "markdown",
   "metadata": {},
   "source": [
    "Résumons ceci sous forme d'une fonction :"
   ]
  },
  {
   "cell_type": "code",
   "execution_count": 12,
   "metadata": {
    "collapsed": true
   },
   "outputs": [],
   "source": [
    "def build_chain(input_string, word):\n",
    "    \"\"\"Construit une chaîne selon l'algorithme du radoteur.\"\"\"\n",
    "    chain = word[0]\n",
    "    position = input_string.index(word)\n",
    "    new_input_string = input_string[position + len(word):] + input_string[:position + len(word)]\n",
    "    while chain[-1] not in (' ', ',', '.') and len(chain) < 30:\n",
    "        index = new_input_string.index(chain[-1])\n",
    "        chain += new_input_string[(index + 1) % len(new_input_string)]\n",
    "        try:\n",
    "            position = new_input_string.index(' ', index + 1)\n",
    "        except ValueError:\n",
    "            position = 0\n",
    "        new_input_string = new_input_string[position:] + new_input_string[:position]\n",
    "    return chain "
   ]
  },
  {
   "cell_type": "markdown",
   "metadata": {},
   "source": [
    "Testons :"
   ]
  },
  {
   "cell_type": "code",
   "execution_count": 13,
   "metadata": {
    "collapsed": false
   },
   "outputs": [
    {
     "data": {
      "text/plain": [
       "'ER '"
      ]
     },
     "execution_count": 13,
     "metadata": {},
     "output_type": "execute_result"
    }
   ],
   "source": [
    "build_chain(input_string, word)"
   ]
  },
  {
   "cell_type": "markdown",
   "metadata": {},
   "source": [
    "On peut maintenant générer pleins de mots de cette manière : "
   ]
  },
  {
   "cell_type": "code",
   "execution_count": 14,
   "metadata": {
    "collapsed": false
   },
   "outputs": [
    {
     "data": {
      "text/plain": [
       "{'ASHEMONCOUEUE ',\n",
       " 'CE ',\n",
       " 'CENGUANNCOUEUE ',\n",
       " 'CIS ',\n",
       " 'COUEUE ',\n",
       " 'D,',\n",
       " 'DE ',\n",
       " 'DET ',\n",
       " 'DEUANNCOUEUE ',\n",
       " 'ER ',\n",
       " 'EREUANNCOUEUE ',\n",
       " 'HA ',\n",
       " 'LANGUTINTT ',\n",
       " 'LAUL’US’AUL’US’AUL’US’AUL’US’A',\n",
       " 'LE ',\n",
       " 'LEXI ',\n",
       " 'LOMBLANONTE ',\n",
       " 'MPRD’A ',\n",
       " 'NCOUEUE ',\n",
       " 'NTETTRI.',\n",
       " 'POITRER ',\n",
       " 'POUEUE ',\n",
       " 'RISIÈRMOINGUTINTT ',\n",
       " 'S ',\n",
       " 'SOTUN ',\n",
       " 'STE ',\n",
       " 'S’AUL’US’AUL’US’AUL’US’AUL’US’',\n",
       " 'VATRI.',\n",
       " 'À '}"
      ]
     },
     "execution_count": 14,
     "metadata": {},
     "output_type": "execute_result"
    }
   ],
   "source": [
    "set([build_chain(input_string, init_chain(input_string)) for i in range(500)]) "
   ]
  },
  {
   "cell_type": "markdown",
   "metadata": {},
   "source": [
    "# Conclusion "
   ]
  },
  {
   "cell_type": "markdown",
   "metadata": {},
   "source": [
    "Nous avons implémenté l'algorithme du radoteur. Les résultats sont intéressants, mais pas forcéments tous valides. Je pense que ceci explique pourquoi cet algorithme ne peut fournir que des candidats qu'il faut ensuite trier manuellement pour retenir ceux qui sont pertinents. Dans le cas présent, les mots intéressants que je garderais sont : \n",
    "\n",
    "- poitrer\n",
    "- lexi\n",
    "- coueue\n",
    "- lomblanonte"
   ]
  }
 ],
 "metadata": {
  "kernelspec": {
   "display_name": "Python 3",
   "language": "python",
   "name": "python3"
  },
  "language_info": {
   "codemirror_mode": {
    "name": "ipython",
    "version": 3
   },
   "file_extension": ".py",
   "mimetype": "text/x-python",
   "name": "python",
   "nbconvert_exporter": "python",
   "pygments_lexer": "ipython3",
   "version": "3.4.3"
  }
 },
 "nbformat": 4,
 "nbformat_minor": 0
}
