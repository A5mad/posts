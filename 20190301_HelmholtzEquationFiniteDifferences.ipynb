{
 "cells": [
  {
   "cell_type": "markdown",
   "metadata": {},
   "source": [
    "http://dspace.mit.edu/bitstream/handle/1721.1/67878/FRANKLIN-1.pdf?sequence=1"
   ]
  },
  {
   "cell_type": "markdown",
   "metadata": {},
   "source": [
    "# Theory "
   ]
  },
  {
   "cell_type": "markdown",
   "metadata": {},
   "source": [
    "## Interior locations "
   ]
  },
  {
   "cell_type": "markdown",
   "metadata": {},
   "source": [
    "In time:\n",
    "$$\n",
    "\\frac{1}{c^2} \\frac{\\partial^2 p}{\\partial t^2} - \\left ( \\frac{\\partial^2 p}{\\partial x^2} + \\frac{\\partial^2 p }{\\partial y^2} \\right ) = s(x, y, t) \n",
    "$$\n",
    "\n",
    "Assuming $p(x, y, t) = \\Re ( P(x, y) e^{j \\omega t})$ (this notation is coherent with the Fourier transform notation used habitually, where $s(t) = \\int_{-\\infty}^{\\infty} \\hat{s}(\\omega) e ^{j \\omega t} d\\omega$):\n",
    "\n",
    "$$\n",
    "\\frac{\\omega^2}{c^2} P(x, y) + \\frac{\\partial^2 P}{\\partial x^2} + \\frac{\\partial^2 P}{\\partial y^2} = S(x, y)\n",
    "$$"
   ]
  },
  {
   "cell_type": "markdown",
   "metadata": {},
   "source": [
    "## Boundary conditions "
   ]
  },
  {
   "cell_type": "code",
   "execution_count": null,
   "metadata": {},
   "outputs": [],
   "source": []
  },
  {
   "cell_type": "markdown",
   "metadata": {},
   "source": [
    "# Toy problem "
   ]
  },
  {
   "cell_type": "markdown",
   "metadata": {},
   "source": [
    "Let's try and setup the Helmholtz equation in 2D."
   ]
  },
  {
   "cell_type": "markdown",
   "metadata": {},
   "source": [
    "BC : zero field"
   ]
  },
  {
   "cell_type": "code",
   "execution_count": null,
   "metadata": {},
   "outputs": [],
   "source": [
    "import numpy as np\n",
    "\n",
    "import holoviews as hv\n",
    "hv.extension('bokeh')"
   ]
  },
  {
   "cell_type": "code",
   "execution_count": null,
   "metadata": {},
   "outputs": [],
   "source": [
    "nx, ny = 5, 5\n",
    "x = np.linspace(0, 1, num=nx)\n",
    "y = np.linspace(0, 1, num=ny)\n",
    "dx = (x[-1] - x[0]) / nx\n",
    "dy = (y[-1] - y[0]) / ny"
   ]
  },
  {
   "cell_type": "markdown",
   "metadata": {},
   "source": [
    "Let's plot the coordinates of each point."
   ]
  },
  {
   "cell_type": "code",
   "execution_count": null,
   "metadata": {},
   "outputs": [],
   "source": [
    "points = []\n",
    "for i in range(nx):\n",
    "    for j in range(ny):\n",
    "        xx = x[i]\n",
    "        yy = y[j]\n",
    "        points.append((xx, yy))\n",
    "\n",
    "labels = hv.Labels({('x', 'y'): points, 'Label': [chr(65+i) for i in range(len(points))]}).opts(xlim=(-.1, 1.1), ylim=(-.1, 1.1))\n",
    "labels"
   ]
  },
  {
   "cell_type": "markdown",
   "metadata": {},
   "source": [
    "Let's now write the main loop for assembling the matrix that will hold the system."
   ]
  },
  {
   "cell_type": "code",
   "execution_count": null,
   "metadata": {},
   "outputs": [],
   "source": [
    "def ij_to_row_coords(i, j, nx, ny):\n",
    "    return ny * i + j"
   ]
  },
  {
   "cell_type": "code",
   "execution_count": null,
   "metadata": {},
   "outputs": [],
   "source": [
    "def row_to_ij_coords(row, nx, ny):\n",
    "    i = row // ny\n",
    "    j = row - i * ny\n",
    "    return i, j"
   ]
  },
  {
   "cell_type": "code",
   "execution_count": null,
   "metadata": {},
   "outputs": [],
   "source": [
    "omega = 2 * np.pi * 800 \n",
    "c = 1500\n",
    "k = omega / c"
   ]
  },
  {
   "cell_type": "code",
   "execution_count": null,
   "metadata": {},
   "outputs": [],
   "source": [
    "N = nx * ny\n",
    "F = np.zeros((N, N), dtype=complex)\n",
    "for i in range(nx):\n",
    "    for j in range(ny):\n",
    "        if i in [0, nx - 1] or j in [0, ny - 1]:\n",
    "            if i == 0:\n",
    "                # left\n",
    "                ij = ij_to_row_coords(i, j, nx, ny)\n",
    "                ip1j = ij_to_row_coords(i+1, j, nx, ny)\n",
    "                F[ij, ij] += 1/dx - 1j*k\n",
    "                F[ij, ip1j] += -1/dx\n",
    "            if i == nx - 1:\n",
    "                # right\n",
    "                ij = ij_to_row_coords(i, j, nx, ny)\n",
    "                im1j = ij_to_row_coords(i-1, j, nx, ny)\n",
    "                F[ij, ij] += 1/dx - 1j*k\n",
    "                F[ij, im1j] += -1/dx\n",
    "            if j == 0:\n",
    "                # bottom\n",
    "                ij = ij_to_row_coords(i, j, nx, ny)\n",
    "                ijp1 = ij_to_row_coords(i, j+1, nx, ny)\n",
    "                F[ij, ij] += 1/dx - 1j * k\n",
    "                F[ij, ijp1] += -1/dx\n",
    "            if j == ny - 1:\n",
    "                # top\n",
    "                ij = ij_to_row_coords(i, j, nx, ny)\n",
    "                ijm1 = ij_to_row_coords(i, j-1, nx, ny)\n",
    "                F[ij, ij] += 1/dx - 1j * k\n",
    "                F[ij, ijm1] += -1/dx \n",
    "        else:\n",
    "            # interior\n",
    "            ij = ij_to_row_coords(i, j, nx, ny)\n",
    "            ip1j = ij_to_row_coords(i+1, j, nx, ny)\n",
    "            im1j = ij_to_row_coords(i-1, j, nx, ny)\n",
    "            ijp1 = ij_to_row_coords(i, j+1, nx, ny)\n",
    "            ijm1 = ij_to_row_coords(i, j-1, nx, ny)\n",
    "            F[ij, ij] += k**2 - 2/dx**2 - 2/dy**2\n",
    "            F[ij, ip1j] += 1/dx**2\n",
    "            F[ij, im1j] += 1/dx**2\n",
    "            F[ij, ijp1] += 1/dy**2\n",
    "            F[ij, ijm1] += 1/dy**2"
   ]
  },
  {
   "cell_type": "markdown",
   "metadata": {},
   "source": [
    "Let's visualize F:"
   ]
  },
  {
   "cell_type": "code",
   "execution_count": null,
   "metadata": {},
   "outputs": [],
   "source": [
    "F.min(), F.max()"
   ]
  },
  {
   "cell_type": "code",
   "execution_count": null,
   "metadata": {},
   "outputs": [],
   "source": [
    "hv.Image(np.real(F)).opts(colorbar=True, width=350) + hv.Image(np.imag(F)).opts(colorbar=True, width=350)"
   ]
  },
  {
   "cell_type": "markdown",
   "metadata": {},
   "source": [
    "We can also visualize non-zero coordinates as a function of their location."
   ]
  },
  {
   "cell_type": "code",
   "execution_count": null,
   "metadata": {},
   "outputs": [],
   "source": [
    "def show_nonzero(line):\n",
    "    nonzeros = F[line].nonzero()\n",
    "    center_ij = row_to_ij_coords(line, nx, ny)\n",
    "    center_point = hv.Points(np.c_[(x[center_ij[0]], y[center_ij[1]])]).opts(size=20)\n",
    "    center_label = hv.Text(x[center_ij[0]], y[center_ij[1]], str(center_ij))\n",
    "    nonzero_ijs = [row_to_ij_coords(row, nx, ny) for row in nonzeros[0]]\n",
    "    nonzero_points = hv.Points(np.c_[[(x[i], y[j]) for i,j in nonzero_ijs]]).opts(size=10) \n",
    "    return center_point * nonzero_points * center_label\n",
    "\n",
    "labels * hv.DynamicMap(show_nonzero, kdims='line').redim.range(line=(0, nx * ny - 1))"
   ]
  },
  {
   "cell_type": "markdown",
   "metadata": {},
   "source": [
    "The equation to solve is $F \\cdot u = s$."
   ]
  },
  {
   "cell_type": "code",
   "execution_count": null,
   "metadata": {},
   "outputs": [],
   "source": [
    "s = np.zeros(F.shape[0])\n",
    "s[ij_to_row_coords(1, 1, nx, ny)] = -1\n",
    "s"
   ]
  },
  {
   "cell_type": "markdown",
   "metadata": {},
   "source": [
    "Let's now try to solve this system."
   ]
  },
  {
   "cell_type": "code",
   "execution_count": null,
   "metadata": {},
   "outputs": [],
   "source": [
    "np.linalg.solve(F, s)"
   ]
  },
  {
   "cell_type": "markdown",
   "metadata": {},
   "source": [
    "# Real application "
   ]
  },
  {
   "cell_type": "markdown",
   "metadata": {},
   "source": [
    "Let's move on and simulate the realistic case shown in the paper. The grid is now a 400 × 300 grid with  ∆x = ∆z = 0.11m. The paper explains that the discretization has been chosen to verify ∆x < λ/12."
   ]
  },
  {
   "cell_type": "code",
   "execution_count": null,
   "metadata": {},
   "outputs": [],
   "source": [
    "nx = 400\n",
    "ny = 300\n",
    "x = np.linspace(0, 44, num=nx)\n",
    "y = np.linspace(0, 33, num=ny)\n",
    "dx = (x[-1] - x[0]) / nx\n",
    "dy = (y[-1] - y[0]) / ny\n",
    "\n",
    "omega = 2 * np.pi * 800 \n",
    "c = 1500\n",
    "k = omega / c\n",
    "\n",
    "nx, ny, dx, dy, k, x.min(), x.max(), y.min(), y.max()"
   ]
  },
  {
   "cell_type": "markdown",
   "metadata": {},
   "source": [
    "This time, we can write a function to assemble the matrix."
   ]
  },
  {
   "cell_type": "code",
   "execution_count": null,
   "metadata": {},
   "outputs": [],
   "source": [
    "from scipy.sparse.linalg import spsolve\n",
    "from scipy.sparse import lil_matrix, csc_matrix\n",
    "from tqdm import tqdm_notebook\n",
    "\n",
    "def assemble_F_matrix(nx, ny, k, dx):\n",
    "    \"\"\"Assembles the F matrix to solve the Helmholtz equation.\n",
    "\n",
    "    Assumes dx = dy.\n",
    "    \"\"\"\n",
    "    N = nx * ny\n",
    "    F = lil_matrix((N, N), dtype=complex)\n",
    "    for i in tqdm_notebook(range(nx)):\n",
    "        for j in range(ny):\n",
    "            if i in [0, nx - 1] or j in [0, ny - 1]:\n",
    "                if i == 0:\n",
    "                    # left\n",
    "                    ij = ij_to_row_coords(i, j, nx, ny)\n",
    "                    ip1j = ij_to_row_coords(i+1, j, nx, ny)\n",
    "                    F[ij, ij] += 1/dx - 1j*k\n",
    "                    F[ij, ip1j] += -1/dx\n",
    "                if i == nx - 1:\n",
    "                    # right\n",
    "                    ij = ij_to_row_coords(i, j, nx, ny)\n",
    "                    im1j = ij_to_row_coords(i-1, j, nx, ny)\n",
    "                    F[ij, ij] += 1/dx - 1j*k\n",
    "                    F[ij, im1j] += -1/dx\n",
    "                if j == 0:\n",
    "                    # bottom\n",
    "                    ij = ij_to_row_coords(i, j, nx, ny)\n",
    "                    ijp1 = ij_to_row_coords(i, j+1, nx, ny)\n",
    "                    F[ij, ij] += 1/dx - 1j * k\n",
    "                    F[ij, ijp1] += -1/dx\n",
    "                if j == ny - 1:\n",
    "                    # top\n",
    "                    ij = ij_to_row_coords(i, j, nx, ny)\n",
    "                    ijm1 = ij_to_row_coords(i, j-1, nx, ny)\n",
    "                    F[ij, ij] += 1/dx - 1j * k\n",
    "                    F[ij, ijm1] += -1/dx \n",
    "            else:\n",
    "                # interior\n",
    "                ij = ij_to_row_coords(i, j, nx, ny)\n",
    "                ip1j = ij_to_row_coords(i+1, j, nx, ny)\n",
    "                im1j = ij_to_row_coords(i-1, j, nx, ny)\n",
    "                ijp1 = ij_to_row_coords(i, j+1, nx, ny)\n",
    "                ijm1 = ij_to_row_coords(i, j-1, nx, ny)\n",
    "                F[ij, ij] += k**2 - 2/dx**2 - 2/dx**2\n",
    "                F[ij, ip1j] += 1/dx**2\n",
    "                F[ij, im1j] += 1/dx**2\n",
    "                F[ij, ijp1] += 1/dx**2\n",
    "                F[ij, ijm1] += 1/dx**2\n",
    "\n",
    "    return F"
   ]
  },
  {
   "cell_type": "markdown",
   "metadata": {},
   "source": [
    "Let's now see if we can model a simple point source (which is a line source in 3D)."
   ]
  },
  {
   "cell_type": "code",
   "execution_count": null,
   "metadata": {},
   "outputs": [],
   "source": [
    "F = assemble_F_matrix(nx, ny, k, dx)"
   ]
  },
  {
   "cell_type": "code",
   "execution_count": null,
   "metadata": {},
   "outputs": [],
   "source": [
    "i_source = np.argmin(np.abs(x - 11.))\n",
    "j_source = np.argmin(np.abs(y - 11.))\n",
    "s = np.zeros(F.shape[0], dtype=complex)\n",
    "s[ij_to_row_coords(i_source, j_source, nx, ny)] = -1."
   ]
  },
  {
   "cell_type": "code",
   "execution_count": null,
   "metadata": {},
   "outputs": [],
   "source": [
    "solution = spsolve(csc_matrix(F), s)"
   ]
  },
  {
   "cell_type": "markdown",
   "metadata": {},
   "source": [
    "We can now unpack the solution to display it."
   ]
  },
  {
   "cell_type": "code",
   "execution_count": null,
   "metadata": {},
   "outputs": [],
   "source": [
    "abs_sol = np.abs(solution).reshape((nx, ny)).T\n",
    "real_sol = np.real(solution).reshape((nx, ny)).T\n",
    "imag_sol = np.imag(solution).reshape((nx, ny)).T\n",
    "\n",
    "zmin, zmax = np.abs(solution).min(), np.abs(solution).max()\n",
    "\n",
    "zval = zmax / 1"
   ]
  },
  {
   "cell_type": "code",
   "execution_count": null,
   "metadata": {},
   "outputs": [],
   "source": [
    "img_opts = hv.opts.Image(colorbar=False, width=400, height=300)\n",
    "(hv.Image(abs_sol, bounds=(x.min(), y.min(), x.max(), y.max()), label='abs').opts(img_opts).redim.range(z=(-zval, zval))  + \\\n",
    "        hv.Image(real_sol, bounds=(x.min(), y.min(), x.max(), y.max()), label='real').opts(img_opts).redim.range(z=(-zval, zval)) + \\\n",
    "        hv.Image(imag_sol, bounds=(x.min(), y.min(), x.max(), y.max()), label='imag').opts(img_opts).redim.range(z=(-zval, zval))).cols(2)"
   ]
  },
  {
   "cell_type": "markdown",
   "metadata": {},
   "source": [
    "What does this become if we change the frequency?"
   ]
  },
  {
   "cell_type": "code",
   "execution_count": null,
   "metadata": {},
   "outputs": [],
   "source": [
    "omega = 2 * np.pi * 400 \n",
    "k = omega / c"
   ]
  },
  {
   "cell_type": "code",
   "execution_count": null,
   "metadata": {},
   "outputs": [],
   "source": [
    "F = assemble_F_matrix(nx, ny, k, dx)"
   ]
  },
  {
   "cell_type": "code",
   "execution_count": null,
   "metadata": {},
   "outputs": [],
   "source": [
    "solution = spsolve(csc_matrix(F), s)"
   ]
  },
  {
   "cell_type": "code",
   "execution_count": null,
   "metadata": {},
   "outputs": [],
   "source": [
    "abs_sol = np.abs(solution).reshape((nx, ny)).T\n",
    "real_sol = np.real(solution).reshape((nx, ny)).T\n",
    "imag_sol = np.imag(solution).reshape((nx, ny)).T\n",
    "\n",
    "zmin, zmax = np.abs(solution).min(), np.abs(solution).max()\n",
    "\n",
    "zval = zmax / 10"
   ]
  },
  {
   "cell_type": "code",
   "execution_count": null,
   "metadata": {},
   "outputs": [],
   "source": [
    "img_opts = hv.opts.Image(colorbar=False, width=400, height=300)\n",
    "(hv.Image(abs_sol, bounds=(x.min(), y.min(), x.max(), y.max()), label='abs').opts(img_opts).redim.range(z=(-zval, zval))  + \\\n",
    "        hv.Image(real_sol, bounds=(x.min(), y.min(), x.max(), y.max()), label='real').opts(img_opts).redim.range(z=(-zval, zval)) + \\\n",
    "        hv.Image(imag_sol, bounds=(x.min(), y.min(), x.max(), y.max()), label='imag').opts(img_opts).redim.range(z=(-zval, zval))).cols(2)"
   ]
  },
  {
   "cell_type": "markdown",
   "metadata": {},
   "source": [
    "As expected, we get a lower frequency solution."
   ]
  },
  {
   "cell_type": "markdown",
   "metadata": {},
   "source": [
    "We can also experiment with a different source. Let's try a piston like source."
   ]
  },
  {
   "cell_type": "code",
   "execution_count": null,
   "metadata": {},
   "outputs": [],
   "source": [
    "i_source = np.argmin(np.abs(x - 1.))\n",
    "s = np.zeros(F.shape[0], dtype=complex)\n",
    "for j_source in range(1, ny - 1):\n",
    "    s[ij_to_row_coords(i_source, j_source, nx, ny)] = -1."
   ]
  },
  {
   "cell_type": "code",
   "execution_count": null,
   "metadata": {},
   "outputs": [],
   "source": [
    "solution = spsolve(csc_matrix(F), s)"
   ]
  },
  {
   "cell_type": "code",
   "execution_count": null,
   "metadata": {},
   "outputs": [],
   "source": [
    "abs_sol = np.abs(solution).reshape((nx, ny)).T\n",
    "real_sol = np.real(solution).reshape((nx, ny)).T\n",
    "imag_sol = np.imag(solution).reshape((nx, ny)).T\n",
    "\n",
    "zmin, zmax = np.abs(solution).min(), np.abs(solution).max()\n",
    "\n",
    "zval = zmax"
   ]
  },
  {
   "cell_type": "code",
   "execution_count": null,
   "metadata": {},
   "outputs": [],
   "source": [
    "img_opts = hv.opts.Image(colorbar=False, width=400, height=300)\n",
    "(hv.Image(abs_sol, bounds=(x.min(), y.min(), x.max(), y.max()), label='abs').opts(img_opts).redim.range(z=(-zval, zval))  + \\\n",
    "        hv.Image(real_sol, bounds=(x.min(), y.min(), x.max(), y.max()), label='real').opts(img_opts).redim.range(z=(-zval, zval)) + \\\n",
    "        hv.Image(imag_sol, bounds=(x.min(), y.min(), x.max(), y.max()), label='imag').opts(img_opts).redim.range(z=(-zval, zval))).cols(2)"
   ]
  },
  {
   "cell_type": "markdown",
   "metadata": {},
   "source": [
    "by changing the size of the source with respect to the wavelength, we can see a difference in source size."
   ]
  },
  {
   "cell_type": "markdown",
   "metadata": {},
   "source": [
    "Above, the lenght of the source was 33 meters at 400 Hz which yields, in terms of wavelengths:"
   ]
  },
  {
   "cell_type": "code",
   "execution_count": null,
   "metadata": {},
   "outputs": [],
   "source": [
    "D_source = ny * dx\n",
    "wavelength = 2 * np.pi * c / omega\n",
    "D_source / wavelength"
   ]
  },
  {
   "cell_type": "markdown",
   "metadata": {},
   "source": [
    "What if we make the source equal to 0.5 times the wavelength?"
   ]
  },
  {
   "cell_type": "code",
   "execution_count": null,
   "metadata": {},
   "outputs": [],
   "source": [
    "0.5 * wavelength / dx"
   ]
  },
  {
   "cell_type": "code",
   "execution_count": null,
   "metadata": {},
   "outputs": [],
   "source": [
    "i_source = np.argmin(np.abs(x - 1.))\n",
    "s = np.zeros(F.shape[0], dtype=complex)\n",
    "for j_source in range(int(ny/2 - 8), int(ny/2 + 8)):\n",
    "    s[ij_to_row_coords(i_source, j_source, nx, ny)] = -1."
   ]
  },
  {
   "cell_type": "code",
   "execution_count": null,
   "metadata": {},
   "outputs": [],
   "source": [
    "solution = spsolve(csc_matrix(F), s)"
   ]
  },
  {
   "cell_type": "code",
   "execution_count": null,
   "metadata": {},
   "outputs": [],
   "source": [
    "abs_sol = np.abs(solution).reshape((nx, ny)).T\n",
    "real_sol = np.real(solution).reshape((nx, ny)).T\n",
    "imag_sol = np.imag(solution).reshape((nx, ny)).T\n",
    "\n",
    "zmin, zmax = np.abs(solution).min(), np.abs(solution).max()\n",
    "\n",
    "zval = zmax"
   ]
  },
  {
   "cell_type": "code",
   "execution_count": null,
   "metadata": {},
   "outputs": [],
   "source": [
    "img_opts = hv.opts.Image(colorbar=False, width=400, height=300)\n",
    "(hv.Image(abs_sol, bounds=(x.min(), y.min(), x.max(), y.max()), label='abs').opts(img_opts).redim.range(z=(-zval, zval))  + \\\n",
    "        hv.Image(real_sol, bounds=(x.min(), y.min(), x.max(), y.max()), label='real').opts(img_opts).redim.range(z=(-zval, zval)) + \\\n",
    "        hv.Image(imag_sol, bounds=(x.min(), y.min(), x.max(), y.max()), label='imag').opts(img_opts).redim.range(z=(-zval, zval))).cols(2)"
   ]
  },
  {
   "cell_type": "markdown",
   "metadata": {},
   "source": [
    "Interestingly we get a radiation pattern that ressembles that of a point source."
   ]
  },
  {
   "cell_type": "markdown",
   "metadata": {},
   "source": [
    "Finally, we can get an animation of the complex radiated field by an intermediate source of size 4 wavelengths."
   ]
  },
  {
   "cell_type": "code",
   "execution_count": null,
   "metadata": {},
   "outputs": [],
   "source": [
    "4 * wavelength / dx"
   ]
  },
  {
   "cell_type": "code",
   "execution_count": null,
   "metadata": {},
   "outputs": [],
   "source": [
    "i_source = np.argmin(np.abs(x - 1.))\n",
    "s = np.zeros(F.shape[0], dtype=complex)\n",
    "for j_source in range(int(ny/2 - 70), int(ny/2 + 70)):\n",
    "    s[ij_to_row_coords(i_source, j_source, nx, ny)] = -1."
   ]
  },
  {
   "cell_type": "code",
   "execution_count": null,
   "metadata": {},
   "outputs": [],
   "source": [
    "solution = spsolve(csc_matrix(F), s)"
   ]
  },
  {
   "cell_type": "code",
   "execution_count": null,
   "metadata": {},
   "outputs": [],
   "source": [
    "abs_sol = np.abs(solution).reshape((nx, ny)).T\n",
    "real_sol = np.real(solution).reshape((nx, ny)).T\n",
    "imag_sol = np.imag(solution).reshape((nx, ny)).T\n",
    "\n",
    "zmin, zmax = np.abs(solution).min(), np.abs(solution).max()\n",
    "\n",
    "zval = zmax"
   ]
  },
  {
   "cell_type": "code",
   "execution_count": null,
   "metadata": {},
   "outputs": [],
   "source": [
    "img_opts = hv.opts.Image(colorbar=False, width=400, height=300)\n",
    "(hv.Image(abs_sol, bounds=(x.min(), y.min(), x.max(), y.max()), label='abs').opts(img_opts).redim.range(z=(-zval, zval))  + \\\n",
    "        hv.Image(real_sol, bounds=(x.min(), y.min(), x.max(), y.max()), label='real').opts(img_opts).redim.range(z=(-zval, zval)) + \\\n",
    "        hv.Image(imag_sol, bounds=(x.min(), y.min(), x.max(), y.max()), label='imag').opts(img_opts).redim.range(z=(-zval, zval))).cols(2)"
   ]
  },
  {
   "cell_type": "markdown",
   "metadata": {},
   "source": [
    "Let's synthesize the associated time varying field."
   ]
  },
  {
   "cell_type": "code",
   "execution_count": null,
   "metadata": {},
   "outputs": [],
   "source": [
    "snapshots = {}\n",
    "timesteps = 30\n",
    "for timestep in range(timesteps):\n",
    "    t = timestep / timesteps * 2 * np.pi / omega\n",
    "    field = (real_sol + 1j * imag_sol) * np.exp(-1j * omega * t)\n",
    "    snapshots[timestep] = hv.Image(np.real(field), bounds=(x.min(), y.min(), x.max(), y.max()), label='abs').opts(img_opts).redim.range(z=(-zval, zval))"
   ]
  },
  {
   "cell_type": "code",
   "execution_count": null,
   "metadata": {},
   "outputs": [],
   "source": [
    "%%output holomap='scrubber'\n",
    "hv.HoloMap(snapshots)"
   ]
  },
  {
   "cell_type": "code",
   "execution_count": null,
   "metadata": {},
   "outputs": [],
   "source": []
  }
 ],
 "metadata": {
  "kernelspec": {
   "display_name": "Python 3",
   "language": "python",
   "name": "python3"
  },
  "language_info": {
   "codemirror_mode": {
    "name": "ipython",
    "version": 3
   },
   "file_extension": ".py",
   "mimetype": "text/x-python",
   "name": "python",
   "nbconvert_exporter": "python",
   "pygments_lexer": "ipython3",
   "version": "3.7.1"
  }
 },
 "nbformat": 4,
 "nbformat_minor": 2
}
