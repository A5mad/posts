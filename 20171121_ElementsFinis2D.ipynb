{
 "cells": [
  {
   "cell_type": "markdown",
   "metadata": {},
   "source": [
    "Ce notebook reproduit une partie du polycopié de travaux numériques de mécanique."
   ]
  },
  {
   "cell_type": "markdown",
   "metadata": {},
   "source": [
    "# Recherche de la solution approchée "
   ]
  },
  {
   "cell_type": "markdown",
   "metadata": {},
   "source": [
    "On va chercher une solution analytique approchée au problème du barrage à l'aide d'un calcul symbolique."
   ]
  },
  {
   "cell_type": "code",
   "execution_count": 1,
   "metadata": {},
   "outputs": [],
   "source": [
    "import sympy\n",
    "sympy.init_printing()"
   ]
  },
  {
   "cell_type": "markdown",
   "metadata": {},
   "source": [
    "D'abord, définissons quelques symboles."
   ]
  },
  {
   "cell_type": "code",
   "execution_count": 2,
   "metadata": {},
   "outputs": [],
   "source": [
    "x, y, U, V, l, h = sympy.symbols('x, y, U, V, l, h')"
   ]
  },
  {
   "cell_type": "markdown",
   "metadata": {},
   "source": [
    "Ceci nous permet de définir le champ de déplacement $\\xi$ :"
   ]
  },
  {
   "cell_type": "code",
   "execution_count": 3,
   "metadata": {},
   "outputs": [
    {
     "data": {
      "text/latex": [
       "$$\\left[\\begin{matrix}\\frac{U y}{h}\\\\\\frac{V y}{h}\\end{matrix}\\right]$$"
      ],
      "text/plain": [
       "⎡U⋅y⎤\n",
       "⎢───⎥\n",
       "⎢ h ⎥\n",
       "⎢   ⎥\n",
       "⎢V⋅y⎥\n",
       "⎢───⎥\n",
       "⎣ h ⎦"
      ]
     },
     "execution_count": 3,
     "metadata": {},
     "output_type": "execute_result"
    }
   ],
   "source": [
    "xi = sympy.Matrix((U * y/h, V * y / h))\n",
    "\n",
    "xi"
   ]
  },
  {
   "cell_type": "markdown",
   "metadata": {},
   "source": [
    "On peut calculer l'énergie potentielle associée à ce champ de déplacement, constituée de deux termes. Le premier est l'énergie des forces extérieures."
   ]
  },
  {
   "cell_type": "code",
   "execution_count": 4,
   "metadata": {},
   "outputs": [],
   "source": [
    "gamma_e, gamma = sympy.symbols('gamma_e, gamma')"
   ]
  },
  {
   "cell_type": "markdown",
   "metadata": {},
   "source": [
    "La première composante vient des forces de gravité :"
   ]
  },
  {
   "cell_type": "code",
   "execution_count": 5,
   "metadata": {},
   "outputs": [
    {
     "data": {
      "image/png": "[encoded data removed]",
      "text/latex": [
       "$$- \\frac{V \\gamma}{6} h l$$"
      ],
      "text/plain": [
       "-V⋅γ⋅h⋅l \n",
       "─────────\n",
       "    6    "
      ]
     },
     "execution_count": 5,
     "metadata": {},
     "output_type": "execute_result"
    }
   ],
   "source": [
    "phi1 = sympy.integrate(-gamma * xi[1], (y, 0, h - x/l*h), (x, 0, l))\n",
    "phi1"
   ]
  },
  {
   "cell_type": "markdown",
   "metadata": {},
   "source": [
    "La deuxième vient des forces hydrostatiques de l'eau :"
   ]
  },
  {
   "cell_type": "code",
   "execution_count": 6,
   "metadata": {},
   "outputs": [],
   "source": [
    "m = sympy.symbols('m')"
   ]
  },
  {
   "cell_type": "code",
   "execution_count": 7,
   "metadata": {},
   "outputs": [
    {
     "data": {
      "image/png": "[encoded data removed]",
      "text/latex": [
       "$$\\frac{U \\gamma_{e}}{6} h^{2} m^{3}$$"
      ],
      "text/plain": [
       "      2  3\n",
       "U⋅γₑ⋅h ⋅m \n",
       "──────────\n",
       "    6     "
      ]
     },
     "execution_count": 7,
     "metadata": {},
     "output_type": "execute_result"
    }
   ],
   "source": [
    "phi2 = sympy.integrate(gamma_e * (m * h - y) * xi[0], (y, 0, m*h))\n",
    "phi2"
   ]
  },
  {
   "cell_type": "markdown",
   "metadata": {},
   "source": [
    "Il faut maintenant calcul le travail élastique. Construisons le tenseur epsilon :"
   ]
  },
  {
   "cell_type": "code",
   "execution_count": 8,
   "metadata": {},
   "outputs": [
    {
     "data": {
      "text/latex": [
       "$$\\left[\\begin{matrix}0 & \\frac{U}{h}\\\\0 & \\frac{V}{h}\\end{matrix}\\right]$$"
      ],
      "text/plain": [
       "⎡   U⎤\n",
       "⎢0  ─⎥\n",
       "⎢   h⎥\n",
       "⎢    ⎥\n",
       "⎢   V⎥\n",
       "⎢0  ─⎥\n",
       "⎣   h⎦"
      ]
     },
     "execution_count": 8,
     "metadata": {},
     "output_type": "execute_result"
    }
   ],
   "source": [
    "grad_xi = sympy.Matrix([[sympy.diff(xi[0], x), sympy.diff(xi[0], y)],\n",
    "                       [sympy.diff(xi[1], x), sympy.diff(xi[1], y)]])\n",
    "grad_xi"
   ]
  },
  {
   "cell_type": "code",
   "execution_count": 9,
   "metadata": {},
   "outputs": [
    {
     "data": {
      "text/latex": [
       "$$\\left[\\begin{matrix}0 & \\frac{U}{2 h}\\\\\\frac{U}{2 h} & \\frac{V}{h}\\end{matrix}\\right]$$"
      ],
      "text/plain": [
       "⎡      U ⎤\n",
       "⎢ 0   ───⎥\n",
       "⎢     2⋅h⎥\n",
       "⎢        ⎥\n",
       "⎢ U    V ⎥\n",
       "⎢───   ─ ⎥\n",
       "⎣2⋅h   h ⎦"
      ]
     },
     "execution_count": 9,
     "metadata": {},
     "output_type": "execute_result"
    }
   ],
   "source": [
    "epsilon = 1 / sympy.S(2) * (grad_xi + grad_xi.transpose())\n",
    "epsilon"
   ]
  },
  {
   "cell_type": "code",
   "execution_count": 10,
   "metadata": {},
   "outputs": [],
   "source": [
    "lambda_, mu = sympy.symbols('lambda, mu')"
   ]
  },
  {
   "cell_type": "code",
   "execution_count": 11,
   "metadata": {},
   "outputs": [
    {
     "data": {
      "image/png": "[encoded data removed]",
      "text/latex": [
       "$$\\frac{l}{4 h} \\left(- U^{2} \\mu - V^{2} \\lambda - 2 V^{2} \\mu\\right) + \\frac{l}{2 h} \\left(U^{2} \\mu + V^{2} \\lambda + 2 V^{2} \\mu\\right)$$"
      ],
      "text/plain": [
       "  ⎛   2      2        2  ⎞     ⎛ 2      2        2  ⎞\n",
       "l⋅⎝- U ⋅μ - V ⋅λ - 2⋅V ⋅μ⎠   l⋅⎝U ⋅μ + V ⋅λ + 2⋅V ⋅μ⎠\n",
       "────────────────────────── + ────────────────────────\n",
       "           4⋅h                         2⋅h           "
      ]
     },
     "execution_count": 11,
     "metadata": {},
     "output_type": "execute_result"
    }
   ],
   "source": [
    "W = sympy.integrate(lambda_ / sympy.S(2) * epsilon.trace()**2 + mu * (epsilon * epsilon).trace(), (y, 0, h-x/l*h), (x, 0, l))\n",
    "W"
   ]
  },
  {
   "cell_type": "code",
   "execution_count": 12,
   "metadata": {},
   "outputs": [
    {
     "data": {
      "image/png": "[encoded data removed]",
      "text/latex": [
       "$$\\frac{l}{4 h} \\left(U^{2} \\mu + V^{2} \\lambda + 2 V^{2} \\mu\\right)$$"
      ],
      "text/plain": [
       "  ⎛ 2      2        2  ⎞\n",
       "l⋅⎝U ⋅μ + V ⋅λ + 2⋅V ⋅μ⎠\n",
       "────────────────────────\n",
       "          4⋅h           "
      ]
     },
     "execution_count": 12,
     "metadata": {},
     "output_type": "execute_result"
    }
   ],
   "source": [
    "sympy.factor(W)"
   ]
  },
  {
   "cell_type": "markdown",
   "metadata": {},
   "source": [
    "On peut maintenant minimiser en U et V la fonctionnelle suivante :"
   ]
  },
  {
   "cell_type": "code",
   "execution_count": 13,
   "metadata": {},
   "outputs": [
    {
     "data": {
      "image/png": "[encoded data removed]",
      "text/latex": [
       "$$- \\frac{U \\gamma_{e}}{6} h^{2} m^{3} + \\frac{V \\gamma}{6} h l + \\frac{l}{4 h} \\left(- U^{2} \\mu - V^{2} \\lambda - 2 V^{2} \\mu\\right) + \\frac{l}{2 h} \\left(U^{2} \\mu + V^{2} \\lambda + 2 V^{2} \\mu\\right)$$"
      ],
      "text/plain": [
       "        2  3               ⎛   2      2        2  ⎞     ⎛ 2      2        2  ⎞\n",
       "  U⋅γₑ⋅h ⋅m    V⋅γ⋅h⋅l   l⋅⎝- U ⋅μ - V ⋅λ - 2⋅V ⋅μ⎠   l⋅⎝U ⋅μ + V ⋅λ + 2⋅V ⋅μ⎠\n",
       "- ────────── + ─────── + ────────────────────────── + ────────────────────────\n",
       "      6           6                 4⋅h                         2⋅h           "
      ]
     },
     "execution_count": 13,
     "metadata": {},
     "output_type": "execute_result"
    }
   ],
   "source": [
    "func = W - phi1 - phi2\n",
    "func"
   ]
  },
  {
   "cell_type": "markdown",
   "metadata": {},
   "source": [
    "On écrit qu'au point minimum, la dérivée s'annule, ce qui donne un système de deux équations à deux inconnues :"
   ]
  },
  {
   "cell_type": "code",
   "execution_count": 14,
   "metadata": {},
   "outputs": [
    {
     "data": {
      "image/png": "[encoded data removed]",
      "text/latex": [
       "$$\\frac{U l \\mu}{2 h} - \\frac{\\gamma_{e} h^{2}}{6} m^{3}$$"
      ],
      "text/plain": [
       "            2  3\n",
       "U⋅l⋅μ   γₑ⋅h ⋅m \n",
       "───── - ────────\n",
       " 2⋅h       6    "
      ]
     },
     "execution_count": 14,
     "metadata": {},
     "output_type": "execute_result"
    }
   ],
   "source": [
    "sympy.diff(func, U)"
   ]
  },
  {
   "cell_type": "code",
   "execution_count": 15,
   "metadata": {},
   "outputs": [
    {
     "data": {
      "image/png": "[encoded data removed]",
      "text/latex": [
       "$$\\frac{\\gamma h}{6} l + \\frac{l}{4 h} \\left(- 2 V \\lambda - 4 V \\mu\\right) + \\frac{l}{2 h} \\left(2 V \\lambda + 4 V \\mu\\right)$$"
      ],
      "text/plain": [
       "γ⋅h⋅l   l⋅(-2⋅V⋅λ - 4⋅V⋅μ)   l⋅(2⋅V⋅λ + 4⋅V⋅μ)\n",
       "───── + ────────────────── + ─────────────────\n",
       "  6            4⋅h                  2⋅h       "
      ]
     },
     "execution_count": 15,
     "metadata": {},
     "output_type": "execute_result"
    }
   ],
   "source": [
    "sympy.diff(func, V)"
   ]
  },
  {
   "cell_type": "markdown",
   "metadata": {},
   "source": [
    "Que l'on peut résoudre :"
   ]
  },
  {
   "cell_type": "code",
   "execution_count": 16,
   "metadata": {},
   "outputs": [
    {
     "data": {
      "image/png": "[encoded data removed]",
      "text/latex": [
       "$$\\left \\{ U : \\frac{\\gamma_{e} h^{3} m^{3}}{3 l \\mu}, \\quad V : - \\frac{\\gamma h^{2}}{3 \\lambda + 6 \\mu}\\right \\}$$"
      ],
      "text/plain": [
       "⎧       3  3           2  ⎫\n",
       "⎪   γₑ⋅h ⋅m        -γ⋅h   ⎪\n",
       "⎨U: ────────, V: ─────────⎬\n",
       "⎪    3⋅l⋅μ       3⋅λ + 6⋅μ⎪\n",
       "⎩                         ⎭"
      ]
     },
     "execution_count": 16,
     "metadata": {},
     "output_type": "execute_result"
    }
   ],
   "source": [
    "sols = sympy.solve([sympy.diff(func, U),\n",
    "             sympy.diff(func, V)], (U, V))\n",
    "sols"
   ]
  },
  {
   "cell_type": "markdown",
   "metadata": {},
   "source": [
    "On peut maintenant dessiner dans un cas simple la déformée :"
   ]
  },
  {
   "cell_type": "code",
   "execution_count": 17,
   "metadata": {},
   "outputs": [],
   "source": [
    "import matplotlib.pyplot as plt\n",
    "import numpy as np\n",
    "%matplotlib inline"
   ]
  },
  {
   "cell_type": "code",
   "execution_count": 18,
   "metadata": {},
   "outputs": [
    {
     "data": {
      "image/png": "[encoded data removed]",
      "text/latex": [
       "$$- \\frac{\\gamma h y}{3 \\lambda + 6 \\mu}$$"
      ],
      "text/plain": [
       " -γ⋅h⋅y  \n",
       "─────────\n",
       "3⋅λ + 6⋅μ"
      ]
     },
     "execution_count": 18,
     "metadata": {},
     "output_type": "execute_result"
    }
   ],
   "source": [
    "xi[1].subs(sols)"
   ]
  },
  {
   "cell_type": "code",
   "execution_count": 19,
   "metadata": {},
   "outputs": [],
   "source": [
    "def plot_dam_solution():\n",
    "    \"\"\"Plots the dam problem solution.\"\"\"\n",
    "    l_, h_ = 0.5, 0.3\n",
    "    gamma_e_ = 0.5\n",
    "    gamma_ = 0.1\n",
    "    mu_ = 0.2\n",
    "    m_ = 1.\n",
    "    lambda__ = 0.1\n",
    "    A = (0,  0)\n",
    "    B = (l_, 0)\n",
    "    C = (0, h_)\n",
    "    points = np.c_[A, B, C, A].T\n",
    "    plt.plot(points[:, 0], points[:, 1], '-o', label='dam (original)')\n",
    "    Cd = np.array(C)\n",
    "    Cd[0] += xi[0].subs(sols).subs({gamma_e:gamma_e_, h:h_, l:l_, mu:mu_, m: m_, y:h_})\n",
    "    Cd[1] += xi[1].subs(sols).subs({gamma_e:gamma_e_, h:h_, l:l_, mu:mu_, m: m_, y:h_, gamma: gamma_, lambda_: lambda__})\n",
    "    points2 = np.c_[A, B, Cd, A].T\n",
    "    plt.plot(points2[:, 0], points2[:, 1], '-o', label='dam (displaced)')\n",
    "    plt.legend()"
   ]
  },
  {
   "cell_type": "code",
   "execution_count": 20,
   "metadata": {},
   "outputs": [
    {
     "data": {
      "image/png": "[encoded data removed]",
      "text/plain": [
       "<matplotlib.figure.Figure at 0xa63c940>"
      ]
     },
     "metadata": {},
     "output_type": "display_data"
    }
   ],
   "source": [
    "plot_dam_solution()"
   ]
  },
  {
   "cell_type": "markdown",
   "metadata": {},
   "source": [
    "On peut également manipuler la solution de manière interactive :"
   ]
  },
  {
   "cell_type": "code",
   "execution_count": 21,
   "metadata": {},
   "outputs": [],
   "source": [
    "from ipywidgets import interact"
   ]
  },
  {
   "cell_type": "code",
   "execution_count": 22,
   "metadata": {},
   "outputs": [
    {
     "data": {
      "application/vnd.jupyter.widget-view+json": {
       "model_id": "ba3a29a121f741d2886c953d587a7da1",
       "version_major": 2,
       "version_minor": 0
      },
      "text/html": [
       "<p>Failed to display Jupyter Widget of type <code>interactive</code>.</p>\n",
       "<p>\n",
       "  If you're reading this message in Jupyter Notebook or JupyterLab, it may mean\n",
       "  that the widgets JavaScript is still loading. If this message persists, it\n",
       "  likely means that the widgets JavaScript library is either not installed or\n",
       "  not enabled. See the <a href=\"https://ipywidgets.readthedocs.io/en/stable/user_install.html\">Jupyter\n",
       "  Widgets Documentation</a> for setup instructions.\n",
       "</p>\n",
       "<p>\n",
       "  If you're reading this message in another notebook frontend (for example, a static\n",
       "  rendering on GitHub or <a href=\"https://nbviewer.jupyter.org/\">NBViewer</a>),\n",
       "  it may mean that your frontend doesn't currently support widgets.\n",
       "</p>\n"
      ],
      "text/plain": [
       "interactive(children=(FloatSlider(value=0.5, description='l_', max=1.5, min=-0.5), FloatSlider(value=0.3, description='h_', max=0.8999999999999999, min=-0.3), FloatSlider(value=0.5, description='gamma_e_', max=1.5, min=-0.5), FloatSlider(value=0.1, description='gamma_', max=0.30000000000000004, min=-0.1), FloatSlider(value=0.2, description='mu_', max=0.6000000000000001, min=-0.2), FloatSlider(value=1.0, description='m_', max=3.0, min=-1.0), FloatSlider(value=0.1, description='lambda__', max=0.30000000000000004, min=-0.1), Output()), _dom_classes=('widget-interact',))"
      ]
     },
     "metadata": {},
     "output_type": "display_data"
    }
   ],
   "source": [
    "@interact\n",
    "def plot_dam_solution(l_=0.5, \n",
    "                      h_=0.3,\n",
    "                      gamma_e_ = 0.5,\n",
    "                      gamma_ = 0.1,\n",
    "                      mu_ = 0.2,\n",
    "                      m_ = 1.,\n",
    "                      lambda__ = 0.1):\n",
    "    \"\"\"Plots the dam problem solution.\"\"\"\n",
    "    \n",
    "    A = (0,  0)\n",
    "    B = (l_, 0)\n",
    "    C = (0, h_)\n",
    "    points = np.c_[A, B, C, A].T\n",
    "    plt.plot(points[:, 0], points[:, 1], '-o', label='dam (original)')\n",
    "    Cd = np.array(C)\n",
    "    Cd[0] += xi[0].subs(sols).subs({gamma_e:gamma_e_, h:h_, l:l_, mu:mu_, m: m_, y:h_})\n",
    "    Cd[1] += xi[1].subs(sols).subs({gamma_e:gamma_e_, h:h_, l:l_, mu:mu_, m: m_, y:h_, gamma: gamma_, lambda_: lambda__})\n",
    "    points2 = np.c_[A, B, Cd, A].T\n",
    "    plt.plot(points2[:, 0], points2[:, 1], '-o', label='dam (displaced)')\n",
    "    plt.legend()"
   ]
  },
  {
   "cell_type": "markdown",
   "metadata": {},
   "source": [
    "Comme noté dans le guide, on peut remarquer que la solution trouvée n'est pas compatible avec les conditions cinématiques et statiques..."
   ]
  },
  {
   "cell_type": "markdown",
   "metadata": {},
   "source": [
    "# Recherche de la solution approchée par éléments finis "
   ]
  },
  {
   "cell_type": "markdown",
   "metadata": {},
   "source": [
    "Todo : continuer la description pour l'élément de type 1 du maillage, puis l'élément 2 dans lequel on traite : l'énergie élastique, les efforts imposés et enfin le lagrangien pour imposer des déplacements dans la résolution du système."
   ]
  }
 ],
 "metadata": {
  "kernelspec": {
   "display_name": "Python 3",
   "language": "python",
   "name": "python3"
  },
  "language_info": {
   "codemirror_mode": {
    "name": "ipython",
    "version": 3
   },
   "file_extension": ".py",
   "mimetype": "text/x-python",
   "name": "python",
   "nbconvert_exporter": "python",
   "pygments_lexer": "ipython3",
   "version": "3.5.2"
  }
 },
 "nbformat": 4,
 "nbformat_minor": 2
}
