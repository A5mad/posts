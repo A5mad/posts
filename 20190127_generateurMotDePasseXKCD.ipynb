{
 "cells": [
  {
   "cell_type": "markdown",
   "metadata": {},
   "source": [
    "Depuis le début de l'année, j'utilise le gestionnaire de mot de passe open-source [Keepass](https://keepass.info) et j'en suis très satisfait. \n",
    "\n",
    "En général, j'utilise le générateur de mot de passe intégré pour créer des nouveaux mots de passe. Ceux-ci ont le désavantage d'être impossibles à mémoriser. \n",
    "\n",
    "Peut-on faire mieux ? Je pense que oui, si l'objectif est de générer un mot de passe qui peut être mémorisé facilement.\n",
    "\n",
    "Comment ? En exploitant l'idée proposée dans le XKCD ci-dessous et en l'adaptant à la langue française !"
   ]
  },
  {
   "cell_type": "code",
   "execution_count": 1,
   "metadata": {},
   "outputs": [
    {
     "data": {
      "text/html": [
       "<img src=\"https://imgs.xkcd.com/comics/password_strength.png\"/>"
      ],
      "text/plain": [
       "<IPython.core.display.Image object>"
      ]
     },
     "execution_count": 1,
     "metadata": {},
     "output_type": "execute_result"
    }
   ],
   "source": [
    "from IPython.display import Image\n",
    "\n",
    "Image(url='https://imgs.xkcd.com/comics/password_strength.png')"
   ]
  },
  {
   "cell_type": "markdown",
   "metadata": {},
   "source": [
    "# Mots français"
   ]
  },
  {
   "cell_type": "markdown",
   "metadata": {},
   "source": [
    "Pour commencer, il nous faut une liste de mots de la langue française, que l'on peut trouver ici : http://www.pallier.org/liste-de-mots-francais.html\n",
    "\n",
    "Avec `pandas`, nous pouvons facilement télécharger la liste de mot et la transformer en `DataFrame`."
   ]
  },
  {
   "cell_type": "code",
   "execution_count": 2,
   "metadata": {},
   "outputs": [
    {
     "data": {
      "text/html": [
       "<div>\n",
       "<style>\n",
       "    .dataframe thead tr:only-child th {\n",
       "        text-align: right;\n",
       "    }\n",
       "\n",
       "    .dataframe thead th {\n",
       "        text-align: left;\n",
       "    }\n",
       "\n",
       "    .dataframe tbody tr th {\n",
       "        vertical-align: top;\n",
       "    }\n",
       "</style>\n",
       "<table border=\"1\" class=\"dataframe\">\n",
       "  <thead>\n",
       "    <tr style=\"text-align: right;\">\n",
       "      <th></th>\n",
       "      <th>0</th>\n",
       "    </tr>\n",
       "  </thead>\n",
       "  <tbody>\n",
       "    <tr>\n",
       "      <th>0</th>\n",
       "      <td>a</td>\n",
       "    </tr>\n",
       "    <tr>\n",
       "      <th>1</th>\n",
       "      <td>à</td>\n",
       "    </tr>\n",
       "    <tr>\n",
       "      <th>2</th>\n",
       "      <td>abaissa</td>\n",
       "    </tr>\n",
       "    <tr>\n",
       "      <th>3</th>\n",
       "      <td>abaissable</td>\n",
       "    </tr>\n",
       "    <tr>\n",
       "      <th>4</th>\n",
       "      <td>abaissables</td>\n",
       "    </tr>\n",
       "  </tbody>\n",
       "</table>\n",
       "</div>"
      ],
      "text/plain": [
       "             0\n",
       "0            a\n",
       "1            à\n",
       "2      abaissa\n",
       "3   abaissable\n",
       "4  abaissables"
      ]
     },
     "execution_count": 2,
     "metadata": {},
     "output_type": "execute_result"
    }
   ],
   "source": [
    "import pandas as pd\n",
    "\n",
    "df = pd.read_csv('http://www.pallier.org/extra/liste.de.mots.francais.frgut.txt', header=None)\n",
    "\n",
    "df.head()"
   ]
  },
  {
   "cell_type": "markdown",
   "metadata": {},
   "source": [
    "# Une liste de mot aléatoire"
   ]
  },
  {
   "cell_type": "markdown",
   "metadata": {},
   "source": [
    "Maintenant, nous pouvons mettre en oeuvre un algorithme de génération : tirer quatre mots au hasard et les assembler."
   ]
  },
  {
   "cell_type": "code",
   "execution_count": 3,
   "metadata": {},
   "outputs": [
    {
     "data": {
      "text/plain": [
       "['limettiers', 'ressentirions', 'prédisposée', 'désolidarisassions']"
      ]
     },
     "execution_count": 3,
     "metadata": {},
     "output_type": "execute_result"
    }
   ],
   "source": [
    "from numpy.random import choice\n",
    "\n",
    "def make_password(df, n=4):\n",
    "    \"\"\"Generates a password by randomly selecting n words from the dataframe.\"\"\"\n",
    "    indices = choice(df.index, size=4, replace=True)\n",
    "    return [item[0] for item in df.loc[indices].values.tolist()]\n",
    "\n",
    "make_password(df)"
   ]
  },
  {
   "cell_type": "markdown",
   "metadata": {},
   "source": [
    "On peut également calculer l'entropie du mot de passe ainsi proposé (voir ici : https://crypto.stackexchange.com/questions/374/how-should-i-calculate-the-entropy-of-a-password) :"
   ]
  },
  {
   "cell_type": "code",
   "execution_count": 4,
   "metadata": {},
   "outputs": [
    {
     "data": {
      "text/plain": [
       "(73.4415195246536, 91.801899405817, 183.603798811634)"
      ]
     },
     "execution_count": 4,
     "metadata": {},
     "output_type": "execute_result"
    }
   ],
   "source": [
    "from numpy import log2\n",
    "\n",
    "def compute_entropy_bits(df, n=4):\n",
    "    \"\"\"Returns bits of entropy computed using: 4 * log_2(n) \n",
    "    where n is the length of the list we're choosing words from.\"\"\"\n",
    "    return n * log2(df.size)\n",
    "\n",
    "compute_entropy_bits(df, n=4), compute_entropy_bits(df, n=5), compute_entropy_bits(df, n=10)"
   ]
  },
  {
   "cell_type": "markdown",
   "metadata": {},
   "source": [
    "# Et pourquoi pas une petite IHM ? "
   ]
  },
  {
   "cell_type": "markdown",
   "metadata": {},
   "source": [
    "Finalement, on peut faire une petite IHM pour pour facilement générer un mot de passe de quatre mots."
   ]
  },
  {
   "cell_type": "code",
   "execution_count": 5,
   "metadata": {},
   "outputs": [
    {
     "data": {
      "application/vnd.jupyter.widget-view+json": {
       "model_id": "d6c135be4a604e5bb788f11e4b715d22",
       "version_major": 2,
       "version_minor": 0
      },
      "text/html": [
       "<p>Failed to display Jupyter Widget of type <code>VBox</code>.</p>\n",
       "<p>\n",
       "  If you're reading this message in the Jupyter Notebook or JupyterLab Notebook, it may mean\n",
       "  that the widgets JavaScript is still loading. If this message persists, it\n",
       "  likely means that the widgets JavaScript library is either not installed or\n",
       "  not enabled. See the <a href=\"https://ipywidgets.readthedocs.io/en/stable/user_install.html\">Jupyter\n",
       "  Widgets Documentation</a> for setup instructions.\n",
       "</p>\n",
       "<p>\n",
       "  If you're reading this message in another frontend (for example, a static\n",
       "  rendering on GitHub or <a href=\"https://nbviewer.jupyter.org/\">NBViewer</a>),\n",
       "  it may mean that your frontend doesn't currently support widgets.\n",
       "</p>\n"
      ],
      "text/plain": [
       "VBox(children=(HBox(children=(Button(description='autre mot 1', style=ButtonStyle()), Button(description='autre mot 2', style=ButtonStyle()), Button(description='autre mot 3', style=ButtonStyle()), Button(description='autre mot 4', style=ButtonStyle()), Button(description='nouveau', style=ButtonStyle()))), HTML(value='<b>recardait </b><i>étuvez </i><b>paganisiez </b><i>défibrasse</i>', description='mot de passe')))"
      ]
     },
     "metadata": {},
     "output_type": "display_data"
    }
   ],
   "source": [
    "from ipywidgets import Button, HBox, VBox, HTML\n",
    "\n",
    "class GUI:\n",
    "    def __init__(self):\n",
    "        self.buttons = [Button(description='autre mot {}'.format(i)) for i in range(1, 5)]\n",
    "        self.reset = Button(description='nouveau')\n",
    "        self.passwordbox = HTML(description='mot de passe')\n",
    "        self.create_new_word()\n",
    "        \n",
    "        def on_new_click(b):\n",
    "            self.create_new_word()        \n",
    "        self.reset.on_click(on_new_click)\n",
    "        \n",
    "        def on_word_click(b):\n",
    "            pos = [b.description for b in self.buttons].index(b.description)\n",
    "            self.change_word(pos=pos)\n",
    "        for button in self.buttons:\n",
    "            button.on_click(on_word_click)\n",
    "            \n",
    "    def show(self):\n",
    "        return VBox([HBox(self.buttons + [self.reset]),\n",
    "                     self.passwordbox])\n",
    "    \n",
    "    def create_new_word(self):\n",
    "        self.words = make_password(df)\n",
    "        self.passwordbox.value = \"<b>{} </b><i>{} </i><b>{} </b><i>{}</i>\".format(*self.words)\n",
    "        \n",
    "    \n",
    "    def change_word(self, pos=0):\n",
    "        self.words[pos] = make_password(df)[pos]\n",
    "        self.passwordbox.value = \"<b>{} </b><i>{} </i><b>{} </b><i>{}</i>\".format(*self.words)\n",
    "\n",
    "gui = GUI()\n",
    "gui.show()"
   ]
  },
  {
   "cell_type": "markdown",
   "metadata": {},
   "source": [
    "Et voilà, un petit outil simple qui permet de générer des mots de passe personnalisés !"
   ]
  }
 ],
 "metadata": {
  "kernelspec": {
   "display_name": "Python 3",
   "language": "python",
   "name": "python3"
  },
  "language_info": {
   "codemirror_mode": {
    "name": "ipython",
    "version": 3
   },
   "file_extension": ".py",
   "mimetype": "text/x-python",
   "name": "python",
   "nbconvert_exporter": "python",
   "pygments_lexer": "ipython3",
   "version": "3.6.5"
  },
  "toc": {
   "colors": {
    "hover_highlight": "#DAA520",
    "navigate_num": "#000000",
    "navigate_text": "#333333",
    "running_highlight": "#FF0000",
    "selected_highlight": "#FFD700",
    "sidebar_border": "#EEEEEE",
    "wrapper_background": "#FFFFFF"
   },
   "moveMenuLeft": true,
   "nav_menu": {
    "height": "12px",
    "width": "252px"
   },
   "navigate_menu": true,
   "number_sections": true,
   "sideBar": true,
   "threshold": 4,
   "toc_cell": false,
   "toc_section_display": "block",
   "toc_window_display": false,
   "widenNotebook": false
  },
  "widgets": {
   "application/vnd.jupyter.widget-state+json": {
    "state": {
     "0628dd66951e4b03a8b04c4cf65182d7": {
      "model_module": "@jupyter-widgets/controls",
      "model_module_version": "1.0.0",
      "model_name": "ButtonStyleModel",
      "state": {}
     },
     "0f35d9734a44488dae010b4d176ed885": {
      "model_module": "@jupyter-widgets/base",
      "model_module_version": "1.0.0",
      "model_name": "LayoutModel",
      "state": {}
     },
     "1283d9d164bb4474a9619d4633b00fd4": {
      "model_module": "@jupyter-widgets/controls",
      "model_module_version": "1.0.0",
      "model_name": "ButtonStyleModel",
      "state": {}
     },
     "12d7a4c9fd9146efae607758d60a3e30": {
      "model_module": "@jupyter-widgets/base",
      "model_module_version": "1.0.0",
      "model_name": "LayoutModel",
      "state": {}
     },
     "1925cc96bfdd4f3098e6ea4d915fbb37": {
      "model_module": "@jupyter-widgets/base",
      "model_module_version": "1.0.0",
      "model_name": "LayoutModel",
      "state": {}
     },
     "230367cbb2b8413390bba3f0a63d816b": {
      "model_module": "@jupyter-widgets/controls",
      "model_module_version": "1.0.0",
      "model_name": "DescriptionStyleModel",
      "state": {
       "description_width": ""
      }
     },
     "29d50446bcda45ae87a27de3ba17f5a5": {
      "model_module": "@jupyter-widgets/base",
      "model_module_version": "1.0.0",
      "model_name": "LayoutModel",
      "state": {}
     },
     "323c83b6af604a6eb2a660fc09a89656": {
      "model_module": "@jupyter-widgets/base",
      "model_module_version": "1.0.0",
      "model_name": "LayoutModel",
      "state": {}
     },
     "325348be3b104a4f98542eed42f7ad44": {
      "model_module": "@jupyter-widgets/base",
      "model_module_version": "1.0.0",
      "model_name": "LayoutModel",
      "state": {}
     },
     "3a29b1ca70cf4010a8ff246c37651055": {
      "model_module": "@jupyter-widgets/controls",
      "model_module_version": "1.0.0",
      "model_name": "ButtonStyleModel",
      "state": {}
     },
     "4068d054890a4f1c9a4f180107e3ce5f": {
      "model_module": "@jupyter-widgets/base",
      "model_module_version": "1.0.0",
      "model_name": "LayoutModel",
      "state": {}
     },
     "4a6349e2a85f4049a56c99e5a1882c99": {
      "model_module": "@jupyter-widgets/base",
      "model_module_version": "1.0.0",
      "model_name": "LayoutModel",
      "state": {}
     },
     "5012cfc5a326456eae9d9f8c9b1db9da": {
      "model_module": "@jupyter-widgets/controls",
      "model_module_version": "1.0.0",
      "model_name": "HBoxModel",
      "state": {
       "children": [
        "IPY_MODEL_e6abb9a4027743acbcfeff665ae90f08",
        "IPY_MODEL_6eefc2e5421340589482c216a75b83db",
        "IPY_MODEL_cd27eaccf43b4cdd8f2236558fe4e013",
        "IPY_MODEL_9936fa894e73477584a7e150d5697637",
        "IPY_MODEL_726e2744c1564a04859e651c29de8978"
       ],
       "layout": "IPY_MODEL_12d7a4c9fd9146efae607758d60a3e30"
      }
     },
     "5875e38817224a6fbba6e9db0e3c8a14": {
      "model_module": "@jupyter-widgets/controls",
      "model_module_version": "1.0.0",
      "model_name": "VBoxModel",
      "state": {
       "children": [
        "IPY_MODEL_5012cfc5a326456eae9d9f8c9b1db9da",
        "IPY_MODEL_cdd10590269f4825aee1e07d7ca51d67"
       ],
       "layout": "IPY_MODEL_e32e02b5931047ffa774f53fd2b1f562"
      }
     },
     "5e091f583d984fb29e7f573bf6e5845f": {
      "model_module": "@jupyter-widgets/controls",
      "model_module_version": "1.0.0",
      "model_name": "ButtonModel",
      "state": {
       "description": "nouveau",
       "layout": "IPY_MODEL_4a6349e2a85f4049a56c99e5a1882c99",
       "style": "IPY_MODEL_cda8e6f0360f4f3ca95d6ec0e601363d"
      }
     },
     "6383644762db4e5faf9729774ac2b167": {
      "model_module": "@jupyter-widgets/controls",
      "model_module_version": "1.0.0",
      "model_name": "ButtonStyleModel",
      "state": {}
     },
     "63c9cde41c754472bbee322803fd579d": {
      "model_module": "@jupyter-widgets/controls",
      "model_module_version": "1.0.0",
      "model_name": "ButtonStyleModel",
      "state": {}
     },
     "6410f4849ddb4ff7b07d7b8e9d46851b": {
      "model_module": "@jupyter-widgets/controls",
      "model_module_version": "1.0.0",
      "model_name": "ButtonModel",
      "state": {
       "description": "autre mot 4",
       "layout": "IPY_MODEL_323c83b6af604a6eb2a660fc09a89656",
       "style": "IPY_MODEL_eecef321de00426ca3f9a21be7db0579"
      }
     },
     "65bd533c16f34f229f7b08bab5fcbf1d": {
      "model_module": "@jupyter-widgets/base",
      "model_module_version": "1.0.0",
      "model_name": "LayoutModel",
      "state": {}
     },
     "6a011e62504b4681a7f14b0b528baf46": {
      "model_module": "@jupyter-widgets/controls",
      "model_module_version": "1.0.0",
      "model_name": "ButtonModel",
      "state": {
       "description": "autre mot 1",
       "layout": "IPY_MODEL_88bf7f6482c84221a55064ecd3e1f78d",
       "style": "IPY_MODEL_3a29b1ca70cf4010a8ff246c37651055"
      }
     },
     "6b46164f7bb34c86b4b471bd353c6745": {
      "model_module": "@jupyter-widgets/controls",
      "model_module_version": "1.0.0",
      "model_name": "HBoxModel",
      "state": {
       "children": [
        "IPY_MODEL_6a011e62504b4681a7f14b0b528baf46",
        "IPY_MODEL_f4de02eee0b64476bd5107bf237a28de",
        "IPY_MODEL_ec95af718bf14e95a4d64f40984ccac2",
        "IPY_MODEL_6410f4849ddb4ff7b07d7b8e9d46851b",
        "IPY_MODEL_5e091f583d984fb29e7f573bf6e5845f"
       ],
       "layout": "IPY_MODEL_eb3b3be3efdd43e885a6341d617a80cb"
      }
     },
     "6eefc2e5421340589482c216a75b83db": {
      "model_module": "@jupyter-widgets/controls",
      "model_module_version": "1.0.0",
      "model_name": "ButtonModel",
      "state": {
       "description": "autre mot 2",
       "layout": "IPY_MODEL_d908317bb83f4bbb9a087b9ad09ba245",
       "style": "IPY_MODEL_d0e8b455b39546f4ac08982046a580d0"
      }
     },
     "726e2744c1564a04859e651c29de8978": {
      "model_module": "@jupyter-widgets/controls",
      "model_module_version": "1.0.0",
      "model_name": "ButtonModel",
      "state": {
       "description": "nouveau",
       "layout": "IPY_MODEL_29d50446bcda45ae87a27de3ba17f5a5",
       "style": "IPY_MODEL_63c9cde41c754472bbee322803fd579d"
      }
     },
     "749eb515b93949838b39915788733327": {
      "model_module": "@jupyter-widgets/base",
      "model_module_version": "1.0.0",
      "model_name": "LayoutModel",
      "state": {}
     },
     "7730c1af828a423580a28a79ff4b158b": {
      "model_module": "@jupyter-widgets/controls",
      "model_module_version": "1.0.0",
      "model_name": "ButtonStyleModel",
      "state": {}
     },
     "88bf7f6482c84221a55064ecd3e1f78d": {
      "model_module": "@jupyter-widgets/base",
      "model_module_version": "1.0.0",
      "model_name": "LayoutModel",
      "state": {}
     },
     "9936fa894e73477584a7e150d5697637": {
      "model_module": "@jupyter-widgets/controls",
      "model_module_version": "1.0.0",
      "model_name": "ButtonModel",
      "state": {
       "description": "autre mot 4",
       "layout": "IPY_MODEL_cc99130cfd7e4f5f8eb9fdbf378adc5c",
       "style": "IPY_MODEL_0628dd66951e4b03a8b04c4cf65182d7"
      }
     },
     "a692069000af4d32bf64165bd1fd96aa": {
      "model_module": "@jupyter-widgets/controls",
      "model_module_version": "1.0.0",
      "model_name": "DescriptionStyleModel",
      "state": {
       "description_width": ""
      }
     },
     "bb8e5a45b5894ca4ab7bfa915d01c0ee": {
      "model_module": "@jupyter-widgets/controls",
      "model_module_version": "1.0.0",
      "model_name": "ButtonStyleModel",
      "state": {}
     },
     "cc99130cfd7e4f5f8eb9fdbf378adc5c": {
      "model_module": "@jupyter-widgets/base",
      "model_module_version": "1.0.0",
      "model_name": "LayoutModel",
      "state": {}
     },
     "cd27eaccf43b4cdd8f2236558fe4e013": {
      "model_module": "@jupyter-widgets/controls",
      "model_module_version": "1.0.0",
      "model_name": "ButtonModel",
      "state": {
       "description": "autre mot 3",
       "layout": "IPY_MODEL_325348be3b104a4f98542eed42f7ad44",
       "style": "IPY_MODEL_7730c1af828a423580a28a79ff4b158b"
      }
     },
     "cda8e6f0360f4f3ca95d6ec0e601363d": {
      "model_module": "@jupyter-widgets/controls",
      "model_module_version": "1.0.0",
      "model_name": "ButtonStyleModel",
      "state": {}
     },
     "cdd10590269f4825aee1e07d7ca51d67": {
      "model_module": "@jupyter-widgets/controls",
      "model_module_version": "1.0.0",
      "model_name": "HTMLModel",
      "state": {
       "description": "mot de passe",
       "layout": "IPY_MODEL_4068d054890a4f1c9a4f180107e3ce5f",
       "style": "IPY_MODEL_230367cbb2b8413390bba3f0a63d816b",
       "value": "<b>orangeais </b><i>dépérissements </i><b>saccharure </b><i>scissionneras</i>"
      }
     },
     "d0e8b455b39546f4ac08982046a580d0": {
      "model_module": "@jupyter-widgets/controls",
      "model_module_version": "1.0.0",
      "model_name": "ButtonStyleModel",
      "state": {}
     },
     "d6c135be4a604e5bb788f11e4b715d22": {
      "model_module": "@jupyter-widgets/controls",
      "model_module_version": "1.0.0",
      "model_name": "VBoxModel",
      "state": {
       "children": [
        "IPY_MODEL_6b46164f7bb34c86b4b471bd353c6745",
        "IPY_MODEL_df4d358114224379a099597fdf023c50"
       ],
       "layout": "IPY_MODEL_1925cc96bfdd4f3098e6ea4d915fbb37"
      }
     },
     "d908317bb83f4bbb9a087b9ad09ba245": {
      "model_module": "@jupyter-widgets/base",
      "model_module_version": "1.0.0",
      "model_name": "LayoutModel",
      "state": {}
     },
     "df4d358114224379a099597fdf023c50": {
      "model_module": "@jupyter-widgets/controls",
      "model_module_version": "1.0.0",
      "model_name": "HTMLModel",
      "state": {
       "description": "mot de passe",
       "layout": "IPY_MODEL_65bd533c16f34f229f7b08bab5fcbf1d",
       "style": "IPY_MODEL_a692069000af4d32bf64165bd1fd96aa",
       "value": "<b>recardait </b><i>étuvez </i><b>paganisiez </b><i>défibrasse</i>"
      }
     },
     "e32e02b5931047ffa774f53fd2b1f562": {
      "model_module": "@jupyter-widgets/base",
      "model_module_version": "1.0.0",
      "model_name": "LayoutModel",
      "state": {}
     },
     "e6abb9a4027743acbcfeff665ae90f08": {
      "model_module": "@jupyter-widgets/controls",
      "model_module_version": "1.0.0",
      "model_name": "ButtonModel",
      "state": {
       "description": "autre mot 1",
       "layout": "IPY_MODEL_749eb515b93949838b39915788733327",
       "style": "IPY_MODEL_6383644762db4e5faf9729774ac2b167"
      }
     },
     "e82ec8acef80401a8acce40e34b14ace": {
      "model_module": "@jupyter-widgets/base",
      "model_module_version": "1.0.0",
      "model_name": "LayoutModel",
      "state": {}
     },
     "eb3b3be3efdd43e885a6341d617a80cb": {
      "model_module": "@jupyter-widgets/base",
      "model_module_version": "1.0.0",
      "model_name": "LayoutModel",
      "state": {}
     },
     "ec95af718bf14e95a4d64f40984ccac2": {
      "model_module": "@jupyter-widgets/controls",
      "model_module_version": "1.0.0",
      "model_name": "ButtonModel",
      "state": {
       "description": "autre mot 3",
       "layout": "IPY_MODEL_0f35d9734a44488dae010b4d176ed885",
       "style": "IPY_MODEL_bb8e5a45b5894ca4ab7bfa915d01c0ee"
      }
     },
     "eecef321de00426ca3f9a21be7db0579": {
      "model_module": "@jupyter-widgets/controls",
      "model_module_version": "1.0.0",
      "model_name": "ButtonStyleModel",
      "state": {}
     },
     "f4de02eee0b64476bd5107bf237a28de": {
      "model_module": "@jupyter-widgets/controls",
      "model_module_version": "1.0.0",
      "model_name": "ButtonModel",
      "state": {
       "description": "autre mot 2",
       "layout": "IPY_MODEL_e82ec8acef80401a8acce40e34b14ace",
       "style": "IPY_MODEL_1283d9d164bb4474a9619d4633b00fd4"
      }
     }
    },
    "version_major": 2,
    "version_minor": 0
   }
  }
 },
 "nbformat": 4,
 "nbformat_minor": 2
}
