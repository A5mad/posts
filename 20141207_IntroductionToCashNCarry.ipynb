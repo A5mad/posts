{
 "metadata": {
  "name": "",
  "signature": "sha256:b168f662ddaddbe41f493b4886b0244bc3cc60fdfc423e9626e2613c8084559c"
 },
 "nbformat": 3,
 "nbformat_minor": 0,
 "worksheets": [
  {
   "cells": [
    {
     "cell_type": "markdown",
     "metadata": {},
     "source": [
      "Once upon a time, I worked in finance, as an arbitrage trader. The sort of arbitrage I was doing was called cash'n'carry. In this notebook, I'll try to explain how this basically works."
     ]
    },
    {
     "cell_type": "heading",
     "level": 1,
     "metadata": {},
     "source": [
      "Principles"
     ]
    },
    {
     "cell_type": "markdown",
     "metadata": {},
     "source": [
      "Cash and carry works by using the compounded effect of 3 financial instruments:\n",
      "\n",
      "- a money market (you're borrowing money)\n",
      "- cash (stocks, equity)\n",
      "- a future\n",
      "\n",
      "How does this strategy work? Well, it's simple: you borrow money which gives you cash that you reinvest in stocks which variation you cover by selling a future. This hedges you from most variations but allows you to make money from the differential interest rate between your money market and your future.\n",
      "\n",
      "In the following, we analyze the hedge strategy by taking a look at each instrument, in turn."
     ]
    },
    {
     "cell_type": "heading",
     "level": 1,
     "metadata": {},
     "source": [
      "The future"
     ]
    },
    {
     "cell_type": "markdown",
     "metadata": {},
     "source": [
      "How do you price a future ? Easy, there's a [simple formula using continuous compounding](http://en.wikipedia.org/wiki/Futures_contract) (for simplicity's sake, we exclude dividends):\n",
      "\n",
      "$$\n",
      "F(t, T) = S(t) e ^{r (T - t)}\n",
      "$$\n",
      "\n",
      "We can visualize this formula with a simple interactive graph for a half-year ahead future contract (hence the $0.5$ factor):"
     ]
    },
    {
     "cell_type": "code",
     "collapsed": false,
     "input": [
      "%matplotlib inline\n",
      "from pylab import *\n",
      "from IPython.html.widgets import interact, fixed"
     ],
     "language": "python",
     "metadata": {},
     "outputs": [],
     "prompt_number": 3
    },
    {
     "cell_type": "code",
     "collapsed": false,
     "input": [
      "def future_price(t, T, r, S):\n",
      "    return S * exp(r*(T - t))"
     ],
     "language": "python",
     "metadata": {},
     "outputs": [],
     "prompt_number": 2
    },
    {
     "cell_type": "code",
     "collapsed": false,
     "input": [
      "interact(lambda t, T, r, S: print(future_price(t, T, r, S)),\n",
      "         t = (0, 0.5, 0.01),\n",
      "         T = fixed(0.5),\n",
      "         r = (0, 0.1, 0.001),\n",
      "         S = (10000, 20000, 500))"
     ],
     "language": "python",
     "metadata": {},
     "outputs": [
      {
       "output_type": "stream",
       "stream": "stdout",
       "text": [
        "15333.0434331\n"
       ]
      }
     ],
     "prompt_number": 7
    },
    {
     "cell_type": "markdown",
     "metadata": {},
     "source": [
      "We can also sketch the evolution of a price of a future over time, assuming the $S(t)$ function doesn't vary:"
     ]
    },
    {
     "cell_type": "code",
     "collapsed": false,
     "input": [
      "def future_over_time(r):\n",
      "    t = linspace(0, 0.5)\n",
      "    plot(t, future_price(t, 0.5, r, 15000))\n",
      "    xlabel('time (years)')\n",
      "    ylabel('value of future')"
     ],
     "language": "python",
     "metadata": {},
     "outputs": [],
     "prompt_number": 13
    },
    {
     "cell_type": "code",
     "collapsed": false,
     "input": [
      "interact(future_over_time, \n",
      "         r = (0, 0.2, 0.001))"
     ],
     "language": "python",
     "metadata": {},
     "outputs": [
      {
       "metadata": {},
       "output_type": "display_data",
       "png": "[encoded data removed]",
       "text": [
        "<matplotlib.figure.Figure at 0x106e22f98>"
       ]
      }
     ],
     "prompt_number": 14
    },
    {
     "cell_type": "markdown",
     "metadata": {},
     "source": [
      "The evolution over time seems linear for the parameter choices that I have used here."
     ]
    },
    {
     "cell_type": "code",
     "collapsed": false,
     "input": [],
     "language": "python",
     "metadata": {},
     "outputs": []
    }
   ],
   "metadata": {}
  }
 ]
}