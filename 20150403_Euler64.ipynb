{
 "metadata": {
  "name": "",
  "signature": "sha256:0c5accd69be41c03cca60beabc5098c007e96c668385f0c61ff2b5a8962e71c4"
 },
 "nbformat": 3,
 "nbformat_minor": 0,
 "worksheets": [
  {
   "cells": [
    {
     "cell_type": "markdown",
     "metadata": {},
     "source": [
      "On a besoin d'une classe qui permet de calculer avec des irrationnels quadratiques ici : $\\frac{a + b\\sqrt{c}}{d}$."
     ]
    },
    {
     "cell_type": "code",
     "collapsed": false,
     "input": [
      "class quad_irrational:\n",
      "    def __init__(self, a=0, b=1, c=0, d=1):\n",
      "        self.a = a\n",
      "        self.b = b\n",
      "        self.c = c\n",
      "        self.d = d\n",
      "        \n",
      "    def inverse(self):\n",
      "        a, b, c, d = self.a, self.b, self.c, self.d\n",
      "        return quad_irrational(d*a, -d*b, c, a**2 - b**2 * c)\n",
      "    \n",
      "    def __repr__(self):\n",
      "        return \"({0} + {1} sqrt({2}))/({3})\".format(self.a, self.b, self.c, self.d)"
     ],
     "language": "python",
     "metadata": {},
     "outputs": [],
     "prompt_number": 19
    },
    {
     "cell_type": "code",
     "collapsed": false,
     "input": [
      "x = quad_irrational(0, 1, 23, 1)"
     ],
     "language": "python",
     "metadata": {},
     "outputs": [],
     "prompt_number": 20
    },
    {
     "cell_type": "code",
     "collapsed": false,
     "input": [
      "x.inverse()"
     ],
     "language": "python",
     "metadata": {},
     "outputs": [
      {
       "metadata": {},
       "output_type": "pyout",
       "prompt_number": 21,
       "text": [
        "(0 + -1 sqrt(23))/(-23)"
       ]
      }
     ],
     "prompt_number": 21
    },
    {
     "cell_type": "code",
     "collapsed": false,
     "input": [
      "x.inverse().inverse()"
     ],
     "language": "python",
     "metadata": {},
     "outputs": [
      {
       "metadata": {},
       "output_type": "pyout",
       "prompt_number": 22,
       "text": [
        "(0 + -23 sqrt(23))/(-23)"
       ]
      }
     ],
     "prompt_number": 22
    },
    {
     "cell_type": "code",
     "collapsed": false,
     "input": [
      "import math"
     ],
     "language": "python",
     "metadata": {},
     "outputs": [],
     "prompt_number": 3
    },
    {
     "cell_type": "code",
     "collapsed": false,
     "input": [
      "class continued_frac:\n",
      "    def __init__(self, initial_sqrt):\n",
      "        self.initial_sqrt = initial_sqrt\n",
      "        self.int_part = int(math.sqrt(initial_sqrt))\n",
      "        self.frac_part = math.sqrt(initial_sqrt) - self.int_part\n",
      "        self.expansion = []\n",
      "        self.remainder = (\n",
      "    def compute_expansion_step(self):\n",
      "        "
     ],
     "language": "python",
     "metadata": {},
     "outputs": [],
     "prompt_number": 4
    },
    {
     "cell_type": "code",
     "collapsed": false,
     "input": [
      "cf = continued_frac(23)"
     ],
     "language": "python",
     "metadata": {},
     "outputs": [],
     "prompt_number": 5
    },
    {
     "cell_type": "code",
     "collapsed": false,
     "input": [
      "cf.frac_part"
     ],
     "language": "python",
     "metadata": {},
     "outputs": [
      {
       "metadata": {},
       "output_type": "pyout",
       "prompt_number": 6,
       "text": [
        "0.7958315233127191"
       ]
      }
     ],
     "prompt_number": 6
    },
    {
     "cell_type": "code",
     "collapsed": false,
     "input": [
      "cf.int_part"
     ],
     "language": "python",
     "metadata": {},
     "outputs": [
      {
       "metadata": {},
       "output_type": "pyout",
       "prompt_number": 7,
       "text": [
        "4"
       ]
      }
     ],
     "prompt_number": 7
    },
    {
     "cell_type": "code",
     "collapsed": false,
     "input": [
      "int(3).__div__(4)"
     ],
     "language": "python",
     "metadata": {},
     "outputs": [
      {
       "metadata": {},
       "output_type": "pyout",
       "prompt_number": 9,
       "text": [
        "0"
       ]
      }
     ],
     "prompt_number": 9
    },
    {
     "cell_type": "code",
     "collapsed": false,
     "input": [
      "int.__invert__"
     ],
     "language": "python",
     "metadata": {},
     "outputs": []
    }
   ],
   "metadata": {}
  }
 ]
}