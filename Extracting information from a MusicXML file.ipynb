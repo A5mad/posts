{
 "metadata": {
  "name": "Extracting information from a MusicXML file"
 },
 "nbformat": 3,
 "nbformat_minor": 0,
 "worksheets": [
  {
   "cells": [
    {
     "cell_type": "markdown",
     "metadata": {},
     "source": [
      "The subject of this writing is to extract meaningful information from a MusicXML file I downloaded from [Wikifonia](http://fr.wikifonia.org/node/4607). You can find the specs of the *.mxml* file which is an compressed XML file [here](http://www.musicxml.com/UserManuals/MusicXML/MusicXML.htm). "
     ]
    },
    {
     "cell_type": "heading",
     "level": 1,
     "metadata": {},
     "source": [
      "Extracting a MusicXML file"
     ]
    },
    {
     "cell_type": "markdown",
     "metadata": {},
     "source": [
      "To start, we're gonna work on unzipping the file automatically with some bash commands."
     ]
    },
    {
     "cell_type": "code",
     "collapsed": false,
     "input": [
      "%%bash\n",
      "cd files\n",
      "mkdir tmp\n",
      "unzip \"Joseph Kosma, English: Johnny Mercer, French: Jacques Prevert - Autumn Leaves.mxl\" -d tmp"
     ],
     "language": "python",
     "metadata": {},
     "outputs": [
      {
       "output_type": "stream",
       "stream": "stdout",
       "text": [
        "Archive:  Joseph Kosma, English: Johnny Mercer, French: Jacques Prevert - Autumn Leaves.mxl\n",
        "  inflating: tmp/musicXML.xml        \n",
        "   creating: tmp/META-INF/\n",
        "  inflating: tmp/META-INF/container.xml  \n"
       ]
      }
     ],
     "prompt_number": 3
    },
    {
     "cell_type": "markdown",
     "metadata": {},
     "source": [
      "I created a temp directory because I might wanna delete the tmp/musicXML.xml file after working with it. For the time being, I'll just leave it there. The conclusion of this step is that we can now work with the XML in the file and parse it."
     ]
    },
    {
     "cell_type": "heading",
     "level": 1,
     "metadata": {},
     "source": [
      "Parsing a MusicXML file for chords"
     ]
    },
    {
     "cell_type": "heading",
     "level": 2,
     "metadata": {},
     "source": [
      "Example chords"
     ]
    },
    {
     "cell_type": "markdown",
     "metadata": {},
     "source": [
      "What we're really interested in is extracting the chord succession of a song. It turns out the developers of MusicXML have a nice [tutorial on chords](http://www.musicxml.com/UserManuals/MusicXML/MusicXML.htm#TutMusicXML6-1.htm). Essentially, it boils down to parsing some XML code. Let's see an example for two different chords below (a G major 6 bass D and a A(9)):"
     ]
    },
    {
     "cell_type": "code",
     "collapsed": false,
     "input": [
      "g_chord = \"\"\"\n",
      "      <harmony default-y=\"100\">\n",
      "        <root>\n",
      "          <root-step>G</root-step>\n",
      "        </root>\n",
      "        <kind halign=\"center\" text=\"6\">major-sixth</kind>\n",
      "        <bass>\n",
      "          <bass-step>D</bass-step>\n",
      "        </bass>\n",
      "      </harmony>\n",
      "\"\"\""
     ],
     "language": "python",
     "metadata": {},
     "outputs": [],
     "prompt_number": 6
    },
    {
     "cell_type": "code",
     "collapsed": false,
     "input": [
      "a_chord =\"\"\"      \n",
      "      <harmony default-y=\"100\">\n",
      "        <root>\n",
      "          <root-step>A</root-step>\n",
      "        </root>\n",
      "        <kind halign=\"center\" parentheses-degrees=\"yes\">major</kind>\n",
      "        <degree>\n",
      "          <degree-value>9</degree-value>\n",
      "          <degree-alter>0</degree-alter>\n",
      "          <degree-type text=\"\">add</degree-type>\n",
      "        </degree>\n",
      "      </harmony>\n",
      "      \"\"\""
     ],
     "language": "python",
     "metadata": {},
     "outputs": [],
     "prompt_number": 7
    },
    {
     "cell_type": "markdown",
     "metadata": {},
     "source": [
      "Let's see if we can parse those chords correctly."
     ]
    },
    {
     "cell_type": "code",
     "collapsed": false,
     "input": [
      "import xml.etree.cElementTree as ET"
     ],
     "language": "python",
     "metadata": {},
     "outputs": [],
     "prompt_number": 8
    },
    {
     "cell_type": "code",
     "collapsed": false,
     "input": [
      "tree = ET.fromstring(g_chord)\n",
      "tree"
     ],
     "language": "python",
     "metadata": {},
     "outputs": [
      {
       "output_type": "pyout",
       "prompt_number": 10,
       "text": [
        "<Element 'harmony' at 0xa3d31d0>"
       ]
      }
     ],
     "prompt_number": 10
    },
    {
     "cell_type": "markdown",
     "metadata": {},
     "source": [
      "First thing would be to get the root of the chord and the type."
     ]
    },
    {
     "cell_type": "code",
     "collapsed": false,
     "input": [
      "for elem in tree.findall('root/root-step'):\n",
      "    print elem.text"
     ],
     "language": "python",
     "metadata": {},
     "outputs": [
      {
       "output_type": "stream",
       "stream": "stdout",
       "text": [
        "G\n"
       ]
      }
     ],
     "prompt_number": 13
    },
    {
     "cell_type": "code",
     "collapsed": false,
     "input": [
      "for elem in tree.findall('kind'):\n",
      "    print elem.text"
     ],
     "language": "python",
     "metadata": {},
     "outputs": [
      {
       "output_type": "stream",
       "stream": "stdout",
       "text": [
        "major-sixth\n"
       ]
      }
     ],
     "prompt_number": 14
    },
    {
     "cell_type": "code",
     "collapsed": false,
     "input": [
      "def get_chords(xml):\n",
      "    tree = ET.fromstringlist(xml)\n",
      "    roots = []\n",
      "    kinds = []\n",
      "    for elem in tree.findall('root/root-step'):\n",
      "        roots.append(elem.text)\n",
      "    for elem in tree.findall('kind'):\n",
      "        kinds.append(elem.text)\n",
      "    return (roots, kinds)"
     ],
     "language": "python",
     "metadata": {},
     "outputs": [],
     "prompt_number": 36
    },
    {
     "cell_type": "code",
     "collapsed": false,
     "input": [
      "get_chords(g_chord)"
     ],
     "language": "python",
     "metadata": {},
     "outputs": [
      {
       "output_type": "pyout",
       "prompt_number": 37,
       "text": [
        "(['G'], ['major-sixth'])"
       ]
      }
     ],
     "prompt_number": 37
    },
    {
     "cell_type": "code",
     "collapsed": false,
     "input": [
      "get_chords(a_chord)"
     ],
     "language": "python",
     "metadata": {},
     "outputs": [
      {
       "output_type": "pyout",
       "prompt_number": 38,
       "text": [
        "(['A'], ['major'])"
       ]
      }
     ],
     "prompt_number": 38
    },
    {
     "cell_type": "heading",
     "level": 2,
     "metadata": {},
     "source": [
      "The whole example song"
     ]
    },
    {
     "cell_type": "code",
     "collapsed": false,
     "input": [
      "xml = file(\"files/tmp/musicXML.xml\", 'r').readlines()\n",
      "len(xml)"
     ],
     "language": "python",
     "metadata": {},
     "outputs": [
      {
       "output_type": "pyout",
       "prompt_number": 39,
       "text": [
        "4280"
       ]
      }
     ],
     "prompt_number": 39
    },
    {
     "cell_type": "code",
     "collapsed": false,
     "input": [
      "print get_chords(xml)"
     ],
     "language": "python",
     "metadata": {},
     "outputs": [
      {
       "output_type": "stream",
       "stream": "stdout",
       "text": [
        "([], [])\n"
       ]
      }
     ],
     "prompt_number": 40
    },
    {
     "cell_type": "markdown",
     "metadata": {},
     "source": [
      "Here we see that our function doesn't work. But that's because we calibrated it on the examples. We don't really know the exact structure of the real file, therefore we're going to modify the existing code to search for all root/root-step elements starting anywhere in the depth of the tree."
     ]
    },
    {
     "cell_type": "code",
     "collapsed": false,
     "input": [
      "def get_chords(xml):\n",
      "    tree = ET.fromstringlist(xml)\n",
      "    roots = []\n",
      "    kinds = []\n",
      "    for elem in tree.findall('.//root/root-step'):\n",
      "        roots.append(elem.text)\n",
      "    for elem in tree.findall('.//kind'):\n",
      "        kinds.append(elem.text)\n",
      "    return (roots, kinds)"
     ],
     "language": "python",
     "metadata": {},
     "outputs": [],
     "prompt_number": 44
    },
    {
     "cell_type": "code",
     "collapsed": false,
     "input": [
      "print get_chords(xml)"
     ],
     "language": "python",
     "metadata": {},
     "outputs": [
      {
       "output_type": "stream",
       "stream": "stdout",
       "text": [
        "(['E', 'A', 'F', 'B', 'E', 'E', 'C', 'B', 'A', 'B', 'E', 'E', 'E', 'A', 'B', 'A', 'B', 'E', 'E', 'C', 'B', 'A', 'B', 'E', 'E', 'A', 'B', 'A', 'B', 'E', 'E', 'F', 'B', 'E', 'D', 'G', 'F', 'B', 'E', 'C', 'B', 'B', 'A', 'D', 'G', 'C', 'F', 'B', 'E', 'A', 'D', 'G', 'C', 'F', 'B', 'E', 'F', 'B', 'E', 'A', 'D', 'G', 'F', 'B', 'E', 'A', 'D', 'G', 'A', 'A', 'B', 'E', 'E'], ['minor', 'minor', 'half-diminished', 'dominant', 'minor', 'minor-seventh', 'dominant', 'dominant', 'minor', 'dominant', 'minor', 'dominant', 'dominant', 'minor', 'dominant', 'minor', 'dominant', 'minor', 'minor-seventh', 'dominant', 'dominant', 'minor', 'dominant', 'minor', 'dominant', 'minor', 'dominant', 'minor', 'dominant', 'minor', 'minor-seventh', 'dominant', 'dominant', 'minor', 'dominant', 'major', 'half-diminished', 'dominant', 'minor', 'dominant', 'augmented-seventh', 'dominant', 'minor-seventh', 'dominant', 'major-seventh', 'major-seventh', 'half-diminished', 'dominant', 'minor-seventh', 'minor-seventh', 'dominant', 'major-seventh', 'major-seventh', 'half-diminished', 'dominant', 'minor-seventh', 'half-diminished', 'dominant', 'minor-seventh', 'minor-seventh', 'dominant', 'major-seventh', 'half-diminished', 'dominant', 'minor-seventh', 'dominant', 'minor-seventh', 'dominant', 'major', 'minor', 'dominant', 'minor-seventh', 'minor-seventh'])"
       ]
      },
      {
       "output_type": "stream",
       "stream": "stdout",
       "text": [
        "\n"
       ]
      }
     ],
     "prompt_number": 45
    },
    {
     "cell_type": "markdown",
     "metadata": {},
     "source": [
      "If we zip the information together, we'll get the transitions."
     ]
    },
    {
     "cell_type": "code",
     "collapsed": false,
     "input": [
      "(roots, kinds) = get_chords(xml)\n",
      "chords = []\n",
      "for (root, kind) in zip(roots, kinds):\n",
      "    chords.append(\" \".join([root, kind]))\n",
      "print chords    "
     ],
     "language": "python",
     "metadata": {},
     "outputs": [
      {
       "output_type": "stream",
       "stream": "stdout",
       "text": [
        "['E minor', 'A minor', 'F half-diminished', 'B dominant', 'E minor', 'E minor-seventh', 'C dominant', 'B dominant', 'A minor', 'B dominant', 'E minor', 'E dominant', 'E dominant', 'A minor', 'B dominant', 'A minor', 'B dominant', 'E minor', 'E minor-seventh', 'C dominant', 'B dominant', 'A minor', 'B dominant', 'E minor', 'E dominant', 'A minor', 'B dominant', 'A minor', 'B dominant', 'E minor', 'E minor-seventh', 'F dominant', 'B dominant', 'E minor', 'D dominant', 'G major', 'F half-diminished', 'B dominant', 'E minor', 'C dominant', 'B augmented-seventh', 'B dominant', 'A minor-seventh', 'D dominant', 'G major-seventh', 'C major-seventh', 'F half-diminished', 'B dominant', 'E minor-seventh', 'A minor-seventh', 'D dominant', 'G major-seventh', 'C major-seventh', 'F half-diminished', 'B dominant', 'E minor-seventh', 'F half-diminished', 'B dominant', 'E minor-seventh', 'A minor-seventh', 'D dominant', 'G major-seventh', 'F half-diminished', 'B dominant', 'E minor-seventh', 'A dominant', 'D minor-seventh', 'G dominant', 'A major', 'A minor', 'B dominant', 'E minor-seventh', 'E minor-seventh']\n"
       ]
      }
     ],
     "prompt_number": 48
    },
    {
     "cell_type": "markdown",
     "metadata": {},
     "source": [
      "Note to self: this way of parsing is not super robust. I might get false parsing data if one of the file doesn't follow the right structure. Then again, if this happens, my whole zip stuff would break. I'd notice."
     ]
    }
   ],
   "metadata": {}
  }
 ]
}