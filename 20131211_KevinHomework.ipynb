{
 "metadata": {
  "name": ""
 },
 "nbformat": 3,
 "nbformat_minor": 0,
 "worksheets": [
  {
   "cells": [
    {
     "cell_type": "heading",
     "level": 1,
     "metadata": {},
     "source": [
      "Theory"
     ]
    },
    {
     "cell_type": "markdown",
     "metadata": {},
     "source": [
      "We are studying the 1D heat equation:\n",
      "\n",
      "$$\n",
      "\\frac{\\partial T}{\\partial t} = \\chi \\frac{\\partial^2 T}{\\partial x^2}\n",
      "$$"
     ]
    },
    {
     "cell_type": "markdown",
     "metadata": {},
     "source": [
      "There are two terms in this equation. To discretize them, we are using the well-known Taylor expansion of a function $f$ at point $a$ either up to the first order:\n",
      "\n",
      "$$\n",
      "f(a + h) = f(a) + h \\, f'(a) + o(h)\n",
      "$$\n",
      "\n",
      "Or up to the second order:\n",
      "\n",
      "\n",
      "$$\n",
      "f(a + h) = f(a) + h \\, f'(a) + \\frac{h^2}{2} f''(a) + o(h^2)\n",
      "$$\n"
     ]
    },
    {
     "cell_type": "markdown",
     "metadata": {},
     "source": [
      "$$\n",
      "\\frac{T_{i+1} - T_i}{\\delta t} = a\n",
      "$$"
     ]
    },
    {
     "cell_type": "markdown",
     "metadata": {},
     "source": [
      "Le sch\u00e9ma de Crank-Nicholson est d\u00e9taill\u00e9 [sur cette page](http://en.wikipedia.org/wiki/Crank%E2%80%93Nicolson_method). Il implique de prendre comme inconnues dans le calcul des d\u00e9riv\u00e9es spatiales une combinaisons des nouvelles inconnues et des anciennes inconnues. Dans le cas de la diffusion 1D, il m\u00e8ne \u00e0 un syst\u00e8me tri-diagonal. "
     ]
    },
    {
     "cell_type": "heading",
     "level": 1,
     "metadata": {},
     "source": [
      "Practical implementation"
     ]
    },
    {
     "cell_type": "code",
     "collapsed": false,
     "input": [
      "%pylab inline"
     ],
     "language": "python",
     "metadata": {},
     "outputs": [
      {
       "output_type": "stream",
       "stream": "stdout",
       "text": [
        "Populating the interactive namespace from numpy and matplotlib\n"
       ]
      }
     ],
     "prompt_number": 1
    },
    {
     "cell_type": "code",
     "collapsed": false,
     "input": [
      "meshsize = 101\n",
      "x = linspace(0, 2 * pi, num=meshsize)"
     ],
     "language": "python",
     "metadata": {},
     "outputs": [],
     "prompt_number": 2
    },
    {
     "cell_type": "markdown",
     "metadata": {},
     "source": [
      "We construct the tridiagonal matrix using the following [snippet from StackOverflow](http://stackoverflow.com/questions/5842903/block-tridiagonal-matrix-python)."
     ]
    },
    {
     "cell_type": "code",
     "collapsed": false,
     "input": [
      "import scipy.sparse\n",
      "\n",
      "def get_matrix_M(meshsize):\n",
      "    diag_rows = np.array([[1] * meshsize,\n",
      "                          [-2] * meshsize,\n",
      "                          [1] * meshsize])\n",
      "    \n",
      "    positions = [-1, 0, 1]\n",
      "    return scipy.sparse.spdiags(diag_rows, positions, meshsize, meshsize)"
     ],
     "language": "python",
     "metadata": {},
     "outputs": [],
     "prompt_number": 3
    },
    {
     "cell_type": "code",
     "collapsed": false,
     "input": [
      "M = get_matrix_M(x.shape[0])\n",
      "print M.shape\n",
      "M.todense()"
     ],
     "language": "python",
     "metadata": {},
     "outputs": [
      {
       "output_type": "stream",
       "stream": "stdout",
       "text": [
        "(101, 101)\n"
       ]
      },
      {
       "metadata": {},
       "output_type": "pyout",
       "prompt_number": 4,
       "text": [
        "matrix([[-2,  1,  0, ...,  0,  0,  0],\n",
        "        [ 1, -2,  1, ...,  0,  0,  0],\n",
        "        [ 0,  1, -2, ...,  0,  0,  0],\n",
        "        ..., \n",
        "        [ 0,  0,  0, ..., -2,  1,  0],\n",
        "        [ 0,  0,  0, ...,  1, -2,  1],\n",
        "        [ 0,  0,  0, ...,  0,  1, -2]])"
       ]
      }
     ],
     "prompt_number": 4
    },
    {
     "cell_type": "markdown",
     "metadata": {},
     "source": [
      "We can now define initial conditions."
     ]
    },
    {
     "cell_type": "code",
     "collapsed": false,
     "input": [
      "def get_initial_conditions(x, T_0, x_0):\n",
      "    T = zeros(x.shape)\n",
      "    T[x<x_0/2] = 2 * T_0 * x[x<x_0/2]/x_0\n",
      "    T[x>=x_0/2] = 2 * T_0 * (1 - x[x>=x_0/2]/x_0)\n",
      "    return T"
     ],
     "language": "python",
     "metadata": {},
     "outputs": [],
     "prompt_number": 5
    },
    {
     "cell_type": "markdown",
     "metadata": {},
     "source": [
      "We plot this function to verify that we did code it well."
     ]
    },
    {
     "cell_type": "code",
     "collapsed": false,
     "input": [
      "plot(x, get_initial_conditions(x, 1, x.max()))"
     ],
     "language": "python",
     "metadata": {},
     "outputs": [
      {
       "metadata": {},
       "output_type": "pyout",
       "prompt_number": 6,
       "text": [
        "[<matplotlib.lines.Line2D at 0x4669d90>]"
       ]
      },
      {
       "metadata": {},
       "output_type": "display_data",
       "png": "[encoded data removed]",
       "text": [
        "<matplotlib.figure.Figure at 0x46f1eb0>"
       ]
      }
     ],
     "prompt_number": 6
    },
    {
     "cell_type": "markdown",
     "metadata": {},
     "source": [
      "Now on to the next step: solving the linear system for which we have already constructed the matrix $M$."
     ]
    },
    {
     "cell_type": "code",
     "collapsed": false,
     "input": [
      "T_0 = get_initial_conditions(x, 1, x.max())"
     ],
     "language": "python",
     "metadata": {},
     "outputs": [],
     "prompt_number": 7
    },
    {
     "cell_type": "code",
     "collapsed": false,
     "input": [
      "class Solution():\n",
      "    def __init__(self, x, T_0, lambda_value, theta):\n",
      "        self.x = x[1:-1]\n",
      "        self.T = matrix(T_0[1:-1]).T\n",
      "        self.t = 0\n",
      "        dx = x[1] - x[0]\n",
      "        self.dt = lambda_value * dx ** 2 # needed for updating the total time\n",
      "        right_hand_matrix = identity(self.T.shape[0]) + lambda_value * theta * get_matrix_M(self.T.shape[0])\n",
      "        left_hand_matrix = identity(self.T.shape[0]) - lambda_value * (1 - theta) * get_matrix_M(self.T.shape[0])\n",
      "        self.inv_matrix = dot(inv(left_hand_matrix), right_hand_matrix)\n",
      "        \n",
      "    def solve_step(self):\n",
      "        self.T = self.inv_matrix * self.T\n",
      "        self.t += self.dt\n",
      "        \n",
      "    def solve_n_steps(self, n):\n",
      "        for i in range(n):\n",
      "            self.solve_step()\n",
      "    "
     ],
     "language": "python",
     "metadata": {},
     "outputs": [],
     "prompt_number": 46
    },
    {
     "cell_type": "code",
     "collapsed": false,
     "input": [
      "sol = Solution(x, T_0, 0.5, 0.1)"
     ],
     "language": "python",
     "metadata": {},
     "outputs": [],
     "prompt_number": 63
    },
    {
     "cell_type": "code",
     "collapsed": false,
     "input": [
      "sol.solve_n_steps(100)"
     ],
     "language": "python",
     "metadata": {},
     "outputs": [],
     "prompt_number": 64
    },
    {
     "cell_type": "code",
     "collapsed": false,
     "input": [
      "plot(sol.x, array(sol.T), label='t = %.2f' % sol.t)\n",
      "legend()"
     ],
     "language": "python",
     "metadata": {},
     "outputs": [
      {
       "metadata": {},
       "output_type": "pyout",
       "prompt_number": 65,
       "text": [
        "<matplotlib.legend.Legend at 0x6fc4470>"
       ]
      },
      {
       "metadata": {},
       "output_type": "display_data",
       "png": "[encoded data removed]",
       "text": [
        "<matplotlib.figure.Figure at 0x66bf2d0>"
       ]
      }
     ],
     "prompt_number": 65
    },
    {
     "cell_type": "heading",
     "level": 1,
     "metadata": {},
     "source": [
      "Kevin's plots"
     ]
    },
    {
     "cell_type": "markdown",
     "metadata": {},
     "source": [
      "The first plot is with the parameters $\\lambda = 0.5$ and $\\theta = 0$. The needed time steps are $[0, 0.005, 0.02, 0.05, 0.1, 0.2]$."
     ]
    },
    {
     "cell_type": "code",
     "collapsed": false,
     "input": [
      "sol = Solution(x, T_0, 0.5, 0)\n",
      "plot(sol.x, array(sol.T), label='t = %.2f' % sol.t)\n",
      "sol.solve_n_steps(2)\n",
      "plot(sol.x, array(sol.T), label='t = %.3f' % sol.t)\n",
      "sol.solve_n_steps(8)\n",
      "plot(sol.x, array(sol.T), label='t = %.2f' % sol.t)\n",
      "sol.solve_n_steps(15)\n",
      "plot(sol.x, array(sol.T), label='t = %.2f' % sol.t)\n",
      "sol.solve_n_steps(25)\n",
      "plot(sol.x, array(sol.T), label='t = %.2f' % sol.t)\n",
      "sol.solve_n_steps(50)\n",
      "plot(sol.x, array(sol.T), label='t = %.2f' % sol.t)\n",
      "legend()"
     ],
     "language": "python",
     "metadata": {},
     "outputs": [
      {
       "metadata": {},
       "output_type": "pyout",
       "prompt_number": 82,
       "text": [
        "<matplotlib.legend.Legend at 0x76ee590>"
       ]
      },
      {
       "metadata": {},
       "output_type": "display_data",
       "png": "[encoded data removed]",
       "text": [
        "<matplotlib.figure.Figure at 0x849c470>"
       ]
      }
     ],
     "prompt_number": 82
    }
   ],
   "metadata": {}
  }
 ]
}