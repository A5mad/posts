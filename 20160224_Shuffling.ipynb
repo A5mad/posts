{
 "cells": [
  {
   "cell_type": "markdown",
   "metadata": {},
   "source": [
    "# Algorithm P for shuffling "
   ]
  },
  {
   "cell_type": "markdown",
   "metadata": {},
   "source": [
    "In the MOOC, Peter talks about algorithm P for shuffling.\n",
    "\n",
    "Algorithm P is as follows:"
   ]
  },
  {
   "cell_type": "code",
   "execution_count": 1,
   "metadata": {
    "collapsed": true
   },
   "outputs": [],
   "source": [
    "import random"
   ]
  },
  {
   "cell_type": "code",
   "execution_count": 2,
   "metadata": {
    "collapsed": true
   },
   "outputs": [],
   "source": [
    "def shuffle(deck):\n",
    "    \"Knuth's algorithm P.\"\n",
    "    N = len(deck)\n",
    "    for i in range(N-1):\n",
    "        swap(deck, i, random.randrange(i, N))\n",
    "    return deck"
   ]
  },
  {
   "cell_type": "code",
   "execution_count": 3,
   "metadata": {
    "collapsed": true
   },
   "outputs": [],
   "source": [
    "def swap(deck, i, j):\n",
    "    \"Swap elements i and j in a collection.\"\n",
    "    #print('swap', i, j)\n",
    "    deck[i], deck[j] = deck[j], deck[i]"
   ]
  },
  {
   "cell_type": "code",
   "execution_count": 4,
   "metadata": {
    "collapsed": false
   },
   "outputs": [
    {
     "data": {
      "text/plain": [
       "[4, 3, 2, 1, 5]"
      ]
     },
     "execution_count": 4,
     "metadata": {},
     "output_type": "execute_result"
    }
   ],
   "source": [
    "shuffle(list(range(1, 6)))"
   ]
  },
  {
   "cell_type": "markdown",
   "metadata": {},
   "source": [
    "We can shuffle the same list many times and look at the distribution of values we arrive at."
   ]
  },
  {
   "cell_type": "code",
   "execution_count": 12,
   "metadata": {
    "collapsed": false
   },
   "outputs": [],
   "source": [
    "vals = range(1, 6)"
   ]
  },
  {
   "cell_type": "code",
   "execution_count": 13,
   "metadata": {
    "collapsed": false
   },
   "outputs": [],
   "source": [
    "empty_dict = lambda : dict(zip(vals, [0]*len(vals)))\n",
    "counts = dict(zip(vals, [empty_dict() for _ in vals]))\n",
    "for n in range(10000):\n",
    "    deck = list(vals)\n",
    "    shuffle(deck)\n",
    "    for original, shuffled in zip(vals, deck):\n",
    "        counts[original][shuffled] += 1"
   ]
  },
  {
   "cell_type": "code",
   "execution_count": 14,
   "metadata": {
    "collapsed": false
   },
   "outputs": [
    {
     "data": {
      "text/plain": [
       "{1: {1: 2014, 2: 1932, 3: 2035, 4: 2033, 5: 1986},\n",
       " 2: {1: 1927, 2: 2054, 3: 1945, 4: 1998, 5: 2076},\n",
       " 3: {1: 2065, 2: 2029, 3: 1978, 4: 1977, 5: 1951},\n",
       " 4: {1: 1962, 2: 2009, 3: 2046, 4: 1961, 5: 2022},\n",
       " 5: {1: 2032, 2: 1976, 3: 1996, 4: 2031, 5: 1965}}"
      ]
     },
     "execution_count": 14,
     "metadata": {},
     "output_type": "execute_result"
    }
   ],
   "source": [
    "counts"
   ]
  },
  {
   "cell_type": "markdown",
   "metadata": {},
   "source": [
    "This seems quite nice: all values get assigned the same new value the same number of times. That's a good shuffle. What about the teacher's algorithm?"
   ]
  },
  {
   "cell_type": "code",
   "execution_count": 15,
   "metadata": {
    "collapsed": true
   },
   "outputs": [],
   "source": [
    "def shuffle1(deck):\n",
    "    \"The teacher's algorithm.\"\n",
    "    N = len(deck)\n",
    "    swapped = [False] * N\n",
    "    while not all(swapped):\n",
    "        i, j = random.randrange(N), random.randrange(N)\n",
    "        swapped[i] = swapped[j] = True\n",
    "        swap(deck, i, j)"
   ]
  },
  {
   "cell_type": "markdown",
   "metadata": {},
   "source": [
    "Let's benchmark this method now."
   ]
  },
  {
   "cell_type": "code",
   "execution_count": 16,
   "metadata": {
    "collapsed": true
   },
   "outputs": [],
   "source": [
    "counts = dict(zip(vals, [empty_dict() for _ in vals]))\n",
    "for n in range(10000):\n",
    "    deck = list(vals)\n",
    "    shuffle1(deck)\n",
    "    for original, shuffled in zip(vals, deck):\n",
    "        counts[original][shuffled] += 1"
   ]
  },
  {
   "cell_type": "code",
   "execution_count": 17,
   "metadata": {
    "collapsed": false
   },
   "outputs": [
    {
     "data": {
      "text/plain": [
       "{1: {1: 1342, 2: 2165, 3: 2206, 4: 2191, 5: 2096},\n",
       " 2: {1: 2194, 2: 1371, 3: 2136, 4: 2116, 5: 2183},\n",
       " 3: {1: 2169, 2: 2153, 3: 1326, 4: 2131, 5: 2221},\n",
       " 4: {1: 2146, 2: 2094, 3: 2192, 4: 1384, 5: 2184},\n",
       " 5: {1: 2149, 2: 2217, 3: 2140, 4: 2178, 5: 1316}}"
      ]
     },
     "execution_count": 17,
     "metadata": {},
     "output_type": "execute_result"
    }
   ],
   "source": [
    "counts"
   ]
  },
  {
   "cell_type": "markdown",
   "metadata": {},
   "source": [
    "# Now for some poker "
   ]
  },
  {
   "cell_type": "code",
   "execution_count": 11,
   "metadata": {
    "collapsed": false
   },
   "outputs": [
    {
     "name": "stdout",
     "output_type": "stream",
     "text": [
      "['1S', '1C', '2S', '2C', '3S', '3C', '4S', '4C', '5S', '5C', '6S', '6C', '7S', '7C', '8S', '8C', '9S', '9C', 'TS', 'TC', 'JS', 'JC', 'QS', 'QC', 'KS', 'KC']\n"
     ]
    },
    {
     "ename": "KeyboardInterrupt",
     "evalue": "",
     "output_type": "error",
     "traceback": [
      "\u001b[0;31m---------------------------------------------------------------------------\u001b[0m",
      "\u001b[0;31mKeyboardInterrupt\u001b[0m                         Traceback (most recent call last)",
      "\u001b[0;32m<ipython-input-11-1b7ae8cbc1af>\u001b[0m in \u001b[0;36m<module>\u001b[0;34m()\u001b[0m\n\u001b[1;32m     31\u001b[0m \u001b[1;33m\u001b[0m\u001b[0m\n\u001b[1;32m     32\u001b[0m \u001b[1;31m#test_best_wild_hand()\u001b[0m\u001b[1;33m\u001b[0m\u001b[1;33m\u001b[0m\u001b[0m\n\u001b[0;32m---> 33\u001b[0;31m \u001b[0mbest_wild_hand\u001b[0m\u001b[1;33m(\u001b[0m\u001b[1;34m\"6C 7C 8C 9C TC 5C ?B\"\u001b[0m\u001b[1;33m.\u001b[0m\u001b[0msplit\u001b[0m\u001b[1;33m(\u001b[0m\u001b[1;33m)\u001b[0m\u001b[1;33m)\u001b[0m\u001b[1;33m\u001b[0m\u001b[0m\n\u001b[0m",
      "\u001b[0;32m<ipython-input-11-1b7ae8cbc1af>\u001b[0m in \u001b[0;36mbest_wild_hand\u001b[0;34m(hand)\u001b[0m\n\u001b[1;32m     16\u001b[0m         \u001b[1;32mfor\u001b[0m \u001b[0mhand\u001b[0m \u001b[1;32min\u001b[0m \u001b[0mhands\u001b[0m\u001b[1;33m:\u001b[0m\u001b[1;33m\u001b[0m\u001b[0m\n\u001b[1;32m     17\u001b[0m             \u001b[1;32mfor\u001b[0m \u001b[0mjoker_card\u001b[0m \u001b[1;32min\u001b[0m \u001b[0mjoker_cards\u001b[0m\u001b[1;33m:\u001b[0m\u001b[1;33m\u001b[0m\u001b[0m\n\u001b[0;32m---> 18\u001b[0;31m                 \u001b[0mhands\u001b[0m\u001b[1;33m.\u001b[0m\u001b[0mappend\u001b[0m\u001b[1;33m(\u001b[0m\u001b[0mhand\u001b[0m\u001b[1;33m[\u001b[0m\u001b[1;33m:\u001b[0m\u001b[1;33m]\u001b[0m \u001b[1;33m+\u001b[0m \u001b[1;33m[\u001b[0m\u001b[0mjoker_card\u001b[0m\u001b[1;33m]\u001b[0m\u001b[1;33m)\u001b[0m\u001b[1;33m\u001b[0m\u001b[0m\n\u001b[0m\u001b[1;32m     19\u001b[0m         \u001b[0mprint\u001b[0m\u001b[1;33m(\u001b[0m\u001b[0mlen\u001b[0m\u001b[1;33m(\u001b[0m\u001b[0mhands\u001b[0m\u001b[1;33m)\u001b[0m\u001b[1;33m)\u001b[0m\u001b[1;33m\u001b[0m\u001b[0m\n\u001b[1;32m     20\u001b[0m     \u001b[1;31m# keep best one\u001b[0m\u001b[1;33m\u001b[0m\u001b[1;33m\u001b[0m\u001b[0m\n",
      "\u001b[0;31mKeyboardInterrupt\u001b[0m: "
     ]
    }
   ],
   "source": [
    "import itertools\n",
    "\n",
    "def best_wild_hand(hand):\n",
    "    \"Try all values for jokers in all 5-card selections.\"\n",
    "    # isolate jokers\n",
    "    jokers = [card for card in hand if card[0] == \"?\"]\n",
    "    normal_cards = [card for card in hand if card[0] != \"?\"]\n",
    "    # replace jokers by their equivalent cards\n",
    "    hands = [normal_cards[:]]\n",
    "    # generate combinations\n",
    "    for joker in jokers:\n",
    "        joker_cards = [str(rank) + suit \n",
    "                       for rank in [1, 2, 3, 4, 5, 6, 7, 8, 9, 'T', 'J', 'Q', 'K']\n",
    "                       for suit in {'B': ['S', 'C'], 'R':['H', 'D']}[joker[1]]]\n",
    "        print(joker_cards)\n",
    "        for hand in hands:\n",
    "            for joker_card in joker_cards:\n",
    "                hands.append(hand[:] + [joker_card])\n",
    "        print(len(hands))\n",
    "    # keep best one\n",
    "    return max(itertools.combinations(hands, 5), key=hand_rank)\n",
    "\n",
    "def test_best_wild_hand():\n",
    "    assert (sorted(best_wild_hand(\"6C 7C 8C 9C TC 5C ?B\".split()))\n",
    "            == ['7C', '8C', '9C', 'JC', 'TC'])\n",
    "    assert (sorted(best_wild_hand(\"TD TC 5H 5C 7C ?R ?B\".split()))\n",
    "            == ['7C', 'TC', 'TD', 'TH', 'TS'])\n",
    "    assert (sorted(best_wild_hand(\"JD TC TH 7C 7D 7S 7H\".split()))\n",
    "            == ['7C', '7D', '7H', '7S', 'JD'])\n",
    "    return 'test_best_wild_hand passes'\n",
    "\n",
    "#test_best_wild_hand()\n",
    "best_wild_hand(\"6C 7C 8C 9C TC 5C ?B\".split())"
   ]
  },
  {
   "cell_type": "code",
   "execution_count": null,
   "metadata": {
    "collapsed": false
   },
   "outputs": [],
   "source": [
    "%debug"
   ]
  },
  {
   "cell_type": "code",
   "execution_count": null,
   "metadata": {
    "collapsed": false
   },
   "outputs": [],
   "source": [
    "# CS 212, hw1-2: Jokers Wild\n",
    "#\n",
    "# -----------------\n",
    "# User Instructions\n",
    "#\n",
    "# Write a function best_wild_hand(hand) that takes as\n",
    "# input a 7-card hand and returns the best 5 card hand.\n",
    "# In this problem, it is possible for a hand to include\n",
    "# jokers. Jokers will be treated as 'wild cards' which\n",
    "# can take any rank or suit of the same color. The \n",
    "# black joker, '?B', can be used as any spade or club\n",
    "# and the red joker, '?R', can be used as any heart \n",
    "# or diamond.\n",
    "#\n",
    "# The itertools library may be helpful. Feel free to \n",
    "# define multiple functions if it helps you solve the\n",
    "# problem. \n",
    "#\n",
    "# -----------------\n",
    "# Grading Notes\n",
    "# \n",
    "# Muliple correct answers will be accepted in cases \n",
    "# where the best hand is ambiguous (for example, if \n",
    "# you have 4 kings and 3 queens, there are three best\n",
    "# hands: 4 kings along with any of the three queens).\n",
    "\n",
    "import itertools\n",
    "\n",
    "def best_wild_hand(hand):\n",
    "    \"Try all values for jokers in all 5-card selections.\"\n",
    "    # isolate jokers\n",
    "    jokers = [card for card in hand if card[0] == \"?\"]\n",
    "    normal_cards = [card for card in hand if card[0] != \"?\"]\n",
    "    # replace jokers by their equivalent cards\n",
    "    joker_cards = itertools.product(*[possible_placeholders(joker) for joker in jokers])\n",
    "    # compute possible hands\n",
    "    possible_hands = itertools.combinations([normal_cards[:] + list(placeholder) for placeholder in joker_cards], \n",
    "                                     5)\n",
    "    return max(possible_hands, key=hand_rank)\n",
    "        \n",
    "def possible_placeholders(joker):\n",
    "    \"Returns set of cards that a given joker can replace.\"\n",
    "    color = joker[1]\n",
    "    return [str(rank) + suit \n",
    "                       for rank in [1, 2, 3, 4, 5, 6, 7, 8, 9, 'T', 'J', 'Q', 'K']\n",
    "                       for suit in {'B': ['S', 'C'], 'R':['H', 'D']}[color]]\n",
    "\n",
    "def test_best_wild_hand():\n",
    "    assert (sorted(best_wild_hand(\"TD TC 5H 5C 7C ?R ?B\".split()))\n",
    "            == ['7C', 'TC', 'TD', 'TH', 'TS'])\n",
    "    assert (sorted(best_wild_hand(\"6C 7C 8C 9C TC 5C ?B\".split()))\n",
    "            == ['7C', '8C', '9C', 'JC', 'TC'])\n",
    "    assert (sorted(best_wild_hand(\"JD TC TH 7C 7D 7S 7H\".split()))\n",
    "            == ['7C', '7D', '7H', '7S', 'JD'])\n",
    "    return 'test_best_wild_hand passes'\n",
    "\n",
    "\n",
    "# ------------------\n",
    "# Provided Functions\n",
    "# \n",
    "# You may want to use some of the functions which\n",
    "# you have already defined in the unit to write \n",
    "# your best_hand function.\n",
    "\n",
    "def hand_rank(hand):\n",
    "    \"Return a value indicating the ranking of a hand.\"\n",
    "    ranks = card_ranks(hand) \n",
    "    if straight(ranks) and flush(hand):\n",
    "        return (8, max(ranks))\n",
    "    elif kind(4, ranks):\n",
    "        return (7, kind(4, ranks), kind(1, ranks))\n",
    "    elif kind(3, ranks) and kind(2, ranks):\n",
    "        return (6, kind(3, ranks), kind(2, ranks))\n",
    "    elif flush(hand):\n",
    "        return (5, ranks)\n",
    "    elif straight(ranks):\n",
    "        return (4, max(ranks))\n",
    "    elif kind(3, ranks):\n",
    "        return (3, kind(3, ranks), ranks)\n",
    "    elif two_pair(ranks):\n",
    "        return (2, two_pair(ranks), ranks)\n",
    "    elif kind(2, ranks):\n",
    "        return (1, kind(2, ranks), ranks)\n",
    "    else:\n",
    "        return (0, ranks)\n",
    "    \n",
    "def card_ranks(hand):\n",
    "    \"Return a list of the ranks, sorted with higher first.\"\n",
    "    ranks = ['--23456789TJQKA'.index(r) for r, s in hand]\n",
    "    ranks.sort(reverse = True)\n",
    "    return [5, 4, 3, 2, 1] if (ranks == [14, 5, 4, 3, 2]) else ranks\n",
    "\n",
    "def flush(hand):\n",
    "    \"Return True if all the cards have the same suit.\"\n",
    "    suits = [s for r,s in hand]\n",
    "    return len(set(suits)) == 1\n",
    "\n",
    "def straight(ranks):\n",
    "    \"\"\"Return True if the ordered \n",
    "    ranks form a 5-card straight.\"\"\"\n",
    "    return (max(ranks)-min(ranks) == 4) and len(set(ranks)) == 5\n",
    "\n",
    "def kind(n, ranks):\n",
    "    \"\"\"Return the first rank that this hand has \n",
    "    exactly n-of-a-kind of. Return None if there \n",
    "    is no n-of-a-kind in the hand.\"\"\"\n",
    "    for r in ranks:\n",
    "        if ranks.count(r) == n: return r\n",
    "    return None\n",
    "\n",
    "def two_pair(ranks):\n",
    "    \"\"\"If there are two pair here, return the two \n",
    "    ranks of the two pairs, else None.\"\"\"\n",
    "    pair = kind(2, ranks)\n",
    "    lowpair = kind(2, list(reversed(ranks)))\n",
    "    if pair and lowpair != pair:\n",
    "        return (pair, lowpair)\n",
    "    else:\n",
    "        return None \n",
    "\n",
    "#test_best_wild_hand()"
   ]
  },
  {
   "cell_type": "code",
   "execution_count": null,
   "metadata": {
    "collapsed": false
   },
   "outputs": [],
   "source": [
    "best_wild_hand(\"TD TC 5H 5C 7C ?R ?B\".split())"
   ]
  },
  {
   "cell_type": "code",
   "execution_count": null,
   "metadata": {
    "collapsed": false
   },
   "outputs": [],
   "source": [
    "%debug"
   ]
  },
  {
   "cell_type": "code",
   "execution_count": null,
   "metadata": {
    "collapsed": true
   },
   "outputs": [],
   "source": []
  },
  {
   "cell_type": "code",
   "execution_count": null,
   "metadata": {
    "collapsed": false
   },
   "outputs": [],
   "source": [
    "%debug"
   ]
  },
  {
   "cell_type": "code",
   "execution_count": null,
   "metadata": {
    "collapsed": true
   },
   "outputs": [],
   "source": []
  }
 ],
 "metadata": {
  "kernelspec": {
   "display_name": "Python 3",
   "language": "python",
   "name": "python3"
  },
  "language_info": {
   "codemirror_mode": {
    "name": "ipython",
    "version": 3
   },
   "file_extension": ".py",
   "mimetype": "text/x-python",
   "name": "python",
   "nbconvert_exporter": "python",
   "pygments_lexer": "ipython3",
   "version": "3.5.2"
  }
 },
 "nbformat": 4,
 "nbformat_minor": 0
}
