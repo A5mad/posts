{
 "cells": [
  {
   "cell_type": "markdown",
   "metadata": {},
   "source": [
    "In the MOOC, Peter talks about algorithm P for shuffling.\n",
    "\n",
    "Algorithm P is as follows:"
   ]
  },
  {
   "cell_type": "code",
   "execution_count": 1,
   "metadata": {
    "collapsed": true
   },
   "outputs": [],
   "source": [
    "import random"
   ]
  },
  {
   "cell_type": "code",
   "execution_count": 6,
   "metadata": {
    "collapsed": true
   },
   "outputs": [],
   "source": [
    "def shuffle(deck):\n",
    "    \"Knuth's algorithm P.\"\n",
    "    N = len(deck)\n",
    "    for i in range(N-1):\n",
    "        swap(deck, i, random.randrange(i, N))\n",
    "    return deck"
   ]
  },
  {
   "cell_type": "code",
   "execution_count": 32,
   "metadata": {
    "collapsed": true
   },
   "outputs": [],
   "source": [
    "def swap(deck, i, j):\n",
    "    \"Swap elements i and j in a collection.\"\n",
    "    #print('swap', i, j)\n",
    "    deck[i], deck[j] = deck[j], deck[i]"
   ]
  },
  {
   "cell_type": "code",
   "execution_count": 33,
   "metadata": {
    "collapsed": false
   },
   "outputs": [
    {
     "data": {
      "text/plain": [
       "[1, 4, 3, 2, 5]"
      ]
     },
     "execution_count": 33,
     "metadata": {},
     "output_type": "execute_result"
    }
   ],
   "source": [
    "shuffle(list(range(1, 6)))"
   ]
  },
  {
   "cell_type": "markdown",
   "metadata": {},
   "source": [
    "We can shuffle the same list many times and look at the distribution of values we arrive at."
   ]
  },
  {
   "cell_type": "code",
   "execution_count": 69,
   "metadata": {
    "collapsed": false
   },
   "outputs": [],
   "source": [
    "vals = range(1, 3)"
   ]
  },
  {
   "cell_type": "code",
   "execution_count": 70,
   "metadata": {
    "collapsed": false
   },
   "outputs": [],
   "source": [
    "empty_dict = lambda : dict(zip(vals, [0]*len(vals)))\n",
    "counts = dict(zip(vals, [empty_dict() for _ in vals]))\n",
    "for n in range(10000):\n",
    "    deck = list(vals)\n",
    "    shuffle(deck)\n",
    "    for original, shuffled in zip(vals, deck):\n",
    "        counts[original][shuffled] += 1"
   ]
  },
  {
   "cell_type": "code",
   "execution_count": 71,
   "metadata": {
    "collapsed": false
   },
   "outputs": [
    {
     "data": {
      "text/plain": [
       "{1: {1: 4972, 2: 5028}, 2: {1: 5028, 2: 4972}}"
      ]
     },
     "execution_count": 71,
     "metadata": {},
     "output_type": "execute_result"
    }
   ],
   "source": [
    "counts"
   ]
  },
  {
   "cell_type": "markdown",
   "metadata": {},
   "source": [
    "This seems quite nice: all values get assigned the same new value the same number of times. That's a good shuffle. What about the teacher's algorithm?"
   ]
  },
  {
   "cell_type": "code",
   "execution_count": 72,
   "metadata": {
    "collapsed": true
   },
   "outputs": [],
   "source": [
    "def shuffle1(deck):\n",
    "    \"The teacher's algorithm.\"\n",
    "    N = len(deck)\n",
    "    swapped = [False] * N\n",
    "    while not all(swapped):\n",
    "        i, j = random.randrange(N), random.randrange(N)\n",
    "        swapped[i] = swapped[j] = True\n",
    "        swap(deck, i, j)"
   ]
  },
  {
   "cell_type": "markdown",
   "metadata": {},
   "source": [
    "Let's benchmark this method now."
   ]
  },
  {
   "cell_type": "code",
   "execution_count": 73,
   "metadata": {
    "collapsed": true
   },
   "outputs": [],
   "source": [
    "counts = dict(zip(vals, [empty_dict() for _ in vals]))\n",
    "for n in range(10000):\n",
    "    deck = list(vals)\n",
    "    shuffle1(deck)\n",
    "    for original, shuffled in zip(vals, deck):\n",
    "        counts[original][shuffled] += 1"
   ]
  },
  {
   "cell_type": "code",
   "execution_count": 74,
   "metadata": {
    "collapsed": false
   },
   "outputs": [
    {
     "data": {
      "text/plain": [
       "{1: {1: 1638, 2: 8362}, 2: {1: 8362, 2: 1638}}"
      ]
     },
     "execution_count": 74,
     "metadata": {},
     "output_type": "execute_result"
    }
   ],
   "source": [
    "counts"
   ]
  },
  {
   "cell_type": "code",
   "execution_count": null,
   "metadata": {
    "collapsed": false
   },
   "outputs": [],
   "source": [
    "import itertools\n",
    "\n",
    "def best_wild_hand(hand):\n",
    "    \"Try all values for jokers in all 5-card selections.\"\n",
    "    # isolate jokers\n",
    "    jokers = [card for card in hand if card[0] == \"?\"]\n",
    "    normal_cards = [card for card in hand if card[0] != \"?\"]\n",
    "    # replace jokers by their equivalent cards\n",
    "    hands = [normal_cards[:]]\n",
    "    # generate combinations\n",
    "    for joker in jokers:\n",
    "        joker_cards = [str(rank) + suit \n",
    "                       for rank in [1, 2, 3, 4, 5, 6, 7, 8, 9, 'T', 'J', 'Q', 'K']\n",
    "                       for suit in {'B': ['S', 'C'], 'R':['H', 'D']}[joker[1]]]\n",
    "        print(joker_cards)\n",
    "        for hand in hands:\n",
    "            for joker_card in joker_cards:\n",
    "                hands.append(hand[:] + [joker_card])\n",
    "        print(len(hands))\n",
    "    # keep best one\n",
    "    return max(itertools.combinations(hands, 5), key=hand_rank)\n",
    "\n",
    "def test_best_wild_hand():\n",
    "    assert (sorted(best_wild_hand(\"6C 7C 8C 9C TC 5C ?B\".split()))\n",
    "            == ['7C', '8C', '9C', 'JC', 'TC'])\n",
    "    assert (sorted(best_wild_hand(\"TD TC 5H 5C 7C ?R ?B\".split()))\n",
    "            == ['7C', 'TC', 'TD', 'TH', 'TS'])\n",
    "    assert (sorted(best_wild_hand(\"JD TC TH 7C 7D 7S 7H\".split()))\n",
    "            == ['7C', '7D', '7H', '7S', 'JD'])\n",
    "    return 'test_best_wild_hand passes'\n",
    "\n",
    "#test_best_wild_hand()\n",
    "best_wild_hand(\"6C 7C 8C 9C TC 5C ?B\".split())"
   ]
  },
  {
   "cell_type": "code",
   "execution_count": 76,
   "metadata": {
    "collapsed": false
   },
   "outputs": [
    {
     "name": "stdout",
     "output_type": "stream",
     "text": [
      "> \u001b[0;32m<ipython-input-75-a1ca301b2877>\u001b[0m(18)\u001b[0;36mbest_wild_hand\u001b[0;34m()\u001b[0m\n",
      "\u001b[0;32m     17 \u001b[0;31m            \u001b[0;32mfor\u001b[0m \u001b[0mjoker_card\u001b[0m \u001b[0;32min\u001b[0m \u001b[0mjoker_cards\u001b[0m\u001b[0;34m:\u001b[0m\u001b[0;34m\u001b[0m\u001b[0m\n",
      "\u001b[0m\u001b[0;32m---> 18 \u001b[0;31m                \u001b[0mhands\u001b[0m\u001b[0;34m.\u001b[0m\u001b[0mappend\u001b[0m\u001b[0;34m(\u001b[0m\u001b[0mhand\u001b[0m\u001b[0;34m[\u001b[0m\u001b[0;34m:\u001b[0m\u001b[0;34m]\u001b[0m \u001b[0;34m+\u001b[0m \u001b[0;34m[\u001b[0m\u001b[0mjoker_card\u001b[0m\u001b[0;34m]\u001b[0m\u001b[0;34m)\u001b[0m\u001b[0;34m\u001b[0m\u001b[0m\n",
      "\u001b[0m\u001b[0;32m     19 \u001b[0;31m    \u001b[0;31m# keep best one\u001b[0m\u001b[0;34m\u001b[0m\u001b[0;34m\u001b[0m\u001b[0m\n",
      "\u001b[0m\n",
      "ipdb> hand\n",
      "'6C'\n",
      "ipdb> q\n"
     ]
    }
   ],
   "source": [
    "%debug"
   ]
  },
  {
   "cell_type": "code",
   "execution_count": 5,
   "metadata": {
    "collapsed": false
   },
   "outputs": [],
   "source": [
    "# CS 212, hw1-2: Jokers Wild\n",
    "#\n",
    "# -----------------\n",
    "# User Instructions\n",
    "#\n",
    "# Write a function best_wild_hand(hand) that takes as\n",
    "# input a 7-card hand and returns the best 5 card hand.\n",
    "# In this problem, it is possible for a hand to include\n",
    "# jokers. Jokers will be treated as 'wild cards' which\n",
    "# can take any rank or suit of the same color. The \n",
    "# black joker, '?B', can be used as any spade or club\n",
    "# and the red joker, '?R', can be used as any heart \n",
    "# or diamond.\n",
    "#\n",
    "# The itertools library may be helpful. Feel free to \n",
    "# define multiple functions if it helps you solve the\n",
    "# problem. \n",
    "#\n",
    "# -----------------\n",
    "# Grading Notes\n",
    "# \n",
    "# Muliple correct answers will be accepted in cases \n",
    "# where the best hand is ambiguous (for example, if \n",
    "# you have 4 kings and 3 queens, there are three best\n",
    "# hands: 4 kings along with any of the three queens).\n",
    "\n",
    "import itertools\n",
    "\n",
    "def best_wild_hand(hand):\n",
    "    \"Try all values for jokers in all 5-card selections.\"\n",
    "    # isolate jokers\n",
    "    jokers = [card for card in hand if card[0] == \"?\"]\n",
    "    normal_cards = [card for card in hand if card[0] != \"?\"]\n",
    "    # replace jokers by their equivalent cards\n",
    "    joker_cards = itertools.product(*[possible_placeholders(joker) for joker in jokers])\n",
    "    # compute possible hands\n",
    "    possible_hands = itertools.combinations([normal_cards[:] + list(placeholder) for placeholder in joker_cards], \n",
    "                                     5)\n",
    "    return max(possible_hands, key=hand_rank)\n",
    "        \n",
    "def possible_placeholders(joker):\n",
    "    \"Returns set of cards that a given joker can replace.\"\n",
    "    color = joker[1]\n",
    "    return [str(rank) + suit \n",
    "                       for rank in [1, 2, 3, 4, 5, 6, 7, 8, 9, 'T', 'J', 'Q', 'K']\n",
    "                       for suit in {'B': ['S', 'C'], 'R':['H', 'D']}[color]]\n",
    "\n",
    "def test_best_wild_hand():\n",
    "    assert (sorted(best_wild_hand(\"TD TC 5H 5C 7C ?R ?B\".split()))\n",
    "            == ['7C', 'TC', 'TD', 'TH', 'TS'])\n",
    "    assert (sorted(best_wild_hand(\"6C 7C 8C 9C TC 5C ?B\".split()))\n",
    "            == ['7C', '8C', '9C', 'JC', 'TC'])\n",
    "    assert (sorted(best_wild_hand(\"JD TC TH 7C 7D 7S 7H\".split()))\n",
    "            == ['7C', '7D', '7H', '7S', 'JD'])\n",
    "    return 'test_best_wild_hand passes'\n",
    "\n",
    "\n",
    "# ------------------\n",
    "# Provided Functions\n",
    "# \n",
    "# You may want to use some of the functions which\n",
    "# you have already defined in the unit to write \n",
    "# your best_hand function.\n",
    "\n",
    "def hand_rank(hand):\n",
    "    \"Return a value indicating the ranking of a hand.\"\n",
    "    ranks = card_ranks(hand) \n",
    "    if straight(ranks) and flush(hand):\n",
    "        return (8, max(ranks))\n",
    "    elif kind(4, ranks):\n",
    "        return (7, kind(4, ranks), kind(1, ranks))\n",
    "    elif kind(3, ranks) and kind(2, ranks):\n",
    "        return (6, kind(3, ranks), kind(2, ranks))\n",
    "    elif flush(hand):\n",
    "        return (5, ranks)\n",
    "    elif straight(ranks):\n",
    "        return (4, max(ranks))\n",
    "    elif kind(3, ranks):\n",
    "        return (3, kind(3, ranks), ranks)\n",
    "    elif two_pair(ranks):\n",
    "        return (2, two_pair(ranks), ranks)\n",
    "    elif kind(2, ranks):\n",
    "        return (1, kind(2, ranks), ranks)\n",
    "    else:\n",
    "        return (0, ranks)\n",
    "    \n",
    "def card_ranks(hand):\n",
    "    \"Return a list of the ranks, sorted with higher first.\"\n",
    "    ranks = ['--23456789TJQKA'.index(r) for r, s in hand]\n",
    "    ranks.sort(reverse = True)\n",
    "    return [5, 4, 3, 2, 1] if (ranks == [14, 5, 4, 3, 2]) else ranks\n",
    "\n",
    "def flush(hand):\n",
    "    \"Return True if all the cards have the same suit.\"\n",
    "    suits = [s for r,s in hand]\n",
    "    return len(set(suits)) == 1\n",
    "\n",
    "def straight(ranks):\n",
    "    \"\"\"Return True if the ordered \n",
    "    ranks form a 5-card straight.\"\"\"\n",
    "    return (max(ranks)-min(ranks) == 4) and len(set(ranks)) == 5\n",
    "\n",
    "def kind(n, ranks):\n",
    "    \"\"\"Return the first rank that this hand has \n",
    "    exactly n-of-a-kind of. Return None if there \n",
    "    is no n-of-a-kind in the hand.\"\"\"\n",
    "    for r in ranks:\n",
    "        if ranks.count(r) == n: return r\n",
    "    return None\n",
    "\n",
    "def two_pair(ranks):\n",
    "    \"\"\"If there are two pair here, return the two \n",
    "    ranks of the two pairs, else None.\"\"\"\n",
    "    pair = kind(2, ranks)\n",
    "    lowpair = kind(2, list(reversed(ranks)))\n",
    "    if pair and lowpair != pair:\n",
    "        return (pair, lowpair)\n",
    "    else:\n",
    "        return None \n",
    "\n",
    "#test_best_wild_hand()"
   ]
  },
  {
   "cell_type": "code",
   "execution_count": 6,
   "metadata": {
    "collapsed": false
   },
   "outputs": [
    {
     "ename": "ValueError",
     "evalue": "too many values to unpack (expected 2)",
     "output_type": "error",
     "traceback": [
      "\u001b[0;31m---------------------------------------------------------------------------\u001b[0m",
      "\u001b[0;31mValueError\u001b[0m                                Traceback (most recent call last)",
      "\u001b[0;32m<ipython-input-6-6ad92f20ced2>\u001b[0m in \u001b[0;36m<module>\u001b[0;34m()\u001b[0m\n\u001b[0;32m----> 1\u001b[0;31m \u001b[0mbest_wild_hand\u001b[0m\u001b[0;34m(\u001b[0m\u001b[0;34m\"TD TC 5H 5C 7C ?R ?B\"\u001b[0m\u001b[0;34m.\u001b[0m\u001b[0msplit\u001b[0m\u001b[0;34m(\u001b[0m\u001b[0;34m)\u001b[0m\u001b[0;34m)\u001b[0m\u001b[0;34m\u001b[0m\u001b[0m\n\u001b[0m",
      "\u001b[0;32m<ipython-input-5-b44e7131fd3e>\u001b[0m in \u001b[0;36mbest_wild_hand\u001b[0;34m(hand)\u001b[0m\n\u001b[1;32m     37\u001b[0m     possible_hands = itertools.combinations([normal_cards[:] + list(placeholder) for placeholder in joker_cards], \n\u001b[1;32m     38\u001b[0m                                      5)\n\u001b[0;32m---> 39\u001b[0;31m     \u001b[0;32mreturn\u001b[0m \u001b[0mmax\u001b[0m\u001b[0;34m(\u001b[0m\u001b[0mpossible_hands\u001b[0m\u001b[0;34m,\u001b[0m \u001b[0mkey\u001b[0m\u001b[0;34m=\u001b[0m\u001b[0mhand_rank\u001b[0m\u001b[0;34m)\u001b[0m\u001b[0;34m\u001b[0m\u001b[0m\n\u001b[0m\u001b[1;32m     40\u001b[0m \u001b[0;34m\u001b[0m\u001b[0m\n\u001b[1;32m     41\u001b[0m \u001b[0;32mdef\u001b[0m \u001b[0mpossible_placeholders\u001b[0m\u001b[0;34m(\u001b[0m\u001b[0mjoker\u001b[0m\u001b[0;34m)\u001b[0m\u001b[0;34m:\u001b[0m\u001b[0;34m\u001b[0m\u001b[0m\n",
      "\u001b[0;32m<ipython-input-5-b44e7131fd3e>\u001b[0m in \u001b[0;36mhand_rank\u001b[0;34m(hand)\u001b[0m\n\u001b[1;32m     65\u001b[0m \u001b[0;32mdef\u001b[0m \u001b[0mhand_rank\u001b[0m\u001b[0;34m(\u001b[0m\u001b[0mhand\u001b[0m\u001b[0;34m)\u001b[0m\u001b[0;34m:\u001b[0m\u001b[0;34m\u001b[0m\u001b[0m\n\u001b[1;32m     66\u001b[0m     \u001b[0;34m\"Return a value indicating the ranking of a hand.\"\u001b[0m\u001b[0;34m\u001b[0m\u001b[0m\n\u001b[0;32m---> 67\u001b[0;31m     \u001b[0mranks\u001b[0m \u001b[0;34m=\u001b[0m \u001b[0mcard_ranks\u001b[0m\u001b[0;34m(\u001b[0m\u001b[0mhand\u001b[0m\u001b[0;34m)\u001b[0m\u001b[0;34m\u001b[0m\u001b[0m\n\u001b[0m\u001b[1;32m     68\u001b[0m     \u001b[0;32mif\u001b[0m \u001b[0mstraight\u001b[0m\u001b[0;34m(\u001b[0m\u001b[0mranks\u001b[0m\u001b[0;34m)\u001b[0m \u001b[0;32mand\u001b[0m \u001b[0mflush\u001b[0m\u001b[0;34m(\u001b[0m\u001b[0mhand\u001b[0m\u001b[0;34m)\u001b[0m\u001b[0;34m:\u001b[0m\u001b[0;34m\u001b[0m\u001b[0m\n\u001b[1;32m     69\u001b[0m         \u001b[0;32mreturn\u001b[0m \u001b[0;34m(\u001b[0m\u001b[0;36m8\u001b[0m\u001b[0;34m,\u001b[0m \u001b[0mmax\u001b[0m\u001b[0;34m(\u001b[0m\u001b[0mranks\u001b[0m\u001b[0;34m)\u001b[0m\u001b[0;34m)\u001b[0m\u001b[0;34m\u001b[0m\u001b[0m\n",
      "\u001b[0;32m<ipython-input-5-b44e7131fd3e>\u001b[0m in \u001b[0;36mcard_ranks\u001b[0;34m(hand)\u001b[0m\n\u001b[1;32m     87\u001b[0m \u001b[0;32mdef\u001b[0m \u001b[0mcard_ranks\u001b[0m\u001b[0;34m(\u001b[0m\u001b[0mhand\u001b[0m\u001b[0;34m)\u001b[0m\u001b[0;34m:\u001b[0m\u001b[0;34m\u001b[0m\u001b[0m\n\u001b[1;32m     88\u001b[0m     \u001b[0;34m\"Return a list of the ranks, sorted with higher first.\"\u001b[0m\u001b[0;34m\u001b[0m\u001b[0m\n\u001b[0;32m---> 89\u001b[0;31m     \u001b[0mranks\u001b[0m \u001b[0;34m=\u001b[0m \u001b[0;34m[\u001b[0m\u001b[0;34m'--23456789TJQKA'\u001b[0m\u001b[0;34m.\u001b[0m\u001b[0mindex\u001b[0m\u001b[0;34m(\u001b[0m\u001b[0mr\u001b[0m\u001b[0;34m)\u001b[0m \u001b[0;32mfor\u001b[0m \u001b[0mr\u001b[0m\u001b[0;34m,\u001b[0m \u001b[0ms\u001b[0m \u001b[0;32min\u001b[0m \u001b[0mhand\u001b[0m\u001b[0;34m]\u001b[0m\u001b[0;34m\u001b[0m\u001b[0m\n\u001b[0m\u001b[1;32m     90\u001b[0m     \u001b[0mranks\u001b[0m\u001b[0;34m.\u001b[0m\u001b[0msort\u001b[0m\u001b[0;34m(\u001b[0m\u001b[0mreverse\u001b[0m \u001b[0;34m=\u001b[0m \u001b[0;32mTrue\u001b[0m\u001b[0;34m)\u001b[0m\u001b[0;34m\u001b[0m\u001b[0m\n\u001b[1;32m     91\u001b[0m     \u001b[0;32mreturn\u001b[0m \u001b[0;34m[\u001b[0m\u001b[0;36m5\u001b[0m\u001b[0;34m,\u001b[0m \u001b[0;36m4\u001b[0m\u001b[0;34m,\u001b[0m \u001b[0;36m3\u001b[0m\u001b[0;34m,\u001b[0m \u001b[0;36m2\u001b[0m\u001b[0;34m,\u001b[0m \u001b[0;36m1\u001b[0m\u001b[0;34m]\u001b[0m \u001b[0;32mif\u001b[0m \u001b[0;34m(\u001b[0m\u001b[0mranks\u001b[0m \u001b[0;34m==\u001b[0m \u001b[0;34m[\u001b[0m\u001b[0;36m14\u001b[0m\u001b[0;34m,\u001b[0m \u001b[0;36m5\u001b[0m\u001b[0;34m,\u001b[0m \u001b[0;36m4\u001b[0m\u001b[0;34m,\u001b[0m \u001b[0;36m3\u001b[0m\u001b[0;34m,\u001b[0m \u001b[0;36m2\u001b[0m\u001b[0;34m]\u001b[0m\u001b[0;34m)\u001b[0m \u001b[0;32melse\u001b[0m \u001b[0mranks\u001b[0m\u001b[0;34m\u001b[0m\u001b[0m\n",
      "\u001b[0;32m<ipython-input-5-b44e7131fd3e>\u001b[0m in \u001b[0;36m<listcomp>\u001b[0;34m(.0)\u001b[0m\n\u001b[1;32m     87\u001b[0m \u001b[0;32mdef\u001b[0m \u001b[0mcard_ranks\u001b[0m\u001b[0;34m(\u001b[0m\u001b[0mhand\u001b[0m\u001b[0;34m)\u001b[0m\u001b[0;34m:\u001b[0m\u001b[0;34m\u001b[0m\u001b[0m\n\u001b[1;32m     88\u001b[0m     \u001b[0;34m\"Return a list of the ranks, sorted with higher first.\"\u001b[0m\u001b[0;34m\u001b[0m\u001b[0m\n\u001b[0;32m---> 89\u001b[0;31m     \u001b[0mranks\u001b[0m \u001b[0;34m=\u001b[0m \u001b[0;34m[\u001b[0m\u001b[0;34m'--23456789TJQKA'\u001b[0m\u001b[0;34m.\u001b[0m\u001b[0mindex\u001b[0m\u001b[0;34m(\u001b[0m\u001b[0mr\u001b[0m\u001b[0;34m)\u001b[0m \u001b[0;32mfor\u001b[0m \u001b[0mr\u001b[0m\u001b[0;34m,\u001b[0m \u001b[0ms\u001b[0m \u001b[0;32min\u001b[0m \u001b[0mhand\u001b[0m\u001b[0;34m]\u001b[0m\u001b[0;34m\u001b[0m\u001b[0m\n\u001b[0m\u001b[1;32m     90\u001b[0m     \u001b[0mranks\u001b[0m\u001b[0;34m.\u001b[0m\u001b[0msort\u001b[0m\u001b[0;34m(\u001b[0m\u001b[0mreverse\u001b[0m \u001b[0;34m=\u001b[0m \u001b[0;32mTrue\u001b[0m\u001b[0;34m)\u001b[0m\u001b[0;34m\u001b[0m\u001b[0m\n\u001b[1;32m     91\u001b[0m     \u001b[0;32mreturn\u001b[0m \u001b[0;34m[\u001b[0m\u001b[0;36m5\u001b[0m\u001b[0;34m,\u001b[0m \u001b[0;36m4\u001b[0m\u001b[0;34m,\u001b[0m \u001b[0;36m3\u001b[0m\u001b[0;34m,\u001b[0m \u001b[0;36m2\u001b[0m\u001b[0;34m,\u001b[0m \u001b[0;36m1\u001b[0m\u001b[0;34m]\u001b[0m \u001b[0;32mif\u001b[0m \u001b[0;34m(\u001b[0m\u001b[0mranks\u001b[0m \u001b[0;34m==\u001b[0m \u001b[0;34m[\u001b[0m\u001b[0;36m14\u001b[0m\u001b[0;34m,\u001b[0m \u001b[0;36m5\u001b[0m\u001b[0;34m,\u001b[0m \u001b[0;36m4\u001b[0m\u001b[0;34m,\u001b[0m \u001b[0;36m3\u001b[0m\u001b[0;34m,\u001b[0m \u001b[0;36m2\u001b[0m\u001b[0;34m]\u001b[0m\u001b[0;34m)\u001b[0m \u001b[0;32melse\u001b[0m \u001b[0mranks\u001b[0m\u001b[0;34m\u001b[0m\u001b[0m\n",
      "\u001b[0;31mValueError\u001b[0m: too many values to unpack (expected 2)"
     ]
    }
   ],
   "source": [
    "best_wild_hand(\"TD TC 5H 5C 7C ?R ?B\".split())"
   ]
  },
  {
   "cell_type": "code",
   "execution_count": null,
   "metadata": {
    "collapsed": false
   },
   "outputs": [],
   "source": [
    "%debug"
   ]
  },
  {
   "cell_type": "code",
   "execution_count": null,
   "metadata": {
    "collapsed": true
   },
   "outputs": [],
   "source": []
  },
  {
   "cell_type": "code",
   "execution_count": 2,
   "metadata": {
    "collapsed": false
   },
   "outputs": [
    {
     "name": "stdout",
     "output_type": "stream",
     "text": [
      "> \u001b[0;32m<ipython-input-1-8695b91fd840>\u001b[0m(87)\u001b[0;36m<listcomp>\u001b[0;34m()\u001b[0m\n",
      "\u001b[0;32m     86 \u001b[0;31m    \u001b[0;34m\"Return a list of the ranks, sorted with higher first.\"\u001b[0m\u001b[0;34m\u001b[0m\u001b[0m\n",
      "\u001b[0m\u001b[0;32m---> 87 \u001b[0;31m    \u001b[0mranks\u001b[0m \u001b[0;34m=\u001b[0m \u001b[0;34m[\u001b[0m\u001b[0;34m'--23456789TJQKA'\u001b[0m\u001b[0;34m.\u001b[0m\u001b[0mindex\u001b[0m\u001b[0;34m(\u001b[0m\u001b[0mr\u001b[0m\u001b[0;34m)\u001b[0m \u001b[0;32mfor\u001b[0m \u001b[0mr\u001b[0m\u001b[0;34m,\u001b[0m \u001b[0ms\u001b[0m \u001b[0;32min\u001b[0m \u001b[0mhand\u001b[0m\u001b[0;34m]\u001b[0m\u001b[0;34m\u001b[0m\u001b[0m\n",
      "\u001b[0m\u001b[0;32m     88 \u001b[0;31m    \u001b[0mranks\u001b[0m\u001b[0;34m.\u001b[0m\u001b[0msort\u001b[0m\u001b[0;34m(\u001b[0m\u001b[0mreverse\u001b[0m \u001b[0;34m=\u001b[0m \u001b[0;32mTrue\u001b[0m\u001b[0;34m)\u001b[0m\u001b[0;34m\u001b[0m\u001b[0m\n",
      "\u001b[0m\n",
      "ipdb> a\n",
      ".0 = <tuple_iterator object at 0x1043b1198>\n",
      "ipdb> u\n",
      "> \u001b[0;32m<ipython-input-1-8695b91fd840>\u001b[0m(87)\u001b[0;36mcard_ranks\u001b[0;34m()\u001b[0m\n",
      "\u001b[0;32m     86 \u001b[0;31m    \u001b[0;34m\"Return a list of the ranks, sorted with higher first.\"\u001b[0m\u001b[0;34m\u001b[0m\u001b[0m\n",
      "\u001b[0m\u001b[0;32m---> 87 \u001b[0;31m    \u001b[0mranks\u001b[0m \u001b[0;34m=\u001b[0m \u001b[0;34m[\u001b[0m\u001b[0;34m'--23456789TJQKA'\u001b[0m\u001b[0;34m.\u001b[0m\u001b[0mindex\u001b[0m\u001b[0;34m(\u001b[0m\u001b[0mr\u001b[0m\u001b[0;34m)\u001b[0m \u001b[0;32mfor\u001b[0m \u001b[0mr\u001b[0m\u001b[0;34m,\u001b[0m \u001b[0ms\u001b[0m \u001b[0;32min\u001b[0m \u001b[0mhand\u001b[0m\u001b[0;34m]\u001b[0m\u001b[0;34m\u001b[0m\u001b[0m\n",
      "\u001b[0m\u001b[0;32m     88 \u001b[0;31m    \u001b[0mranks\u001b[0m\u001b[0;34m.\u001b[0m\u001b[0msort\u001b[0m\u001b[0;34m(\u001b[0m\u001b[0mreverse\u001b[0m \u001b[0;34m=\u001b[0m \u001b[0;32mTrue\u001b[0m\u001b[0;34m)\u001b[0m\u001b[0;34m\u001b[0m\u001b[0m\n",
      "\u001b[0m\n",
      "ipdb> u\n",
      "> \u001b[0;32m<ipython-input-1-8695b91fd840>\u001b[0m(65)\u001b[0;36mhand_rank\u001b[0;34m()\u001b[0m\n",
      "\u001b[0;32m     64 \u001b[0;31m    \u001b[0;34m\"Return a value indicating the ranking of a hand.\"\u001b[0m\u001b[0;34m\u001b[0m\u001b[0m\n",
      "\u001b[0m\u001b[0;32m---> 65 \u001b[0;31m    \u001b[0mranks\u001b[0m \u001b[0;34m=\u001b[0m \u001b[0mcard_ranks\u001b[0m\u001b[0;34m(\u001b[0m\u001b[0mhand\u001b[0m\u001b[0;34m)\u001b[0m\u001b[0;34m\u001b[0m\u001b[0m\n",
      "\u001b[0m\u001b[0;32m     66 \u001b[0;31m    \u001b[0;32mif\u001b[0m \u001b[0mstraight\u001b[0m\u001b[0;34m(\u001b[0m\u001b[0mranks\u001b[0m\u001b[0;34m)\u001b[0m \u001b[0;32mand\u001b[0m \u001b[0mflush\u001b[0m\u001b[0;34m(\u001b[0m\u001b[0mhand\u001b[0m\u001b[0;34m)\u001b[0m\u001b[0;34m:\u001b[0m\u001b[0;34m\u001b[0m\u001b[0m\n",
      "\u001b[0m\n",
      "ipdb> u\n",
      "> \u001b[0;32m<ipython-input-1-8695b91fd840>\u001b[0m(37)\u001b[0;36mbest_wild_hand\u001b[0;34m()\u001b[0m\n",
      "\u001b[0;32m     36 \u001b[0;31m    return max(itertools.combinations([normal_cards + list(placeholder) for placeholder in joker_cards], \n",
      "\u001b[0m\u001b[0;32m---> 37 \u001b[0;31m                                     5), key=hand_rank)\n",
      "\u001b[0m\u001b[0;32m     38 \u001b[0;31m\u001b[0;34m\u001b[0m\u001b[0m\n",
      "\u001b[0m\n",
      "ipdb> placeholder\n",
      "*** NameError: name 'placeholder' is not defined\n",
      "ipdb> d\n",
      "> \u001b[0;32m<ipython-input-1-8695b91fd840>\u001b[0m(65)\u001b[0;36mhand_rank\u001b[0;34m()\u001b[0m\n",
      "\u001b[0;32m     64 \u001b[0;31m    \u001b[0;34m\"Return a value indicating the ranking of a hand.\"\u001b[0m\u001b[0;34m\u001b[0m\u001b[0m\n",
      "\u001b[0m\u001b[0;32m---> 65 \u001b[0;31m    \u001b[0mranks\u001b[0m \u001b[0;34m=\u001b[0m \u001b[0mcard_ranks\u001b[0m\u001b[0;34m(\u001b[0m\u001b[0mhand\u001b[0m\u001b[0;34m)\u001b[0m\u001b[0;34m\u001b[0m\u001b[0m\n",
      "\u001b[0m\u001b[0;32m     66 \u001b[0;31m    \u001b[0;32mif\u001b[0m \u001b[0mstraight\u001b[0m\u001b[0;34m(\u001b[0m\u001b[0mranks\u001b[0m\u001b[0;34m)\u001b[0m \u001b[0;32mand\u001b[0m \u001b[0mflush\u001b[0m\u001b[0;34m(\u001b[0m\u001b[0mhand\u001b[0m\u001b[0;34m)\u001b[0m\u001b[0;34m:\u001b[0m\u001b[0;34m\u001b[0m\u001b[0m\n",
      "\u001b[0m\n",
      "ipdb> a\n",
      "hand = (['TD', 'TC', '5H', '5C', '7C', '1H', '1S'], ['TD', 'TC', '5H', '5C', '7C', '1H', '1C'], ['TD', 'TC', '5H', '5C', '7C', '1H', '2S'], ['TD', 'TC', '5H', '5C', '7C', '1H', '2C'], ['TD', 'TC', '5H', '5C', '7C', '1H', '3S'])\n",
      "ipdb> q\n"
     ]
    }
   ],
   "source": [
    "%debug"
   ]
  },
  {
   "cell_type": "code",
   "execution_count": null,
   "metadata": {
    "collapsed": true
   },
   "outputs": [],
   "source": []
  }
 ],
 "metadata": {
  "kernelspec": {
   "display_name": "Python 3",
   "language": "python",
   "name": "python3"
  },
  "language_info": {
   "codemirror_mode": {
    "name": "ipython",
    "version": 3
   },
   "file_extension": ".py",
   "mimetype": "text/x-python",
   "name": "python",
   "nbconvert_exporter": "python",
   "pygments_lexer": "ipython3",
   "version": "3.4.4"
  }
 },
 "nbformat": 4,
 "nbformat_minor": 0
}
