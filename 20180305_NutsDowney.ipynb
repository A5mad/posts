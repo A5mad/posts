{
 "cells": [
  {
   "cell_type": "markdown",
   "metadata": {},
   "source": [
    "Here's Allen Downey's article: http://allendowney.blogspot.fr/2011/08/jimmy-nut-company-problem.html"
   ]
  },
  {
   "cell_type": "markdown",
   "metadata": {},
   "source": [
    "> “Jimmy Nut Company advertises that their nut mix contains 40% cashews, 15% brazil nuts, 20% almonds, and only 25% peanuts. The truth in advertising investigators took a random sample (of size 20 lb) of the nut mix and found the distribution to be as follows:\n",
    "\n",
    ">Cashews  Brazil Nuts  Almonds  Peanuts\n",
    "\n",
    ">6 lb     3 lb         5 lb     6 lb\n",
    "\n",
    ">At the 0.01 level of significance, is the claim made by Jimmy Nuts true?”"
   ]
  },
  {
   "cell_type": "code",
   "execution_count": 1,
   "metadata": {},
   "outputs": [],
   "source": [
    "weights = {'Cashew': (16+18)/2, \n",
    "           'Brazil nut': (6+8)/2, \n",
    "           'Almonds': (20+24)/2, \n",
    "           'Peanuts': 28.}"
   ]
  },
  {
   "cell_type": "markdown",
   "metadata": {},
   "source": [
    "Converting from weight in the sample to count per ounce."
   ]
  },
  {
   "cell_type": "code",
   "execution_count": 2,
   "metadata": {},
   "outputs": [],
   "source": [
    "def ConvertToCount(sample, count_per):\n",
    "    \"\"\"Convert from weight to count.\n",
    "\n",
    "    sample: Hist that maps from category to weight in pounds\n",
    "    count_per: dict that maps from category to count per ounce\n",
    "    \"\"\"\n",
    "    for value, count in sample.Items():\n",
    "        sample.Mult(value, 16 * count_per[value])"
   ]
  },
  {
   "cell_type": "code",
   "execution_count": 3,
   "metadata": {},
   "outputs": [],
   "source": [
    "sample = dict(cashew=6, brazil=3, almond=5, peanut=6)\n",
    "count_per = dict(cashew=17, brazil=7, \n",
    "                     almond=22, peanut=28)"
   ]
  },
  {
   "cell_type": "code",
   "execution_count": 4,
   "metadata": {},
   "outputs": [
    {
     "data": {
      "text/plain": [
       "{'almond': 22, 'brazil': 7, 'cashew': 17, 'peanut': 28}"
      ]
     },
     "execution_count": 4,
     "metadata": {},
     "output_type": "execute_result"
    }
   ],
   "source": [
    "count_per"
   ]
  },
  {
   "cell_type": "code",
   "execution_count": 5,
   "metadata": {},
   "outputs": [],
   "source": [
    "from thinkstats2 import MakeHistFromDict, MakePmfFromDict\n",
    "\n",
    "observed = MakeHistFromDict(sample)\n",
    "ConvertToCount(observed, count_per)"
   ]
  },
  {
   "cell_type": "code",
   "execution_count": 6,
   "metadata": {},
   "outputs": [
    {
     "data": {
      "text/plain": [
       "Hist({'cashew': 1632, 'brazil': 336, 'almond': 1760, 'peanut': 2688})"
      ]
     },
     "execution_count": 6,
     "metadata": {},
     "output_type": "execute_result"
    }
   ],
   "source": [
    "observed"
   ]
  },
  {
   "cell_type": "code",
   "execution_count": 7,
   "metadata": {},
   "outputs": [],
   "source": [
    "advertised = dict(cashew=40, brazil=15, \n",
    "                      almond=20, peanut=25)"
   ]
  },
  {
   "cell_type": "code",
   "execution_count": 8,
   "metadata": {},
   "outputs": [],
   "source": [
    "expected = MakePmfFromDict(advertised)\n",
    "ConvertToCount(expected, count_per)"
   ]
  },
  {
   "cell_type": "code",
   "execution_count": 9,
   "metadata": {},
   "outputs": [
    {
     "data": {
      "text/plain": [
       "Pmf({'cashew': 108.80000000000001, 'brazil': 16.8, 'almond': 70.4, 'peanut': 112.0})"
      ]
     },
     "execution_count": 9,
     "metadata": {},
     "output_type": "execute_result"
    }
   ],
   "source": [
    "expected"
   ]
  },
  {
   "cell_type": "code",
   "execution_count": 10,
   "metadata": {},
   "outputs": [
    {
     "data": {
      "text/plain": [
       "308.0"
      ]
     },
     "execution_count": 10,
     "metadata": {},
     "output_type": "execute_result"
    }
   ],
   "source": [
    "expected.Normalize(observed.Total())"
   ]
  },
  {
   "cell_type": "code",
   "execution_count": 11,
   "metadata": {},
   "outputs": [
    {
     "data": {
      "text/plain": [
       "Pmf({'cashew': 2266.431168831169, 'brazil': 349.9636363636364, 'almond': 1466.514285714286, 'peanut': 2333.090909090909})"
      ]
     },
     "execution_count": 11,
     "metadata": {},
     "output_type": "execute_result"
    }
   ],
   "source": [
    "expected"
   ]
  },
  {
   "cell_type": "code",
   "execution_count": 12,
   "metadata": {},
   "outputs": [],
   "source": [
    "import pandas as pd"
   ]
  },
  {
   "cell_type": "code",
   "execution_count": 13,
   "metadata": {},
   "outputs": [
    {
     "data": {
      "text/html": [
       "<div>\n",
       "<style>\n",
       "    .dataframe thead tr:only-child th {\n",
       "        text-align: right;\n",
       "    }\n",
       "\n",
       "    .dataframe thead th {\n",
       "        text-align: left;\n",
       "    }\n",
       "\n",
       "    .dataframe tbody tr th {\n",
       "        vertical-align: top;\n",
       "    }\n",
       "</style>\n",
       "<table border=\"1\" class=\"dataframe\">\n",
       "  <thead>\n",
       "    <tr style=\"text-align: right;\">\n",
       "      <th></th>\n",
       "      <th>expected</th>\n",
       "      <th>observed</th>\n",
       "      <th>error</th>\n",
       "    </tr>\n",
       "  </thead>\n",
       "  <tbody>\n",
       "    <tr>\n",
       "      <th>almond</th>\n",
       "      <td>1466.514286</td>\n",
       "      <td>1760.0</td>\n",
       "      <td>20.012469</td>\n",
       "    </tr>\n",
       "    <tr>\n",
       "      <th>brazil</th>\n",
       "      <td>349.963636</td>\n",
       "      <td>336.0</td>\n",
       "      <td>-3.990025</td>\n",
       "    </tr>\n",
       "    <tr>\n",
       "      <th>cashew</th>\n",
       "      <td>2266.431169</td>\n",
       "      <td>1632.0</td>\n",
       "      <td>-27.992519</td>\n",
       "    </tr>\n",
       "    <tr>\n",
       "      <th>peanut</th>\n",
       "      <td>2333.090909</td>\n",
       "      <td>2688.0</td>\n",
       "      <td>15.211970</td>\n",
       "    </tr>\n",
       "  </tbody>\n",
       "</table>\n",
       "</div>"
      ],
      "text/plain": [
       "           expected  observed      error\n",
       "almond  1466.514286    1760.0  20.012469\n",
       "brazil   349.963636     336.0  -3.990025\n",
       "cashew  2266.431169    1632.0 -27.992519\n",
       "peanut  2333.090909    2688.0  15.211970"
      ]
     },
     "execution_count": 13,
     "metadata": {},
     "output_type": "execute_result"
    }
   ],
   "source": [
    "df = pd.DataFrame([expected.GetDict(), observed.GetDict()]).transpose()\n",
    "df.columns = ['expected', 'observed']\n",
    "df['error'] = (df.observed - df.expected) / df.expected * 100\n",
    "df"
   ]
  },
  {
   "cell_type": "markdown",
   "metadata": {},
   "source": [
    "Let's compute the chi-square of this:"
   ]
  },
  {
   "cell_type": "code",
   "execution_count": 50,
   "metadata": {},
   "outputs": [],
   "source": [
    "def chi_square(expected_dict, observed_dict):\n",
    "    \"\"\"Computes the chi squared statistic.\"\"\"\n",
    "    chi = 0\n",
    "    for key in expected_dict:\n",
    "        a, b = observed_dict[key], expected_dict[key]\n",
    "        chi += (a-b)**2/b\n",
    "    return chi"
   ]
  },
  {
   "cell_type": "code",
   "execution_count": 62,
   "metadata": {},
   "outputs": [
    {
     "data": {
      "text/plain": [
       "290.8728179551123"
      ]
     },
     "execution_count": 62,
     "metadata": {},
     "output_type": "execute_result"
    }
   ],
   "source": [
    "test_stat = chi_square(expected.GetDict(), observed.GetDict())\n",
    "test_stat"
   ]
  },
  {
   "cell_type": "code",
   "execution_count": 52,
   "metadata": {},
   "outputs": [],
   "source": [
    "from thinkstats2 import MakeCdfFromHist, MakeHistFromList"
   ]
  },
  {
   "cell_type": "code",
   "execution_count": 53,
   "metadata": {},
   "outputs": [
    {
     "data": {
      "text/plain": [
       "3.657641282822343"
      ]
     },
     "execution_count": 53,
     "metadata": {},
     "output_type": "execute_result"
    }
   ],
   "source": [
    "num_nuts = observed.Total()\n",
    "cdf = MakeCdfFromHist(expected)\n",
    "t = cdf.Sample(num_nuts)\n",
    "simulated = MakeHistFromList(t)\n",
    "chi2 = chi_square(expected.GetDict(), simulated.GetDict())\n",
    "chi2"
   ]
  },
  {
   "cell_type": "markdown",
   "metadata": {},
   "source": [
    "Let's do that many times now!"
   ]
  },
  {
   "cell_type": "code",
   "execution_count": 55,
   "metadata": {},
   "outputs": [],
   "source": [
    "import tqdm"
   ]
  },
  {
   "cell_type": "code",
   "execution_count": 64,
   "metadata": {},
   "outputs": [
    {
     "name": "stderr",
     "output_type": "stream",
     "text": [
      "100%|██████████| 5000/5000 [00:18<00:00, 273.41it/s]\n"
     ]
    }
   ],
   "source": [
    "chi2s = []\n",
    "for _ in tqdm.tqdm(range(5000)):\n",
    "    t = cdf.Sample(num_nuts)\n",
    "    simulated = MakeHistFromList(t)\n",
    "    chi2 = chi_square(expected.GetDict(), simulated.GetDict())\n",
    "    chi2s.append(chi2)"
   ]
  },
  {
   "cell_type": "code",
   "execution_count": 57,
   "metadata": {},
   "outputs": [],
   "source": [
    "import matplotlib.pyplot as plt\n",
    "%matplotlib inline"
   ]
  },
  {
   "cell_type": "code",
   "execution_count": 67,
   "metadata": {},
   "outputs": [
    {
     "data": {
      "text/plain": [
       "<matplotlib.legend.Legend at 0x11946b208>"
      ]
     },
     "execution_count": 67,
     "metadata": {},
     "output_type": "execute_result"
    },
    {
     "data": {
      "image/png": "[encoded data removed]",
      "text/plain": [
       "<matplotlib.figure.Figure at 0x11933b390>"
      ]
     },
     "metadata": {},
     "output_type": "display_data"
    }
   ],
   "source": [
    "plt.hist(chi2s, bins=50, normed=True, label='simulated distribution');\n",
    "plt.vlines(test_stat, 0, 0.3, label='test statistic')\n",
    "plt.legend()"
   ]
  },
  {
   "cell_type": "markdown",
   "metadata": {},
   "source": [
    "So indeed, it seems unlikely that the observed distribution has been drawn from our generative model. Great post by Allen!"
   ]
  }
 ],
 "metadata": {
  "kernelspec": {
   "display_name": "Python 3",
   "language": "python",
   "name": "python3"
  },
  "language_info": {
   "codemirror_mode": {
    "name": "ipython",
    "version": 3
   },
   "file_extension": ".py",
   "mimetype": "text/x-python",
   "name": "python",
   "nbconvert_exporter": "python",
   "pygments_lexer": "ipython3",
   "version": "3.6.1"
  }
 },
 "nbformat": 4,
 "nbformat_minor": 2
}
