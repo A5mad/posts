{
 "metadata": {
  "name": "",
  "signature": "sha256:e734dc952e707677a08b56f6a282f38f3f99318e10d813aa572aa4b35037f19f"
 },
 "nbformat": 3,
 "nbformat_minor": 0,
 "worksheets": [
  {
   "cells": [
    {
     "cell_type": "code",
     "collapsed": false,
     "input": [
      "%matplotlib inline\n",
      "import pylab as pl\n",
      "from IPython.html.widgets import interact"
     ],
     "language": "python",
     "metadata": {},
     "outputs": [],
     "prompt_number": 1
    },
    {
     "cell_type": "markdown",
     "metadata": {},
     "source": [
      "In this post, we're going to tackle the following problem: \n",
      "\n",
      "> Given a sequence of bricks, what is the best way to stack them on top of each other so as to cover the greatest possible horizontal distance?\n",
      "\n",
      "By \"stack them on top of each other\", we mean two things:\n",
      "\n",
      "- the bricks lie on top of each other (no glue or any kind of support)\n",
      "- they're stable (gravity doesn't make the construction collapse)\n",
      "\n",
      "This problem has some similarity with the Jenga game (see picture below), where players remove blocks of woods from an initially stable pyramid, until it collapses. The collapse happening to Jenga towers is essentially due to gravity: removing one block changes the static properties of the structure and destroys it."
     ]
    },
    {
     "cell_type": "code",
     "collapsed": false,
     "input": [
      "from IPython.display import Image\n",
      "Image(url=\"http://kristinruffin.files.wordpress.com/2014/03/jenga-falling-for-web.jpg\")"
     ],
     "language": "python",
     "metadata": {},
     "outputs": [
      {
       "html": [
        "<img src=\"http://kristinruffin.files.wordpress.com/2014/03/jenga-falling-for-web.jpg\"/>"
       ],
       "metadata": {},
       "output_type": "pyout",
       "prompt_number": 2,
       "text": [
        "<IPython.core.display.Image at 0x3a178f0>"
       ]
      }
     ],
     "prompt_number": 2
    },
    {
     "cell_type": "markdown",
     "metadata": {},
     "source": [
      "Other examples of this sort of stacking exist. As an example we can cite the [Nubian vault technique](http://en.wikipedia.org/wiki/Nubian_vault), whose key advantage Wikipedia says is the ability to be built \"without any support or shuttering\"."
     ]
    },
    {
     "cell_type": "markdown",
     "metadata": {},
     "source": [
      "This post is comprised of several sections. We first describe our model and data representation of this problem in Python. We then move on to write some graphic functions before designing the meat of this post: the \"stacking algorithm\". Finally, we examine applications of our code."
     ]
    },
    {
     "cell_type": "heading",
     "level": 2,
     "metadata": {},
     "source": [
      "Modelling assumptions"
     ]
    },
    {
     "cell_type": "markdown",
     "metadata": {},
     "source": [
      "In this post, we'll work with \"bricks\" that we will stack. Our modelling assumptions are as follows:\n",
      "\n",
      "- a brick of width $w$ and height $h$ is modelled as tuple $(w, h)$\n",
      "- a sequence of bricks to be stacked in a given order (the first on bottom, the last on top) is modelled as a list of bricks as defined above"
     ]
    },
    {
     "cell_type": "markdown",
     "metadata": {},
     "source": [
      "Next, we're going to write a simple function that generates regular sequences of bricks, much like with Jenga, which will be used in the examples to follow. The function takes as arguments:\n",
      "\n",
      "- the width and height of the brick sequence to be generated\n",
      "- the number of bricks to generate"
     ]
    },
    {
     "cell_type": "code",
     "collapsed": false,
     "input": [
      "def generate_brick_sequence(width, height, n):\n",
      "    return [(width, height) for i in range(n)]"
     ],
     "language": "python",
     "metadata": {},
     "outputs": [],
     "prompt_number": 3
    },
    {
     "cell_type": "markdown",
     "metadata": {},
     "source": [
      "Below, we test the output on an example case, generating a sequence of five bricks with width 3 and height 4:"
     ]
    },
    {
     "cell_type": "code",
     "collapsed": false,
     "input": [
      "generate_brick_sequence(3, 4, 5)"
     ],
     "language": "python",
     "metadata": {},
     "outputs": [
      {
       "metadata": {},
       "output_type": "pyout",
       "prompt_number": 4,
       "text": [
        "[(3, 4), (3, 4), (3, 4), (3, 4), (3, 4)]"
       ]
      }
     ],
     "prompt_number": 4
    },
    {
     "cell_type": "markdown",
     "metadata": {},
     "source": [
      "To continue, we will do two things, that will in time be translated to two functions.\n",
      "\n",
      "- a way of plotting brick sequences \n",
      "- a way to compute how to stack the bricks in a stable way for maximum range given a sequence of bricks as input\n",
      "\n",
      "Among these two things, the first is easy. And fun. So we're starting with that."
     ]
    },
    {
     "cell_type": "heading",
     "level": 2,
     "metadata": {},
     "source": [
      "Plotting brick sequences"
     ]
    },
    {
     "cell_type": "markdown",
     "metadata": {},
     "source": [
      "Below, we write a function that plots bricks using `Rectangles`, a functionality already provided by matplotlib. \n",
      "\n",
      "The way it works is the following. We take inputs made of:\n",
      "\n",
      "- a brick sequence\n",
      "- the horizontal shifts to apply to each brick\n",
      "\n",
      "And then we loop and draw each brick on top of each other, starting with the first one at the bottom and applying the horizontal shift given as an input. To make this function generic, we keep track of the total height, so as to stack bricks exactly above each other."
     ]
    },
    {
     "cell_type": "code",
     "collapsed": false,
     "input": [
      "fig = pl.figure()\n",
      "fig.gca()"
     ],
     "language": "python",
     "metadata": {},
     "outputs": [
      {
       "metadata": {},
       "output_type": "pyout",
       "prompt_number": 5,
       "text": [
        "<matplotlib.axes.AxesSubplot at 0x550f470>"
       ]
      },
      {
       "metadata": {},
       "output_type": "display_data",
       "png": "[encoded data removed]",
       "text": [
        "<matplotlib.figure.Figure at 0x550f7d0>"
       ]
      }
     ],
     "prompt_number": 5
    },
    {
     "cell_type": "code",
     "collapsed": false,
     "input": [
      "from matplotlib.patches import Rectangle\n",
      "\n",
      "def plot_brick_sequence(brick_sequence, shifts):\n",
      "    ax = pl.gca()\n",
      "    total_height = 0.\n",
      "    for brick, shift in zip(brick_sequence, shifts):\n",
      "        ax.add_patch(Rectangle((shift, total_height), brick[0], brick[1]))\n",
      "        total_height += brick[1]"
     ],
     "language": "python",
     "metadata": {},
     "outputs": [],
     "prompt_number": 6
    },
    {
     "cell_type": "markdown",
     "metadata": {},
     "source": [
      "We can immediately try our function on an exemple sequence (that I just made up: the stacking is NOT physcally acceptable)."
     ]
    },
    {
     "cell_type": "code",
     "collapsed": false,
     "input": [
      "bricks = [(1, 2), (2, 3), (3, 4)]\n",
      "shifts = [0, 0.5, 2]\n",
      "plot_brick_sequence(bricks, shifts)\n",
      "pl.xlim(0, 10)\n",
      "pl.ylim(0, 10)"
     ],
     "language": "python",
     "metadata": {},
     "outputs": [
      {
       "metadata": {},
       "output_type": "pyout",
       "prompt_number": 7,
       "text": [
        "(0, 10)"
       ]
      },
      {
       "metadata": {},
       "output_type": "display_data",
       "png": "[encoded data removed]",
       "text": [
        "<matplotlib.figure.Figure at 0x5592bd0>"
       ]
      }
     ],
     "prompt_number": 7
    },
    {
     "cell_type": "markdown",
     "metadata": {},
     "source": [
      "Now on to the hard part: the \"stacking algorithm\"."
     ]
    },
    {
     "cell_type": "heading",
     "level": 2,
     "metadata": {},
     "source": [
      "Writing a function that computes the stacking"
     ]
    },
    {
     "cell_type": "markdown",
     "metadata": {},
     "source": [
      "How does one write such a stacking function? Answer: this situation is described by static mechanics. \n",
      "\n",
      "Let's assume we have two blocks: a \"top\" and a \"bottom\" block. The horizontal shift for the top block is $x_i$. The forces that apply to the top block are:\n",
      "\n",
      "- gravity, which is proportional to its mass $m_i$\n",
      "- the reaction force due to the bottom block (a contact pressure)\n",
      "\n",
      "In our model, we will assume that the blocks are rigid and thus replace the contact pressure by a point force located at the right most point of the bottom block. This is illustrated by the figure below."
     ]
    },
    {
     "cell_type": "code",
     "collapsed": false,
     "input": [
      "from IPython.display import SVG\n",
      "SVG(filename='files/forces.svg')"
     ],
     "language": "python",
     "metadata": {},
     "outputs": [
      {
       "metadata": {},
       "output_type": "pyout",
       "prompt_number": 8,
       "svg": [
        "<svg height=\"420.70761\" id=\"svg2\" inkscape:version=\"0.48.4 r9939\" sodipodi:docname=\"forces.svg\" version=\"1.1\" width=\"1045.2812\" xmlns=\"http://www.w3.org/2000/svg\" xmlns:cc=\"http://creativecommons.org/ns#\" xmlns:dc=\"http://purl.org/dc/elements/1.1/\" xmlns:inkscape=\"http://www.inkscape.org/namespaces/inkscape\" xmlns:osb=\"http://www.openswatchbook.org/uri/2009/osb\" xmlns:rdf=\"http://www.w3.org/1999/02/22-rdf-syntax-ns#\" xmlns:sodipodi=\"http://sodipodi.sourceforge.net/DTD/sodipodi-0.dtd\" xmlns:svg=\"http://www.w3.org/2000/svg\">\n",
        "  <defs id=\"defs4\">\n",
        "    <marker id=\"Arrow1Send\" inkscape:stockid=\"Arrow1Send\" orient=\"auto\" refX=\"0\" refY=\"0\" style=\"overflow:visible\">\n",
        "      <path d=\"M 0,0 5,-5 -12.5,0 5,5 0,0 z\" id=\"path5848\" inkscape:connector-curvature=\"0\" style=\"fill-rule:evenodd;stroke:#000000;stroke-width:1pt\" transform=\"matrix(-0.2,0,0,-0.2,-1.2,0)\"/>\n",
        "    </marker>\n",
        "    <marker id=\"Arrow1Lend\" inkscape:stockid=\"Arrow1Lend\" orient=\"auto\" refX=\"0\" refY=\"0\" style=\"overflow:visible\">\n",
        "      <path d=\"M 0,0 5,-5 -12.5,0 5,5 0,0 z\" id=\"path5836\" inkscape:connector-curvature=\"0\" style=\"fill-rule:evenodd;stroke:#000000;stroke-width:1pt\" transform=\"matrix(-0.8,0,0,-0.8,-10,0)\"/>\n",
        "    </marker>\n",
        "    <linearGradient id=\"linearGradient5621\" osb:paint=\"solid\">\n",
        "      <stop id=\"stop5623\" offset=\"0\" style=\"stop-color:#000000;stop-opacity:1;\"/>\n",
        "    </linearGradient>\n",
        "    <marker id=\"DiamondL\" inkscape:stockid=\"DiamondL\" orient=\"auto\" refX=\"0\" refY=\"0\" style=\"overflow:visible\">\n",
        "      <path d=\"M 0,-7.0710768 -7.0710894,0 0,7.0710589 7.0710462,0 0,-7.0710768 z\" id=\"path3854\" inkscape:connector-curvature=\"0\" style=\"fill-rule:evenodd;stroke:#000000;stroke-width:1pt\" transform=\"scale(0.8,0.8)\"/>\n",
        "    </marker>\n",
        "    <marker id=\"Arrow1Mend\" inkscape:stockid=\"Arrow1Mend\" orient=\"auto\" refX=\"0\" refY=\"0\" style=\"overflow:visible\">\n",
        "      <path d=\"M 0,0 5,-5 -12.5,0 5,5 0,0 z\" id=\"path3784\" inkscape:connector-curvature=\"0\" style=\"fill-rule:evenodd;stroke:#000000;stroke-width:1pt\" transform=\"matrix(-0.4,0,0,-0.4,-4,0)\"/>\n",
        "    </marker>\n",
        "  </defs>\n",
        "  <sodipodi:namedview bordercolor=\"#666666\" borderopacity=\"1.0\" fit-margin-bottom=\"0\" fit-margin-left=\"0\" fit-margin-right=\"0\" fit-margin-top=\"0\" id=\"base\" inkscape:current-layer=\"layer1\" inkscape:cx=\"120.7281\" inkscape:cy=\"422.28167\" inkscape:document-units=\"px\" inkscape:pageopacity=\"0.0\" inkscape:pageshadow=\"2\" inkscape:window-height=\"1138\" inkscape:window-maximized=\"1\" inkscape:window-width=\"1920\" inkscape:window-x=\"-8\" inkscape:window-y=\"-8\" inkscape:zoom=\"0.87222396\" pagecolor=\"#ffffff\" showgrid=\"false\"/>\n",
        "  <metadata id=\"metadata7\">\n",
        "    <rdf:RDF>\n",
        "      <cc:Work rdf:about=\"\">\n",
        "        <dc:format>image/svg+xml</dc:format>\n",
        "        <dc:type rdf:resource=\"http://purl.org/dc/dcmitype/StillImage\"/>\n",
        "        <dc:title/>\n",
        "      </cc:Work>\n",
        "    </rdf:RDF>\n",
        "  </metadata>\n",
        "  <g id=\"layer1\" inkscape:groupmode=\"layer\" inkscape:label=\"Calque 1\" transform=\"translate(-34.9375,-8.4173797)\">\n",
        "    <rect height=\"172.69669\" id=\"rect2985\" style=\"fill:#999999;fill-opacity:1;stroke:#000000;stroke-width:2.33871937;stroke-opacity:1\" width=\"272.67899\" x=\"193.63213\" y=\"76.5746\"/>\n",
        "    <rect height=\"176.33241\" id=\"rect2987\" style=\"fill:#f2f2f2;fill-opacity:1;stroke:#000000;stroke-width:2.33871937\" width=\"338.12195\" x=\"36.112583\" y=\"251.61028\"/>\n",
        "    <path d=\"m 330.06228,169.92064 0,51.9118\" id=\"path3769\" inkscape:connector-curvature=\"0\" style=\"fill:none;stroke:#000000;stroke-width:2.69481921;stroke-linecap:butt;stroke-linejoin:miter;stroke-miterlimit:4;stroke-opacity:1;stroke-dasharray:none;marker-end:url(#Arrow1Mend)\"/>\n",
        "    <path d=\"m 227.72708,302.12265 c 0,1.76999 -1.43486,3.20484 -3.20485,3.20484 -1.76998,0 -3.20484,-1.43485 -3.20484,-3.20484 0,-1.76999 1.43486,-3.20484 3.20484,-3.20484 1.76999,0 3.20485,1.43485 3.20485,3.20484 z\" id=\"path3803\" sodipodi:cx=\"224.52223\" sodipodi:cy=\"302.12265\" sodipodi:rx=\"3.204843\" sodipodi:ry=\"3.204843\" sodipodi:type=\"arc\" style=\"fill:#000000;fill-opacity:1;fill-rule:nonzero;stroke:none\" transform=\"matrix(0.85252143,0,0,0.85252143,138.56162,-94.643086)\"/>\n",
        "    <text id=\"text3813\" sodipodi:linespacing=\"125%\" style=\"font-size:30.09703064px;font-style:normal;font-variant:normal;font-weight:normal;font-stretch:normal;line-height:125%;letter-spacing:0px;word-spacing:0px;fill:#000000;fill-opacity:1;stroke:none;font-family:Arial;-inkscape-font-specification:Arial\" x=\"99.757271\" xml:space=\"preserve\" y=\"132.62614\"><tspan id=\"tspan3815\" sodipodi:role=\"line\" style=\"font-style:normal;font-variant:normal;font-weight:normal;font-stretch:normal;font-family:Garamond;-inkscape-font-specification:Garamond\" x=\"99.757271\" y=\"132.62614\">center of gravity</tspan></text>\n",
        "    <g id=\"g3817\" transform=\"matrix(-0.61878833,0,0,0.33140755,525.99032,136.55253)\">\n",
        "      <g id=\"g3819\" transform=\"translate(-0.54962603,1.9236911)\">\n",
        "        <path d=\"m 254.21875,290.84375 0,51.40625 1.59375,0 0,-51.40625 -1.59375,0 z\" id=\"path3821\" inkscape:connector-curvature=\"0\" style=\"font-size:medium;font-style:normal;font-variant:normal;font-weight:normal;font-stretch:normal;text-indent:0;text-align:start;text-decoration:none;line-height:normal;letter-spacing:normal;word-spacing:normal;text-transform:none;direction:ltr;block-progression:tb;writing-mode:lr-tb;text-anchor:start;baseline-shift:baseline;color:#000000;fill:#ff0000;fill-opacity:1;fill-rule:nonzero;stroke:none;stroke-width:1.60000002;marker:none;visibility:visible;display:inline;overflow:visible;enable-background:accumulate;font-family:Sans;-inkscape-font-specification:Sans\"/>\n",
        "        <path d=\"m 255.02648,297.2553 3.2,3.2 -3.2,-11.2 -3.2,11.2 3.2,-3.2 z\" id=\"path3823\" inkscape:connector-curvature=\"0\" style=\"fill:#ff0000;fill-rule:evenodd;stroke:#ff0000;stroke-width:0.64000001pt\"/>\n",
        "      </g>\n",
        "    </g>\n",
        "    <g id=\"g3825\" transform=\"matrix(-0.61878833,0,0,0.33140755,426.57227,136.55253)\">\n",
        "      <g id=\"g3827\" transform=\"translate(-0.54962603,1.9236911)\">\n",
        "        <path d=\"m 254.21875,290.84375 0,51.40625 1.59375,0 0,-51.40625 -1.59375,0 z\" id=\"path3829\" inkscape:connector-curvature=\"0\" style=\"font-size:medium;font-style:normal;font-variant:normal;font-weight:normal;font-stretch:normal;text-indent:0;text-align:start;text-decoration:none;line-height:normal;letter-spacing:normal;word-spacing:normal;text-transform:none;direction:ltr;block-progression:tb;writing-mode:lr-tb;text-anchor:start;baseline-shift:baseline;color:#000000;fill:#ff0000;fill-opacity:1;fill-rule:nonzero;stroke:none;stroke-width:1.60000002;marker:none;visibility:visible;display:inline;overflow:visible;enable-background:accumulate;font-family:Sans;-inkscape-font-specification:Sans\"/>\n",
        "        <path d=\"m 255.02648,297.2553 3.2,3.2 -3.2,-11.2 -3.2,11.2 3.2,-3.2 z\" id=\"path3831\" inkscape:connector-curvature=\"0\" style=\"fill:#ff0000;fill-rule:evenodd;stroke:#ff0000;stroke-width:0.64000001pt\"/>\n",
        "      </g>\n",
        "    </g>\n",
        "    <g id=\"g3833\" transform=\"matrix(-0.61878833,0,0,0.33140755,387.66957,136.55253)\">\n",
        "      <g id=\"g3835\" transform=\"translate(-0.54962603,1.9236911)\">\n",
        "        <path d=\"m 254.21875,290.84375 0,51.40625 1.59375,0 0,-51.40625 -1.59375,0 z\" id=\"path3837\" inkscape:connector-curvature=\"0\" style=\"font-size:medium;font-style:normal;font-variant:normal;font-weight:normal;font-stretch:normal;text-indent:0;text-align:start;text-decoration:none;line-height:normal;letter-spacing:normal;word-spacing:normal;text-transform:none;direction:ltr;block-progression:tb;writing-mode:lr-tb;text-anchor:start;baseline-shift:baseline;color:#000000;fill:#ff0000;fill-opacity:1;fill-rule:nonzero;stroke:none;stroke-width:1.60000002;marker:none;visibility:visible;display:inline;overflow:visible;enable-background:accumulate;font-family:Sans;-inkscape-font-specification:Sans\"/>\n",
        "        <path d=\"m 255.02648,297.2553 3.2,3.2 -3.2,-11.2 -3.2,11.2 3.2,-3.2 z\" id=\"path3839\" inkscape:connector-curvature=\"0\" style=\"fill:#ff0000;fill-rule:evenodd;stroke:#ff0000;stroke-width:0.64000001pt\"/>\n",
        "      </g>\n",
        "    </g>\n",
        "    <g id=\"g3841\" transform=\"matrix(-0.61878833,0,0,0.33140755,517.34527,136.55253)\">\n",
        "      <g id=\"g3843\" transform=\"translate(-0.54962603,1.9236911)\">\n",
        "        <path d=\"m 254.21875,290.84375 0,51.40625 1.59375,0 0,-51.40625 -1.59375,0 z\" id=\"path3845\" inkscape:connector-curvature=\"0\" style=\"font-size:medium;font-style:normal;font-variant:normal;font-weight:normal;font-stretch:normal;text-indent:0;text-align:start;text-decoration:none;line-height:normal;letter-spacing:normal;word-spacing:normal;text-transform:none;direction:ltr;block-progression:tb;writing-mode:lr-tb;text-anchor:start;baseline-shift:baseline;color:#000000;fill:#ff0000;fill-opacity:1;fill-rule:nonzero;stroke:none;stroke-width:1.60000002;marker:none;visibility:visible;display:inline;overflow:visible;enable-background:accumulate;font-family:Sans;-inkscape-font-specification:Sans\"/>\n",
        "        <path d=\"m 255.02648,297.2553 3.2,3.2 -3.2,-11.2 -3.2,11.2 3.2,-3.2 z\" id=\"path3847\" inkscape:connector-curvature=\"0\" style=\"fill:#ff0000;fill-rule:evenodd;stroke:#ff0000;stroke-width:0.64000001pt\"/>\n",
        "      </g>\n",
        "    </g>\n",
        "    <g id=\"g3849\" transform=\"matrix(-0.61878833,0,0,0.33140755,461.15246,136.55253)\">\n",
        "      <g id=\"g3851\" transform=\"translate(-0.54962603,1.9236911)\">\n",
        "        <path d=\"m 254.21875,290.84375 0,51.40625 1.59375,0 0,-51.40625 -1.59375,0 z\" id=\"path3853\" inkscape:connector-curvature=\"0\" style=\"font-size:medium;font-style:normal;font-variant:normal;font-weight:normal;font-stretch:normal;text-indent:0;text-align:start;text-decoration:none;line-height:normal;letter-spacing:normal;word-spacing:normal;text-transform:none;direction:ltr;block-progression:tb;writing-mode:lr-tb;text-anchor:start;baseline-shift:baseline;color:#000000;fill:#ff0000;fill-opacity:1;fill-rule:nonzero;stroke:none;stroke-width:1.60000002;marker:none;visibility:visible;display:inline;overflow:visible;enable-background:accumulate;font-family:Sans;-inkscape-font-specification:Sans\"/>\n",
        "        <path d=\"m 255.02648,297.2553 3.2,3.2 -3.2,-11.2 -3.2,11.2 3.2,-3.2 z\" id=\"path3855\" inkscape:connector-curvature=\"0\" style=\"fill:#ff0000;fill-rule:evenodd;stroke:#ff0000;stroke-width:0.64000001pt\"/>\n",
        "      </g>\n",
        "    </g>\n",
        "    <g id=\"g3857\" transform=\"matrix(-0.61878833,0,0,0.33140755,361.73441,136.55253)\">\n",
        "      <g id=\"g3859\" transform=\"translate(-0.54962603,1.9236911)\">\n",
        "        <path d=\"m 254.21875,290.84375 0,51.40625 1.59375,0 0,-51.40625 -1.59375,0 z\" id=\"path3861\" inkscape:connector-curvature=\"0\" style=\"font-size:medium;font-style:normal;font-variant:normal;font-weight:normal;font-stretch:normal;text-indent:0;text-align:start;text-decoration:none;line-height:normal;letter-spacing:normal;word-spacing:normal;text-transform:none;direction:ltr;block-progression:tb;writing-mode:lr-tb;text-anchor:start;baseline-shift:baseline;color:#000000;fill:#ff0000;fill-opacity:1;fill-rule:nonzero;stroke:none;stroke-width:1.60000002;marker:none;visibility:visible;display:inline;overflow:visible;enable-background:accumulate;font-family:Sans;-inkscape-font-specification:Sans\"/>\n",
        "        <path d=\"m 255.02648,297.2553 3.2,3.2 -3.2,-11.2 -3.2,11.2 3.2,-3.2 z\" id=\"path3863\" inkscape:connector-curvature=\"0\" style=\"fill:#ff0000;fill-rule:evenodd;stroke:#ff0000;stroke-width:0.64000001pt\"/>\n",
        "      </g>\n",
        "    </g>\n",
        "    <g id=\"g3865\" transform=\"matrix(-0.61878833,0,0,0.33140755,482.76508,136.55253)\">\n",
        "      <g id=\"g3867\" transform=\"translate(-0.54962603,1.9236911)\">\n",
        "        <path d=\"m 254.21875,290.84375 0,51.40625 1.59375,0 0,-51.40625 -1.59375,0 z\" id=\"path3869\" inkscape:connector-curvature=\"0\" style=\"font-size:medium;font-style:normal;font-variant:normal;font-weight:normal;font-stretch:normal;text-indent:0;text-align:start;text-decoration:none;line-height:normal;letter-spacing:normal;word-spacing:normal;text-transform:none;direction:ltr;block-progression:tb;writing-mode:lr-tb;text-anchor:start;baseline-shift:baseline;color:#000000;fill:#ff0000;fill-opacity:1;fill-rule:nonzero;stroke:none;stroke-width:1.60000002;marker:none;visibility:visible;display:inline;overflow:visible;enable-background:accumulate;font-family:Sans;-inkscape-font-specification:Sans\"/>\n",
        "        <path d=\"m 255.02648,297.2553 3.2,3.2 -3.2,-11.2 -3.2,11.2 3.2,-3.2 z\" id=\"path3871\" inkscape:connector-curvature=\"0\" style=\"fill:#ff0000;fill-rule:evenodd;stroke:#ff0000;stroke-width:0.64000001pt\"/>\n",
        "      </g>\n",
        "    </g>\n",
        "    <g id=\"g3873\" transform=\"matrix(-0.61878833,0,0,0.33140755,439.53985,136.55253)\">\n",
        "      <g id=\"g3875\" transform=\"translate(-0.54962603,1.9236911)\">\n",
        "        <path d=\"m 254.21875,290.84375 0,51.40625 1.59375,0 0,-51.40625 -1.59375,0 z\" id=\"path3877\" inkscape:connector-curvature=\"0\" style=\"font-size:medium;font-style:normal;font-variant:normal;font-weight:normal;font-stretch:normal;text-indent:0;text-align:start;text-decoration:none;line-height:normal;letter-spacing:normal;word-spacing:normal;text-transform:none;direction:ltr;block-progression:tb;writing-mode:lr-tb;text-anchor:start;baseline-shift:baseline;color:#000000;fill:#ff0000;fill-opacity:1;fill-rule:nonzero;stroke:none;stroke-width:1.60000002;marker:none;visibility:visible;display:inline;overflow:visible;enable-background:accumulate;font-family:Sans;-inkscape-font-specification:Sans\"/>\n",
        "        <path d=\"m 255.02648,297.2553 3.2,3.2 -3.2,-11.2 -3.2,11.2 3.2,-3.2 z\" id=\"path3879\" inkscape:connector-curvature=\"0\" style=\"fill:#ff0000;fill-rule:evenodd;stroke:#ff0000;stroke-width:0.64000001pt\"/>\n",
        "      </g>\n",
        "    </g>\n",
        "    <g id=\"g3881\" transform=\"matrix(-0.61878833,0,0,0.33140755,409.28219,136.55253)\">\n",
        "      <g id=\"g3883\" transform=\"translate(-0.54962603,1.9236911)\">\n",
        "        <path d=\"m 254.21875,290.84375 0,51.40625 1.59375,0 0,-51.40625 -1.59375,0 z\" id=\"path3885\" inkscape:connector-curvature=\"0\" style=\"font-size:medium;font-style:normal;font-variant:normal;font-weight:normal;font-stretch:normal;text-indent:0;text-align:start;text-decoration:none;line-height:normal;letter-spacing:normal;word-spacing:normal;text-transform:none;direction:ltr;block-progression:tb;writing-mode:lr-tb;text-anchor:start;baseline-shift:baseline;color:#000000;fill:#ff0000;fill-opacity:1;fill-rule:nonzero;stroke:none;stroke-width:1.60000002;marker:none;visibility:visible;display:inline;overflow:visible;enable-background:accumulate;font-family:Sans;-inkscape-font-specification:Sans\"/>\n",
        "        <path d=\"m 255.02648,297.2553 3.2,3.2 -3.2,-11.2 -3.2,11.2 3.2,-3.2 z\" id=\"path3887\" inkscape:connector-curvature=\"0\" style=\"fill:#ff0000;fill-rule:evenodd;stroke:#ff0000;stroke-width:0.64000001pt\"/>\n",
        "      </g>\n",
        "    </g>\n",
        "    <g id=\"g3889\" transform=\"matrix(-0.61878833,0,0,0.33140755,530.31283,136.55253)\">\n",
        "      <g id=\"g3891\" transform=\"translate(-0.54962603,1.9236911)\">\n",
        "        <path d=\"m 254.21875,290.84375 0,51.40625 1.59375,0 0,-51.40625 -1.59375,0 z\" id=\"path3893\" inkscape:connector-curvature=\"0\" style=\"font-size:medium;font-style:normal;font-variant:normal;font-weight:normal;font-stretch:normal;text-indent:0;text-align:start;text-decoration:none;line-height:normal;letter-spacing:normal;word-spacing:normal;text-transform:none;direction:ltr;block-progression:tb;writing-mode:lr-tb;text-anchor:start;baseline-shift:baseline;color:#000000;fill:#ff0000;fill-opacity:1;fill-rule:nonzero;stroke:none;stroke-width:1.60000002;marker:none;visibility:visible;display:inline;overflow:visible;enable-background:accumulate;font-family:Sans;-inkscape-font-specification:Sans\"/>\n",
        "        <path d=\"m 255.02648,297.2553 3.2,3.2 -3.2,-11.2 -3.2,11.2 3.2,-3.2 z\" id=\"path3895\" inkscape:connector-curvature=\"0\" style=\"fill:#ff0000;fill-rule:evenodd;stroke:#ff0000;stroke-width:0.64000001pt\"/>\n",
        "      </g>\n",
        "    </g>\n",
        "    <g id=\"g3897\" transform=\"matrix(-0.61878833,0,0,0.33140755,422.24975,136.55253)\">\n",
        "      <g id=\"g3899\" transform=\"translate(-0.54962603,1.9236911)\">\n",
        "        <path d=\"m 254.21875,290.84375 0,51.40625 1.59375,0 0,-51.40625 -1.59375,0 z\" id=\"path3901\" inkscape:connector-curvature=\"0\" style=\"font-size:medium;font-style:normal;font-variant:normal;font-weight:normal;font-stretch:normal;text-indent:0;text-align:start;text-decoration:none;line-height:normal;letter-spacing:normal;word-spacing:normal;text-transform:none;direction:ltr;block-progression:tb;writing-mode:lr-tb;text-anchor:start;baseline-shift:baseline;color:#000000;fill:#ff0000;fill-opacity:1;fill-rule:nonzero;stroke:none;stroke-width:1.60000002;marker:none;visibility:visible;display:inline;overflow:visible;enable-background:accumulate;font-family:Sans;-inkscape-font-specification:Sans\"/>\n",
        "        <path d=\"m 255.02648,297.2553 3.2,3.2 -3.2,-11.2 -3.2,11.2 3.2,-3.2 z\" id=\"path3903\" inkscape:connector-curvature=\"0\" style=\"fill:#ff0000;fill-rule:evenodd;stroke:#ff0000;stroke-width:0.64000001pt\"/>\n",
        "      </g>\n",
        "    </g>\n",
        "    <g id=\"g3905\" transform=\"matrix(-0.61878833,0,0,0.33140755,374.70201,136.55253)\">\n",
        "      <g id=\"g3907\" transform=\"translate(-0.54962603,1.9236911)\">\n",
        "        <path d=\"m 254.21875,290.84375 0,51.40625 1.59375,0 0,-51.40625 -1.59375,0 z\" id=\"path3909\" inkscape:connector-curvature=\"0\" style=\"font-size:medium;font-style:normal;font-variant:normal;font-weight:normal;font-stretch:normal;text-indent:0;text-align:start;text-decoration:none;line-height:normal;letter-spacing:normal;word-spacing:normal;text-transform:none;direction:ltr;block-progression:tb;writing-mode:lr-tb;text-anchor:start;baseline-shift:baseline;color:#000000;fill:#ff0000;fill-opacity:1;fill-rule:nonzero;stroke:none;stroke-width:1.60000002;marker:none;visibility:visible;display:inline;overflow:visible;enable-background:accumulate;font-family:Sans;-inkscape-font-specification:Sans\"/>\n",
        "        <path d=\"m 255.02648,297.2553 3.2,3.2 -3.2,-11.2 -3.2,11.2 3.2,-3.2 z\" id=\"path3911\" inkscape:connector-curvature=\"0\" style=\"fill:#ff0000;fill-rule:evenodd;stroke:#ff0000;stroke-width:0.64000001pt\"/>\n",
        "      </g>\n",
        "    </g>\n",
        "    <g id=\"g3913\" transform=\"matrix(-0.61878833,0,0,0.33140755,513.02275,136.55253)\">\n",
        "      <g id=\"g3915\" transform=\"translate(-0.54962603,1.9236911)\">\n",
        "        <path d=\"m 254.21875,290.84375 0,51.40625 1.59375,0 0,-51.40625 -1.59375,0 z\" id=\"path3917\" inkscape:connector-curvature=\"0\" style=\"font-size:medium;font-style:normal;font-variant:normal;font-weight:normal;font-stretch:normal;text-indent:0;text-align:start;text-decoration:none;line-height:normal;letter-spacing:normal;word-spacing:normal;text-transform:none;direction:ltr;block-progression:tb;writing-mode:lr-tb;text-anchor:start;baseline-shift:baseline;color:#000000;fill:#ff0000;fill-opacity:1;fill-rule:nonzero;stroke:none;stroke-width:1.60000002;marker:none;visibility:visible;display:inline;overflow:visible;enable-background:accumulate;font-family:Sans;-inkscape-font-specification:Sans\"/>\n",
        "        <path d=\"m 255.02648,297.2553 3.2,3.2 -3.2,-11.2 -3.2,11.2 3.2,-3.2 z\" id=\"path3919\" inkscape:connector-curvature=\"0\" style=\"fill:#ff0000;fill-rule:evenodd;stroke:#ff0000;stroke-width:0.64000001pt\"/>\n",
        "      </g>\n",
        "    </g>\n",
        "    <g id=\"g3921\" transform=\"matrix(-0.61878833,0,0,0.33140755,469.79751,136.55253)\">\n",
        "      <g id=\"g3923\" transform=\"translate(-0.54962603,1.9236911)\">\n",
        "        <path d=\"m 254.21875,290.84375 0,51.40625 1.59375,0 0,-51.40625 -1.59375,0 z\" id=\"path3925\" inkscape:connector-curvature=\"0\" style=\"font-size:medium;font-style:normal;font-variant:normal;font-weight:normal;font-stretch:normal;text-indent:0;text-align:start;text-decoration:none;line-height:normal;letter-spacing:normal;word-spacing:normal;text-transform:none;direction:ltr;block-progression:tb;writing-mode:lr-tb;text-anchor:start;baseline-shift:baseline;color:#000000;fill:#ff0000;fill-opacity:1;fill-rule:nonzero;stroke:none;stroke-width:1.60000002;marker:none;visibility:visible;display:inline;overflow:visible;enable-background:accumulate;font-family:Sans;-inkscape-font-specification:Sans\"/>\n",
        "        <path d=\"m 255.02648,297.2553 3.2,3.2 -3.2,-11.2 -3.2,11.2 3.2,-3.2 z\" id=\"path3927\" inkscape:connector-curvature=\"0\" style=\"fill:#ff0000;fill-rule:evenodd;stroke:#ff0000;stroke-width:0.64000001pt\"/>\n",
        "      </g>\n",
        "    </g>\n",
        "    <g id=\"g3929\" transform=\"matrix(-0.61878833,0,0,0.33140755,357.4119,136.55253)\">\n",
        "      <g id=\"g3931\" transform=\"translate(-0.54962603,1.9236911)\">\n",
        "        <path d=\"m 254.21875,290.84375 0,51.40625 1.59375,0 0,-51.40625 -1.59375,0 z\" id=\"path3933\" inkscape:connector-curvature=\"0\" style=\"font-size:medium;font-style:normal;font-variant:normal;font-weight:normal;font-stretch:normal;text-indent:0;text-align:start;text-decoration:none;line-height:normal;letter-spacing:normal;word-spacing:normal;text-transform:none;direction:ltr;block-progression:tb;writing-mode:lr-tb;text-anchor:start;baseline-shift:baseline;color:#000000;fill:#ff0000;fill-opacity:1;fill-rule:nonzero;stroke:none;stroke-width:1.60000002;marker:none;visibility:visible;display:inline;overflow:visible;enable-background:accumulate;font-family:Sans;-inkscape-font-specification:Sans\"/>\n",
        "        <path d=\"m 255.02648,297.2553 3.2,3.2 -3.2,-11.2 -3.2,11.2 3.2,-3.2 z\" id=\"path3935\" inkscape:connector-curvature=\"0\" style=\"fill:#ff0000;fill-rule:evenodd;stroke:#ff0000;stroke-width:0.64000001pt\"/>\n",
        "      </g>\n",
        "    </g>\n",
        "    <g id=\"g3937\" transform=\"matrix(-0.61878833,0,0,0.33140755,491.41014,136.55253)\">\n",
        "      <g id=\"g3939\" transform=\"translate(-0.54962603,1.9236911)\">\n",
        "        <path d=\"m 254.21875,290.84375 0,51.40625 1.59375,0 0,-51.40625 -1.59375,0 z\" id=\"path3941\" inkscape:connector-curvature=\"0\" style=\"font-size:medium;font-style:normal;font-variant:normal;font-weight:normal;font-stretch:normal;text-indent:0;text-align:start;text-decoration:none;line-height:normal;letter-spacing:normal;word-spacing:normal;text-transform:none;direction:ltr;block-progression:tb;writing-mode:lr-tb;text-anchor:start;baseline-shift:baseline;color:#000000;fill:#ff0000;fill-opacity:1;fill-rule:nonzero;stroke:none;stroke-width:1.60000002;marker:none;visibility:visible;display:inline;overflow:visible;enable-background:accumulate;font-family:Sans;-inkscape-font-specification:Sans\"/>\n",
        "        <path d=\"m 255.02648,297.2553 3.2,3.2 -3.2,-11.2 -3.2,11.2 3.2,-3.2 z\" id=\"path3943\" inkscape:connector-curvature=\"0\" style=\"fill:#ff0000;fill-rule:evenodd;stroke:#ff0000;stroke-width:0.64000001pt\"/>\n",
        "      </g>\n",
        "    </g>\n",
        "    <g id=\"g3945\" transform=\"matrix(-0.61878833,0,0,0.33140755,452.50741,136.55253)\">\n",
        "      <g id=\"g3947\" transform=\"translate(-0.54962603,1.9236911)\">\n",
        "        <path d=\"m 254.21875,290.84375 0,51.40625 1.59375,0 0,-51.40625 -1.59375,0 z\" id=\"path3949\" inkscape:connector-curvature=\"0\" style=\"font-size:medium;font-style:normal;font-variant:normal;font-weight:normal;font-stretch:normal;text-indent:0;text-align:start;text-decoration:none;line-height:normal;letter-spacing:normal;word-spacing:normal;text-transform:none;direction:ltr;block-progression:tb;writing-mode:lr-tb;text-anchor:start;baseline-shift:baseline;color:#000000;fill:#ff0000;fill-opacity:1;fill-rule:nonzero;stroke:none;stroke-width:1.60000002;marker:none;visibility:visible;display:inline;overflow:visible;enable-background:accumulate;font-family:Sans;-inkscape-font-specification:Sans\"/>\n",
        "        <path d=\"m 255.02648,297.2553 3.2,3.2 -3.2,-11.2 -3.2,11.2 3.2,-3.2 z\" id=\"path3951\" inkscape:connector-curvature=\"0\" style=\"fill:#ff0000;fill-rule:evenodd;stroke:#ff0000;stroke-width:0.64000001pt\"/>\n",
        "      </g>\n",
        "    </g>\n",
        "    <g id=\"g3953\" transform=\"matrix(-0.61878833,0,0,0.33140755,404.95965,136.55253)\">\n",
        "      <g id=\"g3955\" transform=\"translate(-0.54962603,1.9236911)\">\n",
        "        <path d=\"m 254.21875,290.84375 0,51.40625 1.59375,0 0,-51.40625 -1.59375,0 z\" id=\"path3957\" inkscape:connector-curvature=\"0\" style=\"font-size:medium;font-style:normal;font-variant:normal;font-weight:normal;font-stretch:normal;text-indent:0;text-align:start;text-decoration:none;line-height:normal;letter-spacing:normal;word-spacing:normal;text-transform:none;direction:ltr;block-progression:tb;writing-mode:lr-tb;text-anchor:start;baseline-shift:baseline;color:#000000;fill:#ff0000;fill-opacity:1;fill-rule:nonzero;stroke:none;stroke-width:1.60000002;marker:none;visibility:visible;display:inline;overflow:visible;enable-background:accumulate;font-family:Sans;-inkscape-font-specification:Sans\"/>\n",
        "        <path d=\"m 255.02648,297.2553 3.2,3.2 -3.2,-11.2 -3.2,11.2 3.2,-3.2 z\" id=\"path3959\" inkscape:connector-curvature=\"0\" style=\"fill:#ff0000;fill-rule:evenodd;stroke:#ff0000;stroke-width:0.64000001pt\"/>\n",
        "      </g>\n",
        "    </g>\n",
        "    <g id=\"g3969\" transform=\"matrix(-0.61878833,0,0,0.33140755,417.92722,136.55253)\">\n",
        "      <g id=\"g3971\" transform=\"translate(-0.54962603,1.9236911)\">\n",
        "        <path d=\"m 254.21875,290.84375 0,51.40625 1.59375,0 0,-51.40625 -1.59375,0 z\" id=\"path3973\" inkscape:connector-curvature=\"0\" style=\"font-size:medium;font-style:normal;font-variant:normal;font-weight:normal;font-stretch:normal;text-indent:0;text-align:start;text-decoration:none;line-height:normal;letter-spacing:normal;word-spacing:normal;text-transform:none;direction:ltr;block-progression:tb;writing-mode:lr-tb;text-anchor:start;baseline-shift:baseline;color:#000000;fill:#ff0000;fill-opacity:1;fill-rule:nonzero;stroke:none;stroke-width:1.60000002;marker:none;visibility:visible;display:inline;overflow:visible;enable-background:accumulate;font-family:Sans;-inkscape-font-specification:Sans\"/>\n",
        "        <path d=\"m 255.02648,297.2553 3.2,3.2 -3.2,-11.2 -3.2,11.2 3.2,-3.2 z\" id=\"path3975\" inkscape:connector-curvature=\"0\" style=\"fill:#ff0000;fill-rule:evenodd;stroke:#ff0000;stroke-width:0.64000001pt\"/>\n",
        "      </g>\n",
        "    </g>\n",
        "    <g id=\"g3977\" transform=\"matrix(-0.61878833,0,0,0.33140755,379.02451,136.55253)\">\n",
        "      <g id=\"g3979\" transform=\"translate(-0.54962603,1.9236911)\">\n",
        "        <path d=\"m 254.21875,290.84375 0,51.40625 1.59375,0 0,-51.40625 -1.59375,0 z\" id=\"path3981\" inkscape:connector-curvature=\"0\" style=\"font-size:medium;font-style:normal;font-variant:normal;font-weight:normal;font-stretch:normal;text-indent:0;text-align:start;text-decoration:none;line-height:normal;letter-spacing:normal;word-spacing:normal;text-transform:none;direction:ltr;block-progression:tb;writing-mode:lr-tb;text-anchor:start;baseline-shift:baseline;color:#000000;fill:#ff0000;fill-opacity:1;fill-rule:nonzero;stroke:none;stroke-width:1.60000002;marker:none;visibility:visible;display:inline;overflow:visible;enable-background:accumulate;font-family:Sans;-inkscape-font-specification:Sans\"/>\n",
        "        <path d=\"m 255.02648,297.2553 3.2,3.2 -3.2,-11.2 -3.2,11.2 3.2,-3.2 z\" id=\"path3983\" inkscape:connector-curvature=\"0\" style=\"fill:#ff0000;fill-rule:evenodd;stroke:#ff0000;stroke-width:0.64000001pt\"/>\n",
        "      </g>\n",
        "    </g>\n",
        "    <g id=\"g3985\" transform=\"matrix(-0.61878833,0,0,0.33140755,504.3777,136.55253)\">\n",
        "      <g id=\"g3987\" transform=\"translate(-0.54962603,1.9236911)\">\n",
        "        <path d=\"m 254.21875,290.84375 0,51.40625 1.59375,0 0,-51.40625 -1.59375,0 z\" id=\"path3989\" inkscape:connector-curvature=\"0\" style=\"font-size:medium;font-style:normal;font-variant:normal;font-weight:normal;font-stretch:normal;text-indent:0;text-align:start;text-decoration:none;line-height:normal;letter-spacing:normal;word-spacing:normal;text-transform:none;direction:ltr;block-progression:tb;writing-mode:lr-tb;text-anchor:start;baseline-shift:baseline;color:#000000;fill:#ff0000;fill-opacity:1;fill-rule:nonzero;stroke:none;stroke-width:1.60000002;marker:none;visibility:visible;display:inline;overflow:visible;enable-background:accumulate;font-family:Sans;-inkscape-font-specification:Sans\"/>\n",
        "        <path d=\"m 255.02648,297.2553 3.2,3.2 -3.2,-11.2 -3.2,11.2 3.2,-3.2 z\" id=\"path3991\" inkscape:connector-curvature=\"0\" style=\"fill:#ff0000;fill-rule:evenodd;stroke:#ff0000;stroke-width:0.64000001pt\"/>\n",
        "      </g>\n",
        "    </g>\n",
        "    <g id=\"g3993\" transform=\"matrix(-0.61878833,0,0,0.33140755,465.475,136.55253)\">\n",
        "      <g id=\"g3995\" transform=\"translate(-0.54962603,1.9236911)\">\n",
        "        <path d=\"m 254.21875,290.84375 0,51.40625 1.59375,0 0,-51.40625 -1.59375,0 z\" id=\"path3997\" inkscape:connector-curvature=\"0\" style=\"font-size:medium;font-style:normal;font-variant:normal;font-weight:normal;font-stretch:normal;text-indent:0;text-align:start;text-decoration:none;line-height:normal;letter-spacing:normal;word-spacing:normal;text-transform:none;direction:ltr;block-progression:tb;writing-mode:lr-tb;text-anchor:start;baseline-shift:baseline;color:#000000;fill:#ff0000;fill-opacity:1;fill-rule:nonzero;stroke:none;stroke-width:1.60000002;marker:none;visibility:visible;display:inline;overflow:visible;enable-background:accumulate;font-family:Sans;-inkscape-font-specification:Sans\"/>\n",
        "        <path d=\"m 255.02648,297.2553 3.2,3.2 -3.2,-11.2 -3.2,11.2 3.2,-3.2 z\" id=\"path3999\" inkscape:connector-curvature=\"0\" style=\"fill:#ff0000;fill-rule:evenodd;stroke:#ff0000;stroke-width:0.64000001pt\"/>\n",
        "      </g>\n",
        "    </g>\n",
        "    <g id=\"g4001\" transform=\"matrix(-0.61878833,0,0,0.33140755,366.05695,136.55253)\">\n",
        "      <g id=\"g4003\" transform=\"translate(-0.54962603,1.9236911)\">\n",
        "        <path d=\"m 254.21875,290.84375 0,51.40625 1.59375,0 0,-51.40625 -1.59375,0 z\" id=\"path4005\" inkscape:connector-curvature=\"0\" style=\"font-size:medium;font-style:normal;font-variant:normal;font-weight:normal;font-stretch:normal;text-indent:0;text-align:start;text-decoration:none;line-height:normal;letter-spacing:normal;word-spacing:normal;text-transform:none;direction:ltr;block-progression:tb;writing-mode:lr-tb;text-anchor:start;baseline-shift:baseline;color:#000000;fill:#ff0000;fill-opacity:1;fill-rule:nonzero;stroke:none;stroke-width:1.60000002;marker:none;visibility:visible;display:inline;overflow:visible;enable-background:accumulate;font-family:Sans;-inkscape-font-specification:Sans\"/>\n",
        "        <path d=\"m 255.02648,297.2553 3.2,3.2 -3.2,-11.2 -3.2,11.2 3.2,-3.2 z\" id=\"path4007\" inkscape:connector-curvature=\"0\" style=\"fill:#ff0000;fill-rule:evenodd;stroke:#ff0000;stroke-width:0.64000001pt\"/>\n",
        "      </g>\n",
        "    </g>\n",
        "    <g id=\"g4009\" transform=\"matrix(-0.61878833,0,0,0.33140755,487.08759,136.55253)\">\n",
        "      <g id=\"g4011\" transform=\"translate(-0.54962603,1.9236911)\">\n",
        "        <path d=\"m 254.21875,290.84375 0,51.40625 1.59375,0 0,-51.40625 -1.59375,0 z\" id=\"path4013\" inkscape:connector-curvature=\"0\" style=\"font-size:medium;font-style:normal;font-variant:normal;font-weight:normal;font-stretch:normal;text-indent:0;text-align:start;text-decoration:none;line-height:normal;letter-spacing:normal;word-spacing:normal;text-transform:none;direction:ltr;block-progression:tb;writing-mode:lr-tb;text-anchor:start;baseline-shift:baseline;color:#000000;fill:#ff0000;fill-opacity:1;fill-rule:nonzero;stroke:none;stroke-width:1.60000002;marker:none;visibility:visible;display:inline;overflow:visible;enable-background:accumulate;font-family:Sans;-inkscape-font-specification:Sans\"/>\n",
        "        <path d=\"m 255.02648,297.2553 3.2,3.2 -3.2,-11.2 -3.2,11.2 3.2,-3.2 z\" id=\"path4015\" inkscape:connector-curvature=\"0\" style=\"fill:#ff0000;fill-rule:evenodd;stroke:#ff0000;stroke-width:0.64000001pt\"/>\n",
        "      </g>\n",
        "    </g>\n",
        "    <g id=\"g4017\" transform=\"matrix(-0.61878833,0,0,0.33140755,448.1849,136.55253)\">\n",
        "      <g id=\"g4019\" transform=\"translate(-0.54962603,1.9236911)\">\n",
        "        <path d=\"m 254.21875,290.84375 0,51.40625 1.59375,0 0,-51.40625 -1.59375,0 z\" id=\"path4021\" inkscape:connector-curvature=\"0\" style=\"font-size:medium;font-style:normal;font-variant:normal;font-weight:normal;font-stretch:normal;text-indent:0;text-align:start;text-decoration:none;line-height:normal;letter-spacing:normal;word-spacing:normal;text-transform:none;direction:ltr;block-progression:tb;writing-mode:lr-tb;text-anchor:start;baseline-shift:baseline;color:#000000;fill:#ff0000;fill-opacity:1;fill-rule:nonzero;stroke:none;stroke-width:1.60000002;marker:none;visibility:visible;display:inline;overflow:visible;enable-background:accumulate;font-family:Sans;-inkscape-font-specification:Sans\"/>\n",
        "        <path d=\"m 255.02648,297.2553 3.2,3.2 -3.2,-11.2 -3.2,11.2 3.2,-3.2 z\" id=\"path4023\" inkscape:connector-curvature=\"0\" style=\"fill:#ff0000;fill-rule:evenodd;stroke:#ff0000;stroke-width:0.64000001pt\"/>\n",
        "      </g>\n",
        "    </g>\n",
        "    <g id=\"g4025\" transform=\"matrix(-0.61878833,0,0,0.33140755,396.3146,136.55253)\">\n",
        "      <g id=\"g4027\" transform=\"translate(-0.54962603,1.9236911)\">\n",
        "        <path d=\"m 254.21875,290.84375 0,51.40625 1.59375,0 0,-51.40625 -1.59375,0 z\" id=\"path4029\" inkscape:connector-curvature=\"0\" style=\"font-size:medium;font-style:normal;font-variant:normal;font-weight:normal;font-stretch:normal;text-indent:0;text-align:start;text-decoration:none;line-height:normal;letter-spacing:normal;word-spacing:normal;text-transform:none;direction:ltr;block-progression:tb;writing-mode:lr-tb;text-anchor:start;baseline-shift:baseline;color:#000000;fill:#ff0000;fill-opacity:1;fill-rule:nonzero;stroke:none;stroke-width:1.60000002;marker:none;visibility:visible;display:inline;overflow:visible;enable-background:accumulate;font-family:Sans;-inkscape-font-specification:Sans\"/>\n",
        "        <path d=\"m 255.02648,297.2553 3.2,3.2 -3.2,-11.2 -3.2,11.2 3.2,-3.2 z\" id=\"path4031\" inkscape:connector-curvature=\"0\" style=\"fill:#ff0000;fill-rule:evenodd;stroke:#ff0000;stroke-width:0.64000001pt\"/>\n",
        "      </g>\n",
        "    </g>\n",
        "    <g id=\"g4041\" transform=\"matrix(-0.61878833,0,0,0.33140755,430.89479,136.55253)\">\n",
        "      <g id=\"g4043\" transform=\"translate(-0.54962603,1.9236911)\">\n",
        "        <path d=\"m 254.21875,290.84375 0,51.40625 1.59375,0 0,-51.40625 -1.59375,0 z\" id=\"path4045\" inkscape:connector-curvature=\"0\" style=\"font-size:medium;font-style:normal;font-variant:normal;font-weight:normal;font-stretch:normal;text-indent:0;text-align:start;text-decoration:none;line-height:normal;letter-spacing:normal;word-spacing:normal;text-transform:none;direction:ltr;block-progression:tb;writing-mode:lr-tb;text-anchor:start;baseline-shift:baseline;color:#000000;fill:#ff0000;fill-opacity:1;fill-rule:nonzero;stroke:none;stroke-width:1.60000002;marker:none;visibility:visible;display:inline;overflow:visible;enable-background:accumulate;font-family:Sans;-inkscape-font-specification:Sans\"/>\n",
        "        <path d=\"m 255.02648,297.2553 3.2,3.2 -3.2,-11.2 -3.2,11.2 3.2,-3.2 z\" id=\"path4047\" inkscape:connector-curvature=\"0\" style=\"fill:#ff0000;fill-rule:evenodd;stroke:#ff0000;stroke-width:0.64000001pt\"/>\n",
        "      </g>\n",
        "    </g>\n",
        "    <g id=\"g4049\" transform=\"matrix(-0.61878833,0,0,0.33140755,383.34703,136.55253)\">\n",
        "      <g id=\"g4051\" transform=\"translate(-0.54962603,1.9236911)\">\n",
        "        <path d=\"m 254.21875,290.84375 0,51.40625 1.59375,0 0,-51.40625 -1.59375,0 z\" id=\"path4053\" inkscape:connector-curvature=\"0\" style=\"font-size:medium;font-style:normal;font-variant:normal;font-weight:normal;font-stretch:normal;text-indent:0;text-align:start;text-decoration:none;line-height:normal;letter-spacing:normal;word-spacing:normal;text-transform:none;direction:ltr;block-progression:tb;writing-mode:lr-tb;text-anchor:start;baseline-shift:baseline;color:#000000;fill:#ff0000;fill-opacity:1;fill-rule:nonzero;stroke:none;stroke-width:1.60000002;marker:none;visibility:visible;display:inline;overflow:visible;enable-background:accumulate;font-family:Sans;-inkscape-font-specification:Sans\"/>\n",
        "        <path d=\"m 255.02648,297.2553 3.2,3.2 -3.2,-11.2 -3.2,11.2 3.2,-3.2 z\" id=\"path4055\" inkscape:connector-curvature=\"0\" style=\"fill:#ff0000;fill-rule:evenodd;stroke:#ff0000;stroke-width:0.64000001pt\"/>\n",
        "      </g>\n",
        "    </g>\n",
        "    <g id=\"g4057\" transform=\"matrix(-0.61878833,0,0,0.33140755,508.70022,136.55253)\">\n",
        "      <g id=\"g4059\" transform=\"translate(-0.54962603,1.9236911)\">\n",
        "        <path d=\"m 254.21875,290.84375 0,51.40625 1.59375,0 0,-51.40625 -1.59375,0 z\" id=\"path4061\" inkscape:connector-curvature=\"0\" style=\"font-size:medium;font-style:normal;font-variant:normal;font-weight:normal;font-stretch:normal;text-indent:0;text-align:start;text-decoration:none;line-height:normal;letter-spacing:normal;word-spacing:normal;text-transform:none;direction:ltr;block-progression:tb;writing-mode:lr-tb;text-anchor:start;baseline-shift:baseline;color:#000000;fill:#ff0000;fill-opacity:1;fill-rule:nonzero;stroke:none;stroke-width:1.60000002;marker:none;visibility:visible;display:inline;overflow:visible;enable-background:accumulate;font-family:Sans;-inkscape-font-specification:Sans\"/>\n",
        "        <path d=\"m 255.02648,297.2553 3.2,3.2 -3.2,-11.2 -3.2,11.2 3.2,-3.2 z\" id=\"path4063\" inkscape:connector-curvature=\"0\" style=\"fill:#ff0000;fill-rule:evenodd;stroke:#ff0000;stroke-width:0.64000001pt\"/>\n",
        "      </g>\n",
        "    </g>\n",
        "    <g id=\"g4065\" transform=\"matrix(-0.61878833,0,0,0.33140755,474.12003,136.55253)\">\n",
        "      <g id=\"g4067\" transform=\"translate(-0.54962603,1.9236911)\">\n",
        "        <path d=\"m 254.21875,290.84375 0,51.40625 1.59375,0 0,-51.40625 -1.59375,0 z\" id=\"path4069\" inkscape:connector-curvature=\"0\" style=\"font-size:medium;font-style:normal;font-variant:normal;font-weight:normal;font-stretch:normal;text-indent:0;text-align:start;text-decoration:none;line-height:normal;letter-spacing:normal;word-spacing:normal;text-transform:none;direction:ltr;block-progression:tb;writing-mode:lr-tb;text-anchor:start;baseline-shift:baseline;color:#000000;fill:#ff0000;fill-opacity:1;fill-rule:nonzero;stroke:none;stroke-width:1.60000002;marker:none;visibility:visible;display:inline;overflow:visible;enable-background:accumulate;font-family:Sans;-inkscape-font-specification:Sans\"/>\n",
        "        <path d=\"m 255.02648,297.2553 3.2,3.2 -3.2,-11.2 -3.2,11.2 3.2,-3.2 z\" id=\"path4071\" inkscape:connector-curvature=\"0\" style=\"fill:#ff0000;fill-rule:evenodd;stroke:#ff0000;stroke-width:0.64000001pt\"/>\n",
        "      </g>\n",
        "    </g>\n",
        "    <g id=\"g4073\" transform=\"matrix(-0.61878833,0,0,0.33140755,353.08938,136.55253)\">\n",
        "      <g id=\"g4075\" transform=\"translate(-0.54962603,1.9236911)\">\n",
        "        <path d=\"m 254.21875,290.84375 0,51.40625 1.59375,0 0,-51.40625 -1.59375,0 z\" id=\"path4077\" inkscape:connector-curvature=\"0\" style=\"font-size:medium;font-style:normal;font-variant:normal;font-weight:normal;font-stretch:normal;text-indent:0;text-align:start;text-decoration:none;line-height:normal;letter-spacing:normal;word-spacing:normal;text-transform:none;direction:ltr;block-progression:tb;writing-mode:lr-tb;text-anchor:start;baseline-shift:baseline;color:#000000;fill:#ff0000;fill-opacity:1;fill-rule:nonzero;stroke:none;stroke-width:1.60000002;marker:none;visibility:visible;display:inline;overflow:visible;enable-background:accumulate;font-family:Sans;-inkscape-font-specification:Sans\"/>\n",
        "        <path d=\"m 255.02648,297.2553 3.2,3.2 -3.2,-11.2 -3.2,11.2 3.2,-3.2 z\" id=\"path4079\" inkscape:connector-curvature=\"0\" style=\"fill:#ff0000;fill-rule:evenodd;stroke:#ff0000;stroke-width:0.64000001pt\"/>\n",
        "      </g>\n",
        "    </g>\n",
        "    <g id=\"g4081\" transform=\"matrix(-0.61878833,0,0,0.33140755,495.73264,136.55253)\">\n",
        "      <g id=\"g4083\" transform=\"translate(-0.54962603,1.9236911)\">\n",
        "        <path d=\"m 254.21875,290.84375 0,51.40625 1.59375,0 0,-51.40625 -1.59375,0 z\" id=\"path4085\" inkscape:connector-curvature=\"0\" style=\"font-size:medium;font-style:normal;font-variant:normal;font-weight:normal;font-stretch:normal;text-indent:0;text-align:start;text-decoration:none;line-height:normal;letter-spacing:normal;word-spacing:normal;text-transform:none;direction:ltr;block-progression:tb;writing-mode:lr-tb;text-anchor:start;baseline-shift:baseline;color:#000000;fill:#ff0000;fill-opacity:1;fill-rule:nonzero;stroke:none;stroke-width:1.60000002;marker:none;visibility:visible;display:inline;overflow:visible;enable-background:accumulate;font-family:Sans;-inkscape-font-specification:Sans\"/>\n",
        "        <path d=\"m 255.02648,297.2553 3.2,3.2 -3.2,-11.2 -3.2,11.2 3.2,-3.2 z\" id=\"path4087\" inkscape:connector-curvature=\"0\" style=\"fill:#ff0000;fill-rule:evenodd;stroke:#ff0000;stroke-width:0.64000001pt\"/>\n",
        "      </g>\n",
        "    </g>\n",
        "    <g id=\"g4089\" transform=\"matrix(-0.61878833,0,0,0.33140755,443.86238,136.55253)\">\n",
        "      <g id=\"g4091\" transform=\"translate(-0.54962603,1.9236911)\">\n",
        "        <path d=\"m 254.21875,290.84375 0,51.40625 1.59375,0 0,-51.40625 -1.59375,0 z\" id=\"path4093\" inkscape:connector-curvature=\"0\" style=\"font-size:medium;font-style:normal;font-variant:normal;font-weight:normal;font-stretch:normal;text-indent:0;text-align:start;text-decoration:none;line-height:normal;letter-spacing:normal;word-spacing:normal;text-transform:none;direction:ltr;block-progression:tb;writing-mode:lr-tb;text-anchor:start;baseline-shift:baseline;color:#000000;fill:#ff0000;fill-opacity:1;fill-rule:nonzero;stroke:none;stroke-width:1.60000002;marker:none;visibility:visible;display:inline;overflow:visible;enable-background:accumulate;font-family:Sans;-inkscape-font-specification:Sans\"/>\n",
        "        <path d=\"m 255.02648,297.2553 3.2,3.2 -3.2,-11.2 -3.2,11.2 3.2,-3.2 z\" id=\"path4095\" inkscape:connector-curvature=\"0\" style=\"fill:#ff0000;fill-rule:evenodd;stroke:#ff0000;stroke-width:0.64000001pt\"/>\n",
        "      </g>\n",
        "    </g>\n",
        "    <g id=\"g4097\" transform=\"matrix(-0.61878833,0,0,0.33140755,400.63714,136.55253)\">\n",
        "      <g id=\"g4099\" transform=\"translate(-0.54962603,1.9236911)\">\n",
        "        <path d=\"m 254.21875,290.84375 0,51.40625 1.59375,0 0,-51.40625 -1.59375,0 z\" id=\"path4101\" inkscape:connector-curvature=\"0\" style=\"font-size:medium;font-style:normal;font-variant:normal;font-weight:normal;font-stretch:normal;text-indent:0;text-align:start;text-decoration:none;line-height:normal;letter-spacing:normal;word-spacing:normal;text-transform:none;direction:ltr;block-progression:tb;writing-mode:lr-tb;text-anchor:start;baseline-shift:baseline;color:#000000;fill:#ff0000;fill-opacity:1;fill-rule:nonzero;stroke:none;stroke-width:1.60000002;marker:none;visibility:visible;display:inline;overflow:visible;enable-background:accumulate;font-family:Sans;-inkscape-font-specification:Sans\"/>\n",
        "        <path d=\"m 255.02648,297.2553 3.2,3.2 -3.2,-11.2 -3.2,11.2 3.2,-3.2 z\" id=\"path4103\" inkscape:connector-curvature=\"0\" style=\"fill:#ff0000;fill-rule:evenodd;stroke:#ff0000;stroke-width:0.64000001pt\"/>\n",
        "      </g>\n",
        "    </g>\n",
        "    <g id=\"g4113\" transform=\"matrix(-0.61878833,0,0,0.33140755,435.21733,136.55253)\">\n",
        "      <g id=\"g4115\" transform=\"translate(-0.54962603,1.9236911)\">\n",
        "        <path d=\"m 254.21875,290.84375 0,51.40625 1.59375,0 0,-51.40625 -1.59375,0 z\" id=\"path4117\" inkscape:connector-curvature=\"0\" style=\"font-size:medium;font-style:normal;font-variant:normal;font-weight:normal;font-stretch:normal;text-indent:0;text-align:start;text-decoration:none;line-height:normal;letter-spacing:normal;word-spacing:normal;text-transform:none;direction:ltr;block-progression:tb;writing-mode:lr-tb;text-anchor:start;baseline-shift:baseline;color:#000000;fill:#ff0000;fill-opacity:1;fill-rule:nonzero;stroke:none;stroke-width:1.60000002;marker:none;visibility:visible;display:inline;overflow:visible;enable-background:accumulate;font-family:Sans;-inkscape-font-specification:Sans\"/>\n",
        "        <path d=\"m 255.02648,297.2553 3.2,3.2 -3.2,-11.2 -3.2,11.2 3.2,-3.2 z\" id=\"path4119\" inkscape:connector-curvature=\"0\" style=\"fill:#ff0000;fill-rule:evenodd;stroke:#ff0000;stroke-width:0.64000001pt\"/>\n",
        "      </g>\n",
        "    </g>\n",
        "    <g id=\"g4121\" transform=\"matrix(-0.61878833,0,0,0.33140755,391.99209,136.55253)\">\n",
        "      <g id=\"g4123\" transform=\"translate(-0.54962603,1.9236911)\">\n",
        "        <path d=\"m 254.21875,290.84375 0,51.40625 1.59375,0 0,-51.40625 -1.59375,0 z\" id=\"path4125\" inkscape:connector-curvature=\"0\" style=\"font-size:medium;font-style:normal;font-variant:normal;font-weight:normal;font-stretch:normal;text-indent:0;text-align:start;text-decoration:none;line-height:normal;letter-spacing:normal;word-spacing:normal;text-transform:none;direction:ltr;block-progression:tb;writing-mode:lr-tb;text-anchor:start;baseline-shift:baseline;color:#000000;fill:#ff0000;fill-opacity:1;fill-rule:nonzero;stroke:none;stroke-width:1.60000002;marker:none;visibility:visible;display:inline;overflow:visible;enable-background:accumulate;font-family:Sans;-inkscape-font-specification:Sans\"/>\n",
        "        <path d=\"m 255.02648,297.2553 3.2,3.2 -3.2,-11.2 -3.2,11.2 3.2,-3.2 z\" id=\"path4127\" inkscape:connector-curvature=\"0\" style=\"fill:#ff0000;fill-rule:evenodd;stroke:#ff0000;stroke-width:0.64000001pt\"/>\n",
        "      </g>\n",
        "    </g>\n",
        "    <g id=\"g4129\" transform=\"matrix(-0.61878833,0,0,0.33140755,521.66778,136.55253)\">\n",
        "      <g id=\"g4131\" transform=\"translate(-0.54962603,1.9236911)\">\n",
        "        <path d=\"m 254.21875,290.84375 0,51.40625 1.59375,0 0,-51.40625 -1.59375,0 z\" id=\"path4133\" inkscape:connector-curvature=\"0\" style=\"font-size:medium;font-style:normal;font-variant:normal;font-weight:normal;font-stretch:normal;text-indent:0;text-align:start;text-decoration:none;line-height:normal;letter-spacing:normal;word-spacing:normal;text-transform:none;direction:ltr;block-progression:tb;writing-mode:lr-tb;text-anchor:start;baseline-shift:baseline;color:#000000;fill:#ff0000;fill-opacity:1;fill-rule:nonzero;stroke:none;stroke-width:1.60000002;marker:none;visibility:visible;display:inline;overflow:visible;enable-background:accumulate;font-family:Sans;-inkscape-font-specification:Sans\"/>\n",
        "        <path d=\"m 255.02648,297.2553 3.2,3.2 -3.2,-11.2 -3.2,11.2 3.2,-3.2 z\" id=\"path4135\" inkscape:connector-curvature=\"0\" style=\"fill:#ff0000;fill-rule:evenodd;stroke:#ff0000;stroke-width:0.64000001pt\"/>\n",
        "      </g>\n",
        "    </g>\n",
        "    <g id=\"g4137\" transform=\"matrix(-0.61878833,0,0,0.33140755,478.44256,136.55253)\">\n",
        "      <g id=\"g4139\" transform=\"translate(-0.54962603,1.9236911)\">\n",
        "        <path d=\"m 254.21875,290.84375 0,51.40625 1.59375,0 0,-51.40625 -1.59375,0 z\" id=\"path4141\" inkscape:connector-curvature=\"0\" style=\"font-size:medium;font-style:normal;font-variant:normal;font-weight:normal;font-stretch:normal;text-indent:0;text-align:start;text-decoration:none;line-height:normal;letter-spacing:normal;word-spacing:normal;text-transform:none;direction:ltr;block-progression:tb;writing-mode:lr-tb;text-anchor:start;baseline-shift:baseline;color:#000000;fill:#ff0000;fill-opacity:1;fill-rule:nonzero;stroke:none;stroke-width:1.60000002;marker:none;visibility:visible;display:inline;overflow:visible;enable-background:accumulate;font-family:Sans;-inkscape-font-specification:Sans\"/>\n",
        "        <path d=\"m 255.02648,297.2553 3.2,3.2 -3.2,-11.2 -3.2,11.2 3.2,-3.2 z\" id=\"path4143\" inkscape:connector-curvature=\"0\" style=\"fill:#ff0000;fill-rule:evenodd;stroke:#ff0000;stroke-width:0.64000001pt\"/>\n",
        "      </g>\n",
        "    </g>\n",
        "    <g id=\"g4145\" transform=\"matrix(-0.61878833,0,0,0.33140755,370.37946,136.55253)\">\n",
        "      <g id=\"g4147\" transform=\"translate(-0.54962603,1.9236911)\">\n",
        "        <path d=\"m 254.21875,290.84375 0,51.40625 1.59375,0 0,-51.40625 -1.59375,0 z\" id=\"path4149\" inkscape:connector-curvature=\"0\" style=\"font-size:medium;font-style:normal;font-variant:normal;font-weight:normal;font-stretch:normal;text-indent:0;text-align:start;text-decoration:none;line-height:normal;letter-spacing:normal;word-spacing:normal;text-transform:none;direction:ltr;block-progression:tb;writing-mode:lr-tb;text-anchor:start;baseline-shift:baseline;color:#000000;fill:#ff0000;fill-opacity:1;fill-rule:nonzero;stroke:none;stroke-width:1.60000002;marker:none;visibility:visible;display:inline;overflow:visible;enable-background:accumulate;font-family:Sans;-inkscape-font-specification:Sans\"/>\n",
        "        <path d=\"m 255.02648,297.2553 3.2,3.2 -3.2,-11.2 -3.2,11.2 3.2,-3.2 z\" id=\"path4151\" inkscape:connector-curvature=\"0\" style=\"fill:#ff0000;fill-rule:evenodd;stroke:#ff0000;stroke-width:0.64000001pt\"/>\n",
        "      </g>\n",
        "    </g>\n",
        "    <g id=\"g4153\" transform=\"matrix(-0.61878833,0,0,0.33140755,500.05519,136.55253)\">\n",
        "      <g id=\"g4155\" transform=\"translate(-0.54962603,1.9236911)\">\n",
        "        <path d=\"m 254.21875,290.84375 0,51.40625 1.59375,0 0,-51.40625 -1.59375,0 z\" id=\"path4157\" inkscape:connector-curvature=\"0\" style=\"font-size:medium;font-style:normal;font-variant:normal;font-weight:normal;font-stretch:normal;text-indent:0;text-align:start;text-decoration:none;line-height:normal;letter-spacing:normal;word-spacing:normal;text-transform:none;direction:ltr;block-progression:tb;writing-mode:lr-tb;text-anchor:start;baseline-shift:baseline;color:#000000;fill:#ff0000;fill-opacity:1;fill-rule:nonzero;stroke:none;stroke-width:1.60000002;marker:none;visibility:visible;display:inline;overflow:visible;enable-background:accumulate;font-family:Sans;-inkscape-font-specification:Sans\"/>\n",
        "        <path d=\"m 255.02648,297.2553 3.2,3.2 -3.2,-11.2 -3.2,11.2 3.2,-3.2 z\" id=\"path4159\" inkscape:connector-curvature=\"0\" style=\"fill:#ff0000;fill-rule:evenodd;stroke:#ff0000;stroke-width:0.64000001pt\"/>\n",
        "      </g>\n",
        "    </g>\n",
        "    <g id=\"g4161\" transform=\"matrix(-0.61878833,0,0,0.33140755,456.82995,136.55253)\">\n",
        "      <g id=\"g4163\" transform=\"translate(-0.54962603,1.9236911)\">\n",
        "        <path d=\"m 254.21875,290.84375 0,51.40625 1.59375,0 0,-51.40625 -1.59375,0 z\" id=\"path4165\" inkscape:connector-curvature=\"0\" style=\"font-size:medium;font-style:normal;font-variant:normal;font-weight:normal;font-stretch:normal;text-indent:0;text-align:start;text-decoration:none;line-height:normal;letter-spacing:normal;word-spacing:normal;text-transform:none;direction:ltr;block-progression:tb;writing-mode:lr-tb;text-anchor:start;baseline-shift:baseline;color:#000000;fill:#ff0000;fill-opacity:1;fill-rule:nonzero;stroke:none;stroke-width:1.60000002;marker:none;visibility:visible;display:inline;overflow:visible;enable-background:accumulate;font-family:Sans;-inkscape-font-specification:Sans\"/>\n",
        "        <path d=\"m 255.02648,297.2553 3.2,3.2 -3.2,-11.2 -3.2,11.2 3.2,-3.2 z\" id=\"path4167\" inkscape:connector-curvature=\"0\" style=\"fill:#ff0000;fill-rule:evenodd;stroke:#ff0000;stroke-width:0.64000001pt\"/>\n",
        "      </g>\n",
        "    </g>\n",
        "    <g id=\"g4169\" transform=\"matrix(-0.61878833,0,0,0.33140755,413.6047,136.55253)\">\n",
        "      <g id=\"g4171\" transform=\"translate(-0.54962603,1.9236911)\">\n",
        "        <path d=\"m 254.21875,290.84375 0,51.40625 1.59375,0 0,-51.40625 -1.59375,0 z\" id=\"path4173\" inkscape:connector-curvature=\"0\" style=\"font-size:medium;font-style:normal;font-variant:normal;font-weight:normal;font-stretch:normal;text-indent:0;text-align:start;text-decoration:none;line-height:normal;letter-spacing:normal;word-spacing:normal;text-transform:none;direction:ltr;block-progression:tb;writing-mode:lr-tb;text-anchor:start;baseline-shift:baseline;color:#000000;fill:#ff0000;fill-opacity:1;fill-rule:nonzero;stroke:none;stroke-width:1.60000002;marker:none;visibility:visible;display:inline;overflow:visible;enable-background:accumulate;font-family:Sans;-inkscape-font-specification:Sans\"/>\n",
        "        <path d=\"m 255.02648,297.2553 3.2,3.2 -3.2,-11.2 -3.2,11.2 3.2,-3.2 z\" id=\"path4175\" inkscape:connector-curvature=\"0\" style=\"fill:#ff0000;fill-rule:evenodd;stroke:#ff0000;stroke-width:0.64000001pt\"/>\n",
        "      </g>\n",
        "    </g>\n",
        "    <text id=\"text5635\" sodipodi:linespacing=\"125%\" style=\"font-size:30.09703064px;font-style:normal;font-variant:normal;font-weight:normal;font-stretch:normal;line-height:125%;letter-spacing:0px;word-spacing:0px;fill:#000000;fill-opacity:1;stroke:none;font-family:Arial;-inkscape-font-specification:Arial\" x=\"153.15112\" xml:space=\"preserve\" y=\"285.7084\"><tspan id=\"tspan5637\" sodipodi:role=\"line\" style=\"font-style:normal;font-variant:normal;font-weight:normal;font-stretch:normal;font-family:Garamond;-inkscape-font-specification:Garamond\" x=\"153.15112\" y=\"285.7084\">contact pressure</tspan></text>\n",
        "    <text id=\"text5639\" sodipodi:linespacing=\"125%\" style=\"font-size:30.09703064px;font-style:normal;font-variant:normal;font-weight:normal;font-stretch:normal;line-height:125%;letter-spacing:0px;word-spacing:0px;fill:#000000;fill-opacity:1;stroke:none;font-family:Arial;-inkscape-font-specification:Arial\" x=\"340.77368\" xml:space=\"preserve\" y=\"191.75554\"><tspan id=\"tspan5641\" sodipodi:role=\"line\" style=\"font-style:normal;font-variant:normal;font-weight:normal;font-stretch:normal;font-family:Garamond;-inkscape-font-specification:Garamond\" x=\"340.77368\" y=\"191.75554\">gravity force</tspan></text>\n",
        "    <path d=\"m 292.48074,131.33741 c 0,0 34.15125,5.55758 36.2857,25.93538\" id=\"path7033\" inkscape:connector-curvature=\"0\" style=\"fill:none;stroke:#000000;stroke-width:0.71178275;stroke-linecap:butt;stroke-linejoin:miter;stroke-miterlimit:4;stroke-opacity:1;stroke-dasharray:none;marker-end:url(#Arrow1Mend)\"/>\n",
        "    <rect height=\"172.69669\" id=\"rect7415\" style=\"fill:#999999;fill-opacity:1;stroke:#000000;stroke-width:2.33871937;stroke-opacity:1\" width=\"272.67899\" x=\"806.37665\" y=\"76.5746\"/>\n",
        "    <rect height=\"176.33241\" id=\"rect7417\" style=\"fill:#f2f2f2;fill-opacity:1;stroke:#000000;stroke-width:2.33871937\" width=\"338.12195\" x=\"648.85706\" y=\"251.61028\"/>\n",
        "    <path d=\"m 942.80675,169.92064 0,51.9118\" id=\"path7419\" inkscape:connector-curvature=\"0\" style=\"fill:none;stroke:#000000;stroke-width:2.69481921;stroke-linecap:butt;stroke-linejoin:miter;stroke-miterlimit:4;stroke-opacity:1;stroke-dasharray:none;marker-end:url(#Arrow1Mend)\"/>\n",
        "    <path d=\"m 227.72708,302.12265 c 0,1.76999 -1.43486,3.20484 -3.20485,3.20484 -1.76998,0 -3.20484,-1.43485 -3.20484,-3.20484 0,-1.76999 1.43486,-3.20484 3.20484,-3.20484 1.76999,0 3.20485,1.43485 3.20485,3.20484 z\" id=\"path7421\" sodipodi:cx=\"224.52223\" sodipodi:cy=\"302.12265\" sodipodi:rx=\"3.204843\" sodipodi:ry=\"3.204843\" sodipodi:type=\"arc\" style=\"fill:#000000;fill-opacity:1;fill-rule:nonzero;stroke:none\" transform=\"matrix(0.85252143,0,0,0.85252143,751.3061,-94.643086)\"/>\n",
        "    <g id=\"g7423\" transform=\"matrix(-1.5869348,0,0,1.0657622,1390.5862,-120.46497)\">\n",
        "      <g id=\"g7425\" transform=\"translate(-0.54962603,1.9236911)\">\n",
        "        <path d=\"m 254.21875,290.84375 0,51.40625 1.59375,0 0,-51.40625 -1.59375,0 z\" id=\"path7427\" inkscape:connector-curvature=\"0\" style=\"font-size:medium;font-style:normal;font-variant:normal;font-weight:normal;font-stretch:normal;text-indent:0;text-align:start;text-decoration:none;line-height:normal;letter-spacing:normal;word-spacing:normal;text-transform:none;direction:ltr;block-progression:tb;writing-mode:lr-tb;text-anchor:start;baseline-shift:baseline;color:#000000;fill:#ff0000;fill-opacity:1;fill-rule:nonzero;stroke:none;stroke-width:1.60000002;marker:none;visibility:visible;display:inline;overflow:visible;enable-background:accumulate;font-family:Sans;-inkscape-font-specification:Sans\"/>\n",
        "        <path d=\"m 255.02648,297.2553 3.2,3.2 -3.2,-11.2 -3.2,11.2 3.2,-3.2 z\" id=\"path7429\" inkscape:connector-curvature=\"0\" style=\"fill:#ff0000;fill-rule:evenodd;stroke:#ff0000;stroke-width:0.64000001pt\"/>\n",
        "      </g>\n",
        "    </g>\n",
        "    <path d=\"m 227.72708,302.12265 c 0,1.76999 -1.43486,3.20484 -3.20485,3.20484 -1.76998,0 -3.20484,-1.43485 -3.20484,-3.20484 0,-1.76999 1.43486,-3.20484 3.20484,-3.20484 1.76999,0 3.20485,1.43485 3.20485,3.20484 z\" id=\"path7431\" sodipodi:cx=\"224.52223\" sodipodi:cy=\"302.12265\" sodipodi:rx=\"3.204843\" sodipodi:ry=\"3.204843\" sodipodi:type=\"arc\" style=\"fill:#ff0000;fill-opacity:1;fill-rule:nonzero;stroke:none\" transform=\"matrix(0.85252143,0,0,0.85252143,795.58086,-7.5140579)\"/>\n",
        "    <text id=\"text7433\" sodipodi:linespacing=\"125%\" style=\"font-size:30.09703064px;font-style:normal;font-variant:normal;font-weight:normal;font-stretch:normal;line-height:125%;letter-spacing:0px;word-spacing:0px;fill:#000000;fill-opacity:1;stroke:none;font-family:Arial;-inkscape-font-specification:Arial\" x=\"775.47937\" xml:space=\"preserve\" y=\"193.49783\"><tspan id=\"tspan7435\" sodipodi:role=\"line\" style=\"font-style:normal;font-variant:normal;font-weight:normal;font-stretch:normal;font-family:Garamond;-inkscape-font-specification:Garamond\" x=\"775.47937\" y=\"193.49783\">gravity force</tspan></text>\n",
        "    <text id=\"text7437\" sodipodi:linespacing=\"125%\" style=\"font-size:30.09703064px;font-style:normal;font-variant:normal;font-weight:normal;font-stretch:normal;line-height:125%;letter-spacing:0px;word-spacing:0px;fill:#000000;fill-opacity:1;stroke:none;font-family:Arial;-inkscape-font-specification:Arial\" x=\"886.98706\" xml:space=\"preserve\" y=\"285.84012\"><tspan id=\"tspan7439\" sodipodi:role=\"line\" style=\"font-style:normal;font-variant:normal;font-weight:normal;font-stretch:normal;font-family:Garamond;-inkscape-font-specification:Garamond\" x=\"886.98706\" y=\"285.84012\">pressure force</tspan></text>\n",
        "    <text id=\"text7441\" sodipodi:linespacing=\"125%\" style=\"font-size:30.09703064px;font-style:normal;font-variant:normal;font-weight:normal;font-stretch:normal;line-height:125%;letter-spacing:0px;word-spacing:0px;fill:#000000;fill-opacity:1;stroke:none;font-family:Arial;-inkscape-font-specification:Arial\" x=\"34.585583\" xml:space=\"preserve\" y=\"45.389244\"><tspan id=\"tspan7443\" sodipodi:role=\"line\" style=\"font-size:56.12926483px;font-style:normal;font-variant:normal;font-weight:normal;font-stretch:normal;font-family:Garamond;-inkscape-font-specification:Garamond\" x=\"34.585583\" y=\"45.389244\">Original problem</tspan></text>\n",
        "    <text id=\"text7445\" sodipodi:linespacing=\"125%\" style=\"font-size:30.09703064px;font-style:normal;font-variant:normal;font-weight:normal;font-stretch:normal;line-height:125%;letter-spacing:0px;word-spacing:0px;fill:#000000;fill-opacity:1;stroke:none;font-family:Arial;-inkscape-font-specification:Arial\" x=\"606.0625\" xml:space=\"preserve\" y=\"45.389244\"><tspan id=\"tspan7447\" sodipodi:role=\"line\" style=\"font-size:56.12926483px;font-style:normal;font-variant:normal;font-weight:normal;font-stretch:normal;font-family:Garamond;-inkscape-font-specification:Garamond\" x=\"606.0625\" y=\"45.389244\">Simplified problem</tspan></text>\n",
        "  </g>\n",
        "</svg>"
       ],
       "text": [
        "<IPython.core.display.SVG at 0x5577c10>"
       ]
      }
     ],
     "prompt_number": 8
    },
    {
     "cell_type": "markdown",
     "metadata": {},
     "source": [
      "Under these hypotheses, equilibrium has a simple expression:\n",
      "\n",
      "- if the center of gravity is located to the left of the pressure force, i.e. the edge of the bottom block, the structure is in a stable state\n",
      "- if the center of gravity is located to the right of the pressure force, i.e. the edge of the bottom block, the structure is in an unstable state and will collapse\n",
      "\n",
      "This is illustrated by the figure below:"
     ]
    },
    {
     "cell_type": "code",
     "collapsed": false,
     "input": [
      "SVG(filename='files/forces_equilibrium.svg')"
     ],
     "language": "python",
     "metadata": {},
     "outputs": [
      {
       "metadata": {},
       "output_type": "pyout",
       "prompt_number": 9,
       "svg": [
        "<svg height=\"420.70761\" id=\"svg2\" inkscape:version=\"0.48.4 r9939\" sodipodi:docname=\"forces_equilibrium.svg\" version=\"1.1\" width=\"1198.9308\" xmlns=\"http://www.w3.org/2000/svg\" xmlns:cc=\"http://creativecommons.org/ns#\" xmlns:dc=\"http://purl.org/dc/elements/1.1/\" xmlns:inkscape=\"http://www.inkscape.org/namespaces/inkscape\" xmlns:osb=\"http://www.openswatchbook.org/uri/2009/osb\" xmlns:rdf=\"http://www.w3.org/1999/02/22-rdf-syntax-ns#\" xmlns:sodipodi=\"http://sodipodi.sourceforge.net/DTD/sodipodi-0.dtd\" xmlns:svg=\"http://www.w3.org/2000/svg\">\n",
        "  <sodipodi:namedview bordercolor=\"#666666\" borderopacity=\"1.0\" fit-margin-bottom=\"0\" fit-margin-left=\"0\" fit-margin-right=\"0\" fit-margin-top=\"0\" id=\"base\" inkscape:current-layer=\"layer1\" inkscape:cx=\"755.93013\" inkscape:cy=\"284.15234\" inkscape:document-units=\"px\" inkscape:pageopacity=\"0.0\" inkscape:pageshadow=\"2\" inkscape:window-height=\"1138\" inkscape:window-maximized=\"1\" inkscape:window-width=\"1920\" inkscape:window-x=\"-8\" inkscape:window-y=\"-8\" inkscape:zoom=\"1.1335291\" pagecolor=\"#ffffff\" showgrid=\"false\"/>\n",
        "  <defs id=\"defs4\">\n",
        "    <marker id=\"Arrow1Send\" inkscape:stockid=\"Arrow1Send\" orient=\"auto\" refX=\"0\" refY=\"0\" style=\"overflow:visible\">\n",
        "      <path d=\"M 0,0 5,-5 -12.5,0 5,5 0,0 z\" id=\"path5848\" inkscape:connector-curvature=\"0\" style=\"fill-rule:evenodd;stroke:#000000;stroke-width:1pt\" transform=\"matrix(-0.2,0,0,-0.2,-1.2,0)\"/>\n",
        "    </marker>\n",
        "    <marker id=\"Arrow1Lend\" inkscape:stockid=\"Arrow1Lend\" orient=\"auto\" refX=\"0\" refY=\"0\" style=\"overflow:visible\">\n",
        "      <path d=\"M 0,0 5,-5 -12.5,0 5,5 0,0 z\" id=\"path5836\" inkscape:connector-curvature=\"0\" style=\"fill-rule:evenodd;stroke:#000000;stroke-width:1pt\" transform=\"matrix(-0.8,0,0,-0.8,-10,0)\"/>\n",
        "    </marker>\n",
        "    <linearGradient id=\"linearGradient5621\" osb:paint=\"solid\">\n",
        "      <stop id=\"stop5623\" offset=\"0\" style=\"stop-color:#000000;stop-opacity:1;\"/>\n",
        "    </linearGradient>\n",
        "    <marker id=\"DiamondL\" inkscape:stockid=\"DiamondL\" orient=\"auto\" refX=\"0\" refY=\"0\" style=\"overflow:visible\">\n",
        "      <path d=\"M 0,-7.0710768 -7.0710894,0 0,7.0710589 7.0710462,0 0,-7.0710768 z\" id=\"path3854\" inkscape:connector-curvature=\"0\" style=\"fill-rule:evenodd;stroke:#000000;stroke-width:1pt\" transform=\"scale(0.8,0.8)\"/>\n",
        "    </marker>\n",
        "    <marker id=\"Arrow1Mend\" inkscape:stockid=\"Arrow1Mend\" orient=\"auto\" refX=\"0\" refY=\"0\" style=\"overflow:visible\">\n",
        "      <path d=\"M 0,0 5,-5 -12.5,0 5,5 0,0 z\" id=\"path3784\" inkscape:connector-curvature=\"0\" style=\"fill-rule:evenodd;stroke:#000000;stroke-width:1pt\" transform=\"matrix(-0.4,0,0,-0.4,-4,0)\"/>\n",
        "    </marker>\n",
        "    <marker id=\"Arrow1Sendk\" inkscape:stockid=\"Arrow1Sendk\" orient=\"auto\" refX=\"0\" refY=\"0\" style=\"overflow:visible\">\n",
        "      <path d=\"M 0,0 5,-5 -12.5,0 5,5 0,0 z\" id=\"path5454\" inkscape:connector-curvature=\"0\" style=\"fill:#8e837f;fill-rule:evenodd;stroke:#8e837f;stroke-width:1pt\" transform=\"matrix(-0.2,0,0,-0.2,-1.2,0)\"/>\n",
        "    </marker>\n",
        "  </defs>\n",
        "  <metadata id=\"metadata7\">\n",
        "    <rdf:RDF>\n",
        "      <cc:Work rdf:about=\"\">\n",
        "        <dc:format>image/svg+xml</dc:format>\n",
        "        <dc:type rdf:resource=\"http://purl.org/dc/dcmitype/StillImage\"/>\n",
        "        <dc:title/>\n",
        "      </cc:Work>\n",
        "    </rdf:RDF>\n",
        "  </metadata>\n",
        "  <g id=\"layer1\" inkscape:groupmode=\"layer\" inkscape:label=\"Calque 1\" transform=\"translate(-34.46875,-8.4173797)\">\n",
        "    <rect height=\"172.69669\" id=\"rect7415\" style=\"fill:#999999;fill-opacity:1;stroke:#000000;stroke-width:2.33871937;stroke-opacity:1\" width=\"272.67899\" x=\"806.37665\" y=\"76.5746\"/>\n",
        "    <rect height=\"176.33241\" id=\"rect7417\" style=\"fill:#f2f2f2;fill-opacity:1;stroke:#000000;stroke-width:2.33871937\" width=\"338.12195\" x=\"520.85706\" y=\"251.61028\"/>\n",
        "    <path d=\"m 942.80675,169.92064 0,51.9118\" id=\"path7419\" inkscape:connector-curvature=\"0\" style=\"fill:none;stroke:#000000;stroke-width:2.69481921;stroke-linecap:butt;stroke-linejoin:miter;stroke-miterlimit:4;stroke-opacity:1;stroke-dasharray:none;marker-end:url(#Arrow1Mend)\"/>\n",
        "    <path d=\"m 227.72708,302.12265 c 0,1.76999 -1.43486,3.20484 -3.20485,3.20484 -1.76998,0 -3.20484,-1.43485 -3.20484,-3.20484 0,-1.76999 1.43486,-3.20484 3.20484,-3.20484 1.76999,0 3.20485,1.43485 3.20485,3.20484 z\" id=\"path7421\" sodipodi:cx=\"224.52223\" sodipodi:cy=\"302.12265\" sodipodi:rx=\"3.204843\" sodipodi:ry=\"3.204843\" sodipodi:type=\"arc\" style=\"fill:#000000;fill-opacity:1;fill-rule:nonzero;stroke:none\" transform=\"matrix(0.85252143,0,0,0.85252143,751.3061,-94.643086)\"/>\n",
        "    <g id=\"g7423\" transform=\"matrix(-1.5869348,0,0,1.0657622,1262.5862,-120.46497)\">\n",
        "      <g id=\"g7425\" transform=\"translate(-0.54962603,1.9236911)\">\n",
        "        <path d=\"m 254.21875,290.84375 0,51.40625 1.59375,0 0,-51.40625 -1.59375,0 z\" id=\"path7427\" inkscape:connector-curvature=\"0\" style=\"font-size:medium;font-style:normal;font-variant:normal;font-weight:normal;font-stretch:normal;text-indent:0;text-align:start;text-decoration:none;line-height:normal;letter-spacing:normal;word-spacing:normal;text-transform:none;direction:ltr;block-progression:tb;writing-mode:lr-tb;text-anchor:start;baseline-shift:baseline;color:#000000;fill:#ff0000;fill-opacity:1;fill-rule:nonzero;stroke:none;stroke-width:1.60000002;marker:none;visibility:visible;display:inline;overflow:visible;enable-background:accumulate;font-family:Sans;-inkscape-font-specification:Sans\"/>\n",
        "        <path d=\"m 255.02648,297.2553 3.2,3.2 -3.2,-11.2 -3.2,11.2 3.2,-3.2 z\" id=\"path7429\" inkscape:connector-curvature=\"0\" style=\"fill:#ff0000;fill-rule:evenodd;stroke:#ff0000;stroke-width:0.64000001pt\"/>\n",
        "      </g>\n",
        "    </g>\n",
        "    <path d=\"m 227.72708,302.12265 c 0,1.76999 -1.43486,3.20484 -3.20485,3.20484 -1.76998,0 -3.20484,-1.43485 -3.20484,-3.20484 0,-1.76999 1.43486,-3.20484 3.20484,-3.20484 1.76999,0 3.20485,1.43485 3.20485,3.20484 z\" id=\"path7431\" sodipodi:cx=\"224.52223\" sodipodi:cy=\"302.12265\" sodipodi:rx=\"3.204843\" sodipodi:ry=\"3.204843\" sodipodi:type=\"arc\" style=\"fill:#ff0000;fill-opacity:1;fill-rule:nonzero;stroke:none\" transform=\"matrix(0.85252143,0,0,0.85252143,667.58086,-7.5140579)\"/>\n",
        "    <text id=\"text7433\" sodipodi:linespacing=\"125%\" style=\"font-size:30.09703064px;font-style:normal;font-variant:normal;font-weight:normal;font-stretch:normal;line-height:125%;letter-spacing:0px;word-spacing:0px;fill:#000000;fill-opacity:1;stroke:none;font-family:Arial;-inkscape-font-specification:Arial\" x=\"968.59717\" xml:space=\"preserve\" y=\"193.49783\"><tspan id=\"tspan7435\" sodipodi:role=\"line\" style=\"font-style:normal;font-variant:normal;font-weight:normal;font-stretch:normal;font-family:Garamond;-inkscape-font-specification:Garamond\" x=\"968.59717\" y=\"193.49783\">gravity force</tspan></text>\n",
        "    <text id=\"text7437\" sodipodi:linespacing=\"125%\" style=\"font-size:30.09703064px;font-style:normal;font-variant:normal;font-weight:normal;font-stretch:normal;line-height:125%;letter-spacing:0px;word-spacing:0px;fill:#000000;fill-opacity:1;stroke:none;font-family:Arial;-inkscape-font-specification:Arial\" x=\"758.98706\" xml:space=\"preserve\" y=\"285.84012\"><tspan id=\"tspan7439\" sodipodi:role=\"line\" style=\"font-style:normal;font-variant:normal;font-weight:normal;font-stretch:normal;font-family:Garamond;-inkscape-font-specification:Garamond\" x=\"758.98706\" y=\"285.84012\">pressure force</tspan></text>\n",
        "    <text id=\"text7441\" sodipodi:linespacing=\"125%\" style=\"font-size:30.09703064px;font-style:normal;font-variant:normal;font-weight:normal;font-stretch:normal;line-height:125%;letter-spacing:0px;word-spacing:0px;fill:#000000;fill-opacity:1;stroke:none;font-family:Arial;-inkscape-font-specification:Arial\" x=\"198.58559\" xml:space=\"preserve\" y=\"45.389244\"><tspan id=\"tspan7443\" sodipodi:role=\"line\" style=\"font-size:56.12926483px;font-style:normal;font-variant:normal;font-weight:normal;font-stretch:normal;font-family:Garamond;-inkscape-font-specification:Garamond\" x=\"198.58559\" y=\"45.389244\">Stable</tspan></text>\n",
        "    <text id=\"text7445\" sodipodi:linespacing=\"125%\" style=\"font-size:30.09703064px;font-style:normal;font-variant:normal;font-weight:normal;font-stretch:normal;line-height:125%;letter-spacing:0px;word-spacing:0px;fill:#000000;fill-opacity:1;stroke:none;font-family:Arial;-inkscape-font-specification:Arial\" x=\"704.0625\" xml:space=\"preserve\" y=\"45.389244\"><tspan id=\"tspan7447\" sodipodi:role=\"line\" style=\"font-size:56.12926483px;font-style:normal;font-variant:normal;font-weight:normal;font-stretch:normal;font-family:Garamond;-inkscape-font-specification:Garamond\" x=\"704.0625\" y=\"45.389244\">Unstable</tspan></text>\n",
        "    <rect height=\"172.69669\" id=\"rect3188\" style=\"fill:#999999;fill-opacity:1;stroke:#000000;stroke-width:2.33871937;stroke-opacity:1\" width=\"272.67899\" x=\"193.14362\" y=\"76.5746\"/>\n",
        "    <rect height=\"176.33241\" id=\"rect3190\" style=\"fill:#f2f2f2;fill-opacity:1;stroke:#000000;stroke-width:2.33871937\" width=\"338.12195\" x=\"35.624023\" y=\"251.61028\"/>\n",
        "    <path d=\"m 329.57375,169.92064 0,51.9118\" id=\"path3192\" inkscape:connector-curvature=\"0\" style=\"fill:none;stroke:#000000;stroke-width:2.69481921;stroke-linecap:butt;stroke-linejoin:miter;stroke-miterlimit:4;stroke-opacity:1;stroke-dasharray:none;marker-end:url(#Arrow1Mend)\"/>\n",
        "    <path d=\"m 227.72708,302.12265 c 0,1.76999 -1.43486,3.20484 -3.20485,3.20484 -1.76998,0 -3.20484,-1.43485 -3.20484,-3.20484 0,-1.76999 1.43486,-3.20484 3.20484,-3.20484 1.76999,0 3.20485,1.43485 3.20485,3.20484 z\" id=\"path3194\" sodipodi:cx=\"224.52223\" sodipodi:cy=\"302.12265\" sodipodi:rx=\"3.204843\" sodipodi:ry=\"3.204843\" sodipodi:type=\"arc\" style=\"fill:#000000;fill-opacity:1;fill-rule:nonzero;stroke:none\" transform=\"matrix(0.85252143,0,0,0.85252143,138.0731,-94.643086)\"/>\n",
        "    <g id=\"g3196\" transform=\"matrix(-1.5869348,0,0,1.0657622,777.3532,-120.46497)\">\n",
        "      <g id=\"g3198\" transform=\"translate(-0.54962603,1.9236911)\">\n",
        "        <path d=\"m 254.21875,290.84375 0,51.40625 1.59375,0 0,-51.40625 -1.59375,0 z\" id=\"path3200\" inkscape:connector-curvature=\"0\" style=\"font-size:medium;font-style:normal;font-variant:normal;font-weight:normal;font-stretch:normal;text-indent:0;text-align:start;text-decoration:none;line-height:normal;letter-spacing:normal;word-spacing:normal;text-transform:none;direction:ltr;block-progression:tb;writing-mode:lr-tb;text-anchor:start;baseline-shift:baseline;color:#000000;fill:#ff0000;fill-opacity:1;fill-rule:nonzero;stroke:none;stroke-width:1.60000002;marker:none;visibility:visible;display:inline;overflow:visible;enable-background:accumulate;font-family:Sans;-inkscape-font-specification:Sans\"/>\n",
        "        <path d=\"m 255.02648,297.2553 3.2,3.2 -3.2,-11.2 -3.2,11.2 3.2,-3.2 z\" id=\"path3202\" inkscape:connector-curvature=\"0\" style=\"fill:#ff0000;fill-rule:evenodd;stroke:#ff0000;stroke-width:0.64000001pt\"/>\n",
        "      </g>\n",
        "    </g>\n",
        "    <path d=\"m 227.72708,302.12265 c 0,1.76999 -1.43486,3.20484 -3.20485,3.20484 -1.76998,0 -3.20484,-1.43485 -3.20484,-3.20484 0,-1.76999 1.43486,-3.20484 3.20484,-3.20484 1.76999,0 3.20485,1.43485 3.20485,3.20484 z\" id=\"path3204\" sodipodi:cx=\"224.52223\" sodipodi:cy=\"302.12265\" sodipodi:rx=\"3.204843\" sodipodi:ry=\"3.204843\" sodipodi:type=\"arc\" style=\"fill:#ff0000;fill-opacity:1;fill-rule:nonzero;stroke:none\" transform=\"matrix(0.85252143,0,0,0.85252143,182.34786,-7.5140579)\"/>\n",
        "    <text id=\"text3206\" sodipodi:linespacing=\"125%\" style=\"font-size:30.09703064px;font-style:normal;font-variant:normal;font-weight:normal;font-stretch:normal;line-height:125%;letter-spacing:0px;word-spacing:0px;fill:#000000;fill-opacity:1;stroke:none;font-family:Arial;-inkscape-font-specification:Arial\" x=\"157.83534\" xml:space=\"preserve\" y=\"199.67323\"><tspan id=\"tspan3208\" sodipodi:role=\"line\" style=\"font-style:normal;font-variant:normal;font-weight:normal;font-stretch:normal;font-family:Garamond;-inkscape-font-specification:Garamond\" x=\"157.83534\" y=\"199.67323\">gravity force</tspan></text>\n",
        "    <text id=\"text3210\" sodipodi:linespacing=\"125%\" style=\"font-size:30.09703064px;font-style:normal;font-variant:normal;font-weight:normal;font-stretch:normal;line-height:125%;letter-spacing:0px;word-spacing:0px;fill:#000000;fill-opacity:1;stroke:none;font-family:Arial;-inkscape-font-specification:Arial\" x=\"273.75403\" xml:space=\"preserve\" y=\"285.84012\"><tspan id=\"tspan3212\" sodipodi:role=\"line\" style=\"font-style:normal;font-variant:normal;font-weight:normal;font-stretch:normal;font-family:Garamond;-inkscape-font-specification:Garamond\" x=\"273.75403\" y=\"285.84012\">pressure force</tspan></text>\n",
        "    <g id=\"g6321\" style=\"fill:#0000ff;stroke:none\" transform=\"matrix(1.6591756,0,0,1.716982,-716.42082,-242.44269)\">\n",
        "      <path d=\"m 1099.9376,237.26113 c -7.8798,-0.1373 -13.0938,0.8125 -13.0938,0.8125 l 0.1875,1 c 0,0 20.6045,-3.72705 41.625,4.8125 21.0204,8.53955 42.4594,29.23729 44.2187,78.5 l 1,-0.0312 c -1.7694,-49.54375 -23.5185,-70.74289 -44.8437,-79.40625 -10.6627,-4.33168 -21.214,-5.5502 -29.0937,-5.6875 z\" id=\"path6129\" inkscape:connector-curvature=\"0\" style=\"font-size:medium;font-style:normal;font-variant:normal;font-weight:normal;font-stretch:normal;text-indent:0;text-align:start;text-decoration:none;line-height:normal;letter-spacing:normal;word-spacing:normal;text-transform:none;direction:ltr;block-progression:tb;writing-mode:lr-tb;text-anchor:start;baseline-shift:baseline;color:#000000;fill:#0000ff;fill-opacity:1;stroke:none;stroke-width:0.38826561;marker:none;visibility:visible;display:inline;overflow:visible;enable-background:accumulate;font-family:Sans;-inkscape-font-specification:Sans\"/>\n",
        "      <path d=\"m 1173.2469,318.38127 -2.0701,-1.92734 2.2485,6.92415 1.7489,-7.06692 -1.9273,2.07011 z\" id=\"path6327\" inkscape:connector-curvature=\"0\" style=\"fill:#0000ff;fill-rule:evenodd;stroke:none\"/>\n",
        "    </g>\n",
        "  </g>\n",
        "</svg>"
       ],
       "text": [
        "<IPython.core.display.SVG at 0x3a17890>"
       ]
      }
     ],
     "prompt_number": 9
    },
    {
     "cell_type": "markdown",
     "metadata": {},
     "source": [
      "So the algorithm is the following:\n",
      "\n",
      "- we loop over the bricks to stack in a reverse order, starting with the last brick which goes on top\n",
      "- we calculate the maximum shift we can apply to the brick at the bottom given the top brick and its mass\n",
      "- we define a new top brick that consists of the previous top brick plus the previous bottom brick but positioned on top of each other\n",
      "- we apply the same procedure as above to our new top and bottom bricks\n",
      "\n",
      "To follow this algorithm, we will need to compute the position of the new center of gravity obtained by assembling bricks together. This is coded below:"
     ]
    },
    {
     "cell_type": "code",
     "collapsed": false,
     "input": [
      "def compute_horizontal_center_of_mass(brick_sequence, shifts):\n",
      "    compute_mass = lambda b: b[0] * b[1]\n",
      "    sum_xi_mi = sum([(shifts[i] + brick_sequence[i][0]/2.) * compute_mass(brick_sequence[i]) for i in range(len(brick_sequence))])\n",
      "    sum_mi = sum([compute_mass(brick_sequence[i]) for i in range(len(brick_sequence))])\n",
      "    return sum_xi_mi / sum_mi                                   "
     ],
     "language": "python",
     "metadata": {},
     "outputs": [],
     "prompt_number": 10
    },
    {
     "cell_type": "markdown",
     "metadata": {},
     "source": [
      "And finally, the algorithm:"
     ]
    },
    {
     "cell_type": "code",
     "collapsed": false,
     "input": [
      "def compute_brick_shifts(brick_sequence):\n",
      "    shifts = []\n",
      "    reverse_brick_sequence = brick_sequence[::-1]\n",
      "    for index, brick in enumerate(reverse_brick_sequence):\n",
      "        if index == 0:\n",
      "            shifts.append(0.)\n",
      "        else:\n",
      "            previous_center_of_mass = compute_horizontal_center_of_mass(reverse_brick_sequence[:index], shifts)\n",
      "            shifts.append(previous_center_of_mass - brick[0])\n",
      "    min_shift = min(shifts)\n",
      "    return [s - min_shift for s in shifts[::-1]]"
     ],
     "language": "python",
     "metadata": {},
     "outputs": [],
     "prompt_number": 11
    },
    {
     "cell_type": "markdown",
     "metadata": {},
     "source": [
      "To test our algorithm, we're going to examine a couple of solutions obtained when stacking rectangular bricks on top of each other. First, we're doing this with an interactive plot:"
     ]
    },
    {
     "cell_type": "code",
     "collapsed": false,
     "input": [
      "def plot_nbricks(l, n):\n",
      "    bricks = generate_brick_sequence(l, 1, n)\n",
      "    plot_brick_sequence(bricks, compute_brick_shifts(bricks))\n",
      "    pl.xlim(0, n)\n",
      "    pl.ylim(0, n)\n",
      "    pl.grid(True)"
     ],
     "language": "python",
     "metadata": {},
     "outputs": [],
     "prompt_number": 23
    },
    {
     "cell_type": "code",
     "collapsed": false,
     "input": [
      "interact(plot_nbricks,\n",
      "            l=(0.1, 4, 0.1),\n",
      "            n=(2, 20))"
     ],
     "language": "python",
     "metadata": {},
     "outputs": [
      {
       "metadata": {},
       "output_type": "display_data",
       "png": "[encoded data removed]",
       "text": [
        "<matplotlib.figure.Figure at 0x5589a30>"
       ]
      }
     ],
     "prompt_number": 24
    },
    {
     "cell_type": "markdown",
     "metadata": {},
     "source": [
      "Let's check the solution for 10, 20 and 40 bricks of 2:1 aspect ratios:"
     ]
    },
    {
     "cell_type": "code",
     "collapsed": false,
     "input": [
      "pl.figure(figsize=(10, 4))\n",
      "format_plot = lambda : pl.xlim(0, 8) and pl.ylim(0, 40) and pl.grid(True);\n",
      "\n",
      "pl.subplot(131)\n",
      "plot_nbricks(2, 4)\n",
      "format_plot()\n",
      "\n",
      "pl.subplot(132)\n",
      "plot_nbricks(2, 13)\n",
      "format_plot()\n",
      "\n",
      "pl.subplot(133)\n",
      "plot_nbricks(2, 40)\n",
      "format_plot()"
     ],
     "language": "python",
     "metadata": {},
     "outputs": [
      {
       "metadata": {},
       "output_type": "display_data",
       "png": "[encoded data removed]",
       "text": [
        "<matplotlib.figure.Figure at 0x55e0350>"
       ]
      }
     ],
     "prompt_number": 14
    },
    {
     "cell_type": "markdown",
     "metadata": {},
     "source": [
      "As one can see, the more bricks we stack, the higher the tower gets and the larger vaults we can build by simply stacking these bricks on top of each other. \n",
      "\n",
      "This being said we can now move on to some practical questions."
     ]
    },
    {
     "cell_type": "heading",
     "level": 2,
     "metadata": {},
     "source": [
      "Applying our tools to practical questions"
     ]
    },
    {
     "cell_type": "heading",
     "level": 3,
     "metadata": {},
     "source": [
      "How far can we get?"
     ]
    },
    {
     "cell_type": "markdown",
     "metadata": {},
     "source": [
      "One of the questions we can ask ourselves after having written this is: is there a maximum horizontal distance that we can cross with such a structure of stacked bricks? Or is there a limit that we cannot overcome inside our model? \n",
      "\n",
      "To examine this question, I'll plot the total distance covered as a function of the number of bricks stacked. "
     ]
    },
    {
     "cell_type": "code",
     "collapsed": false,
     "input": [
      "l = 1\n",
      "number_of_bricks = pl.linspace(1, 200, 50, pl.int32)\n",
      "distances = pl.zeros_like(number_of_bricks)\n",
      "for index, n in enumerate(number_of_bricks):\n",
      "    bricks = generate_brick_sequence(l, 1, int(n))\n",
      "    shifts = compute_brick_shifts(bricks)\n",
      "    distances[index] = max(shifts) + l/2."
     ],
     "language": "python",
     "metadata": {},
     "outputs": [],
     "prompt_number": 15
    },
    {
     "cell_type": "code",
     "collapsed": false,
     "input": [
      "pl.plot(number_of_bricks, distances)\n",
      "pl.title(\"distance reached as a function of number of {0} width bricks\".format(l))\n",
      "pl.xlabel('brick unit width (a. u.)')\n",
      "pl.ylabel('distance covered (a. u.)')\n",
      "pl.grid(True)"
     ],
     "language": "python",
     "metadata": {},
     "outputs": [
      {
       "metadata": {},
       "output_type": "display_data",
       "png": "[encoded data removed]",
       "text": [
        "<matplotlib.figure.Figure at 0x58caf30>"
       ]
      }
     ],
     "prompt_number": 16
    },
    {
     "cell_type": "markdown",
     "metadata": {},
     "source": [
      "This looks like a logarithmic function. And it doesn't look like the growth stops at some point (even though, from this small sampling it looks like it slows down a lot).\n",
      "\n",
      "If anyone is interested, I found a reference in [this book](http://www.amazon.fr/physique-tous-jours-Istv%C3%A0n-Berkes/dp/2711771679) that says the growth is unbounded. Therefore you could build this sort of structure to cover any given distance. In practice, this is limited by the accuracy with which you can place your bricks (and also forces other than gravity...)."
     ]
    },
    {
     "cell_type": "heading",
     "level": 3,
     "metadata": {},
     "source": [
      "Dependency on the size of the bricks"
     ]
    },
    {
     "cell_type": "markdown",
     "metadata": {},
     "source": [
      "Another question we can ask of our model: how does the range covered by the vault change if we change the brick width?"
     ]
    },
    {
     "cell_type": "code",
     "collapsed": false,
     "input": [
      "brick_widths = pl.linspace(0.1, 10)\n",
      "distances = pl.zeros_like(brick_widths)\n",
      "for l in brick_widths:\n",
      "    bricks = generate_brick_sequence(l, 1, 100)\n",
      "    distances[brick_widths == l] = max(compute_brick_shifts(bricks)) + l/2."
     ],
     "language": "python",
     "metadata": {},
     "outputs": [],
     "prompt_number": 17
    },
    {
     "cell_type": "code",
     "collapsed": false,
     "input": [
      "pl.plot(brick_widths, distances)\n",
      "pl.xlabel('brick width (distance units)')\n",
      "pl.ylabel('distance units')\n",
      "pl.title('distance covered by stacking 100 bricks as a function of brick width')\n",
      "pl.grid(True)"
     ],
     "language": "python",
     "metadata": {},
     "outputs": [
      {
       "metadata": {},
       "output_type": "display_data",
       "png": "[encoded data removed]",
       "text": [
        "<matplotlib.figure.Figure at 0x559ced0>"
       ]
      }
     ],
     "prompt_number": 18
    },
    {
     "cell_type": "markdown",
     "metadata": {},
     "source": [
      "The relationship seems linear. We can compute the slope of the previous curve:"
     ]
    },
    {
     "cell_type": "code",
     "collapsed": false,
     "input": [
      "(distances[-1] - distances[0])/(10 - 0.1)"
     ],
     "language": "python",
     "metadata": {},
     "outputs": [
      {
       "metadata": {},
       "output_type": "pyout",
       "prompt_number": 19,
       "text": [
        "3.08868875881981"
       ]
      }
     ],
     "prompt_number": 19
    },
    {
     "cell_type": "markdown",
     "metadata": {},
     "source": [
      "If we increase the brick width by one unit, the we will increase the range of 100 stacked bricks of the same width by 3.088 units."
     ]
    },
    {
     "cell_type": "heading",
     "level": 3,
     "metadata": {},
     "source": [
      "Stacking non-uniform sized bricks"
     ]
    },
    {
     "cell_type": "markdown",
     "metadata": {},
     "source": [
      "To finish this post, I'll show how we can stack up arbitrarily shaped bricks. This is one of the nice features of the code we have written so far: it's generic to the point that you can stack bricks of different sizes. \n",
      "\n",
      "First, we write a function that gives back a sequence of arbitrarily shaped bricks."
     ]
    },
    {
     "cell_type": "code",
     "collapsed": false,
     "input": [
      "def generate_random_brick_sequence(n):\n",
      "    return [(pl.rand(1), 0.2) for i in range(n)]"
     ],
     "language": "python",
     "metadata": {},
     "outputs": [],
     "prompt_number": 20
    },
    {
     "cell_type": "markdown",
     "metadata": {},
     "source": [
      "And then we write a function that just generates a sequence of `n` bricks, computes the optimal way to stack them and plots them."
     ]
    },
    {
     "cell_type": "code",
     "collapsed": false,
     "input": [
      "def plot_random_bricks(n):\n",
      "    bricks = generate_random_brick_sequence(n)\n",
      "    shifts =  compute_brick_shifts(bricks)\n",
      "    plot_brick_sequence(bricks, shifts)"
     ],
     "language": "python",
     "metadata": {},
     "outputs": [],
     "prompt_number": 21
    },
    {
     "cell_type": "code",
     "collapsed": false,
     "input": [
      "pl.figure(figsize=(11, 4))\n",
      "format_plot = lambda : pl.xlim(0, 2.5) and pl.ylim(0, 9) and pl.grid(True);\n",
      "\n",
      "pl.subplot(131)\n",
      "plot_random_bricks(40)\n",
      "format_plot()\n",
      "\n",
      "pl.subplot(132)\n",
      "plot_random_bricks(40)\n",
      "format_plot()\n",
      "\n",
      "pl.subplot(133)\n",
      "plot_random_bricks(40)\n",
      "format_plot()"
     ],
     "language": "python",
     "metadata": {},
     "outputs": [
      {
       "metadata": {},
       "output_type": "display_data",
       "png": "[encoded data removed]",
       "text": [
        "<matplotlib.figure.Figure at 0x55cec90>"
       ]
      }
     ],
     "prompt_number": 22
    },
    {
     "cell_type": "markdown",
     "metadata": {},
     "source": [
      "This post was entirely written using the IPython notebook. You can see a static view or download this notebook with the help of nbviewer at [20140808_BricksAndArches.ipynb](http://nbviewer.ipython.org/urls/raw.github.com/flothesof/posts/master/20140808_BricksAndArches.ipynb)."
     ]
    }
   ],
   "metadata": {}
  }
 ]
}