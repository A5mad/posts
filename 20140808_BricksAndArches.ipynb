{
 "metadata": {
  "name": "",
  "signature": "sha256:8b5cc774b2fcd33822be24d5fb16364e79fb948778cabf94718958840fb9eebe"
 },
 "nbformat": 3,
 "nbformat_minor": 0,
 "worksheets": [
  {
   "cells": [
    {
     "cell_type": "code",
     "collapsed": false,
     "input": [
      "%matplotlib inline\n",
      "import pylab as pl\n",
      "from IPython.html.widgets import interact"
     ],
     "language": "python",
     "metadata": {},
     "outputs": [],
     "prompt_number": 1
    },
    {
     "cell_type": "markdown",
     "metadata": {},
     "source": [
      "In this post, we're going to tackle the following problem: \n",
      "\n",
      "> Given a sequence of bricks, what is the best way to stack them on top of each other so as to cover the greatest possible horizontal distance?\n",
      "\n",
      "By \"stack them on top of each other\", we mean two things:\n",
      "\n",
      "- the bricks lie on top of each other (no glue or any kind of support)\n",
      "- they're stable (gravity doesn't make the construction collapse)\n",
      "\n",
      "This problem has some similarity with the Jenga game (see picture below), where players remove blocks of woods from an initially stable pyramid, until it collapses. The collapse happening to Jenga towers is essentially due to gravity: removing one block changes the static properties of the structure and destroys it."
     ]
    },
    {
     "cell_type": "code",
     "collapsed": false,
     "input": [
      "from IPython.display import Image\n",
      "Image(url=\"http://kristinruffin.files.wordpress.com/2014/03/jenga-falling-for-web.jpg\")"
     ],
     "language": "python",
     "metadata": {},
     "outputs": [
      {
       "html": [
        "<img src=\"http://kristinruffin.files.wordpress.com/2014/03/jenga-falling-for-web.jpg\"/>"
       ],
       "metadata": {},
       "output_type": "pyout",
       "prompt_number": 2,
       "text": [
        "<IPython.core.display.Image at 0x395f990>"
       ]
      }
     ],
     "prompt_number": 2
    },
    {
     "cell_type": "markdown",
     "metadata": {},
     "source": [
      "Other examples of this sort of stacking exist. As an example we can cite the [Nubian vault technique](http://en.wikipedia.org/wiki/Nubian_vault), whose key advantage Wikipedia says is the ability to be built \"without any support or shuttering\"."
     ]
    },
    {
     "cell_type": "markdown",
     "metadata": {},
     "source": [
      "This post is comprised of several sections. We first describe our model and data representation of this problem in Python. We then move on to write some graphic functions before designing the meat of this post: the \"stacking algorithm\". Finally, we examine applications of our code."
     ]
    },
    {
     "cell_type": "heading",
     "level": 2,
     "metadata": {},
     "source": [
      "Modelling assumptions"
     ]
    },
    {
     "cell_type": "markdown",
     "metadata": {},
     "source": [
      "In this post, we'll work with \"bricks\" that we will stack. Our modelling assumptions are as follows:\n",
      "\n",
      "- a brick of width $w$ and height $h$ is modelled as tuple $(w, h)$\n",
      "- a sequence of bricks to be stacked in a given order (the first on bottom, the last on top) is modelled as a list of bricks as defined above"
     ]
    },
    {
     "cell_type": "markdown",
     "metadata": {},
     "source": [
      "Next, we're going to write a simple function that generates regular sequences of bricks, much like with Jenga, which will be used in the examples to follow. The function takes as arguments:\n",
      "\n",
      "- the width and height of the brick sequence to be generated\n",
      "- the number of bricks to generate"
     ]
    },
    {
     "cell_type": "code",
     "collapsed": false,
     "input": [
      "def generate_brick_sequence(width, height, n):\n",
      "    return [(width, height) for i in range(n)]"
     ],
     "language": "python",
     "metadata": {},
     "outputs": [],
     "prompt_number": 3
    },
    {
     "cell_type": "markdown",
     "metadata": {},
     "source": [
      "Below, we test the output on an example case, generating a sequence of five bricks with width 3 and height 4:"
     ]
    },
    {
     "cell_type": "code",
     "collapsed": false,
     "input": [
      "generate_brick_sequence(3, 4, 5)"
     ],
     "language": "python",
     "metadata": {},
     "outputs": [
      {
       "metadata": {},
       "output_type": "pyout",
       "prompt_number": 4,
       "text": [
        "[(3, 4), (3, 4), (3, 4), (3, 4), (3, 4)]"
       ]
      }
     ],
     "prompt_number": 4
    },
    {
     "cell_type": "markdown",
     "metadata": {},
     "source": [
      "To continue, we will do two things, that will in time be translated to two functions.\n",
      "\n",
      "- a way of plotting brick sequences \n",
      "- a way to compute how to stack the bricks in a stable way for maximum range given a sequence of bricks as input\n",
      "\n",
      "Among these two things, the first is easy. And fun. So we're starting with that."
     ]
    },
    {
     "cell_type": "heading",
     "level": 2,
     "metadata": {},
     "source": [
      "Plotting brick sequences"
     ]
    },
    {
     "cell_type": "markdown",
     "metadata": {},
     "source": [
      "Below, we write a function that plots bricks using `Rectangles`, a functionality already provided by matplotlib. \n",
      "\n",
      "The way it works is the following. We take inputs made of:\n",
      "\n",
      "- a brick sequence\n",
      "- the horizontal shifts to apply to each brick\n",
      "\n",
      "And then we loop and draw each brick on top of each other, starting with the first one at the bottom and applying the horizontal shift given as an input. To make this function generic, we keep track of the total height, so as to stack bricks exactly above each other."
     ]
    },
    {
     "cell_type": "code",
     "collapsed": false,
     "input": [
      "from matplotlib.patches import Rectangle\n",
      "\n",
      "def plot_brick_sequence(brick_sequence, shifts):\n",
      "    ax = pl.gca()\n",
      "    total_height = 0.\n",
      "    for brick, shift in zip(brick_sequence, shifts):\n",
      "        ax.add_patch(Rectangle((shift, total_height), brick[0], brick[1]))\n",
      "        total_height += brick[1]"
     ],
     "language": "python",
     "metadata": {},
     "outputs": [],
     "prompt_number": 5
    },
    {
     "cell_type": "markdown",
     "metadata": {},
     "source": [
      "We can immediately try our function on an exemple sequence (that I just made up: the stacking is NOT physcally acceptable)."
     ]
    },
    {
     "cell_type": "code",
     "collapsed": false,
     "input": [
      "bricks = [(1, 2), (2, 3), (3, 4)]\n",
      "shifts = [0, 0.5, 2]\n",
      "plot_brick_sequence(bricks, shifts)\n",
      "pl.xlim(0, 10)\n",
      "pl.ylim(0, 10)"
     ],
     "language": "python",
     "metadata": {},
     "outputs": [
      {
       "metadata": {},
       "output_type": "pyout",
       "prompt_number": 6,
       "text": [
        "(0, 10)"
       ]
      },
      {
       "metadata": {},
       "output_type": "display_data",
       "png": "[encoded data removed]",
       "text": [
        "<matplotlib.figure.Figure at 0x549ca30>"
       ]
      }
     ],
     "prompt_number": 6
    },
    {
     "cell_type": "markdown",
     "metadata": {},
     "source": [
      "Now on to the hard part: the \"stacking algorithm\"."
     ]
    },
    {
     "cell_type": "heading",
     "level": 2,
     "metadata": {},
     "source": [
      "Writing a function that computes the stacking"
     ]
    },
    {
     "cell_type": "markdown",
     "metadata": {},
     "source": [
      "How does one write such a stacking function? Answer: this situation is described by static mechanics. \n",
      "\n",
      "Let's assume we have two blocks: a \"top\" and a \"bottom\" block. The horizontal shift for the top block is $x_i$. The forces that apply to the top block are:\n",
      "\n",
      "- gravity, which is proportional to its mass $m_i$\n",
      "- the reaction force due to the bottom block (a contact pressure)\n",
      "\n",
      "In our model, we will assume that the blocks are rigid and thus replace the contact pressure by a point force located at the right most point of the bottom block. This is illustrated by the figure below."
     ]
    },
    {
     "cell_type": "code",
     "collapsed": false,
     "input": [
      "from IPython.display import SVG\n",
      "SVG(filename='files/forces.svg')"
     ],
     "language": "python",
     "metadata": {},
     "outputs": [
      {
       "metadata": {},
       "output_type": "pyout",
       "prompt_number": 7,
       "svg": [
        "<svg height=\"241.47292\" id=\"svg2\" inkscape:version=\"0.48.5 r10040\" sodipodi:docname=\"forces.svg\" version=\"1.1\" width=\"600\" xmlns=\"http://www.w3.org/2000/svg\" xmlns:cc=\"http://creativecommons.org/ns#\" xmlns:dc=\"http://purl.org/dc/elements/1.1/\" xmlns:inkscape=\"http://www.inkscape.org/namespaces/inkscape\" xmlns:osb=\"http://www.openswatchbook.org/uri/2009/osb\" xmlns:rdf=\"http://www.w3.org/1999/02/22-rdf-syntax-ns#\" xmlns:sodipodi=\"http://sodipodi.sourceforge.net/DTD/sodipodi-0.dtd\" xmlns:svg=\"http://www.w3.org/2000/svg\">\n",
        "  <defs id=\"defs4\">\n",
        "    <marker id=\"Arrow1Send\" inkscape:stockid=\"Arrow1Send\" orient=\"auto\" refX=\"0\" refY=\"0\" style=\"overflow:visible\">\n",
        "      <path d=\"M 0,0 5,-5 -12.5,0 5,5 0,0 z\" id=\"path5848\" inkscape:connector-curvature=\"0\" style=\"fill-rule:evenodd;stroke:#000000;stroke-width:1pt\" transform=\"matrix(-0.2,0,0,-0.2,-1.2,0)\"/>\n",
        "    </marker>\n",
        "    <marker id=\"Arrow1Lend\" inkscape:stockid=\"Arrow1Lend\" orient=\"auto\" refX=\"0\" refY=\"0\" style=\"overflow:visible\">\n",
        "      <path d=\"M 0,0 5,-5 -12.5,0 5,5 0,0 z\" id=\"path5836\" inkscape:connector-curvature=\"0\" style=\"fill-rule:evenodd;stroke:#000000;stroke-width:1pt\" transform=\"matrix(-0.8,0,0,-0.8,-10,0)\"/>\n",
        "    </marker>\n",
        "    <linearGradient id=\"linearGradient5621\" osb:paint=\"solid\">\n",
        "      <stop id=\"stop5623\" offset=\"0\" style=\"stop-color:#000000;stop-opacity:1;\"/>\n",
        "    </linearGradient>\n",
        "    <marker id=\"DiamondL\" inkscape:stockid=\"DiamondL\" orient=\"auto\" refX=\"0\" refY=\"0\" style=\"overflow:visible\">\n",
        "      <path d=\"M 0,-7.0710768 -7.0710894,0 0,7.0710589 7.0710462,0 0,-7.0710768 z\" id=\"path3854\" inkscape:connector-curvature=\"0\" style=\"fill-rule:evenodd;stroke:#000000;stroke-width:1pt\" transform=\"scale(0.8,0.8)\"/>\n",
        "    </marker>\n",
        "    <marker id=\"Arrow1Mend\" inkscape:stockid=\"Arrow1Mend\" orient=\"auto\" refX=\"0\" refY=\"0\" style=\"overflow:visible\">\n",
        "      <path d=\"M 0,0 5,-5 -12.5,0 5,5 0,0 z\" id=\"path3784\" inkscape:connector-curvature=\"0\" style=\"fill-rule:evenodd;stroke:#000000;stroke-width:1pt\" transform=\"matrix(-0.4,0,0,-0.4,-4,0)\"/>\n",
        "    </marker>\n",
        "  </defs>\n",
        "  <sodipodi:namedview bordercolor=\"#666666\" borderopacity=\"1.0\" fit-margin-bottom=\"0\" fit-margin-left=\"0\" fit-margin-right=\"0\" fit-margin-top=\"0\" id=\"base\" inkscape:current-layer=\"layer1\" inkscape:cx=\"252.79447\" inkscape:cy=\"99.743976\" inkscape:document-units=\"px\" inkscape:pageopacity=\"0.0\" inkscape:pageshadow=\"2\" inkscape:window-height=\"1138\" inkscape:window-maximized=\"1\" inkscape:window-width=\"1920\" inkscape:window-x=\"-8\" inkscape:window-y=\"-8\" inkscape:zoom=\"1.1335291\" pagecolor=\"#ffffff\" showgrid=\"false\" units=\"px\"/>\n",
        "  <metadata id=\"metadata7\">\n",
        "    <rdf:RDF>\n",
        "      <cc:Work rdf:about=\"\">\n",
        "        <dc:format>image/svg+xml</dc:format>\n",
        "        <dc:type rdf:resource=\"http://purl.org/dc/dcmitype/StillImage\"/>\n",
        "        <dc:title/>\n",
        "      </cc:Work>\n",
        "    </rdf:RDF>\n",
        "  </metadata>\n",
        "  <g id=\"layer1\" inkscape:groupmode=\"layer\" inkscape:label=\"Calque 1\" transform=\"translate(-59.375,-18.245837)\">\n",
        "    <rect height=\"99.129303\" id=\"rect2985\" style=\"fill:#999999;fill-opacity:1;stroke:#000000;stroke-width:1.3424437;stroke-opacity:1\" width=\"156.5199\" x=\"150.45229\" y=\"57.368656\"/>\n",
        "    <rect height=\"101.21624\" id=\"rect2987\" style=\"fill:#f2f2f2;fill-opacity:1;stroke:#000000;stroke-width:1.3424437\" width=\"194.0847\" x=\"60.034828\" y=\"157.84059\"/>\n",
        "    <path d=\"m 228.7643,110.95005 0,29.7978\" id=\"path3769\" inkscape:connector-curvature=\"0\" style=\"fill:none;stroke:#000000;stroke-width:1.5468483;stroke-linecap:butt;stroke-linejoin:miter;stroke-miterlimit:4;stroke-opacity:1;stroke-dasharray:none;marker-end:url(#Arrow1Mend)\"/>\n",
        "    <path d=\"m 227.72708,302.12265 c 0,1.76999 -1.43486,3.20484 -3.20485,3.20484 -1.76998,0 -3.20484,-1.43485 -3.20484,-3.20484 0,-1.76999 1.43486,-3.20484 3.20484,-3.20484 1.76999,0 3.20485,1.43485 3.20485,3.20484 z\" id=\"path3803\" sodipodi:cx=\"224.52223\" sodipodi:cy=\"302.12265\" sodipodi:rx=\"3.204843\" sodipodi:ry=\"3.204843\" sodipodi:type=\"arc\" style=\"fill:#000000;fill-opacity:1;fill-rule:nonzero;stroke:none\" transform=\"matrix(0.48935435,0,0,0.48935435,118.84131,-40.911706)\"/>\n",
        "    <text id=\"text3813\" sodipodi:linespacing=\"125%\" style=\"font-size:17.27594566px;font-style:normal;font-variant:normal;font-weight:normal;font-stretch:normal;line-height:125%;letter-spacing:0px;word-spacing:0px;fill:#000000;fill-opacity:1;stroke:none;font-family:Arial;-inkscape-font-specification:Arial\" x=\"96.567276\" xml:space=\"preserve\" y=\"89.542725\"><tspan id=\"tspan3815\" sodipodi:role=\"line\" style=\"font-style:normal;font-variant:normal;font-weight:normal;font-stretch:normal;font-family:Garamond;-inkscape-font-specification:Garamond\" x=\"96.567276\" y=\"89.542725\">center of gravity</tspan></text>\n",
        "    <g id=\"g3817\" transform=\"matrix(-0.35518955,0,0,0.1902307,341.22856,91.796477)\">\n",
        "      <g id=\"g3819\" transform=\"translate(-0.54962603,1.9236911)\">\n",
        "        <path d=\"m 254.21875,290.84375 0,51.40625 1.59375,0 0,-51.40625 -1.59375,0 z\" id=\"path3821\" inkscape:connector-curvature=\"0\" style=\"font-size:medium;font-style:normal;font-variant:normal;font-weight:normal;font-stretch:normal;text-indent:0;text-align:start;text-decoration:none;line-height:normal;letter-spacing:normal;word-spacing:normal;text-transform:none;direction:ltr;block-progression:tb;writing-mode:lr-tb;text-anchor:start;baseline-shift:baseline;color:#000000;fill:#ff0000;fill-opacity:1;fill-rule:nonzero;stroke:none;stroke-width:1.60000002;marker:none;visibility:visible;display:inline;overflow:visible;enable-background:accumulate;font-family:Sans;-inkscape-font-specification:Sans\"/>\n",
        "        <path d=\"m 255.02648,297.2553 3.2,3.2 -3.2,-11.2 -3.2,11.2 3.2,-3.2 z\" id=\"path3823\" inkscape:connector-curvature=\"0\" style=\"fill:#ff0000;fill-rule:evenodd;stroke:#ff0000;stroke-width:0.64000001pt\"/>\n",
        "      </g>\n",
        "    </g>\n",
        "    <g id=\"g3825\" transform=\"matrix(-0.35518955,0,0,0.1902307,284.16183,91.796477)\">\n",
        "      <g id=\"g3827\" transform=\"translate(-0.54962603,1.9236911)\">\n",
        "        <path d=\"m 254.21875,290.84375 0,51.40625 1.59375,0 0,-51.40625 -1.59375,0 z\" id=\"path3829\" inkscape:connector-curvature=\"0\" style=\"font-size:medium;font-style:normal;font-variant:normal;font-weight:normal;font-stretch:normal;text-indent:0;text-align:start;text-decoration:none;line-height:normal;letter-spacing:normal;word-spacing:normal;text-transform:none;direction:ltr;block-progression:tb;writing-mode:lr-tb;text-anchor:start;baseline-shift:baseline;color:#000000;fill:#ff0000;fill-opacity:1;fill-rule:nonzero;stroke:none;stroke-width:1.60000002;marker:none;visibility:visible;display:inline;overflow:visible;enable-background:accumulate;font-family:Sans;-inkscape-font-specification:Sans\"/>\n",
        "        <path d=\"m 255.02648,297.2553 3.2,3.2 -3.2,-11.2 -3.2,11.2 3.2,-3.2 z\" id=\"path3831\" inkscape:connector-curvature=\"0\" style=\"fill:#ff0000;fill-rule:evenodd;stroke:#ff0000;stroke-width:0.64000001pt\"/>\n",
        "      </g>\n",
        "    </g>\n",
        "    <g id=\"g3833\" transform=\"matrix(-0.35518955,0,0,0.1902307,261.83135,91.796477)\">\n",
        "      <g id=\"g3835\" transform=\"translate(-0.54962603,1.9236911)\">\n",
        "        <path d=\"m 254.21875,290.84375 0,51.40625 1.59375,0 0,-51.40625 -1.59375,0 z\" id=\"path3837\" inkscape:connector-curvature=\"0\" style=\"font-size:medium;font-style:normal;font-variant:normal;font-weight:normal;font-stretch:normal;text-indent:0;text-align:start;text-decoration:none;line-height:normal;letter-spacing:normal;word-spacing:normal;text-transform:none;direction:ltr;block-progression:tb;writing-mode:lr-tb;text-anchor:start;baseline-shift:baseline;color:#000000;fill:#ff0000;fill-opacity:1;fill-rule:nonzero;stroke:none;stroke-width:1.60000002;marker:none;visibility:visible;display:inline;overflow:visible;enable-background:accumulate;font-family:Sans;-inkscape-font-specification:Sans\"/>\n",
        "        <path d=\"m 255.02648,297.2553 3.2,3.2 -3.2,-11.2 -3.2,11.2 3.2,-3.2 z\" id=\"path3839\" inkscape:connector-curvature=\"0\" style=\"fill:#ff0000;fill-rule:evenodd;stroke:#ff0000;stroke-width:0.64000001pt\"/>\n",
        "      </g>\n",
        "    </g>\n",
        "    <g id=\"g3841\" transform=\"matrix(-0.35518955,0,0,0.1902307,336.26626,91.796477)\">\n",
        "      <g id=\"g3843\" transform=\"translate(-0.54962603,1.9236911)\">\n",
        "        <path d=\"m 254.21875,290.84375 0,51.40625 1.59375,0 0,-51.40625 -1.59375,0 z\" id=\"path3845\" inkscape:connector-curvature=\"0\" style=\"font-size:medium;font-style:normal;font-variant:normal;font-weight:normal;font-stretch:normal;text-indent:0;text-align:start;text-decoration:none;line-height:normal;letter-spacing:normal;word-spacing:normal;text-transform:none;direction:ltr;block-progression:tb;writing-mode:lr-tb;text-anchor:start;baseline-shift:baseline;color:#000000;fill:#ff0000;fill-opacity:1;fill-rule:nonzero;stroke:none;stroke-width:1.60000002;marker:none;visibility:visible;display:inline;overflow:visible;enable-background:accumulate;font-family:Sans;-inkscape-font-specification:Sans\"/>\n",
        "        <path d=\"m 255.02648,297.2553 3.2,3.2 -3.2,-11.2 -3.2,11.2 3.2,-3.2 z\" id=\"path3847\" inkscape:connector-curvature=\"0\" style=\"fill:#ff0000;fill-rule:evenodd;stroke:#ff0000;stroke-width:0.64000001pt\"/>\n",
        "      </g>\n",
        "    </g>\n",
        "    <g id=\"g3849\" transform=\"matrix(-0.35518955,0,0,0.1902307,304.01115,91.796477)\">\n",
        "      <g id=\"g3851\" transform=\"translate(-0.54962603,1.9236911)\">\n",
        "        <path d=\"m 254.21875,290.84375 0,51.40625 1.59375,0 0,-51.40625 -1.59375,0 z\" id=\"path3853\" inkscape:connector-curvature=\"0\" style=\"font-size:medium;font-style:normal;font-variant:normal;font-weight:normal;font-stretch:normal;text-indent:0;text-align:start;text-decoration:none;line-height:normal;letter-spacing:normal;word-spacing:normal;text-transform:none;direction:ltr;block-progression:tb;writing-mode:lr-tb;text-anchor:start;baseline-shift:baseline;color:#000000;fill:#ff0000;fill-opacity:1;fill-rule:nonzero;stroke:none;stroke-width:1.60000002;marker:none;visibility:visible;display:inline;overflow:visible;enable-background:accumulate;font-family:Sans;-inkscape-font-specification:Sans\"/>\n",
        "        <path d=\"m 255.02648,297.2553 3.2,3.2 -3.2,-11.2 -3.2,11.2 3.2,-3.2 z\" id=\"path3855\" inkscape:connector-curvature=\"0\" style=\"fill:#ff0000;fill-rule:evenodd;stroke:#ff0000;stroke-width:0.64000001pt\"/>\n",
        "      </g>\n",
        "    </g>\n",
        "    <g id=\"g3857\" transform=\"matrix(-0.35518955,0,0,0.1902307,246.94436,91.796477)\">\n",
        "      <g id=\"g3859\" transform=\"translate(-0.54962603,1.9236911)\">\n",
        "        <path d=\"m 254.21875,290.84375 0,51.40625 1.59375,0 0,-51.40625 -1.59375,0 z\" id=\"path3861\" inkscape:connector-curvature=\"0\" style=\"font-size:medium;font-style:normal;font-variant:normal;font-weight:normal;font-stretch:normal;text-indent:0;text-align:start;text-decoration:none;line-height:normal;letter-spacing:normal;word-spacing:normal;text-transform:none;direction:ltr;block-progression:tb;writing-mode:lr-tb;text-anchor:start;baseline-shift:baseline;color:#000000;fill:#ff0000;fill-opacity:1;fill-rule:nonzero;stroke:none;stroke-width:1.60000002;marker:none;visibility:visible;display:inline;overflow:visible;enable-background:accumulate;font-family:Sans;-inkscape-font-specification:Sans\"/>\n",
        "        <path d=\"m 255.02648,297.2553 3.2,3.2 -3.2,-11.2 -3.2,11.2 3.2,-3.2 z\" id=\"path3863\" inkscape:connector-curvature=\"0\" style=\"fill:#ff0000;fill-rule:evenodd;stroke:#ff0000;stroke-width:0.64000001pt\"/>\n",
        "      </g>\n",
        "    </g>\n",
        "    <g id=\"g3865\" transform=\"matrix(-0.35518955,0,0,0.1902307,316.41695,91.796477)\">\n",
        "      <g id=\"g3867\" transform=\"translate(-0.54962603,1.9236911)\">\n",
        "        <path d=\"m 254.21875,290.84375 0,51.40625 1.59375,0 0,-51.40625 -1.59375,0 z\" id=\"path3869\" inkscape:connector-curvature=\"0\" style=\"font-size:medium;font-style:normal;font-variant:normal;font-weight:normal;font-stretch:normal;text-indent:0;text-align:start;text-decoration:none;line-height:normal;letter-spacing:normal;word-spacing:normal;text-transform:none;direction:ltr;block-progression:tb;writing-mode:lr-tb;text-anchor:start;baseline-shift:baseline;color:#000000;fill:#ff0000;fill-opacity:1;fill-rule:nonzero;stroke:none;stroke-width:1.60000002;marker:none;visibility:visible;display:inline;overflow:visible;enable-background:accumulate;font-family:Sans;-inkscape-font-specification:Sans\"/>\n",
        "        <path d=\"m 255.02648,297.2553 3.2,3.2 -3.2,-11.2 -3.2,11.2 3.2,-3.2 z\" id=\"path3871\" inkscape:connector-curvature=\"0\" style=\"fill:#ff0000;fill-rule:evenodd;stroke:#ff0000;stroke-width:0.64000001pt\"/>\n",
        "      </g>\n",
        "    </g>\n",
        "    <g id=\"g3873\" transform=\"matrix(-0.35518955,0,0,0.1902307,291.60525,91.796477)\">\n",
        "      <g id=\"g3875\" transform=\"translate(-0.54962603,1.9236911)\">\n",
        "        <path d=\"m 254.21875,290.84375 0,51.40625 1.59375,0 0,-51.40625 -1.59375,0 z\" id=\"path3877\" inkscape:connector-curvature=\"0\" style=\"font-size:medium;font-style:normal;font-variant:normal;font-weight:normal;font-stretch:normal;text-indent:0;text-align:start;text-decoration:none;line-height:normal;letter-spacing:normal;word-spacing:normal;text-transform:none;direction:ltr;block-progression:tb;writing-mode:lr-tb;text-anchor:start;baseline-shift:baseline;color:#000000;fill:#ff0000;fill-opacity:1;fill-rule:nonzero;stroke:none;stroke-width:1.60000002;marker:none;visibility:visible;display:inline;overflow:visible;enable-background:accumulate;font-family:Sans;-inkscape-font-specification:Sans\"/>\n",
        "        <path d=\"m 255.02648,297.2553 3.2,3.2 -3.2,-11.2 -3.2,11.2 3.2,-3.2 z\" id=\"path3879\" inkscape:connector-curvature=\"0\" style=\"fill:#ff0000;fill-rule:evenodd;stroke:#ff0000;stroke-width:0.64000001pt\"/>\n",
        "      </g>\n",
        "    </g>\n",
        "    <g id=\"g3881\" transform=\"matrix(-0.35518955,0,0,0.1902307,274.23713,91.796477)\">\n",
        "      <g id=\"g3883\" transform=\"translate(-0.54962603,1.9236911)\">\n",
        "        <path d=\"m 254.21875,290.84375 0,51.40625 1.59375,0 0,-51.40625 -1.59375,0 z\" id=\"path3885\" inkscape:connector-curvature=\"0\" style=\"font-size:medium;font-style:normal;font-variant:normal;font-weight:normal;font-stretch:normal;text-indent:0;text-align:start;text-decoration:none;line-height:normal;letter-spacing:normal;word-spacing:normal;text-transform:none;direction:ltr;block-progression:tb;writing-mode:lr-tb;text-anchor:start;baseline-shift:baseline;color:#000000;fill:#ff0000;fill-opacity:1;fill-rule:nonzero;stroke:none;stroke-width:1.60000002;marker:none;visibility:visible;display:inline;overflow:visible;enable-background:accumulate;font-family:Sans;-inkscape-font-specification:Sans\"/>\n",
        "        <path d=\"m 255.02648,297.2553 3.2,3.2 -3.2,-11.2 -3.2,11.2 3.2,-3.2 z\" id=\"path3887\" inkscape:connector-curvature=\"0\" style=\"fill:#ff0000;fill-rule:evenodd;stroke:#ff0000;stroke-width:0.64000001pt\"/>\n",
        "      </g>\n",
        "    </g>\n",
        "    <g id=\"g3889\" transform=\"matrix(-0.35518955,0,0,0.1902307,343.70979,91.796477)\">\n",
        "      <g id=\"g3891\" transform=\"translate(-0.54962603,1.9236911)\">\n",
        "        <path d=\"m 254.21875,290.84375 0,51.40625 1.59375,0 0,-51.40625 -1.59375,0 z\" id=\"path3893\" inkscape:connector-curvature=\"0\" style=\"font-size:medium;font-style:normal;font-variant:normal;font-weight:normal;font-stretch:normal;text-indent:0;text-align:start;text-decoration:none;line-height:normal;letter-spacing:normal;word-spacing:normal;text-transform:none;direction:ltr;block-progression:tb;writing-mode:lr-tb;text-anchor:start;baseline-shift:baseline;color:#000000;fill:#ff0000;fill-opacity:1;fill-rule:nonzero;stroke:none;stroke-width:1.60000002;marker:none;visibility:visible;display:inline;overflow:visible;enable-background:accumulate;font-family:Sans;-inkscape-font-specification:Sans\"/>\n",
        "        <path d=\"m 255.02648,297.2553 3.2,3.2 -3.2,-11.2 -3.2,11.2 3.2,-3.2 z\" id=\"path3895\" inkscape:connector-curvature=\"0\" style=\"fill:#ff0000;fill-rule:evenodd;stroke:#ff0000;stroke-width:0.64000001pt\"/>\n",
        "      </g>\n",
        "    </g>\n",
        "    <g id=\"g3897\" transform=\"matrix(-0.35518955,0,0,0.1902307,281.68063,91.796477)\">\n",
        "      <g id=\"g3899\" transform=\"translate(-0.54962603,1.9236911)\">\n",
        "        <path d=\"m 254.21875,290.84375 0,51.40625 1.59375,0 0,-51.40625 -1.59375,0 z\" id=\"path3901\" inkscape:connector-curvature=\"0\" style=\"font-size:medium;font-style:normal;font-variant:normal;font-weight:normal;font-stretch:normal;text-indent:0;text-align:start;text-decoration:none;line-height:normal;letter-spacing:normal;word-spacing:normal;text-transform:none;direction:ltr;block-progression:tb;writing-mode:lr-tb;text-anchor:start;baseline-shift:baseline;color:#000000;fill:#ff0000;fill-opacity:1;fill-rule:nonzero;stroke:none;stroke-width:1.60000002;marker:none;visibility:visible;display:inline;overflow:visible;enable-background:accumulate;font-family:Sans;-inkscape-font-specification:Sans\"/>\n",
        "        <path d=\"m 255.02648,297.2553 3.2,3.2 -3.2,-11.2 -3.2,11.2 3.2,-3.2 z\" id=\"path3903\" inkscape:connector-curvature=\"0\" style=\"fill:#ff0000;fill-rule:evenodd;stroke:#ff0000;stroke-width:0.64000001pt\"/>\n",
        "      </g>\n",
        "    </g>\n",
        "    <g id=\"g3905\" transform=\"matrix(-0.35518955,0,0,0.1902307,254.38784,91.796477)\">\n",
        "      <g id=\"g3907\" transform=\"translate(-0.54962603,1.9236911)\">\n",
        "        <path d=\"m 254.21875,290.84375 0,51.40625 1.59375,0 0,-51.40625 -1.59375,0 z\" id=\"path3909\" inkscape:connector-curvature=\"0\" style=\"font-size:medium;font-style:normal;font-variant:normal;font-weight:normal;font-stretch:normal;text-indent:0;text-align:start;text-decoration:none;line-height:normal;letter-spacing:normal;word-spacing:normal;text-transform:none;direction:ltr;block-progression:tb;writing-mode:lr-tb;text-anchor:start;baseline-shift:baseline;color:#000000;fill:#ff0000;fill-opacity:1;fill-rule:nonzero;stroke:none;stroke-width:1.60000002;marker:none;visibility:visible;display:inline;overflow:visible;enable-background:accumulate;font-family:Sans;-inkscape-font-specification:Sans\"/>\n",
        "        <path d=\"m 255.02648,297.2553 3.2,3.2 -3.2,-11.2 -3.2,11.2 3.2,-3.2 z\" id=\"path3911\" inkscape:connector-curvature=\"0\" style=\"fill:#ff0000;fill-rule:evenodd;stroke:#ff0000;stroke-width:0.64000001pt\"/>\n",
        "      </g>\n",
        "    </g>\n",
        "    <g id=\"g3913\" transform=\"matrix(-0.35518955,0,0,0.1902307,333.7851,91.796477)\">\n",
        "      <g id=\"g3915\" transform=\"translate(-0.54962603,1.9236911)\">\n",
        "        <path d=\"m 254.21875,290.84375 0,51.40625 1.59375,0 0,-51.40625 -1.59375,0 z\" id=\"path3917\" inkscape:connector-curvature=\"0\" style=\"font-size:medium;font-style:normal;font-variant:normal;font-weight:normal;font-stretch:normal;text-indent:0;text-align:start;text-decoration:none;line-height:normal;letter-spacing:normal;word-spacing:normal;text-transform:none;direction:ltr;block-progression:tb;writing-mode:lr-tb;text-anchor:start;baseline-shift:baseline;color:#000000;fill:#ff0000;fill-opacity:1;fill-rule:nonzero;stroke:none;stroke-width:1.60000002;marker:none;visibility:visible;display:inline;overflow:visible;enable-background:accumulate;font-family:Sans;-inkscape-font-specification:Sans\"/>\n",
        "        <path d=\"m 255.02648,297.2553 3.2,3.2 -3.2,-11.2 -3.2,11.2 3.2,-3.2 z\" id=\"path3919\" inkscape:connector-curvature=\"0\" style=\"fill:#ff0000;fill-rule:evenodd;stroke:#ff0000;stroke-width:0.64000001pt\"/>\n",
        "      </g>\n",
        "    </g>\n",
        "    <g id=\"g3921\" transform=\"matrix(-0.35518955,0,0,0.1902307,308.97344,91.796477)\">\n",
        "      <g id=\"g3923\" transform=\"translate(-0.54962603,1.9236911)\">\n",
        "        <path d=\"m 254.21875,290.84375 0,51.40625 1.59375,0 0,-51.40625 -1.59375,0 z\" id=\"path3925\" inkscape:connector-curvature=\"0\" style=\"font-size:medium;font-style:normal;font-variant:normal;font-weight:normal;font-stretch:normal;text-indent:0;text-align:start;text-decoration:none;line-height:normal;letter-spacing:normal;word-spacing:normal;text-transform:none;direction:ltr;block-progression:tb;writing-mode:lr-tb;text-anchor:start;baseline-shift:baseline;color:#000000;fill:#ff0000;fill-opacity:1;fill-rule:nonzero;stroke:none;stroke-width:1.60000002;marker:none;visibility:visible;display:inline;overflow:visible;enable-background:accumulate;font-family:Sans;-inkscape-font-specification:Sans\"/>\n",
        "        <path d=\"m 255.02648,297.2553 3.2,3.2 -3.2,-11.2 -3.2,11.2 3.2,-3.2 z\" id=\"path3927\" inkscape:connector-curvature=\"0\" style=\"fill:#ff0000;fill-rule:evenodd;stroke:#ff0000;stroke-width:0.64000001pt\"/>\n",
        "      </g>\n",
        "    </g>\n",
        "    <g id=\"g3929\" transform=\"matrix(-0.35518955,0,0,0.1902307,244.46318,91.796477)\">\n",
        "      <g id=\"g3931\" transform=\"translate(-0.54962603,1.9236911)\">\n",
        "        <path d=\"m 254.21875,290.84375 0,51.40625 1.59375,0 0,-51.40625 -1.59375,0 z\" id=\"path3933\" inkscape:connector-curvature=\"0\" style=\"font-size:medium;font-style:normal;font-variant:normal;font-weight:normal;font-stretch:normal;text-indent:0;text-align:start;text-decoration:none;line-height:normal;letter-spacing:normal;word-spacing:normal;text-transform:none;direction:ltr;block-progression:tb;writing-mode:lr-tb;text-anchor:start;baseline-shift:baseline;color:#000000;fill:#ff0000;fill-opacity:1;fill-rule:nonzero;stroke:none;stroke-width:1.60000002;marker:none;visibility:visible;display:inline;overflow:visible;enable-background:accumulate;font-family:Sans;-inkscape-font-specification:Sans\"/>\n",
        "        <path d=\"m 255.02648,297.2553 3.2,3.2 -3.2,-11.2 -3.2,11.2 3.2,-3.2 z\" id=\"path3935\" inkscape:connector-curvature=\"0\" style=\"fill:#ff0000;fill-rule:evenodd;stroke:#ff0000;stroke-width:0.64000001pt\"/>\n",
        "      </g>\n",
        "    </g>\n",
        "    <g id=\"g3937\" transform=\"matrix(-0.35518955,0,0,0.1902307,321.37927,91.796477)\">\n",
        "      <g id=\"g3939\" transform=\"translate(-0.54962603,1.9236911)\">\n",
        "        <path d=\"m 254.21875,290.84375 0,51.40625 1.59375,0 0,-51.40625 -1.59375,0 z\" id=\"path3941\" inkscape:connector-curvature=\"0\" style=\"font-size:medium;font-style:normal;font-variant:normal;font-weight:normal;font-stretch:normal;text-indent:0;text-align:start;text-decoration:none;line-height:normal;letter-spacing:normal;word-spacing:normal;text-transform:none;direction:ltr;block-progression:tb;writing-mode:lr-tb;text-anchor:start;baseline-shift:baseline;color:#000000;fill:#ff0000;fill-opacity:1;fill-rule:nonzero;stroke:none;stroke-width:1.60000002;marker:none;visibility:visible;display:inline;overflow:visible;enable-background:accumulate;font-family:Sans;-inkscape-font-specification:Sans\"/>\n",
        "        <path d=\"m 255.02648,297.2553 3.2,3.2 -3.2,-11.2 -3.2,11.2 3.2,-3.2 z\" id=\"path3943\" inkscape:connector-curvature=\"0\" style=\"fill:#ff0000;fill-rule:evenodd;stroke:#ff0000;stroke-width:0.64000001pt\"/>\n",
        "      </g>\n",
        "    </g>\n",
        "    <g id=\"g3945\" transform=\"matrix(-0.35518955,0,0,0.1902307,299.04882,91.796477)\">\n",
        "      <g id=\"g3947\" transform=\"translate(-0.54962603,1.9236911)\">\n",
        "        <path d=\"m 254.21875,290.84375 0,51.40625 1.59375,0 0,-51.40625 -1.59375,0 z\" id=\"path3949\" inkscape:connector-curvature=\"0\" style=\"font-size:medium;font-style:normal;font-variant:normal;font-weight:normal;font-stretch:normal;text-indent:0;text-align:start;text-decoration:none;line-height:normal;letter-spacing:normal;word-spacing:normal;text-transform:none;direction:ltr;block-progression:tb;writing-mode:lr-tb;text-anchor:start;baseline-shift:baseline;color:#000000;fill:#ff0000;fill-opacity:1;fill-rule:nonzero;stroke:none;stroke-width:1.60000002;marker:none;visibility:visible;display:inline;overflow:visible;enable-background:accumulate;font-family:Sans;-inkscape-font-specification:Sans\"/>\n",
        "        <path d=\"m 255.02648,297.2553 3.2,3.2 -3.2,-11.2 -3.2,11.2 3.2,-3.2 z\" id=\"path3951\" inkscape:connector-curvature=\"0\" style=\"fill:#ff0000;fill-rule:evenodd;stroke:#ff0000;stroke-width:0.64000001pt\"/>\n",
        "      </g>\n",
        "    </g>\n",
        "    <g id=\"g3953\" transform=\"matrix(-0.35518955,0,0,0.1902307,271.75601,91.796477)\">\n",
        "      <g id=\"g3955\" transform=\"translate(-0.54962603,1.9236911)\">\n",
        "        <path d=\"m 254.21875,290.84375 0,51.40625 1.59375,0 0,-51.40625 -1.59375,0 z\" id=\"path3957\" inkscape:connector-curvature=\"0\" style=\"font-size:medium;font-style:normal;font-variant:normal;font-weight:normal;font-stretch:normal;text-indent:0;text-align:start;text-decoration:none;line-height:normal;letter-spacing:normal;word-spacing:normal;text-transform:none;direction:ltr;block-progression:tb;writing-mode:lr-tb;text-anchor:start;baseline-shift:baseline;color:#000000;fill:#ff0000;fill-opacity:1;fill-rule:nonzero;stroke:none;stroke-width:1.60000002;marker:none;visibility:visible;display:inline;overflow:visible;enable-background:accumulate;font-family:Sans;-inkscape-font-specification:Sans\"/>\n",
        "        <path d=\"m 255.02648,297.2553 3.2,3.2 -3.2,-11.2 -3.2,11.2 3.2,-3.2 z\" id=\"path3959\" inkscape:connector-curvature=\"0\" style=\"fill:#ff0000;fill-rule:evenodd;stroke:#ff0000;stroke-width:0.64000001pt\"/>\n",
        "      </g>\n",
        "    </g>\n",
        "    <g id=\"g3969\" transform=\"matrix(-0.35518955,0,0,0.1902307,279.19952,91.796477)\">\n",
        "      <g id=\"g3971\" transform=\"translate(-0.54962603,1.9236911)\">\n",
        "        <path d=\"m 254.21875,290.84375 0,51.40625 1.59375,0 0,-51.40625 -1.59375,0 z\" id=\"path3973\" inkscape:connector-curvature=\"0\" style=\"font-size:medium;font-style:normal;font-variant:normal;font-weight:normal;font-stretch:normal;text-indent:0;text-align:start;text-decoration:none;line-height:normal;letter-spacing:normal;word-spacing:normal;text-transform:none;direction:ltr;block-progression:tb;writing-mode:lr-tb;text-anchor:start;baseline-shift:baseline;color:#000000;fill:#ff0000;fill-opacity:1;fill-rule:nonzero;stroke:none;stroke-width:1.60000002;marker:none;visibility:visible;display:inline;overflow:visible;enable-background:accumulate;font-family:Sans;-inkscape-font-specification:Sans\"/>\n",
        "        <path d=\"m 255.02648,297.2553 3.2,3.2 -3.2,-11.2 -3.2,11.2 3.2,-3.2 z\" id=\"path3975\" inkscape:connector-curvature=\"0\" style=\"fill:#ff0000;fill-rule:evenodd;stroke:#ff0000;stroke-width:0.64000001pt\"/>\n",
        "      </g>\n",
        "    </g>\n",
        "    <g id=\"g3977\" transform=\"matrix(-0.35518955,0,0,0.1902307,256.86904,91.796477)\">\n",
        "      <g id=\"g3979\" transform=\"translate(-0.54962603,1.9236911)\">\n",
        "        <path d=\"m 254.21875,290.84375 0,51.40625 1.59375,0 0,-51.40625 -1.59375,0 z\" id=\"path3981\" inkscape:connector-curvature=\"0\" style=\"font-size:medium;font-style:normal;font-variant:normal;font-weight:normal;font-stretch:normal;text-indent:0;text-align:start;text-decoration:none;line-height:normal;letter-spacing:normal;word-spacing:normal;text-transform:none;direction:ltr;block-progression:tb;writing-mode:lr-tb;text-anchor:start;baseline-shift:baseline;color:#000000;fill:#ff0000;fill-opacity:1;fill-rule:nonzero;stroke:none;stroke-width:1.60000002;marker:none;visibility:visible;display:inline;overflow:visible;enable-background:accumulate;font-family:Sans;-inkscape-font-specification:Sans\"/>\n",
        "        <path d=\"m 255.02648,297.2553 3.2,3.2 -3.2,-11.2 -3.2,11.2 3.2,-3.2 z\" id=\"path3983\" inkscape:connector-curvature=\"0\" style=\"fill:#ff0000;fill-rule:evenodd;stroke:#ff0000;stroke-width:0.64000001pt\"/>\n",
        "      </g>\n",
        "    </g>\n",
        "    <g id=\"g3985\" transform=\"matrix(-0.35518955,0,0,0.1902307,328.82279,91.796477)\">\n",
        "      <g id=\"g3987\" transform=\"translate(-0.54962603,1.9236911)\">\n",
        "        <path d=\"m 254.21875,290.84375 0,51.40625 1.59375,0 0,-51.40625 -1.59375,0 z\" id=\"path3989\" inkscape:connector-curvature=\"0\" style=\"font-size:medium;font-style:normal;font-variant:normal;font-weight:normal;font-stretch:normal;text-indent:0;text-align:start;text-decoration:none;line-height:normal;letter-spacing:normal;word-spacing:normal;text-transform:none;direction:ltr;block-progression:tb;writing-mode:lr-tb;text-anchor:start;baseline-shift:baseline;color:#000000;fill:#ff0000;fill-opacity:1;fill-rule:nonzero;stroke:none;stroke-width:1.60000002;marker:none;visibility:visible;display:inline;overflow:visible;enable-background:accumulate;font-family:Sans;-inkscape-font-specification:Sans\"/>\n",
        "        <path d=\"m 255.02648,297.2553 3.2,3.2 -3.2,-11.2 -3.2,11.2 3.2,-3.2 z\" id=\"path3991\" inkscape:connector-curvature=\"0\" style=\"fill:#ff0000;fill-rule:evenodd;stroke:#ff0000;stroke-width:0.64000001pt\"/>\n",
        "      </g>\n",
        "    </g>\n",
        "    <g id=\"g3993\" transform=\"matrix(-0.35518955,0,0,0.1902307,306.49229,91.796477)\">\n",
        "      <g id=\"g3995\" transform=\"translate(-0.54962603,1.9236911)\">\n",
        "        <path d=\"m 254.21875,290.84375 0,51.40625 1.59375,0 0,-51.40625 -1.59375,0 z\" id=\"path3997\" inkscape:connector-curvature=\"0\" style=\"font-size:medium;font-style:normal;font-variant:normal;font-weight:normal;font-stretch:normal;text-indent:0;text-align:start;text-decoration:none;line-height:normal;letter-spacing:normal;word-spacing:normal;text-transform:none;direction:ltr;block-progression:tb;writing-mode:lr-tb;text-anchor:start;baseline-shift:baseline;color:#000000;fill:#ff0000;fill-opacity:1;fill-rule:nonzero;stroke:none;stroke-width:1.60000002;marker:none;visibility:visible;display:inline;overflow:visible;enable-background:accumulate;font-family:Sans;-inkscape-font-specification:Sans\"/>\n",
        "        <path d=\"m 255.02648,297.2553 3.2,3.2 -3.2,-11.2 -3.2,11.2 3.2,-3.2 z\" id=\"path3999\" inkscape:connector-curvature=\"0\" style=\"fill:#ff0000;fill-rule:evenodd;stroke:#ff0000;stroke-width:0.64000001pt\"/>\n",
        "      </g>\n",
        "    </g>\n",
        "    <g id=\"g4001\" transform=\"matrix(-0.35518955,0,0,0.1902307,249.42552,91.796477)\">\n",
        "      <g id=\"g4003\" transform=\"translate(-0.54962603,1.9236911)\">\n",
        "        <path d=\"m 254.21875,290.84375 0,51.40625 1.59375,0 0,-51.40625 -1.59375,0 z\" id=\"path4005\" inkscape:connector-curvature=\"0\" style=\"font-size:medium;font-style:normal;font-variant:normal;font-weight:normal;font-stretch:normal;text-indent:0;text-align:start;text-decoration:none;line-height:normal;letter-spacing:normal;word-spacing:normal;text-transform:none;direction:ltr;block-progression:tb;writing-mode:lr-tb;text-anchor:start;baseline-shift:baseline;color:#000000;fill:#ff0000;fill-opacity:1;fill-rule:nonzero;stroke:none;stroke-width:1.60000002;marker:none;visibility:visible;display:inline;overflow:visible;enable-background:accumulate;font-family:Sans;-inkscape-font-specification:Sans\"/>\n",
        "        <path d=\"m 255.02648,297.2553 3.2,3.2 -3.2,-11.2 -3.2,11.2 3.2,-3.2 z\" id=\"path4007\" inkscape:connector-curvature=\"0\" style=\"fill:#ff0000;fill-rule:evenodd;stroke:#ff0000;stroke-width:0.64000001pt\"/>\n",
        "      </g>\n",
        "    </g>\n",
        "    <g id=\"g4009\" transform=\"matrix(-0.35518955,0,0,0.1902307,318.89808,91.796477)\">\n",
        "      <g id=\"g4011\" transform=\"translate(-0.54962603,1.9236911)\">\n",
        "        <path d=\"m 254.21875,290.84375 0,51.40625 1.59375,0 0,-51.40625 -1.59375,0 z\" id=\"path4013\" inkscape:connector-curvature=\"0\" style=\"font-size:medium;font-style:normal;font-variant:normal;font-weight:normal;font-stretch:normal;text-indent:0;text-align:start;text-decoration:none;line-height:normal;letter-spacing:normal;word-spacing:normal;text-transform:none;direction:ltr;block-progression:tb;writing-mode:lr-tb;text-anchor:start;baseline-shift:baseline;color:#000000;fill:#ff0000;fill-opacity:1;fill-rule:nonzero;stroke:none;stroke-width:1.60000002;marker:none;visibility:visible;display:inline;overflow:visible;enable-background:accumulate;font-family:Sans;-inkscape-font-specification:Sans\"/>\n",
        "        <path d=\"m 255.02648,297.2553 3.2,3.2 -3.2,-11.2 -3.2,11.2 3.2,-3.2 z\" id=\"path4015\" inkscape:connector-curvature=\"0\" style=\"fill:#ff0000;fill-rule:evenodd;stroke:#ff0000;stroke-width:0.64000001pt\"/>\n",
        "      </g>\n",
        "    </g>\n",
        "    <g id=\"g4017\" transform=\"matrix(-0.35518955,0,0,0.1902307,296.56761,91.796477)\">\n",
        "      <g id=\"g4019\" transform=\"translate(-0.54962603,1.9236911)\">\n",
        "        <path d=\"m 254.21875,290.84375 0,51.40625 1.59375,0 0,-51.40625 -1.59375,0 z\" id=\"path4021\" inkscape:connector-curvature=\"0\" style=\"font-size:medium;font-style:normal;font-variant:normal;font-weight:normal;font-stretch:normal;text-indent:0;text-align:start;text-decoration:none;line-height:normal;letter-spacing:normal;word-spacing:normal;text-transform:none;direction:ltr;block-progression:tb;writing-mode:lr-tb;text-anchor:start;baseline-shift:baseline;color:#000000;fill:#ff0000;fill-opacity:1;fill-rule:nonzero;stroke:none;stroke-width:1.60000002;marker:none;visibility:visible;display:inline;overflow:visible;enable-background:accumulate;font-family:Sans;-inkscape-font-specification:Sans\"/>\n",
        "        <path d=\"m 255.02648,297.2553 3.2,3.2 -3.2,-11.2 -3.2,11.2 3.2,-3.2 z\" id=\"path4023\" inkscape:connector-curvature=\"0\" style=\"fill:#ff0000;fill-rule:evenodd;stroke:#ff0000;stroke-width:0.64000001pt\"/>\n",
        "      </g>\n",
        "    </g>\n",
        "    <g id=\"g4025\" transform=\"matrix(-0.35518955,0,0,0.1902307,266.79366,91.796477)\">\n",
        "      <g id=\"g4027\" transform=\"translate(-0.54962603,1.9236911)\">\n",
        "        <path d=\"m 254.21875,290.84375 0,51.40625 1.59375,0 0,-51.40625 -1.59375,0 z\" id=\"path4029\" inkscape:connector-curvature=\"0\" style=\"font-size:medium;font-style:normal;font-variant:normal;font-weight:normal;font-stretch:normal;text-indent:0;text-align:start;text-decoration:none;line-height:normal;letter-spacing:normal;word-spacing:normal;text-transform:none;direction:ltr;block-progression:tb;writing-mode:lr-tb;text-anchor:start;baseline-shift:baseline;color:#000000;fill:#ff0000;fill-opacity:1;fill-rule:nonzero;stroke:none;stroke-width:1.60000002;marker:none;visibility:visible;display:inline;overflow:visible;enable-background:accumulate;font-family:Sans;-inkscape-font-specification:Sans\"/>\n",
        "        <path d=\"m 255.02648,297.2553 3.2,3.2 -3.2,-11.2 -3.2,11.2 3.2,-3.2 z\" id=\"path4031\" inkscape:connector-curvature=\"0\" style=\"fill:#ff0000;fill-rule:evenodd;stroke:#ff0000;stroke-width:0.64000001pt\"/>\n",
        "      </g>\n",
        "    </g>\n",
        "    <g id=\"g4041\" transform=\"matrix(-0.35518955,0,0,0.1902307,286.64294,91.796477)\">\n",
        "      <g id=\"g4043\" transform=\"translate(-0.54962603,1.9236911)\">\n",
        "        <path d=\"m 254.21875,290.84375 0,51.40625 1.59375,0 0,-51.40625 -1.59375,0 z\" id=\"path4045\" inkscape:connector-curvature=\"0\" style=\"font-size:medium;font-style:normal;font-variant:normal;font-weight:normal;font-stretch:normal;text-indent:0;text-align:start;text-decoration:none;line-height:normal;letter-spacing:normal;word-spacing:normal;text-transform:none;direction:ltr;block-progression:tb;writing-mode:lr-tb;text-anchor:start;baseline-shift:baseline;color:#000000;fill:#ff0000;fill-opacity:1;fill-rule:nonzero;stroke:none;stroke-width:1.60000002;marker:none;visibility:visible;display:inline;overflow:visible;enable-background:accumulate;font-family:Sans;-inkscape-font-specification:Sans\"/>\n",
        "        <path d=\"m 255.02648,297.2553 3.2,3.2 -3.2,-11.2 -3.2,11.2 3.2,-3.2 z\" id=\"path4047\" inkscape:connector-curvature=\"0\" style=\"fill:#ff0000;fill-rule:evenodd;stroke:#ff0000;stroke-width:0.64000001pt\"/>\n",
        "      </g>\n",
        "    </g>\n",
        "    <g id=\"g4049\" transform=\"matrix(-0.35518955,0,0,0.1902307,259.35017,91.796477)\">\n",
        "      <g id=\"g4051\" transform=\"translate(-0.54962603,1.9236911)\">\n",
        "        <path d=\"m 254.21875,290.84375 0,51.40625 1.59375,0 0,-51.40625 -1.59375,0 z\" id=\"path4053\" inkscape:connector-curvature=\"0\" style=\"font-size:medium;font-style:normal;font-variant:normal;font-weight:normal;font-stretch:normal;text-indent:0;text-align:start;text-decoration:none;line-height:normal;letter-spacing:normal;word-spacing:normal;text-transform:none;direction:ltr;block-progression:tb;writing-mode:lr-tb;text-anchor:start;baseline-shift:baseline;color:#000000;fill:#ff0000;fill-opacity:1;fill-rule:nonzero;stroke:none;stroke-width:1.60000002;marker:none;visibility:visible;display:inline;overflow:visible;enable-background:accumulate;font-family:Sans;-inkscape-font-specification:Sans\"/>\n",
        "        <path d=\"m 255.02648,297.2553 3.2,3.2 -3.2,-11.2 -3.2,11.2 3.2,-3.2 z\" id=\"path4055\" inkscape:connector-curvature=\"0\" style=\"fill:#ff0000;fill-rule:evenodd;stroke:#ff0000;stroke-width:0.64000001pt\"/>\n",
        "      </g>\n",
        "    </g>\n",
        "    <g id=\"g4057\" transform=\"matrix(-0.35518955,0,0,0.1902307,331.30393,91.796477)\">\n",
        "      <g id=\"g4059\" transform=\"translate(-0.54962603,1.9236911)\">\n",
        "        <path d=\"m 254.21875,290.84375 0,51.40625 1.59375,0 0,-51.40625 -1.59375,0 z\" id=\"path4061\" inkscape:connector-curvature=\"0\" style=\"font-size:medium;font-style:normal;font-variant:normal;font-weight:normal;font-stretch:normal;text-indent:0;text-align:start;text-decoration:none;line-height:normal;letter-spacing:normal;word-spacing:normal;text-transform:none;direction:ltr;block-progression:tb;writing-mode:lr-tb;text-anchor:start;baseline-shift:baseline;color:#000000;fill:#ff0000;fill-opacity:1;fill-rule:nonzero;stroke:none;stroke-width:1.60000002;marker:none;visibility:visible;display:inline;overflow:visible;enable-background:accumulate;font-family:Sans;-inkscape-font-specification:Sans\"/>\n",
        "        <path d=\"m 255.02648,297.2553 3.2,3.2 -3.2,-11.2 -3.2,11.2 3.2,-3.2 z\" id=\"path4063\" inkscape:connector-curvature=\"0\" style=\"fill:#ff0000;fill-rule:evenodd;stroke:#ff0000;stroke-width:0.64000001pt\"/>\n",
        "      </g>\n",
        "    </g>\n",
        "    <g id=\"g4065\" transform=\"matrix(-0.35518955,0,0,0.1902307,311.45461,91.796477)\">\n",
        "      <g id=\"g4067\" transform=\"translate(-0.54962603,1.9236911)\">\n",
        "        <path d=\"m 254.21875,290.84375 0,51.40625 1.59375,0 0,-51.40625 -1.59375,0 z\" id=\"path4069\" inkscape:connector-curvature=\"0\" style=\"font-size:medium;font-style:normal;font-variant:normal;font-weight:normal;font-stretch:normal;text-indent:0;text-align:start;text-decoration:none;line-height:normal;letter-spacing:normal;word-spacing:normal;text-transform:none;direction:ltr;block-progression:tb;writing-mode:lr-tb;text-anchor:start;baseline-shift:baseline;color:#000000;fill:#ff0000;fill-opacity:1;fill-rule:nonzero;stroke:none;stroke-width:1.60000002;marker:none;visibility:visible;display:inline;overflow:visible;enable-background:accumulate;font-family:Sans;-inkscape-font-specification:Sans\"/>\n",
        "        <path d=\"m 255.02648,297.2553 3.2,3.2 -3.2,-11.2 -3.2,11.2 3.2,-3.2 z\" id=\"path4071\" inkscape:connector-curvature=\"0\" style=\"fill:#ff0000;fill-rule:evenodd;stroke:#ff0000;stroke-width:0.64000001pt\"/>\n",
        "      </g>\n",
        "    </g>\n",
        "    <g id=\"g4073\" transform=\"matrix(-0.35518955,0,0,0.1902307,241.98199,91.796477)\">\n",
        "      <g id=\"g4075\" transform=\"translate(-0.54962603,1.9236911)\">\n",
        "        <path d=\"m 254.21875,290.84375 0,51.40625 1.59375,0 0,-51.40625 -1.59375,0 z\" id=\"path4077\" inkscape:connector-curvature=\"0\" style=\"font-size:medium;font-style:normal;font-variant:normal;font-weight:normal;font-stretch:normal;text-indent:0;text-align:start;text-decoration:none;line-height:normal;letter-spacing:normal;word-spacing:normal;text-transform:none;direction:ltr;block-progression:tb;writing-mode:lr-tb;text-anchor:start;baseline-shift:baseline;color:#000000;fill:#ff0000;fill-opacity:1;fill-rule:nonzero;stroke:none;stroke-width:1.60000002;marker:none;visibility:visible;display:inline;overflow:visible;enable-background:accumulate;font-family:Sans;-inkscape-font-specification:Sans\"/>\n",
        "        <path d=\"m 255.02648,297.2553 3.2,3.2 -3.2,-11.2 -3.2,11.2 3.2,-3.2 z\" id=\"path4079\" inkscape:connector-curvature=\"0\" style=\"fill:#ff0000;fill-rule:evenodd;stroke:#ff0000;stroke-width:0.64000001pt\"/>\n",
        "      </g>\n",
        "    </g>\n",
        "    <g id=\"g4081\" transform=\"matrix(-0.35518955,0,0,0.1902307,323.86045,91.796477)\">\n",
        "      <g id=\"g4083\" transform=\"translate(-0.54962603,1.9236911)\">\n",
        "        <path d=\"m 254.21875,290.84375 0,51.40625 1.59375,0 0,-51.40625 -1.59375,0 z\" id=\"path4085\" inkscape:connector-curvature=\"0\" style=\"font-size:medium;font-style:normal;font-variant:normal;font-weight:normal;font-stretch:normal;text-indent:0;text-align:start;text-decoration:none;line-height:normal;letter-spacing:normal;word-spacing:normal;text-transform:none;direction:ltr;block-progression:tb;writing-mode:lr-tb;text-anchor:start;baseline-shift:baseline;color:#000000;fill:#ff0000;fill-opacity:1;fill-rule:nonzero;stroke:none;stroke-width:1.60000002;marker:none;visibility:visible;display:inline;overflow:visible;enable-background:accumulate;font-family:Sans;-inkscape-font-specification:Sans\"/>\n",
        "        <path d=\"m 255.02648,297.2553 3.2,3.2 -3.2,-11.2 -3.2,11.2 3.2,-3.2 z\" id=\"path4087\" inkscape:connector-curvature=\"0\" style=\"fill:#ff0000;fill-rule:evenodd;stroke:#ff0000;stroke-width:0.64000001pt\"/>\n",
        "      </g>\n",
        "    </g>\n",
        "    <g id=\"g4089\" transform=\"matrix(-0.35518955,0,0,0.1902307,294.08648,91.796477)\">\n",
        "      <g id=\"g4091\" transform=\"translate(-0.54962603,1.9236911)\">\n",
        "        <path d=\"m 254.21875,290.84375 0,51.40625 1.59375,0 0,-51.40625 -1.59375,0 z\" id=\"path4093\" inkscape:connector-curvature=\"0\" style=\"font-size:medium;font-style:normal;font-variant:normal;font-weight:normal;font-stretch:normal;text-indent:0;text-align:start;text-decoration:none;line-height:normal;letter-spacing:normal;word-spacing:normal;text-transform:none;direction:ltr;block-progression:tb;writing-mode:lr-tb;text-anchor:start;baseline-shift:baseline;color:#000000;fill:#ff0000;fill-opacity:1;fill-rule:nonzero;stroke:none;stroke-width:1.60000002;marker:none;visibility:visible;display:inline;overflow:visible;enable-background:accumulate;font-family:Sans;-inkscape-font-specification:Sans\"/>\n",
        "        <path d=\"m 255.02648,297.2553 3.2,3.2 -3.2,-11.2 -3.2,11.2 3.2,-3.2 z\" id=\"path4095\" inkscape:connector-curvature=\"0\" style=\"fill:#ff0000;fill-rule:evenodd;stroke:#ff0000;stroke-width:0.64000001pt\"/>\n",
        "      </g>\n",
        "    </g>\n",
        "    <g id=\"g4097\" transform=\"matrix(-0.35518955,0,0,0.1902307,269.27484,91.796477)\">\n",
        "      <g id=\"g4099\" transform=\"translate(-0.54962603,1.9236911)\">\n",
        "        <path d=\"m 254.21875,290.84375 0,51.40625 1.59375,0 0,-51.40625 -1.59375,0 z\" id=\"path4101\" inkscape:connector-curvature=\"0\" style=\"font-size:medium;font-style:normal;font-variant:normal;font-weight:normal;font-stretch:normal;text-indent:0;text-align:start;text-decoration:none;line-height:normal;letter-spacing:normal;word-spacing:normal;text-transform:none;direction:ltr;block-progression:tb;writing-mode:lr-tb;text-anchor:start;baseline-shift:baseline;color:#000000;fill:#ff0000;fill-opacity:1;fill-rule:nonzero;stroke:none;stroke-width:1.60000002;marker:none;visibility:visible;display:inline;overflow:visible;enable-background:accumulate;font-family:Sans;-inkscape-font-specification:Sans\"/>\n",
        "        <path d=\"m 255.02648,297.2553 3.2,3.2 -3.2,-11.2 -3.2,11.2 3.2,-3.2 z\" id=\"path4103\" inkscape:connector-curvature=\"0\" style=\"fill:#ff0000;fill-rule:evenodd;stroke:#ff0000;stroke-width:0.64000001pt\"/>\n",
        "      </g>\n",
        "    </g>\n",
        "    <g id=\"g4113\" transform=\"matrix(-0.35518955,0,0,0.1902307,289.12416,91.796477)\">\n",
        "      <g id=\"g4115\" transform=\"translate(-0.54962603,1.9236911)\">\n",
        "        <path d=\"m 254.21875,290.84375 0,51.40625 1.59375,0 0,-51.40625 -1.59375,0 z\" id=\"path4117\" inkscape:connector-curvature=\"0\" style=\"font-size:medium;font-style:normal;font-variant:normal;font-weight:normal;font-stretch:normal;text-indent:0;text-align:start;text-decoration:none;line-height:normal;letter-spacing:normal;word-spacing:normal;text-transform:none;direction:ltr;block-progression:tb;writing-mode:lr-tb;text-anchor:start;baseline-shift:baseline;color:#000000;fill:#ff0000;fill-opacity:1;fill-rule:nonzero;stroke:none;stroke-width:1.60000002;marker:none;visibility:visible;display:inline;overflow:visible;enable-background:accumulate;font-family:Sans;-inkscape-font-specification:Sans\"/>\n",
        "        <path d=\"m 255.02648,297.2553 3.2,3.2 -3.2,-11.2 -3.2,11.2 3.2,-3.2 z\" id=\"path4119\" inkscape:connector-curvature=\"0\" style=\"fill:#ff0000;fill-rule:evenodd;stroke:#ff0000;stroke-width:0.64000001pt\"/>\n",
        "      </g>\n",
        "    </g>\n",
        "    <g id=\"g4121\" transform=\"matrix(-0.35518955,0,0,0.1902307,264.31254,91.796477)\">\n",
        "      <g id=\"g4123\" transform=\"translate(-0.54962603,1.9236911)\">\n",
        "        <path d=\"m 254.21875,290.84375 0,51.40625 1.59375,0 0,-51.40625 -1.59375,0 z\" id=\"path4125\" inkscape:connector-curvature=\"0\" style=\"font-size:medium;font-style:normal;font-variant:normal;font-weight:normal;font-stretch:normal;text-indent:0;text-align:start;text-decoration:none;line-height:normal;letter-spacing:normal;word-spacing:normal;text-transform:none;direction:ltr;block-progression:tb;writing-mode:lr-tb;text-anchor:start;baseline-shift:baseline;color:#000000;fill:#ff0000;fill-opacity:1;fill-rule:nonzero;stroke:none;stroke-width:1.60000002;marker:none;visibility:visible;display:inline;overflow:visible;enable-background:accumulate;font-family:Sans;-inkscape-font-specification:Sans\"/>\n",
        "        <path d=\"m 255.02648,297.2553 3.2,3.2 -3.2,-11.2 -3.2,11.2 3.2,-3.2 z\" id=\"path4127\" inkscape:connector-curvature=\"0\" style=\"fill:#ff0000;fill-rule:evenodd;stroke:#ff0000;stroke-width:0.64000001pt\"/>\n",
        "      </g>\n",
        "    </g>\n",
        "    <g id=\"g4129\" transform=\"matrix(-0.35518955,0,0,0.1902307,338.74736,91.796477)\">\n",
        "      <g id=\"g4131\" transform=\"translate(-0.54962603,1.9236911)\">\n",
        "        <path d=\"m 254.21875,290.84375 0,51.40625 1.59375,0 0,-51.40625 -1.59375,0 z\" id=\"path4133\" inkscape:connector-curvature=\"0\" style=\"font-size:medium;font-style:normal;font-variant:normal;font-weight:normal;font-stretch:normal;text-indent:0;text-align:start;text-decoration:none;line-height:normal;letter-spacing:normal;word-spacing:normal;text-transform:none;direction:ltr;block-progression:tb;writing-mode:lr-tb;text-anchor:start;baseline-shift:baseline;color:#000000;fill:#ff0000;fill-opacity:1;fill-rule:nonzero;stroke:none;stroke-width:1.60000002;marker:none;visibility:visible;display:inline;overflow:visible;enable-background:accumulate;font-family:Sans;-inkscape-font-specification:Sans\"/>\n",
        "        <path d=\"m 255.02648,297.2553 3.2,3.2 -3.2,-11.2 -3.2,11.2 3.2,-3.2 z\" id=\"path4135\" inkscape:connector-curvature=\"0\" style=\"fill:#ff0000;fill-rule:evenodd;stroke:#ff0000;stroke-width:0.64000001pt\"/>\n",
        "      </g>\n",
        "    </g>\n",
        "    <g id=\"g4137\" transform=\"matrix(-0.35518955,0,0,0.1902307,313.93584,91.796477)\">\n",
        "      <g id=\"g4139\" transform=\"translate(-0.54962603,1.9236911)\">\n",
        "        <path d=\"m 254.21875,290.84375 0,51.40625 1.59375,0 0,-51.40625 -1.59375,0 z\" id=\"path4141\" inkscape:connector-curvature=\"0\" style=\"font-size:medium;font-style:normal;font-variant:normal;font-weight:normal;font-stretch:normal;text-indent:0;text-align:start;text-decoration:none;line-height:normal;letter-spacing:normal;word-spacing:normal;text-transform:none;direction:ltr;block-progression:tb;writing-mode:lr-tb;text-anchor:start;baseline-shift:baseline;color:#000000;fill:#ff0000;fill-opacity:1;fill-rule:nonzero;stroke:none;stroke-width:1.60000002;marker:none;visibility:visible;display:inline;overflow:visible;enable-background:accumulate;font-family:Sans;-inkscape-font-specification:Sans\"/>\n",
        "        <path d=\"m 255.02648,297.2553 3.2,3.2 -3.2,-11.2 -3.2,11.2 3.2,-3.2 z\" id=\"path4143\" inkscape:connector-curvature=\"0\" style=\"fill:#ff0000;fill-rule:evenodd;stroke:#ff0000;stroke-width:0.64000001pt\"/>\n",
        "      </g>\n",
        "    </g>\n",
        "    <g id=\"g4145\" transform=\"matrix(-0.35518955,0,0,0.1902307,251.9066,91.796477)\">\n",
        "      <g id=\"g4147\" transform=\"translate(-0.54962603,1.9236911)\">\n",
        "        <path d=\"m 254.21875,290.84375 0,51.40625 1.59375,0 0,-51.40625 -1.59375,0 z\" id=\"path4149\" inkscape:connector-curvature=\"0\" style=\"font-size:medium;font-style:normal;font-variant:normal;font-weight:normal;font-stretch:normal;text-indent:0;text-align:start;text-decoration:none;line-height:normal;letter-spacing:normal;word-spacing:normal;text-transform:none;direction:ltr;block-progression:tb;writing-mode:lr-tb;text-anchor:start;baseline-shift:baseline;color:#000000;fill:#ff0000;fill-opacity:1;fill-rule:nonzero;stroke:none;stroke-width:1.60000002;marker:none;visibility:visible;display:inline;overflow:visible;enable-background:accumulate;font-family:Sans;-inkscape-font-specification:Sans\"/>\n",
        "        <path d=\"m 255.02648,297.2553 3.2,3.2 -3.2,-11.2 -3.2,11.2 3.2,-3.2 z\" id=\"path4151\" inkscape:connector-curvature=\"0\" style=\"fill:#ff0000;fill-rule:evenodd;stroke:#ff0000;stroke-width:0.64000001pt\"/>\n",
        "      </g>\n",
        "    </g>\n",
        "    <g id=\"g4153\" transform=\"matrix(-0.35518955,0,0,0.1902307,326.34156,91.796477)\">\n",
        "      <g id=\"g4155\" transform=\"translate(-0.54962603,1.9236911)\">\n",
        "        <path d=\"m 254.21875,290.84375 0,51.40625 1.59375,0 0,-51.40625 -1.59375,0 z\" id=\"path4157\" inkscape:connector-curvature=\"0\" style=\"font-size:medium;font-style:normal;font-variant:normal;font-weight:normal;font-stretch:normal;text-indent:0;text-align:start;text-decoration:none;line-height:normal;letter-spacing:normal;word-spacing:normal;text-transform:none;direction:ltr;block-progression:tb;writing-mode:lr-tb;text-anchor:start;baseline-shift:baseline;color:#000000;fill:#ff0000;fill-opacity:1;fill-rule:nonzero;stroke:none;stroke-width:1.60000002;marker:none;visibility:visible;display:inline;overflow:visible;enable-background:accumulate;font-family:Sans;-inkscape-font-specification:Sans\"/>\n",
        "        <path d=\"m 255.02648,297.2553 3.2,3.2 -3.2,-11.2 -3.2,11.2 3.2,-3.2 z\" id=\"path4159\" inkscape:connector-curvature=\"0\" style=\"fill:#ff0000;fill-rule:evenodd;stroke:#ff0000;stroke-width:0.64000001pt\"/>\n",
        "      </g>\n",
        "    </g>\n",
        "    <g id=\"g4161\" transform=\"matrix(-0.35518955,0,0,0.1902307,301.52994,91.796477)\">\n",
        "      <g id=\"g4163\" transform=\"translate(-0.54962603,1.9236911)\">\n",
        "        <path d=\"m 254.21875,290.84375 0,51.40625 1.59375,0 0,-51.40625 -1.59375,0 z\" id=\"path4165\" inkscape:connector-curvature=\"0\" style=\"font-size:medium;font-style:normal;font-variant:normal;font-weight:normal;font-stretch:normal;text-indent:0;text-align:start;text-decoration:none;line-height:normal;letter-spacing:normal;word-spacing:normal;text-transform:none;direction:ltr;block-progression:tb;writing-mode:lr-tb;text-anchor:start;baseline-shift:baseline;color:#000000;fill:#ff0000;fill-opacity:1;fill-rule:nonzero;stroke:none;stroke-width:1.60000002;marker:none;visibility:visible;display:inline;overflow:visible;enable-background:accumulate;font-family:Sans;-inkscape-font-specification:Sans\"/>\n",
        "        <path d=\"m 255.02648,297.2553 3.2,3.2 -3.2,-11.2 -3.2,11.2 3.2,-3.2 z\" id=\"path4167\" inkscape:connector-curvature=\"0\" style=\"fill:#ff0000;fill-rule:evenodd;stroke:#ff0000;stroke-width:0.64000001pt\"/>\n",
        "      </g>\n",
        "    </g>\n",
        "    <g id=\"g4169\" transform=\"matrix(-0.35518955,0,0,0.1902307,276.71832,91.796477)\">\n",
        "      <g id=\"g4171\" transform=\"translate(-0.54962603,1.9236911)\">\n",
        "        <path d=\"m 254.21875,290.84375 0,51.40625 1.59375,0 0,-51.40625 -1.59375,0 z\" id=\"path4173\" inkscape:connector-curvature=\"0\" style=\"font-size:medium;font-style:normal;font-variant:normal;font-weight:normal;font-stretch:normal;text-indent:0;text-align:start;text-decoration:none;line-height:normal;letter-spacing:normal;word-spacing:normal;text-transform:none;direction:ltr;block-progression:tb;writing-mode:lr-tb;text-anchor:start;baseline-shift:baseline;color:#000000;fill:#ff0000;fill-opacity:1;fill-rule:nonzero;stroke:none;stroke-width:1.60000002;marker:none;visibility:visible;display:inline;overflow:visible;enable-background:accumulate;font-family:Sans;-inkscape-font-specification:Sans\"/>\n",
        "        <path d=\"m 255.02648,297.2553 3.2,3.2 -3.2,-11.2 -3.2,11.2 3.2,-3.2 z\" id=\"path4175\" inkscape:connector-curvature=\"0\" style=\"fill:#ff0000;fill-rule:evenodd;stroke:#ff0000;stroke-width:0.64000001pt\"/>\n",
        "      </g>\n",
        "    </g>\n",
        "    <text id=\"text5635\" sodipodi:linespacing=\"125%\" style=\"font-size:17.27594566px;font-style:normal;font-variant:normal;font-weight:normal;font-stretch:normal;line-height:125%;letter-spacing:0px;word-spacing:0px;fill:#000000;fill-opacity:1;stroke:none;font-family:Arial;-inkscape-font-specification:Arial\" x=\"127.21582\" xml:space=\"preserve\" y=\"177.41316\"><tspan id=\"tspan5637\" sodipodi:role=\"line\" style=\"font-style:normal;font-variant:normal;font-weight:normal;font-stretch:normal;font-family:Garamond;-inkscape-font-specification:Garamond\" x=\"127.21582\" y=\"177.41316\">contact pressure</tspan></text>\n",
        "    <text id=\"text5639\" sodipodi:linespacing=\"125%\" style=\"font-size:17.27594566px;font-style:normal;font-variant:normal;font-weight:normal;font-stretch:normal;line-height:125%;letter-spacing:0px;word-spacing:0px;fill:#000000;fill-opacity:1;stroke:none;font-family:Arial;-inkscape-font-specification:Arial\" x=\"234.9127\" xml:space=\"preserve\" y=\"123.48349\"><tspan id=\"tspan5641\" sodipodi:role=\"line\" style=\"font-style:normal;font-variant:normal;font-weight:normal;font-stretch:normal;font-family:Garamond;-inkscape-font-specification:Garamond\" x=\"234.9127\" y=\"123.48349\">gravity force</tspan></text>\n",
        "    <path d=\"m 207.19215,88.802953 c 0,0 19.60306,3.190098 20.82837,14.887127\" id=\"path7033\" inkscape:connector-curvature=\"0\" style=\"fill:none;stroke:#000000;stroke-width:0.40856901;stroke-linecap:butt;stroke-linejoin:miter;stroke-miterlimit:4;stroke-opacity:1;stroke-dasharray:none;marker-end:url(#Arrow1Mend)\"/>\n",
        "    <rect height=\"99.129303\" id=\"rect7415\" style=\"fill:#999999;fill-opacity:1;stroke:#000000;stroke-width:1.3424437;stroke-opacity:1\" width=\"156.5199\" x=\"502.17261\" y=\"57.368656\"/>\n",
        "    <rect height=\"101.21624\" id=\"rect7417\" style=\"fill:#f2f2f2;fill-opacity:1;stroke:#000000;stroke-width:1.3424437\" width=\"194.0847\" x=\"411.75513\" y=\"157.84059\"/>\n",
        "    <path d=\"m 580.4846,110.95005 0,29.7978\" id=\"path7419\" inkscape:connector-curvature=\"0\" style=\"fill:none;stroke:#000000;stroke-width:1.5468483;stroke-linecap:butt;stroke-linejoin:miter;stroke-miterlimit:4;stroke-opacity:1;stroke-dasharray:none;marker-end:url(#Arrow1Mend)\"/>\n",
        "    <path d=\"m 227.72708,302.12265 c 0,1.76999 -1.43486,3.20484 -3.20485,3.20484 -1.76998,0 -3.20484,-1.43485 -3.20484,-3.20484 0,-1.76999 1.43486,-3.20484 3.20484,-3.20484 1.76999,0 3.20485,1.43485 3.20485,3.20484 z\" id=\"path7421\" sodipodi:cx=\"224.52223\" sodipodi:cy=\"302.12265\" sodipodi:rx=\"3.204843\" sodipodi:ry=\"3.204843\" sodipodi:type=\"arc\" style=\"fill:#000000;fill-opacity:1;fill-rule:nonzero;stroke:none\" transform=\"matrix(0.48935435,0,0,0.48935435,470.56173,-40.911706)\"/>\n",
        "    <g id=\"g7423\" transform=\"matrix(-0.91091354,0,0,0.61175632,837.51374,-55.733685)\">\n",
        "      <g id=\"g7425\" transform=\"translate(-0.54962603,1.9236911)\">\n",
        "        <path d=\"m 254.21875,290.84375 0,51.40625 1.59375,0 0,-51.40625 -1.59375,0 z\" id=\"path7427\" inkscape:connector-curvature=\"0\" style=\"font-size:medium;font-style:normal;font-variant:normal;font-weight:normal;font-stretch:normal;text-indent:0;text-align:start;text-decoration:none;line-height:normal;letter-spacing:normal;word-spacing:normal;text-transform:none;direction:ltr;block-progression:tb;writing-mode:lr-tb;text-anchor:start;baseline-shift:baseline;color:#000000;fill:#ff0000;fill-opacity:1;fill-rule:nonzero;stroke:none;stroke-width:1.60000002;marker:none;visibility:visible;display:inline;overflow:visible;enable-background:accumulate;font-family:Sans;-inkscape-font-specification:Sans\"/>\n",
        "        <path d=\"m 255.02648,297.2553 3.2,3.2 -3.2,-11.2 -3.2,11.2 3.2,-3.2 z\" id=\"path7429\" inkscape:connector-curvature=\"0\" style=\"fill:#ff0000;fill-rule:evenodd;stroke:#ff0000;stroke-width:0.64000001pt\"/>\n",
        "      </g>\n",
        "    </g>\n",
        "    <path d=\"m 227.72708,302.12265 c 0,1.76999 -1.43486,3.20484 -3.20485,3.20484 -1.76998,0 -3.20484,-1.43485 -3.20484,-3.20484 0,-1.76999 1.43486,-3.20484 3.20484,-3.20484 1.76999,0 3.20485,1.43485 3.20485,3.20484 z\" id=\"path7431\" sodipodi:cx=\"224.52223\" sodipodi:cy=\"302.12265\" sodipodi:rx=\"3.204843\" sodipodi:ry=\"3.204843\" sodipodi:type=\"arc\" style=\"fill:#ff0000;fill-opacity:1;fill-rule:nonzero;stroke:none\" transform=\"matrix(0.48935435,0,0,0.48935435,495.97573,9.1010742)\"/>\n",
        "    <text id=\"text7433\" sodipodi:linespacing=\"125%\" style=\"font-size:17.27594566px;font-style:normal;font-variant:normal;font-weight:normal;font-stretch:normal;line-height:125%;letter-spacing:0px;word-spacing:0px;fill:#000000;fill-opacity:1;stroke:none;font-family:Arial;-inkscape-font-specification:Arial\" x=\"484.43729\" xml:space=\"preserve\" y=\"124.48355\"><tspan id=\"tspan7435\" sodipodi:role=\"line\" style=\"font-style:normal;font-variant:normal;font-weight:normal;font-stretch:normal;font-family:Garamond;-inkscape-font-specification:Garamond\" x=\"484.43729\" y=\"124.48355\">gravity force</tspan></text>\n",
        "    <text id=\"text7437\" sodipodi:linespacing=\"125%\" style=\"font-size:17.27594566px;font-style:normal;font-variant:normal;font-weight:normal;font-stretch:normal;line-height:125%;letter-spacing:0px;word-spacing:0px;fill:#000000;fill-opacity:1;stroke:none;font-family:Arial;-inkscape-font-specification:Arial\" x=\"548.44373\" xml:space=\"preserve\" y=\"177.48882\"><tspan id=\"tspan7439\" sodipodi:role=\"line\" style=\"font-style:normal;font-variant:normal;font-weight:normal;font-stretch:normal;font-family:Garamond;-inkscape-font-specification:Garamond\" x=\"548.44373\" y=\"177.48882\">pressure force</tspan></text>\n",
        "    <text id=\"text7441\" sodipodi:linespacing=\"125%\" style=\"font-size:17.27594566px;font-style:normal;font-variant:normal;font-weight:normal;font-stretch:normal;line-height:125%;letter-spacing:0px;word-spacing:0px;fill:#000000;fill-opacity:1;stroke:none;font-family:Arial;-inkscape-font-specification:Arial\" x=\"59.158199\" xml:space=\"preserve\" y=\"39.467991\"><tspan id=\"tspan7443\" sodipodi:role=\"line\" style=\"font-size:32.21865845px;font-style:normal;font-variant:normal;font-weight:normal;font-stretch:normal;font-family:Garamond;-inkscape-font-specification:Garamond\" x=\"59.158199\" y=\"39.467991\">Original problem</tspan></text>\n",
        "    <text id=\"text7445\" sodipodi:linespacing=\"125%\" style=\"font-size:17.27594566px;font-style:normal;font-variant:normal;font-weight:normal;font-stretch:normal;line-height:125%;letter-spacing:0px;word-spacing:0px;fill:#000000;fill-opacity:1;stroke:none;font-family:Arial;-inkscape-font-specification:Arial\" x=\"387.19073\" xml:space=\"preserve\" y=\"39.467991\"><tspan id=\"tspan7447\" sodipodi:role=\"line\" style=\"font-size:32.21865845px;font-style:normal;font-variant:normal;font-weight:normal;font-stretch:normal;font-family:Garamond;-inkscape-font-specification:Garamond\" x=\"387.19073\" y=\"39.467991\">Simplified problem</tspan></text>\n",
        "  </g>\n",
        "</svg>"
       ],
       "text": [
        "<IPython.core.display.SVG at 0x395f910>"
       ]
      }
     ],
     "prompt_number": 7
    },
    {
     "cell_type": "markdown",
     "metadata": {},
     "source": [
      "Under these hypotheses, equilibrium has a simple expression:\n",
      "\n",
      "- if the center of gravity is located to the left of the pressure force, i.e. the edge of the bottom block, the structure is in a stable state\n",
      "- if the center of gravity is located to the right of the pressure force, i.e. the edge of the bottom block, the structure is in an unstable state and will collapse\n",
      "\n",
      "This is illustrated by the figure below:"
     ]
    },
    {
     "cell_type": "code",
     "collapsed": false,
     "input": [
      "SVG(filename='files/forces_equilibrium.svg')"
     ],
     "language": "python",
     "metadata": {},
     "outputs": [
      {
       "metadata": {},
       "output_type": "pyout",
       "prompt_number": 8,
       "svg": [
        "<svg height=\"210.53174\" id=\"svg2\" inkscape:version=\"0.48.5 r10040\" sodipodi:docname=\"forces_equilibrium.svg\" version=\"1.1\" width=\"599.98669\" xmlns=\"http://www.w3.org/2000/svg\" xmlns:cc=\"http://creativecommons.org/ns#\" xmlns:dc=\"http://purl.org/dc/elements/1.1/\" xmlns:inkscape=\"http://www.inkscape.org/namespaces/inkscape\" xmlns:osb=\"http://www.openswatchbook.org/uri/2009/osb\" xmlns:rdf=\"http://www.w3.org/1999/02/22-rdf-syntax-ns#\" xmlns:sodipodi=\"http://sodipodi.sourceforge.net/DTD/sodipodi-0.dtd\" xmlns:svg=\"http://www.w3.org/2000/svg\">\n",
        "  <sodipodi:namedview bordercolor=\"#666666\" borderopacity=\"1.0\" fit-margin-bottom=\"0\" fit-margin-left=\"0\" fit-margin-right=\"0\" fit-margin-top=\"0\" id=\"base\" inkscape:current-layer=\"layer1\" inkscape:cx=\"549.15833\" inkscape:cy=\"118.09191\" inkscape:document-units=\"px\" inkscape:pageopacity=\"0.0\" inkscape:pageshadow=\"2\" inkscape:window-height=\"1138\" inkscape:window-maximized=\"1\" inkscape:window-width=\"1920\" inkscape:window-x=\"-8\" inkscape:window-y=\"-8\" inkscape:zoom=\"0.73655867\" pagecolor=\"#ffffff\" showgrid=\"false\" units=\"px\"/>\n",
        "  <defs id=\"defs4\">\n",
        "    <marker id=\"Arrow1Send\" inkscape:stockid=\"Arrow1Send\" orient=\"auto\" refX=\"0\" refY=\"0\" style=\"overflow:visible\">\n",
        "      <path d=\"M 0,0 5,-5 -12.5,0 5,5 0,0 z\" id=\"path5848\" inkscape:connector-curvature=\"0\" style=\"fill-rule:evenodd;stroke:#000000;stroke-width:1pt\" transform=\"matrix(-0.2,0,0,-0.2,-1.2,0)\"/>\n",
        "    </marker>\n",
        "    <marker id=\"Arrow1Lend\" inkscape:stockid=\"Arrow1Lend\" orient=\"auto\" refX=\"0\" refY=\"0\" style=\"overflow:visible\">\n",
        "      <path d=\"M 0,0 5,-5 -12.5,0 5,5 0,0 z\" id=\"path5836\" inkscape:connector-curvature=\"0\" style=\"fill-rule:evenodd;stroke:#000000;stroke-width:1pt\" transform=\"matrix(-0.8,0,0,-0.8,-10,0)\"/>\n",
        "    </marker>\n",
        "    <linearGradient id=\"linearGradient5621\" osb:paint=\"solid\">\n",
        "      <stop id=\"stop5623\" offset=\"0\" style=\"stop-color:#000000;stop-opacity:1;\"/>\n",
        "    </linearGradient>\n",
        "    <marker id=\"DiamondL\" inkscape:stockid=\"DiamondL\" orient=\"auto\" refX=\"0\" refY=\"0\" style=\"overflow:visible\">\n",
        "      <path d=\"M 0,-7.0710768 -7.0710894,0 0,7.0710589 7.0710462,0 0,-7.0710768 z\" id=\"path3854\" inkscape:connector-curvature=\"0\" style=\"fill-rule:evenodd;stroke:#000000;stroke-width:1pt\" transform=\"scale(0.8,0.8)\"/>\n",
        "    </marker>\n",
        "    <marker id=\"Arrow1Mend\" inkscape:stockid=\"Arrow1Mend\" orient=\"auto\" refX=\"0\" refY=\"0\" style=\"overflow:visible\">\n",
        "      <path d=\"M 0,0 5,-5 -12.5,0 5,5 0,0 z\" id=\"path3784\" inkscape:connector-curvature=\"0\" style=\"fill-rule:evenodd;stroke:#000000;stroke-width:1pt\" transform=\"matrix(-0.4,0,0,-0.4,-4,0)\"/>\n",
        "    </marker>\n",
        "    <marker id=\"Arrow1Sendk\" inkscape:stockid=\"Arrow1Sendk\" orient=\"auto\" refX=\"0\" refY=\"0\" style=\"overflow:visible\">\n",
        "      <path d=\"M 0,0 5,-5 -12.5,0 5,5 0,0 z\" id=\"path5454\" inkscape:connector-curvature=\"0\" style=\"fill:#8e837f;fill-rule:evenodd;stroke:#8e837f;stroke-width:1pt\" transform=\"matrix(-0.2,0,0,-0.2,-1.2,0)\"/>\n",
        "    </marker>\n",
        "  </defs>\n",
        "  <metadata id=\"metadata7\">\n",
        "    <rdf:RDF>\n",
        "      <cc:Work rdf:about=\"\">\n",
        "        <dc:format>image/svg+xml</dc:format>\n",
        "        <dc:type rdf:resource=\"http://purl.org/dc/dcmitype/StillImage\"/>\n",
        "        <dc:title/>\n",
        "      </cc:Work>\n",
        "    </rdf:RDF>\n",
        "  </metadata>\n",
        "  <g id=\"layer1\" inkscape:groupmode=\"layer\" inkscape:label=\"Calque 1\" transform=\"translate(-333.9375,-113.49951)\">\n",
        "    <rect height=\"86.423492\" id=\"rect7415\" style=\"fill:#999999;fill-opacity:1;stroke:#000000;stroke-width:1.17037749;stroke-opacity:1\" width=\"136.45815\" x=\"720.22687\" y=\"147.60777\"/>\n",
        "    <rect height=\"88.242943\" id=\"rect7417\" style=\"fill:#f2f2f2;fill-opacity:1;stroke:#000000;stroke-width:1.17037749\" width=\"169.20811\" x=\"577.34283\" y=\"235.2018\"/>\n",
        "    <path d=\"m 788.50134,194.32142 0,25.9785\" id=\"path7419\" inkscape:connector-curvature=\"0\" style=\"fill:none;stroke:#000000;stroke-width:1.34858227;stroke-linecap:butt;stroke-linejoin:miter;stroke-miterlimit:4;stroke-opacity:1;stroke-dasharray:none;marker-end:url(#Arrow1Mend)\"/>\n",
        "    <path d=\"m 227.72708,302.12265 c 0,1.76999 -1.43486,3.20484 -3.20485,3.20484 -1.76998,0 -3.20484,-1.43485 -3.20484,-3.20484 0,-1.76999 1.43486,-3.20484 3.20484,-3.20484 1.76999,0 3.20485,1.43485 3.20485,3.20484 z\" id=\"path7421\" sodipodi:cx=\"224.52223\" sodipodi:cy=\"302.12265\" sodipodi:rx=\"3.204843\" sodipodi:ry=\"3.204843\" sodipodi:type=\"arc\" style=\"fill:#000000;fill-opacity:1;fill-rule:nonzero;stroke:none\" transform=\"matrix(0.42663169,0,0,0.42663169,692.66769,61.924434)\"/>\n",
        "    <g id=\"g7423\" transform=\"matrix(-0.79415796,0,0,0.53334488,948.53021,49.002249)\">\n",
        "      <g id=\"g7425\" transform=\"translate(-0.54962603,1.9236911)\">\n",
        "        <path d=\"m 254.21875,290.84375 0,51.40625 1.59375,0 0,-51.40625 -1.59375,0 z\" id=\"path7427\" inkscape:connector-curvature=\"0\" style=\"font-size:medium;font-style:normal;font-variant:normal;font-weight:normal;font-stretch:normal;text-indent:0;text-align:start;text-decoration:none;line-height:normal;letter-spacing:normal;word-spacing:normal;text-transform:none;direction:ltr;block-progression:tb;writing-mode:lr-tb;text-anchor:start;baseline-shift:baseline;color:#000000;fill:#ff0000;fill-opacity:1;fill-rule:nonzero;stroke:none;stroke-width:1.60000002;marker:none;visibility:visible;display:inline;overflow:visible;enable-background:accumulate;font-family:Sans;-inkscape-font-specification:Sans\"/>\n",
        "        <path d=\"m 255.02648,297.2553 3.2,3.2 -3.2,-11.2 -3.2,11.2 3.2,-3.2 z\" id=\"path7429\" inkscape:connector-curvature=\"0\" style=\"fill:#ff0000;fill-rule:evenodd;stroke:#ff0000;stroke-width:0.64000001pt\"/>\n",
        "      </g>\n",
        "    </g>\n",
        "    <path d=\"m 227.72708,302.12265 c 0,1.76999 -1.43486,3.20484 -3.20485,3.20484 -1.76998,0 -3.20484,-1.43485 -3.20484,-3.20484 0,-1.76999 1.43486,-3.20484 3.20484,-3.20484 1.76999,0 3.20485,1.43485 3.20485,3.20484 z\" id=\"path7431\" sodipodi:cx=\"224.52223\" sodipodi:cy=\"302.12265\" sodipodi:rx=\"3.204843\" sodipodi:ry=\"3.204843\" sodipodi:type=\"arc\" style=\"fill:#ff0000;fill-opacity:1;fill-rule:nonzero;stroke:none\" transform=\"matrix(0.42663169,0,0,0.42663169,650.76863,105.52687)\"/>\n",
        "    <text id=\"text7433\" sodipodi:linespacing=\"125%\" style=\"font-size:15.06161308px;font-style:normal;font-variant:normal;font-weight:normal;font-stretch:normal;line-height:125%;letter-spacing:0px;word-spacing:0px;fill:#000000;fill-opacity:1;stroke:none;font-family:Arial;-inkscape-font-specification:Arial\" x=\"801.40771\" xml:space=\"preserve\" y=\"206.12029\"><tspan id=\"tspan7435\" sodipodi:role=\"line\" style=\"font-style:normal;font-variant:normal;font-weight:normal;font-stretch:normal;font-family:Garamond;-inkscape-font-specification:Garamond\" x=\"801.40771\" y=\"206.12029\">gravity force</tspan></text>\n",
        "    <text id=\"text7437\" sodipodi:linespacing=\"125%\" style=\"font-size:15.06161308px;font-style:normal;font-variant:normal;font-weight:normal;font-stretch:normal;line-height:125%;letter-spacing:0px;word-spacing:0px;fill:#000000;fill-opacity:1;stroke:none;font-family:Arial;-inkscape-font-specification:Arial\" x=\"696.51154\" xml:space=\"preserve\" y=\"252.3316\"><tspan id=\"tspan7439\" sodipodi:role=\"line\" style=\"font-style:normal;font-variant:normal;font-weight:normal;font-stretch:normal;font-family:Garamond;-inkscape-font-specification:Garamond\" x=\"696.51154\" y=\"252.3316\">pressure force</tspan></text>\n",
        "    <text id=\"text7441\" sodipodi:linespacing=\"125%\" style=\"font-size:15.06161308px;font-style:normal;font-variant:normal;font-weight:normal;font-stretch:normal;line-height:125%;letter-spacing:0px;word-spacing:0px;fill:#000000;fill-opacity:1;stroke:none;font-family:Arial;-inkscape-font-specification:Arial\" x=\"416.06693\" xml:space=\"preserve\" y=\"132.00153\"><tspan id=\"tspan7443\" sodipodi:role=\"line\" style=\"font-size:28.08905602px;font-style:normal;font-variant:normal;font-weight:normal;font-stretch:normal;font-family:Garamond;-inkscape-font-specification:Garamond\" x=\"416.06693\" y=\"132.00153\">Stable</tspan></text>\n",
        "    <text id=\"text7445\" sodipodi:linespacing=\"125%\" style=\"font-size:15.06161308px;font-style:normal;font-variant:normal;font-weight:normal;font-stretch:normal;line-height:125%;letter-spacing:0px;word-spacing:0px;fill:#000000;fill-opacity:1;stroke:none;font-family:Arial;-inkscape-font-specification:Arial\" x=\"669.02533\" xml:space=\"preserve\" y=\"132.00153\"><tspan id=\"tspan7447\" sodipodi:role=\"line\" style=\"font-size:28.08905602px;font-style:normal;font-variant:normal;font-weight:normal;font-stretch:normal;font-family:Garamond;-inkscape-font-specification:Garamond\" x=\"669.02533\" y=\"132.00153\">Unstable</tspan></text>\n",
        "    <rect height=\"86.423492\" id=\"rect3188\" style=\"fill:#999999;fill-opacity:1;stroke:#000000;stroke-width:1.17037749;stroke-opacity:1\" width=\"136.45815\" x=\"413.34354\" y=\"147.60777\"/>\n",
        "    <rect height=\"88.242943\" id=\"rect3190\" style=\"fill:#f2f2f2;fill-opacity:1;stroke:#000000;stroke-width:1.17037749\" width=\"169.20811\" x=\"334.5152\" y=\"235.2018\"/>\n",
        "    <path d=\"m 481.61799,194.32142 0,25.9785\" id=\"path3192\" inkscape:connector-curvature=\"0\" style=\"fill:none;stroke:#000000;stroke-width:1.34858227;stroke-linecap:butt;stroke-linejoin:miter;stroke-miterlimit:4;stroke-opacity:1;stroke-dasharray:none;marker-end:url(#Arrow1Mend)\"/>\n",
        "    <path d=\"m 227.72708,302.12265 c 0,1.76999 -1.43486,3.20484 -3.20485,3.20484 -1.76998,0 -3.20484,-1.43485 -3.20484,-3.20484 0,-1.76999 1.43486,-3.20484 3.20484,-3.20484 1.76999,0 3.20485,1.43485 3.20485,3.20484 z\" id=\"path3194\" sodipodi:cx=\"224.52223\" sodipodi:cy=\"302.12265\" sodipodi:rx=\"3.204843\" sodipodi:ry=\"3.204843\" sodipodi:type=\"arc\" style=\"fill:#000000;fill-opacity:1;fill-rule:nonzero;stroke:none\" transform=\"matrix(0.42663169,0,0,0.42663169,385.78432,61.924434)\"/>\n",
        "    <g id=\"g3196\" transform=\"matrix(-0.79415796,0,0,0.53334488,705.70256,49.002249)\">\n",
        "      <g id=\"g3198\" transform=\"translate(-0.54962603,1.9236911)\">\n",
        "        <path d=\"m 254.21875,290.84375 0,51.40625 1.59375,0 0,-51.40625 -1.59375,0 z\" id=\"path3200\" inkscape:connector-curvature=\"0\" style=\"font-size:medium;font-style:normal;font-variant:normal;font-weight:normal;font-stretch:normal;text-indent:0;text-align:start;text-decoration:none;line-height:normal;letter-spacing:normal;word-spacing:normal;text-transform:none;direction:ltr;block-progression:tb;writing-mode:lr-tb;text-anchor:start;baseline-shift:baseline;color:#000000;fill:#ff0000;fill-opacity:1;fill-rule:nonzero;stroke:none;stroke-width:1.60000002;marker:none;visibility:visible;display:inline;overflow:visible;enable-background:accumulate;font-family:Sans;-inkscape-font-specification:Sans\"/>\n",
        "        <path d=\"m 255.02648,297.2553 3.2,3.2 -3.2,-11.2 -3.2,11.2 3.2,-3.2 z\" id=\"path3202\" inkscape:connector-curvature=\"0\" style=\"fill:#ff0000;fill-rule:evenodd;stroke:#ff0000;stroke-width:0.64000001pt\"/>\n",
        "      </g>\n",
        "    </g>\n",
        "    <path d=\"m 227.72708,302.12265 c 0,1.76999 -1.43486,3.20484 -3.20485,3.20484 -1.76998,0 -3.20484,-1.43485 -3.20484,-3.20484 0,-1.76999 1.43486,-3.20484 3.20484,-3.20484 1.76999,0 3.20485,1.43485 3.20485,3.20484 z\" id=\"path3204\" sodipodi:cx=\"224.52223\" sodipodi:cy=\"302.12265\" sodipodi:rx=\"3.204843\" sodipodi:ry=\"3.204843\" sodipodi:type=\"arc\" style=\"fill:#ff0000;fill-opacity:1;fill-rule:nonzero;stroke:none\" transform=\"matrix(0.42663169,0,0,0.42663169,407.94098,105.52687)\"/>\n",
        "    <text id=\"text3206\" sodipodi:linespacing=\"125%\" style=\"font-size:15.06161308px;font-style:normal;font-variant:normal;font-weight:normal;font-stretch:normal;line-height:125%;letter-spacing:0px;word-spacing:0px;fill:#000000;fill-opacity:1;stroke:none;font-family:Arial;-inkscape-font-specification:Arial\" x=\"395.67401\" xml:space=\"preserve\" y=\"209.21068\"><tspan id=\"tspan3208\" sodipodi:role=\"line\" style=\"font-style:normal;font-variant:normal;font-weight:normal;font-stretch:normal;font-family:Garamond;-inkscape-font-specification:Garamond\" x=\"395.67401\" y=\"209.21068\">gravity force</tspan></text>\n",
        "    <text id=\"text3210\" sodipodi:linespacing=\"125%\" style=\"font-size:15.06161308px;font-style:normal;font-variant:normal;font-weight:normal;font-stretch:normal;line-height:125%;letter-spacing:0px;word-spacing:0px;fill:#000000;fill-opacity:1;stroke:none;font-family:Arial;-inkscape-font-specification:Arial\" x=\"453.68387\" xml:space=\"preserve\" y=\"252.3316\"><tspan id=\"tspan3212\" sodipodi:role=\"line\" style=\"font-style:normal;font-variant:normal;font-weight:normal;font-stretch:normal;font-family:Garamond;-inkscape-font-specification:Garamond\" x=\"453.68387\" y=\"252.3316\">pressure force</tspan></text>\n",
        "    <g id=\"g6321\" style=\"fill:#0000ff;stroke:none\" transform=\"matrix(0.83030981,0,0,0.85923816,-41.834477,-12.039687)\">\n",
        "      <path d=\"m 1099.9376,237.26113 c -7.8798,-0.1373 -13.0938,0.8125 -13.0938,0.8125 l 0.1875,1 c 0,0 20.6045,-3.72705 41.625,4.8125 21.0204,8.53955 42.4594,29.23729 44.2187,78.5 l 1,-0.0312 c -1.7694,-49.54375 -23.5185,-70.74289 -44.8437,-79.40625 -10.6627,-4.33168 -21.214,-5.5502 -29.0937,-5.6875 z\" id=\"path6129\" inkscape:connector-curvature=\"0\" style=\"font-size:medium;font-style:normal;font-variant:normal;font-weight:normal;font-stretch:normal;text-indent:0;text-align:start;text-decoration:none;line-height:normal;letter-spacing:normal;word-spacing:normal;text-transform:none;direction:ltr;block-progression:tb;writing-mode:lr-tb;text-anchor:start;baseline-shift:baseline;color:#000000;fill:#0000ff;fill-opacity:1;stroke:none;stroke-width:0.38826561;marker:none;visibility:visible;display:inline;overflow:visible;enable-background:accumulate;font-family:Sans;-inkscape-font-specification:Sans\"/>\n",
        "      <path d=\"m 1173.2469,318.38127 -2.0701,-1.92734 2.2485,6.92415 1.7489,-7.06692 -1.9273,2.07011 z\" id=\"path6327\" inkscape:connector-curvature=\"0\" style=\"fill:#0000ff;fill-rule:evenodd;stroke:none\"/>\n",
        "    </g>\n",
        "  </g>\n",
        "</svg>"
       ],
       "text": [
        "<IPython.core.display.SVG at 0x552c930>"
       ]
      }
     ],
     "prompt_number": 8
    },
    {
     "cell_type": "markdown",
     "metadata": {},
     "source": [
      "So the algorithm is the following:\n",
      "\n",
      "- we loop over the bricks to stack in a reverse order, starting with the last brick which goes on top\n",
      "- we calculate the maximum shift we can apply to the brick at the bottom given the top brick and its mass\n",
      "- we define a new top brick that consists of the previous top brick plus the previous bottom brick but positioned on top of each other\n",
      "- we apply the same procedure as above to our new top and bottom bricks\n",
      "\n",
      "To follow this algorithm, we will need to compute the position of the new center of gravity obtained by assembling bricks together. This is coded below:"
     ]
    },
    {
     "cell_type": "code",
     "collapsed": false,
     "input": [
      "def compute_horizontal_center_of_mass(brick_sequence, shifts):\n",
      "    compute_mass = lambda b: b[0] * b[1]\n",
      "    sum_xi_mi = sum([(shifts[i] + brick_sequence[i][0]/2.) * compute_mass(brick_sequence[i]) for i in range(len(brick_sequence))])\n",
      "    sum_mi = sum([compute_mass(brick_sequence[i]) for i in range(len(brick_sequence))])\n",
      "    return sum_xi_mi / sum_mi                                   "
     ],
     "language": "python",
     "metadata": {},
     "outputs": [],
     "prompt_number": 9
    },
    {
     "cell_type": "markdown",
     "metadata": {},
     "source": [
      "And finally, the algorithm:"
     ]
    },
    {
     "cell_type": "code",
     "collapsed": false,
     "input": [
      "def compute_brick_shifts(brick_sequence):\n",
      "    shifts = []\n",
      "    reverse_brick_sequence = brick_sequence[::-1]\n",
      "    for index, brick in enumerate(reverse_brick_sequence):\n",
      "        if index == 0:\n",
      "            shifts.append(0.)\n",
      "        else:\n",
      "            previous_center_of_mass = compute_horizontal_center_of_mass(reverse_brick_sequence[:index], shifts)\n",
      "            shifts.append(previous_center_of_mass - brick[0])\n",
      "    min_shift = min(shifts)\n",
      "    return [s - min_shift for s in shifts[::-1]]"
     ],
     "language": "python",
     "metadata": {},
     "outputs": [],
     "prompt_number": 10
    },
    {
     "cell_type": "markdown",
     "metadata": {},
     "source": [
      "To test our algorithm, we're going to examine a couple of solutions obtained when stacking rectangular bricks on top of each other. First, we're doing this with an interactive plot:"
     ]
    },
    {
     "cell_type": "code",
     "collapsed": false,
     "input": [
      "def plot_nbricks(l, n):\n",
      "    bricks = generate_brick_sequence(l, 1, n)\n",
      "    plot_brick_sequence(bricks, compute_brick_shifts(bricks))\n",
      "    pl.xlim(0, n)\n",
      "    pl.ylim(0, n)\n",
      "    pl.grid(True)"
     ],
     "language": "python",
     "metadata": {},
     "outputs": [],
     "prompt_number": 11
    },
    {
     "cell_type": "code",
     "collapsed": false,
     "input": [
      "interact(plot_nbricks,\n",
      "            l=(0.1, 4, 0.1),\n",
      "            n=(2, 20))"
     ],
     "language": "python",
     "metadata": {},
     "outputs": [
      {
       "metadata": {},
       "output_type": "display_data",
       "png": "[encoded data removed]",
       "text": [
        "<matplotlib.figure.Figure at 0x592f0b0>"
       ]
      }
     ],
     "prompt_number": 12
    },
    {
     "cell_type": "markdown",
     "metadata": {},
     "source": [
      "Let's check the solution for 10, 20 and 40 bricks of 2:1 aspect ratios:"
     ]
    },
    {
     "cell_type": "code",
     "collapsed": false,
     "input": [
      "pl.figure(figsize=(10, 4))\n",
      "format_plot = lambda : pl.xlim(0, 8) and pl.ylim(0, 40) and pl.grid(True);\n",
      "\n",
      "pl.subplot(131)\n",
      "plot_nbricks(2, 4)\n",
      "format_plot()\n",
      "\n",
      "pl.subplot(132)\n",
      "plot_nbricks(2, 13)\n",
      "format_plot()\n",
      "\n",
      "pl.subplot(133)\n",
      "plot_nbricks(2, 40)\n",
      "format_plot()"
     ],
     "language": "python",
     "metadata": {},
     "outputs": [
      {
       "metadata": {},
       "output_type": "display_data",
       "png": "[encoded data removed]",
       "text": [
        "<matplotlib.figure.Figure at 0x5522f30>"
       ]
      }
     ],
     "prompt_number": 13
    },
    {
     "cell_type": "markdown",
     "metadata": {},
     "source": [
      "As one can see, the more bricks we stack, the higher the tower gets and the larger vaults we can build by simply stacking these bricks on top of each other. \n",
      "\n",
      "This being said we can now move on to some practical questions."
     ]
    },
    {
     "cell_type": "heading",
     "level": 2,
     "metadata": {},
     "source": [
      "Applying our tools to practical questions"
     ]
    },
    {
     "cell_type": "heading",
     "level": 3,
     "metadata": {},
     "source": [
      "How far can we get?"
     ]
    },
    {
     "cell_type": "markdown",
     "metadata": {},
     "source": [
      "One of the questions we can ask ourselves after having written this is: is there a maximum horizontal distance that we can cross with such a structure of stacked bricks? Or is there a limit that we cannot overcome inside our model? \n",
      "\n",
      "To examine this question, I'll plot the total distance covered as a function of the number of bricks stacked. "
     ]
    },
    {
     "cell_type": "code",
     "collapsed": false,
     "input": [
      "l = 1\n",
      "number_of_bricks = pl.linspace(1, 200, 50, pl.int32)\n",
      "distances = pl.zeros_like(number_of_bricks)\n",
      "for index, n in enumerate(number_of_bricks):\n",
      "    bricks = generate_brick_sequence(l, 1, int(n))\n",
      "    shifts = compute_brick_shifts(bricks)\n",
      "    distances[index] = max(shifts) + l/2."
     ],
     "language": "python",
     "metadata": {},
     "outputs": [],
     "prompt_number": 14
    },
    {
     "cell_type": "code",
     "collapsed": false,
     "input": [
      "pl.plot(number_of_bricks, distances)\n",
      "pl.title(\"distance reached as a function of number of {0} width bricks\".format(l))\n",
      "pl.xlabel('brick unit width (a. u.)')\n",
      "pl.ylabel('distance covered (a. u.)')\n",
      "pl.grid(True)"
     ],
     "language": "python",
     "metadata": {},
     "outputs": [
      {
       "metadata": {},
       "output_type": "display_data",
       "png": "[encoded data removed]",
       "text": [
        "<matplotlib.figure.Figure at 0x5748930>"
       ]
      }
     ],
     "prompt_number": 15
    },
    {
     "cell_type": "markdown",
     "metadata": {},
     "source": [
      "This looks like a logarithmic function. And it doesn't look like the growth stops at some point (even though, from this small sampling it looks like it slows down a lot).\n",
      "\n",
      "If anyone is interested, I found a reference in [this book](http://www.amazon.fr/physique-tous-jours-Istv%C3%A0n-Berkes/dp/2711771679) that says the growth is unbounded. Therefore you could build this sort of structure to cover any given distance. In practice, this is limited by the accuracy with which you can place your bricks (and also forces other than gravity...)."
     ]
    },
    {
     "cell_type": "heading",
     "level": 3,
     "metadata": {},
     "source": [
      "Dependency on the size of the bricks"
     ]
    },
    {
     "cell_type": "markdown",
     "metadata": {},
     "source": [
      "Another question we can ask of our model: how does the range covered by the vault change if we change the brick width?"
     ]
    },
    {
     "cell_type": "code",
     "collapsed": false,
     "input": [
      "brick_widths = pl.linspace(0.1, 10)\n",
      "distances = pl.zeros_like(brick_widths)\n",
      "for l in brick_widths:\n",
      "    bricks = generate_brick_sequence(l, 1, 100)\n",
      "    distances[brick_widths == l] = max(compute_brick_shifts(bricks)) + l/2."
     ],
     "language": "python",
     "metadata": {},
     "outputs": [],
     "prompt_number": 16
    },
    {
     "cell_type": "code",
     "collapsed": false,
     "input": [
      "pl.plot(brick_widths, distances)\n",
      "pl.xlabel('brick width (distance units)')\n",
      "pl.ylabel('distance units')\n",
      "pl.title('distance covered by stacking 100 bricks as a function of brick width')\n",
      "pl.grid(True)"
     ],
     "language": "python",
     "metadata": {},
     "outputs": [
      {
       "metadata": {},
       "output_type": "display_data",
       "png": "[encoded data removed]",
       "text": [
        "<matplotlib.figure.Figure at 0x592fd70>"
       ]
      }
     ],
     "prompt_number": 17
    },
    {
     "cell_type": "markdown",
     "metadata": {},
     "source": [
      "The relationship seems linear. We can compute the slope of the previous curve:"
     ]
    },
    {
     "cell_type": "code",
     "collapsed": false,
     "input": [
      "(distances[-1] - distances[0])/(10 - 0.1)"
     ],
     "language": "python",
     "metadata": {},
     "outputs": [
      {
       "metadata": {},
       "output_type": "pyout",
       "prompt_number": 18,
       "text": [
        "3.08868875881981"
       ]
      }
     ],
     "prompt_number": 18
    },
    {
     "cell_type": "markdown",
     "metadata": {},
     "source": [
      "If we increase the brick width by one unit, the we will increase the range of 100 stacked bricks of the same width by 3.088 units."
     ]
    },
    {
     "cell_type": "heading",
     "level": 3,
     "metadata": {},
     "source": [
      "Stacking non-uniform sized bricks"
     ]
    },
    {
     "cell_type": "markdown",
     "metadata": {},
     "source": [
      "To finish this post, I'll show how we can stack up arbitrarily shaped bricks. This is one of the nice features of the code we have written so far: it's generic to the point that you can stack bricks of different sizes. \n",
      "\n",
      "First, we write a function that gives back a sequence of arbitrarily shaped bricks."
     ]
    },
    {
     "cell_type": "code",
     "collapsed": false,
     "input": [
      "def generate_random_brick_sequence(n):\n",
      "    return [(pl.rand(1), 0.2) for i in range(n)]"
     ],
     "language": "python",
     "metadata": {},
     "outputs": [],
     "prompt_number": 19
    },
    {
     "cell_type": "markdown",
     "metadata": {},
     "source": [
      "And then we write a function that just generates a sequence of `n` bricks, computes the optimal way to stack them and plots them."
     ]
    },
    {
     "cell_type": "code",
     "collapsed": false,
     "input": [
      "def plot_random_bricks(n):\n",
      "    bricks = generate_random_brick_sequence(n)\n",
      "    shifts =  compute_brick_shifts(bricks)\n",
      "    plot_brick_sequence(bricks, shifts)"
     ],
     "language": "python",
     "metadata": {},
     "outputs": [],
     "prompt_number": 20
    },
    {
     "cell_type": "code",
     "collapsed": false,
     "input": [
      "pl.figure(figsize=(11, 4))\n",
      "format_plot = lambda : pl.xlim(0, 2.5) and pl.ylim(0, 9) and pl.grid(True);\n",
      "\n",
      "pl.subplot(131)\n",
      "plot_random_bricks(40)\n",
      "format_plot()\n",
      "\n",
      "pl.subplot(132)\n",
      "plot_random_bricks(40)\n",
      "format_plot()\n",
      "\n",
      "pl.subplot(133)\n",
      "plot_random_bricks(40)\n",
      "format_plot()"
     ],
     "language": "python",
     "metadata": {},
     "outputs": [
      {
       "metadata": {},
       "output_type": "display_data",
       "png": "[encoded data removed]",
       "text": [
        "<matplotlib.figure.Figure at 0x551c2b0>"
       ]
      }
     ],
     "prompt_number": 21
    },
    {
     "cell_type": "markdown",
     "metadata": {},
     "source": [
      "This post was entirely written using the IPython notebook. You can see a static view or download this notebook with the help of nbviewer at [20140808_BricksAndArches.ipynb](http://nbviewer.ipython.org/urls/raw.github.com/flothesof/posts/master/20140808_BricksAndArches.ipynb)."
     ]
    }
   ],
   "metadata": {}
  }
 ]
}