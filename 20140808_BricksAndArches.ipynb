{
 "metadata": {
  "name": "",
  "signature": "sha256:2d88d93bb0febca2fe190f20cd95affe9df9f0c7b2e13f76920bbbc8c5f16c11"
 },
 "nbformat": 3,
 "nbformat_minor": 0,
 "worksheets": [
  {
   "cells": [
    {
     "cell_type": "code",
     "collapsed": false,
     "input": [
      "%matplotlib inline\n",
      "import pylab as pl\n",
      "from IPython.html.widgets import interact"
     ],
     "language": "python",
     "metadata": {},
     "outputs": [],
     "prompt_number": 134
    },
    {
     "cell_type": "markdown",
     "metadata": {},
     "source": [
      "In this post, we're going to tackle the following problem: \n",
      "\n",
      "> Given a sequence of bricks, what is the best stable way to stack them so as to cover the greatest possible horizontal distance?\n",
      "\n",
      "By stable, we mean in such a way that gravity itself does not cause the bricks to fall down upon themselves. This problem can be likened to the famouse Jenga game, where players take out sticks of woods from an initially stable pyramid, until it collapses. The collapse happens when gravity leads a part of the wooden structure to fall apart.\n",
      "\n",
      "This post is comprised of several sections. We start of by explaining how to stack \"bricks\" so as they don't collapse. \n",
      "\n",
      "#TODO\n",
      "\n",
      "http://fr.wikipedia.org/wiki/Vo%C3%BBte_nubienne"
     ]
    },
    {
     "cell_type": "markdown",
     "metadata": {},
     "source": [
      "Our modelling assumptions are as follows:\n",
      "\n",
      "- a brick of length $l$ and width $w$ is modelled as tuple $(l, w)$\n",
      "- a sequence of bricks to be stacked in a given order (the first on bottom, the last on top) is modelled as a list of bricks as defined above"
     ]
    },
    {
     "cell_type": "markdown",
     "metadata": {},
     "source": [
      "To make things easy to start, we're going to write a simple function that generates regular sequences of bricks, which will be used in the examples to follow. The function takes as arguments:\n",
      "\n",
      "- the length and width of the brick sequence to be generated\n",
      "- the number of bricks to generate"
     ]
    },
    {
     "cell_type": "code",
     "collapsed": false,
     "input": [
      "def generate_brick_sequence(length, width, n):\n",
      "    return [(length, width) for i in range(n)]"
     ],
     "language": "python",
     "metadata": {},
     "outputs": [],
     "prompt_number": 135
    },
    {
     "cell_type": "markdown",
     "metadata": {},
     "source": [
      "Below, we test the output on an example case, generating a sequence of five bricks with length 3 and width 4:"
     ]
    },
    {
     "cell_type": "code",
     "collapsed": false,
     "input": [
      "generate_brick_sequence(3, 4, 5)"
     ],
     "language": "python",
     "metadata": {},
     "outputs": [
      {
       "metadata": {},
       "output_type": "pyout",
       "prompt_number": 220,
       "text": [
        "[(3, 4), (3, 4), (3, 4), (3, 4), (3, 4)]"
       ]
      }
     ],
     "prompt_number": 220
    },
    {
     "cell_type": "markdown",
     "metadata": {},
     "source": [
      "To continue, two things need to be done. These two things will be translated to two functions.\n",
      "\n",
      "- a way of plotting brick sequences \n",
      "- a way to compute how to stack the bricks in a stable way for maximum range given a sequence of bricks\n",
      "\n",
      "Among these two things, the first is easy. And fun. So we're starting with that."
     ]
    },
    {
     "cell_type": "heading",
     "level": 1,
     "metadata": {},
     "source": [
      "Plotting brick sequences"
     ]
    },
    {
     "cell_type": "markdown",
     "metadata": {},
     "source": [
      "Below, we write a function that plots bricks using `Rectangles`, a functionality already provided by matplotlib. \n",
      "\n",
      "The way it works is the following. We take inputs made of:\n",
      "\n",
      "- a brick sequence\n",
      "- the horizontal shifts to apply to each brick\n",
      "\n",
      "And then we loop and draw each brick on top of each other, starting with the first one at the bottom and applying the horizontal shift given as an input. To make this function generic, we keep track of the total height so far, so as to stack bricks exactly above each other."
     ]
    },
    {
     "cell_type": "code",
     "collapsed": false,
     "input": [
      "from matplotlib.patches import Rectangle\n",
      "\n",
      "def plot_brick_sequence(brick_sequence, shifts):\n",
      "    fig = pl.figure()\n",
      "    ax = fig.add_subplot(111)\n",
      "    total_height = 0.\n",
      "    for brick, shift in zip(brick_sequence, shifts):\n",
      "        ax.add_patch(Rectangle((shift, total_height), brick[0], brick[1]))\n",
      "        total_height += brick[1]"
     ],
     "language": "python",
     "metadata": {},
     "outputs": [],
     "prompt_number": 142
    },
    {
     "cell_type": "markdown",
     "metadata": {},
     "source": [
      "We can immediately try our function on an exemple sequence (that I just made up)."
     ]
    },
    {
     "cell_type": "code",
     "collapsed": false,
     "input": [
      "bricks = [(1, 2), (2, 3), (3, 4)]\n",
      "shifts = [0, 0.5, 2]\n",
      "plot_brick_sequence(bricks, shifts)\n",
      "pl.xlim(0, 10)\n",
      "pl.ylim(0, 10)"
     ],
     "language": "python",
     "metadata": {},
     "outputs": [
      {
       "metadata": {},
       "output_type": "pyout",
       "prompt_number": 221,
       "text": [
        "(0, 10)"
       ]
      },
      {
       "metadata": {},
       "output_type": "display_data",
       "png": "[encoded data removed]",
       "text": [
        "<matplotlib.figure.Figure at 0x66b4bb0>"
       ]
      }
     ],
     "prompt_number": 221
    },
    {
     "cell_type": "markdown",
     "metadata": {},
     "source": [
      "Now on to the hard part."
     ]
    },
    {
     "cell_type": "code",
     "collapsed": false,
     "input": [
      "pl.array(bricks)"
     ],
     "language": "python",
     "metadata": {},
     "outputs": [
      {
       "metadata": {},
       "output_type": "pyout",
       "prompt_number": 222,
       "text": [
        "array([[1, 2],\n",
        "       [2, 3],\n",
        "       [3, 4]])"
       ]
      }
     ],
     "prompt_number": 222
    },
    {
     "cell_type": "heading",
     "level": 1,
     "metadata": {},
     "source": [
      "Writing a function that computes the stacking"
     ]
    },
    {
     "cell_type": "markdown",
     "metadata": {},
     "source": [
      "On \u00e9crit maintenant une fonction qui calcule les d\u00e9calages horizontaux. Pour faire ceci, on part toujours de l'\u00e9quilibre du bloc sup\u00e9rieur sur le bloc inf\u00e9rieur.\n",
      "\n",
      "Le bloc sup\u00e9rieur, d\u00e9cal\u00e9 de $x_i$, est soumis \u00e0 une force de pesanteur proportionnelle \u00e0 sa masse $m_i^{sup}$. Pour que celle-ci soit compens\u00e9e, le bord droit du bloc inf\u00e9rieur doit se trouver \u00e0 l'abscisse $x_{i+1} + l_{i+1}/2$ au maximum. J'\u00e9cris au maximum, car il pourrait se trouver plus \u00e0 droite.  "
     ]
    },
    {
     "cell_type": "code",
     "collapsed": false,
     "input": [
      "def compute_horizontal_center_of_mass(brick_sequence, shifts):\n",
      "    compute_mass = lambda b: b[0] * b[1]\n",
      "    sum_xi_mi = sum([(shifts[i] + brick_sequence[i][0]/2.) * compute_mass(brick_sequence[i]) for i in range(len(brick_sequence))])\n",
      "    sum_mi = sum([compute_mass(brick_sequence[i]) for i in range(len(brick_sequence))])\n",
      "    return sum_xi_mi / sum_mi                                   "
     ],
     "language": "python",
     "metadata": {},
     "outputs": [],
     "prompt_number": 146
    },
    {
     "cell_type": "code",
     "collapsed": false,
     "input": [
      "bricks = [(1, 1), (1, 1), (1, 1)]\n",
      "shifts = [0, 0, 1]\n",
      "plot_brick_sequence(bricks, shifts)\n",
      "pl.ylim(0, 3)\n",
      "pl.xlim(0, 3)"
     ],
     "language": "python",
     "metadata": {},
     "outputs": [
      {
       "metadata": {},
       "output_type": "pyout",
       "prompt_number": 154,
       "text": [
        "(0, 3)"
       ]
      },
      {
       "metadata": {},
       "output_type": "display_data",
       "png": "[encoded data removed]",
       "text": [
        "<matplotlib.figure.Figure at 0x54ab3f0>"
       ]
      }
     ],
     "prompt_number": 154
    },
    {
     "cell_type": "code",
     "collapsed": false,
     "input": [
      "compute_horizontal_center_of_mass(bricks, shifts)"
     ],
     "language": "python",
     "metadata": {},
     "outputs": [
      {
       "metadata": {},
       "output_type": "pyout",
       "prompt_number": 155,
       "text": [
        "0.8333333333333334"
       ]
      }
     ],
     "prompt_number": 155
    },
    {
     "cell_type": "code",
     "collapsed": false,
     "input": [
      "2/3. * 0.5 + 1/3. * 1.5"
     ],
     "language": "python",
     "metadata": {},
     "outputs": [
      {
       "metadata": {},
       "output_type": "pyout",
       "prompt_number": 156,
       "text": [
        "0.8333333333333333"
       ]
      }
     ],
     "prompt_number": 156
    },
    {
     "cell_type": "code",
     "collapsed": false,
     "input": [
      "l = [1, 2]\n",
      "print l[::-1]"
     ],
     "language": "python",
     "metadata": {},
     "outputs": [
      {
       "output_type": "stream",
       "stream": "stdout",
       "text": [
        "[2, 1]\n"
       ]
      }
     ],
     "prompt_number": 159
    },
    {
     "cell_type": "code",
     "collapsed": false,
     "input": [
      "def compute_brick_shifts(brick_sequence):\n",
      "    shifts = []\n",
      "    reverse_brick_sequence = brick_sequence[::-1]\n",
      "    for index, brick in enumerate(reverse_brick_sequence):\n",
      "        if index == 0:\n",
      "            shifts.append(0.)\n",
      "        else:\n",
      "            previous_center_of_mass = compute_horizontal_center_of_mass(reverse_brick_sequence[:index], shifts)\n",
      "            shifts.append(previous_center_of_mass - brick[0])\n",
      "    min_shift = min(shifts)\n",
      "    return [s - min_shift for s in shifts[::-1]]\n",
      "        "
     ],
     "language": "python",
     "metadata": {},
     "outputs": [],
     "prompt_number": 176
    },
    {
     "cell_type": "code",
     "collapsed": false,
     "input": [
      "compute_brick_shifts(generate_brick_sequence(1, 1, 3))"
     ],
     "language": "python",
     "metadata": {},
     "outputs": [
      {
       "metadata": {},
       "output_type": "pyout",
       "prompt_number": 178,
       "text": [
        "[0.0, 0.25, 0.75]"
       ]
      }
     ],
     "prompt_number": 178
    },
    {
     "cell_type": "code",
     "collapsed": false,
     "input": [
      "def plot_nbricks(l, n):\n",
      "    bricks = generate_brick_sequence(l, 1, n)\n",
      "    plot_brick_sequence(bricks, compute_brick_shifts(bricks))\n",
      "    pl.xlim(0, n)\n",
      "    pl.ylim(0, n)"
     ],
     "language": "python",
     "metadata": {},
     "outputs": [],
     "prompt_number": 179
    },
    {
     "cell_type": "code",
     "collapsed": false,
     "input": [
      "interactive(plot_nbricks,\n",
      "            l=(0.1, 4, 0.1),\n",
      "            n=(2, 20))"
     ],
     "language": "python",
     "metadata": {},
     "outputs": [
      {
       "metadata": {},
       "output_type": "display_data",
       "png": "[encoded data removed]",
       "text": [
        "<matplotlib.figure.Figure at 0x67f2bd0>"
       ]
      }
     ],
     "prompt_number": 244
    },
    {
     "cell_type": "markdown",
     "metadata": {},
     "source": [
      "On peut maintenant calculer l'allongement maximal, obtenu avec une s\u00e9quence donn\u00e9e :"
     ]
    },
    {
     "cell_type": "code",
     "collapsed": false,
     "input": [
      "l = 1\n",
      "number_of_bricks = pl.linspace(1, 200, 50, pl.int32)\n",
      "distances = pl.zeros_like(number_of_bricks)\n",
      "for index, n in enumerate(number_of_bricks):\n",
      "    bricks = generate_brick_sequence(l, 1, int(n))\n",
      "    shifts = compute_brick_shifts(bricks)\n",
      "    distances[index] = max(shifts) + l/2.\n",
      "    #print \"distance covered by {0} brick arc is {0:.2f} units of distance\".format(n, distances[index])"
     ],
     "language": "python",
     "metadata": {},
     "outputs": [],
     "prompt_number": 218
    },
    {
     "cell_type": "code",
     "collapsed": false,
     "input": [
      "pl.plot(number_of_bricks, distances)\n",
      "pl.title(\"distance reached as a function of number of {0} length bricks\".format(l))\n",
      "pl.xlabel('brick unit length (distance units)')\n",
      "pl.ylabel('distance covered (distance units)')\n",
      "pl.grid(True)"
     ],
     "language": "python",
     "metadata": {},
     "outputs": [
      {
       "metadata": {},
       "output_type": "display_data",
       "png": "[encoded data removed]",
       "text": [
        "<matplotlib.figure.Figure at 0x67f2d30>"
       ]
      }
     ],
     "prompt_number": 223
    },
    {
     "cell_type": "markdown",
     "metadata": {},
     "source": [
      "Il semblerait que contrairement \u00e0 ce que je pensais, la distance couverte par l'arc puisse augmenter autant que l'on veut. Peut-on le prouver ?"
     ]
    },
    {
     "cell_type": "code",
     "collapsed": false,
     "input": [
      "#TODO"
     ],
     "language": "python",
     "metadata": {},
     "outputs": [],
     "prompt_number": 73
    },
    {
     "cell_type": "markdown",
     "metadata": {},
     "source": [
      "Autre sujet int\u00e9ressant : si l'on assemble des briques de longueur diff\u00e9rente, est-ce que la distance maximale couverte par $n$ briques change beaucoup ?"
     ]
    },
    {
     "cell_type": "code",
     "collapsed": false,
     "input": [
      "brick_lengths = pl.linspace(0.1, 10)\n",
      "distances = pl.zeros_like(brick_lengths)\n",
      "for l in brick_lengths:\n",
      "    bricks = generate_brick_sequence(l, 1, 100)\n",
      "    distances[brick_lengths == l] = max(compute_brick_shifts(bricks)) + l/2."
     ],
     "language": "python",
     "metadata": {},
     "outputs": [],
     "prompt_number": 182
    },
    {
     "cell_type": "code",
     "collapsed": false,
     "input": [
      "pl.plot(brick_lengths, distances)\n",
      "pl.xlabel('brick unit length (distance units)')\n",
      "pl.ylabel('distance units')\n",
      "pl.title('maximum distance covered by stacking 100 bricks')\n",
      "pl.grid(True)"
     ],
     "language": "python",
     "metadata": {},
     "outputs": [
      {
       "metadata": {},
       "output_type": "display_data",
       "png": "[encoded data removed]",
       "text": [
        "<matplotlib.figure.Figure at 0x537c2d0>"
       ]
      }
     ],
     "prompt_number": 183
    },
    {
     "cell_type": "markdown",
     "metadata": {},
     "source": [
      "La pente de la courbe pr\u00e9c\u00e9dente est :"
     ]
    },
    {
     "cell_type": "code",
     "collapsed": false,
     "input": [
      "(distances[-1] - distances[0])/(10 - 0.1)"
     ],
     "language": "python",
     "metadata": {},
     "outputs": [
      {
       "metadata": {},
       "output_type": "pyout",
       "prompt_number": 184,
       "text": [
        "3.08868875881981"
       ]
      }
     ],
     "prompt_number": 184
    },
    {
     "cell_type": "markdown",
     "metadata": {},
     "source": [
      "Pour finir, on peut empiler des s\u00e9ries de briques g\u00e9n\u00e9r\u00e9es al\u00e9atoirement. La force de ce que nous avons \u00e9crit est justement de s'adapter \u00e0 des briques identiques et \u00e0 des briques non-identiques :"
     ]
    },
    {
     "cell_type": "code",
     "collapsed": false,
     "input": [
      "def generate_random_brick_sequence(n):\n",
      "    return [(pl.rand(1), 0.2) for i in range(n)]"
     ],
     "language": "python",
     "metadata": {},
     "outputs": [],
     "prompt_number": 195
    },
    {
     "cell_type": "code",
     "collapsed": false,
     "input": [
      "def plot_random_bricks(n):\n",
      "    bricks = generate_random_brick_sequence(n)\n",
      "    shifts =  compute_brick_shifts(bricks)\n",
      "    plot_brick_sequence(bricks, shifts)"
     ],
     "language": "python",
     "metadata": {},
     "outputs": [],
     "prompt_number": 196
    },
    {
     "cell_type": "code",
     "collapsed": false,
     "input": [
      "plot_random_bricks(20)\n",
      "pl.ylim(0, 5)\n",
      "pl.xlim(0, 5)"
     ],
     "language": "python",
     "metadata": {},
     "outputs": [
      {
       "metadata": {},
       "output_type": "pyout",
       "prompt_number": 257,
       "text": [
        "(0, 5)"
       ]
      },
      {
       "metadata": {},
       "output_type": "display_data",
       "png": "[encoded data removed]",
       "text": [
        "<matplotlib.figure.Figure at 0x54b5db0>"
       ]
      }
     ],
     "prompt_number": 257
    },
    {
     "cell_type": "code",
     "collapsed": false,
     "input": [],
     "language": "python",
     "metadata": {},
     "outputs": []
    },
    {
     "cell_type": "code",
     "collapsed": false,
     "input": [],
     "language": "python",
     "metadata": {},
     "outputs": []
    },
    {
     "cell_type": "code",
     "collapsed": false,
     "input": [],
     "language": "python",
     "metadata": {},
     "outputs": []
    },
    {
     "cell_type": "code",
     "collapsed": false,
     "input": [],
     "language": "python",
     "metadata": {},
     "outputs": []
    },
    {
     "cell_type": "code",
     "collapsed": false,
     "input": [],
     "language": "python",
     "metadata": {},
     "outputs": []
    },
    {
     "cell_type": "code",
     "collapsed": false,
     "input": [],
     "language": "python",
     "metadata": {},
     "outputs": []
    },
    {
     "cell_type": "code",
     "collapsed": false,
     "input": [],
     "language": "python",
     "metadata": {},
     "outputs": []
    },
    {
     "cell_type": "code",
     "collapsed": false,
     "input": [],
     "language": "python",
     "metadata": {},
     "outputs": []
    }
   ],
   "metadata": {}
  }
 ]
}