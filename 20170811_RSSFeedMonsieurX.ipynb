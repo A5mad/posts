{
 "cells": [
  {
   "cell_type": "markdown",
   "metadata": {},
   "source": [
    "Pendant les vacances d'été, j'ai pris l'habitude de réécouter des épisodes du podcast [Rendez-vous avec X](https://fr.wikipedia.org/wiki/Rendez-vous_avec_X), tous archivés sur le site d'un passionné, <http://rendezvousavecmrx.free.fr>. Le site propose une liste alphabétique des différents épisodes sur une page web. Il se trouve que je préfère utiliser une application de podcast, et que pour pouvoir relire tous ces épisodes, il me faut un flux RSS. Je propose donc dans ce billet de créer un flux RSS à partir du site que je viens de citer.\n",
    "\n",
    "**Le lien pour le gestionnaire de podcast est le suivant :** <https://raw.githubusercontent.com/flothesof/posts/master/files/podcast_mr_x.xml>"
   ]
  },
  {
   "cell_type": "markdown",
   "metadata": {},
   "source": [
    "# Un flux RSS ?"
   ]
  },
  {
   "cell_type": "markdown",
   "metadata": {},
   "source": [
    "Un flux RSS est un fichier qui permet de déclarer les épisodes d'un podcast ainsi que de diffuser les liens vers les médias (mp3). La [page wikipédia](https://fr.wikipedia.org/wiki/RSS) propose l'exemple suivant :\n",
    "\n",
    "```\n",
    "<?xml version=\"1.0\" encoding=\"UTF-8\"?>\n",
    "<rss version=\"2.0\">\n",
    "    <channel>\n",
    "        <title>Mon site</title>\n",
    "        <description>Ceci est un exemple de flux RSS 2.0</description>\n",
    "        <lastBuildDate>Sat, 07 Sep 2002 00:00:01 GMT</lastBuildDate>\n",
    "        <link>http://www.example.org</link>\n",
    "        <item>\n",
    "            <title>Actualité N°1</title>\n",
    "            <description>Ceci est ma première actualité</description>\n",
    "            <pubDate>Sat, 07 Sep 2002 00:00:01 GMT</pubDate>\n",
    "            <link>http://www.example.org/actu1</link>\n",
    "        </item>\n",
    "        <item>\n",
    "            <title>Actualité N°2</title>\n",
    "            <description>Ceci est ma seconde actualité</description>\n",
    "            <pubDate>Sat, 07 Sep 2002 00:00:01 GMT</pubDate>\n",
    "            <link>http://www.example.org/actu2</link>\n",
    "        </item>\n",
    "    </channel>\n",
    "</rss>\n",
    "```"
   ]
  },
  {
   "cell_type": "markdown",
   "metadata": {},
   "source": [
    "Pour écrire un fichier RSS, nous allons donc tout d'abord récupérer les épisodes disponibles sur le site <http://rendezvousavecmrx.free.fr>."
   ]
  },
  {
   "cell_type": "markdown",
   "metadata": {},
   "source": [
    "# Téléchargement des liens vers les épisodes"
   ]
  },
  {
   "cell_type": "markdown",
   "metadata": {},
   "source": [
    "Nous allons partir de la page qui recense tous les épisodes par liste alphabétique : <http://rendezvousavecmrx.free.fr/page/liste.php>. Nous allons utiliser BeautifulSoup pour ceci."
   ]
  },
  {
   "cell_type": "code",
   "execution_count": 1,
   "metadata": {
    "collapsed": true
   },
   "outputs": [],
   "source": [
    "from bs4 import BeautifulSoup"
   ]
  },
  {
   "cell_type": "code",
   "execution_count": 2,
   "metadata": {
    "collapsed": true
   },
   "outputs": [],
   "source": [
    "import requests"
   ]
  },
  {
   "cell_type": "markdown",
   "metadata": {},
   "source": [
    "Dans un premier temps, nous téléchargeons la page :"
   ]
  },
  {
   "cell_type": "code",
   "execution_count": 3,
   "metadata": {
    "collapsed": true
   },
   "outputs": [],
   "source": [
    "r = requests.get('http://rendezvousavecmrx.free.fr/page/liste.php')\n",
    "r.encoding = 'utf-8'"
   ]
  },
  {
   "cell_type": "code",
   "execution_count": 4,
   "metadata": {
    "collapsed": true
   },
   "outputs": [],
   "source": [
    "soup = BeautifulSoup(r.text, 'html.parser')"
   ]
  },
  {
   "cell_type": "markdown",
   "metadata": {},
   "source": [
    "Puis nous en extrayons les lignes qui contiennent chacun une émission :"
   ]
  },
  {
   "cell_type": "code",
   "execution_count": 5,
   "metadata": {
    "collapsed": true
   },
   "outputs": [],
   "source": [
    "rows = soup.find('table').find_all('tr')"
   ]
  },
  {
   "cell_type": "markdown",
   "metadata": {},
   "source": [
    "Enfin, nous extrayons de chaque ligne l'adresse vers la page dédiée :"
   ]
  },
  {
   "cell_type": "code",
   "execution_count": 6,
   "metadata": {
    "collapsed": true
   },
   "outputs": [],
   "source": [
    "links = ['http://rendezvousavecmrx.free.fr/page/' + row.find_all('td')[1].find('a').attrs['href'] for row in rows]"
   ]
  },
  {
   "cell_type": "markdown",
   "metadata": {},
   "source": [
    "Combien d'émissions trouvons nous ? "
   ]
  },
  {
   "cell_type": "code",
   "execution_count": 7,
   "metadata": {},
   "outputs": [
    {
     "data": {
      "text/plain": [
       "769"
      ]
     },
     "execution_count": 7,
     "metadata": {},
     "output_type": "execute_result"
    }
   ],
   "source": [
    "len(links)"
   ]
  },
  {
   "cell_type": "markdown",
   "metadata": {},
   "source": [
    "# Extraction des propriétés de chaque épisode"
   ]
  },
  {
   "cell_type": "markdown",
   "metadata": {},
   "source": [
    "A partir de ces liens individuels, nous pouvons télécharger chacune des pages et en extraire les informations que nous cherchons. Prenons pour exemple le premier lien de la liste."
   ]
  },
  {
   "cell_type": "code",
   "execution_count": 8,
   "metadata": {},
   "outputs": [
    {
     "data": {
      "text/plain": [
       "'http://rendezvousavecmrx.free.fr/page/detail_emission.php?cle_emission=411'"
      ]
     },
     "execution_count": 8,
     "metadata": {},
     "output_type": "execute_result"
    }
   ],
   "source": [
    "link = links[6]\n",
    "link"
   ]
  },
  {
   "cell_type": "markdown",
   "metadata": {},
   "source": [
    "On télécharge la page :"
   ]
  },
  {
   "cell_type": "code",
   "execution_count": 9,
   "metadata": {
    "collapsed": true
   },
   "outputs": [],
   "source": [
    "r = requests.get(link)\n",
    "r.encoding = 'utf-8'"
   ]
  },
  {
   "cell_type": "code",
   "execution_count": 10,
   "metadata": {
    "collapsed": true
   },
   "outputs": [],
   "source": [
    "soup = BeautifulSoup(r.text, 'html.parser')"
   ]
  },
  {
   "cell_type": "code",
   "execution_count": 11,
   "metadata": {
    "collapsed": true
   },
   "outputs": [],
   "source": [
    "centre = soup.find(id='centre')"
   ]
  },
  {
   "cell_type": "markdown",
   "metadata": {},
   "source": [
    "On en extrait la date de l'émission :"
   ]
  },
  {
   "cell_type": "code",
   "execution_count": 12,
   "metadata": {},
   "outputs": [
    {
     "data": {
      "text/plain": [
       "['07 juillet 2007', '06 janvier 2007']"
      ]
     },
     "execution_count": 12,
     "metadata": {},
     "output_type": "execute_result"
    }
   ],
   "source": [
    "[tag.next_sibling.strip() for tag in centre.find('strong').select('br')[:-1]]"
   ]
  },
  {
   "cell_type": "markdown",
   "metadata": {},
   "source": [
    "Le lien de téléchargement : "
   ]
  },
  {
   "cell_type": "code",
   "execution_count": 13,
   "metadata": {},
   "outputs": [
    {
     "data": {
      "text/plain": [
       "'../audio/mr_x_2007_01_06.mp3'"
      ]
     },
     "execution_count": 13,
     "metadata": {},
     "output_type": "execute_result"
    }
   ],
   "source": [
    "centre.find(id='telechargement').find('a').attrs['href']"
   ]
  },
  {
   "cell_type": "code",
   "execution_count": 14,
   "metadata": {},
   "outputs": [
    {
     "data": {
      "text/plain": [
       "'http://rendezvousavecmrx.free.fr/audio/mr_x_2007_01_06.mp3'"
      ]
     },
     "execution_count": 14,
     "metadata": {},
     "output_type": "execute_result"
    }
   ],
   "source": [
    "centre.find(id='telechargement').find('a').attrs['href'].replace('..', 'http://rendezvousavecmrx.free.fr')"
   ]
  },
  {
   "cell_type": "markdown",
   "metadata": {},
   "source": [
    "Ainsi que le titre : "
   ]
  },
  {
   "cell_type": "code",
   "execution_count": 15,
   "metadata": {},
   "outputs": [
    {
     "data": {
      "text/plain": [
       "'17 octobre 1961'"
      ]
     },
     "execution_count": 15,
     "metadata": {},
     "output_type": "execute_result"
    }
   ],
   "source": [
    "centre.find(id='titre').text.strip()"
   ]
  },
  {
   "cell_type": "markdown",
   "metadata": {},
   "source": [
    "Et la description :"
   ]
  },
  {
   "cell_type": "code",
   "execution_count": 16,
   "metadata": {},
   "outputs": [
    {
     "data": {
      "text/plain": [
       "\"Il s'agit de l'une des pages les plus noires de notre histoire contemporaine : la répression de la manifestation algérienne du 17 octobre 1961. Ce jour-là, ou plutôt cette nuit-là, les forces de l'ordre, policiers, gendarmes, CRS confondus ont fait preuve d'une violence inouïe, rarement vue sur le territoire français. Un véritable déchaînement au coeur de Paris qui a sans doute fait au moins 200 morts parmi les manifestants. Et pendant plusieurs jours on repêchera régulièrement des cadavres dans la Seine.Pourtant, ces événements sanglants passeront presque inaperçus. Il est clair que la France n'a pas voulu voir. Et d'abord parce que les victimes étaient des indigènes, comme on disait à l'époque. C'est à dire des Français de seconde zone. Cet aveuglement sera tel que les autorités, à commencer par le préfet de police Maurice Papon, pourront longtemps prétendre que seuls trois hommes ont trouvé la mort ce 17 octobre 1961. Et encore l'un d'entre eux, un européen, n'aurait-il été victime que d'une crise cardiaque.Censure, indifférence, mensonges, amnistie précipitée se seront donc conjugués afin que ce massacre soit rejeté dans les oubliettes de l'Histoire. Et il faudra presque 30 ans et l'ouverture du procès de Maurice Papon pour crimes contre l'Humanité pour que la vérité, accablante, émerge peu à peu.Mais le plus étonnant n'est peut-être pas là. Pourquoi, alors que la paix en Algérie semblait pratiquement acquise en cette fin 1961, une manifestation pacifique a-t-elle été réprimée de façon aussi meurtrière ? Quels étaient les mobiles des uns et des autres ? Qui avait intérêt à noyer dans le sang ce sursaut de fierté des Algériens de France ?Monsieur X essaie de démêler les fils d'une affaire qui demeure une tache indélébile sur l'histoire de notre pays.\""
      ]
     },
     "execution_count": 16,
     "metadata": {},
     "output_type": "execute_result"
    }
   ],
   "source": [
    "centre.find(id='emission').text.strip()"
   ]
  },
  {
   "cell_type": "markdown",
   "metadata": {},
   "source": [
    "Nous sommes prêts à écrire une fonction qui va nous permettre de générer les données dont nous avons besoin."
   ]
  },
  {
   "cell_type": "code",
   "execution_count": 17,
   "metadata": {
    "collapsed": true
   },
   "outputs": [],
   "source": [
    "from collections import OrderedDict"
   ]
  },
  {
   "cell_type": "code",
   "execution_count": 18,
   "metadata": {
    "collapsed": true
   },
   "outputs": [],
   "source": [
    "def extract_props(r):\n",
    "    \"\"\"Extracts properties from request r.\"\"\"\n",
    "    soup = BeautifulSoup(r.text, 'html.parser')\n",
    "    centre = soup.find(id='centre')\n",
    "    props = OrderedDict()\n",
    "    props['date'] = [tag.next_sibling.strip() for tag in centre.find('strong').select('br')[:-1]]\n",
    "    props['titre'] = centre.find(id='titre').text.strip()\n",
    "    props['media'] = centre.find(id='telechargement').find('a').attrs['href'].replace('..', 'http://rendezvousavecmrx.free.fr')\n",
    "    props['contenu'] = centre.find(id='emission').text.strip()\n",
    "    return props"
   ]
  },
  {
   "cell_type": "markdown",
   "metadata": {},
   "source": [
    "On vérifie que la fonction donne le résultat attendu :"
   ]
  },
  {
   "cell_type": "code",
   "execution_count": 19,
   "metadata": {},
   "outputs": [
    {
     "data": {
      "text/plain": [
       "OrderedDict([('date', ['07 juillet 2007', '06 janvier 2007']),\n",
       "             ('titre', '17 octobre 1961'),\n",
       "             ('media',\n",
       "              'http://rendezvousavecmrx.free.fr/audio/mr_x_2007_01_06.mp3'),\n",
       "             ('contenu',\n",
       "              \"Il s'agit de l'une des pages les plus noires de notre histoire contemporaine : la répression de la manifestation algérienne du 17 octobre 1961. Ce jour-là, ou plutôt cette nuit-là, les forces de l'ordre, policiers, gendarmes, CRS confondus ont fait preuve d'une violence inouïe, rarement vue sur le territoire français. Un véritable déchaînement au coeur de Paris qui a sans doute fait au moins 200 morts parmi les manifestants. Et pendant plusieurs jours on repêchera régulièrement des cadavres dans la Seine.Pourtant, ces événements sanglants passeront presque inaperçus. Il est clair que la France n'a pas voulu voir. Et d'abord parce que les victimes étaient des indigènes, comme on disait à l'époque. C'est à dire des Français de seconde zone. Cet aveuglement sera tel que les autorités, à commencer par le préfet de police Maurice Papon, pourront longtemps prétendre que seuls trois hommes ont trouvé la mort ce 17 octobre 1961. Et encore l'un d'entre eux, un européen, n'aurait-il été victime que d'une crise cardiaque.Censure, indifférence, mensonges, amnistie précipitée se seront donc conjugués afin que ce massacre soit rejeté dans les oubliettes de l'Histoire. Et il faudra presque 30 ans et l'ouverture du procès de Maurice Papon pour crimes contre l'Humanité pour que la vérité, accablante, émerge peu à peu.Mais le plus étonnant n'est peut-être pas là. Pourquoi, alors que la paix en Algérie semblait pratiquement acquise en cette fin 1961, une manifestation pacifique a-t-elle été réprimée de façon aussi meurtrière ? Quels étaient les mobiles des uns et des autres ? Qui avait intérêt à noyer dans le sang ce sursaut de fierté des Algériens de France ?Monsieur X essaie de démêler les fils d'une affaire qui demeure une tache indélébile sur l'histoire de notre pays.\")])"
      ]
     },
     "execution_count": 19,
     "metadata": {},
     "output_type": "execute_result"
    }
   ],
   "source": [
    "extract_props(r)"
   ]
  },
  {
   "cell_type": "markdown",
   "metadata": {},
   "source": [
    "On peut maintenant faire une boucle sur chacune des émissions :"
   ]
  },
  {
   "cell_type": "code",
   "execution_count": 20,
   "metadata": {
    "collapsed": true
   },
   "outputs": [],
   "source": [
    "import tqdm"
   ]
  },
  {
   "cell_type": "code",
   "execution_count": 21,
   "metadata": {},
   "outputs": [
    {
     "name": "stderr",
     "output_type": "stream",
     "text": [
      "100%|██████████| 769/769 [00:48<00:00, 16.93it/s]\n"
     ]
    }
   ],
   "source": [
    "allprops = []\n",
    "for link in tqdm.tqdm(links):\n",
    "    r = requests.get(link)\n",
    "    r.encoding = 'utf-8'\n",
    "    allprops.append(extract_props(r))"
   ]
  },
  {
   "cell_type": "markdown",
   "metadata": {},
   "source": [
    "# Construction d'une table des épisodes classée par date"
   ]
  },
  {
   "cell_type": "markdown",
   "metadata": {},
   "source": [
    "Avec les données précédentes, nous pouvons maintenant créer un grand tableau de toutes les émissions :"
   ]
  },
  {
   "cell_type": "code",
   "execution_count": 24,
   "metadata": {
    "collapsed": true
   },
   "outputs": [],
   "source": [
    "import pandas as pd\n",
    "import dateparser"
   ]
  },
  {
   "cell_type": "code",
   "execution_count": 26,
   "metadata": {},
   "outputs": [],
   "source": [
    "df = pd.DataFrame(allprops)\n",
    "df['date'] = [items[0] for items in df['date']]\n",
    "df[df.titre == ''] = pd.np.nan\n",
    "df[df.media == 'http://rendezvousavecmrx.free.fr/audio/'] = pd.np.nan\n",
    "df = df.dropna()\n",
    "df['date'] = pd.to_datetime([dateparser.parse(date).date() for date in df.date])\n",
    "df = df.sort_values(by='date')"
   ]
  },
  {
   "cell_type": "code",
   "execution_count": 27,
   "metadata": {},
   "outputs": [
    {
     "data": {
      "text/html": [
       "<div>\n",
       "<style>\n",
       "    .dataframe thead tr:only-child th {\n",
       "        text-align: right;\n",
       "    }\n",
       "\n",
       "    .dataframe thead th {\n",
       "        text-align: left;\n",
       "    }\n",
       "\n",
       "    .dataframe tbody tr th {\n",
       "        vertical-align: top;\n",
       "    }\n",
       "</style>\n",
       "<table border=\"1\" class=\"dataframe\">\n",
       "  <thead>\n",
       "    <tr style=\"text-align: right;\">\n",
       "      <th></th>\n",
       "      <th>date</th>\n",
       "      <th>titre</th>\n",
       "      <th>media</th>\n",
       "      <th>contenu</th>\n",
       "    </tr>\n",
       "  </thead>\n",
       "  <tbody>\n",
       "    <tr>\n",
       "      <th>312</th>\n",
       "      <td>1997-01-04</td>\n",
       "      <td>La 5ème colonne</td>\n",
       "      <td>http://rendezvousavecmrx.free.fr/audio/mr_x_19...</td>\n",
       "      <td></td>\n",
       "    </tr>\n",
       "    <tr>\n",
       "      <th>687</th>\n",
       "      <td>1997-01-11</td>\n",
       "      <td>Rennes-le-Château et l'abbé Saunières</td>\n",
       "      <td>http://rendezvousavecmrx.free.fr/audio/mr_x_19...</td>\n",
       "      <td></td>\n",
       "    </tr>\n",
       "    <tr>\n",
       "      <th>639</th>\n",
       "      <td>1997-01-18</td>\n",
       "      <td>Noël Field</td>\n",
       "      <td>http://rendezvousavecmrx.free.fr/audio/mr_x_19...</td>\n",
       "      <td></td>\n",
       "    </tr>\n",
       "    <tr>\n",
       "      <th>503</th>\n",
       "      <td>1997-01-25</td>\n",
       "      <td>Le réseau Odessa</td>\n",
       "      <td>http://rendezvousavecmrx.free.fr/audio/mr_x_19...</td>\n",
       "      <td></td>\n",
       "    </tr>\n",
       "    <tr>\n",
       "      <th>469</th>\n",
       "      <td>1997-02-01</td>\n",
       "      <td>Le masque de fer</td>\n",
       "      <td>http://rendezvousavecmrx.free.fr/audio/mr_x_19...</td>\n",
       "      <td></td>\n",
       "    </tr>\n",
       "    <tr>\n",
       "      <th>332</th>\n",
       "      <td>1997-02-08</td>\n",
       "      <td>La défaite de 1940</td>\n",
       "      <td>http://rendezvousavecmrx.free.fr/audio/mr_x_19...</td>\n",
       "      <td></td>\n",
       "    </tr>\n",
       "    <tr>\n",
       "      <th>186</th>\n",
       "      <td>1997-02-22</td>\n",
       "      <td>Jean de Broglie</td>\n",
       "      <td>http://rendezvousavecmrx.free.fr/audio/mr_x_19...</td>\n",
       "      <td></td>\n",
       "    </tr>\n",
       "    <tr>\n",
       "      <th>723</th>\n",
       "      <td>1997-03-01</td>\n",
       "      <td>Sergueï Efron</td>\n",
       "      <td>http://rendezvousavecmrx.free.fr/audio/mr_x_19...</td>\n",
       "      <td></td>\n",
       "    </tr>\n",
       "    <tr>\n",
       "      <th>395</th>\n",
       "      <td>1997-03-08</td>\n",
       "      <td>La rumeur Mitterand</td>\n",
       "      <td>http://rendezvousavecmrx.free.fr/audio/mr_x_19...</td>\n",
       "      <td></td>\n",
       "    </tr>\n",
       "    <tr>\n",
       "      <th>666</th>\n",
       "      <td>1997-03-15</td>\n",
       "      <td>Pierre Cardot</td>\n",
       "      <td>http://rendezvousavecmrx.free.fr/audio/mr_x_19...</td>\n",
       "      <td></td>\n",
       "    </tr>\n",
       "    <tr>\n",
       "      <th>649</th>\n",
       "      <td>1997-03-22</td>\n",
       "      <td>Opération Timsilt</td>\n",
       "      <td>http://rendezvousavecmrx.free.fr/audio/mr_x_19...</td>\n",
       "      <td></td>\n",
       "    </tr>\n",
       "    <tr>\n",
       "      <th>106</th>\n",
       "      <td>1997-03-29</td>\n",
       "      <td>Dracula</td>\n",
       "      <td>http://rendezvousavecmrx.free.fr/audio/mr_x_19...</td>\n",
       "      <td></td>\n",
       "    </tr>\n",
       "    <tr>\n",
       "      <th>706</th>\n",
       "      <td>1997-04-05</td>\n",
       "      <td>Rudolph Abel</td>\n",
       "      <td>http://rendezvousavecmrx.free.fr/audio/mr_x_19...</td>\n",
       "      <td></td>\n",
       "    </tr>\n",
       "    <tr>\n",
       "      <th>468</th>\n",
       "      <td>1997-04-12</td>\n",
       "      <td>Le mage de Marsal</td>\n",
       "      <td>http://rendezvousavecmrx.free.fr/audio/mr_x_19...</td>\n",
       "      <td></td>\n",
       "    </tr>\n",
       "    <tr>\n",
       "      <th>86</th>\n",
       "      <td>1997-04-19</td>\n",
       "      <td>Che Guevara</td>\n",
       "      <td>http://rendezvousavecmrx.free.fr/audio/mr_x_19...</td>\n",
       "      <td></td>\n",
       "    </tr>\n",
       "    <tr>\n",
       "      <th>172</th>\n",
       "      <td>1997-04-26</td>\n",
       "      <td>Israel Beer</td>\n",
       "      <td>http://rendezvousavecmrx.free.fr/audio/mr_x_19...</td>\n",
       "      <td></td>\n",
       "    </tr>\n",
       "    <tr>\n",
       "      <th>196</th>\n",
       "      <td>1997-05-03</td>\n",
       "      <td>Joseph Joinovici</td>\n",
       "      <td>http://rendezvousavecmrx.free.fr/audio/mr_x_19...</td>\n",
       "      <td></td>\n",
       "    </tr>\n",
       "    <tr>\n",
       "      <th>92</th>\n",
       "      <td>1997-05-10</td>\n",
       "      <td>Croyez-vous aux fantômes ?</td>\n",
       "      <td>http://rendezvousavecmrx.free.fr/audio/mr_x_19...</td>\n",
       "      <td></td>\n",
       "    </tr>\n",
       "    <tr>\n",
       "      <th>229</th>\n",
       "      <td>1997-05-17</td>\n",
       "      <td>L'affaire Farewell</td>\n",
       "      <td>http://rendezvousavecmrx.free.fr/audio/mr_x_19...</td>\n",
       "      <td></td>\n",
       "    </tr>\n",
       "    <tr>\n",
       "      <th>504</th>\n",
       "      <td>1997-05-24</td>\n",
       "      <td>Le réseau Prosper</td>\n",
       "      <td>http://rendezvousavecmrx.free.fr/audio/mr_x_19...</td>\n",
       "      <td></td>\n",
       "    </tr>\n",
       "    <tr>\n",
       "      <th>310</th>\n",
       "      <td>1997-05-31</td>\n",
       "      <td>L'opposition à l'indépendance algérienne</td>\n",
       "      <td>http://rendezvousavecmrx.free.fr/audio/mr_x_19...</td>\n",
       "      <td></td>\n",
       "    </tr>\n",
       "    <tr>\n",
       "      <th>455</th>\n",
       "      <td>1997-06-07</td>\n",
       "      <td>Le Général Sikorski</td>\n",
       "      <td>http://rendezvousavecmrx.free.fr/audio/mr_x_19...</td>\n",
       "      <td></td>\n",
       "    </tr>\n",
       "    <tr>\n",
       "      <th>354</th>\n",
       "      <td>1997-06-21</td>\n",
       "      <td>La guerre du Kipour</td>\n",
       "      <td>http://rendezvousavecmrx.free.fr/audio/mr_x_19...</td>\n",
       "      <td></td>\n",
       "    </tr>\n",
       "    <tr>\n",
       "      <th>728</th>\n",
       "      <td>1997-06-28</td>\n",
       "      <td>Szkolnikoff</td>\n",
       "      <td>http://rendezvousavecmrx.free.fr/audio/mr_x_19...</td>\n",
       "      <td></td>\n",
       "    </tr>\n",
       "    <tr>\n",
       "      <th>326</th>\n",
       "      <td>1997-07-05</td>\n",
       "      <td>La chasse aux cerveaux</td>\n",
       "      <td>http://rendezvousavecmrx.free.fr/audio/mr_x_19...</td>\n",
       "      <td></td>\n",
       "    </tr>\n",
       "    <tr>\n",
       "      <th>370</th>\n",
       "      <td>1997-09-13</td>\n",
       "      <td>La Main Rouge</td>\n",
       "      <td>http://rendezvousavecmrx.free.fr/audio/mr_x_19...</td>\n",
       "      <td></td>\n",
       "    </tr>\n",
       "    <tr>\n",
       "      <th>591</th>\n",
       "      <td>1997-09-20</td>\n",
       "      <td>Les vedettes de Cherbourg</td>\n",
       "      <td>http://rendezvousavecmrx.free.fr/audio/mr_x_19...</td>\n",
       "      <td></td>\n",
       "    </tr>\n",
       "    <tr>\n",
       "      <th>617</th>\n",
       "      <td>1997-09-27</td>\n",
       "      <td>Michel Baroin</td>\n",
       "      <td>http://rendezvousavecmrx.free.fr/audio/mr_x_19...</td>\n",
       "      <td></td>\n",
       "    </tr>\n",
       "    <tr>\n",
       "      <th>217</th>\n",
       "      <td>1997-10-04</td>\n",
       "      <td>L'affaire Cicéron</td>\n",
       "      <td>http://rendezvousavecmrx.free.fr/audio/mr_x_19...</td>\n",
       "      <td></td>\n",
       "    </tr>\n",
       "    <tr>\n",
       "      <th>376</th>\n",
       "      <td>1997-10-18</td>\n",
       "      <td>La mort de JFK</td>\n",
       "      <td>http://rendezvousavecmrx.free.fr/audio/mr_x_19...</td>\n",
       "      <td></td>\n",
       "    </tr>\n",
       "    <tr>\n",
       "      <th>...</th>\n",
       "      <td>...</td>\n",
       "      <td>...</td>\n",
       "      <td>...</td>\n",
       "      <td>...</td>\n",
       "    </tr>\n",
       "    <tr>\n",
       "      <th>695</th>\n",
       "      <td>2014-11-22</td>\n",
       "      <td>Retour sur la Papouasie Occidentale annexée pa...</td>\n",
       "      <td>http://rendezvousavecmrx.free.fr/audio/mr_x_20...</td>\n",
       "      <td>Ils ont enfin recouvré la liberté, Valentine B...</td>\n",
       "    </tr>\n",
       "    <tr>\n",
       "      <th>388</th>\n",
       "      <td>2014-11-29</td>\n",
       "      <td>La revanche de Sankara</td>\n",
       "      <td>http://rendezvousavecmrx.free.fr/audio/mr_x_20...</td>\n",
       "      <td>Jamais une expression imagée n'a été aussi bie...</td>\n",
       "    </tr>\n",
       "    <tr>\n",
       "      <th>382</th>\n",
       "      <td>2014-12-06</td>\n",
       "      <td>La persécution des Ouïgours en Chine (1/2)</td>\n",
       "      <td>http://rendezvousavecmrx.free.fr/audio/mr_x_20...</td>\n",
       "      <td>On l'appelle la rébellion des parapluies... Ce...</td>\n",
       "    </tr>\n",
       "    <tr>\n",
       "      <th>383</th>\n",
       "      <td>2014-12-13</td>\n",
       "      <td>La persécution des Ouïgours en Chine (2/2)</td>\n",
       "      <td>http://rendezvousavecmrx.free.fr/audio/mr_x_20...</td>\n",
       "      <td>C'est le Far West des Chinois : le Xinjiang, u...</td>\n",
       "    </tr>\n",
       "    <tr>\n",
       "      <th>625</th>\n",
       "      <td>2014-12-20</td>\n",
       "      <td>Mokhtar Belmokhtar</td>\n",
       "      <td>http://rendezvousavecmrx.free.fr/audio/mr_x_20...</td>\n",
       "      <td>L'actualité avait finir par les oublier quelqu...</td>\n",
       "    </tr>\n",
       "    <tr>\n",
       "      <th>621</th>\n",
       "      <td>2014-12-27</td>\n",
       "      <td>Mincemeat, une opération d'intoxication au coe...</td>\n",
       "      <td>http://rendezvousavecmrx.free.fr/audio/mr_x_20...</td>\n",
       "      <td>'Opération Chair à pâté' ! Non, il ne s'agit p...</td>\n",
       "    </tr>\n",
       "    <tr>\n",
       "      <th>112</th>\n",
       "      <td>2015-01-03</td>\n",
       "      <td>Edward VIII, un roi nazi ?</td>\n",
       "      <td>http://rendezvousavecmrx.free.fr/audio/mr_x_20...</td>\n",
       "      <td>On a voulu faire croire à une histoire d'amour...</td>\n",
       "    </tr>\n",
       "    <tr>\n",
       "      <th>511</th>\n",
       "      <td>2015-01-10</td>\n",
       "      <td>Le scandale UraMin (1/2)</td>\n",
       "      <td>http://rendezvousavecmrx.free.fr/audio/mr_x_20...</td>\n",
       "      <td>Polar, thriller, scandale. Et même affaire d'é...</td>\n",
       "    </tr>\n",
       "    <tr>\n",
       "      <th>512</th>\n",
       "      <td>2015-01-17</td>\n",
       "      <td>Le scandale UraMin (2/2)</td>\n",
       "      <td>http://rendezvousavecmrx.free.fr/audio/mr_x_20...</td>\n",
       "      <td>Deux milliards et demi de dollars : le prix d'...</td>\n",
       "    </tr>\n",
       "    <tr>\n",
       "      <th>99</th>\n",
       "      <td>2015-01-24</td>\n",
       "      <td>Décembre 2014 : échange d'espions entre Cuba e...</td>\n",
       "      <td>http://rendezvousavecmrx.free.fr/audio/mr_x_20...</td>\n",
       "      <td>Pourquoi a-t-elle été oubliée ? Oui, pourquoi ...</td>\n",
       "    </tr>\n",
       "    <tr>\n",
       "      <th>58</th>\n",
       "      <td>2015-01-31</td>\n",
       "      <td>Assassinats et corruption sur la Côte d'Azur (...</td>\n",
       "      <td>http://rendezvousavecmrx.free.fr/audio/mr_x_20...</td>\n",
       "      <td>Vingt ans après, le mystère n'est toujours pas...</td>\n",
       "    </tr>\n",
       "    <tr>\n",
       "      <th>59</th>\n",
       "      <td>2015-02-07</td>\n",
       "      <td>Assassinats et corruption sur la Côte d'Azur (...</td>\n",
       "      <td>http://rendezvousavecmrx.free.fr/audio/mr_x_20...</td>\n",
       "      <td>La députée Yann Piat a été assassinée en févri...</td>\n",
       "    </tr>\n",
       "    <tr>\n",
       "      <th>735</th>\n",
       "      <td>2015-02-14</td>\n",
       "      <td>Togo, le pays des 'sorciers blancs'</td>\n",
       "      <td>http://rendezvousavecmrx.free.fr/audio/mr_x_20...</td>\n",
       "      <td>Après le Burkina Faso, la République démocrati...</td>\n",
       "    </tr>\n",
       "    <tr>\n",
       "      <th>693</th>\n",
       "      <td>2015-02-21</td>\n",
       "      <td>Retour sur la Libye (1/2)</td>\n",
       "      <td>http://rendezvousavecmrx.free.fr/audio/mr_x_20...</td>\n",
       "      <td>Où va la Libye ? Dotée de centaines de milices...</td>\n",
       "    </tr>\n",
       "    <tr>\n",
       "      <th>694</th>\n",
       "      <td>2015-02-28</td>\n",
       "      <td>Retour sur la Libye (2/2)</td>\n",
       "      <td>http://rendezvousavecmrx.free.fr/audio/mr_x_20...</td>\n",
       "      <td>Et si les Kadhafistes revenaient au pouvoir en...</td>\n",
       "    </tr>\n",
       "    <tr>\n",
       "      <th>8</th>\n",
       "      <td>2015-03-07</td>\n",
       "      <td>1944, massacre au camp de Thiaroye</td>\n",
       "      <td>http://rendezvousavecmrx.free.fr/audio/mr_x_20...</td>\n",
       "      <td>Et si tout avait commencé à Thiaroye ? Tout, c...</td>\n",
       "    </tr>\n",
       "    <tr>\n",
       "      <th>678</th>\n",
       "      <td>2015-03-14</td>\n",
       "      <td>Qui a tué le procureur argentin Alberto Nisman...</td>\n",
       "      <td>http://rendezvousavecmrx.free.fr/audio/mr_x_20...</td>\n",
       "      <td>'Je suis Nisman !' Comme les millions de Franç...</td>\n",
       "    </tr>\n",
       "    <tr>\n",
       "      <th>679</th>\n",
       "      <td>2015-03-21</td>\n",
       "      <td>Qui a tué le procureur argentin Alberto Nisman...</td>\n",
       "      <td>http://rendezvousavecmrx.free.fr/audio/mr_x_20...</td>\n",
       "      <td>Ses proches sont formels : le procureur argent...</td>\n",
       "    </tr>\n",
       "    <tr>\n",
       "      <th>132</th>\n",
       "      <td>2015-03-28</td>\n",
       "      <td>Gary Webb, l'homme qui a eu raison trop tôt</td>\n",
       "      <td>http://rendezvousavecmrx.free.fr/audio/mr_x_20...</td>\n",
       "      <td>Le résumé de l'histoire, le pitch, comme on di...</td>\n",
       "    </tr>\n",
       "    <tr>\n",
       "      <th>767</th>\n",
       "      <td>2015-04-11</td>\n",
       "      <td>Zaïre : le retour des 'Affreux'</td>\n",
       "      <td>http://rendezvousavecmrx.free.fr/audio/mr_x_20...</td>\n",
       "      <td>On les a appelés les 'Affreux'. Des mercenaire...</td>\n",
       "    </tr>\n",
       "    <tr>\n",
       "      <th>168</th>\n",
       "      <td>2015-04-18</td>\n",
       "      <td>Iran, le retour (1/2)</td>\n",
       "      <td>http://rendezvousavecmrx.free.fr/audio/mr_x_20...</td>\n",
       "      <td>Il faut le reconnaître : l'Iran est devenu auj...</td>\n",
       "    </tr>\n",
       "    <tr>\n",
       "      <th>169</th>\n",
       "      <td>2015-04-25</td>\n",
       "      <td>Iran, le retour (2/2)</td>\n",
       "      <td>http://rendezvousavecmrx.free.fr/audio/mr_x_20...</td>\n",
       "      <td>'Vers l'Orient compliqué, je volais avec des i...</td>\n",
       "    </tr>\n",
       "    <tr>\n",
       "      <th>351</th>\n",
       "      <td>2015-05-02</td>\n",
       "      <td>La guerre des clans au Kazakhstan et ses rebon...</td>\n",
       "      <td>http://rendezvousavecmrx.free.fr/audio/mr_x_20...</td>\n",
       "      <td>Il est tout puissant. Et il est riche, très ri...</td>\n",
       "    </tr>\n",
       "    <tr>\n",
       "      <th>546</th>\n",
       "      <td>2015-05-09</td>\n",
       "      <td>Les cellules Alpha</td>\n",
       "      <td>http://rendezvousavecmrx.free.fr/audio/mr_x_20...</td>\n",
       "      <td>C'est le secret dans le secret ! L'existence a...</td>\n",
       "    </tr>\n",
       "    <tr>\n",
       "      <th>637</th>\n",
       "      <td>2015-05-16</td>\n",
       "      <td>Nkrumah et Ben Barka frères de combat (1/2)</td>\n",
       "      <td>http://rendezvousavecmrx.free.fr/audio/mr_x_20...</td>\n",
       "      <td>Certains de ses partisans l'appelaient 'Monsie...</td>\n",
       "    </tr>\n",
       "    <tr>\n",
       "      <th>638</th>\n",
       "      <td>2015-05-23</td>\n",
       "      <td>Nkrumah et Ben Barka frères de combat (2/2)</td>\n",
       "      <td>http://rendezvousavecmrx.free.fr/audio/mr_x_20...</td>\n",
       "      <td>C'était le héros du panafricanisme et il ne rê...</td>\n",
       "    </tr>\n",
       "    <tr>\n",
       "      <th>742</th>\n",
       "      <td>2015-05-30</td>\n",
       "      <td>Ukraine : le plan de Poutine</td>\n",
       "      <td>http://rendezvousavecmrx.free.fr/audio/mr_x_20...</td>\n",
       "      <td>Novorossia ! La nouvelle Russie ! Tel est le n...</td>\n",
       "    </tr>\n",
       "    <tr>\n",
       "      <th>203</th>\n",
       "      <td>2015-06-06</td>\n",
       "      <td>Kim Jong Il fait son cinéma</td>\n",
       "      <td>http://rendezvousavecmrx.free.fr/audio/mr_x_20...</td>\n",
       "      <td>L'histoire est à peine croyable : pour vivifie...</td>\n",
       "    </tr>\n",
       "    <tr>\n",
       "      <th>74</th>\n",
       "      <td>2015-06-13</td>\n",
       "      <td>Bouaké : une affaire d'Etat</td>\n",
       "      <td>http://rendezvousavecmrx.free.fr/audio/mr_x_20...</td>\n",
       "      <td>La tragédie de Bouaké, c'était une bavure mani...</td>\n",
       "    </tr>\n",
       "    <tr>\n",
       "      <th>743</th>\n",
       "      <td>2015-06-20</td>\n",
       "      <td>Un état palestinien peut-il encore exister ?</td>\n",
       "      <td>http://rendezvousavecmrx.free.fr/audio/mr_x_20...</td>\n",
       "      <td>Un Etat palestinien existera-t-il un jour ? La...</td>\n",
       "    </tr>\n",
       "  </tbody>\n",
       "</table>\n",
       "<p>765 rows × 4 columns</p>\n",
       "</div>"
      ],
      "text/plain": [
       "          date                                              titre  \\\n",
       "312 1997-01-04                                    La 5ème colonne   \n",
       "687 1997-01-11              Rennes-le-Château et l'abbé Saunières   \n",
       "639 1997-01-18                                         Noël Field   \n",
       "503 1997-01-25                                   Le réseau Odessa   \n",
       "469 1997-02-01                                   Le masque de fer   \n",
       "332 1997-02-08                                 La défaite de 1940   \n",
       "186 1997-02-22                                    Jean de Broglie   \n",
       "723 1997-03-01                                      Sergueï Efron   \n",
       "395 1997-03-08                                La rumeur Mitterand   \n",
       "666 1997-03-15                                      Pierre Cardot   \n",
       "649 1997-03-22                                  Opération Timsilt   \n",
       "106 1997-03-29                                            Dracula   \n",
       "706 1997-04-05                                       Rudolph Abel   \n",
       "468 1997-04-12                                  Le mage de Marsal   \n",
       "86  1997-04-19                                        Che Guevara   \n",
       "172 1997-04-26                                        Israel Beer   \n",
       "196 1997-05-03                                   Joseph Joinovici   \n",
       "92  1997-05-10                         Croyez-vous aux fantômes ?   \n",
       "229 1997-05-17                                 L'affaire Farewell   \n",
       "504 1997-05-24                                  Le réseau Prosper   \n",
       "310 1997-05-31           L'opposition à l'indépendance algérienne   \n",
       "455 1997-06-07                                Le Général Sikorski   \n",
       "354 1997-06-21                                La guerre du Kipour   \n",
       "728 1997-06-28                                        Szkolnikoff   \n",
       "326 1997-07-05                             La chasse aux cerveaux   \n",
       "370 1997-09-13                                      La Main Rouge   \n",
       "591 1997-09-20                          Les vedettes de Cherbourg   \n",
       "617 1997-09-27                                      Michel Baroin   \n",
       "217 1997-10-04                                  L'affaire Cicéron   \n",
       "376 1997-10-18                                     La mort de JFK   \n",
       "..         ...                                                ...   \n",
       "695 2014-11-22  Retour sur la Papouasie Occidentale annexée pa...   \n",
       "388 2014-11-29                             La revanche de Sankara   \n",
       "382 2014-12-06         La persécution des Ouïgours en Chine (1/2)   \n",
       "383 2014-12-13         La persécution des Ouïgours en Chine (2/2)   \n",
       "625 2014-12-20                                 Mokhtar Belmokhtar   \n",
       "621 2014-12-27  Mincemeat, une opération d'intoxication au coe...   \n",
       "112 2015-01-03                         Edward VIII, un roi nazi ?   \n",
       "511 2015-01-10                           Le scandale UraMin (1/2)   \n",
       "512 2015-01-17                           Le scandale UraMin (2/2)   \n",
       "99  2015-01-24  Décembre 2014 : échange d'espions entre Cuba e...   \n",
       "58  2015-01-31  Assassinats et corruption sur la Côte d'Azur (...   \n",
       "59  2015-02-07  Assassinats et corruption sur la Côte d'Azur (...   \n",
       "735 2015-02-14                Togo, le pays des 'sorciers blancs'   \n",
       "693 2015-02-21                          Retour sur la Libye (1/2)   \n",
       "694 2015-02-28                          Retour sur la Libye (2/2)   \n",
       "8   2015-03-07                 1944, massacre au camp de Thiaroye   \n",
       "678 2015-03-14  Qui a tué le procureur argentin Alberto Nisman...   \n",
       "679 2015-03-21  Qui a tué le procureur argentin Alberto Nisman...   \n",
       "132 2015-03-28        Gary Webb, l'homme qui a eu raison trop tôt   \n",
       "767 2015-04-11                    Zaïre : le retour des 'Affreux'   \n",
       "168 2015-04-18                              Iran, le retour (1/2)   \n",
       "169 2015-04-25                              Iran, le retour (2/2)   \n",
       "351 2015-05-02  La guerre des clans au Kazakhstan et ses rebon...   \n",
       "546 2015-05-09                                 Les cellules Alpha   \n",
       "637 2015-05-16        Nkrumah et Ben Barka frères de combat (1/2)   \n",
       "638 2015-05-23        Nkrumah et Ben Barka frères de combat (2/2)   \n",
       "742 2015-05-30                       Ukraine : le plan de Poutine   \n",
       "203 2015-06-06                        Kim Jong Il fait son cinéma   \n",
       "74  2015-06-13                        Bouaké : une affaire d'Etat   \n",
       "743 2015-06-20       Un état palestinien peut-il encore exister ?   \n",
       "\n",
       "                                                 media  \\\n",
       "312  http://rendezvousavecmrx.free.fr/audio/mr_x_19...   \n",
       "687  http://rendezvousavecmrx.free.fr/audio/mr_x_19...   \n",
       "639  http://rendezvousavecmrx.free.fr/audio/mr_x_19...   \n",
       "503  http://rendezvousavecmrx.free.fr/audio/mr_x_19...   \n",
       "469  http://rendezvousavecmrx.free.fr/audio/mr_x_19...   \n",
       "332  http://rendezvousavecmrx.free.fr/audio/mr_x_19...   \n",
       "186  http://rendezvousavecmrx.free.fr/audio/mr_x_19...   \n",
       "723  http://rendezvousavecmrx.free.fr/audio/mr_x_19...   \n",
       "395  http://rendezvousavecmrx.free.fr/audio/mr_x_19...   \n",
       "666  http://rendezvousavecmrx.free.fr/audio/mr_x_19...   \n",
       "649  http://rendezvousavecmrx.free.fr/audio/mr_x_19...   \n",
       "106  http://rendezvousavecmrx.free.fr/audio/mr_x_19...   \n",
       "706  http://rendezvousavecmrx.free.fr/audio/mr_x_19...   \n",
       "468  http://rendezvousavecmrx.free.fr/audio/mr_x_19...   \n",
       "86   http://rendezvousavecmrx.free.fr/audio/mr_x_19...   \n",
       "172  http://rendezvousavecmrx.free.fr/audio/mr_x_19...   \n",
       "196  http://rendezvousavecmrx.free.fr/audio/mr_x_19...   \n",
       "92   http://rendezvousavecmrx.free.fr/audio/mr_x_19...   \n",
       "229  http://rendezvousavecmrx.free.fr/audio/mr_x_19...   \n",
       "504  http://rendezvousavecmrx.free.fr/audio/mr_x_19...   \n",
       "310  http://rendezvousavecmrx.free.fr/audio/mr_x_19...   \n",
       "455  http://rendezvousavecmrx.free.fr/audio/mr_x_19...   \n",
       "354  http://rendezvousavecmrx.free.fr/audio/mr_x_19...   \n",
       "728  http://rendezvousavecmrx.free.fr/audio/mr_x_19...   \n",
       "326  http://rendezvousavecmrx.free.fr/audio/mr_x_19...   \n",
       "370  http://rendezvousavecmrx.free.fr/audio/mr_x_19...   \n",
       "591  http://rendezvousavecmrx.free.fr/audio/mr_x_19...   \n",
       "617  http://rendezvousavecmrx.free.fr/audio/mr_x_19...   \n",
       "217  http://rendezvousavecmrx.free.fr/audio/mr_x_19...   \n",
       "376  http://rendezvousavecmrx.free.fr/audio/mr_x_19...   \n",
       "..                                                 ...   \n",
       "695  http://rendezvousavecmrx.free.fr/audio/mr_x_20...   \n",
       "388  http://rendezvousavecmrx.free.fr/audio/mr_x_20...   \n",
       "382  http://rendezvousavecmrx.free.fr/audio/mr_x_20...   \n",
       "383  http://rendezvousavecmrx.free.fr/audio/mr_x_20...   \n",
       "625  http://rendezvousavecmrx.free.fr/audio/mr_x_20...   \n",
       "621  http://rendezvousavecmrx.free.fr/audio/mr_x_20...   \n",
       "112  http://rendezvousavecmrx.free.fr/audio/mr_x_20...   \n",
       "511  http://rendezvousavecmrx.free.fr/audio/mr_x_20...   \n",
       "512  http://rendezvousavecmrx.free.fr/audio/mr_x_20...   \n",
       "99   http://rendezvousavecmrx.free.fr/audio/mr_x_20...   \n",
       "58   http://rendezvousavecmrx.free.fr/audio/mr_x_20...   \n",
       "59   http://rendezvousavecmrx.free.fr/audio/mr_x_20...   \n",
       "735  http://rendezvousavecmrx.free.fr/audio/mr_x_20...   \n",
       "693  http://rendezvousavecmrx.free.fr/audio/mr_x_20...   \n",
       "694  http://rendezvousavecmrx.free.fr/audio/mr_x_20...   \n",
       "8    http://rendezvousavecmrx.free.fr/audio/mr_x_20...   \n",
       "678  http://rendezvousavecmrx.free.fr/audio/mr_x_20...   \n",
       "679  http://rendezvousavecmrx.free.fr/audio/mr_x_20...   \n",
       "132  http://rendezvousavecmrx.free.fr/audio/mr_x_20...   \n",
       "767  http://rendezvousavecmrx.free.fr/audio/mr_x_20...   \n",
       "168  http://rendezvousavecmrx.free.fr/audio/mr_x_20...   \n",
       "169  http://rendezvousavecmrx.free.fr/audio/mr_x_20...   \n",
       "351  http://rendezvousavecmrx.free.fr/audio/mr_x_20...   \n",
       "546  http://rendezvousavecmrx.free.fr/audio/mr_x_20...   \n",
       "637  http://rendezvousavecmrx.free.fr/audio/mr_x_20...   \n",
       "638  http://rendezvousavecmrx.free.fr/audio/mr_x_20...   \n",
       "742  http://rendezvousavecmrx.free.fr/audio/mr_x_20...   \n",
       "203  http://rendezvousavecmrx.free.fr/audio/mr_x_20...   \n",
       "74   http://rendezvousavecmrx.free.fr/audio/mr_x_20...   \n",
       "743  http://rendezvousavecmrx.free.fr/audio/mr_x_20...   \n",
       "\n",
       "                                               contenu  \n",
       "312                                                     \n",
       "687                                                     \n",
       "639                                                     \n",
       "503                                                     \n",
       "469                                                     \n",
       "332                                                     \n",
       "186                                                     \n",
       "723                                                     \n",
       "395                                                     \n",
       "666                                                     \n",
       "649                                                     \n",
       "106                                                     \n",
       "706                                                     \n",
       "468                                                     \n",
       "86                                                      \n",
       "172                                                     \n",
       "196                                                     \n",
       "92                                                      \n",
       "229                                                     \n",
       "504                                                     \n",
       "310                                                     \n",
       "455                                                     \n",
       "354                                                     \n",
       "728                                                     \n",
       "326                                                     \n",
       "370                                                     \n",
       "591                                                     \n",
       "617                                                     \n",
       "217                                                     \n",
       "376                                                     \n",
       "..                                                 ...  \n",
       "695  Ils ont enfin recouvré la liberté, Valentine B...  \n",
       "388  Jamais une expression imagée n'a été aussi bie...  \n",
       "382  On l'appelle la rébellion des parapluies... Ce...  \n",
       "383  C'est le Far West des Chinois : le Xinjiang, u...  \n",
       "625  L'actualité avait finir par les oublier quelqu...  \n",
       "621  'Opération Chair à pâté' ! Non, il ne s'agit p...  \n",
       "112  On a voulu faire croire à une histoire d'amour...  \n",
       "511  Polar, thriller, scandale. Et même affaire d'é...  \n",
       "512  Deux milliards et demi de dollars : le prix d'...  \n",
       "99   Pourquoi a-t-elle été oubliée ? Oui, pourquoi ...  \n",
       "58   Vingt ans après, le mystère n'est toujours pas...  \n",
       "59   La députée Yann Piat a été assassinée en févri...  \n",
       "735  Après le Burkina Faso, la République démocrati...  \n",
       "693  Où va la Libye ? Dotée de centaines de milices...  \n",
       "694  Et si les Kadhafistes revenaient au pouvoir en...  \n",
       "8    Et si tout avait commencé à Thiaroye ? Tout, c...  \n",
       "678  'Je suis Nisman !' Comme les millions de Franç...  \n",
       "679  Ses proches sont formels : le procureur argent...  \n",
       "132  Le résumé de l'histoire, le pitch, comme on di...  \n",
       "767  On les a appelés les 'Affreux'. Des mercenaire...  \n",
       "168  Il faut le reconnaître : l'Iran est devenu auj...  \n",
       "169  'Vers l'Orient compliqué, je volais avec des i...  \n",
       "351  Il est tout puissant. Et il est riche, très ri...  \n",
       "546  C'est le secret dans le secret ! L'existence a...  \n",
       "637  Certains de ses partisans l'appelaient 'Monsie...  \n",
       "638  C'était le héros du panafricanisme et il ne rê...  \n",
       "742  Novorossia ! La nouvelle Russie ! Tel est le n...  \n",
       "203  L'histoire est à peine croyable : pour vivifie...  \n",
       "74   La tragédie de Bouaké, c'était une bavure mani...  \n",
       "743  Un Etat palestinien existera-t-il un jour ? La...  \n",
       "\n",
       "[765 rows x 4 columns]"
      ]
     },
     "execution_count": 27,
     "metadata": {},
     "output_type": "execute_result"
    }
   ],
   "source": [
    "df"
   ]
  },
  {
   "cell_type": "markdown",
   "metadata": {},
   "source": [
    "Pour finir, il nous faut rajouter à chaque item de la table la longueur du fichier mp3 en bytes (voir [ici](https://stackoverflow.com/questions/14270698/get-file-size-using-python-requests-while-only-getting-the-header))."
   ]
  },
  {
   "cell_type": "code",
   "execution_count": 28,
   "metadata": {},
   "outputs": [
    {
     "name": "stderr",
     "output_type": "stream",
     "text": [
      "100%|██████████| 765/765 [00:27<00:00, 27.47it/s]\n"
     ]
    }
   ],
   "source": [
    "byte_lengths = {}\n",
    "for media in tqdm.tqdm(df.media):\n",
    "    r = requests.head(media)\n",
    "    if r.status_code == 200:\n",
    "        byte_lengths[media] = r.headers['content-length']"
   ]
  },
  {
   "cell_type": "code",
   "execution_count": 29,
   "metadata": {
    "collapsed": true
   },
   "outputs": [],
   "source": [
    "df['bytes'] = [byte_lengths[media] for media in df.media]"
   ]
  },
  {
   "cell_type": "code",
   "execution_count": 30,
   "metadata": {},
   "outputs": [
    {
     "data": {
      "text/html": [
       "<div>\n",
       "<style>\n",
       "    .dataframe thead tr:only-child th {\n",
       "        text-align: right;\n",
       "    }\n",
       "\n",
       "    .dataframe thead th {\n",
       "        text-align: left;\n",
       "    }\n",
       "\n",
       "    .dataframe tbody tr th {\n",
       "        vertical-align: top;\n",
       "    }\n",
       "</style>\n",
       "<table border=\"1\" class=\"dataframe\">\n",
       "  <thead>\n",
       "    <tr style=\"text-align: right;\">\n",
       "      <th></th>\n",
       "      <th>date</th>\n",
       "      <th>titre</th>\n",
       "      <th>media</th>\n",
       "      <th>contenu</th>\n",
       "      <th>bytes</th>\n",
       "    </tr>\n",
       "  </thead>\n",
       "  <tbody>\n",
       "    <tr>\n",
       "      <th>312</th>\n",
       "      <td>1997-01-04</td>\n",
       "      <td>La 5ème colonne</td>\n",
       "      <td>http://rendezvousavecmrx.free.fr/audio/mr_x_19...</td>\n",
       "      <td></td>\n",
       "      <td>71937792</td>\n",
       "    </tr>\n",
       "    <tr>\n",
       "      <th>687</th>\n",
       "      <td>1997-01-11</td>\n",
       "      <td>Rennes-le-Château et l'abbé Saunières</td>\n",
       "      <td>http://rendezvousavecmrx.free.fr/audio/mr_x_19...</td>\n",
       "      <td></td>\n",
       "      <td>74407680</td>\n",
       "    </tr>\n",
       "    <tr>\n",
       "      <th>639</th>\n",
       "      <td>1997-01-18</td>\n",
       "      <td>Noël Field</td>\n",
       "      <td>http://rendezvousavecmrx.free.fr/audio/mr_x_19...</td>\n",
       "      <td></td>\n",
       "      <td>73890048</td>\n",
       "    </tr>\n",
       "    <tr>\n",
       "      <th>503</th>\n",
       "      <td>1997-01-25</td>\n",
       "      <td>Le réseau Odessa</td>\n",
       "      <td>http://rendezvousavecmrx.free.fr/audio/mr_x_19...</td>\n",
       "      <td></td>\n",
       "      <td>74558208</td>\n",
       "    </tr>\n",
       "    <tr>\n",
       "      <th>469</th>\n",
       "      <td>1997-02-01</td>\n",
       "      <td>Le masque de fer</td>\n",
       "      <td>http://rendezvousavecmrx.free.fr/audio/mr_x_19...</td>\n",
       "      <td></td>\n",
       "      <td>73537536</td>\n",
       "    </tr>\n",
       "  </tbody>\n",
       "</table>\n",
       "</div>"
      ],
      "text/plain": [
       "          date                                  titre  \\\n",
       "312 1997-01-04                        La 5ème colonne   \n",
       "687 1997-01-11  Rennes-le-Château et l'abbé Saunières   \n",
       "639 1997-01-18                             Noël Field   \n",
       "503 1997-01-25                       Le réseau Odessa   \n",
       "469 1997-02-01                       Le masque de fer   \n",
       "\n",
       "                                                 media contenu     bytes  \n",
       "312  http://rendezvousavecmrx.free.fr/audio/mr_x_19...          71937792  \n",
       "687  http://rendezvousavecmrx.free.fr/audio/mr_x_19...          74407680  \n",
       "639  http://rendezvousavecmrx.free.fr/audio/mr_x_19...          73890048  \n",
       "503  http://rendezvousavecmrx.free.fr/audio/mr_x_19...          74558208  \n",
       "469  http://rendezvousavecmrx.free.fr/audio/mr_x_19...          73537536  "
      ]
     },
     "execution_count": 30,
     "metadata": {},
     "output_type": "execute_result"
    }
   ],
   "source": [
    "df.head()"
   ]
  },
  {
   "cell_type": "markdown",
   "metadata": {},
   "source": [
    "# Ecriture d'un fichier RSS"
   ]
  },
  {
   "cell_type": "markdown",
   "metadata": {},
   "source": [
    "Pour écrire un fichier RSS avec Python, nous allons utiliser la libraire ElementTree. Nous suivons le schéma montré en haut du billet et ajoutons ligne par ligne les épisodes."
   ]
  },
  {
   "cell_type": "code",
   "execution_count": 31,
   "metadata": {},
   "outputs": [],
   "source": [
    "import xml.etree.cElementTree as ET\n",
    "\n",
    "rss = ET.Element(\"rss\", version=\"2.0\")\n",
    "channel = ET.SubElement(rss, \"channel\")\n",
    "title = ET.SubElement(channel, \"title\")\n",
    "title.text = 'Podcast Rendez-vous avec X'\n",
    "description = ET.SubElement(channel, \"description\")\n",
    "description.text = \"Podcast inofficiel de l'émission Rendez-vous avec X, tiré du site http://rendezvousavecmrx.free.fr/\"\n",
    "for index, row in df.iterrows():\n",
    "    item = ET.SubElement(channel, \"item\")\n",
    "    item_title = ET.SubElement(item, \"title\")\n",
    "    item_title.text = row['titre']\n",
    "    item_description = ET.SubElement(item, \"description\")\n",
    "    item_description.text = row['contenu']\n",
    "    item_pubdate = ET.SubElement(item, \"pubDate\")\n",
    "    item_pubdate.text = row.date.strftime('%a, %d %b %Y 13:15:00')\n",
    "    item_enclosure = ET.SubElement(item, \"enclosure\", url='{}'.format(row.media),\n",
    "                                   length=row.bytes,\n",
    "                                  type=\"audio/mpeg\")\n",
    "tree = ET.ElementTree(rss)\n",
    "tree.write(\"files/podcast_mr_x.xml\", encoding='utf-8')"
   ]
  },
  {
   "cell_type": "markdown",
   "metadata": {},
   "source": [
    "Et voilà le travail ! Le lien à ajouter au gestionnaire de podcast est le suivant : <https://raw.githubusercontent.com/flothesof/posts/master/files/podcast_mr_x.xml>."
   ]
  },
  {
   "cell_type": "markdown",
   "metadata": {},
   "source": [
    "*Ce billet a été écrit à l'aide d'un notebook Jupyter. Son contenu est sous licence BSD. Une vue statique de ce notebook peut être consultée et téléchargée ici : [20170811_RSSFeedMonsieurX.ipynb](http://nbviewer.ipython.org/urls/raw.github.com/flothesof/posts/master/20170811_RSSFeedMonsieurX.ipynb).*"
   ]
  }
 ],
 "metadata": {
  "kernelspec": {
   "display_name": "Python 3",
   "language": "python",
   "name": "python3"
  },
  "language_info": {
   "codemirror_mode": {
    "name": "ipython",
    "version": 3
   },
   "file_extension": ".py",
   "mimetype": "text/x-python",
   "name": "python",
   "nbconvert_exporter": "python",
   "pygments_lexer": "ipython3",
   "version": "3.6.1"
  },
  "toc": {
   "colors": {
    "hover_highlight": "#DAA520",
    "navigate_num": "#000000",
    "navigate_text": "#333333",
    "running_highlight": "#FF0000",
    "selected_highlight": "#FFD700",
    "sidebar_border": "#EEEEEE",
    "wrapper_background": "#FFFFFF"
   },
   "moveMenuLeft": true,
   "nav_menu": {
    "height": "101px",
    "width": "253px"
   },
   "navigate_menu": true,
   "number_sections": true,
   "sideBar": true,
   "threshold": 4,
   "toc_cell": false,
   "toc_section_display": "block",
   "toc_window_display": false,
   "widenNotebook": false
  }
 },
 "nbformat": 4,
 "nbformat_minor": 2
}
