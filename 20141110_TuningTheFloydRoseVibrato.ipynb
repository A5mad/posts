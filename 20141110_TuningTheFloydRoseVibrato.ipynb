{
 "metadata": {
  "name": "",
  "signature": "sha256:f942cc1f0ca28b3dd5e285f1cf9781bb504cb424bc5c4594a6085513c0ea4411"
 },
 "nbformat": 3,
 "nbformat_minor": 0,
 "worksheets": [
  {
   "cells": [
    {
     "cell_type": "markdown",
     "metadata": {},
     "source": [
      "Our goal: plot the equilibrium state of the vibrato bridge in the linearized spring model.\n",
      "\n",
      "Guitar part:\n",
      "\n",
      "- define frequencies as variables\n",
      "- compute tensions, make a sum\n",
      "- compute equilibrium position of the bridge\n",
      "\n",
      "When a guitar is tuned the zero frequencies are:\n",
      "\n",
      "329,6 Hz \n",
      "246,9 Hz\n",
      "196 Hz\n",
      "146,8 Hz\n",
      "110,0 Hz\n",
      "82,4 Hz\n",
      "\n",
      "Material properties can be found [here](http://www.daddario.com/DADProductDetail.Page?ActiveID=3769&ProductID=25&productname=EXL116_Nickel_Wound_Medium_Top_Heavy_Bottom_11_52), for example."
     ]
    },
    {
     "cell_type": "code",
     "collapsed": false,
     "input": [
      "from pylab import *\n",
      "%matplotlib inline"
     ],
     "language": "python",
     "metadata": {},
     "outputs": [],
     "prompt_number": 2
    },
    {
     "cell_type": "code",
     "collapsed": false,
     "input": [
      "from IPython.display import SVG"
     ],
     "language": "python",
     "metadata": {},
     "outputs": [],
     "prompt_number": 3
    },
    {
     "cell_type": "code",
     "collapsed": false,
     "input": [
      "SVG(filename='files/guitar_string_spring.svg')"
     ],
     "language": "python",
     "metadata": {},
     "outputs": [
      {
       "metadata": {},
       "output_type": "pyout",
       "prompt_number": 4,
       "svg": [
        "<svg height=\"69.375\" id=\"svg2\" inkscape:version=\"0.48.5 r10040\" sodipodi:docname=\"New document 1\" version=\"1.1\" width=\"410.40625\" xmlns=\"http://www.w3.org/2000/svg\" xmlns:cc=\"http://creativecommons.org/ns#\" xmlns:dc=\"http://purl.org/dc/elements/1.1/\" xmlns:inkscape=\"http://www.inkscape.org/namespaces/inkscape\" xmlns:rdf=\"http://www.w3.org/1999/02/22-rdf-syntax-ns#\" xmlns:sodipodi=\"http://sodipodi.sourceforge.net/DTD/sodipodi-0.dtd\" xmlns:svg=\"http://www.w3.org/2000/svg\">\n",
        "  <defs id=\"defs4\"/>\n",
        "  <sodipodi:namedview bordercolor=\"#666666\" borderopacity=\"1.0\" fit-margin-bottom=\"0\" fit-margin-left=\"0\" fit-margin-right=\"0\" fit-margin-top=\"0\" id=\"base\" inkscape:current-layer=\"layer1\" inkscape:cx=\"198.43896\" inkscape:cy=\"26.947603\" inkscape:document-units=\"px\" inkscape:pageopacity=\"0.0\" inkscape:pageshadow=\"2\" inkscape:window-height=\"838\" inkscape:window-maximized=\"1\" inkscape:window-width=\"1600\" inkscape:window-x=\"-8\" inkscape:window-y=\"-8\" inkscape:zoom=\"2.8\" pagecolor=\"#ffffff\" showgrid=\"false\"/>\n",
        "  <metadata id=\"metadata7\">\n",
        "    <rdf:RDF>\n",
        "      <cc:Work rdf:about=\"\">\n",
        "        <dc:format>image/svg+xml</dc:format>\n",
        "        <dc:type rdf:resource=\"http://purl.org/dc/dcmitype/StillImage\"/>\n",
        "        <dc:title/>\n",
        "      </cc:Work>\n",
        "    </rdf:RDF>\n",
        "  </metadata>\n",
        "  <g id=\"layer1\" inkscape:groupmode=\"layer\" inkscape:label=\"Layer 1\" transform=\"translate(-36.34375,-276.8125)\">\n",
        "    <path d=\"m 42.672734,295.46852 271.333536,0\" id=\"path2985\" inkscape:connector-curvature=\"0\" style=\"fill:none;stroke:#000000;stroke-width:1.00885069;stroke-linecap:butt;stroke-linejoin:miter;stroke-miterlimit:4;stroke-opacity:1;stroke-dasharray:none\"/>\n",
        "    <path d=\"m 42.672734,301.52163 271.333536,0\" id=\"path2987\" inkscape:connector-curvature=\"0\" style=\"fill:none;stroke:#000000;stroke-width:1.13495696;stroke-linecap:butt;stroke-linejoin:miter;stroke-miterlimit:4;stroke-opacity:1;stroke-dasharray:none\"/>\n",
        "    <path d=\"m 42.672734,307.57473 271.333536,0\" id=\"path2989\" inkscape:connector-curvature=\"0\" style=\"fill:none;stroke:#000000;stroke-width:1.26106334px;stroke-linecap:butt;stroke-linejoin:miter;stroke-opacity:1\"/>\n",
        "    <path d=\"m 42.672734,313.62784 271.333536,0\" id=\"path2991\" inkscape:connector-curvature=\"0\" style=\"fill:none;stroke:#000000;stroke-width:1.38716972;stroke-linecap:butt;stroke-linejoin:miter;stroke-miterlimit:4;stroke-opacity:1;stroke-dasharray:none\"/>\n",
        "    <path d=\"m 42.672734,319.68094 271.333536,0\" id=\"path2993\" inkscape:connector-curvature=\"0\" style=\"fill:none;stroke:#000000;stroke-width:1.63938236;stroke-linecap:butt;stroke-linejoin:miter;stroke-miterlimit:4;stroke-opacity:1;stroke-dasharray:none\"/>\n",
        "    <path d=\"m 42.672734,325.73404 271.333536,0\" id=\"path2995\" inkscape:connector-curvature=\"0\" style=\"fill:none;stroke:#000000;stroke-width:1.89159501;stroke-linecap:butt;stroke-linejoin:miter;stroke-miterlimit:4;stroke-opacity:1;stroke-dasharray:none\"/>\n",
        "    <path d=\"m 313.04701,276.82581 0,69.35848\" id=\"path3769\" inkscape:connector-curvature=\"0\" style=\"fill:none;stroke:#000000;stroke-width:3.17956638px;stroke-linecap:butt;stroke-linejoin:miter;stroke-opacity:1\"/>\n",
        "    <path d=\"m 313.45932,310.78443 24.99608,0\" id=\"path3791\" inkscape:connector-curvature=\"0\" style=\"fill:none;stroke:#000000;stroke-width:1.26106334px;stroke-linecap:butt;stroke-linejoin:miter;stroke-opacity:1\"/>\n",
        "    <path d=\"m 338.05004,311.2348 6.75571,-12.49803 6.36835,23.76706 7.16601,-12.41188\" id=\"path3793\" inkscape:connector-curvature=\"0\" style=\"fill:none;stroke:#000000;stroke-width:1.26106334px;stroke-linecap:butt;stroke-linejoin:miter;stroke-opacity:1\"/>\n",
        "    <path d=\"m 357.66405,311.2348 6.75571,-12.49803 6.36836,23.76706 7.166,-12.41188\" id=\"path3795\" inkscape:connector-curvature=\"0\" style=\"fill:none;stroke:#000000;stroke-width:1.26106334px;stroke-linecap:butt;stroke-linejoin:miter;stroke-opacity:1\"/>\n",
        "    <path d=\"m 377.39066,311.2348 6.75571,-12.49803 6.36836,23.76706 7.166,-12.41188\" id=\"path3799\" inkscape:connector-curvature=\"0\" style=\"fill:none;stroke:#000000;stroke-width:1.26106334px;stroke-linecap:butt;stroke-linejoin:miter;stroke-opacity:1\"/>\n",
        "    <path d=\"m 397.00468,311.2348 6.7557,-12.49803 6.36836,23.76706 7.166,-12.41188\" id=\"path3801\" inkscape:connector-curvature=\"0\" style=\"fill:none;stroke:#000000;stroke-width:1.26106334px;stroke-linecap:butt;stroke-linejoin:miter;stroke-opacity:1\"/>\n",
        "    <path d=\"m 417.10296,310.27775 23.30715,0\" id=\"path3803\" inkscape:connector-curvature=\"0\" style=\"fill:none;stroke:#000000;stroke-width:1.26106334px;stroke-linecap:butt;stroke-linejoin:miter;stroke-opacity:1\"/>\n",
        "    <path d=\"m 440.24122,285.07206 0,48.51782\" id=\"path3805\" inkscape:connector-curvature=\"0\" style=\"fill:none;stroke:#000000;stroke-width:1.5931114px;stroke-linecap:butt;stroke-linejoin:miter;stroke-opacity:1\"/>\n",
        "    <path d=\"m 446.20876,296.95776 -5.68605,9.68317\" id=\"path3807\" inkscape:connector-curvature=\"0\" style=\"fill:none;stroke:#000000;stroke-width:1.26106334px;stroke-linecap:butt;stroke-linejoin:miter;stroke-opacity:1\"/>\n",
        "    <path d=\"m 446.20876,302.00202 -5.68605,9.68316\" id=\"path3809\" inkscape:connector-curvature=\"0\" style=\"fill:none;stroke:#000000;stroke-width:1.26106334px;stroke-linecap:butt;stroke-linejoin:miter;stroke-opacity:1\"/>\n",
        "    <path d=\"m 446.20876,307.04627 -5.68605,9.68316\" id=\"path3811\" inkscape:connector-curvature=\"0\" style=\"fill:none;stroke:#000000;stroke-width:1.26106334px;stroke-linecap:butt;stroke-linejoin:miter;stroke-opacity:1\"/>\n",
        "    <path d=\"m 446.20876,312.09052 -5.68605,9.68317\" id=\"path3813\" inkscape:connector-curvature=\"0\" style=\"fill:none;stroke:#000000;stroke-width:1.26106334px;stroke-linecap:butt;stroke-linejoin:miter;stroke-opacity:1\"/>\n",
        "    <path d=\"m 42.845904,333.58988 0,-48.51782\" id=\"path3815\" inkscape:connector-curvature=\"0\" style=\"fill:none;stroke:#000000;stroke-width:1.5931114px;stroke-linecap:butt;stroke-linejoin:miter;stroke-opacity:1\"/>\n",
        "    <path d=\"m 42.564409,306.64093 -5.686046,-9.68317\" id=\"path3817\" inkscape:connector-curvature=\"0\" style=\"fill:none;stroke:#000000;stroke-width:1.26106334px;stroke-linecap:butt;stroke-linejoin:miter;stroke-opacity:1\"/>\n",
        "    <path d=\"m 42.564409,311.68518 -5.686046,-9.68316\" id=\"path3819\" inkscape:connector-curvature=\"0\" style=\"fill:none;stroke:#000000;stroke-width:1.26106334px;stroke-linecap:butt;stroke-linejoin:miter;stroke-opacity:1\"/>\n",
        "    <path d=\"m 42.564409,316.72943 -5.686046,-9.68316\" id=\"path3821\" inkscape:connector-curvature=\"0\" style=\"fill:none;stroke:#000000;stroke-width:1.26106334px;stroke-linecap:butt;stroke-linejoin:miter;stroke-opacity:1\"/>\n",
        "    <path d=\"m 42.564409,321.77369 -5.686046,-9.68317\" id=\"path3823\" inkscape:connector-curvature=\"0\" style=\"fill:none;stroke:#000000;stroke-width:1.26106334px;stroke-linecap:butt;stroke-linejoin:miter;stroke-opacity:1\"/>\n",
        "  </g>\n",
        "</svg>"
       ],
       "text": [
        "<IPython.core.display.SVG at 0xab5b940>"
       ]
      }
     ],
     "prompt_number": 4
    },
    {
     "cell_type": "heading",
     "level": 1,
     "metadata": {},
     "source": [
      "Computing the linear mass of my strings"
     ]
    },
    {
     "cell_type": "markdown",
     "metadata": {},
     "source": [
      "In this section, we're going to compute the linear weights of each individual string using the factory data that can be found on the string package.\n",
      "\n",
      "In my case, I'm using a d'Addario EXL116 (medium top, heavy bottom) string set, whose information can be found [here](http://www.daddario.com/DADProductDetail.Page?ActiveID=3769&productid=25&productname=EXL116_Nickel_Wound__Medium_Top_Heavy_Bottom__11_52). It looks like this:"
     ]
    },
    {
     "cell_type": "code",
     "collapsed": false,
     "input": [
      "from IPython.display import Image"
     ],
     "language": "python",
     "metadata": {},
     "outputs": [],
     "prompt_number": 5
    },
    {
     "cell_type": "code",
     "collapsed": false,
     "input": [
      "Image(url=\"http://www.daddario.com/resources/jdcdad/images/products/da_prod_exl116_detail2_1.jpg\")"
     ],
     "language": "python",
     "metadata": {},
     "outputs": [
      {
       "html": [
        "<img src=\"http://www.daddario.com/resources/jdcdad/images/products/da_prod_exl116_detail2_1.jpg\"/>"
       ],
       "metadata": {},
       "output_type": "pyout",
       "prompt_number": 6,
       "text": [
        "<IPython.core.display.Image at 0xac814e0>"
       ]
      }
     ],
     "prompt_number": 6
    },
    {
     "cell_type": "markdown",
     "metadata": {},
     "source": [
      "The classical formula relating the fundamental parameters of a vibrating string is:\n",
      "\n",
      "$$\n",
      "f = \\frac{1}{2 L} \\sqrt{\\frac{T}{\\mu}}\n",
      "$$\n",
      "\n",
      "From this formula, we can compute the value of $\\mu$ as:\n",
      "\n",
      "$$\n",
      "\\mu = \\frac{T}{4 L^2 f^2}\n",
      "$$\n",
      "\n",
      "Using the frequencies found on [Wikipedia](http://en.wikipedia.org/wiki/Piano_key_frequencies) and the data on the package, we can compute $\\mu$:"
     ]
    },
    {
     "cell_type": "code",
     "collapsed": false,
     "input": [
      "freqs = array([82.4, 110., 146.8, 196., 246.9, 329.6]) # frequencies of the guitar strings, from low E to high E, in Hz\n",
      "calibration_T = array([9.59, 11.61, 11.22, 8.43, 8.09, 8.9]) * 9.81 # calibration tensions found on package (in kg) converted to N\n",
      "mu = calibration_T / (4 * 0.648**2 * freqs**2) \n",
      "mu"
     ],
     "language": "python",
     "metadata": {},
     "outputs": [
      {
       "metadata": {},
       "output_type": "pyout",
       "prompt_number": 8,
       "text": [
        "array([ 0.00824942,  0.0056041 ,  0.00304088,  0.00128166,  0.00077511,\n",
        "        0.00047849])"
       ]
      }
     ],
     "prompt_number": 8
    },
    {
     "cell_type": "markdown",
     "metadata": {},
     "source": [
      "We can plot these linear masses as a function of string number:"
     ]
    },
    {
     "cell_type": "code",
     "collapsed": false,
     "input": [
      "plot(arange(1, 7), mu * 1000, 'o')\n",
      "xlabel('string number')\n",
      "ylabel('linear mass (g/m)')\n",
      "grid(True)\n",
      "xlim(0.5, 6.5)"
     ],
     "language": "python",
     "metadata": {},
     "outputs": [
      {
       "metadata": {},
       "output_type": "pyout",
       "prompt_number": 9,
       "text": [
        "(0.5, 6.5)"
       ]
      },
      {
       "metadata": {},
       "output_type": "display_data",
       "png": "[encoded data removed]",
       "text": [
        "<matplotlib.figure.Figure at 0xac81ba8>"
       ]
      }
     ],
     "prompt_number": 9
    },
    {
     "cell_type": "markdown",
     "metadata": {},
     "source": [
      "From here, we can proceed to write an analysis toolkit allowing us to measure the frequencies of the strings and finally compute the tensions they produce on the vibrato bridge."
     ]
    },
    {
     "cell_type": "heading",
     "level": 1,
     "metadata": {},
     "source": [
      "Computing the string tensions from the frequencies"
     ]
    },
    {
     "cell_type": "markdown",
     "metadata": {},
     "source": [
      "From the above steps, we know the linear masses and the frequencies of our strings. Assuming I'm tuned from low to high (which I am), we can derive the tensions and compute the total tension on the guitar neck from our data:\n",
      "\n",
      "$$\n",
      "T =  4 \\mu L^2 f^2\n",
      "$$"
     ]
    },
    {
     "cell_type": "code",
     "collapsed": false,
     "input": [
      "def compute_tensions(freqs, linear_masses, l):\n",
      "    return 4 * linear_masses * l**2 * freqs ** 2"
     ],
     "language": "python",
     "metadata": {},
     "outputs": [],
     "prompt_number": 10
    },
    {
     "cell_type": "code",
     "collapsed": false,
     "input": [
      "compute_tensions(array(fundamentals), mu, 0.7)"
     ],
     "language": "python",
     "metadata": {},
     "outputs": [
      {
       "ename": "NameError",
       "evalue": "name 'fundamentals' is not defined",
       "output_type": "pyerr",
       "traceback": [
        "\u001b[1;31m---------------------------------------------------------------------------\u001b[0m\n\u001b[1;31mNameError\u001b[0m                                 Traceback (most recent call last)",
        "\u001b[1;32m<ipython-input-11-581b48399fc5>\u001b[0m in \u001b[0;36m<module>\u001b[1;34m()\u001b[0m\n\u001b[1;32m----> 1\u001b[1;33m \u001b[0mcompute_tensions\u001b[0m\u001b[1;33m(\u001b[0m\u001b[0marray\u001b[0m\u001b[1;33m(\u001b[0m\u001b[0mfundamentals\u001b[0m\u001b[1;33m)\u001b[0m\u001b[1;33m,\u001b[0m \u001b[0mmu\u001b[0m\u001b[1;33m,\u001b[0m \u001b[1;36m0.7\u001b[0m\u001b[1;33m)\u001b[0m\u001b[1;33m\u001b[0m\u001b[0m\n\u001b[0m",
        "\u001b[1;31mNameError\u001b[0m: name 'fundamentals' is not defined"
       ]
      }
     ],
     "prompt_number": 11
    },
    {
     "cell_type": "markdown",
     "metadata": {},
     "source": [
      "I chose 0.7 m as the string length, while in reality I hadn't screwed my neck tight so strings have in fact different lengths (the shortest being the lowest E string).\n",
      "\n",
      "The tensions are, of course, in Newtons. So if we want something more tangible, we can convert it to kg with the following code: "
     ]
    },
    {
     "cell_type": "code",
     "collapsed": false,
     "input": [
      "T_kg = compute_tensions(array(fundamentals), mu, 0.7) / 9.81\n",
      "T_kg"
     ],
     "language": "python",
     "metadata": {},
     "outputs": [
      {
       "ename": "NameError",
       "evalue": "name 'fundamentals' is not defined",
       "output_type": "pyerr",
       "traceback": [
        "\u001b[1;31m---------------------------------------------------------------------------\u001b[0m\n\u001b[1;31mNameError\u001b[0m                                 Traceback (most recent call last)",
        "\u001b[1;32m<ipython-input-15-5af8d394468a>\u001b[0m in \u001b[0;36m<module>\u001b[1;34m()\u001b[0m\n\u001b[1;32m----> 1\u001b[1;33m \u001b[0mT_kg\u001b[0m \u001b[1;33m=\u001b[0m \u001b[0mcompute_tensions\u001b[0m\u001b[1;33m(\u001b[0m\u001b[0marray\u001b[0m\u001b[1;33m(\u001b[0m\u001b[0mfundamentals\u001b[0m\u001b[1;33m)\u001b[0m\u001b[1;33m,\u001b[0m \u001b[0mmu\u001b[0m\u001b[1;33m,\u001b[0m \u001b[1;36m0.7\u001b[0m\u001b[1;33m)\u001b[0m \u001b[1;33m/\u001b[0m \u001b[1;36m9.81\u001b[0m\u001b[1;33m\u001b[0m\u001b[0m\n\u001b[0m\u001b[0;32m      2\u001b[0m \u001b[0mT_kg\u001b[0m\u001b[1;33m\u001b[0m\u001b[0m\n",
        "\u001b[1;31mNameError\u001b[0m: name 'fundamentals' is not defined"
       ]
      }
     ],
     "prompt_number": 15
    },
    {
     "cell_type": "markdown",
     "metadata": {},
     "source": [
      "The total tension in my case is:"
     ]
    },
    {
     "cell_type": "code",
     "collapsed": false,
     "input": [
      "sum(T_kg)"
     ],
     "language": "python",
     "metadata": {},
     "outputs": [
      {
       "ename": "NameError",
       "evalue": "name 'T_kg' is not defined",
       "output_type": "pyerr",
       "traceback": [
        "\u001b[1;31m---------------------------------------------------------------------------\u001b[0m\n\u001b[1;31mNameError\u001b[0m                                 Traceback (most recent call last)",
        "\u001b[1;32m<ipython-input-14-3a86ca6a47bc>\u001b[0m in \u001b[0;36m<module>\u001b[1;34m()\u001b[0m\n\u001b[1;32m----> 1\u001b[1;33m \u001b[0msum\u001b[0m\u001b[1;33m(\u001b[0m\u001b[0mT_kg\u001b[0m\u001b[1;33m)\u001b[0m\u001b[1;33m\u001b[0m\u001b[0m\n\u001b[0m",
        "\u001b[1;31mNameError\u001b[0m: name 'T_kg' is not defined"
       ]
      }
     ],
     "prompt_number": 14
    },
    {
     "cell_type": "code",
     "collapsed": false,
     "input": [],
     "language": "python",
     "metadata": {},
     "outputs": []
    }
   ],
   "metadata": {}
  }
 ]
}