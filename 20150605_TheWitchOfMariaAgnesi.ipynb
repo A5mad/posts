{
 "metadata": {
  "name": "",
  "signature": "sha256:41f5fab49f88d822ed6384a78447d7329c60c4921c9023e4bda1d541ed45ce72"
 },
 "nbformat": 3,
 "nbformat_minor": 0,
 "worksheets": [
  {
   "cells": [
    {
     "cell_type": "markdown",
     "metadata": {},
     "source": [
      "[http://en.wikipedia.org/wiki/Witch_of_Agnesi](http://en.wikipedia.org/wiki/Witch_of_Agnesi)"
     ]
    },
    {
     "cell_type": "markdown",
     "metadata": {},
     "source": [
      "The instructions for building the animations are summed up in a function that will be passed to `moviepy` for rendering."
     ]
    },
    {
     "cell_type": "code",
     "collapsed": false,
     "input": [
      "%matplotlib inline"
     ],
     "language": "python",
     "metadata": {},
     "outputs": [],
     "prompt_number": 3
    },
    {
     "cell_type": "code",
     "collapsed": false,
     "input": [
      "import matplotlib.pyplot as plt\n",
      "import numpy as np"
     ],
     "language": "python",
     "metadata": {},
     "outputs": [],
     "prompt_number": 21
    },
    {
     "cell_type": "code",
     "collapsed": false,
     "input": [
      "from matplotlib.patches import Polygon, Circle\n",
      "\n",
      "def draw_witch(theta=1):\n",
      "    POINT_RADIUS = 0.05\n",
      "    CIRCLE_RADIUS = 0.5\n",
      "    ax = plt.gca()\n",
      "    \n",
      "    \n",
      "    # Triangle\n",
      "    \n",
      "    # base vectors\n",
      "    e_x = np.array([1, 0])\n",
      "    e_y = np.array([0, 1])\n",
      "    \n",
      "    # points \n",
      "    pt_O = np.array([0, 0])\n",
      "    theta = np.deg2rad(theta)\n",
      "    pt_A = pt_O + 0.5 * e_y + CIRCLE_RADIUS * (np.cos(theta) * (-1 * e_y) + np.sin(theta) * e_x)\n",
      "    pt_N = np.array([pt_A[0]/pt_A[1], 1])\n",
      "    pt_P = np.array([pt_N[0], pt_A[1]])\n",
      "    \n",
      "    # Circle\n",
      "    circle = Circle((0, 0.5), radius=0.5, fill=False)\n",
      "    triangle = Polygon(np.vstack((pt_A, pt_N, pt_P)))\n",
      "    \n",
      "    # adding artists\n",
      "    ax.add_artist(circle)\n",
      "    ax.add_artist(triangle)\n",
      "    ax.add_artist(Circle(pt_A, radius=POINT_RADIUS, fc='red'))\n",
      "    ax.add_artist(Circle(pt_N, radius=POINT_RADIUS, fc='red'))\n",
      "    ax.add_artist(Circle(pt_P, radius=POINT_RADIUS, fc='red'))\n",
      "    \n",
      "    # plot limits\n",
      "    plt.xlim(0, 3)\n",
      "    plt.ylim(0, 3)"
     ],
     "language": "python",
     "metadata": {},
     "outputs": [],
     "prompt_number": 56
    },
    {
     "cell_type": "code",
     "collapsed": false,
     "input": [
      "plt.figure(figsize=(4, 4))\n",
      "draw_witch(45)"
     ],
     "language": "python",
     "metadata": {},
     "outputs": [
      {
       "metadata": {},
       "output_type": "display_data",
       "png": "[encoded data removed]",
       "text": [
        "<matplotlib.figure.Figure at 0xb5f76a0>"
       ]
      }
     ],
     "prompt_number": 57
    },
    {
     "cell_type": "code",
     "collapsed": false,
     "input": [
      "from IPython.html.widgets import interact"
     ],
     "language": "python",
     "metadata": {},
     "outputs": [],
     "prompt_number": 58
    },
    {
     "cell_type": "code",
     "collapsed": false,
     "input": [
      "interact(draw_witch, \n",
      "         theta=(1, 180))"
     ],
     "language": "python",
     "metadata": {},
     "outputs": [
      {
       "metadata": {},
       "output_type": "display_data",
       "png": "[encoded data removed]",
       "text": [
        "<matplotlib.figure.Figure at 0xb7c75c0>"
       ]
      }
     ],
     "prompt_number": 59
    },
    {
     "cell_type": "markdown",
     "metadata": {},
     "source": [
      "The code for rendering the movie, as always inspired by [Zulko](http://zulko.github.io/blog/2014/11/29/data-animations-with-python-and-moviepy/)."
     ]
    },
    {
     "cell_type": "code",
     "collapsed": false,
     "input": [
      "from moviepy.video.io.bindings import mplfig_to_npimage\n",
      "import moviepy.editor as mpy"
     ],
     "language": "python",
     "metadata": {},
     "outputs": [],
     "prompt_number": 60
    },
    {
     "cell_type": "code",
     "collapsed": false,
     "input": [
      "duration = 2\n",
      "\n",
      "fig_mpl, ax = plt.subplots(1, figsize=(3,3), facecolor='white')\n",
      "ax.set_title(\"The witch of Maria Agnesi\")\n",
      "\n",
      "# ANIMATE WITH MOVIEPY (UPDATE THE CURVE FOR EACH t). MAKE A GIF.\n",
      "def make_frame_mpl(t):\n",
      "    draw_witch(37 + (180 - 37) * t/duration) # <= Update the curve\n",
      "    return mplfig_to_npimage(fig_mpl) # RGB image of the figure\n",
      "\n",
      "animation = mpy.VideoClip(make_frame_mpl, duration=duration)\n",
      "animation.write_gif(\"files/witch.gif\", fps=20)"
     ],
     "language": "python",
     "metadata": {},
     "outputs": [
      {
       "output_type": "stream",
       "stream": "stdout",
       "text": [
        "\n",
        "[MoviePy] Building file files/witch.gif with imageio\n"
       ]
      },
      {
       "output_type": "stream",
       "stream": "stdout",
       "text": [
        "\r",
        "|----------| 0/41   0% [elapsed: 00:00 left: ?, ? iters/sec]"
       ]
      },
      {
       "output_type": "stream",
       "stream": "stdout",
       "text": [
        "\r",
        "|####------| 17/41  41% [elapsed: 00:00 left: 00:00, 32.44 iters/sec]"
       ]
      },
      {
       "output_type": "stream",
       "stream": "stdout",
       "text": [
        "\r",
        "|#######---| 29/41  70% [elapsed: 00:01 left: 00:00, 27.99 iters/sec]"
       ]
      },
      {
       "output_type": "stream",
       "stream": "stdout",
       "text": [
        "\r",
        "|#########-| 40/41  97% [elapsed: 00:01 left: 00:00, 24.78 iters/sec]"
       ]
      },
      {
       "output_type": "stream",
       "stream": "stdout",
       "text": [
        "\r",
        "                                                                     "
       ]
      },
      {
       "output_type": "stream",
       "stream": "stdout",
       "text": [
        "\r"
       ]
      },
      {
       "metadata": {},
       "output_type": "display_data",
       "png": "[encoded data removed]",
       "text": [
        "<matplotlib.figure.Figure at 0xad2bbe0>"
       ]
      }
     ],
     "prompt_number": 62
    },
    {
     "cell_type": "code",
     "collapsed": false,
     "input": [
      "from IPython.display import HTML"
     ],
     "language": "python",
     "metadata": {},
     "outputs": [],
     "prompt_number": 63
    },
    {
     "cell_type": "code",
     "collapsed": false,
     "input": [
      "HTML(\"<img src='files/witch.gif'/>\")"
     ],
     "language": "python",
     "metadata": {},
     "outputs": [
      {
       "html": [
        "<img src='files/witch.gif'/>"
       ],
       "metadata": {},
       "output_type": "pyout",
       "prompt_number": 64,
       "text": [
        "<IPython.core.display.HTML at 0xad09e80>"
       ]
      }
     ],
     "prompt_number": 64
    },
    {
     "cell_type": "code",
     "collapsed": false,
     "input": [],
     "language": "python",
     "metadata": {},
     "outputs": []
    }
   ],
   "metadata": {}
  }
 ]
}