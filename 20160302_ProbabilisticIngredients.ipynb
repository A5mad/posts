{
 "cells": [
  {
   "cell_type": "markdown",
   "metadata": {},
   "source": [
    "In this notebook, we'll try to solve to a problem that arose when I was working on the Kaggle What's Cooking challenge (see my previous posts on the subject [here](http://flothesof.github.io/kaggle-whats-cooking-machine-learning.html) and [here](http://flothesof.github.io/kaggle-whatscooking-bokeh-plots.html)). \n",
    "\n",
    "In this challenge, the data, which consists of recipes, contains a few quirks. For example, the data may contain names of brands  such as *knorr garlic minicub*, or mention weights and quantities that should have been cleaned up beforehand *(10 oz.) frozen chopped spinach, thawed and squeezed dry*.\n",
    "\n",
    "The goal of this notebook is therefore to develop a method that suggests better ingredient names in an automatic way, based on a given recipe.\n",
    "\n",
    "The outline of this blog post is as follows: we will first look at some overall statistics about the data, then develop a probabilistic model inspired by the principle behind spellcheckers and google auto-correct as explained by [Peter Norvig](http://norvig.com/spell-correct.html) and finally apply it to the machine learning algorithm used in the previous posts, the logistic regression."
   ]
  },
  {
   "cell_type": "markdown",
   "metadata": {},
   "source": [
    "# Statistics about the data, at ingredient and word level"
   ]
  },
  {
   "cell_type": "markdown",
   "metadata": {},
   "source": [
    "In this section, we'll do some basic data exploration. In particular, let's try to answer the following questions:\n",
    "\n",
    "- how many ingredients do we find in the data? how many are unique?\n",
    "- how many individual words make up these ingredients?"
   ]
  },
  {
   "cell_type": "markdown",
   "metadata": {},
   "source": [
    "First, let's load the data. We read it using codecs because pandas hasn't support for specifying encoding in the json loading routine (see <http://blog.nexusger.de/2015/11/python-pandas-and-json_read-with-utf-8-encoding/>)."
   ]
  },
  {
   "cell_type": "code",
   "execution_count": 1,
   "metadata": {
    "collapsed": true
   },
   "outputs": [],
   "source": [
    "import pandas as pd"
   ]
  },
  {
   "cell_type": "code",
   "execution_count": 13,
   "metadata": {
    "collapsed": true
   },
   "outputs": [],
   "source": [
    "import codecs\n",
    "df_train = pd.read_json(codecs.open('train.json', 'r', 'utf-8'))"
   ]
  },
  {
   "cell_type": "markdown",
   "metadata": {},
   "source": [
    "The head of the dataframe looks like this:"
   ]
  },
  {
   "cell_type": "code",
   "execution_count": 14,
   "metadata": {
    "collapsed": false
   },
   "outputs": [
    {
     "data": {
      "text/html": [
       "<div>\n",
       "<table border=\"1\" class=\"dataframe\">\n",
       "  <thead>\n",
       "    <tr style=\"text-align: right;\">\n",
       "      <th></th>\n",
       "      <th>cuisine</th>\n",
       "      <th>id</th>\n",
       "      <th>ingredients</th>\n",
       "    </tr>\n",
       "  </thead>\n",
       "  <tbody>\n",
       "    <tr>\n",
       "      <th>0</th>\n",
       "      <td>greek</td>\n",
       "      <td>10259</td>\n",
       "      <td>[romaine lettuce, black olives, grape tomatoes...</td>\n",
       "    </tr>\n",
       "    <tr>\n",
       "      <th>1</th>\n",
       "      <td>southern_us</td>\n",
       "      <td>25693</td>\n",
       "      <td>[plain flour, ground pepper, salt, tomatoes, g...</td>\n",
       "    </tr>\n",
       "    <tr>\n",
       "      <th>2</th>\n",
       "      <td>filipino</td>\n",
       "      <td>20130</td>\n",
       "      <td>[eggs, pepper, salt, mayonaise, cooking oil, g...</td>\n",
       "    </tr>\n",
       "    <tr>\n",
       "      <th>3</th>\n",
       "      <td>indian</td>\n",
       "      <td>22213</td>\n",
       "      <td>[water, vegetable oil, wheat, salt]</td>\n",
       "    </tr>\n",
       "    <tr>\n",
       "      <th>4</th>\n",
       "      <td>indian</td>\n",
       "      <td>13162</td>\n",
       "      <td>[black pepper, shallots, cornflour, cayenne pe...</td>\n",
       "    </tr>\n",
       "  </tbody>\n",
       "</table>\n",
       "</div>"
      ],
      "text/plain": [
       "       cuisine     id                                        ingredients\n",
       "0        greek  10259  [romaine lettuce, black olives, grape tomatoes...\n",
       "1  southern_us  25693  [plain flour, ground pepper, salt, tomatoes, g...\n",
       "2     filipino  20130  [eggs, pepper, salt, mayonaise, cooking oil, g...\n",
       "3       indian  22213                [water, vegetable oil, wheat, salt]\n",
       "4       indian  13162  [black pepper, shallots, cornflour, cayenne pe..."
      ]
     },
     "execution_count": 14,
     "metadata": {},
     "output_type": "execute_result"
    }
   ],
   "source": [
    "df_train.head()"
   ]
  },
  {
   "cell_type": "markdown",
   "metadata": {},
   "source": [
    "Now, let's build a single list with all the ingredients found in the dataset."
   ]
  },
  {
   "cell_type": "code",
   "execution_count": 15,
   "metadata": {
    "collapsed": false
   },
   "outputs": [],
   "source": [
    "all_ingredients_text = []\n",
    "for ingredient_list in df_train.ingredients:\n",
    "    all_ingredients_text += [ing.lower() for ing in ingredient_list]"
   ]
  },
  {
   "cell_type": "markdown",
   "metadata": {},
   "source": [
    "Let's have a look at the stats. We have the following number of ingredients in our recipes:"
   ]
  },
  {
   "cell_type": "code",
   "execution_count": 16,
   "metadata": {
    "collapsed": false
   },
   "outputs": [
    {
     "data": {
      "text/plain": [
       "428275"
      ]
     },
     "execution_count": 16,
     "metadata": {},
     "output_type": "execute_result"
    }
   ],
   "source": [
    "len(all_ingredients_text)"
   ]
  },
  {
   "cell_type": "markdown",
   "metadata": {},
   "source": [
    "Among those, the number of unique ingredients is:"
   ]
  },
  {
   "cell_type": "code",
   "execution_count": 17,
   "metadata": {
    "collapsed": false
   },
   "outputs": [
    {
     "data": {
      "text/plain": [
       "6703"
      ]
     },
     "execution_count": 17,
     "metadata": {},
     "output_type": "execute_result"
    }
   ],
   "source": [
    "len(set(all_ingredients_text))"
   ]
  },
  {
   "cell_type": "markdown",
   "metadata": {},
   "source": [
    "How about looking at these ingredients in terms of words? We can split each ingredient at a word boundary using a regexp and then count them:"
   ]
  },
  {
   "cell_type": "code",
   "execution_count": 18,
   "metadata": {
    "collapsed": false
   },
   "outputs": [
    {
     "data": {
      "text/plain": [
       "['KRAFT',\n",
       " 'Shredded',\n",
       " 'Pepper',\n",
       " 'Jack',\n",
       " 'Cheese',\n",
       " 'with',\n",
       " 'a',\n",
       " 'TOUCH',\n",
       " 'OF',\n",
       " 'PHILADELPHIA']"
      ]
     },
     "execution_count": 18,
     "metadata": {},
     "output_type": "execute_result"
    }
   ],
   "source": [
    "import re\n",
    "re.split(re.compile('[,. ]+'), 'KRAFT Shredded Pepper Jack Cheese with a TOUCH OF PHILADELPHIA')"
   ]
  },
  {
   "cell_type": "markdown",
   "metadata": {},
   "source": [
    "Let's do that and compute the number of words and then the unique words:"
   ]
  },
  {
   "cell_type": "code",
   "execution_count": 19,
   "metadata": {
    "collapsed": true
   },
   "outputs": [],
   "source": [
    "splitter = re.compile('[,. ]+')\n",
    "all_words = []\n",
    "for ingredient in all_ingredients_text:\n",
    "    all_words += re.split(splitter, ingredient)"
   ]
  },
  {
   "cell_type": "code",
   "execution_count": 20,
   "metadata": {
    "collapsed": false
   },
   "outputs": [
    {
     "data": {
      "text/plain": [
       "807802"
      ]
     },
     "execution_count": 20,
     "metadata": {},
     "output_type": "execute_result"
    }
   ],
   "source": [
    "len(all_words)"
   ]
  },
  {
   "cell_type": "markdown",
   "metadata": {},
   "source": [
    "How about unique ones?"
   ]
  },
  {
   "cell_type": "code",
   "execution_count": 21,
   "metadata": {
    "collapsed": false
   },
   "outputs": [
    {
     "data": {
      "text/plain": [
       "3152"
      ]
     },
     "execution_count": 21,
     "metadata": {},
     "output_type": "execute_result"
    }
   ],
   "source": [
    "len(set(all_words))"
   ]
  },
  {
   "cell_type": "markdown",
   "metadata": {},
   "source": [
    "So to conclude, our dataset consists of:\n",
    "\n",
    "- 428275 ingredients\n",
    "- among which 6703 are unique\n",
    "- all these ingredients are made of 807802 words\n",
    "- among which 3152 are unique\n",
    "\n",
    "\n",
    "Let's now turn to the problems one can see with these ingredients."
   ]
  },
  {
   "cell_type": "markdown",
   "metadata": {},
   "source": [
    "# Why some ingredients found in the data are strange"
   ]
  },
  {
   "cell_type": "markdown",
   "metadata": {},
   "source": [
    "The longest ingredient names found in the dataset are:"
   ]
  },
  {
   "cell_type": "code",
   "execution_count": 22,
   "metadata": {
    "collapsed": false
   },
   "outputs": [
    {
     "data": {
      "text/plain": [
       "['pillsbury™ crescent recipe creations® refrigerated seamless dough sheet',\n",
       " 'kraft mexican style shredded four cheese with a touch of philadelphia',\n",
       " 'bertolli vineyard premium collect marinara with burgundi wine sauc',\n",
       " 'kraft shredded pepper jack cheese with a touch of philadelphia',\n",
       " 'hidden valley® farmhouse originals italian with herbs dressing',\n",
       " 'hidden valley® original ranch salad® dressing & seasoning mix',\n",
       " 'condensed reduced fat reduced sodium cream of mushroom soup',\n",
       " 'hellmannâ€™ or best food canola cholesterol free mayonnais',\n",
       " 'condensed reduced fat reduced sodium cream of chicken soup',\n",
       " \"i can't believ it' not butter! made with olive oil spread\",\n",
       " 'wish-bone light asian sesame ginger vinaigrette dressing',\n",
       " '(10 oz.) frozen chopped spinach, thawed and squeezed dry',\n",
       " 'kraft mexican style 2% milk finely shredded four cheese',\n",
       " 'kraft shredded low-moisture part-skim mozzarella cheese',\n",
       " 'hurst family harvest chipotle lime black bean soup mix',\n",
       " 'reduced fat reduced sodium tomato and herb pasta sauce',\n",
       " 'frozen orange juice concentrate, thawed and undiluted',\n",
       " 'crystal farms reduced fat shredded marble jack cheese',\n",
       " \"i can't believe it's not butter!® all purpose sticks\",\n",
       " 'sargento® traditional cut shredded mozzarella cheese',\n",
       " 'lipton sparkling diet green tea with strawberry kiwi',\n",
       " 'sargento® traditional cut shredded 4 cheese mexican',\n",
       " 'hidden valley® original ranch® spicy ranch dressing',\n",
       " 'hidden valley® greek yogurt original ranch® dip mix',\n",
       " 'conimex woksaus specials vietnamese gember knoflook',\n",
       " 'honeysuckle white® hot italian turkey sausage links',\n",
       " 'ragu old world style sweet tomato basil pasta sauc',\n",
       " 'sargento® artisan blends® shredded parmesan cheese',\n",
       " 'reduced fat reduced sodium cream of mushroom soup',\n",
       " 'frozen lemonade concentrate, thawed and undiluted',\n",
       " 'reduced sodium reduced fat cream of mushroom soup',\n",
       " 'condensed reduced fat reduced sodium tomato soup',\n",
       " 'shredded reduced fat reduced sodium swiss cheese',\n",
       " 'knorr reduc sodium chicken flavor bouillon cube',\n",
       " '2 1/2 to 3 lb. chicken, cut into serving pieces',\n",
       " 'kraft mexican style finely shredded four cheese',\n",
       " 'frozen chopped spinach, thawed and squeezed dry',\n",
       " \"frank's® redhot® original cayenne pepper sauce\",\n",
       " 'reduced sodium condensed cream of chicken soup',\n",
       " 'foster farms boneless skinless chicken breasts',\n",
       " 'knorr tomato bouillon with chicken flavor cube',\n",
       " 'pompeian canola oil and extra virgin olive oil',\n",
       " 'hidden valley® original ranch® light dressing',\n",
       " \"uncle ben's ready rice whole grain brown rice\",\n",
       " 'soy vay® veri veri teriyaki® marinade & sauce',\n",
       " 'taco bell® home originals® taco seasoning mix',\n",
       " 'pillsbury™ refrigerated crescent dinner rolls',\n",
       " 'kraft reduced fat shredded mozzarella cheese',\n",
       " 'reduced sodium italian style stewed tomatoes',\n",
       " 'skinless and boneless chicken breast fillet']"
      ]
     },
     "execution_count": 22,
     "metadata": {},
     "output_type": "execute_result"
    }
   ],
   "source": [
    "sorted(set(all_ingredients_text), key=len, reverse=True)[:50]"
   ]
  },
  {
   "cell_type": "markdown",
   "metadata": {},
   "source": [
    "What's going on here? Several observations can be made from this ingredient list:\n",
    "\n",
    "- some ingredients contain special symbols that are not relevant (trademark, copyright, ...)\n",
    "- some ingredients feature brand names, for instance *KRAFT, Pillsbury, Hidden Valley*, that I would say are not relevant to the identification of the ingredient itself and that I would thus want to exclude\n",
    "- some ingredients contain sentences of english words instead of ingredients *i can't believ it' not butter! made with olive oil spread*\n",
    "- some ingredients contain spelling errors *burgundi wine sauc* should actually be spelled *burgundy wine sauce*\n",
    "- some ingredients contain quantities of ingredients that shouldn't be there: *2 1/2 to 3 lb. chicken, cut into serving pieces*\n",
    "\n",
    "Ideally, we want a function that returns a more relevant version of these ingredients. For example:\n",
    "\n",
    "| original ingredient | improved ingredient |\n",
    "|---------------------|---------------------|\n",
    "| pillsbury™ crescent recipe creations® refrigerated seamless dough sheet |  refrigerated seamless dough sheet |\n",
    "| i can't believe it's not butter!® all purpose sticks | all purpose sticks |\n",
    "| 2 1/2 to 3 lb. chicken, cut into serving pieces | chicken pieces |\n",
    "\n",
    "These suggested improved ingredients are not unique and depend upon the knowledge of the person formulating them. The problem is that they're not easy to systematically generate. Therefore, it would be great if we could use a model based on the data itself to suggest them. This is what we're going to do in the next section."
   ]
  },
  {
   "cell_type": "markdown",
   "metadata": {},
   "source": [
    "# Building a simple model "
   ]
  },
  {
   "cell_type": "markdown",
   "metadata": {},
   "source": [
    "## Theory "
   ]
  },
  {
   "cell_type": "markdown",
   "metadata": {},
   "source": [
    "Given an ingredient, we have a choice to throw out some of its components (i.e. words). Judging if a component of an ingredient is useful or not is difficult. However, by following [Peter Norvig's approach on spell correcting](http://norvig.com/spell-correct.html) (or see these slides at Cornell University <https://courses.cit.cornell.edu/info4300_2011fa/slides/25.pdf> that explain Peter's approach in detail), we can formulate the problem of throwing out ingredient components in a probabilistic way. Although not stated in Norvig's writeup, this approach is close to something called a [Naive Bayes classifier](https://en.wikipedia.org/wiki/Naive_Bayes_classifier). \n",
    "\n",
    "Let's take a closer look at what we want to do. We want our improved ingredient to maximize its probability given our input ingredient:\n",
    "\n",
    "$$\n",
    "\\DeclareMathOperator*{\\argmax}{arg\\,max}\n",
    "\\argmax_{b}P\\left({b \\mid i}\\right)\n",
    "$$\n",
    "\n",
    "Here, I denoted by $b$ the better ingredient and by $i$ the original ingredient.\n",
    "\n",
    "The previous expression can be transformed according to Bayes Rule (following Peter Norvig) to yield:\n",
    "\n",
    "$$\n",
    "\\argmax_{b} {P\\left({i \\mid b}\\right) P(b) \\over P(i)}\n",
    "$$\n",
    "\n",
    "Given that the ingredient $i$ is fixed, we neglect the denominator (as Peter does) and end up with:\n",
    "\n",
    "$$\n",
    "\\argmax_{b} P\\left({i \\mid b}\\right) P(b)\n",
    "$$\n",
    "\n",
    "This leaves us with three terms that balance out: \n",
    "\n",
    "- the probability of occurence of ingredient in our data $P(b)$ (this will favor commonly used ingredients)\n",
    "- the error model, which says how likely it is that the input ingredient $i$ is a modified version of the better ingredient $b$\n",
    "- the argmax, our control mechanism, which chooses the $b$ that gives the best combined probability score\n"
   ]
  },
  {
   "cell_type": "markdown",
   "metadata": {},
   "source": [
    "Our error model will be that we can only delete words from our ingredient. So what we need is to generate a list of possible ingredients based on our original ingredient by substracting words. Also, we will assume that word order doesn't matter, so we can represent an ingredient by a set."
   ]
  },
  {
   "cell_type": "markdown",
   "metadata": {},
   "source": [
    "## Modelling ingredients using sets "
   ]
  },
  {
   "cell_type": "markdown",
   "metadata": {},
   "source": [
    "**Ingredients** contain a fixed number of words. We will therefore model them as **frozensets** of **words**. This will allow us to manipulate them more easily in the remaining document."
   ]
  },
  {
   "cell_type": "markdown",
   "metadata": {},
   "source": [
    "Let's define a function that creates an ingredient from a text string:"
   ]
  },
  {
   "cell_type": "code",
   "execution_count": 24,
   "metadata": {
    "collapsed": true
   },
   "outputs": [],
   "source": [
    "import re\n",
    "\n",
    "def to_ingredient(text):\n",
    "    \"Transforms text into an ingredient.\"\n",
    "    return frozenset(re.split(re.compile('[,. ]+'), text))"
   ]
  },
  {
   "cell_type": "markdown",
   "metadata": {},
   "source": [
    "Let's build a list of all our ingredients using this function:"
   ]
  },
  {
   "cell_type": "code",
   "execution_count": 25,
   "metadata": {
    "collapsed": false
   },
   "outputs": [],
   "source": [
    "all_ingredients = [to_ingredient(text) for text in all_ingredients_text]"
   ]
  },
  {
   "cell_type": "code",
   "execution_count": 26,
   "metadata": {
    "collapsed": false
   },
   "outputs": [
    {
     "data": {
      "text/plain": [
       "[frozenset({'lettuce', 'romaine'}),\n",
       " frozenset({'black', 'olives'}),\n",
       " frozenset({'grape', 'tomatoes'}),\n",
       " frozenset({'garlic'}),\n",
       " frozenset({'pepper'}),\n",
       " frozenset({'onion', 'purple'}),\n",
       " frozenset({'seasoning'}),\n",
       " frozenset({'beans', 'garbanzo'}),\n",
       " frozenset({'cheese', 'crumbles', 'feta'}),\n",
       " frozenset({'flour', 'plain'})]"
      ]
     },
     "execution_count": 26,
     "metadata": {},
     "output_type": "execute_result"
    }
   ],
   "source": [
    "all_ingredients[:10]"
   ]
  },
  {
   "cell_type": "markdown",
   "metadata": {},
   "source": [
    "Let's now implement our algorithm given our model of an ingredient."
   ]
  },
  {
   "cell_type": "markdown",
   "metadata": {},
   "source": [
    "## Implementation "
   ]
  },
  {
   "cell_type": "markdown",
   "metadata": {},
   "source": [
    "We can now write a function that generates all possible candidate ingredients that can be built from a starting ingredient, using combinations found in the Python standard library."
   ]
  },
  {
   "cell_type": "code",
   "execution_count": 27,
   "metadata": {
    "collapsed": true
   },
   "outputs": [],
   "source": [
    "import itertools\n",
    "\n",
    "def candidates(ingredient):\n",
    "    \"Returns a list of candidate ingredients obtained from the original ingredient by keeping at least one of them.\"\n",
    "    n = len(ingredient)\n",
    "    possible = []\n",
    "    for i in range(1, n + 1):\n",
    "        possible += [frozenset(combi) for combi in itertools.combinations(ingredient, i)]\n",
    "    return possible"
   ]
  },
  {
   "cell_type": "markdown",
   "metadata": {},
   "source": [
    "Let's see how this works on examples:"
   ]
  },
  {
   "cell_type": "code",
   "execution_count": 28,
   "metadata": {
    "collapsed": false
   },
   "outputs": [
    {
     "data": {
      "text/plain": [
       "[frozenset({'pasta'}),\n",
       " frozenset({'herb'}),\n",
       " frozenset({'sauce'}),\n",
       " frozenset({'and'}),\n",
       " frozenset({'tomato'}),\n",
       " frozenset({'herb', 'pasta'}),\n",
       " frozenset({'pasta', 'sauce'}),\n",
       " frozenset({'and', 'pasta'}),\n",
       " frozenset({'pasta', 'tomato'}),\n",
       " frozenset({'herb', 'sauce'}),\n",
       " frozenset({'and', 'herb'}),\n",
       " frozenset({'herb', 'tomato'}),\n",
       " frozenset({'and', 'sauce'}),\n",
       " frozenset({'sauce', 'tomato'}),\n",
       " frozenset({'and', 'tomato'}),\n",
       " frozenset({'herb', 'pasta', 'sauce'}),\n",
       " frozenset({'and', 'herb', 'pasta'}),\n",
       " frozenset({'herb', 'pasta', 'tomato'}),\n",
       " frozenset({'and', 'pasta', 'sauce'}),\n",
       " frozenset({'pasta', 'sauce', 'tomato'}),\n",
       " frozenset({'and', 'pasta', 'tomato'}),\n",
       " frozenset({'and', 'herb', 'sauce'}),\n",
       " frozenset({'herb', 'sauce', 'tomato'}),\n",
       " frozenset({'and', 'herb', 'tomato'}),\n",
       " frozenset({'and', 'sauce', 'tomato'}),\n",
       " frozenset({'and', 'herb', 'pasta', 'sauce'}),\n",
       " frozenset({'herb', 'pasta', 'sauce', 'tomato'}),\n",
       " frozenset({'and', 'herb', 'pasta', 'tomato'}),\n",
       " frozenset({'and', 'pasta', 'sauce', 'tomato'}),\n",
       " frozenset({'and', 'herb', 'sauce', 'tomato'}),\n",
       " frozenset({'and', 'herb', 'pasta', 'sauce', 'tomato'})]"
      ]
     },
     "execution_count": 28,
     "metadata": {},
     "output_type": "execute_result"
    }
   ],
   "source": [
    "candidates(to_ingredient(\"tomato and herb pasta sauce\"))"
   ]
  },
  {
   "cell_type": "code",
   "execution_count": 29,
   "metadata": {
    "collapsed": false
   },
   "outputs": [
    {
     "data": {
      "text/plain": [
       "[frozenset({'flavor'}),\n",
       " frozenset({'chicken'}),\n",
       " frozenset({'cube'}),\n",
       " frozenset({'knorr'}),\n",
       " frozenset({'bouillon'}),\n",
       " frozenset({'chicken', 'flavor'}),\n",
       " frozenset({'cube', 'flavor'}),\n",
       " frozenset({'flavor', 'knorr'}),\n",
       " frozenset({'bouillon', 'flavor'}),\n",
       " frozenset({'chicken', 'cube'}),\n",
       " frozenset({'chicken', 'knorr'}),\n",
       " frozenset({'bouillon', 'chicken'}),\n",
       " frozenset({'cube', 'knorr'}),\n",
       " frozenset({'bouillon', 'cube'}),\n",
       " frozenset({'bouillon', 'knorr'}),\n",
       " frozenset({'chicken', 'cube', 'flavor'}),\n",
       " frozenset({'chicken', 'flavor', 'knorr'}),\n",
       " frozenset({'bouillon', 'chicken', 'flavor'}),\n",
       " frozenset({'cube', 'flavor', 'knorr'}),\n",
       " frozenset({'bouillon', 'cube', 'flavor'}),\n",
       " frozenset({'bouillon', 'flavor', 'knorr'}),\n",
       " frozenset({'chicken', 'cube', 'knorr'}),\n",
       " frozenset({'bouillon', 'chicken', 'cube'}),\n",
       " frozenset({'bouillon', 'chicken', 'knorr'}),\n",
       " frozenset({'bouillon', 'cube', 'knorr'}),\n",
       " frozenset({'chicken', 'cube', 'flavor', 'knorr'}),\n",
       " frozenset({'bouillon', 'chicken', 'cube', 'flavor'}),\n",
       " frozenset({'bouillon', 'chicken', 'flavor', 'knorr'}),\n",
       " frozenset({'bouillon', 'cube', 'flavor', 'knorr'}),\n",
       " frozenset({'bouillon', 'chicken', 'cube', 'knorr'}),\n",
       " frozenset({'bouillon', 'chicken', 'cube', 'flavor', 'knorr'})]"
      ]
     },
     "execution_count": 29,
     "metadata": {},
     "output_type": "execute_result"
    }
   ],
   "source": [
    "candidates(to_ingredient('knorr chicken flavor bouillon cube'))"
   ]
  },
  {
   "cell_type": "markdown",
   "metadata": {},
   "source": [
    "The final step is to compute probabilities of candidate words. This is done using a counter of ingredients: the higher the count, the higher its probability (we don't bother normalizing here)."
   ]
  },
  {
   "cell_type": "code",
   "execution_count": 31,
   "metadata": {
    "collapsed": false
   },
   "outputs": [
    {
     "data": {
      "text/plain": [
       "[(frozenset({'salt'}), 18049),\n",
       " (frozenset({'oil', 'olive'}), 7972),\n",
       " (frozenset({'onions'}), 7972),\n",
       " (frozenset({'water'}), 7457),\n",
       " (frozenset({'garlic'}), 7380),\n",
       " (frozenset({'sugar'}), 6434),\n",
       " (frozenset({'cloves', 'garlic'}), 6237),\n",
       " (frozenset({'butter'}), 4848),\n",
       " (frozenset({'black', 'ground', 'pepper'}), 4785),\n",
       " (frozenset({'all-purpose', 'flour'}), 4632),\n",
       " (frozenset({'pepper'}), 4438),\n",
       " (frozenset({'oil', 'vegetable'}), 4385),\n",
       " (frozenset({'eggs'}), 3388),\n",
       " (frozenset({'sauce', 'soy'}), 3296),\n",
       " (frozenset({'kosher', 'salt'}), 3113),\n",
       " (frozenset({'green', 'onions'}), 3078),\n",
       " (frozenset({'tomatoes'}), 3058),\n",
       " (frozenset({'eggs', 'large'}), 2948),\n",
       " (frozenset({'carrots'}), 2814),\n",
       " (frozenset({'butter', 'unsalted'}), 2782)]"
      ]
     },
     "execution_count": 31,
     "metadata": {},
     "output_type": "execute_result"
    }
   ],
   "source": [
    "from collections import Counter\n",
    "\n",
    "c = Counter(all_ingredients)\n",
    "\n",
    "c.most_common(20)"
   ]
  },
  {
   "cell_type": "markdown",
   "metadata": {},
   "source": [
    "Now we're all set to compute the best candidate for a given input.\n",
    "\n",
    "First, let's build the probability evaluation for a possible ingredient using a default dict (so that we don't end up asking for an ingredient that doesn't exist):"
   ]
  },
  {
   "cell_type": "code",
   "execution_count": 32,
   "metadata": {
    "collapsed": false
   },
   "outputs": [],
   "source": [
    "from collections import defaultdict\n",
    "probability = defaultdict(lambda: 1, c.most_common())"
   ]
  },
  {
   "cell_type": "markdown",
   "metadata": {},
   "source": [
    "Let's test the probability:"
   ]
  },
  {
   "cell_type": "code",
   "execution_count": 33,
   "metadata": {
    "collapsed": false
   },
   "outputs": [
    {
     "data": {
      "text/plain": [
       "1"
      ]
     },
     "execution_count": 33,
     "metadata": {},
     "output_type": "execute_result"
    }
   ],
   "source": [
    "probability[to_ingredient('pasta and herb')]"
   ]
  },
  {
   "cell_type": "code",
   "execution_count": 34,
   "metadata": {
    "collapsed": false
   },
   "outputs": [
    {
     "data": {
      "text/plain": [
       "867"
      ]
     },
     "execution_count": 34,
     "metadata": {},
     "output_type": "execute_result"
    }
   ],
   "source": [
    "probability[to_ingredient('tomato sauce')]"
   ]
  },
  {
   "cell_type": "markdown",
   "metadata": {},
   "source": [
    "Seems like what we expect: tomato sauce has a higher probability than pasta and herb, which doesn't appear in our initial words."
   ]
  },
  {
   "cell_type": "markdown",
   "metadata": {},
   "source": [
    "Let's now write the function that yields the most probable replacement ingredient among all possible candidates."
   ]
  },
  {
   "cell_type": "code",
   "execution_count": 35,
   "metadata": {
    "collapsed": true
   },
   "outputs": [],
   "source": [
    "def best_replacement(ingredient):\n",
    "    \"Computes best replacement ingredient for a given input.\"\n",
    "    return max(candidates(ingredient), key=lambda c: probability[c])"
   ]
  },
  {
   "cell_type": "markdown",
   "metadata": {},
   "source": [
    "Let's now look at some examples:"
   ]
  },
  {
   "cell_type": "code",
   "execution_count": 36,
   "metadata": {
    "collapsed": false
   },
   "outputs": [
    {
     "data": {
      "text/plain": [
       "frozenset({'sauce', 'tomato'})"
      ]
     },
     "execution_count": 36,
     "metadata": {},
     "output_type": "execute_result"
    }
   ],
   "source": [
    "best_replacement(to_ingredient(\"tomato sauce\"))"
   ]
  },
  {
   "cell_type": "code",
   "execution_count": 37,
   "metadata": {
    "collapsed": false
   },
   "outputs": [
    {
     "data": {
      "text/plain": [
       "frozenset({'pasta'})"
      ]
     },
     "execution_count": 37,
     "metadata": {},
     "output_type": "execute_result"
    }
   ],
   "source": [
    "best_replacement(to_ingredient(\"pasta and herb\"))"
   ]
  },
  {
   "cell_type": "code",
   "execution_count": 38,
   "metadata": {
    "collapsed": false
   },
   "outputs": [
    {
     "data": {
      "text/plain": [
       "frozenset({'cheese'})"
      ]
     },
     "execution_count": 38,
     "metadata": {},
     "output_type": "execute_result"
    }
   ],
   "source": [
    "best_replacement(to_ingredient(\"kraft mexican style shredded four cheese with a touch of philadelphia\"))"
   ]
  },
  {
   "cell_type": "markdown",
   "metadata": {},
   "source": [
    "These examples all look good. What about the less frequent ingredients we had in our data?"
   ]
  },
  {
   "cell_type": "code",
   "execution_count": 53,
   "metadata": {
    "collapsed": false
   },
   "outputs": [
    {
     "data": {
      "text/html": [
       "<div>\n",
       "<table border=\"1\" class=\"dataframe\">\n",
       "  <thead>\n",
       "    <tr style=\"text-align: right;\">\n",
       "      <th></th>\n",
       "      <th>original ingredient</th>\n",
       "      <th>improved ingredient</th>\n",
       "    </tr>\n",
       "  </thead>\n",
       "  <tbody>\n",
       "    <tr>\n",
       "      <th>0</th>\n",
       "      <td>pillsbury™ crescent recipe creations® refriger...</td>\n",
       "      <td>dough</td>\n",
       "    </tr>\n",
       "    <tr>\n",
       "      <th>1</th>\n",
       "      <td>kraft mexican style shredded four cheese with ...</td>\n",
       "      <td>cheese</td>\n",
       "    </tr>\n",
       "    <tr>\n",
       "      <th>2</th>\n",
       "      <td>bertolli vineyard premium collect marinara wit...</td>\n",
       "      <td>wine</td>\n",
       "    </tr>\n",
       "    <tr>\n",
       "      <th>3</th>\n",
       "      <td>kraft shredded pepper jack cheese with a touch...</td>\n",
       "      <td>pepper</td>\n",
       "    </tr>\n",
       "    <tr>\n",
       "      <th>4</th>\n",
       "      <td>hidden valley® farmhouse originals italian wit...</td>\n",
       "      <td>herbs</td>\n",
       "    </tr>\n",
       "    <tr>\n",
       "      <th>5</th>\n",
       "      <td>hidden valley® original ranch salad® dressing ...</td>\n",
       "      <td>seasoning</td>\n",
       "    </tr>\n",
       "    <tr>\n",
       "      <th>6</th>\n",
       "      <td>condensed reduced fat reduced sodium cream of ...</td>\n",
       "      <td>cream</td>\n",
       "    </tr>\n",
       "    <tr>\n",
       "      <th>7</th>\n",
       "      <td>hellmannâ€™ or best food canola cholesterol fr...</td>\n",
       "      <td>canola</td>\n",
       "    </tr>\n",
       "    <tr>\n",
       "      <th>8</th>\n",
       "      <td>condensed reduced fat reduced sodium cream of ...</td>\n",
       "      <td>chicken</td>\n",
       "    </tr>\n",
       "    <tr>\n",
       "      <th>9</th>\n",
       "      <td>i can't believ it' not butter! made with olive...</td>\n",
       "      <td>oil olive</td>\n",
       "    </tr>\n",
       "    <tr>\n",
       "      <th>10</th>\n",
       "      <td>wish-bone light asian sesame ginger vinaigrett...</td>\n",
       "      <td>ginger</td>\n",
       "    </tr>\n",
       "    <tr>\n",
       "      <th>11</th>\n",
       "      <td>(10 oz.) frozen chopped spinach, thawed and sq...</td>\n",
       "      <td>spinach</td>\n",
       "    </tr>\n",
       "    <tr>\n",
       "      <th>12</th>\n",
       "      <td>kraft mexican style 2% milk finely shredded fo...</td>\n",
       "      <td>milk</td>\n",
       "    </tr>\n",
       "    <tr>\n",
       "      <th>13</th>\n",
       "      <td>kraft shredded low-moisture part-skim mozzarel...</td>\n",
       "      <td>mozzarella cheese shredded</td>\n",
       "    </tr>\n",
       "    <tr>\n",
       "      <th>14</th>\n",
       "      <td>hurst family harvest chipotle lime black bean ...</td>\n",
       "      <td>lime</td>\n",
       "    </tr>\n",
       "    <tr>\n",
       "      <th>15</th>\n",
       "      <td>reduced fat reduced sodium tomato and herb pas...</td>\n",
       "      <td>sauce tomato</td>\n",
       "    </tr>\n",
       "    <tr>\n",
       "      <th>16</th>\n",
       "      <td>frozen orange juice concentrate, thawed and un...</td>\n",
       "      <td>orange</td>\n",
       "    </tr>\n",
       "    <tr>\n",
       "      <th>17</th>\n",
       "      <td>crystal farms reduced fat shredded marble jack...</td>\n",
       "      <td>cheese</td>\n",
       "    </tr>\n",
       "    <tr>\n",
       "      <th>18</th>\n",
       "      <td>i can't believe it's not butter!® all purpose ...</td>\n",
       "      <td>believe can't butter!® purpose it's not all st...</td>\n",
       "    </tr>\n",
       "    <tr>\n",
       "      <th>19</th>\n",
       "      <td>sargento® traditional cut shredded mozzarella ...</td>\n",
       "      <td>mozzarella cheese shredded</td>\n",
       "    </tr>\n",
       "    <tr>\n",
       "      <th>20</th>\n",
       "      <td>lipton sparkling diet green tea with strawberr...</td>\n",
       "      <td>kiwi</td>\n",
       "    </tr>\n",
       "    <tr>\n",
       "      <th>21</th>\n",
       "      <td>sargento® traditional cut shredded 4 cheese me...</td>\n",
       "      <td>cheese</td>\n",
       "    </tr>\n",
       "    <tr>\n",
       "      <th>22</th>\n",
       "      <td>hidden valley® original ranch® spicy ranch dre...</td>\n",
       "      <td>ranch dressing</td>\n",
       "    </tr>\n",
       "    <tr>\n",
       "      <th>23</th>\n",
       "      <td>hidden valley® greek yogurt original ranch® di...</td>\n",
       "      <td>greek yogurt</td>\n",
       "    </tr>\n",
       "    <tr>\n",
       "      <th>24</th>\n",
       "      <td>conimex woksaus specials vietnamese gember kno...</td>\n",
       "      <td>woksaus</td>\n",
       "    </tr>\n",
       "    <tr>\n",
       "      <th>25</th>\n",
       "      <td>honeysuckle white® hot italian turkey sausage ...</td>\n",
       "      <td>sausage italian</td>\n",
       "    </tr>\n",
       "    <tr>\n",
       "      <th>26</th>\n",
       "      <td>ragu old world style sweet tomato basil pasta ...</td>\n",
       "      <td>pasta</td>\n",
       "    </tr>\n",
       "    <tr>\n",
       "      <th>27</th>\n",
       "      <td>sargento® artisan blends® shredded parmesan ch...</td>\n",
       "      <td>parmesan cheese</td>\n",
       "    </tr>\n",
       "    <tr>\n",
       "      <th>28</th>\n",
       "      <td>reduced fat reduced sodium cream of mushroom soup</td>\n",
       "      <td>cream</td>\n",
       "    </tr>\n",
       "    <tr>\n",
       "      <th>29</th>\n",
       "      <td>frozen lemonade concentrate, thawed and undiluted</td>\n",
       "      <td>frozen lemonade concentrate</td>\n",
       "    </tr>\n",
       "    <tr>\n",
       "      <th>30</th>\n",
       "      <td>reduced sodium reduced fat cream of mushroom soup</td>\n",
       "      <td>cream</td>\n",
       "    </tr>\n",
       "    <tr>\n",
       "      <th>31</th>\n",
       "      <td>condensed reduced fat reduced sodium tomato soup</td>\n",
       "      <td>fat</td>\n",
       "    </tr>\n",
       "    <tr>\n",
       "      <th>32</th>\n",
       "      <td>shredded reduced fat reduced sodium swiss cheese</td>\n",
       "      <td>cheese</td>\n",
       "    </tr>\n",
       "    <tr>\n",
       "      <th>33</th>\n",
       "      <td>knorr reduc sodium chicken flavor bouillon cube</td>\n",
       "      <td>chicken</td>\n",
       "    </tr>\n",
       "    <tr>\n",
       "      <th>34</th>\n",
       "      <td>2 1/2 to 3 lb. chicken, cut into serving pieces</td>\n",
       "      <td>chicken</td>\n",
       "    </tr>\n",
       "    <tr>\n",
       "      <th>35</th>\n",
       "      <td>kraft mexican style finely shredded four cheese</td>\n",
       "      <td>cheese</td>\n",
       "    </tr>\n",
       "    <tr>\n",
       "      <th>36</th>\n",
       "      <td>frozen chopped spinach, thawed and squeezed dry</td>\n",
       "      <td>spinach</td>\n",
       "    </tr>\n",
       "    <tr>\n",
       "      <th>37</th>\n",
       "      <td>frank's® redhot® original cayenne pepper sauce</td>\n",
       "      <td>pepper</td>\n",
       "    </tr>\n",
       "    <tr>\n",
       "      <th>38</th>\n",
       "      <td>reduced sodium condensed cream of chicken soup</td>\n",
       "      <td>chicken</td>\n",
       "    </tr>\n",
       "    <tr>\n",
       "      <th>39</th>\n",
       "      <td>foster farms boneless skinless chicken breasts</td>\n",
       "      <td>breasts boneless skinless chicken</td>\n",
       "    </tr>\n",
       "    <tr>\n",
       "      <th>40</th>\n",
       "      <td>knorr tomato bouillon with chicken flavor cube</td>\n",
       "      <td>chicken</td>\n",
       "    </tr>\n",
       "    <tr>\n",
       "      <th>41</th>\n",
       "      <td>pompeian canola oil and extra virgin olive oil</td>\n",
       "      <td>oil olive</td>\n",
       "    </tr>\n",
       "    <tr>\n",
       "      <th>42</th>\n",
       "      <td>hidden valley® original ranch® light dressing</td>\n",
       "      <td>dressing</td>\n",
       "    </tr>\n",
       "    <tr>\n",
       "      <th>43</th>\n",
       "      <td>uncle ben's ready rice whole grain brown rice</td>\n",
       "      <td>rice</td>\n",
       "    </tr>\n",
       "    <tr>\n",
       "      <th>44</th>\n",
       "      <td>soy vay® veri veri teriyaki® marinade &amp; sauce</td>\n",
       "      <td>soy sauce</td>\n",
       "    </tr>\n",
       "    <tr>\n",
       "      <th>45</th>\n",
       "      <td>taco bell® home originals® taco seasoning mix</td>\n",
       "      <td>seasoning taco</td>\n",
       "    </tr>\n",
       "    <tr>\n",
       "      <th>46</th>\n",
       "      <td>pillsbury™ refrigerated crescent dinner rolls</td>\n",
       "      <td>rolls</td>\n",
       "    </tr>\n",
       "    <tr>\n",
       "      <th>47</th>\n",
       "      <td>kraft reduced fat shredded mozzarella cheese</td>\n",
       "      <td>mozzarella cheese shredded</td>\n",
       "    </tr>\n",
       "    <tr>\n",
       "      <th>48</th>\n",
       "      <td>reduced sodium italian style stewed tomatoes</td>\n",
       "      <td>tomatoes</td>\n",
       "    </tr>\n",
       "    <tr>\n",
       "      <th>49</th>\n",
       "      <td>skinless and boneless chicken breast fillet</td>\n",
       "      <td>chicken</td>\n",
       "    </tr>\n",
       "  </tbody>\n",
       "</table>\n",
       "</div>"
      ],
      "text/plain": [
       "                                  original ingredient  \\\n",
       "0   pillsbury™ crescent recipe creations® refriger...   \n",
       "1   kraft mexican style shredded four cheese with ...   \n",
       "2   bertolli vineyard premium collect marinara wit...   \n",
       "3   kraft shredded pepper jack cheese with a touch...   \n",
       "4   hidden valley® farmhouse originals italian wit...   \n",
       "5   hidden valley® original ranch salad® dressing ...   \n",
       "6   condensed reduced fat reduced sodium cream of ...   \n",
       "7   hellmannâ€™ or best food canola cholesterol fr...   \n",
       "8   condensed reduced fat reduced sodium cream of ...   \n",
       "9   i can't believ it' not butter! made with olive...   \n",
       "10  wish-bone light asian sesame ginger vinaigrett...   \n",
       "11  (10 oz.) frozen chopped spinach, thawed and sq...   \n",
       "12  kraft mexican style 2% milk finely shredded fo...   \n",
       "13  kraft shredded low-moisture part-skim mozzarel...   \n",
       "14  hurst family harvest chipotle lime black bean ...   \n",
       "15  reduced fat reduced sodium tomato and herb pas...   \n",
       "16  frozen orange juice concentrate, thawed and un...   \n",
       "17  crystal farms reduced fat shredded marble jack...   \n",
       "18  i can't believe it's not butter!® all purpose ...   \n",
       "19  sargento® traditional cut shredded mozzarella ...   \n",
       "20  lipton sparkling diet green tea with strawberr...   \n",
       "21  sargento® traditional cut shredded 4 cheese me...   \n",
       "22  hidden valley® original ranch® spicy ranch dre...   \n",
       "23  hidden valley® greek yogurt original ranch® di...   \n",
       "24  conimex woksaus specials vietnamese gember kno...   \n",
       "25  honeysuckle white® hot italian turkey sausage ...   \n",
       "26  ragu old world style sweet tomato basil pasta ...   \n",
       "27  sargento® artisan blends® shredded parmesan ch...   \n",
       "28  reduced fat reduced sodium cream of mushroom soup   \n",
       "29  frozen lemonade concentrate, thawed and undiluted   \n",
       "30  reduced sodium reduced fat cream of mushroom soup   \n",
       "31   condensed reduced fat reduced sodium tomato soup   \n",
       "32   shredded reduced fat reduced sodium swiss cheese   \n",
       "33    knorr reduc sodium chicken flavor bouillon cube   \n",
       "34    2 1/2 to 3 lb. chicken, cut into serving pieces   \n",
       "35    kraft mexican style finely shredded four cheese   \n",
       "36    frozen chopped spinach, thawed and squeezed dry   \n",
       "37     frank's® redhot® original cayenne pepper sauce   \n",
       "38     reduced sodium condensed cream of chicken soup   \n",
       "39     foster farms boneless skinless chicken breasts   \n",
       "40     knorr tomato bouillon with chicken flavor cube   \n",
       "41     pompeian canola oil and extra virgin olive oil   \n",
       "42      hidden valley® original ranch® light dressing   \n",
       "43      uncle ben's ready rice whole grain brown rice   \n",
       "44      soy vay® veri veri teriyaki® marinade & sauce   \n",
       "45      taco bell® home originals® taco seasoning mix   \n",
       "46      pillsbury™ refrigerated crescent dinner rolls   \n",
       "47       kraft reduced fat shredded mozzarella cheese   \n",
       "48       reduced sodium italian style stewed tomatoes   \n",
       "49        skinless and boneless chicken breast fillet   \n",
       "\n",
       "                                  improved ingredient  \n",
       "0                                               dough  \n",
       "1                                              cheese  \n",
       "2                                                wine  \n",
       "3                                              pepper  \n",
       "4                                               herbs  \n",
       "5                                           seasoning  \n",
       "6                                               cream  \n",
       "7                                              canola  \n",
       "8                                             chicken  \n",
       "9                                           oil olive  \n",
       "10                                             ginger  \n",
       "11                                            spinach  \n",
       "12                                               milk  \n",
       "13                         mozzarella cheese shredded  \n",
       "14                                               lime  \n",
       "15                                       sauce tomato  \n",
       "16                                             orange  \n",
       "17                                             cheese  \n",
       "18  believe can't butter!® purpose it's not all st...  \n",
       "19                         mozzarella cheese shredded  \n",
       "20                                               kiwi  \n",
       "21                                             cheese  \n",
       "22                                     ranch dressing  \n",
       "23                                       greek yogurt  \n",
       "24                                            woksaus  \n",
       "25                                    sausage italian  \n",
       "26                                              pasta  \n",
       "27                                    parmesan cheese  \n",
       "28                                              cream  \n",
       "29                        frozen lemonade concentrate  \n",
       "30                                              cream  \n",
       "31                                                fat  \n",
       "32                                             cheese  \n",
       "33                                            chicken  \n",
       "34                                            chicken  \n",
       "35                                             cheese  \n",
       "36                                            spinach  \n",
       "37                                             pepper  \n",
       "38                                            chicken  \n",
       "39                  breasts boneless skinless chicken  \n",
       "40                                            chicken  \n",
       "41                                          oil olive  \n",
       "42                                           dressing  \n",
       "43                                               rice  \n",
       "44                                          soy sauce  \n",
       "45                                     seasoning taco  \n",
       "46                                              rolls  \n",
       "47                         mozzarella cheese shredded  \n",
       "48                                           tomatoes  \n",
       "49                                            chicken  "
      ]
     },
     "execution_count": 53,
     "metadata": {},
     "output_type": "execute_result"
    }
   ],
   "source": [
    "pd.DataFrame([(text, \n",
    "               \" \".join(best_replacement(to_ingredient(text)))) \n",
    "              for text in sorted(set(all_ingredients_text), key=len, reverse=True)[:50]],\n",
    "            columns=['original ingredient', 'improved ingredient'])"
   ]
  },
  {
   "cell_type": "markdown",
   "metadata": {},
   "source": [
    "This is interesting: a lot of the ingredients get well simplified, which is exactly what we want. Two comments:\n",
    "\n",
    "- some simplifications are not the ones expected *i can't believe it's not butter!® all purpose sticks*, *reduced sodium reduced fat cream of mushroom soup*\n",
    "- some get simplified **too much**: *skinless and boneless chicken breast fillet* becomes *chicken*, *reduced sodium italian style stewed tomatoes* becomes *tomatoes*"
   ]
  },
  {
   "cell_type": "markdown",
   "metadata": {},
   "source": [
    "This model fails to take into account one thing: if we leave out too many ingredients in our replacement ingredient, the distance to the original ingredient increases. This observation is analogous to Peter Norvig's spell checker, where he considers the possible candidates by increasing edit distance: first words that have only one modification compared to the original word, then two modifications, then three... \n",
    "\n",
    "To compensate for this oversimplifcation, let's modify our procedure to keep a new ingredient that is as close as possible to the original."
   ]
  },
  {
   "cell_type": "markdown",
   "metadata": {},
   "source": [
    "# Building a slightly more elaborate model"
   ]
  },
  {
   "cell_type": "markdown",
   "metadata": {},
   "source": [
    "The only thing we have to change is the way our candidates function works. Instead of generating all possibilites it should return only the ones that exist in our vocabulary of recipes with the least possible number of modifications. Here the modifications can be thought of leaving out a given number of words, by increasing the number of words left out."
   ]
  },
  {
   "cell_type": "code",
   "execution_count": 40,
   "metadata": {
    "collapsed": true
   },
   "outputs": [],
   "source": [
    "def candidates_increasing_distance(ingredient, vocabulary):\n",
    "    \"Returns candidate ingredients obtained from the original ingredient by substraction, largest number of ingredients first.\"\n",
    "    n = len(ingredient)\n",
    "    for i in range(n - 1, 1, -1):\n",
    "        possible = [frozenset(combi) for combi in itertools.combinations(ingredient, i) \n",
    "                    if frozenset(combi) in vocabulary]\n",
    "        if len(possible) > 0:\n",
    "            return possible\n",
    "    return [ingredient]"
   ]
  },
  {
   "cell_type": "markdown",
   "metadata": {},
   "source": [
    "We will define our vocabulary by the already existing counted ingredients:"
   ]
  },
  {
   "cell_type": "code",
   "execution_count": 41,
   "metadata": {
    "collapsed": true
   },
   "outputs": [],
   "source": [
    "vocabulary = dict(c.most_common())"
   ]
  },
  {
   "cell_type": "code",
   "execution_count": 42,
   "metadata": {
    "collapsed": false
   },
   "outputs": [
    {
     "data": {
      "text/plain": [
       "[frozenset({'chicken', 'cubes', 'stock'}),\n",
       " frozenset({'creations®',\n",
       "            'crescent',\n",
       "            'dough',\n",
       "            'pillsbury™',\n",
       "            'recipe',\n",
       "            'refrigerated',\n",
       "            'seamless',\n",
       "            'sheet'}),\n",
       " frozenset({'nori', 'shredded'}),\n",
       " frozenset({'eye', 'of', 'roast', 'round'}),\n",
       " frozenset({'gumbo', 'mixture', 'vegetable'}),\n",
       " frozenset({'curry', 'green', 'paste', 'thai'}),\n",
       " frozenset({'bouillon', 'chicken', 'cube', 'flavor', 'knorr'}),\n",
       " frozenset({'beef', 'roast', 'shoulder'}),\n",
       " frozenset({'grained'}),\n",
       " frozenset({'dried', 'ear', 'mushrooms', 'wood'})]"
      ]
     },
     "execution_count": 42,
     "metadata": {},
     "output_type": "execute_result"
    }
   ],
   "source": [
    "list(vocabulary.keys())[:10]"
   ]
  },
  {
   "cell_type": "markdown",
   "metadata": {},
   "source": [
    "Let's test our function on a few examples:"
   ]
  },
  {
   "cell_type": "code",
   "execution_count": 43,
   "metadata": {
    "collapsed": false
   },
   "outputs": [
    {
     "data": {
      "text/plain": [
       "[frozenset({'clam', 'juice'})]"
      ]
     },
     "execution_count": 43,
     "metadata": {},
     "output_type": "execute_result"
    }
   ],
   "source": [
    "candidates_increasing_distance(to_ingredient(\"bottled clam juice\"), vocabulary)"
   ]
  },
  {
   "cell_type": "code",
   "execution_count": 45,
   "metadata": {
    "collapsed": false
   },
   "outputs": [
    {
     "data": {
      "text/plain": [
       "[frozenset({'dressing', 'ranch'})]"
      ]
     },
     "execution_count": 45,
     "metadata": {},
     "output_type": "execute_result"
    }
   ],
   "source": [
    "candidates_increasing_distance(to_ingredient('hidden valley original ranch spicy ranch dressing'), vocabulary)"
   ]
  },
  {
   "cell_type": "code",
   "execution_count": 47,
   "metadata": {
    "collapsed": false
   },
   "outputs": [
    {
     "data": {
      "text/plain": [
       "[frozenset({'boneless', 'breast', 'chicken', 'skinless'})]"
      ]
     },
     "execution_count": 47,
     "metadata": {},
     "output_type": "execute_result"
    }
   ],
   "source": [
    "candidates_increasing_distance(to_ingredient(\"skinless and boneless chicken breast fillet\"), vocabulary)"
   ]
  },
  {
   "cell_type": "code",
   "execution_count": 48,
   "metadata": {
    "collapsed": false
   },
   "outputs": [
    {
     "data": {
      "text/plain": [
       "[frozenset({'italian', 'stewed', 'style', 'tomatoes'})]"
      ]
     },
     "execution_count": 48,
     "metadata": {},
     "output_type": "execute_result"
    }
   ],
   "source": [
    "candidates_increasing_distance(to_ingredient(\"reduced sodium italian style stewed tomatoes\"), vocabulary)"
   ]
  },
  {
   "cell_type": "markdown",
   "metadata": {},
   "source": [
    "As we see, this works better on the examples that got simplified too much using the previous model."
   ]
  },
  {
   "cell_type": "markdown",
   "metadata": {},
   "source": [
    "Let's now write a new function for computing the best replacement, that takes into account the probabilities:"
   ]
  },
  {
   "cell_type": "code",
   "execution_count": 49,
   "metadata": {
    "collapsed": true
   },
   "outputs": [],
   "source": [
    "def best_replacement_increasing_distance(ingredient, vocabulary):\n",
    "    \"Computes best replacement ingredient for a given input.\"\n",
    "    return max(candidates_increasing_distance(ingredient, vocabulary), key=lambda w: vocabulary[w])"
   ]
  },
  {
   "cell_type": "markdown",
   "metadata": {},
   "source": [
    "And let's apply this to our lesser used ingredients:"
   ]
  },
  {
   "cell_type": "code",
   "execution_count": 54,
   "metadata": {
    "collapsed": false
   },
   "outputs": [
    {
     "data": {
      "text/html": [
       "<div>\n",
       "<table border=\"1\" class=\"dataframe\">\n",
       "  <thead>\n",
       "    <tr style=\"text-align: right;\">\n",
       "      <th></th>\n",
       "      <th>original ingredient</th>\n",
       "      <th>improved ingredient</th>\n",
       "    </tr>\n",
       "  </thead>\n",
       "  <tbody>\n",
       "    <tr>\n",
       "      <th>0</th>\n",
       "      <td>pillsbury™ crescent recipe creations® refriger...</td>\n",
       "      <td>refrigerated seamless dough crescent</td>\n",
       "    </tr>\n",
       "    <tr>\n",
       "      <th>1</th>\n",
       "      <td>kraft mexican style shredded four cheese with ...</td>\n",
       "      <td>cheese shredded</td>\n",
       "    </tr>\n",
       "    <tr>\n",
       "      <th>2</th>\n",
       "      <td>bertolli vineyard premium collect marinara wit...</td>\n",
       "      <td>wine marinara bertolli vineyard with burgundi ...</td>\n",
       "    </tr>\n",
       "    <tr>\n",
       "      <th>3</th>\n",
       "      <td>kraft shredded pepper jack cheese with a touch...</td>\n",
       "      <td>kraft jack pepper cheese shredded</td>\n",
       "    </tr>\n",
       "    <tr>\n",
       "      <th>4</th>\n",
       "      <td>hidden valley® farmhouse originals italian wit...</td>\n",
       "      <td>herbs italian</td>\n",
       "    </tr>\n",
       "    <tr>\n",
       "      <th>5</th>\n",
       "      <td>hidden valley® original ranch salad® dressing ...</td>\n",
       "      <td>ranch dressing</td>\n",
       "    </tr>\n",
       "    <tr>\n",
       "      <th>6</th>\n",
       "      <td>condensed reduced fat reduced sodium cream of ...</td>\n",
       "      <td>mushroom fat cream reduced soup of sodium</td>\n",
       "    </tr>\n",
       "    <tr>\n",
       "      <th>7</th>\n",
       "      <td>hellmannâ€™ or best food canola cholesterol fr...</td>\n",
       "      <td>best canola cholesterol mayonnais food or free...</td>\n",
       "    </tr>\n",
       "    <tr>\n",
       "      <th>8</th>\n",
       "      <td>condensed reduced fat reduced sodium cream of ...</td>\n",
       "      <td>cream chicken reduced soup condensed of sodium</td>\n",
       "    </tr>\n",
       "    <tr>\n",
       "      <th>9</th>\n",
       "      <td>i can't believ it' not butter! made with olive...</td>\n",
       "      <td>oil olive</td>\n",
       "    </tr>\n",
       "    <tr>\n",
       "      <th>10</th>\n",
       "      <td>wish-bone light asian sesame ginger vinaigrett...</td>\n",
       "      <td>vinaigrette dressing</td>\n",
       "    </tr>\n",
       "    <tr>\n",
       "      <th>11</th>\n",
       "      <td>(10 oz.) frozen chopped spinach, thawed and sq...</td>\n",
       "      <td>chopped frozen spinach thawed squeezed and dry</td>\n",
       "    </tr>\n",
       "    <tr>\n",
       "      <th>12</th>\n",
       "      <td>kraft mexican style 2% milk finely shredded fo...</td>\n",
       "      <td>mexican shredded finely style cheese kraft four</td>\n",
       "    </tr>\n",
       "    <tr>\n",
       "      <th>13</th>\n",
       "      <td>kraft shredded low-moisture part-skim mozzarel...</td>\n",
       "      <td>kraft mozzarella cheese shredded</td>\n",
       "    </tr>\n",
       "    <tr>\n",
       "      <th>14</th>\n",
       "      <td>hurst family harvest chipotle lime black bean ...</td>\n",
       "      <td>bean soup mix</td>\n",
       "    </tr>\n",
       "    <tr>\n",
       "      <th>15</th>\n",
       "      <td>reduced fat reduced sodium tomato and herb pas...</td>\n",
       "      <td>sauce tomato</td>\n",
       "    </tr>\n",
       "    <tr>\n",
       "      <th>16</th>\n",
       "      <td>frozen orange juice concentrate, thawed and un...</td>\n",
       "      <td>orange frozen juice concentrate</td>\n",
       "    </tr>\n",
       "    <tr>\n",
       "      <th>17</th>\n",
       "      <td>crystal farms reduced fat shredded marble jack...</td>\n",
       "      <td>cheese reduced shredded fat</td>\n",
       "    </tr>\n",
       "    <tr>\n",
       "      <th>18</th>\n",
       "      <td>i can't believe it's not butter!® all purpose ...</td>\n",
       "      <td>believe can't butter!® sticks not it's all i p...</td>\n",
       "    </tr>\n",
       "    <tr>\n",
       "      <th>19</th>\n",
       "      <td>sargento® traditional cut shredded mozzarella ...</td>\n",
       "      <td>mozzarella cheese shredded</td>\n",
       "    </tr>\n",
       "    <tr>\n",
       "      <th>20</th>\n",
       "      <td>lipton sparkling diet green tea with strawberr...</td>\n",
       "      <td>tea green</td>\n",
       "    </tr>\n",
       "    <tr>\n",
       "      <th>21</th>\n",
       "      <td>sargento® traditional cut shredded 4 cheese me...</td>\n",
       "      <td>cheese shredded</td>\n",
       "    </tr>\n",
       "    <tr>\n",
       "      <th>22</th>\n",
       "      <td>hidden valley® original ranch® spicy ranch dre...</td>\n",
       "      <td>hidden valley® ranch® original dressing</td>\n",
       "    </tr>\n",
       "    <tr>\n",
       "      <th>23</th>\n",
       "      <td>hidden valley® greek yogurt original ranch® di...</td>\n",
       "      <td>greek yogurt</td>\n",
       "    </tr>\n",
       "    <tr>\n",
       "      <th>24</th>\n",
       "      <td>conimex woksaus specials vietnamese gember kno...</td>\n",
       "      <td>woksaus specials knoflook gember conimex vietn...</td>\n",
       "    </tr>\n",
       "    <tr>\n",
       "      <th>25</th>\n",
       "      <td>honeysuckle white® hot italian turkey sausage ...</td>\n",
       "      <td>hot sausage turkey italian links</td>\n",
       "    </tr>\n",
       "    <tr>\n",
       "      <th>26</th>\n",
       "      <td>ragu old world style sweet tomato basil pasta ...</td>\n",
       "      <td>pasta world old ragu style sauc</td>\n",
       "    </tr>\n",
       "    <tr>\n",
       "      <th>27</th>\n",
       "      <td>sargento® artisan blends® shredded parmesan ch...</td>\n",
       "      <td>parmesan cheese shredded</td>\n",
       "    </tr>\n",
       "    <tr>\n",
       "      <th>28</th>\n",
       "      <td>reduced fat reduced sodium cream of mushroom soup</td>\n",
       "      <td>mushroom fat cream reduced soup of</td>\n",
       "    </tr>\n",
       "    <tr>\n",
       "      <th>29</th>\n",
       "      <td>frozen lemonade concentrate, thawed and undiluted</td>\n",
       "      <td>frozen lemonade concentrate</td>\n",
       "    </tr>\n",
       "    <tr>\n",
       "      <th>30</th>\n",
       "      <td>reduced sodium reduced fat cream of mushroom soup</td>\n",
       "      <td>mushroom fat cream reduced soup of</td>\n",
       "    </tr>\n",
       "    <tr>\n",
       "      <th>31</th>\n",
       "      <td>condensed reduced fat reduced sodium tomato soup</td>\n",
       "      <td>condensed soup tomato</td>\n",
       "    </tr>\n",
       "    <tr>\n",
       "      <th>32</th>\n",
       "      <td>shredded reduced fat reduced sodium swiss cheese</td>\n",
       "      <td>swiss reduced cheese fat</td>\n",
       "    </tr>\n",
       "    <tr>\n",
       "      <th>33</th>\n",
       "      <td>knorr reduc sodium chicken flavor bouillon cube</td>\n",
       "      <td>bouillon reduc flavor knorr chicken sodium</td>\n",
       "    </tr>\n",
       "    <tr>\n",
       "      <th>34</th>\n",
       "      <td>2 1/2 to 3 lb. chicken, cut into serving pieces</td>\n",
       "      <td>pieces chicken</td>\n",
       "    </tr>\n",
       "    <tr>\n",
       "      <th>35</th>\n",
       "      <td>kraft mexican style finely shredded four cheese</td>\n",
       "      <td>cheese shredded</td>\n",
       "    </tr>\n",
       "    <tr>\n",
       "      <th>36</th>\n",
       "      <td>frozen chopped spinach, thawed and squeezed dry</td>\n",
       "      <td>chopped frozen spinach</td>\n",
       "    </tr>\n",
       "    <tr>\n",
       "      <th>37</th>\n",
       "      <td>frank's® redhot® original cayenne pepper sauce</td>\n",
       "      <td>pepper cayenne sauce</td>\n",
       "    </tr>\n",
       "    <tr>\n",
       "      <th>38</th>\n",
       "      <td>reduced sodium condensed cream of chicken soup</td>\n",
       "      <td>condensed soup cream chicken of</td>\n",
       "    </tr>\n",
       "    <tr>\n",
       "      <th>39</th>\n",
       "      <td>foster farms boneless skinless chicken breasts</td>\n",
       "      <td>breasts boneless skinless chicken</td>\n",
       "    </tr>\n",
       "    <tr>\n",
       "      <th>40</th>\n",
       "      <td>knorr tomato bouillon with chicken flavor cube</td>\n",
       "      <td>bouillon tomato with flavor knorr chicken</td>\n",
       "    </tr>\n",
       "    <tr>\n",
       "      <th>41</th>\n",
       "      <td>pompeian canola oil and extra virgin olive oil</td>\n",
       "      <td>oil virgin olive</td>\n",
       "    </tr>\n",
       "    <tr>\n",
       "      <th>42</th>\n",
       "      <td>hidden valley® original ranch® light dressing</td>\n",
       "      <td>hidden valley® ranch® original dressing</td>\n",
       "    </tr>\n",
       "    <tr>\n",
       "      <th>43</th>\n",
       "      <td>uncle ben's ready rice whole grain brown rice</td>\n",
       "      <td>whole grain rice</td>\n",
       "    </tr>\n",
       "    <tr>\n",
       "      <th>44</th>\n",
       "      <td>soy vay® veri veri teriyaki® marinade &amp; sauce</td>\n",
       "      <td>soy sauce</td>\n",
       "    </tr>\n",
       "    <tr>\n",
       "      <th>45</th>\n",
       "      <td>taco bell® home originals® taco seasoning mix</td>\n",
       "      <td>seasoning taco mix</td>\n",
       "    </tr>\n",
       "    <tr>\n",
       "      <th>46</th>\n",
       "      <td>pillsbury™ refrigerated crescent dinner rolls</td>\n",
       "      <td>refrigerated rolls crescent</td>\n",
       "    </tr>\n",
       "    <tr>\n",
       "      <th>47</th>\n",
       "      <td>kraft reduced fat shredded mozzarella cheese</td>\n",
       "      <td>cheese reduced shredded fat</td>\n",
       "    </tr>\n",
       "    <tr>\n",
       "      <th>48</th>\n",
       "      <td>reduced sodium italian style stewed tomatoes</td>\n",
       "      <td>tomatoes style italian stewed</td>\n",
       "    </tr>\n",
       "    <tr>\n",
       "      <th>49</th>\n",
       "      <td>skinless and boneless chicken breast fillet</td>\n",
       "      <td>skinless breast chicken boneless</td>\n",
       "    </tr>\n",
       "  </tbody>\n",
       "</table>\n",
       "</div>"
      ],
      "text/plain": [
       "                                  original ingredient  \\\n",
       "0   pillsbury™ crescent recipe creations® refriger...   \n",
       "1   kraft mexican style shredded four cheese with ...   \n",
       "2   bertolli vineyard premium collect marinara wit...   \n",
       "3   kraft shredded pepper jack cheese with a touch...   \n",
       "4   hidden valley® farmhouse originals italian wit...   \n",
       "5   hidden valley® original ranch salad® dressing ...   \n",
       "6   condensed reduced fat reduced sodium cream of ...   \n",
       "7   hellmannâ€™ or best food canola cholesterol fr...   \n",
       "8   condensed reduced fat reduced sodium cream of ...   \n",
       "9   i can't believ it' not butter! made with olive...   \n",
       "10  wish-bone light asian sesame ginger vinaigrett...   \n",
       "11  (10 oz.) frozen chopped spinach, thawed and sq...   \n",
       "12  kraft mexican style 2% milk finely shredded fo...   \n",
       "13  kraft shredded low-moisture part-skim mozzarel...   \n",
       "14  hurst family harvest chipotle lime black bean ...   \n",
       "15  reduced fat reduced sodium tomato and herb pas...   \n",
       "16  frozen orange juice concentrate, thawed and un...   \n",
       "17  crystal farms reduced fat shredded marble jack...   \n",
       "18  i can't believe it's not butter!® all purpose ...   \n",
       "19  sargento® traditional cut shredded mozzarella ...   \n",
       "20  lipton sparkling diet green tea with strawberr...   \n",
       "21  sargento® traditional cut shredded 4 cheese me...   \n",
       "22  hidden valley® original ranch® spicy ranch dre...   \n",
       "23  hidden valley® greek yogurt original ranch® di...   \n",
       "24  conimex woksaus specials vietnamese gember kno...   \n",
       "25  honeysuckle white® hot italian turkey sausage ...   \n",
       "26  ragu old world style sweet tomato basil pasta ...   \n",
       "27  sargento® artisan blends® shredded parmesan ch...   \n",
       "28  reduced fat reduced sodium cream of mushroom soup   \n",
       "29  frozen lemonade concentrate, thawed and undiluted   \n",
       "30  reduced sodium reduced fat cream of mushroom soup   \n",
       "31   condensed reduced fat reduced sodium tomato soup   \n",
       "32   shredded reduced fat reduced sodium swiss cheese   \n",
       "33    knorr reduc sodium chicken flavor bouillon cube   \n",
       "34    2 1/2 to 3 lb. chicken, cut into serving pieces   \n",
       "35    kraft mexican style finely shredded four cheese   \n",
       "36    frozen chopped spinach, thawed and squeezed dry   \n",
       "37     frank's® redhot® original cayenne pepper sauce   \n",
       "38     reduced sodium condensed cream of chicken soup   \n",
       "39     foster farms boneless skinless chicken breasts   \n",
       "40     knorr tomato bouillon with chicken flavor cube   \n",
       "41     pompeian canola oil and extra virgin olive oil   \n",
       "42      hidden valley® original ranch® light dressing   \n",
       "43      uncle ben's ready rice whole grain brown rice   \n",
       "44      soy vay® veri veri teriyaki® marinade & sauce   \n",
       "45      taco bell® home originals® taco seasoning mix   \n",
       "46      pillsbury™ refrigerated crescent dinner rolls   \n",
       "47       kraft reduced fat shredded mozzarella cheese   \n",
       "48       reduced sodium italian style stewed tomatoes   \n",
       "49        skinless and boneless chicken breast fillet   \n",
       "\n",
       "                                  improved ingredient  \n",
       "0                refrigerated seamless dough crescent  \n",
       "1                                     cheese shredded  \n",
       "2   wine marinara bertolli vineyard with burgundi ...  \n",
       "3                   kraft jack pepper cheese shredded  \n",
       "4                                       herbs italian  \n",
       "5                                      ranch dressing  \n",
       "6           mushroom fat cream reduced soup of sodium  \n",
       "7   best canola cholesterol mayonnais food or free...  \n",
       "8      cream chicken reduced soup condensed of sodium  \n",
       "9                                           oil olive  \n",
       "10                               vinaigrette dressing  \n",
       "11     chopped frozen spinach thawed squeezed and dry  \n",
       "12    mexican shredded finely style cheese kraft four  \n",
       "13                   kraft mozzarella cheese shredded  \n",
       "14                                      bean soup mix  \n",
       "15                                       sauce tomato  \n",
       "16                    orange frozen juice concentrate  \n",
       "17                        cheese reduced shredded fat  \n",
       "18  believe can't butter!® sticks not it's all i p...  \n",
       "19                         mozzarella cheese shredded  \n",
       "20                                          tea green  \n",
       "21                                    cheese shredded  \n",
       "22            hidden valley® ranch® original dressing  \n",
       "23                                       greek yogurt  \n",
       "24  woksaus specials knoflook gember conimex vietn...  \n",
       "25                   hot sausage turkey italian links  \n",
       "26                    pasta world old ragu style sauc  \n",
       "27                           parmesan cheese shredded  \n",
       "28                 mushroom fat cream reduced soup of  \n",
       "29                        frozen lemonade concentrate  \n",
       "30                 mushroom fat cream reduced soup of  \n",
       "31                              condensed soup tomato  \n",
       "32                           swiss reduced cheese fat  \n",
       "33         bouillon reduc flavor knorr chicken sodium  \n",
       "34                                     pieces chicken  \n",
       "35                                    cheese shredded  \n",
       "36                             chopped frozen spinach  \n",
       "37                               pepper cayenne sauce  \n",
       "38                    condensed soup cream chicken of  \n",
       "39                  breasts boneless skinless chicken  \n",
       "40          bouillon tomato with flavor knorr chicken  \n",
       "41                                   oil virgin olive  \n",
       "42            hidden valley® ranch® original dressing  \n",
       "43                                   whole grain rice  \n",
       "44                                          soy sauce  \n",
       "45                                 seasoning taco mix  \n",
       "46                        refrigerated rolls crescent  \n",
       "47                        cheese reduced shredded fat  \n",
       "48                      tomatoes style italian stewed  \n",
       "49                   skinless breast chicken boneless  "
      ]
     },
     "execution_count": 54,
     "metadata": {},
     "output_type": "execute_result"
    }
   ],
   "source": [
    "pd.DataFrame([(text, \n",
    "               \" \".join(best_replacement_increasing_distance(to_ingredient(text), vocabulary))) \n",
    "              for text in sorted(set(all_ingredients_text), key=len, reverse=True)[:50]],\n",
    "            columns=['original ingredient', 'improved ingredient'])"
   ]
  },
  {
   "cell_type": "markdown",
   "metadata": {},
   "source": [
    "This result is interesting: the refined labels given here seem much better than the originals. However, there are still problems with the new ingredients. In particular, special symbols pollute the data. Therefore it's a good idea to first clean the data before employing our method.\n",
    "\n",
    "Hopefully, this leads us to a better ingredient names, leading to better classification. To assert this, we'll train again on the dataset and see if we can expect some improvement compared to our previous model."
   ]
  },
  {
   "cell_type": "markdown",
   "metadata": {},
   "source": [
    "# Training a machine learning model"
   ]
  },
  {
   "cell_type": "markdown",
   "metadata": {},
   "source": [
    "First, let's train the [previous model](http://flothesof.github.io/kaggle-whats-cooking-machine-learning.html):"
   ]
  },
  {
   "cell_type": "code",
   "execution_count": 55,
   "metadata": {
    "collapsed": false
   },
   "outputs": [],
   "source": [
    "df_train['all_ingredients'] = df_train['ingredients'].map(\";\".join)\n",
    "from sklearn.feature_extraction.text import CountVectorizer\n",
    "cv = CountVectorizer()\n",
    "X = cv.fit_transform(df_train['all_ingredients'].values)\n",
    "from sklearn.preprocessing import LabelEncoder\n",
    "enc = LabelEncoder()\n",
    "y = enc.fit_transform(df_train.cuisine)\n",
    "from sklearn.cross_validation import train_test_split\n",
    "X_train, X_test, y_train, y_test = train_test_split(X, y, test_size=0.2)"
   ]
  },
  {
   "cell_type": "markdown",
   "metadata": {},
   "source": [
    "Let's evaluate the accuracy of our model by doing a K-fold cross validation (training the model several times and check the error each time)."
   ]
  },
  {
   "cell_type": "code",
   "execution_count": 56,
   "metadata": {
    "collapsed": true
   },
   "outputs": [],
   "source": [
    "from sklearn.cross_validation import cross_val_score, KFold\n",
    "from scipy.stats import sem\n",
    "import numpy as np\n",
    "def evaluate_cross_validation(clf, X, y, K):\n",
    "    # create a k-fold cross validation iterator\n",
    "    cv = KFold(len(y), K, shuffle=True, random_state=0)\n",
    "    # by default the score used is the one returned by score method of the estimator (accuracy)\n",
    "    scores = cross_val_score(clf, X, y, cv=cv)\n",
    "    print (scores)\n",
    "    print (\"Mean score: {0:.3f} (+/-{1:.3f})\".format(\n",
    "        np.mean(scores), sem(scores)))"
   ]
  },
  {
   "cell_type": "code",
   "execution_count": 57,
   "metadata": {
    "collapsed": false
   },
   "outputs": [
    {
     "name": "stdout",
     "output_type": "stream",
     "text": [
      "[ 0.79195475  0.78830924  0.78290383  0.79019485  0.78124214]\n",
      "Mean score: 0.787 (+/-0.002)\n"
     ]
    }
   ],
   "source": [
    "from sklearn.linear_model import LogisticRegression\n",
    "logistic = LogisticRegression()\n",
    "evaluate_cross_validation(logistic, X, y, 5)"
   ]
  },
  {
   "cell_type": "markdown",
   "metadata": {
    "collapsed": true
   },
   "source": [
    "Now that we have an initial evaluation of our algorithm, let's feed it our better vectors. All we have to do is rebuild the X matrix using our new feature ingredients. We also perform some string substitution to take into account the special characters."
   ]
  },
  {
   "cell_type": "code",
   "execution_count": 63,
   "metadata": {
    "collapsed": false
   },
   "outputs": [],
   "source": [
    "def clean_string(ingredient_text):\n",
    "    \"Cleans the ingredient from special characters and returns it as lowercase.\"\n",
    "    return \"\".join([char for char in ingredient_text.lower() if char.isalnum() or char.isspace()])"
   ]
  },
  {
   "cell_type": "markdown",
   "metadata": {},
   "source": [
    "Let's test this:"
   ]
  },
  {
   "cell_type": "code",
   "execution_count": 64,
   "metadata": {
    "collapsed": false
   },
   "outputs": [
    {
     "data": {
      "text/plain": [
       "'franks redhot original cayenne pepper sauce'"
      ]
     },
     "execution_count": 64,
     "metadata": {},
     "output_type": "execute_result"
    }
   ],
   "source": [
    "clean_string(\"frank's® redhot® original cayenne pepper sauce\")"
   ]
  },
  {
   "cell_type": "code",
   "execution_count": 65,
   "metadata": {
    "collapsed": false
   },
   "outputs": [
    {
     "data": {
      "text/plain": [
       "'2 12 to 3 lb chicken cut into serving pieces'"
      ]
     },
     "execution_count": 65,
     "metadata": {},
     "output_type": "execute_result"
    }
   ],
   "source": [
    "clean_string(\"2 1/2 to 3 lb. chicken, cut into serving pieces\")"
   ]
  },
  {
   "cell_type": "code",
   "execution_count": 66,
   "metadata": {
    "collapsed": false
   },
   "outputs": [
    {
     "data": {
      "text/plain": [
       "'i cant believe its not butter all purpose sticks'"
      ]
     },
     "execution_count": 66,
     "metadata": {},
     "output_type": "execute_result"
    }
   ],
   "source": [
    "clean_string(\"i can't believe it's not butter!® all purpose sticks\")"
   ]
  },
  {
   "cell_type": "code",
   "execution_count": 93,
   "metadata": {
    "collapsed": false
   },
   "outputs": [
    {
     "data": {
      "text/plain": [
       "'extravirgin olive oil'"
      ]
     },
     "execution_count": 93,
     "metadata": {},
     "output_type": "execute_result"
    }
   ],
   "source": [
    "clean_string(\"extra-virgin olive oil\")"
   ]
  },
  {
   "cell_type": "markdown",
   "metadata": {},
   "source": [
    "Finally, we can put together our function for improving a list of ingredients from the dataframe. We'll use a treshold for improving ingredients because very popular ingredients should just stay the same and not get cleaned. To do this, let's plot a graph for the value counts of the different ingredients found:"
   ]
  },
  {
   "cell_type": "code",
   "execution_count": 78,
   "metadata": {
    "collapsed": true
   },
   "outputs": [],
   "source": [
    "%matplotlib inline\n",
    "import matplotlib.pyplot as plt\n",
    "plt.style.use('bmh')"
   ]
  },
  {
   "cell_type": "code",
   "execution_count": 81,
   "metadata": {
    "collapsed": false
   },
   "outputs": [
    {
     "data": {
      "text/plain": [
       "<matplotlib.axes._subplots.AxesSubplot at 0x1e49b438>"
      ]
     },
     "execution_count": 81,
     "metadata": {},
     "output_type": "execute_result"
    },
    {
     "data": {
      "image/png": "[encoded data removed]",
      "text/plain": [
       "<matplotlib.figure.Figure at 0x1e9a5940>"
      ]
     },
     "metadata": {},
     "output_type": "display_data"
    }
   ],
   "source": [
    "plt.figure(figsize=(10, 6))\n",
    "pd.Series(vocabulary).sort_values().plot(logy=True)"
   ]
  },
  {
   "cell_type": "markdown",
   "metadata": {},
   "source": [
    "This gives us a criterion: let's only improved ingredients whose counts are lower 100. The others are assumed to be already well defined."
   ]
  },
  {
   "cell_type": "code",
   "execution_count": 94,
   "metadata": {
    "collapsed": false
   },
   "outputs": [],
   "source": [
    "def improve_ingredients(ingredient_list):\n",
    "    \"Improves the list of ingredients given as input.\"\n",
    "    better_ingredients = []\n",
    "    for ingredient in ingredient_list:\n",
    "        cleaned_ingredient = clean_string(ingredient)\n",
    "        if vocabulary[to_ingredient(cleaned_ingredient)] <= 100:\n",
    "            better_ingredients.append(\" \".join(best_replacement_increasing_distance(\n",
    "                                        to_ingredient(cleaned_ingredient), vocabulary)))\n",
    "        else:\n",
    "            better_ingredients.append(cleaned_ingredient)\n",
    "    return \";\".join(better_ingredients)"
   ]
  },
  {
   "cell_type": "markdown",
   "metadata": {},
   "source": [
    "Before using our function, we also need to rebuild our vocabulary using our new string cleaning function:"
   ]
  },
  {
   "cell_type": "code",
   "execution_count": 95,
   "metadata": {
    "collapsed": true
   },
   "outputs": [],
   "source": [
    "df_test = pd.read_json(codecs.open('test.json', 'r', 'utf-8'))\n",
    "all_ingredients_text = []\n",
    "for df in [df_train, df_test]:\n",
    "    for ingredient_list in df.ingredients:\n",
    "        all_ingredients_text += [clean_string(ing) for ing in ingredient_list]\n",
    "all_ingredients = [to_ingredient(text) for text in all_ingredients_text]\n",
    "c = Counter(all_ingredients)\n",
    "vocabulary = dict(c.most_common())"
   ]
  },
  {
   "cell_type": "code",
   "execution_count": 96,
   "metadata": {
    "collapsed": false
   },
   "outputs": [],
   "source": [
    "df_train['better_ingredients'] = df_train['ingredients'].map(improve_ingredients)"
   ]
  },
  {
   "cell_type": "code",
   "execution_count": 97,
   "metadata": {
    "collapsed": false
   },
   "outputs": [
    {
     "data": {
      "text/html": [
       "<div>\n",
       "<table border=\"1\" class=\"dataframe\">\n",
       "  <thead>\n",
       "    <tr style=\"text-align: right;\">\n",
       "      <th></th>\n",
       "      <th>cuisine</th>\n",
       "      <th>id</th>\n",
       "      <th>ingredients</th>\n",
       "      <th>all_ingredients</th>\n",
       "      <th>better_ingredients</th>\n",
       "    </tr>\n",
       "  </thead>\n",
       "  <tbody>\n",
       "    <tr>\n",
       "      <th>0</th>\n",
       "      <td>greek</td>\n",
       "      <td>10259</td>\n",
       "      <td>[romaine lettuce, black olives, grape tomatoes...</td>\n",
       "      <td>romaine lettuce;black olives;grape tomatoes;ga...</td>\n",
       "      <td>romaine lettuce;black olives;grape tomatoes;ga...</td>\n",
       "    </tr>\n",
       "    <tr>\n",
       "      <th>1</th>\n",
       "      <td>southern_us</td>\n",
       "      <td>25693</td>\n",
       "      <td>[plain flour, ground pepper, salt, tomatoes, g...</td>\n",
       "      <td>plain flour;ground pepper;salt;tomatoes;ground...</td>\n",
       "      <td>plain flour;ground pepper;salt;tomatoes;ground...</td>\n",
       "    </tr>\n",
       "    <tr>\n",
       "      <th>2</th>\n",
       "      <td>filipino</td>\n",
       "      <td>20130</td>\n",
       "      <td>[eggs, pepper, salt, mayonaise, cooking oil, g...</td>\n",
       "      <td>eggs;pepper;salt;mayonaise;cooking oil;green c...</td>\n",
       "      <td>eggs;pepper;salt;mayonaise;cooking oil;green c...</td>\n",
       "    </tr>\n",
       "    <tr>\n",
       "      <th>3</th>\n",
       "      <td>indian</td>\n",
       "      <td>22213</td>\n",
       "      <td>[water, vegetable oil, wheat, salt]</td>\n",
       "      <td>water;vegetable oil;wheat;salt</td>\n",
       "      <td>water;vegetable oil;wheat;salt</td>\n",
       "    </tr>\n",
       "    <tr>\n",
       "      <th>4</th>\n",
       "      <td>indian</td>\n",
       "      <td>13162</td>\n",
       "      <td>[black pepper, shallots, cornflour, cayenne pe...</td>\n",
       "      <td>black pepper;shallots;cornflour;cayenne pepper...</td>\n",
       "      <td>black pepper;shallots;cornflour;cayenne pepper...</td>\n",
       "    </tr>\n",
       "    <tr>\n",
       "      <th>5</th>\n",
       "      <td>jamaican</td>\n",
       "      <td>6602</td>\n",
       "      <td>[plain flour, sugar, butter, eggs, fresh ginge...</td>\n",
       "      <td>plain flour;sugar;butter;eggs;fresh ginger roo...</td>\n",
       "      <td>plain flour;sugar;butter;eggs;fresh ginger roo...</td>\n",
       "    </tr>\n",
       "    <tr>\n",
       "      <th>6</th>\n",
       "      <td>spanish</td>\n",
       "      <td>42779</td>\n",
       "      <td>[olive oil, salt, medium shrimp, pepper, garli...</td>\n",
       "      <td>olive oil;salt;medium shrimp;pepper;garlic;cho...</td>\n",
       "      <td>olive oil;salt;medium shrimp;pepper;garlic;cho...</td>\n",
       "    </tr>\n",
       "    <tr>\n",
       "      <th>7</th>\n",
       "      <td>italian</td>\n",
       "      <td>3735</td>\n",
       "      <td>[sugar, pistachio nuts, white almond bark, flo...</td>\n",
       "      <td>sugar;pistachio nuts;white almond bark;flour;v...</td>\n",
       "      <td>sugar;nuts pistachio;white bark almond;flour;v...</td>\n",
       "    </tr>\n",
       "    <tr>\n",
       "      <th>8</th>\n",
       "      <td>mexican</td>\n",
       "      <td>16903</td>\n",
       "      <td>[olive oil, purple onion, fresh pineapple, por...</td>\n",
       "      <td>olive oil;purple onion;fresh pineapple;pork;po...</td>\n",
       "      <td>olive oil;purple onion;fresh pineapple;pork;po...</td>\n",
       "    </tr>\n",
       "    <tr>\n",
       "      <th>9</th>\n",
       "      <td>italian</td>\n",
       "      <td>12734</td>\n",
       "      <td>[chopped tomatoes, fresh basil, garlic, extra-...</td>\n",
       "      <td>chopped tomatoes;fresh basil;garlic;extra-virg...</td>\n",
       "      <td>chopped tomatoes;fresh basil;garlic;extravirgi...</td>\n",
       "    </tr>\n",
       "  </tbody>\n",
       "</table>\n",
       "</div>"
      ],
      "text/plain": [
       "       cuisine     id                                        ingredients  \\\n",
       "0        greek  10259  [romaine lettuce, black olives, grape tomatoes...   \n",
       "1  southern_us  25693  [plain flour, ground pepper, salt, tomatoes, g...   \n",
       "2     filipino  20130  [eggs, pepper, salt, mayonaise, cooking oil, g...   \n",
       "3       indian  22213                [water, vegetable oil, wheat, salt]   \n",
       "4       indian  13162  [black pepper, shallots, cornflour, cayenne pe...   \n",
       "5     jamaican   6602  [plain flour, sugar, butter, eggs, fresh ginge...   \n",
       "6      spanish  42779  [olive oil, salt, medium shrimp, pepper, garli...   \n",
       "7      italian   3735  [sugar, pistachio nuts, white almond bark, flo...   \n",
       "8      mexican  16903  [olive oil, purple onion, fresh pineapple, por...   \n",
       "9      italian  12734  [chopped tomatoes, fresh basil, garlic, extra-...   \n",
       "\n",
       "                                     all_ingredients  \\\n",
       "0  romaine lettuce;black olives;grape tomatoes;ga...   \n",
       "1  plain flour;ground pepper;salt;tomatoes;ground...   \n",
       "2  eggs;pepper;salt;mayonaise;cooking oil;green c...   \n",
       "3                     water;vegetable oil;wheat;salt   \n",
       "4  black pepper;shallots;cornflour;cayenne pepper...   \n",
       "5  plain flour;sugar;butter;eggs;fresh ginger roo...   \n",
       "6  olive oil;salt;medium shrimp;pepper;garlic;cho...   \n",
       "7  sugar;pistachio nuts;white almond bark;flour;v...   \n",
       "8  olive oil;purple onion;fresh pineapple;pork;po...   \n",
       "9  chopped tomatoes;fresh basil;garlic;extra-virg...   \n",
       "\n",
       "                                  better_ingredients  \n",
       "0  romaine lettuce;black olives;grape tomatoes;ga...  \n",
       "1  plain flour;ground pepper;salt;tomatoes;ground...  \n",
       "2  eggs;pepper;salt;mayonaise;cooking oil;green c...  \n",
       "3                     water;vegetable oil;wheat;salt  \n",
       "4  black pepper;shallots;cornflour;cayenne pepper...  \n",
       "5  plain flour;sugar;butter;eggs;fresh ginger roo...  \n",
       "6  olive oil;salt;medium shrimp;pepper;garlic;cho...  \n",
       "7  sugar;nuts pistachio;white bark almond;flour;v...  \n",
       "8  olive oil;purple onion;fresh pineapple;pork;po...  \n",
       "9  chopped tomatoes;fresh basil;garlic;extravirgi...  "
      ]
     },
     "execution_count": 97,
     "metadata": {},
     "output_type": "execute_result"
    }
   ],
   "source": [
    "df_train.head(10)"
   ]
  },
  {
   "cell_type": "markdown",
   "metadata": {},
   "source": [
    "Let's now see the performance of this new version of the ingredients."
   ]
  },
  {
   "cell_type": "code",
   "execution_count": 98,
   "metadata": {
    "collapsed": true
   },
   "outputs": [],
   "source": [
    "X = cv.fit_transform(df_train['better_ingredients'].values)"
   ]
  },
  {
   "cell_type": "code",
   "execution_count": 99,
   "metadata": {
    "collapsed": false
   },
   "outputs": [
    {
     "name": "stdout",
     "output_type": "stream",
     "text": [
      "[ 0.78830924  0.78680075  0.78214959  0.78918919  0.77923058]\n",
      "Mean score: 0.785 (+/-0.002)\n"
     ]
    }
   ],
   "source": [
    "evaluate_cross_validation(logistic, X, y, 5)"
   ]
  },
  {
   "cell_type": "markdown",
   "metadata": {},
   "source": [
    "Well that's too bad... Our \"clever\" ingredients don't improve our score on the test set. Still let's try to submit a solution given that the test data might have some other issues (unknown ingredients that our method can simplify...)."
   ]
  },
  {
   "cell_type": "code",
   "execution_count": 100,
   "metadata": {
    "collapsed": false
   },
   "outputs": [],
   "source": [
    "df_test['better_ingredients'] = df_test['ingredients'].map(improve_ingredients)"
   ]
  },
  {
   "cell_type": "markdown",
   "metadata": {},
   "source": [
    "And now, let's build our feature matrix:"
   ]
  },
  {
   "cell_type": "code",
   "execution_count": 101,
   "metadata": {
    "collapsed": true
   },
   "outputs": [],
   "source": [
    "X_submit = cv.transform(df_test['better_ingredients'].values)"
   ]
  },
  {
   "cell_type": "code",
   "execution_count": 102,
   "metadata": {
    "collapsed": false
   },
   "outputs": [
    {
     "data": {
      "text/plain": [
       "LogisticRegression(C=1.0, class_weight=None, dual=False, fit_intercept=True,\n",
       "          intercept_scaling=1, max_iter=100, multi_class='ovr', n_jobs=1,\n",
       "          penalty='l2', random_state=None, solver='liblinear', tol=0.0001,\n",
       "          verbose=0, warm_start=False)"
      ]
     },
     "execution_count": 102,
     "metadata": {},
     "output_type": "execute_result"
    }
   ],
   "source": [
    "logistic.fit(X, y)"
   ]
  },
  {
   "cell_type": "code",
   "execution_count": 103,
   "metadata": {
    "collapsed": false
   },
   "outputs": [],
   "source": [
    "y_submit = logistic.predict(X_submit)"
   ]
  },
  {
   "cell_type": "code",
   "execution_count": 104,
   "metadata": {
    "collapsed": false
   },
   "outputs": [],
   "source": [
    "with open(\"submission_better_words.csv\", 'w') as f:\n",
    "    f.write(\"id,cuisine\\n\")\n",
    "    for i, cuisine in zip(df_test.id, enc.inverse_transform(y_submit)):\n",
    "        f.write(\"{},{}\\n\".format(i, cuisine))"
   ]
  },
  {
   "cell_type": "markdown",
   "metadata": {},
   "source": [
    "# Conclusion "
   ]
  },
  {
   "cell_type": "markdown",
   "metadata": {},
   "source": [
    "My submission (to the already closed contest) achieves a ranking of 576th, nothing to frill about. That's too bad. I would have hoped it would somehow improve my score, even though the K-fold had shown worse performance. Nevertheless, I think what is valuable here is that we have devised a way to improve a given text feature vector by using simple probability. This technique might be useful in other machine learning settings, when one can't trust the absolute reliability of the data. As demonstrated on the most exotic ingredients found in the dataset, this method can perform very well and transform an ingredient that is quite exotic into something that still makes sense."
   ]
  }
 ],
 "metadata": {
  "kernelspec": {
   "display_name": "Python 3",
   "language": "python",
   "name": "python3"
  },
  "language_info": {
   "codemirror_mode": {
    "name": "ipython",
    "version": 3
   },
   "file_extension": ".py",
   "mimetype": "text/x-python",
   "name": "python",
   "nbconvert_exporter": "python",
   "pygments_lexer": "ipython3",
   "version": "3.5.1"
  }
 },
 "nbformat": 4,
 "nbformat_minor": 0
}
