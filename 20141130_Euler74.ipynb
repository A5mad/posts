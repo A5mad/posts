{
 "metadata": {
  "name": "",
  "signature": "sha256:a586acdc2e890b91a232a598966747a39b4ce8470871f7375e99c32163ea71b4"
 },
 "nbformat": 3,
 "nbformat_minor": 0,
 "worksheets": [
  {
   "cells": [
    {
     "cell_type": "code",
     "collapsed": false,
     "input": [
      "from pylab import *"
     ],
     "language": "python",
     "metadata": {},
     "outputs": [],
     "prompt_number": 6
    },
    {
     "cell_type": "code",
     "collapsed": false,
     "input": [
      "%matplotlib inline"
     ],
     "language": "python",
     "metadata": {},
     "outputs": [],
     "prompt_number": 2
    },
    {
     "cell_type": "code",
     "collapsed": false,
     "input": [
      "factorial(10)"
     ],
     "language": "python",
     "metadata": {},
     "outputs": [
      {
       "metadata": {},
       "output_type": "pyout",
       "prompt_number": 7,
       "text": [
        "3628800"
       ]
      }
     ],
     "prompt_number": 7
    },
    {
     "cell_type": "code",
     "collapsed": false,
     "input": [
      "def factorial(n):\n",
      "    if n==0 or n==1:\n",
      "        return 1\n",
      "    else:\n",
      "        return n * fact(n-1)"
     ],
     "language": "python",
     "metadata": {},
     "outputs": [],
     "prompt_number": 11
    },
    {
     "cell_type": "code",
     "collapsed": false,
     "input": [
      "[factorial(i) for i in range(0, 10)]"
     ],
     "language": "python",
     "metadata": {},
     "outputs": [
      {
       "metadata": {},
       "output_type": "pyout",
       "prompt_number": 13,
       "text": [
        "[1, 1, 2, 6, 24, 120, 720, 5040, 40320, 362880]"
       ]
      }
     ],
     "prompt_number": 13
    },
    {
     "cell_type": "code",
     "collapsed": false,
     "input": [
      "def factorial_algorithm(n):\n",
      "    return sum([factorial(int(digit)) for digit in str(n)])"
     ],
     "language": "python",
     "metadata": {},
     "outputs": [],
     "prompt_number": 19
    },
    {
     "cell_type": "code",
     "collapsed": false,
     "input": [
      "factorial_algorithm(145)"
     ],
     "language": "python",
     "metadata": {},
     "outputs": [
      {
       "metadata": {},
       "output_type": "pyout",
       "prompt_number": 20,
       "text": [
        "145"
       ]
      }
     ],
     "prompt_number": 20
    },
    {
     "cell_type": "code",
     "collapsed": false,
     "input": [
      "n = arange(200)"
     ],
     "language": "python",
     "metadata": {},
     "outputs": [],
     "prompt_number": 38
    },
    {
     "cell_type": "code",
     "collapsed": false,
     "input": [
      "plot(n, list(map(factorial_algorithm, n)))\n",
      "plot(n, n, 'r', lw=3)"
     ],
     "language": "python",
     "metadata": {},
     "outputs": [
      {
       "metadata": {},
       "output_type": "pyout",
       "prompt_number": 37,
       "text": [
        "[<matplotlib.lines.Line2D at 0x106bee390>]"
       ]
      },
      {
       "metadata": {},
       "output_type": "display_data",
       "png": "[encoded data removed]",
       "text": [
        "<matplotlib.figure.Figure at 0x106bee4a8>"
       ]
      }
     ],
     "prompt_number": 37
    },
    {
     "cell_type": "code",
     "collapsed": false,
     "input": [
      "plot(n, list(map(factorial_algorithm, n)))\n",
      "plot(n, n, 'r', lw=3)\n",
      "ylim(0, n.max())"
     ],
     "language": "python",
     "metadata": {},
     "outputs": [
      {
       "metadata": {},
       "output_type": "pyout",
       "prompt_number": 24,
       "text": [
        "(0, 199)"
       ]
      },
      {
       "metadata": {},
       "output_type": "display_data",
       "png": "[encoded data removed]",
       "text": [
        "<matplotlib.figure.Figure at 0x106af9be0>"
       ]
      }
     ],
     "prompt_number": 24
    },
    {
     "cell_type": "code",
     "collapsed": false,
     "input": [
      "factorial_algorithm(40585)"
     ],
     "language": "python",
     "metadata": {},
     "outputs": [
      {
       "metadata": {},
       "output_type": "pyout",
       "prompt_number": 48,
       "text": [
        "40585"
       ]
      }
     ],
     "prompt_number": 48
    },
    {
     "cell_type": "code",
     "collapsed": false,
     "input": [
      "double_algorithm = lambda n: factorial_algorithm(factorial_algorithm(n)) "
     ],
     "language": "python",
     "metadata": {},
     "outputs": [],
     "prompt_number": 25
    },
    {
     "cell_type": "code",
     "collapsed": false,
     "input": [
      "plot(n, list(map(factorial_algorithm, n)), label='simple')\n",
      "plot(n, list(map(double_algorithm, n)), label='double')\n",
      "legend()"
     ],
     "language": "python",
     "metadata": {},
     "outputs": [
      {
       "metadata": {},
       "output_type": "pyout",
       "prompt_number": 27,
       "text": [
        "<matplotlib.legend.Legend at 0x106e6bda0>"
       ]
      },
      {
       "metadata": {},
       "output_type": "display_data",
       "png": "[encoded data removed]",
       "text": [
        "<matplotlib.figure.Figure at 0x106c79cf8>"
       ]
      }
     ],
     "prompt_number": 27
    },
    {
     "cell_type": "code",
     "collapsed": false,
     "input": [
      "factorial_algorithm(199)"
     ],
     "language": "python",
     "metadata": {},
     "outputs": [
      {
       "metadata": {},
       "output_type": "pyout",
       "prompt_number": 28,
       "text": [
        "725761"
       ]
      }
     ],
     "prompt_number": 28
    },
    {
     "cell_type": "code",
     "collapsed": false,
     "input": [
      "factorial_algorithm(725761)"
     ],
     "language": "python",
     "metadata": {},
     "outputs": [
      {
       "metadata": {},
       "output_type": "pyout",
       "prompt_number": 29,
       "text": [
        "10923"
       ]
      }
     ],
     "prompt_number": 29
    },
    {
     "cell_type": "code",
     "collapsed": false,
     "input": [
      "def chain_length(n):\n",
      "    chain = [n]\n",
      "    iteration = factorial_algorithm(n)\n",
      "    while iteration not in chain:\n",
      "        chain.append(iteration)\n",
      "        iteration = factorial_algorithm(iteration)\n",
      "    return chain"
     ],
     "language": "python",
     "metadata": {},
     "outputs": [],
     "prompt_number": 30
    },
    {
     "cell_type": "code",
     "collapsed": false,
     "input": [
      "from IPython.html.widgets import interact"
     ],
     "language": "python",
     "metadata": {},
     "outputs": [],
     "prompt_number": 31
    },
    {
     "cell_type": "code",
     "collapsed": false,
     "input": [
      "interact(lambda n: print(chain_length(n)),\n",
      "         n=(0, 1000))"
     ],
     "language": "python",
     "metadata": {},
     "outputs": [
      {
       "output_type": "stream",
       "stream": "stdout",
       "text": [
        "[20, 3, 6, 720, 5043, 151, 122, 5, 120, 4, 24, 26, 722, 5044, 169, 363601, 1454]\n"
       ]
      }
     ],
     "prompt_number": 35
    },
    {
     "cell_type": "code",
     "collapsed": false,
     "input": [
      "factorial_algorithm(1454)"
     ],
     "language": "python",
     "metadata": {},
     "outputs": [
      {
       "metadata": {},
       "output_type": "pyout",
       "prompt_number": 42,
       "text": [
        "169"
       ]
      }
     ],
     "prompt_number": 42
    },
    {
     "cell_type": "code",
     "collapsed": false,
     "input": [
      "n = arange(1000)"
     ],
     "language": "python",
     "metadata": {},
     "outputs": [],
     "prompt_number": 39
    },
    {
     "cell_type": "code",
     "collapsed": false,
     "input": [
      "chain_lengths = [len(chain_length(i)) for i in n]\n",
      "plot(n, chain_lengths)"
     ],
     "language": "python",
     "metadata": {},
     "outputs": [
      {
       "metadata": {},
       "output_type": "pyout",
       "prompt_number": 40,
       "text": [
        "[<matplotlib.lines.Line2D at 0x107489da0>]"
       ]
      },
      {
       "metadata": {},
       "output_type": "display_data",
       "png": "[encoded data removed]",
       "text": [
        "<matplotlib.figure.Figure at 0x1072b7518>"
       ]
      }
     ],
     "prompt_number": 40
    },
    {
     "cell_type": "code",
     "collapsed": false,
     "input": [
      "%time chain_lengths = [len(chain_length(i)) for i in n]"
     ],
     "language": "python",
     "metadata": {},
     "outputs": [
      {
       "output_type": "stream",
       "stream": "stdout",
       "text": [
        "CPU times: user 390 ms, sys: 2.54 ms, total: 392 ms\n",
        "Wall time: 396 ms\n"
       ]
      }
     ],
     "prompt_number": 41
    },
    {
     "cell_type": "markdown",
     "metadata": {},
     "source": [
      "Essayons de m\u00e9moiser cet algorithme. \n",
      "\n",
      "Condition + 0 :\n",
      "\n",
      "- 145\n",
      "- 40585\n",
      "\n",
      "Condition + 1 : \n",
      "\n",
      "- 871, 45361\n",
      "- 872, 45362 \n",
      "\n",
      "Condition + 2 :\n",
      "\n",
      "- 169, 363601, 1454 "
     ]
    },
    {
     "cell_type": "code",
     "collapsed": false,
     "input": [
      "def first_sieve():\n",
      "    n = arange(1000000)\n",
      "    print(n[array(list(map(factorial_algorithm, n))) == n])"
     ],
     "language": "python",
     "metadata": {},
     "outputs": [],
     "prompt_number": 92
    },
    {
     "cell_type": "code",
     "collapsed": false,
     "input": [
      "%time first_sieve()"
     ],
     "language": "python",
     "metadata": {},
     "outputs": [
      {
       "output_type": "stream",
       "stream": "stdout",
       "text": [
        "[    1     2   145 40585]\n",
        "CPU times: user 16.3 s, sys: 79 ms, total: 16.4 s\n",
        "Wall time: 16.4 s\n"
       ]
      }
     ],
     "prompt_number": 93
    },
    {
     "cell_type": "code",
     "collapsed": false,
     "input": [
      "class chain_length_memoized():\n",
      "    def __init__(self):\n",
      "        self.lookup_table = {1:0,\n",
      "                             2:0,\n",
      "                             145:0,\n",
      "                             40585:0,\n",
      "                             871:1,\n",
      "                             45361:1,\n",
      "                             872:1,\n",
      "                             45362:1,\n",
      "                             169:2,\n",
      "                             363601:2,\n",
      "                             1454:2}\n",
      "        \n",
      "    def compute_chain_length(self, n):\n",
      "        if n in self.lookup_table:\n",
      "            return 1 + self.lookup_table[n]\n",
      "        else:\n",
      "            iteration = factorial_algorithm(n)\n",
      "            self.lookup_table[n] = self.compute_chain_length(iteration)\n",
      "            return 1 + self.lookup_table[n]\n"
     ],
     "language": "python",
     "metadata": {},
     "outputs": [],
     "prompt_number": 69
    },
    {
     "cell_type": "code",
     "collapsed": false,
     "input": [
      "clm = chain_length_memoized()"
     ],
     "language": "python",
     "metadata": {},
     "outputs": [],
     "prompt_number": 70
    },
    {
     "cell_type": "code",
     "collapsed": false,
     "input": [
      "clm.compute_chain_length(0)"
     ],
     "language": "python",
     "metadata": {},
     "outputs": [
      {
       "metadata": {},
       "output_type": "pyout",
       "prompt_number": 80,
       "text": [
        "2"
       ]
      }
     ],
     "prompt_number": 80
    },
    {
     "cell_type": "code",
     "collapsed": false,
     "input": [
      "z = chain_length(0)\n",
      "print(z, len(z))"
     ],
     "language": "python",
     "metadata": {},
     "outputs": [
      {
       "output_type": "stream",
       "stream": "stdout",
       "text": [
        "[0, 1] 2\n"
       ]
      }
     ],
     "prompt_number": 81
    },
    {
     "cell_type": "code",
     "collapsed": false,
     "input": [
      "for i in range(1000000):\n",
      "    if clm.compute_chain_length(i) == 60:\n",
      "        print(i)"
     ],
     "language": "python",
     "metadata": {},
     "outputs": [
      {
       "output_type": "stream",
       "stream": "stdout",
       "text": [
        "1479\n",
        "1497\n",
        "1749\n",
        "1794\n",
        "1947\n",
        "1974\n",
        "4079\n",
        "4097\n",
        "4179\n",
        "4197\n",
        "4709\n",
        "4719\n",
        "4790\n",
        "4791\n",
        "4907\n",
        "4917\n",
        "4970\n",
        "4971\n",
        "7049\n",
        "7094\n",
        "7149\n",
        "7194\n",
        "7409\n",
        "7419\n",
        "7490\n",
        "7491\n",
        "7904\n",
        "7914\n",
        "7940\n",
        "7941\n",
        "9047\n",
        "9074\n",
        "9147\n",
        "9174\n",
        "9407\n",
        "9417\n",
        "9470\n",
        "9471\n",
        "9704\n",
        "9714\n",
        "9740\n",
        "9741\n",
        "223479"
       ]
      },
      {
       "output_type": "stream",
       "stream": "stdout",
       "text": [
        "\n",
        "223497\n",
        "223749\n",
        "223794\n",
        "223947\n",
        "223974\n",
        "224379\n",
        "224397\n",
        "224739\n",
        "224793\n",
        "224937\n",
        "224973\n",
        "227349\n",
        "227394\n",
        "227439\n",
        "227493\n",
        "227934\n",
        "227943\n",
        "229347\n",
        "229374\n",
        "229437\n",
        "229473\n",
        "229734\n",
        "229743\n",
        "232479\n",
        "232497\n",
        "232749\n",
        "232794\n",
        "232947\n",
        "232974\n",
        "234279\n",
        "234297\n",
        "234729\n",
        "234792\n",
        "234927\n",
        "234972\n",
        "237249\n",
        "237294\n",
        "237429\n",
        "237492\n",
        "237924\n",
        "237942\n",
        "239247\n",
        "239274\n",
        "239427\n",
        "239472\n",
        "239724\n",
        "239742\n",
        "242379\n",
        "242397\n",
        "242739\n",
        "242793\n",
        "242937\n",
        "242973\n",
        "243279\n",
        "243297\n",
        "243729\n",
        "243792\n",
        "243927\n",
        "243972\n",
        "247239\n",
        "247293\n",
        "247329\n",
        "247392\n",
        "247923\n",
        "247932\n",
        "249237\n",
        "249273\n",
        "249327\n",
        "249372\n",
        "249723\n",
        "249732\n",
        "272349\n",
        "272394\n",
        "272439\n",
        "272493\n",
        "272934\n",
        "272943\n",
        "273249\n",
        "273294\n",
        "273429\n",
        "273492\n",
        "273924\n",
        "273942\n",
        "274239\n",
        "274293\n",
        "274329\n",
        "274392\n",
        "274923\n",
        "274932\n",
        "279234\n",
        "279243\n",
        "279324\n",
        "279342\n",
        "279423\n",
        "279432\n",
        "292347\n",
        "292374\n",
        "292437\n",
        "292473\n",
        "292734\n",
        "292743\n",
        "293247\n",
        "293274\n",
        "293427\n",
        "293472\n",
        "293724\n",
        "293742\n",
        "294237\n",
        "294273\n",
        "294327\n",
        "294372\n",
        "294723\n",
        "294732\n",
        "297234\n",
        "297243\n",
        "297324\n",
        "297342\n",
        "297423\n",
        "297432\n",
        "322479\n",
        "322497\n",
        "322749\n",
        "322794\n",
        "322947\n",
        "322974\n",
        "324279\n",
        "324297\n",
        "324729\n",
        "324792\n",
        "324927\n",
        "324972\n",
        "327249\n",
        "327294\n",
        "327429\n",
        "327492\n",
        "327924\n",
        "327942\n",
        "329247\n",
        "329274\n",
        "329427\n",
        "329472\n",
        "329724\n",
        "329742\n",
        "342279"
       ]
      },
      {
       "output_type": "stream",
       "stream": "stdout",
       "text": [
        "\n",
        "342297\n",
        "342729\n",
        "342792\n",
        "342927\n",
        "342972\n",
        "347229\n",
        "347292\n",
        "347922\n",
        "349227\n",
        "349272\n",
        "349722\n",
        "372249\n",
        "372294\n",
        "372429\n",
        "372492\n",
        "372924\n",
        "372942\n",
        "374229\n",
        "374292\n",
        "374922\n",
        "379224\n",
        "379242\n",
        "379422\n",
        "392247\n",
        "392274\n",
        "392427\n",
        "392472\n",
        "392724\n",
        "392742\n",
        "394227\n",
        "394272\n",
        "394722\n",
        "397224\n",
        "397242\n",
        "397422\n",
        "422379\n",
        "422397\n",
        "422739\n",
        "422793\n",
        "422937\n",
        "422973\n",
        "423279\n",
        "423297\n",
        "423729\n",
        "423792\n",
        "423927\n",
        "423972\n",
        "427239\n",
        "427293\n",
        "427329\n",
        "427392\n",
        "427923\n",
        "427932\n",
        "429237\n",
        "429273\n",
        "429327\n",
        "429372\n",
        "429723\n",
        "429732\n",
        "432279\n",
        "432297\n",
        "432729\n",
        "432792\n",
        "432927\n",
        "432972\n",
        "437229\n",
        "437292\n",
        "437922\n",
        "439227\n",
        "439272\n",
        "439722\n",
        "472239"
       ]
      },
      {
       "output_type": "stream",
       "stream": "stdout",
       "text": [
        "\n",
        "472293\n",
        "472329\n",
        "472392\n",
        "472923\n",
        "472932\n",
        "473229\n",
        "473292\n",
        "473922\n",
        "479223\n",
        "479232\n",
        "479322\n",
        "492237\n",
        "492273\n",
        "492327\n",
        "492372\n",
        "492723\n",
        "492732\n",
        "493227\n",
        "493272\n",
        "493722\n",
        "497223\n",
        "497232\n",
        "497322\n",
        "722349"
       ]
      },
      {
       "output_type": "stream",
       "stream": "stdout",
       "text": [
        "\n",
        "722394\n",
        "722439\n",
        "722493\n",
        "722934\n",
        "722943\n",
        "723249\n",
        "723294\n",
        "723429\n",
        "723492\n",
        "723924\n",
        "723942\n",
        "724239\n",
        "724293\n",
        "724329\n",
        "724392\n",
        "724923\n",
        "724932\n",
        "729234\n",
        "729243\n",
        "729324\n",
        "729342\n",
        "729423\n",
        "729432\n",
        "732249\n",
        "732294\n",
        "732429\n",
        "732492\n",
        "732924\n",
        "732942\n",
        "734229\n",
        "734292\n",
        "734922\n",
        "739224\n",
        "739242\n",
        "739422\n",
        "742239\n",
        "742293\n",
        "742329\n",
        "742392\n",
        "742923\n",
        "742932\n",
        "743229\n",
        "743292\n",
        "743922\n",
        "749223\n",
        "749232\n",
        "749322\n",
        "792234\n",
        "792243\n",
        "792324\n",
        "792342\n",
        "792423\n",
        "792432\n",
        "793224\n",
        "793242\n",
        "793422\n",
        "794223\n",
        "794232\n",
        "794322\n",
        "922347"
       ]
      },
      {
       "output_type": "stream",
       "stream": "stdout",
       "text": [
        "\n",
        "922374\n",
        "922437\n",
        "922473\n",
        "922734\n",
        "922743\n",
        "923247\n",
        "923274\n",
        "923427\n",
        "923472\n",
        "923724\n",
        "923742\n",
        "924237\n",
        "924273\n",
        "924327\n",
        "924372\n",
        "924723\n",
        "924732\n",
        "927234\n",
        "927243\n",
        "927324\n",
        "927342\n",
        "927423\n",
        "927432\n",
        "932247\n",
        "932274\n",
        "932427\n",
        "932472\n",
        "932724\n",
        "932742\n",
        "934227\n",
        "934272\n",
        "934722\n",
        "937224\n",
        "937242\n",
        "937422\n",
        "942237\n",
        "942273\n",
        "942327\n",
        "942372\n",
        "942723\n",
        "942732\n",
        "943227\n",
        "943272\n",
        "943722\n",
        "947223\n",
        "947232\n",
        "947322\n",
        "972234\n",
        "972243\n",
        "972324\n",
        "972342\n",
        "972423\n",
        "972432\n",
        "973224\n",
        "973242\n",
        "973422\n",
        "974223\n",
        "974232\n",
        "974322\n"
       ]
      }
     ],
     "prompt_number": 85
    },
    {
     "cell_type": "code",
     "collapsed": false,
     "input": [
      "%time len([i for i in range(1000000) if clm.compute_chain_length(i) == 60])"
     ],
     "language": "python",
     "metadata": {},
     "outputs": [
      {
       "output_type": "stream",
       "stream": "stdout",
       "text": [
        "CPU times: user 412 ms, sys: 2.44 ms, total: 414 ms\n",
        "Wall time: 414 ms\n"
       ]
      },
      {
       "metadata": {},
       "output_type": "pyout",
       "prompt_number": 88,
       "text": [
        "402"
       ]
      }
     ],
     "prompt_number": 88
    },
    {
     "cell_type": "markdown",
     "metadata": {},
     "source": [
      "Finishing thoughts:\n",
      "\n",
      "- the algorithm has invariants : no order in the computation. Permutations could have helped here!\n",
      "- look at the results: always ! The devil is in the details.\n",
      "- memoization with recursion is a cool solution\n",
      "- computers don't evolve that fast over the last years, despite what we're thinking (25 seconds in 2005, now 15 seconds)"
     ]
    }
   ],
   "metadata": {}
  }
 ]
}