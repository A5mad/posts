{
 "metadata": {
  "name": ""
 },
 "nbformat": 3,
 "nbformat_minor": 0,
 "worksheets": [
  {
   "cells": [
    {
     "cell_type": "code",
     "collapsed": false,
     "input": [
      "import os"
     ],
     "language": "python",
     "metadata": {},
     "outputs": [],
     "prompt_number": 1
    },
    {
     "cell_type": "code",
     "collapsed": false,
     "input": [
      "files = os.listdir(os.getcwd())\n",
      "files = filter(lambda s: s.endswith('.ipynb'), files)\n",
      "files"
     ],
     "language": "python",
     "metadata": {},
     "outputs": [
      {
       "metadata": {},
       "output_type": "pyout",
       "prompt_number": 19,
       "text": [
        "['12 tables.ipynb',\n",
        " '20131030  Jason Martinez A Response to \\x93Falling with Helium\\x94.ipynb',\n",
        " '20131104 Japan life tables.ipynb',\n",
        " '20131211_KevinHomework.ipynb',\n",
        " '20131227_GenerateRepositoryReadme.ipynb',\n",
        " '20131227_KevinTestNumpy.ipynb',\n",
        " 'A synthetic guitar sound.ipynb',\n",
        " 'accords de guitare.ipynb',\n",
        " 'Ameli - post et get.ipynb',\n",
        " 'Books 2013.ipynb',\n",
        " 'Comparaison gammes.ipynb',\n",
        " 'Death probabilities.ipynb',\n",
        " 'Demokratie.ipynb',\n",
        " 'Extracting information from a MusicXML file.ipynb',\n",
        " 'Extracting the notes from the melody of MusicXML file.ipynb',\n",
        " 'Fitzhugh-Nagumo .ipynb',\n",
        " 'Guitar sound frequency analysis.ipynb',\n",
        " 'Kanjidic2 & JMDict.ipynb',\n",
        " 'Musical frequencies.ipynb',\n",
        " 'Parsing ameli-direct.ipynb',\n",
        " 'Spelling corrector.ipynb',\n",
        " 'Sudoku solver.ipynb',\n",
        " 'V\\xe9lib pricing.ipynb',\n",
        " 'WiiBoard data analysis.ipynb',\n",
        " 'xkcd - Dating Pools.ipynb']"
       ]
      }
     ],
     "prompt_number": 19
    },
    {
     "cell_type": "code",
     "collapsed": false,
     "input": [
      "import urllib"
     ],
     "language": "python",
     "metadata": {},
     "outputs": [],
     "prompt_number": 20
    },
    {
     "cell_type": "code",
     "collapsed": false,
     "input": [
      "urllib.quote(files[1])"
     ],
     "language": "python",
     "metadata": {},
     "outputs": [
      {
       "metadata": {},
       "output_type": "pyout",
       "prompt_number": 21,
       "text": [
        "'20131030%20%20Jason%20Martinez%20A%20Response%20to%20%93Falling%20with%20Helium%94.ipynb'"
       ]
      }
     ],
     "prompt_number": 21
    },
    {
     "cell_type": "code",
     "collapsed": false,
     "input": [
      "with open('notebooks_links.md', 'w') as f:\n",
      "    f.write(\"\"\"# Links to all the notebooks in this folder to be statically viewed on nbviewer\\n\\n\"\"\")\n",
      "    for filename in files:\n",
      "        f.write(\"[%s](http://nbviewer.ipython.org/urls/raw.github.com/flothesof/posts/master/%s)\\n\" % (filename, urllib.quote(filename)))"
     ],
     "language": "python",
     "metadata": {},
     "outputs": [],
     "prompt_number": 29
    },
    {
     "cell_type": "code",
     "collapsed": false,
     "input": [],
     "language": "python",
     "metadata": {},
     "outputs": []
    }
   ],
   "metadata": {}
  }
 ]
}