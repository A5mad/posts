{
 "metadata": {
  "name": "",
  "signature": "sha256:076139b5e1c7eaa3f66f89682a0f26fb880c871fcade2709e6452f1c42e3bd6f"
 },
 "nbformat": 3,
 "nbformat_minor": 0,
 "worksheets": [
  {
   "cells": [
    {
     "cell_type": "code",
     "collapsed": false,
     "input": [
      "def compute_convergents(sum_term, quotient_term):\n",
      "    \"\"\"\n",
      "    compute next term in convergents 1/(s + q)\n",
      "    returns a tuple (num, denum)\n",
      "    \"\"\"\n",
      "    num, denum = quotient_term\n",
      "    num += sum_term * denum\n",
      "    num, denum = denum, num\n",
      "    return (num, denum)"
     ],
     "language": "python",
     "metadata": {},
     "outputs": [],
     "prompt_number": 1
    },
    {
     "cell_type": "code",
     "collapsed": false,
     "input": [
      "compute_convergents(2, (1, 2))"
     ],
     "language": "python",
     "metadata": {},
     "outputs": [
      {
       "metadata": {},
       "output_type": "pyout",
       "prompt_number": 3,
       "text": [
        "(2, 5)"
       ]
      }
     ],
     "prompt_number": 3
    },
    {
     "cell_type": "code",
     "collapsed": false,
     "input": [
      "def compute_square_root(order):\n",
      "    \"\"\"\n",
      "    1 should return 3/2, \n",
      "    2 should return 7/5, ...\n",
      "    \"\"\"\n",
      "    num, denum = 1, 2\n",
      "    for i in range(1, order):\n",
      "        num, denum = compute_convergents(2, (num, denum))\n",
      "    return (denum + num, denum) "
     ],
     "language": "python",
     "metadata": {},
     "outputs": [],
     "prompt_number": 8
    },
    {
     "cell_type": "code",
     "collapsed": false,
     "input": [
      "from IPython.html.widgets import interact"
     ],
     "language": "python",
     "metadata": {},
     "outputs": [],
     "prompt_number": 9
    },
    {
     "cell_type": "code",
     "collapsed": false,
     "input": [
      "interact(lambda order: print(compute_square_root(order)),\n",
      "         order=(1, 10))"
     ],
     "language": "python",
     "metadata": {},
     "outputs": [
      {
       "output_type": "stream",
       "stream": "stdout",
       "text": [
        "(41, 29)\n"
       ]
      }
     ],
     "prompt_number": 10
    },
    {
     "cell_type": "markdown",
     "metadata": {},
     "source": [
      "We can plot the convergence of the rational approximations compared to the \"true value\":"
     ]
    },
    {
     "cell_type": "code",
     "collapsed": false,
     "input": [
      "%matplotlib inline"
     ],
     "language": "python",
     "metadata": {},
     "outputs": [],
     "prompt_number": 11
    },
    {
     "cell_type": "code",
     "collapsed": false,
     "input": [
      "from pylab import plot, sqrt, hlines"
     ],
     "language": "python",
     "metadata": {},
     "outputs": [],
     "prompt_number": 16
    },
    {
     "cell_type": "code",
     "collapsed": false,
     "input": [
      "n = range(1, 101)\n",
      "div = lambda t: t[0] / float(t[1])\n",
      "div_sqrt = lambda order: div(compute_square_root(order))\n",
      "plot(n, list(map(div_sqrt, n)))\n",
      "hlines(sqrt(2), 1, 100, linestyles='dotted')"
     ],
     "language": "python",
     "metadata": {},
     "outputs": [
      {
       "metadata": {},
       "output_type": "pyout",
       "prompt_number": 25,
       "text": [
        "<matplotlib.collections.LineCollection at 0x106dc5128>"
       ]
      },
      {
       "metadata": {},
       "output_type": "display_data",
       "png": "[encoded data removed]",
       "text": [
        "<matplotlib.figure.Figure at 0x106dc56d8>"
       ]
      }
     ],
     "prompt_number": 25
    },
    {
     "cell_type": "markdown",
     "metadata": {},
     "source": [
      "Indeed, this thing converges nicely to the square root of 2. \n",
      "\n",
      "Let's try to get to our next step: evaluating continuous fractions with sequences other than just always the same number."
     ]
    },
    {
     "cell_type": "code",
     "collapsed": false,
     "input": [
      "def compute_continued_fraction(order, starting_number, repeating_sequence):\n",
      "    \"\"\"\n",
      "    evaluate continued fraction defined \u221a2 = [1;(2)] or \u221a23 = [4;(1,3,1,8)]\n",
      "    \"\"\"\n",
      "    num, denum = 1, repeating_sequence[(order - 1) % (len(repeating_sequence))]\n",
      "    for i in range(order - 1, 0, -1):\n",
      "        lhs_factor = repeating_sequence[(i-1) % len(repeating_sequence)]\n",
      "        num, denum = compute_convergents(lhs_factor, (num, denum))\n",
      "    return (starting_number * denum + num, denum) "
     ],
     "language": "python",
     "metadata": {},
     "outputs": [],
     "prompt_number": 122
    },
    {
     "cell_type": "code",
     "collapsed": false,
     "input": [
      "pdb.runcall(compute_continued_fraction, 3, 2, (1, 4, 3))"
     ],
     "language": "python",
     "metadata": {},
     "outputs": [
      {
       "output_type": "stream",
       "stream": "stdout",
       "text": [
        "> <ipython-input-122-968fcd2ef05f>(5)compute_continued_fraction()\n",
        "-> num, denum = 1, repeating_sequence[(order - 1) % (len(repeating_sequence))]\n"
       ]
      },
      {
       "name": "stdout",
       "output_type": "stream",
       "stream": "stdout",
       "text": [
        "(Pdb) n\n"
       ]
      },
      {
       "output_type": "stream",
       "stream": "stdout",
       "text": [
        "> <ipython-input-122-968fcd2ef05f>(6)compute_continued_fraction()\n",
        "-> for i in range(order - 1, 0, -1):\n"
       ]
      },
      {
       "name": "stdout",
       "output_type": "stream",
       "stream": "stdout",
       "text": [
        "(Pdb) num, denum\n"
       ]
      },
      {
       "output_type": "stream",
       "stream": "stdout",
       "text": [
        "(1, 3)\n"
       ]
      },
      {
       "name": "stdout",
       "output_type": "stream",
       "stream": "stdout",
       "text": [
        "(Pdb) n\n"
       ]
      },
      {
       "output_type": "stream",
       "stream": "stdout",
       "text": [
        "> <ipython-input-122-968fcd2ef05f>(7)compute_continued_fraction()\n",
        "-> lhs_factor = repeating_sequence[(i-1) % len(repeating_sequence)]\n"
       ]
      },
      {
       "name": "stdout",
       "output_type": "stream",
       "stream": "stdout",
       "text": [
        "(Pdb) n\n"
       ]
      },
      {
       "output_type": "stream",
       "stream": "stdout",
       "text": [
        "> <ipython-input-122-968fcd2ef05f>(8)compute_continued_fraction()\n",
        "-> num, denum = compute_convergents(lhs_factor, (num, denum))\n"
       ]
      },
      {
       "name": "stdout",
       "output_type": "stream",
       "stream": "stdout",
       "text": [
        "(Pdb) lhs_factor\n"
       ]
      },
      {
       "output_type": "stream",
       "stream": "stdout",
       "text": [
        "4\n"
       ]
      },
      {
       "name": "stdout",
       "output_type": "stream",
       "stream": "stdout",
       "text": [
        "(Pdb) n\n"
       ]
      },
      {
       "output_type": "stream",
       "stream": "stdout",
       "text": [
        "> <ipython-input-122-968fcd2ef05f>(6)compute_continued_fraction()\n",
        "-> for i in range(order - 1, 0, -1):\n"
       ]
      },
      {
       "name": "stdout",
       "output_type": "stream",
       "stream": "stdout",
       "text": [
        "(Pdb) num, denum\n"
       ]
      },
      {
       "output_type": "stream",
       "stream": "stdout",
       "text": [
        "(3, 13)\n"
       ]
      },
      {
       "name": "stdout",
       "output_type": "stream",
       "stream": "stdout",
       "text": [
        "(Pdb) n\n"
       ]
      },
      {
       "output_type": "stream",
       "stream": "stdout",
       "text": [
        "> <ipython-input-122-968fcd2ef05f>(7)compute_continued_fraction()\n",
        "-> lhs_factor = repeating_sequence[(i-1) % len(repeating_sequence)]\n"
       ]
      },
      {
       "name": "stdout",
       "output_type": "stream",
       "stream": "stdout",
       "text": [
        "(Pdb) n\n"
       ]
      },
      {
       "output_type": "stream",
       "stream": "stdout",
       "text": [
        "> <ipython-input-122-968fcd2ef05f>(8)compute_continued_fraction()\n",
        "-> num, denum = compute_convergents(lhs_factor, (num, denum))\n"
       ]
      },
      {
       "name": "stdout",
       "output_type": "stream",
       "stream": "stdout",
       "text": [
        "(Pdb) lhs_factor\n"
       ]
      },
      {
       "output_type": "stream",
       "stream": "stdout",
       "text": [
        "1\n"
       ]
      },
      {
       "name": "stdout",
       "output_type": "stream",
       "stream": "stdout",
       "text": [
        "(Pdb) n\n"
       ]
      },
      {
       "output_type": "stream",
       "stream": "stdout",
       "text": [
        "> <ipython-input-122-968fcd2ef05f>(6)compute_continued_fraction()\n",
        "-> for i in range(order - 1, 0, -1):\n"
       ]
      },
      {
       "name": "stdout",
       "output_type": "stream",
       "stream": "stdout",
       "text": [
        "(Pdb) n\n"
       ]
      },
      {
       "output_type": "stream",
       "stream": "stdout",
       "text": [
        "> <ipython-input-122-968fcd2ef05f>(9)compute_continued_fraction()\n",
        "-> return (starting_number * denum + num, denum)\n"
       ]
      },
      {
       "name": "stdout",
       "output_type": "stream",
       "stream": "stdout",
       "text": [
        "(Pdb) n\n"
       ]
      },
      {
       "output_type": "stream",
       "stream": "stdout",
       "text": [
        "--Return--\n",
        "> <ipython-input-122-968fcd2ef05f>(9)compute_continued_fraction()->(45, 16)\n",
        "-> return (starting_number * denum + num, denum)\n"
       ]
      },
      {
       "name": "stdout",
       "output_type": "stream",
       "stream": "stdout",
       "text": [
        "(Pdb) c\n"
       ]
      },
      {
       "metadata": {},
       "output_type": "pyout",
       "prompt_number": 123,
       "text": [
        "(45, 16)"
       ]
      }
     ],
     "prompt_number": 123
    },
    {
     "cell_type": "code",
     "collapsed": false,
     "input": [
      "compute_continued_fraction(3, 2, (1, 4, 3))"
     ],
     "language": "python",
     "metadata": {},
     "outputs": [
      {
       "metadata": {},
       "output_type": "pyout",
       "prompt_number": 124,
       "text": [
        "(45, 16)"
       ]
      }
     ],
     "prompt_number": 124
    },
    {
     "cell_type": "markdown",
     "metadata": {},
     "source": [
      "Let's see if our code works for the square root of 2."
     ]
    },
    {
     "cell_type": "code",
     "collapsed": false,
     "input": [
      "interact(lambda order: print(compute_continued_fraction(order, 1, (2,))),\n",
      "         order=(1, 10))"
     ],
     "language": "python",
     "metadata": {},
     "outputs": [
      {
       "output_type": "stream",
       "stream": "stdout",
       "text": [
        "(577, 408)\n"
       ]
      }
     ],
     "prompt_number": 125
    },
    {
     "cell_type": "markdown",
     "metadata": {},
     "source": [
      "Yes, seems to work. Let's see how this goes with the square root of 23."
     ]
    },
    {
     "cell_type": "code",
     "collapsed": false,
     "input": [
      "interact(lambda order: print(compute_continued_fraction(order, 4, (1,3,1,8))),\n",
      "         order=(1, 10))"
     ],
     "language": "python",
     "metadata": {},
     "outputs": [
      {
       "output_type": "stream",
       "stream": "stdout",
       "text": [
        "(211, 44)\n"
       ]
      }
     ],
     "prompt_number": 126
    },
    {
     "cell_type": "code",
     "collapsed": false,
     "input": [
      "import pdb"
     ],
     "language": "python",
     "metadata": {},
     "outputs": [],
     "prompt_number": 58
    },
    {
     "cell_type": "code",
     "collapsed": false,
     "input": [
      "pdb.runcall(compute_continued_fraction, 1, 4, (1,3,1,8))"
     ],
     "language": "python",
     "metadata": {},
     "outputs": [
      {
       "output_type": "stream",
       "stream": "stdout",
       "text": [
        "> <ipython-input-55-25f396e5f3b0>(5)compute_continued_fraction()\n",
        "-> repeating_sequence = repeating_sequence[::-1]\n"
       ]
      },
      {
       "name": "stdout",
       "output_type": "stream",
       "stream": "stdout",
       "text": [
        "(Pdb) q\n"
       ]
      }
     ],
     "prompt_number": 61
    },
    {
     "cell_type": "code",
     "collapsed": false,
     "input": [
      "sqrt(23)"
     ],
     "language": "python",
     "metadata": {},
     "outputs": [
      {
       "metadata": {},
       "output_type": "pyout",
       "prompt_number": 127,
       "text": [
        "4.7958315233127191"
       ]
      }
     ],
     "prompt_number": 127
    },
    {
     "cell_type": "code",
     "collapsed": false,
     "input": [
      "19/4"
     ],
     "language": "python",
     "metadata": {},
     "outputs": [
      {
       "metadata": {},
       "output_type": "pyout",
       "prompt_number": 128,
       "text": [
        "4.75"
       ]
      }
     ],
     "prompt_number": 128
    },
    {
     "cell_type": "code",
     "collapsed": false,
     "input": [
      "24/ 5"
     ],
     "language": "python",
     "metadata": {},
     "outputs": [
      {
       "metadata": {},
       "output_type": "pyout",
       "prompt_number": 129,
       "text": [
        "4.8"
       ]
      }
     ],
     "prompt_number": 129
    },
    {
     "cell_type": "code",
     "collapsed": false,
     "input": [
      "211 /44 "
     ],
     "language": "python",
     "metadata": {},
     "outputs": [
      {
       "metadata": {},
       "output_type": "pyout",
       "prompt_number": 130,
       "text": [
        "4.795454545454546"
       ]
      }
     ],
     "prompt_number": 130
    },
    {
     "cell_type": "markdown",
     "metadata": {},
     "source": [
      "Now on to the exponential:\n",
      " \n",
      " e = [2; 1,2,1, 1,4,1, 1,6,1 , ... , 1,2k,1, ...]\n",
      " \n",
      " The convergents are:\n",
      " \n",
      " 2, 3, 8/3, 11/4, 19/7, 87/32, 106/39, 193/71, 1264/465, 1457/536"
     ]
    },
    {
     "cell_type": "code",
     "collapsed": false,
     "input": [
      "interact(lambda order: print(compute_continued_fraction(order, 2, (1,2,1,1,4,1))),\n",
      "         order=(1, 10))"
     ],
     "language": "python",
     "metadata": {},
     "outputs": [
      {
       "output_type": "stream",
       "stream": "stdout",
       "text": [
        "(492, 181)\n"
       ]
      }
     ],
     "prompt_number": 131
    },
    {
     "cell_type": "markdown",
     "metadata": {},
     "source": [
      "Interlude: we write a function that generates the right coefficients until rank $n$."
     ]
    },
    {
     "cell_type": "code",
     "collapsed": false,
     "input": [
      "def exponential_coefs(n):\n",
      "    coefs = []\n",
      "    for i in range(n):\n",
      "        if (i % 3) == 0 or (i % 3) == 2:\n",
      "            coefs.append(1)\n",
      "        else:\n",
      "            coefs.append(int((i + 2) / 3 * 2))\n",
      "    return coefs"
     ],
     "language": "python",
     "metadata": {},
     "outputs": [],
     "prompt_number": 136
    },
    {
     "cell_type": "code",
     "collapsed": false,
     "input": [
      "exponential_coefs(9)"
     ],
     "language": "python",
     "metadata": {},
     "outputs": [
      {
       "metadata": {},
       "output_type": "pyout",
       "prompt_number": 139,
       "text": [
        "[1, 2, 1, 1, 4, 1, 1, 6, 1]"
       ]
      }
     ],
     "prompt_number": 139
    },
    {
     "cell_type": "markdown",
     "metadata": {},
     "source": [
      "Now, let's compute the 10th partial of the exponential."
     ]
    },
    {
     "cell_type": "code",
     "collapsed": false,
     "input": [
      "compute_continued_fraction(9, 2, exponential_coefs(9))"
     ],
     "language": "python",
     "metadata": {},
     "outputs": [
      {
       "metadata": {},
       "output_type": "pyout",
       "prompt_number": 142,
       "text": [
        "(1457, 536)"
       ]
      }
     ],
     "prompt_number": 142
    },
    {
     "cell_type": "markdown",
     "metadata": {},
     "source": [
      "Now the 100th partial:"
     ]
    },
    {
     "cell_type": "code",
     "collapsed": false,
     "input": [
      "compute_continued_fraction(99, 2, exponential_coefs(99))"
     ],
     "language": "python",
     "metadata": {},
     "outputs": [
      {
       "metadata": {},
       "output_type": "pyout",
       "prompt_number": 143,
       "text": [
        "(6963524437876961749120273824619538346438023188214475670667,\n",
        " 2561737478789858711161539537921323010415623148113041714756)"
       ]
      }
     ],
     "prompt_number": 143
    },
    {
     "cell_type": "markdown",
     "metadata": {},
     "source": [
      "And the solution is:"
     ]
    },
    {
     "cell_type": "code",
     "collapsed": false,
     "input": [
      "sum([int(s) for s in \"6963524437876961749120273824619538346438023188214475670667\"])"
     ],
     "language": "python",
     "metadata": {},
     "outputs": [
      {
       "metadata": {},
       "output_type": "pyout",
       "prompt_number": 144,
       "text": [
        "272"
       ]
      }
     ],
     "prompt_number": 144
    }
   ],
   "metadata": {}
  }
 ]
}