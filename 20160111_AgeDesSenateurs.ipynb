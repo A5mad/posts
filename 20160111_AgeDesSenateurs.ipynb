{
 "cells": [
  {
   "cell_type": "markdown",
   "metadata": {},
   "source": [
    "Cette semaine, après avoir travaillé sur [l'âge moyen des députés français](http://flothesof.github.io/age-moyen-deputes-francais.html), je vous propose de nous intéresser à celui des sénateurs.\n",
    "\n",
    "Premier constat : la tâche ne va pas être aussi facile que dans le cas des députés. En effet, je n'ai pas réussi à trouver une base de données avec les dates de naissance des sénateurs ou de fichier PDF comme dans le cas des députés avec toutes les données d'un coup. Il va donc falloir travailler un peu plus afin d'extraire les données du [site web du sénat et son index alphabétique](http://www.senat.fr/senateurs/senatl.html). \n",
    "\n",
    "Afin de faire ceci, nous allons utiliser les outils Python classique pour ce genre de tâche : `requests` et `beautiful soup`."
   ]
  },
  {
   "cell_type": "markdown",
   "metadata": {},
   "source": [
    "# Comment extraire la date de naissance d'un sénateur de sa notice bibliographique ?"
   ]
  },
  {
   "cell_type": "markdown",
   "metadata": {},
   "source": [
    "Tout part de la notice bibliographique du sénateur. Par exemple, celle de [Michel Berson, sénateur de l'Essonne](http://www.senat.fr/senateur/berson_michel11068s.html).\n",
    "\n",
    "On peut télécherger le contenu de cette page à l'aide du code suivant :"
   ]
  },
  {
   "cell_type": "code",
   "execution_count": 1,
   "metadata": {
    "collapsed": true
   },
   "outputs": [],
   "source": [
    "import requests"
   ]
  },
  {
   "cell_type": "code",
   "execution_count": 60,
   "metadata": {
    "collapsed": false
   },
   "outputs": [
    {
     "data": {
      "text/plain": [
       "<Response [200]>"
      ]
     },
     "execution_count": 60,
     "metadata": {},
     "output_type": "execute_result"
    }
   ],
   "source": [
    "r = requests.get(\"http://www.senat.fr/senateur/berson_michel11068s.html\")\n",
    "r"
   ]
  },
  {
   "cell_type": "markdown",
   "metadata": {},
   "source": [
    "La réponse 200 signifie que le téléchargement de la page s'est bien passé. \n",
    "\n",
    "Pour extraire la date de naissance, il faut regarder le code HTML de la page et utiliser `beautiful soup`. On construit notre soupe :"
   ]
  },
  {
   "cell_type": "code",
   "execution_count": 61,
   "metadata": {
    "collapsed": true
   },
   "outputs": [],
   "source": [
    "from bs4 import BeautifulSoup\n",
    "soup = BeautifulSoup(r.text, 'html.parser')"
   ]
  },
  {
   "cell_type": "markdown",
   "metadata": {},
   "source": [
    "La date de naissance se trouve dans un tag 'dd' lui-même contenu dans un tag 'dl'. On peut trouver ces éléments ainsi :"
   ]
  },
  {
   "cell_type": "code",
   "execution_count": 62,
   "metadata": {
    "collapsed": false
   },
   "outputs": [
    {
     "data": {
      "text/plain": [
       "[<dd>\n",
       " <a class=\"link-color-01\" href=\"mailto:m.berson@senat.fr\">m.berson@senat.fr</a> \n",
       " </dd>, <dd>\n",
       " <ul class=\"list-contact-01\">\n",
       " <li><a href=\"http://www.michelberson.fr\" target=\"_blank\"><img alt=\"http://www.michelberson.fr\" src=\"/fileadmin/templates/images/data/picto_contact_blog.png\"/></a></li>\n",
       " <li><a href=\"http://www.facebook.com/michel.berson\" target=\"_blank\"><img alt=\"Profil Facebook\" src=\"/fileadmin/templates/images/data/picto_contact_facebook.png\"/></a></li>\n",
       " </ul>\n",
       " <ul class=\"list-contact-01\">\n",
       " <li><a href=\"http://twitter.com/michel_berson\" target=\"_blank\"><img alt=\"Compte Twitter\" src=\"/fileadmin/templates/images/data/picto_contact_twitter.png\"/></a></li>\n",
       " </ul>\n",
       " </dd>, <dd>Né le 21 avril 1945</dd>, <dd>Cadre dans le secteur bancaire</dd>, <dd><img alt=\"Place dans l'hémicycle\" src=\"/fileadmin/templates/images/senateurs/hemicycle/place-hemicycle_311.jpg\" width=\"170\">\n",
       " </img></dd>, <dd><a href=\"/senateurs/sencir.html#c265\"><img alt=\"Circonscription\" src=\"/fileadmin/templates/images/senateurs/dpt/circonscription_91.jpg\"/></a>\n",
       " <div class=\"link link-type-02\">\n",
       " <a href=\"/senateurs/sencir.html#c265\">Tous les Sénateurs de la\n",
       " circonscription</a>\n",
       " </div>\n",
       " </dd>]"
      ]
     },
     "execution_count": 62,
     "metadata": {},
     "output_type": "execute_result"
    }
   ],
   "source": [
    "items = soup.find('dl').find_all('dd')\n",
    "items"
   ]
  },
  {
   "cell_type": "markdown",
   "metadata": {},
   "source": [
    "La date de naissance qui nous intéresse est dans le deuxième item :"
   ]
  },
  {
   "cell_type": "code",
   "execution_count": 84,
   "metadata": {
    "collapsed": false
   },
   "outputs": [
    {
     "data": {
      "text/plain": [
       "['Né le 21 avril 1945']"
      ]
     },
     "execution_count": 84,
     "metadata": {},
     "output_type": "execute_result"
    }
   ],
   "source": [
    "[item.text for item in items if item.text.startswith('Né')]"
   ]
  },
  {
   "cell_type": "markdown",
   "metadata": {},
   "source": [
    "On peut, sur le même principe, également écrire une fonction qui extrait le nom du sénateur de la page :"
   ]
  },
  {
   "cell_type": "code",
   "execution_count": 85,
   "metadata": {
    "collapsed": false
   },
   "outputs": [
    {
     "data": {
      "text/plain": [
       "'Liste des Sénateurs par ordre alphabétique'"
      ]
     },
     "execution_count": 85,
     "metadata": {},
     "output_type": "execute_result"
    }
   ],
   "source": [
    "soup.find('h1','title-01').text"
   ]
  },
  {
   "cell_type": "markdown",
   "metadata": {},
   "source": [
    "Maintenant que nous savons faire ça, nous pouvons écrire un fonction qui extrait la date de naissance de l'url de la page d'un sénateur, de même que son nom :"
   ]
  },
  {
   "cell_type": "code",
   "execution_count": 86,
   "metadata": {
    "collapsed": false
   },
   "outputs": [],
   "source": [
    "def url2data(url):\n",
    "    \"\"\"Télécharge la page de l'url et extrait la date de naissance du sénateur.\"\"\"\n",
    "    r = requests.get(url)\n",
    "    if r.ok:\n",
    "        soup = BeautifulSoup(r.text, 'html.parser')\n",
    "        birthdate = [item.text for item in soup.find('dl').find_all('dd') if item.text.startswith('Né')][0]\n",
    "        name = soup.find('h1','title-01').text\n",
    "        return (name, birthdate)\n",
    "    else:\n",
    "        raise(\"Something went wrong with the web request\")"
   ]
  },
  {
   "cell_type": "markdown",
   "metadata": {},
   "source": [
    "On peut tester la fonction :"
   ]
  },
  {
   "cell_type": "code",
   "execution_count": 87,
   "metadata": {
    "collapsed": false
   },
   "outputs": [
    {
     "data": {
      "text/plain": [
       "('M. Michel Berson', 'Né le 21 avril 1945')"
      ]
     },
     "execution_count": 87,
     "metadata": {},
     "output_type": "execute_result"
    }
   ],
   "source": [
    "url2data(\"http://www.senat.fr/senateur/berson_michel11068s.html\")"
   ]
  },
  {
   "cell_type": "markdown",
   "metadata": {},
   "source": [
    "Pour avoir toutes les dates de naissances, il nous faut maintenant appliquer cette procédure à toutes les urls que l'on trouve sur l'index alphabétique du sénat."
   ]
  },
  {
   "cell_type": "markdown",
   "metadata": {},
   "source": [
    "# Répéter l'opération d'extraction pour chaque sénateur"
   ]
  },
  {
   "cell_type": "markdown",
   "metadata": {},
   "source": [
    "A partir de la page d'index biographique, nous pouvons, de la même manière que précédemment, extraire les liens vers les différentes pages de sénateurs :"
   ]
  },
  {
   "cell_type": "code",
   "execution_count": 88,
   "metadata": {
    "collapsed": false
   },
   "outputs": [
    {
     "data": {
      "text/plain": [
       "<Response [200]>"
      ]
     },
     "execution_count": 88,
     "metadata": {},
     "output_type": "execute_result"
    }
   ],
   "source": [
    "r = requests.get(\"http://www.senat.fr/senateurs/senatl.html\")\n",
    "r"
   ]
  },
  {
   "cell_type": "markdown",
   "metadata": {},
   "source": [
    "On fait une petite sousoupe :"
   ]
  },
  {
   "cell_type": "code",
   "execution_count": 89,
   "metadata": {
    "collapsed": false
   },
   "outputs": [],
   "source": [
    "soup = bs4.BeautifulSoup(r.text, 'html.parser')"
   ]
  },
  {
   "cell_type": "markdown",
   "metadata": {},
   "source": [
    "Et maintenant on cherche des liens qui sont dans des balises du type ul li a. Tant qu'à faire, on ne garde que ceux qui pointen vers une page de sénateur :"
   ]
  },
  {
   "cell_type": "code",
   "execution_count": 95,
   "metadata": {
    "collapsed": false
   },
   "outputs": [],
   "source": [
    "urls = [link.get('href') for link in soup.select('ul li a') if link.get('href').startswith('/senateur/')]"
   ]
  },
  {
   "cell_type": "code",
   "execution_count": 96,
   "metadata": {
    "collapsed": false
   },
   "outputs": [
    {
     "data": {
      "text/plain": [
       "348"
      ]
     },
     "execution_count": 96,
     "metadata": {},
     "output_type": "execute_result"
    }
   ],
   "source": [
    "len(urls)"
   ]
  },
  {
   "cell_type": "markdown",
   "metadata": {},
   "source": [
    "Nous dénombrons bien 348 sénateurs. Passons à l'extraction des dates de naissance."
   ]
  },
  {
   "cell_type": "code",
   "execution_count": 97,
   "metadata": {
    "collapsed": false
   },
   "outputs": [],
   "source": [
    "birthdates = {}\n",
    "for url in urls:\n",
    "    name, bd = url2data(\"http://www.senat.fr\" + url)\n",
    "    birthdates[name] = bd"
   ]
  },
  {
   "cell_type": "markdown",
   "metadata": {},
   "source": [
    "Regardons le résultat :"
   ]
  },
  {
   "cell_type": "code",
   "execution_count": 98,
   "metadata": {
    "collapsed": false
   },
   "outputs": [
    {
     "data": {
      "text/plain": [
       "{'M. Abdourahamane Soilihi': 'Né le 4 octobre 1959',\n",
       " 'M. Alain Anziani': 'Né le 30 mai 1951',\n",
       " 'M. Alain Bertrand': 'Né le 23 février 1951',\n",
       " 'M. Alain Chatillon': 'Né le 15 mars 1943',\n",
       " 'M. Alain Dufaut': 'Né le 2 janvier 1944',\n",
       " 'M. Alain Duran': 'Né le 2 janvier 1958',\n",
       " 'M. Alain Fouché': 'Né le 4 décembre 1942',\n",
       " 'M. Alain Gournac': 'Né le 13 septembre 1943',\n",
       " 'M. Alain Houpert': 'Né le 13 août 1957',\n",
       " 'M. Alain Joyandet': 'Né le 15 janvier 1954',\n",
       " 'M. Alain Marc': 'Né le 29 janvier 1957',\n",
       " 'M. Alain Milon': 'Né le 16 septembre 1947',\n",
       " 'M. Alain Néri': 'Né le 1er mai 1942',\n",
       " 'M. Alain Richard': 'Né le 29 août 1945',\n",
       " 'M. Alain Vasselle': 'Né le 27 juin 1947',\n",
       " 'M. Albéric de Montgolfier': 'Né le 6 juillet 1964',\n",
       " 'M. Alex Türk': 'Né le 25 janvier 1950',\n",
       " 'M. André Gattolin': 'Né le 24 juin 1960',\n",
       " 'M. André Reichardt': 'Né le 5 décembre 1949',\n",
       " 'M. André Trillard': 'Né le 24 octobre 1947',\n",
       " 'M. Antoine Karam': 'Né le 21 février 1950',\n",
       " 'M. Antoine Lefèvre': 'Né le 18 février 1966',\n",
       " 'M. Benoît Huré': 'Né le 5 juin 1953',\n",
       " 'M. Bernard Cazeau': 'Né le 27 avril 1939',\n",
       " 'M. Bernard Delcros': 'Né le 12 février 1953',\n",
       " 'M. Bernard Fournier': 'Né le 13 septembre 1946',\n",
       " 'M. Bernard Lalande': 'Né le 6 avril 1954',\n",
       " 'M. Bernard Saugey': 'Né le 3 mars 1943',\n",
       " 'M. Bruno Gilles': 'Né le 26 décembre 1960',\n",
       " 'M. Bruno Retailleau': 'Né le 20 novembre 1960',\n",
       " 'M. Bruno Sido': 'Né le 19 février 1951',\n",
       " 'M. Charles Guené': 'Né le 6 avril 1952',\n",
       " 'M. Charles Revet': 'Né le 9 novembre 1937',\n",
       " 'M. Christian Cambon': 'Né le 8 mars 1948',\n",
       " 'M. Christian Favier': 'Né le 20 février 1951',\n",
       " 'M. Christian Manable': 'Né le 19 juin 1948',\n",
       " 'M. Christian Namy': 'Né le 19 octobre 1938',\n",
       " 'M. Christophe Béchu': 'Né le 11 juin 1974',\n",
       " 'M. Christophe-André Frassa': 'Né le 4 février 1968',\n",
       " 'M. Claude Bérit-Débat': 'Né le 19 février 1946',\n",
       " 'M. Claude Haut': 'Né le 22 décembre 1944',\n",
       " 'M. Claude Kern': 'Né le 13 mars 1959',\n",
       " 'M. Claude Malhuret': 'Né le 8 mars 1950',\n",
       " 'M. Claude Nougein': 'Né le 4 décembre 1946',\n",
       " 'M. Claude Raynal': 'Né le 10 octobre 1957',\n",
       " 'M. Cyril Pellevat': 'Né le 18 février 1981',\n",
       " 'M. Cédric Perrin': 'Né le 20 janvier 1974',\n",
       " 'M. Daniel Chasseing': 'Né le 10 avril 1945',\n",
       " 'M. Daniel Dubois': 'Né le 5 février 1952',\n",
       " 'M. Daniel Gremillet': 'Né le 31 juillet 1953',\n",
       " 'M. Daniel Laurent': 'Né le 4 février 1949',\n",
       " 'M. Daniel Percheron': 'Né le 31 août 1942',\n",
       " 'M. Daniel Raoul': 'Né le 28 juillet 1941',\n",
       " 'M. Daniel Reiner': 'Né le 17 janvier 1941',\n",
       " 'M. David Assouline': 'Né le 16 juin 1959',\n",
       " 'M. David Rachline': 'Né le 2 décembre 1987',\n",
       " 'M. Didier Guillaume': 'Né le 11 mai 1959',\n",
       " 'M. Didier Mandelli': 'Né le 7 août 1964',\n",
       " 'M. Didier Marie': 'Né le 19 mai 1960',\n",
       " 'M. Didier Robert': 'Né le 26 avril 1964',\n",
       " 'M. Dominique Bailly': 'Né le 2 janvier 1960',\n",
       " 'M. Dominique Watrin': 'Né le 14 juin 1953',\n",
       " 'M. Dominique de Legge': 'Né le 18 février 1952',\n",
       " 'M. Francis Delattre': 'Né le 11 septembre 1946',\n",
       " 'M. Franck Montaugé': 'Né le 14 septembre 1961',\n",
       " 'M. François Baroin': 'Né le 21 juin 1965',\n",
       " 'M. François Bonhomme': 'Né le 5 mai 1969',\n",
       " 'M. François Calvet': 'Né le 1er avril 1953',\n",
       " 'M. François Commeinhes': 'Né le 10 novembre 1949',\n",
       " 'M. François Fortassin': 'Né le 2 août 1939',\n",
       " 'M. François Grosdidier': 'Né le 25 février 1961',\n",
       " 'M. François Marc': 'Né le 19 mars 1950',\n",
       " 'M. François Patriat': 'Né le 21 mars 1943',\n",
       " 'M. François Pillet': 'Né le 13 mai 1950',\n",
       " 'M. François Zocchetto': 'Né le 14 décembre 1958',\n",
       " 'M. François-Noël Buffet': 'Né le 28 août 1963',\n",
       " 'M. Félix Desplan': 'Né le 22 février 1943',\n",
       " 'M. Gaëtan Gorce': 'Né le 2 décembre 1958',\n",
       " 'M. Georges Labazée': 'Né le 16 juin 1943',\n",
       " 'M. Georges Patient': 'Né le 1er avril 1949',\n",
       " 'M. Gilbert Barbier': 'Né le 3 mars 1940',\n",
       " 'M. Gilbert Bouchet': 'Né le 8 janvier 1947',\n",
       " 'M. Gilbert Roger': 'Né le 9 novembre 1953',\n",
       " 'M. Guillaume Arnell': 'Né le 20 janvier 1958',\n",
       " 'M. Guy-Dominique Kennel': 'Né le 14 avril 1952',\n",
       " 'M. Gérard Bailly': 'Né le 28 janvier 1940',\n",
       " 'M. Gérard Collomb': 'Né le 20 juin 1947',\n",
       " 'M. Gérard Cornu': 'Né le 6 février 1952',\n",
       " 'M. Gérard César': 'Né le 19 décembre 1934',\n",
       " 'M. Gérard Dériot': 'Né le 1er novembre 1944',\n",
       " 'M. Gérard Larcher': 'Né le 14 septembre 1949',\n",
       " 'M. Gérard Longuet': 'Né le 24 février 1946',\n",
       " 'M. Gérard Miquel': 'Né le 17 juin 1946',\n",
       " 'M. Gérard Roche': 'Né le 29 décembre 1942',\n",
       " 'M. Henri Cabanel': 'Né le 9 mars 1959',\n",
       " 'M. Henri Tandonnet': 'Né le 14 décembre 1949',\n",
       " 'M. Henri de Raincourt': 'Né le 17 novembre 1948',\n",
       " 'M. Hervé Marseille': 'Né le 20 août 1954',\n",
       " 'M. Hervé Maurey': 'Né le 7 mai 1961',\n",
       " 'M. Hervé Poher': 'Né le 19 mai 1952',\n",
       " 'M. Hilarion Vendegou': 'Né le 4 septembre 1941',\n",
       " 'M. Hubert Falco': 'Né le 15 mai 1947',\n",
       " 'M. Hugues Portelli': 'Né le 22 décembre 1947',\n",
       " 'M. Jackie Pierre': 'Né le 27 mai 1946',\n",
       " 'M. Jacques Bigot': 'Né le 31 juillet 1952',\n",
       " 'M. Jacques Chiron': 'Né le 3 octobre 1949',\n",
       " 'M. Jacques Cornano': 'Né le 18 novembre 1956',\n",
       " 'M. Jacques Gautier': 'Né le 18 septembre 1946',\n",
       " 'M. Jacques Genest': 'Né le 6 août 1950',\n",
       " 'M. Jacques Gillot': 'Né le 4 mars 1948',\n",
       " 'M. Jacques Grosperrin': 'Né le 17 octobre 1955',\n",
       " 'M. Jacques Legendre': 'Né le 2 décembre 1941',\n",
       " 'M. Jacques Mézard': 'Né le 3 décembre 1947',\n",
       " 'M. Jacques-Bernard Magner': 'Né le 1er juin 1952',\n",
       " 'M. Jean Bizet': 'Né le 30 août 1947',\n",
       " 'M. Jean Desessard': 'Né le 6 septembre 1952',\n",
       " 'M. Jean Louis Masson': 'Né le 25 mars 1947',\n",
       " 'M. Jean Pierre Vogel': 'Né le 7 août 1956',\n",
       " 'M. Jean-Baptiste Lemoyne': 'Né le 15 septembre 1977',\n",
       " 'M. Jean-Claude Boulard': 'Né le 28 mars 1943',\n",
       " 'M. Jean-Claude Carle': 'Né le 9 juin 1948',\n",
       " 'M. Jean-Claude Frécon': 'Né le 3 septembre 1944',\n",
       " 'M. Jean-Claude Gaudin': 'Né le 8 octobre 1939',\n",
       " 'M. Jean-Claude Lenoir': 'Né le 27 décembre 1944',\n",
       " 'M. Jean-Claude Leroy': 'Né le 3 juin 1952',\n",
       " 'M. Jean-Claude Luche': 'Né le 7 août 1952',\n",
       " 'M. Jean-Claude Requier': 'Né le 4 octobre 1947',\n",
       " 'M. Jean-François Husson': 'Né le 17 avril 1961',\n",
       " 'M. Jean-François Longeot': 'Né le 27 décembre 1956',\n",
       " 'M. Jean-François Mayet': 'Né le 30 janvier 1940',\n",
       " 'M. Jean-Jacques Filleul': 'Né le 22 juin 1943',\n",
       " 'M. Jean-Jacques Lasserre': 'Né le 11 mars 1944',\n",
       " 'M. Jean-Jacques Lozach': 'Né le 8 février 1954',\n",
       " 'M. Jean-Jacques Panunzi': 'Né le 5 avril 1956',\n",
       " 'M. Jean-Louis Carrère': 'Né le 4 décembre 1944',\n",
       " 'M. Jean-Louis Tourenne': 'Né le 25 août 1944',\n",
       " 'M. Jean-Léonce Dupont': 'Né le 31 janvier 1955',\n",
       " 'M. Jean-Marc Gabouty': 'Né le 17 mai 1949',\n",
       " 'M. Jean-Marie Bockel': 'Né le 22 juin 1950',\n",
       " 'M. Jean-Marie Morisset': 'Né le 18 août 1947',\n",
       " 'M. Jean-Marie Vanlerenberghe': 'Né le 29 mars 1939',\n",
       " 'M. Jean-Noël Cardoux': 'Né le 18 décembre 1946',\n",
       " 'M. Jean-Noël Guérini': 'Né le 1er janvier 1951',\n",
       " 'M. Jean-Paul Emorine': 'Né le 20 mars 1944',\n",
       " 'M. Jean-Paul Fournier': 'Né le 16 octobre 1945',\n",
       " 'M. Jean-Pierre Bosino': 'Né le 15 janvier 1959',\n",
       " 'M. Jean-Pierre Caffet': 'Né le 8 novembre 1951',\n",
       " 'M. Jean-Pierre Cantegrit': 'Né le 2 juillet 1933',\n",
       " 'M. Jean-Pierre Godefroy': 'Né le 23 septembre 1944',\n",
       " 'M. Jean-Pierre Grand': 'Né le 18 novembre 1950',\n",
       " 'M. Jean-Pierre Leleux': 'Né le 8 mai 1947',\n",
       " 'M. Jean-Pierre Masseret': 'Né le 23 août 1944',\n",
       " 'M. Jean-Pierre Raffarin': 'Né le 3 août 1948',\n",
       " 'M. Jean-Pierre Sueur': 'Né le 28 février 1947',\n",
       " 'M. Jean-Pierre Vial': 'Né le 17 février 1951',\n",
       " 'M. Jean-Vincent Placé': 'Né le 12 mars 1968',\n",
       " 'M. Jean-Yves Leconte': 'Né le 31 octobre 1966',\n",
       " 'M. Jean-Yves Roux': 'Né le 18 janvier 1970',\n",
       " 'M. Jeanny Lorgeoux': 'Né le 2 janvier 1950',\n",
       " 'M. Joseph Castelli': 'Né le 4 juin 1948',\n",
       " 'M. Joël Guerriau': 'Né le 9 novembre 1957',\n",
       " 'M. Joël Labbé': 'Né le 18 octobre 1952',\n",
       " 'M. Jérôme Bignon': 'Né le 1er janvier 1949',\n",
       " 'M. Jérôme Durain': 'Né le 2 juin 1969',\n",
       " 'M. Ladislas Poniatowski': 'Né le 10 novembre 1946',\n",
       " 'M. Louis Duvernois': 'Né le 17 mai 1941',\n",
       " 'M. Louis Nègre': 'Né le 8 février 1947',\n",
       " 'M. Louis Pinton': 'Né le 24 octobre 1948',\n",
       " 'M. Louis-Jean de Nicolaÿ': 'Né le 18 septembre 1949',\n",
       " 'M. Loïc Hervé': 'Né le 8 juin 1980',\n",
       " 'M. Luc Carvounas': 'Né le 8 juin 1971',\n",
       " 'M. Marc Daunis': 'Né le 22 avril 1955',\n",
       " 'M. Marc Laménie': 'Né le 11 juillet 1956',\n",
       " 'M. Martial Bourquin': 'Né le 23 juillet 1952',\n",
       " 'M. Mathieu Darnaud': 'Né le 11 juillet 1975',\n",
       " 'M. Maurice Antiste': 'Né le 22 juin 1953',\n",
       " 'M. Maurice Vincent': 'Né le 20 septembre 1955',\n",
       " 'M. Michel Amiel': 'Né le 3 juillet 1954',\n",
       " 'M. Michel Berson': 'Né le 21 avril 1945',\n",
       " 'M. Michel Billout': 'Né le 19 février 1958',\n",
       " 'M. Michel Boutant': 'Né le 23 novembre 1956',\n",
       " 'M. Michel Bouvard': 'Né le 17 mars 1955',\n",
       " 'M. Michel Canevet': 'Né le 14 décembre 1960',\n",
       " 'M. Michel Delebarre': 'Né le 27 avril 1946',\n",
       " 'M. Michel Fontaine': 'Né le 6 mai 1952',\n",
       " 'M. Michel Forissier': 'Né le 12 septembre 1943',\n",
       " 'M. Michel Houel': 'Né le 8 novembre 1942',\n",
       " 'M. Michel Le Scouarnec': 'Né le 12 juillet 1949',\n",
       " 'M. Michel Magras': 'Né le 6 janvier 1954',\n",
       " 'M. Michel Mercier': 'Né le 7 mars 1947',\n",
       " 'M. Michel Raison': 'Né le 5 novembre 1949',\n",
       " 'M. Michel Savin': 'Né le 25 novembre 1958',\n",
       " 'M. Michel Vaspart': 'Né le 22 février 1948',\n",
       " 'M. Michel Vergoz': 'Né le 10 janvier 1950',\n",
       " 'M. Nuihau Laurey': 'Né le 29 décembre 1964',\n",
       " 'M. Olivier Cadic': 'Né le 22 avril 1962',\n",
       " 'M. Olivier Cigolotti': 'Né le 16 août 1963',\n",
       " 'M. Pascal Allizard': 'Né le 19 décembre 1962',\n",
       " 'M. Patrick Abate': 'Né le 28 décembre 1956',\n",
       " 'M. Patrick Chaize': 'Né le 22 mars 1963',\n",
       " 'M. Patrick Masclet': 'Né le 31 mai 1952',\n",
       " 'M. Paul Vergès': 'Né le 5 mars 1925',\n",
       " 'M. Philippe Adnot': 'Né le 25 août 1945',\n",
       " 'M. Philippe Bas': 'Né le 20 juillet 1958',\n",
       " 'M. Philippe Bonnecarrère': 'Né le 12 juillet 1955',\n",
       " 'M. Philippe Dallier': 'Né le 8 décembre 1962',\n",
       " 'M. Philippe Dominati': 'Né le 12 avril 1954',\n",
       " 'M. Philippe Esnol': 'Né le 2 avril 1954',\n",
       " 'M. Philippe Kaltenbach': 'Né le 9 janvier 1966',\n",
       " 'M. Philippe Leroy': 'Né le 3 février 1940',\n",
       " 'M. Philippe Madrelle': 'Né le 21 avril 1937',\n",
       " 'M. Philippe Mouiller': 'Né le 20 septembre 1969',\n",
       " 'M. Philippe Nachbar': 'Né le 26 septembre 1950',\n",
       " 'M. Philippe Paul': 'Né le 25 janvier 1965',\n",
       " 'M. Pierre Camani': 'Né le 19 février 1952',\n",
       " 'M. Pierre Charon': 'Né le 1er mars 1951',\n",
       " 'M. Pierre Frogier': 'Né le 16 novembre 1950',\n",
       " 'M. Pierre Laurent': 'Né le 1er juillet 1957',\n",
       " 'M. Pierre Médevielle': 'Né le 17 avril 1960',\n",
       " 'M. Pierre-Yves Collombat': 'Né le 18 juillet 1945',\n",
       " 'M. Rachel Mazuir': 'Né le 12 février 1940',\n",
       " 'M. Raymond Vall': 'Né le 13 janvier 1942',\n",
       " 'M. René Danesi': 'Né le 30 août 1947',\n",
       " 'M. René Vandierendonck': 'Né le 1er avril 1951',\n",
       " 'M. René-Paul Savary': 'Né le 3 janvier 1953',\n",
       " 'M. Richard Yung': 'Né le 22 septembre 1947',\n",
       " 'M. Robert Hue': 'Né le 19 octobre 1946',\n",
       " 'M. Robert Laufoaulu': 'Né le 7 juillet 1947',\n",
       " 'M. Robert Navarro': 'Né le 1er mai 1952',\n",
       " 'M. Robert del Picchia': 'Né le 10 novembre 1942',\n",
       " 'M. Roger Karoutchi': 'Né le 26 août 1951',\n",
       " 'M. Roger Madec': 'Né le 27 octobre 1950',\n",
       " 'M. Roland Courteau': 'Né le 24 février 1943',\n",
       " 'M. Ronan Dantec': 'Né le 5 août 1963',\n",
       " 'M. Rémy Pointereau': 'Né le 30 mars 1953',\n",
       " 'M. Serge Dassault': 'Né le 4 avril 1925',\n",
       " 'M. Serge Larcher': 'Né le 17 octobre 1945',\n",
       " 'M. Simon Sutour': 'Né le 18 août 1952',\n",
       " 'M. Stéphane Ravier': 'Né le 4 août 1969',\n",
       " 'M. Thani Mohamed Soilihi': 'Né le 20 juin 1972',\n",
       " 'M. Thierry Carcenac': 'Né le 19 décembre 1950',\n",
       " 'M. Thierry Foucaud': 'Né le 18 janvier 1954',\n",
       " 'M. Vincent Capo-Canellas': 'Né le 4 mai 1967',\n",
       " 'M. Vincent Delahaye': 'Né le 23 août 1959',\n",
       " 'M. Vincent Eblé': 'Né le 15 octobre 1957',\n",
       " 'M. Xavier Pintat': 'Né le 15 mars 1954',\n",
       " 'M. Yannick Botrel': 'Né le 9 décembre 1951',\n",
       " 'M. Yannick Vaugrenard': 'Né le 25 juin 1950',\n",
       " 'M. Yves Daudigny': 'Né le 23 février 1947',\n",
       " 'M. Yves Détraigne': 'Né le 21 décembre 1954',\n",
       " 'M. Yves Pozzo di Borgo': 'Né le 3 mai 1948',\n",
       " 'M. Yves Rome': 'Né le 25 avril 1950',\n",
       " 'M. Yvon Collin': 'Né le 10 avril 1944',\n",
       " 'M. Éric Bocquet': 'Né le 8 novembre 1957',\n",
       " 'M. Éric Doligé': 'Né le 25 mai 1943',\n",
       " 'M. Éric Jeansannetas': 'Né le 21 octobre 1962',\n",
       " 'Mme Agnès Canayer': 'Née le 21 septembre 1965',\n",
       " 'Mme Aline Archimbaud': 'Née le 2 novembre 1948',\n",
       " 'Mme Anne Chain-Larché': 'Née le 11 avril 1958',\n",
       " 'Mme Anne Emery-Dumas': 'Née le 30 août 1959',\n",
       " 'Mme Anne-Catherine Loisier': 'Née le 13 mars 1969',\n",
       " 'Mme Annick Billon': 'Née le 3 août 1967',\n",
       " 'Mme Annie David': 'Née le 17 janvier 1963',\n",
       " 'Mme Annie Guillemot': 'Née le 27 janvier 1956',\n",
       " 'Mme Bariza Khiari': 'Née le 3 septembre 1946',\n",
       " 'Mme Brigitte Gonthier-Maurin': 'Née le 23 avril 1956',\n",
       " 'Mme Brigitte Micouleau': 'Née le 10 septembre 1951',\n",
       " 'Mme Caroline Cayeux': 'Née le 1er novembre 1948',\n",
       " 'Mme Catherine Deroche': 'Née le 24 février 1953',\n",
       " 'Mme Catherine Di Folco': 'Née le 30 novembre 1960',\n",
       " 'Mme Catherine Génisson': 'Née le 22 avril 1949',\n",
       " 'Mme Catherine Morin-Desailly': 'Née le 6 juillet 1960',\n",
       " 'Mme Catherine Procaccia': 'Née le 13 octobre 1949',\n",
       " 'Mme Catherine Tasca': 'Née le 13 décembre 1941',\n",
       " 'Mme Catherine Troendlé': 'Née le 20 février 1961',\n",
       " 'Mme Chantal Deseyne': 'Née le 29 janvier 1957',\n",
       " 'Mme Chantal Jouanno': 'Née le 12 juillet 1969',\n",
       " 'Mme Christiane Hummel': 'Née le 8 mai 1942',\n",
       " 'Mme Christiane Kammermann': 'Née le 10 juillet 1932',\n",
       " 'Mme Christine Prunaud': 'Née le 4 septembre 1950',\n",
       " 'Mme Claire-Lise Campion': 'Née le 27 juillet 1951',\n",
       " 'Mme Claudine Lepage': 'Née le 10 août 1949',\n",
       " 'Mme Colette Giudicelli': 'Née le 24 novembre 1943',\n",
       " 'Mme Colette Mélot': 'Née le 20 avril 1947',\n",
       " 'Mme Corinne Bouchoux': 'Née le 5 janvier 1964',\n",
       " 'Mme Corinne Féret': 'Née le 17 septembre 1961',\n",
       " 'Mme Corinne Imbert': 'Née le 20 novembre 1958',\n",
       " 'Mme Cécile Cukierman': 'Née le 26 avril 1976',\n",
       " 'Mme Danielle Michel': 'Née le 3 avril 1947',\n",
       " 'Mme Delphine Bataille': 'Née le 16 septembre 1969',\n",
       " 'Mme Dominique Estrosi Sassone': 'Née le 14 novembre 1958',\n",
       " 'Mme Dominique Gillot': 'Née le 11 juillet 1949',\n",
       " 'Mme Esther Benbassa': 'Née le 27 mars 1950',\n",
       " 'Mme Evelyne Yonnet': 'Née le 9 octobre 1954',\n",
       " 'Mme Fabienne Keller': 'Née le 20 octobre 1959',\n",
       " 'Mme Françoise Cartron': 'Née le 27 mars 1949',\n",
       " 'Mme Françoise Férat': 'Née le 5 mars 1949',\n",
       " 'Mme Françoise Gatel': 'Née le 14 mars 1953',\n",
       " 'Mme Françoise Laborde': 'Née le 8 juillet 1958',\n",
       " 'Mme Frédérique Espagnac': 'Née le 19 avril 1972',\n",
       " 'Mme Gisèle Jourda': 'Née le 24 mars 1955',\n",
       " 'Mme Hermeline Malherbe': 'Née le 18 février 1969',\n",
       " 'Mme Hélène Conway-Mouret': 'Née le 13 septembre 1960',\n",
       " 'Mme Isabelle Debré': 'Née le 23 mai 1957',\n",
       " 'Mme Jacky Deromedi': 'Née le 15 juin 1944',\n",
       " 'Mme Jacqueline Gourault': 'Née le 20 novembre 1950',\n",
       " 'Mme Josette Durrieu': 'Née le 20 mars 1937',\n",
       " 'Mme Joëlle Garriaud-Maylam': 'Née le 20 mars 1955',\n",
       " 'Mme Karine Claireaux': 'Née le 15 novembre 1963',\n",
       " 'Mme Lana Tetuanui': 'Née le 23 février 1970',\n",
       " 'Mme Laurence Cohen': 'Née le 15 janvier 1953',\n",
       " 'Mme Leila Aïchi': 'Née le 14 mai 1970',\n",
       " 'Mme Marie Mercier': 'Née le 16 juin 1958',\n",
       " 'Mme Marie-Annick Duchêne': 'Née le 23 août 1940',\n",
       " 'Mme Marie-Christine Blandin': 'Née le 22 septembre 1952',\n",
       " 'Mme Marie-France Beaufils': 'Née le 22 novembre 1946',\n",
       " 'Mme Marie-Françoise Perol-Dumont': 'Née le 26 mai 1952',\n",
       " 'Mme Marie-Hélène Des Esgaulx': 'Née le 26 mai 1950',\n",
       " 'Mme Marie-Noëlle Lienemann': 'Née le 12 juillet 1951',\n",
       " 'Mme Marie-Pierre Monier': 'Née le 28 février 1958',\n",
       " 'Mme Maryvonne Blondin': 'Née le 20 janvier 1947',\n",
       " 'Mme Michelle Demessine': 'Née le 18 juin 1947',\n",
       " 'Mme Michelle Meunier': 'Née le 24 janvier 1956',\n",
       " 'Mme Michèle André': 'Née le 6 février 1947',\n",
       " 'Mme Mireille Jouve': 'Née le 30 décembre 1960',\n",
       " 'Mme Natacha Bouchart': 'Née le 29 mai 1963',\n",
       " 'Mme Nathalie Goulet': 'Née le 24 mai 1958',\n",
       " 'Mme Nelly Tocqueville': 'Née le 2 mai 1950',\n",
       " 'Mme Nicole Bonnefoy': 'Née le 11 août 1958',\n",
       " 'Mme Nicole Bricq': 'Née le 10 juin 1947',\n",
       " 'Mme Nicole Duranton': 'Née le 13 octobre 1958',\n",
       " 'Mme Odette Herviaux': 'Née le 6 janvier 1948',\n",
       " 'Mme Pascale Gruny': 'Née le 18 février 1960',\n",
       " 'Mme Patricia Morhet-Richaud': 'Née le 28 juillet 1961',\n",
       " 'Mme Patricia Schillinger': 'Née le 18 janvier 1963',\n",
       " 'Mme Samia Ghali': 'Née le 10 juin 1968',\n",
       " 'Mme Sophie Joissains': 'Née le 25 octobre 1969',\n",
       " 'Mme Sophie Primas': 'Née le 6 juin 1962',\n",
       " 'Mme Stéphanie Riocreux': 'Née le 20 mai 1966',\n",
       " 'Mme Sylvie Goy-Chavent': 'Née le 23 mai 1963',\n",
       " 'Mme Sylvie Robert': 'Née le 28 août 1963',\n",
       " 'Mme Valérie Létard': 'Née le 13 octobre 1962',\n",
       " 'Mme Vivette Lopez': 'Née le 27 décembre 1954',\n",
       " 'Mme Éliane Assassi': 'Née le 2 octobre 1958',\n",
       " 'Mme Éliane Giraud': 'Née le 12 mars 1952',\n",
       " 'Mme Élisabeth Doineau': 'Née le 7 avril 1961',\n",
       " 'Mme Élisabeth Lamure': 'Née le 20 novembre 1947',\n",
       " 'Mme Évelyne Didier': 'Née le 14 mars 1948'}"
      ]
     },
     "execution_count": 98,
     "metadata": {},
     "output_type": "execute_result"
    }
   ],
   "source": [
    "birthdates"
   ]
  },
  {
   "cell_type": "markdown",
   "metadata": {},
   "source": [
    "On peut facilement construire une dataframe pandas avec ces données :"
   ]
  },
  {
   "cell_type": "code",
   "execution_count": 99,
   "metadata": {
    "collapsed": true
   },
   "outputs": [],
   "source": [
    "import pandas as pd"
   ]
  },
  {
   "cell_type": "code",
   "execution_count": 112,
   "metadata": {
    "collapsed": false
   },
   "outputs": [
    {
     "data": {
      "text/html": [
       "<div>\n",
       "<table border=\"1\" class=\"dataframe\">\n",
       "  <thead>\n",
       "    <tr style=\"text-align: right;\">\n",
       "      <th></th>\n",
       "      <th>Nom</th>\n",
       "      <th>Date de naissance</th>\n",
       "    </tr>\n",
       "  </thead>\n",
       "  <tbody>\n",
       "    <tr>\n",
       "      <th>0</th>\n",
       "      <td>M. Michel Mercier</td>\n",
       "      <td>Né le 7 mars 1947</td>\n",
       "    </tr>\n",
       "    <tr>\n",
       "      <th>1</th>\n",
       "      <td>Mme Caroline Cayeux</td>\n",
       "      <td>Née le 1er novembre 1948</td>\n",
       "    </tr>\n",
       "    <tr>\n",
       "      <th>2</th>\n",
       "      <td>M. David Assouline</td>\n",
       "      <td>Né le 16 juin 1959</td>\n",
       "    </tr>\n",
       "    <tr>\n",
       "      <th>3</th>\n",
       "      <td>Mme Lana Tetuanui</td>\n",
       "      <td>Née le 23 février 1970</td>\n",
       "    </tr>\n",
       "    <tr>\n",
       "      <th>4</th>\n",
       "      <td>M. Pierre Charon</td>\n",
       "      <td>Né le 1er mars 1951</td>\n",
       "    </tr>\n",
       "  </tbody>\n",
       "</table>\n",
       "</div>"
      ],
      "text/plain": [
       "                   Nom         Date de naissance\n",
       "0    M. Michel Mercier         Né le 7 mars 1947\n",
       "1  Mme Caroline Cayeux  Née le 1er novembre 1948\n",
       "2   M. David Assouline        Né le 16 juin 1959\n",
       "3    Mme Lana Tetuanui    Née le 23 février 1970\n",
       "4     M. Pierre Charon       Né le 1er mars 1951"
      ]
     },
     "execution_count": 112,
     "metadata": {},
     "output_type": "execute_result"
    }
   ],
   "source": [
    "df = pd.DataFrame(data=[(key, birthdates[key]) for key in birthdates], \n",
    "             columns=('Nom', 'Date de naissance'))\n",
    "df.head()"
   ]
  },
  {
   "cell_type": "markdown",
   "metadata": {},
   "source": [
    "On peut, comme dans mon billet précédent, calculer des dates de naissance numériques à l'aide de ces données :"
   ]
  },
  {
   "cell_type": "code",
   "execution_count": 109,
   "metadata": {
    "collapsed": true
   },
   "outputs": [],
   "source": [
    "def convert2date(date_str):\n",
    "    d = {'janvier': 1, 'février': 2, 'mars': 3, 'avril': 4,\n",
    "         'mai': 5, 'juin': 6, 'juillet': 7, 'août': 8, \n",
    "         'septembre': 9, 'octobre': 10, 'novembre': 11, 'décembre':12}\n",
    "    splits = date_str.split(' ')[2:]\n",
    "    \n",
    "    if splits[0].startswith('1er'):\n",
    "        splits.pop(0)\n",
    "        splits.insert(0, '1')\n",
    "    \n",
    "    return pd.Timestamp(splits[2] + '/' + str(d[splits[1]]) + '/' + splits[0])"
   ]
  },
  {
   "cell_type": "code",
   "execution_count": 115,
   "metadata": {
    "collapsed": false
   },
   "outputs": [],
   "source": [
    "df['Date de naissance2'] = df['Date de naissance'].map(convert2date)"
   ]
  },
  {
   "cell_type": "code",
   "execution_count": 116,
   "metadata": {
    "collapsed": false
   },
   "outputs": [
    {
     "data": {
      "text/html": [
       "<div>\n",
       "<table border=\"1\" class=\"dataframe\">\n",
       "  <thead>\n",
       "    <tr style=\"text-align: right;\">\n",
       "      <th></th>\n",
       "      <th>Nom</th>\n",
       "      <th>Date de naissance</th>\n",
       "      <th>Date de naissance2</th>\n",
       "    </tr>\n",
       "  </thead>\n",
       "  <tbody>\n",
       "    <tr>\n",
       "      <th>0</th>\n",
       "      <td>M. Michel Mercier</td>\n",
       "      <td>Né le 7 mars 1947</td>\n",
       "      <td>1947-03-07</td>\n",
       "    </tr>\n",
       "    <tr>\n",
       "      <th>1</th>\n",
       "      <td>Mme Caroline Cayeux</td>\n",
       "      <td>Née le 1er novembre 1948</td>\n",
       "      <td>1948-11-01</td>\n",
       "    </tr>\n",
       "    <tr>\n",
       "      <th>2</th>\n",
       "      <td>M. David Assouline</td>\n",
       "      <td>Né le 16 juin 1959</td>\n",
       "      <td>1959-06-16</td>\n",
       "    </tr>\n",
       "    <tr>\n",
       "      <th>3</th>\n",
       "      <td>Mme Lana Tetuanui</td>\n",
       "      <td>Née le 23 février 1970</td>\n",
       "      <td>1970-02-23</td>\n",
       "    </tr>\n",
       "    <tr>\n",
       "      <th>4</th>\n",
       "      <td>M. Pierre Charon</td>\n",
       "      <td>Né le 1er mars 1951</td>\n",
       "      <td>1951-03-01</td>\n",
       "    </tr>\n",
       "  </tbody>\n",
       "</table>\n",
       "</div>"
      ],
      "text/plain": [
       "                   Nom         Date de naissance Date de naissance2\n",
       "0    M. Michel Mercier         Né le 7 mars 1947         1947-03-07\n",
       "1  Mme Caroline Cayeux  Née le 1er novembre 1948         1948-11-01\n",
       "2   M. David Assouline        Né le 16 juin 1959         1959-06-16\n",
       "3    Mme Lana Tetuanui    Née le 23 février 1970         1970-02-23\n",
       "4     M. Pierre Charon       Né le 1er mars 1951         1951-03-01"
      ]
     },
     "execution_count": 116,
     "metadata": {},
     "output_type": "execute_result"
    }
   ],
   "source": [
    "df.head()"
   ]
  },
  {
   "cell_type": "markdown",
   "metadata": {},
   "source": [
    "Enfin, on peut calculer l'âge de chaque sénateur :"
   ]
  },
  {
   "cell_type": "code",
   "execution_count": 114,
   "metadata": {
    "collapsed": true
   },
   "outputs": [],
   "source": [
    "import datetime"
   ]
  },
  {
   "cell_type": "code",
   "execution_count": 120,
   "metadata": {
    "collapsed": false
   },
   "outputs": [],
   "source": [
    "df['Âge'] = pd.Timestamp(datetime.date.today()) - df['Date de naissance2']\n",
    "df['Âge (années)'] = [x.days / 365.25 for x in df['Âge']]"
   ]
  },
  {
   "cell_type": "code",
   "execution_count": 121,
   "metadata": {
    "collapsed": false
   },
   "outputs": [
    {
     "data": {
      "text/html": [
       "<div>\n",
       "<table border=\"1\" class=\"dataframe\">\n",
       "  <thead>\n",
       "    <tr style=\"text-align: right;\">\n",
       "      <th></th>\n",
       "      <th>Nom</th>\n",
       "      <th>Date de naissance</th>\n",
       "      <th>Date de naissance2</th>\n",
       "      <th>Âge</th>\n",
       "      <th>Âge (années)</th>\n",
       "    </tr>\n",
       "  </thead>\n",
       "  <tbody>\n",
       "    <tr>\n",
       "      <th>0</th>\n",
       "      <td>M. Michel Mercier</td>\n",
       "      <td>Né le 7 mars 1947</td>\n",
       "      <td>1947-03-07</td>\n",
       "      <td>25147 days</td>\n",
       "      <td>68.848734</td>\n",
       "    </tr>\n",
       "    <tr>\n",
       "      <th>1</th>\n",
       "      <td>Mme Caroline Cayeux</td>\n",
       "      <td>Née le 1er novembre 1948</td>\n",
       "      <td>1948-11-01</td>\n",
       "      <td>24542 days</td>\n",
       "      <td>67.192334</td>\n",
       "    </tr>\n",
       "    <tr>\n",
       "      <th>2</th>\n",
       "      <td>M. David Assouline</td>\n",
       "      <td>Né le 16 juin 1959</td>\n",
       "      <td>1959-06-16</td>\n",
       "      <td>20663 days</td>\n",
       "      <td>56.572211</td>\n",
       "    </tr>\n",
       "    <tr>\n",
       "      <th>3</th>\n",
       "      <td>Mme Lana Tetuanui</td>\n",
       "      <td>Née le 23 février 1970</td>\n",
       "      <td>1970-02-23</td>\n",
       "      <td>16758 days</td>\n",
       "      <td>45.880903</td>\n",
       "    </tr>\n",
       "    <tr>\n",
       "      <th>4</th>\n",
       "      <td>M. Pierre Charon</td>\n",
       "      <td>Né le 1er mars 1951</td>\n",
       "      <td>1951-03-01</td>\n",
       "      <td>23692 days</td>\n",
       "      <td>64.865161</td>\n",
       "    </tr>\n",
       "  </tbody>\n",
       "</table>\n",
       "</div>"
      ],
      "text/plain": [
       "                   Nom         Date de naissance Date de naissance2  \\\n",
       "0    M. Michel Mercier         Né le 7 mars 1947         1947-03-07   \n",
       "1  Mme Caroline Cayeux  Née le 1er novembre 1948         1948-11-01   \n",
       "2   M. David Assouline        Né le 16 juin 1959         1959-06-16   \n",
       "3    Mme Lana Tetuanui    Née le 23 février 1970         1970-02-23   \n",
       "4     M. Pierre Charon       Né le 1er mars 1951         1951-03-01   \n",
       "\n",
       "         Âge  Âge (années)  \n",
       "0 25147 days     68.848734  \n",
       "1 24542 days     67.192334  \n",
       "2 20663 days     56.572211  \n",
       "3 16758 days     45.880903  \n",
       "4 23692 days     64.865161  "
      ]
     },
     "execution_count": 121,
     "metadata": {},
     "output_type": "execute_result"
    }
   ],
   "source": [
    "df.head()"
   ]
  },
  {
   "cell_type": "markdown",
   "metadata": {},
   "source": [
    "# Analyse des données recueillies "
   ]
  },
  {
   "cell_type": "markdown",
   "metadata": {},
   "source": [
    "On peut maintenant tracer de jolis histogrammes :"
   ]
  },
  {
   "cell_type": "code",
   "execution_count": 125,
   "metadata": {
    "collapsed": true
   },
   "outputs": [],
   "source": [
    "%matplotlib inline\n",
    "import matplotlib.pyplot as plt\n",
    "plt.style.use('ggplot')"
   ]
  },
  {
   "cell_type": "code",
   "execution_count": 127,
   "metadata": {
    "collapsed": false
   },
   "outputs": [
    {
     "data": {
      "text/plain": [
       "<matplotlib.text.Text at 0xb225f60>"
      ]
     },
     "execution_count": 127,
     "metadata": {},
     "output_type": "execute_result"
    },
    {
     "data": {
      "image/png": "[encoded data removed]",
      "text/plain": [
       "<matplotlib.figure.Figure at 0xac6df60>"
      ]
     },
     "metadata": {},
     "output_type": "display_data"
    }
   ],
   "source": [
    "df['Âge (années)'].hist()\n",
    "plt.xlabel('âge')\n",
    "plt.title('histogramme des âges des sénateurs')"
   ]
  },
  {
   "cell_type": "markdown",
   "metadata": {},
   "source": [
    "On peut demander à pandas de nous calculer les données statistiques usuelles pour ces âges :"
   ]
  },
  {
   "cell_type": "markdown",
   "metadata": {},
   "source": [
    "Afin de comparer ces âges à la population française, nous réutilisons le code de mon post précédent :"
   ]
  },
  {
   "cell_type": "code",
   "execution_count": 129,
   "metadata": {
    "collapsed": true
   },
   "outputs": [],
   "source": [
    "df_pop = pd.read_excel('http://www.insee.fr/fr/ppp/bases-de-donnees/donnees-detaillees/bilan-demo/fichiers-xls/pop-1janvier-fm.xls',\n",
    "                      skiprows=7,\n",
    "                      header=1,\n",
    "                      skipfooter=3)"
   ]
  },
  {
   "cell_type": "code",
   "execution_count": 130,
   "metadata": {
    "collapsed": true
   },
   "outputs": [],
   "source": [
    "decimation_factor = 1000\n",
    "french_pop_ages = []\n",
    "for ind, value in enumerate(df_pop['Ensemble']):\n",
    "    french_pop_ages += [ind for _ in range(int(value / decimation_factor))]"
   ]
  },
  {
   "cell_type": "code",
   "execution_count": 134,
   "metadata": {
    "collapsed": false
   },
   "outputs": [
    {
     "data": {
      "text/plain": [
       "<matplotlib.legend.Legend at 0xe23db70>"
      ]
     },
     "execution_count": 134,
     "metadata": {},
     "output_type": "execute_result"
    },
    {
     "data": {
      "image/png": "[encoded data removed]",
      "text/plain": [
       "<matplotlib.figure.Figure at 0xe16dbe0>"
      ]
     },
     "metadata": {},
     "output_type": "display_data"
    }
   ],
   "source": [
    "import numpy as np\n",
    "import statsmodels.api as sm # recommended import according to the docs\n",
    "\n",
    "age_grid = np.linspace(0, 100)\n",
    "ecdf_mp = sm.distributions.ECDF(df['Âge (années)'].values)\n",
    "ecdf_french_pop = sm.distributions.ECDF(french_pop_ages)\n",
    "y_mp = ecdf_mp(age_grid)\n",
    "y_french_pop = ecdf_french_pop(age_grid)\n",
    "plt.step(age_grid, y_mp, label='sénateurs')\n",
    "plt.step(age_grid, y_french_pop, label='population française')\n",
    "plt.legend(loc='upper left')"
   ]
  },
  {
   "cell_type": "markdown",
   "metadata": {},
   "source": [
    "Finalement, on peut passer à la comparaison des statistiques par quartiles :"
   ]
  },
  {
   "cell_type": "code",
   "execution_count": 128,
   "metadata": {
    "collapsed": false
   },
   "outputs": [
    {
     "data": {
      "text/plain": [
       "count    348.000000\n",
       "mean      62.775787\n",
       "std        9.039639\n",
       "min       28.109514\n",
       "25%       57.123203\n",
       "50%       63.930185\n",
       "75%       68.780972\n",
       "max       90.852841\n",
       "Name: Âge (années), dtype: float64"
      ]
     },
     "execution_count": 128,
     "metadata": {},
     "output_type": "execute_result"
    }
   ],
   "source": [
    "df['Âge (années)'].describe()"
   ]
  },
  {
   "cell_type": "code",
   "execution_count": 135,
   "metadata": {
    "collapsed": false
   },
   "outputs": [
    {
     "data": {
      "text/plain": [
       "count    64152.000000\n",
       "mean        40.538175\n",
       "std         24.030176\n",
       "min          0.000000\n",
       "25%         20.000000\n",
       "50%         41.000000\n",
       "75%         59.000000\n",
       "max        105.000000\n",
       "dtype: float64"
      ]
     },
     "execution_count": 135,
     "metadata": {},
     "output_type": "execute_result"
    }
   ],
   "source": [
    "pd.Series(french_pop_ages).describe()"
   ]
  },
  {
   "cell_type": "markdown",
   "metadata": {},
   "source": [
    "Finalement, on peut produire le tableau récapitulatif suivant :"
   ]
  },
  {
   "cell_type": "markdown",
   "metadata": {},
   "source": [
    "| population             | âge médian | âge minimal | âge maximal | 25% de la population a moins de | 50% a moins de | 50% a plus de | 25% a plus de |\n",
    "|------------------------|------------|-------------|-------------|---------------------------------|----------------|---------------|---------------|\n",
    "| les Français           | 41 ans     | 0 ans       | 105 ans     | 20 ans                          | 41 ans         | 41 ans        | 59 ans        |\n",
    "| les sénateurs français | 64 ans     | 28 ans      | 91 ans      | 57 ans                          | 64 ans         | 64 ans        | 69 ans        |"
   ]
  },
  {
   "cell_type": "markdown",
   "metadata": {},
   "source": [
    "# Conclusions "
   ]
  },
  {
   "cell_type": "markdown",
   "metadata": {},
   "source": [
    "Cette nouvelle analyse consolide l'idée selon laquelle les français sont représentés par des élus dans une tranche d'âge bien éloignée d'une répartition comparable à la population française.\n",
    "\n",
    "Evidemment, il est difficile de tirer des conclusions générales à partir de ce chiffre, mais il est frappant à quel point les sénateurs sont vieux par rapport disons, l'âge de la retraite. D'une certaine manière, la moitié des sénateurs ont plus que l'âge de la retraite."
   ]
  }
 ],
 "metadata": {
  "kernelspec": {
   "display_name": "Python 3",
   "language": "python",
   "name": "python3"
  },
  "language_info": {
   "codemirror_mode": {
    "name": "ipython",
    "version": 3
   },
   "file_extension": ".py",
   "mimetype": "text/x-python",
   "name": "python",
   "nbconvert_exporter": "python",
   "pygments_lexer": "ipython3",
   "version": "3.5.1"
  }
 },
 "nbformat": 4,
 "nbformat_minor": 0
}
