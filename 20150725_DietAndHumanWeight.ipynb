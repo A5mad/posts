{
 "cells": [
  {
   "cell_type": "code",
   "execution_count": 1,
   "metadata": {
    "collapsed": false
   },
   "outputs": [],
   "source": [
    "%matplotlib inline\n",
    "import matplotlib.pyplot as plt\n",
    "import numpy as np\n",
    "#import seaborn as sns; sns.set()"
   ]
  },
  {
   "cell_type": "markdown",
   "metadata": {},
   "source": [
    "# Computing daily energy needs"
   ]
  },
  {
   "cell_type": "markdown",
   "metadata": {},
   "source": [
    "First factor: your reference energy need."
   ]
  },
  {
   "cell_type": "code",
   "execution_count": 2,
   "metadata": {
    "collapsed": false
   },
   "outputs": [],
   "source": [
    "def energy_need_female(physical_activity, weight_kg, height_cm, age):\n",
    "    return physical_activity * (9.99 * weight_kg + 6.25 * height_cm - 4.92 * age - 161)"
   ]
  },
  {
   "cell_type": "code",
   "execution_count": 3,
   "metadata": {
    "collapsed": false
   },
   "outputs": [],
   "source": [
    "def energy_need_male(physical_activity, weight_kg, height_cm, age):\n",
    "    return physical_activity * (9.99 * weight_kg + 6.25 * height_cm - 4.92 * age + 5)"
   ]
  },
  {
   "cell_type": "code",
   "execution_count": 4,
   "metadata": {
    "collapsed": false
   },
   "outputs": [],
   "source": [
    "def print_energy(physical_activity, weight_kg, height_cm, age):\n",
    "    print(\"male: {} Cal, female: {} Cal\".format(energy_need_male(physical_activity, weight_kg, height_cm, age),\n",
    "                                                energy_need_female(physical_activity, weight_kg, height_cm, age)))"
   ]
  },
  {
   "cell_type": "code",
   "execution_count": 5,
   "metadata": {
    "collapsed": false
   },
   "outputs": [
    {
     "name": "stderr",
     "output_type": "stream",
     "text": [
      ":0: FutureWarning: IPython widgets are experimental and may change in the future.\n"
     ]
    }
   ],
   "source": [
    "from IPython.html.widgets import interact"
   ]
  },
  {
   "cell_type": "code",
   "execution_count": 6,
   "metadata": {
    "collapsed": false
   },
   "outputs": [
    {
     "name": "stdout",
     "output_type": "stream",
     "text": [
      "male: 2415.0559999999996 Cal, female: 2182.656 Cal\n"
     ]
    }
   ],
   "source": [
    "interact(print_energy,\n",
    "         physical_activity=(1.4, 1.8, 0.01),\n",
    "         weight_kg=(20, 150, 0.5),\n",
    "         height_cm=(150, 220, 0.5),\n",
    "         age=(18, 99))"
   ]
  },
  {
   "cell_type": "markdown",
   "metadata": {},
   "source": [
    "# Computing weight change over time"
   ]
  },
  {
   "cell_type": "markdown",
   "metadata": {},
   "source": [
    "Second factor: how long does it take to lose weight?"
   ]
  },
  {
   "cell_type": "markdown",
   "metadata": {},
   "source": [
    "Wishnofsky: to lose one kilogram of weight, you need to get rid of 7700 calories.\n",
    "\n",
    "The mecanism is easy:\n",
    "\n",
    "- compute a daily balance \n",
    "- convert the $\\Delta$ to grams\n",
    "- take into account the new energy need (you have lost weight and now need less energy)"
   ]
  },
  {
   "cell_type": "code",
   "execution_count": 7,
   "metadata": {
    "collapsed": false
   },
   "outputs": [],
   "source": [
    "class Person:\n",
    "    def __init__(self, sex, physical_activity, weight_kg, height_cm, age):\n",
    "        self.sex = sex\n",
    "        self.physical_activity = physical_activity\n",
    "        self.start_weight = weight_kg\n",
    "        self.height_cm = height_cm\n",
    "        self.start_age = age\n",
    "        \n",
    "        self.current_weight = weight_kg\n",
    "        self.current_age = age\n",
    "        \n",
    "    def energy_need(self):\n",
    "        if self.sex == 'male':\n",
    "            return energy_need_male(self.physical_activity, \n",
    "                           self.current_weight,\n",
    "                           self.height_cm,\n",
    "                           self.current_age)\n",
    "        elif self.sex == 'female':\n",
    "            return energy_need_female(self.physical_activity, \n",
    "                           self.current_weight,\n",
    "                           self.height_cm,\n",
    "                           self.current_age) \n",
    "    \n",
    "    def increment_day(self, daily_energy_intake):\n",
    "        energy_balance = daily_energy_intake - self.energy_need()\n",
    "        self.current_weight += energy_balance / 7700"
   ]
  },
  {
   "cell_type": "code",
   "execution_count": 8,
   "metadata": {
    "collapsed": false
   },
   "outputs": [],
   "source": [
    "p = Person('female', 1.5, 90, 165, 35)"
   ]
  },
  {
   "cell_type": "code",
   "execution_count": 28,
   "metadata": {
    "collapsed": false
   },
   "outputs": [
    {
     "data": {
      "text/plain": [
       "33.057851239669425"
      ]
     },
     "execution_count": 28,
     "metadata": {},
     "output_type": "execute_result"
    }
   ],
   "source": [
    "90 / 1.65 /1.65"
   ]
  },
  {
   "cell_type": "code",
   "execution_count": 9,
   "metadata": {
    "collapsed": false
   },
   "outputs": [
    {
     "data": {
      "text/plain": [
       "2395.725"
      ]
     },
     "execution_count": 9,
     "metadata": {},
     "output_type": "execute_result"
    }
   ],
   "source": [
    "p.energy_need()"
   ]
  },
  {
   "cell_type": "code",
   "execution_count": 10,
   "metadata": {
    "collapsed": false
   },
   "outputs": [
    {
     "data": {
      "text/plain": [
       "1895.725"
      ]
     },
     "execution_count": 10,
     "metadata": {},
     "output_type": "execute_result"
    }
   ],
   "source": [
    "delta = p.energy_need() - 500\n",
    "delta"
   ]
  },
  {
   "cell_type": "code",
   "execution_count": 29,
   "metadata": {
    "collapsed": false
   },
   "outputs": [
    {
     "data": {
      "text/plain": [
       "0.20833333333333334"
      ]
     },
     "execution_count": 29,
     "metadata": {},
     "output_type": "execute_result"
    }
   ],
   "source": [
    "500 / 2400"
   ]
  },
  {
   "cell_type": "markdown",
   "metadata": {},
   "source": [
    "One can simulate what happens to the weight by eating 500 Cal less than the required initial energy content."
   ]
  },
  {
   "cell_type": "code",
   "execution_count": 11,
   "metadata": {
    "collapsed": false
   },
   "outputs": [],
   "source": [
    "p = Person('female', 1.5, 90, 165, 35)\n",
    "\n",
    "t_days = range(365)\n",
    "weights = []\n",
    "\n",
    "for i in t_days:\n",
    "    weights.append(p.current_weight)\n",
    "    p.increment_day(delta)"
   ]
  },
  {
   "cell_type": "code",
   "execution_count": 12,
   "metadata": {
    "collapsed": false
   },
   "outputs": [
    {
     "data": {
      "text/plain": [
       "<matplotlib.text.Text at 0x1066f98d0>"
      ]
     },
     "execution_count": 12,
     "metadata": {},
     "output_type": "execute_result"
    },
    {
     "data": {
      "image/png": "[encoded data removed]",
      "text/plain": [
       "<matplotlib.figure.Figure at 0x1066e7a90>"
      ]
     },
     "metadata": {},
     "output_type": "display_data"
    }
   ],
   "source": [
    "plt.plot(t_days, weights)\n",
    "plt.xlabel('temps (jours)')\n",
    "plt.ylabel('poids (kg)')"
   ]
  },
  {
   "cell_type": "markdown",
   "metadata": {},
   "source": [
    "What about 5 years?"
   ]
  },
  {
   "cell_type": "code",
   "execution_count": 13,
   "metadata": {
    "collapsed": false
   },
   "outputs": [],
   "source": [
    "p = Person('female', 1.5, 90, 165, 35)\n",
    "\n",
    "t_days = range(365 * 5)\n",
    "weights = []\n",
    "\n",
    "for i in t_days:\n",
    "    weights.append(p.current_weight)\n",
    "    p.increment_day(delta)"
   ]
  },
  {
   "cell_type": "code",
   "execution_count": 14,
   "metadata": {
    "collapsed": false
   },
   "outputs": [
    {
     "data": {
      "text/plain": [
       "57.58873010537209"
      ]
     },
     "execution_count": 14,
     "metadata": {},
     "output_type": "execute_result"
    }
   ],
   "source": [
    "weights[-1]"
   ]
  },
  {
   "cell_type": "code",
   "execution_count": 15,
   "metadata": {
    "collapsed": false
   },
   "outputs": [
    {
     "data": {
      "text/plain": [
       "<matplotlib.text.Text at 0x1067cc8d0>"
      ]
     },
     "execution_count": 15,
     "metadata": {},
     "output_type": "execute_result"
    },
    {
     "data": {
      "image/png": "[encoded data removed]",
      "text/plain": [
       "<matplotlib.figure.Figure at 0x1067b25f8>"
      ]
     },
     "metadata": {},
     "output_type": "display_data"
    }
   ],
   "source": [
    "plt.plot(np.array(t_days) / 365., weights)\n",
    "plt.xlabel(u'time (years)')\n",
    "plt.ylabel('weight (kg)')"
   ]
  },
  {
   "cell_type": "markdown",
   "metadata": {},
   "source": [
    "We can do an interactive simulation for any person based on the same type of computation:"
   ]
  },
  {
   "cell_type": "code",
   "execution_count": 16,
   "metadata": {
    "collapsed": false
   },
   "outputs": [],
   "source": [
    "def plot_simulation(sex, physical_activity, weight_kg, height_cm, age, caloric_delta_from_starting_weight):\n",
    "    p = Person(sex, physical_activity, weight_kg, height_cm, age)\n",
    "    \n",
    "    initial_energy_need = p.energy_need()\n",
    "    daily_consumption = initial_energy_need - caloric_delta_from_starting_weight\n",
    "\n",
    "    t_days = range(365 * 10)\n",
    "    weights = []\n",
    "    for i in t_days:\n",
    "        weights.append(p.current_weight)\n",
    "        p.increment_day(daily_consumption)\n",
    "        \n",
    "        \n",
    "    plt.plot(np.array(t_days) / 365., weights)\n",
    "    plt.xlabel(u'time (years)')\n",
    "    plt.ylabel('weight (kg)')"
   ]
  },
  {
   "cell_type": "code",
   "execution_count": 17,
   "metadata": {
    "collapsed": false
   },
   "outputs": [
    {
     "data": {
      "image/png": "[encoded data removed]",
      "text/plain": [
       "<matplotlib.figure.Figure at 0x106f735c0>"
      ]
     },
     "metadata": {},
     "output_type": "display_data"
    }
   ],
   "source": [
    "interact(plot_simulation,\n",
    "         sex=['male', 'female'],\n",
    "         physical_activity=(1.4, 1.8, 0.01),\n",
    "         weight_kg=(20, 150, 0.5),\n",
    "         height_cm=(150, 220, 0.5),\n",
    "         age=(18, 99),\n",
    "         caloric_delta_from_starting_weight=(-2000, 2000, 10))"
   ]
  },
  {
   "cell_type": "markdown",
   "metadata": {},
   "source": [
    "# Taking into account the age in the weight change over time"
   ]
  },
  {
   "cell_type": "code",
   "execution_count": 18,
   "metadata": {
    "collapsed": false
   },
   "outputs": [],
   "source": [
    "class AgingPerson(Person):\n",
    "    def increment_day(self, daily_energy_intake):\n",
    "        energy_balance = daily_energy_intake - self.energy_need()\n",
    "        self.current_weight += energy_balance / 7700\n",
    "        self.current_age += 1 / 365."
   ]
  },
  {
   "cell_type": "code",
   "execution_count": 19,
   "metadata": {
    "collapsed": false
   },
   "outputs": [],
   "source": [
    "def plot_simulation_with_aging(sex, physical_activity, weight_kg, height_cm, age, caloric_delta_from_starting_weight):\n",
    "    p = AgingPerson(sex, physical_activity, weight_kg, height_cm, age)\n",
    "    \n",
    "    initial_energy_need = p.energy_need()\n",
    "    daily_consumption = initial_energy_need - caloric_delta_from_starting_weight\n",
    "\n",
    "    t_days = range(365 * 10)\n",
    "    weights = []\n",
    "    for i in t_days:\n",
    "        weights.append(p.current_weight)\n",
    "        p.increment_day(daily_consumption)\n",
    "        \n",
    "        \n",
    "    plt.plot(np.array(t_days) / 365., weights)\n",
    "    plt.xlabel(u'time (years)')\n",
    "    plt.ylabel('weight (kg)')"
   ]
  },
  {
   "cell_type": "code",
   "execution_count": 20,
   "metadata": {
    "collapsed": false
   },
   "outputs": [
    {
     "data": {
      "image/png": "[encoded data removed]",
      "text/plain": [
       "<matplotlib.figure.Figure at 0x10764a5f8>"
      ]
     },
     "metadata": {},
     "output_type": "display_data"
    }
   ],
   "source": [
    "interact(plot_simulation_with_aging,\n",
    "         sex=['male', 'female'],\n",
    "         physical_activity=(1.4, 1.8, 0.01),\n",
    "         weight_kg=(20, 150, 0.5),\n",
    "         height_cm=(150, 220, 0.5),\n",
    "         age=(18, 99),\n",
    "         caloric_delta_from_starting_weight=(-2000, 2000, 10))"
   ]
  },
  {
   "cell_type": "markdown",
   "metadata": {},
   "source": [
    "What we see now is the effect of aging: the older you are, the less energy you need. So eating the same amount of food will, at some point, will make you gain weight."
   ]
  },
  {
   "cell_type": "markdown",
   "metadata": {},
   "source": [
    "# The problem with weighing yourself"
   ]
  },
  {
   "cell_type": "markdown",
   "metadata": {},
   "source": [
    "It is known from the litterature that your weight fluctuates daily with important variations. Suppose you weight 70 kilos, your weight might be between 68 and 72 kilos. We can simulate the real weight measured over 15 days with very little code:"
   ]
  },
  {
   "cell_type": "code",
   "execution_count": 21,
   "metadata": {
    "collapsed": false
   },
   "outputs": [],
   "source": [
    "np.random.seed(42)\n",
    "weights = np.random.random(size=15) * 4 - 2 + 70"
   ]
  },
  {
   "cell_type": "markdown",
   "metadata": {},
   "source": [
    "Let's plot this:"
   ]
  },
  {
   "cell_type": "code",
   "execution_count": 22,
   "metadata": {
    "collapsed": false
   },
   "outputs": [
    {
     "data": {
      "text/plain": [
       "<matplotlib.text.Text at 0x106b2f4a8>"
      ]
     },
     "execution_count": 22,
     "metadata": {},
     "output_type": "execute_result"
    },
    {
     "data": {
      "image/png": "[encoded data removed]",
      "text/plain": [
       "<matplotlib.figure.Figure at 0x106a7fcf8>"
      ]
     },
     "metadata": {},
     "output_type": "display_data"
    }
   ],
   "source": [
    "plt.plot(weights)\n",
    "plt.xlabel('day')\n",
    "plt.ylabel('weight')"
   ]
  },
  {
   "cell_type": "markdown",
   "metadata": {},
   "source": [
    "Now suppose you measure your weight every week once. This corresponds to measures on day 0 and 7. Your measured average will be:"
   ]
  },
  {
   "cell_type": "code",
   "execution_count": 23,
   "metadata": {
    "collapsed": false
   },
   "outputs": [
    {
     "data": {
      "text/plain": [
       "70.4814325292446"
      ]
     },
     "execution_count": 23,
     "metadata": {},
     "output_type": "execute_result"
    }
   ],
   "source": [
    "(weights[0] + weights[7])/2."
   ]
  },
  {
   "cell_type": "markdown",
   "metadata": {},
   "source": [
    "If you do that, you might think you gained weight since you last weighed yourself. What if you measured yourself on the fourth day of every week?"
   ]
  },
  {
   "cell_type": "code",
   "execution_count": 24,
   "metadata": {
    "collapsed": false
   },
   "outputs": [
    {
     "data": {
      "text/plain": [
       "69.238485956985684"
      ]
     },
     "execution_count": 24,
     "metadata": {},
     "output_type": "execute_result"
    }
   ],
   "source": [
    "(weights[3] + weights[10])/2."
   ]
  },
  {
   "cell_type": "markdown",
   "metadata": {},
   "source": [
    "In that case you migth think you have lost some weight, even if you haven't. \n",
    "\n",
    "The point is: due to the randome fluctuations of your weight, you should measure it more often than not! Practically, this means that if you average your weight over every day in the last two weeks, you fill get an accurate measurement of your weight:"
   ]
  },
  {
   "cell_type": "code",
   "execution_count": 25,
   "metadata": {
    "collapsed": false
   },
   "outputs": [
    {
     "data": {
      "text/plain": [
       "69.978258246578747"
      ]
     },
     "execution_count": 25,
     "metadata": {},
     "output_type": "execute_result"
    }
   ],
   "source": [
    "weights.mean()"
   ]
  },
  {
   "cell_type": "markdown",
   "metadata": {},
   "source": [
    "See? Very close to 70 kilograms!\n",
    "\n",
    "To demonstrate the effect of this \"how often do your weigh yourself\", we can write a little program that takes as input the period of measurement (14 days in our previous example) and the interval between each time you weigh yourself during that period. Based on this data, we can compute the mean error based on the fact that the true weight is known as a simulation input:"
   ]
  },
  {
   "cell_type": "code",
   "execution_count": 26,
   "metadata": {
    "collapsed": false
   },
   "outputs": [],
   "source": [
    "def simulate_weight_measurement(true_weight, observation_period, measure_every_x_days):\n",
    "    weights = true_weight + np.random.random(size=observation_period * 1000) * 4 - 2\n",
    "    measured_error = (true_weight - np.mean(weights[::measure_every_x_days])) / true_weight\n",
    "    return np.abs(measured_error.mean())"
   ]
  },
  {
   "cell_type": "code",
   "execution_count": 27,
   "metadata": {
    "collapsed": false
   },
   "outputs": [
    {
     "data": {
      "text/plain": [
       "0.032158549091535954"
      ]
     },
     "execution_count": 27,
     "metadata": {},
     "output_type": "execute_result"
    }
   ],
   "source": [
    "simulate_weight_measurement(70, 7, 7) * 100"
   ]
  },
  {
   "cell_type": "code",
   "execution_count": null,
   "metadata": {
    "collapsed": false
   },
   "outputs": [],
   "source": []
  },
  {
   "cell_type": "code",
   "execution_count": null,
   "metadata": {
    "collapsed": false
   },
   "outputs": [],
   "source": []
  }
 ],
 "metadata": {
  "kernelspec": {
   "display_name": "Python 3",
   "language": "python",
   "name": "python3"
  },
  "language_info": {
   "codemirror_mode": {
    "name": "ipython",
    "version": 3
   },
   "file_extension": ".py",
   "mimetype": "text/x-python",
   "name": "python",
   "nbconvert_exporter": "python",
   "pygments_lexer": "ipython3",
   "version": "3.4.3"
  }
 },
 "nbformat": 4,
 "nbformat_minor": 0
}
